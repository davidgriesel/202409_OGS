{
 "cells": [
  {
   "cell_type": "markdown",
   "id": "b62351c0-8213-46ec-b075-8ee2831ba4fd",
   "metadata": {},
   "source": [
    "# Contents\n",
    "1. Imports\n",
    "2. Checks\n",
    "3. Merging\n",
    "4. Exports"
   ]
  },
  {
   "cell_type": "markdown",
   "id": "98342b01-cd3e-4b5f-8672-c9bb259919a3",
   "metadata": {},
   "source": [
    "# 1. Imports"
   ]
  },
  {
   "cell_type": "code",
   "execution_count": 83,
   "id": "6b3d947a-2050-4ab6-be0f-44e2614162a9",
   "metadata": {},
   "outputs": [],
   "source": [
    "#Libraries\n",
    "import pandas as pd\n",
    "import numpy as np\n",
    "import os"
   ]
  },
  {
   "cell_type": "code",
   "execution_count": 84,
   "id": "49e4bdb7-6c0e-46f8-8d10-c7b9cca73530",
   "metadata": {},
   "outputs": [],
   "source": [
    "#Path\n",
    "path = r'/Users/davidgriesel/Documents/Analytics/Projects/Online Grocery Store'"
   ]
  },
  {
   "cell_type": "code",
   "execution_count": 85,
   "id": "e0b2fca9-af71-4c26-b635-c7fcde07a503",
   "metadata": {},
   "outputs": [],
   "source": [
    "#Dataset 1\n",
    "df_orders = pd.read_pickle(os.path.join(path, '02 - Data', 'Prepared Data', 'cleaned_orders.pkl'))"
   ]
  },
  {
   "cell_type": "code",
   "execution_count": 86,
   "id": "c5da2d61-7d63-4fa2-a3d8-e5fce936585b",
   "metadata": {},
   "outputs": [
    {
     "ename": "KeyboardInterrupt",
     "evalue": "",
     "output_type": "error",
     "traceback": [
      "\u001b[0;31m---------------------------------------------------------------------------\u001b[0m",
      "\u001b[0;31mKeyboardInterrupt\u001b[0m                         Traceback (most recent call last)",
      "Cell \u001b[0;32mIn[86], line 2\u001b[0m\n\u001b[1;32m      1\u001b[0m \u001b[38;5;66;03m#Dataset 2\u001b[39;00m\n\u001b[0;32m----> 2\u001b[0m df_orders_products \u001b[38;5;241m=\u001b[39m pd\u001b[38;5;241m.\u001b[39mread_pickle(os\u001b[38;5;241m.\u001b[39mpath\u001b[38;5;241m.\u001b[39mjoin(path, \u001b[38;5;124m'\u001b[39m\u001b[38;5;124m02 - Data\u001b[39m\u001b[38;5;124m'\u001b[39m, \u001b[38;5;124m'\u001b[39m\u001b[38;5;124mPrepared Data\u001b[39m\u001b[38;5;124m'\u001b[39m, \u001b[38;5;124m'\u001b[39m\u001b[38;5;124mcleaned_orders_products.pkl\u001b[39m\u001b[38;5;124m'\u001b[39m))\n",
      "File \u001b[0;32m/opt/anaconda3/lib/python3.12/site-packages/pandas/io/pickle.py:202\u001b[0m, in \u001b[0;36mread_pickle\u001b[0;34m(filepath_or_buffer, compression, storage_options)\u001b[0m\n\u001b[1;32m    199\u001b[0m     \u001b[38;5;28;01mwith\u001b[39;00m warnings\u001b[38;5;241m.\u001b[39mcatch_warnings(record\u001b[38;5;241m=\u001b[39m\u001b[38;5;28;01mTrue\u001b[39;00m):\n\u001b[1;32m    200\u001b[0m         \u001b[38;5;66;03m# We want to silence any warnings about, e.g. moved modules.\u001b[39;00m\n\u001b[1;32m    201\u001b[0m         warnings\u001b[38;5;241m.\u001b[39msimplefilter(\u001b[38;5;124m\"\u001b[39m\u001b[38;5;124mignore\u001b[39m\u001b[38;5;124m\"\u001b[39m, \u001b[38;5;167;01mWarning\u001b[39;00m)\n\u001b[0;32m--> 202\u001b[0m         \u001b[38;5;28;01mreturn\u001b[39;00m pickle\u001b[38;5;241m.\u001b[39mload(handles\u001b[38;5;241m.\u001b[39mhandle)\n\u001b[1;32m    203\u001b[0m \u001b[38;5;28;01mexcept\u001b[39;00m excs_to_catch:\n\u001b[1;32m    204\u001b[0m     \u001b[38;5;66;03m# e.g.\u001b[39;00m\n\u001b[1;32m    205\u001b[0m     \u001b[38;5;66;03m#  \"No module named 'pandas.core.sparse.series'\"\u001b[39;00m\n\u001b[1;32m    206\u001b[0m     \u001b[38;5;66;03m#  \"Can't get attribute '__nat_unpickle' on <module 'pandas._libs.tslib\"\u001b[39;00m\n\u001b[1;32m    207\u001b[0m     \u001b[38;5;28;01mreturn\u001b[39;00m pc\u001b[38;5;241m.\u001b[39mload(handles\u001b[38;5;241m.\u001b[39mhandle, encoding\u001b[38;5;241m=\u001b[39m\u001b[38;5;28;01mNone\u001b[39;00m)\n",
      "\u001b[0;31mKeyboardInterrupt\u001b[0m: "
     ]
    }
   ],
   "source": [
    "#Dataset 2\n",
    "df_orders_products = pd.read_pickle(os.path.join(path, '02 - Data', 'Prepared Data', 'cleaned_orders_products.pkl'))"
   ]
  },
  {
   "cell_type": "code",
   "execution_count": null,
   "id": "8118079c-3543-4c83-a8e6-5bacfce0c23b",
   "metadata": {},
   "outputs": [],
   "source": [
    "#Dataset 3\n",
    "df_products = pd.read_pickle(os.path.join(path, '02 - Data', 'Prepared Data', 'cleaned_products.pkl'))"
   ]
  },
  {
   "cell_type": "code",
   "execution_count": null,
   "id": "abdc7e5e-9541-4b0e-bee1-a80863933d6c",
   "metadata": {},
   "outputs": [],
   "source": [
    "#Dataset 4\n",
    "df_customers = pd.read_pickle(os.path.join(path, '02 - Data', 'Prepared Data', 'cleaned_customers.pkl'))"
   ]
  },
  {
   "cell_type": "markdown",
   "id": "3ee116d7-86e7-4895-b070-0f1e44c83288",
   "metadata": {},
   "source": [
    "# 2. Checks"
   ]
  },
  {
   "cell_type": "markdown",
   "id": "d83dc832-c12a-484c-ab2c-cad1274da24a",
   "metadata": {},
   "source": [
    "## 2.1. Orders"
   ]
  },
  {
   "cell_type": "code",
   "execution_count": null,
   "id": "aded9b0d-734d-4682-ba73-104eb25d4ff6",
   "metadata": {},
   "outputs": [],
   "source": [
    "#Dimensions\n",
    "df_orders.shape"
   ]
  },
  {
   "cell_type": "code",
   "execution_count": null,
   "id": "1fc4b500-eeac-4667-957d-95e225717d14",
   "metadata": {},
   "outputs": [],
   "source": [
    "#Preview\n",
    "df_orders.head()"
   ]
  },
  {
   "cell_type": "markdown",
   "id": "f1b07d63-9eb4-4972-bd66-4342e496c5b9",
   "metadata": {},
   "source": [
    "##### Observations:\n",
    "- Consistent with cleaned dataset"
   ]
  },
  {
   "cell_type": "markdown",
   "id": "e3995caf-3cee-4715-82d7-de72734b2718",
   "metadata": {},
   "source": [
    "## 2.2. Orders Products"
   ]
  },
  {
   "cell_type": "code",
   "execution_count": null,
   "id": "0babd1a5-97be-4ecb-93c7-2be08e6e61e0",
   "metadata": {},
   "outputs": [],
   "source": [
    "#Dimensions\n",
    "df_orders_products.shape"
   ]
  },
  {
   "cell_type": "code",
   "execution_count": null,
   "id": "ad0b2ec3-faf8-48ce-9299-1a4bc7ba0b75",
   "metadata": {},
   "outputs": [],
   "source": [
    "#Preview\n",
    "df_orders_products.head()"
   ]
  },
  {
   "cell_type": "markdown",
   "id": "00169ad1-33dd-4592-adca-efe61b09b532",
   "metadata": {},
   "source": [
    "##### Observations:\n",
    "- Consistent with cleaned dataset"
   ]
  },
  {
   "cell_type": "markdown",
   "id": "c2e4ca95-45b4-4b52-908f-e9a732021780",
   "metadata": {},
   "source": [
    "## 2.3. Products"
   ]
  },
  {
   "cell_type": "code",
   "execution_count": null,
   "id": "83fba7fc-544c-4af9-b9de-2bd7f1846f99",
   "metadata": {
    "editable": true,
    "slideshow": {
     "slide_type": ""
    },
    "tags": []
   },
   "outputs": [],
   "source": [
    "#Dimensions\n",
    "df_products.shape"
   ]
  },
  {
   "cell_type": "code",
   "execution_count": null,
   "id": "98d37bb8-4f40-4a03-a13f-e51c0abb4c9c",
   "metadata": {},
   "outputs": [],
   "source": [
    "#Preview\n",
    "df_products.head()"
   ]
  },
  {
   "cell_type": "markdown",
   "id": "c79a925e-8f80-4c8f-b09d-cd1bae7b6608",
   "metadata": {},
   "source": [
    "##### Observations:\n",
    "- Consistent with cleaned dataset"
   ]
  },
  {
   "cell_type": "markdown",
   "id": "01f62cf2-e915-44f4-9b7e-e6348605c027",
   "metadata": {
    "editable": true,
    "slideshow": {
     "slide_type": ""
    },
    "tags": []
   },
   "source": [
    "## 2.4. Customers"
   ]
  },
  {
   "cell_type": "code",
   "execution_count": null,
   "id": "11eccee5-53e8-4eef-92d2-a1103f95575c",
   "metadata": {},
   "outputs": [],
   "source": [
    "#Dimensions\n",
    "df_customers.shape"
   ]
  },
  {
   "cell_type": "code",
   "execution_count": null,
   "id": "69353001-24ba-40b2-b3af-f386d71ff17a",
   "metadata": {},
   "outputs": [],
   "source": [
    "#Preview\n",
    "df_customers.head()"
   ]
  },
  {
   "cell_type": "markdown",
   "id": "eeb26ca9-fbf0-4cd3-b258-e159ddf2f783",
   "metadata": {},
   "source": [
    "##### Observations:\n",
    "- Consistent with cleaned dataset"
   ]
  },
  {
   "cell_type": "markdown",
   "id": "911ec11b-9ecf-4eac-9550-7410af501f1e",
   "metadata": {
    "editable": true,
    "slideshow": {
     "slide_type": ""
    },
    "tags": []
   },
   "source": [
    "# 3. Merging"
   ]
  },
  {
   "cell_type": "markdown",
   "id": "a60a2153-1a28-40b9-8160-4f7903e57946",
   "metadata": {},
   "source": [
    "## 3.1. Merge 1 (Orders & Orders Products)"
   ]
  },
  {
   "cell_type": "code",
   "execution_count": null,
   "id": "caa511c9-8fda-4dfa-8476-d99192ab05e2",
   "metadata": {},
   "outputs": [],
   "source": [
    "#Merge using inner join on order_id with merge flag\n",
    "df_merge_1 = df_orders.merge(df_orders_products, on = 'order_id', how = 'inner', indicator = True)"
   ]
  },
  {
   "cell_type": "code",
   "execution_count": null,
   "id": "43e159f0-93b9-41c7-a954-ffb99137282b",
   "metadata": {},
   "outputs": [],
   "source": [
    "#Check merge rate\n",
    "df_merge_1['_merge'].value_counts()"
   ]
  },
  {
   "cell_type": "code",
   "execution_count": null,
   "id": "b48ed56e-371e-4c57-812b-845397b52c46",
   "metadata": {},
   "outputs": [],
   "source": [
    "#Confirm dimensions\n",
    "df_merge_1.shape"
   ]
  },
  {
   "cell_type": "code",
   "execution_count": null,
   "id": "2e58d86d-7cd5-4263-b64f-6ed4d4c05387",
   "metadata": {
    "scrolled": true
   },
   "outputs": [],
   "source": [
    "#Preview\n",
    "df_merge_1.head()"
   ]
  },
  {
   "cell_type": "code",
   "execution_count": null,
   "id": "121ab295-ff12-41ae-bc78-7008d9d3f5f3",
   "metadata": {},
   "outputs": [],
   "source": [
    "#Drop merge flag\n",
    "df_merge_1 = df_merge_1.drop(columns = ['_merge'])"
   ]
  },
  {
   "cell_type": "markdown",
   "id": "d3098505-fde5-4101-887a-8fa23eec2f30",
   "metadata": {},
   "source": [
    "##### Observations:\n",
    "- Successfully merged"
   ]
  },
  {
   "cell_type": "markdown",
   "id": "3d569d90-6cc7-4295-92a1-e41500c4ee7a",
   "metadata": {
    "editable": true,
    "slideshow": {
     "slide_type": ""
    },
    "tags": []
   },
   "source": [
    "## 3.2. Merge 2 (Merge 1 & Products)"
   ]
  },
  {
   "cell_type": "code",
   "execution_count": null,
   "id": "b02fd5ac-96de-423a-9ec8-9893eaac770f",
   "metadata": {},
   "outputs": [],
   "source": [
    "#Merge using outer join on order_id with merge flag.\n",
    "df_merge_2 = df_merge_1.merge(df_products, on = 'product_id', how = 'inner', indicator = True)"
   ]
  },
  {
   "cell_type": "code",
   "execution_count": null,
   "id": "b4fec2cb-c51c-40e6-83d0-3c8453a4a503",
   "metadata": {},
   "outputs": [],
   "source": [
    "#Check merge rate\n",
    "df_merge_2['_merge'].value_counts()"
   ]
  },
  {
   "cell_type": "code",
   "execution_count": null,
   "id": "adef2dc5-ee3b-490b-9a97-625c4fbf53e9",
   "metadata": {},
   "outputs": [],
   "source": [
    "#Confirm dimensions\n",
    "df_merge_2.shape"
   ]
  },
  {
   "cell_type": "code",
   "execution_count": null,
   "id": "f1c7da5f-2f0c-4893-af9f-812b1bfb318d",
   "metadata": {},
   "outputs": [],
   "source": [
    "#Preview\n",
    "df_merge_2.head()"
   ]
  },
  {
   "cell_type": "code",
   "execution_count": null,
   "id": "9db12921-53ef-4079-8697-67952c52ff46",
   "metadata": {},
   "outputs": [],
   "source": [
    "#Drop merge flag\n",
    "df_merge_2 = df_merge_2.drop(columns = ['_merge'])"
   ]
  },
  {
   "cell_type": "markdown",
   "id": "e6ca6e3d-d86b-44c5-908c-9560c9dd8e88",
   "metadata": {},
   "source": [
    "##### Observations:\n",
    "- Successfully merged"
   ]
  },
  {
   "cell_type": "markdown",
   "id": "1c1997b4-21aa-45a5-af56-4d82ebf8d7bf",
   "metadata": {},
   "source": [
    "## 3.3. Merge 3 (Merge 2 & Customers)"
   ]
  },
  {
   "cell_type": "code",
   "execution_count": null,
   "id": "6322f825-1da7-45ec-8458-ea0d7069fc7b",
   "metadata": {
    "editable": true,
    "slideshow": {
     "slide_type": ""
    },
    "tags": []
   },
   "outputs": [],
   "source": [
    "#Merge using outer join on order_id with merge flag.\n",
    "df_merge_3 = df_merge_2.merge(df_customers, on = 'user_id', how = 'inner', indicator = True)"
   ]
  },
  {
   "cell_type": "code",
   "execution_count": null,
   "id": "a2d2de5e-b9d5-4f52-9629-b0f9ca89ec1a",
   "metadata": {},
   "outputs": [],
   "source": [
    "#Check merge rate\n",
    "df_merge_3['_merge'].value_counts()"
   ]
  },
  {
   "cell_type": "code",
   "execution_count": null,
   "id": "b15f8b96-973a-4296-9958-c3a3058d2cdb",
   "metadata": {},
   "outputs": [],
   "source": [
    "#Confirm dimensions\n",
    "df_merge_3.shape"
   ]
  },
  {
   "cell_type": "code",
   "execution_count": null,
   "id": "26e6e491-1035-4360-9c42-7f495f34f8ea",
   "metadata": {},
   "outputs": [],
   "source": [
    "#Preview\n",
    "df_merge_3.head()"
   ]
  },
  {
   "cell_type": "code",
   "execution_count": null,
   "id": "5f99475b-21e7-4b6c-bcba-0c3f6658ba44",
   "metadata": {
    "editable": true,
    "slideshow": {
     "slide_type": ""
    },
    "tags": []
   },
   "outputs": [],
   "source": [
    "#Drop merge flag\n",
    "df_merge_3 = df_merge_3.drop(columns = ['_merge'])"
   ]
  },
  {
   "cell_type": "markdown",
   "id": "05d0495a-42d7-47d3-92b9-22370244d22e",
   "metadata": {},
   "source": [
    "##### Observations:\n",
    "- Successfully merged"
   ]
  },
  {
   "cell_type": "markdown",
   "id": "00f9ea14-1f28-4759-8d68-764922ac00f9",
   "metadata": {},
   "source": [
    "# 4. Exports"
   ]
  },
  {
   "cell_type": "code",
   "execution_count": null,
   "id": "9496386b-e519-4e66-a692-c7cf639bbb53",
   "metadata": {},
   "outputs": [],
   "source": [
    "#Confirm dimensions\n",
    "df_merge_3.shape"
   ]
  },
  {
   "cell_type": "code",
   "execution_count": null,
   "id": "ecc7faa7-6016-4d1e-96d5-96b8dbf74363",
   "metadata": {},
   "outputs": [],
   "source": [
    "#Export merged dataset\n",
    "df_merge_3.to_pickle(os.path.join(path, '02 - Data', 'Prepared Data', 'merged_dataset.pkl'))"
   ]
  }
 ],
 "metadata": {
  "kernelspec": {
   "display_name": "Python [conda env:base] *",
   "language": "python",
   "name": "conda-base-py"
  },
  "language_info": {
   "codemirror_mode": {
    "name": "ipython",
    "version": 3
   },
   "file_extension": ".py",
   "mimetype": "text/x-python",
   "name": "python",
   "nbconvert_exporter": "python",
   "pygments_lexer": "ipython3",
   "version": "3.12.2"
  }
 },
 "nbformat": 4,
 "nbformat_minor": 5
}
