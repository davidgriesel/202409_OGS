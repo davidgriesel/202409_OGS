{
 "cells": [
  {
   "cell_type": "markdown",
   "id": "3a4cc115-7acd-43c3-8025-f952dc011d84",
   "metadata": {},
   "source": [
    "# Contents\n",
    "1. Imports\n",
    "2. Checks\n",
    "3. Derive New Variables\n",
    "4. Exports"
   ]
  },
  {
   "cell_type": "markdown",
   "id": "238de3a9-1ba5-4863-b83e-fefef3a474c2",
   "metadata": {},
   "source": [
    "# 1. Imports"
   ]
  },
  {
   "cell_type": "code",
   "execution_count": 1,
   "id": "abfb3baf-1f05-463b-bdc7-76db10244940",
   "metadata": {},
   "outputs": [],
   "source": [
    "#Libraries\n",
    "import pandas as pd\n",
    "import numpy as np\n",
    "import os"
   ]
  },
  {
   "cell_type": "code",
   "execution_count": 2,
   "id": "ba8ecf43-79d2-4a89-a92b-43f07b072edd",
   "metadata": {},
   "outputs": [],
   "source": [
    "#Path\n",
    "path = r'/Users/davidgriesel/Documents/0 - Analytics Projects/Online Grocery Store'"
   ]
  },
  {
   "cell_type": "code",
   "execution_count": 3,
   "id": "1a1e3662-b162-4671-9629-5085fd328b95",
   "metadata": {},
   "outputs": [],
   "source": [
    "#Dataset\n",
    "df_merged_dataset = pd.read_pickle(os.path.join(path, '02 - Data', 'Prepared Data', 'merged_dataset.pkl'))"
   ]
  },
  {
   "cell_type": "code",
   "execution_count": 4,
   "id": "49cccce7-cf64-4ace-89b7-b80a540f0abe",
   "metadata": {},
   "outputs": [],
   "source": [
    "#Dataset\n",
    "df_departments = pd.read_pickle(os.path.join(path, '02 - Data', 'Prepared Data', 'cleaned_departments.pkl'))"
   ]
  },
  {
   "cell_type": "markdown",
   "id": "09f5e18c-1e49-43d6-812f-70adf606bd53",
   "metadata": {},
   "source": [
    "# 2. Checks"
   ]
  },
  {
   "cell_type": "code",
   "execution_count": 5,
   "id": "2b309c09-a19b-4917-bd81-910e6081a638",
   "metadata": {},
   "outputs": [
    {
     "data": {
      "text/plain": [
       "(32403719, 22)"
      ]
     },
     "execution_count": 5,
     "metadata": {},
     "output_type": "execute_result"
    }
   ],
   "source": [
    "#Dimensions\n",
    "df_merged_dataset.shape"
   ]
  },
  {
   "cell_type": "code",
   "execution_count": 6,
   "id": "a16c16a0-c3ce-436a-ba10-7ace6bab67d0",
   "metadata": {
    "scrolled": true
   },
   "outputs": [
    {
     "data": {
      "text/html": [
       "<div>\n",
       "<style scoped>\n",
       "    .dataframe tbody tr th:only-of-type {\n",
       "        vertical-align: middle;\n",
       "    }\n",
       "\n",
       "    .dataframe tbody tr th {\n",
       "        vertical-align: top;\n",
       "    }\n",
       "\n",
       "    .dataframe thead th {\n",
       "        text-align: right;\n",
       "    }\n",
       "</style>\n",
       "<table border=\"1\" class=\"dataframe\">\n",
       "  <thead>\n",
       "    <tr style=\"text-align: right;\">\n",
       "      <th></th>\n",
       "      <th>order_id</th>\n",
       "      <th>user_id</th>\n",
       "      <th>user_order_count</th>\n",
       "      <th>order_day_of_week</th>\n",
       "      <th>order_hour_of_day</th>\n",
       "      <th>days_since_last_order</th>\n",
       "      <th>is_first_order</th>\n",
       "      <th>product_id</th>\n",
       "      <th>add_to_cart_order</th>\n",
       "      <th>reordered</th>\n",
       "      <th>...</th>\n",
       "      <th>department_id</th>\n",
       "      <th>prices</th>\n",
       "      <th>gender</th>\n",
       "      <th>state</th>\n",
       "      <th>age</th>\n",
       "      <th>date_joined</th>\n",
       "      <th>number_of_dependants</th>\n",
       "      <th>marital_status</th>\n",
       "      <th>income</th>\n",
       "      <th>department</th>\n",
       "    </tr>\n",
       "  </thead>\n",
       "  <tbody>\n",
       "    <tr>\n",
       "      <th>0</th>\n",
       "      <td>2539329</td>\n",
       "      <td>1</td>\n",
       "      <td>1</td>\n",
       "      <td>2</td>\n",
       "      <td>8</td>\n",
       "      <td>NaN</td>\n",
       "      <td>True</td>\n",
       "      <td>196</td>\n",
       "      <td>1</td>\n",
       "      <td>0</td>\n",
       "      <td>...</td>\n",
       "      <td>7</td>\n",
       "      <td>9.0</td>\n",
       "      <td>Female</td>\n",
       "      <td>Alabama</td>\n",
       "      <td>31</td>\n",
       "      <td>2019-02-17</td>\n",
       "      <td>3</td>\n",
       "      <td>married</td>\n",
       "      <td>40423</td>\n",
       "      <td>beverages</td>\n",
       "    </tr>\n",
       "    <tr>\n",
       "      <th>1</th>\n",
       "      <td>2539329</td>\n",
       "      <td>1</td>\n",
       "      <td>1</td>\n",
       "      <td>2</td>\n",
       "      <td>8</td>\n",
       "      <td>NaN</td>\n",
       "      <td>True</td>\n",
       "      <td>14084</td>\n",
       "      <td>2</td>\n",
       "      <td>0</td>\n",
       "      <td>...</td>\n",
       "      <td>16</td>\n",
       "      <td>12.5</td>\n",
       "      <td>Female</td>\n",
       "      <td>Alabama</td>\n",
       "      <td>31</td>\n",
       "      <td>2019-02-17</td>\n",
       "      <td>3</td>\n",
       "      <td>married</td>\n",
       "      <td>40423</td>\n",
       "      <td>dairy eggs</td>\n",
       "    </tr>\n",
       "    <tr>\n",
       "      <th>2</th>\n",
       "      <td>2539329</td>\n",
       "      <td>1</td>\n",
       "      <td>1</td>\n",
       "      <td>2</td>\n",
       "      <td>8</td>\n",
       "      <td>NaN</td>\n",
       "      <td>True</td>\n",
       "      <td>12427</td>\n",
       "      <td>3</td>\n",
       "      <td>0</td>\n",
       "      <td>...</td>\n",
       "      <td>19</td>\n",
       "      <td>4.4</td>\n",
       "      <td>Female</td>\n",
       "      <td>Alabama</td>\n",
       "      <td>31</td>\n",
       "      <td>2019-02-17</td>\n",
       "      <td>3</td>\n",
       "      <td>married</td>\n",
       "      <td>40423</td>\n",
       "      <td>snacks</td>\n",
       "    </tr>\n",
       "    <tr>\n",
       "      <th>3</th>\n",
       "      <td>2539329</td>\n",
       "      <td>1</td>\n",
       "      <td>1</td>\n",
       "      <td>2</td>\n",
       "      <td>8</td>\n",
       "      <td>NaN</td>\n",
       "      <td>True</td>\n",
       "      <td>26088</td>\n",
       "      <td>4</td>\n",
       "      <td>0</td>\n",
       "      <td>...</td>\n",
       "      <td>19</td>\n",
       "      <td>4.7</td>\n",
       "      <td>Female</td>\n",
       "      <td>Alabama</td>\n",
       "      <td>31</td>\n",
       "      <td>2019-02-17</td>\n",
       "      <td>3</td>\n",
       "      <td>married</td>\n",
       "      <td>40423</td>\n",
       "      <td>snacks</td>\n",
       "    </tr>\n",
       "    <tr>\n",
       "      <th>4</th>\n",
       "      <td>2539329</td>\n",
       "      <td>1</td>\n",
       "      <td>1</td>\n",
       "      <td>2</td>\n",
       "      <td>8</td>\n",
       "      <td>NaN</td>\n",
       "      <td>True</td>\n",
       "      <td>26405</td>\n",
       "      <td>5</td>\n",
       "      <td>0</td>\n",
       "      <td>...</td>\n",
       "      <td>17</td>\n",
       "      <td>1.0</td>\n",
       "      <td>Female</td>\n",
       "      <td>Alabama</td>\n",
       "      <td>31</td>\n",
       "      <td>2019-02-17</td>\n",
       "      <td>3</td>\n",
       "      <td>married</td>\n",
       "      <td>40423</td>\n",
       "      <td>household</td>\n",
       "    </tr>\n",
       "  </tbody>\n",
       "</table>\n",
       "<p>5 rows × 22 columns</p>\n",
       "</div>"
      ],
      "text/plain": [
       "   order_id  user_id  user_order_count  order_day_of_week  order_hour_of_day  \\\n",
       "0   2539329        1                 1                  2                  8   \n",
       "1   2539329        1                 1                  2                  8   \n",
       "2   2539329        1                 1                  2                  8   \n",
       "3   2539329        1                 1                  2                  8   \n",
       "4   2539329        1                 1                  2                  8   \n",
       "\n",
       "   days_since_last_order  is_first_order  product_id  add_to_cart_order  \\\n",
       "0                    NaN            True         196                  1   \n",
       "1                    NaN            True       14084                  2   \n",
       "2                    NaN            True       12427                  3   \n",
       "3                    NaN            True       26088                  4   \n",
       "4                    NaN            True       26405                  5   \n",
       "\n",
       "   reordered  ... department_id  prices  gender    state age date_joined  \\\n",
       "0          0  ...             7     9.0  Female  Alabama  31  2019-02-17   \n",
       "1          0  ...            16    12.5  Female  Alabama  31  2019-02-17   \n",
       "2          0  ...            19     4.4  Female  Alabama  31  2019-02-17   \n",
       "3          0  ...            19     4.7  Female  Alabama  31  2019-02-17   \n",
       "4          0  ...            17     1.0  Female  Alabama  31  2019-02-17   \n",
       "\n",
       "   number_of_dependants marital_status  income  department  \n",
       "0                     3        married   40423   beverages  \n",
       "1                     3        married   40423  dairy eggs  \n",
       "2                     3        married   40423      snacks  \n",
       "3                     3        married   40423      snacks  \n",
       "4                     3        married   40423   household  \n",
       "\n",
       "[5 rows x 22 columns]"
      ]
     },
     "execution_count": 6,
     "metadata": {},
     "output_type": "execute_result"
    }
   ],
   "source": [
    "#Preview\n",
    "df_merged_dataset.head()"
   ]
  },
  {
   "cell_type": "code",
   "execution_count": 7,
   "id": "178f78e1-308a-433c-a9d7-3e78c17ccd40",
   "metadata": {},
   "outputs": [
    {
     "data": {
      "text/html": [
       "<div>\n",
       "<style scoped>\n",
       "    .dataframe tbody tr th:only-of-type {\n",
       "        vertical-align: middle;\n",
       "    }\n",
       "\n",
       "    .dataframe tbody tr th {\n",
       "        vertical-align: top;\n",
       "    }\n",
       "\n",
       "    .dataframe thead th {\n",
       "        text-align: right;\n",
       "    }\n",
       "</style>\n",
       "<table border=\"1\" class=\"dataframe\">\n",
       "  <thead>\n",
       "    <tr style=\"text-align: right;\">\n",
       "      <th></th>\n",
       "      <th>order_id</th>\n",
       "      <th>user_id</th>\n",
       "      <th>user_order_count</th>\n",
       "      <th>order_day_of_week</th>\n",
       "      <th>order_hour_of_day</th>\n",
       "      <th>days_since_last_order</th>\n",
       "      <th>product_id</th>\n",
       "      <th>add_to_cart_order</th>\n",
       "      <th>reordered</th>\n",
       "      <th>aisle_id</th>\n",
       "      <th>department_id</th>\n",
       "      <th>prices</th>\n",
       "      <th>age</th>\n",
       "      <th>date_joined</th>\n",
       "      <th>number_of_dependants</th>\n",
       "      <th>income</th>\n",
       "    </tr>\n",
       "  </thead>\n",
       "  <tbody>\n",
       "    <tr>\n",
       "      <th>count</th>\n",
       "      <td>3.240372e+07</td>\n",
       "      <td>3.240372e+07</td>\n",
       "      <td>3.240372e+07</td>\n",
       "      <td>3.240372e+07</td>\n",
       "      <td>3.240372e+07</td>\n",
       "      <td>3.032769e+07</td>\n",
       "      <td>3.240372e+07</td>\n",
       "      <td>3.240372e+07</td>\n",
       "      <td>3.240372e+07</td>\n",
       "      <td>3.240372e+07</td>\n",
       "      <td>3.240372e+07</td>\n",
       "      <td>3.240372e+07</td>\n",
       "      <td>3.240372e+07</td>\n",
       "      <td>32403719</td>\n",
       "      <td>3.240372e+07</td>\n",
       "      <td>3.240372e+07</td>\n",
       "    </tr>\n",
       "    <tr>\n",
       "      <th>mean</th>\n",
       "      <td>1.710747e+06</td>\n",
       "      <td>1.029373e+05</td>\n",
       "      <td>1.714251e+01</td>\n",
       "      <td>2.738872e+00</td>\n",
       "      <td>1.342515e+01</td>\n",
       "      <td>1.110396e+01</td>\n",
       "      <td>2.559864e+04</td>\n",
       "      <td>8.352535e+00</td>\n",
       "      <td>5.895912e-01</td>\n",
       "      <td>7.119683e+01</td>\n",
       "      <td>9.919667e+00</td>\n",
       "      <td>7.792048e+00</td>\n",
       "      <td>4.946528e+01</td>\n",
       "      <td>2018-08-16 15:34:57.046292736</td>\n",
       "      <td>1.501888e+00</td>\n",
       "      <td>9.943758e+04</td>\n",
       "    </tr>\n",
       "    <tr>\n",
       "      <th>min</th>\n",
       "      <td>2.000000e+00</td>\n",
       "      <td>1.000000e+00</td>\n",
       "      <td>1.000000e+00</td>\n",
       "      <td>0.000000e+00</td>\n",
       "      <td>0.000000e+00</td>\n",
       "      <td>0.000000e+00</td>\n",
       "      <td>1.000000e+00</td>\n",
       "      <td>1.000000e+00</td>\n",
       "      <td>0.000000e+00</td>\n",
       "      <td>1.000000e+00</td>\n",
       "      <td>1.000000e+00</td>\n",
       "      <td>1.000000e+00</td>\n",
       "      <td>1.800000e+01</td>\n",
       "      <td>2017-01-01 00:00:00</td>\n",
       "      <td>0.000000e+00</td>\n",
       "      <td>2.590300e+04</td>\n",
       "    </tr>\n",
       "    <tr>\n",
       "      <th>25%</th>\n",
       "      <td>8.559480e+05</td>\n",
       "      <td>5.142200e+04</td>\n",
       "      <td>5.000000e+00</td>\n",
       "      <td>1.000000e+00</td>\n",
       "      <td>1.000000e+01</td>\n",
       "      <td>5.000000e+00</td>\n",
       "      <td>1.354200e+04</td>\n",
       "      <td>3.000000e+00</td>\n",
       "      <td>0.000000e+00</td>\n",
       "      <td>3.100000e+01</td>\n",
       "      <td>4.000000e+00</td>\n",
       "      <td>4.200000e+00</td>\n",
       "      <td>3.300000e+01</td>\n",
       "      <td>2017-10-22 00:00:00</td>\n",
       "      <td>1.000000e+00</td>\n",
       "      <td>6.700300e+04</td>\n",
       "    </tr>\n",
       "    <tr>\n",
       "      <th>50%</th>\n",
       "      <td>1.711052e+06</td>\n",
       "      <td>1.026160e+05</td>\n",
       "      <td>1.100000e+01</td>\n",
       "      <td>3.000000e+00</td>\n",
       "      <td>1.300000e+01</td>\n",
       "      <td>8.000000e+00</td>\n",
       "      <td>2.530100e+04</td>\n",
       "      <td>6.000000e+00</td>\n",
       "      <td>1.000000e+00</td>\n",
       "      <td>8.300000e+01</td>\n",
       "      <td>9.000000e+00</td>\n",
       "      <td>7.400000e+00</td>\n",
       "      <td>4.900000e+01</td>\n",
       "      <td>2018-08-16 00:00:00</td>\n",
       "      <td>2.000000e+00</td>\n",
       "      <td>9.661700e+04</td>\n",
       "    </tr>\n",
       "    <tr>\n",
       "      <th>75%</th>\n",
       "      <td>2.565504e+06</td>\n",
       "      <td>1.543880e+05</td>\n",
       "      <td>2.400000e+01</td>\n",
       "      <td>5.000000e+00</td>\n",
       "      <td>1.600000e+01</td>\n",
       "      <td>1.500000e+01</td>\n",
       "      <td>3.794700e+04</td>\n",
       "      <td>1.100000e+01</td>\n",
       "      <td>1.000000e+00</td>\n",
       "      <td>1.070000e+02</td>\n",
       "      <td>1.600000e+01</td>\n",
       "      <td>1.130000e+01</td>\n",
       "      <td>6.500000e+01</td>\n",
       "      <td>2019-06-09 00:00:00</td>\n",
       "      <td>3.000000e+00</td>\n",
       "      <td>1.279120e+05</td>\n",
       "    </tr>\n",
       "    <tr>\n",
       "      <th>max</th>\n",
       "      <td>3.421083e+06</td>\n",
       "      <td>2.062090e+05</td>\n",
       "      <td>9.900000e+01</td>\n",
       "      <td>6.000000e+00</td>\n",
       "      <td>2.300000e+01</td>\n",
       "      <td>3.000000e+01</td>\n",
       "      <td>4.968800e+04</td>\n",
       "      <td>1.450000e+02</td>\n",
       "      <td>1.000000e+00</td>\n",
       "      <td>1.340000e+02</td>\n",
       "      <td>2.100000e+01</td>\n",
       "      <td>2.500000e+01</td>\n",
       "      <td>8.100000e+01</td>\n",
       "      <td>2020-04-01 00:00:00</td>\n",
       "      <td>3.000000e+00</td>\n",
       "      <td>5.939010e+05</td>\n",
       "    </tr>\n",
       "    <tr>\n",
       "      <th>std</th>\n",
       "      <td>9.872991e+05</td>\n",
       "      <td>5.946604e+04</td>\n",
       "      <td>1.753549e+01</td>\n",
       "      <td>2.090073e+00</td>\n",
       "      <td>4.246397e+00</td>\n",
       "      <td>8.779011e+00</td>\n",
       "      <td>1.408424e+04</td>\n",
       "      <td>7.127101e+00</td>\n",
       "      <td>4.919079e-01</td>\n",
       "      <td>3.821147e+01</td>\n",
       "      <td>6.281541e+00</td>\n",
       "      <td>4.242308e+00</td>\n",
       "      <td>1.848556e+01</td>\n",
       "      <td>NaN</td>\n",
       "      <td>1.118865e+00</td>\n",
       "      <td>4.305685e+04</td>\n",
       "    </tr>\n",
       "  </tbody>\n",
       "</table>\n",
       "</div>"
      ],
      "text/plain": [
       "           order_id       user_id  user_order_count  order_day_of_week  \\\n",
       "count  3.240372e+07  3.240372e+07      3.240372e+07       3.240372e+07   \n",
       "mean   1.710747e+06  1.029373e+05      1.714251e+01       2.738872e+00   \n",
       "min    2.000000e+00  1.000000e+00      1.000000e+00       0.000000e+00   \n",
       "25%    8.559480e+05  5.142200e+04      5.000000e+00       1.000000e+00   \n",
       "50%    1.711052e+06  1.026160e+05      1.100000e+01       3.000000e+00   \n",
       "75%    2.565504e+06  1.543880e+05      2.400000e+01       5.000000e+00   \n",
       "max    3.421083e+06  2.062090e+05      9.900000e+01       6.000000e+00   \n",
       "std    9.872991e+05  5.946604e+04      1.753549e+01       2.090073e+00   \n",
       "\n",
       "       order_hour_of_day  days_since_last_order    product_id  \\\n",
       "count       3.240372e+07           3.032769e+07  3.240372e+07   \n",
       "mean        1.342515e+01           1.110396e+01  2.559864e+04   \n",
       "min         0.000000e+00           0.000000e+00  1.000000e+00   \n",
       "25%         1.000000e+01           5.000000e+00  1.354200e+04   \n",
       "50%         1.300000e+01           8.000000e+00  2.530100e+04   \n",
       "75%         1.600000e+01           1.500000e+01  3.794700e+04   \n",
       "max         2.300000e+01           3.000000e+01  4.968800e+04   \n",
       "std         4.246397e+00           8.779011e+00  1.408424e+04   \n",
       "\n",
       "       add_to_cart_order     reordered      aisle_id  department_id  \\\n",
       "count       3.240372e+07  3.240372e+07  3.240372e+07   3.240372e+07   \n",
       "mean        8.352535e+00  5.895912e-01  7.119683e+01   9.919667e+00   \n",
       "min         1.000000e+00  0.000000e+00  1.000000e+00   1.000000e+00   \n",
       "25%         3.000000e+00  0.000000e+00  3.100000e+01   4.000000e+00   \n",
       "50%         6.000000e+00  1.000000e+00  8.300000e+01   9.000000e+00   \n",
       "75%         1.100000e+01  1.000000e+00  1.070000e+02   1.600000e+01   \n",
       "max         1.450000e+02  1.000000e+00  1.340000e+02   2.100000e+01   \n",
       "std         7.127101e+00  4.919079e-01  3.821147e+01   6.281541e+00   \n",
       "\n",
       "             prices           age                    date_joined  \\\n",
       "count  3.240372e+07  3.240372e+07                       32403719   \n",
       "mean   7.792048e+00  4.946528e+01  2018-08-16 15:34:57.046292736   \n",
       "min    1.000000e+00  1.800000e+01            2017-01-01 00:00:00   \n",
       "25%    4.200000e+00  3.300000e+01            2017-10-22 00:00:00   \n",
       "50%    7.400000e+00  4.900000e+01            2018-08-16 00:00:00   \n",
       "75%    1.130000e+01  6.500000e+01            2019-06-09 00:00:00   \n",
       "max    2.500000e+01  8.100000e+01            2020-04-01 00:00:00   \n",
       "std    4.242308e+00  1.848556e+01                            NaN   \n",
       "\n",
       "       number_of_dependants        income  \n",
       "count          3.240372e+07  3.240372e+07  \n",
       "mean           1.501888e+00  9.943758e+04  \n",
       "min            0.000000e+00  2.590300e+04  \n",
       "25%            1.000000e+00  6.700300e+04  \n",
       "50%            2.000000e+00  9.661700e+04  \n",
       "75%            3.000000e+00  1.279120e+05  \n",
       "max            3.000000e+00  5.939010e+05  \n",
       "std            1.118865e+00  4.305685e+04  "
      ]
     },
     "execution_count": 7,
     "metadata": {},
     "output_type": "execute_result"
    }
   ],
   "source": [
    "#Summary stats\n",
    "df_merged_dataset.describe()"
   ]
  },
  {
   "cell_type": "markdown",
   "id": "04fbda70-efad-41f3-a270-06bca82b3aa9",
   "metadata": {},
   "source": [
    "##### Observations:\n",
    "- Consistent with integrated dataset"
   ]
  },
  {
   "cell_type": "markdown",
   "id": "7bc5165b-0c96-41cf-b6dd-1abd1e0d7bbc",
   "metadata": {},
   "source": [
    "# 3. Derive New Variables"
   ]
  },
  {
   "cell_type": "markdown",
   "id": "101790af-b67c-493a-b4fe-211a5c5eb8b8",
   "metadata": {},
   "source": [
    "## 3.1. Busiest Days"
   ]
  },
  {
   "cell_type": "code",
   "execution_count": 8,
   "id": "b4974ef1-fb97-4f41-99d3-4f4a68db3a38",
   "metadata": {},
   "outputs": [
    {
     "data": {
      "text/plain": [
       "order_day_of_week\n",
       "0    6203898\n",
       "1    5660040\n",
       "6    4496316\n",
       "2    4213690\n",
       "5    4205651\n",
       "3    3840418\n",
       "4    3783706\n",
       "Name: count, dtype: int64"
      ]
     },
     "execution_count": 8,
     "metadata": {},
     "output_type": "execute_result"
    }
   ],
   "source": [
    "#Check frequency distribution of variable\n",
    "df_merged_dataset['order_day_of_week'].value_counts(dropna = False)"
   ]
  },
  {
   "cell_type": "code",
   "execution_count": 9,
   "id": "25ca855a-374c-477c-be87-4ee9f43b6cdb",
   "metadata": {},
   "outputs": [],
   "source": [
    "#Create loop and place results in list\n",
    "result_1 = []\n",
    "\n",
    "for value in df_merged_dataset['order_day_of_week']:\n",
    "    if value == 0 or value == 1:\n",
    "        result_1.append('Most Busy')\n",
    "    elif value == 3 or value == 4:\n",
    "        result_1.append('Moderately Busy')\n",
    "    else:\n",
    "        result_1.append('Least Busy')"
   ]
  },
  {
   "cell_type": "code",
   "execution_count": 10,
   "id": "fbb1ae71-ff45-4317-9297-1605da3be210",
   "metadata": {
    "scrolled": true
   },
   "outputs": [
    {
     "data": {
      "text/plain": [
       "['Least Busy',\n",
       " 'Least Busy',\n",
       " 'Least Busy',\n",
       " 'Least Busy',\n",
       " 'Least Busy',\n",
       " 'Moderately Busy',\n",
       " 'Moderately Busy',\n",
       " 'Moderately Busy',\n",
       " 'Moderately Busy',\n",
       " 'Moderately Busy',\n",
       " 'Moderately Busy',\n",
       " 'Moderately Busy',\n",
       " 'Moderately Busy',\n",
       " 'Moderately Busy',\n",
       " 'Moderately Busy',\n",
       " 'Moderately Busy',\n",
       " 'Moderately Busy',\n",
       " 'Moderately Busy',\n",
       " 'Moderately Busy',\n",
       " 'Moderately Busy',\n",
       " 'Moderately Busy',\n",
       " 'Moderately Busy',\n",
       " 'Moderately Busy',\n",
       " 'Moderately Busy',\n",
       " 'Moderately Busy',\n",
       " 'Moderately Busy',\n",
       " 'Moderately Busy',\n",
       " 'Moderately Busy',\n",
       " 'Moderately Busy',\n",
       " 'Least Busy',\n",
       " 'Least Busy',\n",
       " 'Least Busy',\n",
       " 'Least Busy',\n",
       " 'Most Busy',\n",
       " 'Most Busy',\n",
       " 'Most Busy',\n",
       " 'Most Busy',\n",
       " 'Most Busy',\n",
       " 'Most Busy',\n",
       " 'Most Busy',\n",
       " 'Most Busy',\n",
       " 'Most Busy',\n",
       " 'Most Busy',\n",
       " 'Most Busy',\n",
       " 'Most Busy',\n",
       " 'Most Busy',\n",
       " 'Most Busy',\n",
       " 'Most Busy',\n",
       " 'Most Busy',\n",
       " 'Most Busy',\n",
       " 'Moderately Busy',\n",
       " 'Moderately Busy',\n",
       " 'Moderately Busy',\n",
       " 'Moderately Busy',\n",
       " 'Moderately Busy',\n",
       " 'Moderately Busy',\n",
       " 'Moderately Busy',\n",
       " 'Moderately Busy',\n",
       " 'Moderately Busy',\n",
       " 'Least Busy',\n",
       " 'Least Busy',\n",
       " 'Least Busy',\n",
       " 'Least Busy',\n",
       " 'Least Busy',\n",
       " 'Least Busy',\n",
       " 'Least Busy',\n",
       " 'Least Busy',\n",
       " 'Least Busy',\n",
       " 'Least Busy',\n",
       " 'Least Busy',\n",
       " 'Least Busy',\n",
       " 'Least Busy',\n",
       " 'Least Busy',\n",
       " 'Least Busy',\n",
       " 'Least Busy',\n",
       " 'Least Busy',\n",
       " 'Least Busy',\n",
       " 'Least Busy',\n",
       " 'Most Busy',\n",
       " 'Most Busy',\n",
       " 'Most Busy',\n",
       " 'Most Busy',\n",
       " 'Most Busy',\n",
       " 'Least Busy',\n",
       " 'Least Busy',\n",
       " 'Least Busy',\n",
       " 'Least Busy',\n",
       " 'Least Busy',\n",
       " 'Least Busy',\n",
       " 'Least Busy',\n",
       " 'Least Busy',\n",
       " 'Least Busy',\n",
       " 'Least Busy',\n",
       " 'Least Busy',\n",
       " 'Least Busy',\n",
       " 'Least Busy',\n",
       " 'Moderately Busy',\n",
       " 'Moderately Busy',\n",
       " 'Moderately Busy',\n",
       " 'Moderately Busy',\n",
       " 'Moderately Busy',\n",
       " 'Moderately Busy',\n",
       " 'Moderately Busy',\n",
       " 'Moderately Busy',\n",
       " 'Moderately Busy',\n",
       " 'Moderately Busy',\n",
       " 'Moderately Busy',\n",
       " 'Moderately Busy',\n",
       " 'Moderately Busy',\n",
       " 'Least Busy',\n",
       " 'Least Busy',\n",
       " 'Least Busy',\n",
       " 'Least Busy',\n",
       " 'Least Busy',\n",
       " 'Least Busy',\n",
       " 'Least Busy',\n",
       " 'Least Busy',\n",
       " 'Least Busy',\n",
       " 'Least Busy',\n",
       " 'Least Busy',\n",
       " 'Least Busy',\n",
       " 'Least Busy',\n",
       " 'Least Busy',\n",
       " 'Least Busy',\n",
       " 'Least Busy',\n",
       " 'Least Busy',\n",
       " 'Least Busy',\n",
       " 'Least Busy',\n",
       " 'Least Busy',\n",
       " 'Least Busy',\n",
       " 'Least Busy',\n",
       " 'Least Busy',\n",
       " 'Least Busy',\n",
       " 'Least Busy',\n",
       " 'Least Busy',\n",
       " 'Least Busy',\n",
       " 'Least Busy',\n",
       " 'Least Busy',\n",
       " 'Least Busy',\n",
       " 'Least Busy',\n",
       " 'Least Busy',\n",
       " 'Least Busy',\n",
       " 'Least Busy',\n",
       " 'Least Busy',\n",
       " 'Most Busy',\n",
       " 'Most Busy',\n",
       " 'Most Busy',\n",
       " 'Most Busy',\n",
       " 'Most Busy',\n",
       " 'Most Busy',\n",
       " 'Most Busy',\n",
       " 'Most Busy',\n",
       " 'Most Busy',\n",
       " 'Most Busy',\n",
       " 'Most Busy',\n",
       " 'Most Busy',\n",
       " 'Most Busy',\n",
       " 'Most Busy',\n",
       " 'Most Busy',\n",
       " 'Most Busy',\n",
       " 'Least Busy',\n",
       " 'Least Busy',\n",
       " 'Least Busy',\n",
       " 'Least Busy',\n",
       " 'Least Busy',\n",
       " 'Least Busy',\n",
       " 'Least Busy',\n",
       " 'Least Busy',\n",
       " 'Least Busy',\n",
       " 'Least Busy',\n",
       " 'Least Busy',\n",
       " 'Least Busy',\n",
       " 'Least Busy',\n",
       " 'Least Busy',\n",
       " 'Least Busy',\n",
       " 'Least Busy',\n",
       " 'Least Busy',\n",
       " 'Least Busy',\n",
       " 'Least Busy',\n",
       " 'Least Busy',\n",
       " 'Least Busy',\n",
       " 'Least Busy',\n",
       " 'Least Busy',\n",
       " 'Least Busy',\n",
       " 'Least Busy',\n",
       " 'Least Busy',\n",
       " 'Most Busy',\n",
       " 'Most Busy',\n",
       " 'Most Busy',\n",
       " 'Most Busy',\n",
       " 'Most Busy',\n",
       " 'Most Busy',\n",
       " 'Most Busy',\n",
       " 'Most Busy',\n",
       " 'Most Busy',\n",
       " 'Most Busy',\n",
       " 'Most Busy',\n",
       " 'Most Busy',\n",
       " 'Most Busy',\n",
       " 'Most Busy',\n",
       " 'Most Busy',\n",
       " 'Most Busy',\n",
       " 'Most Busy',\n",
       " 'Most Busy',\n",
       " 'Most Busy',\n",
       " 'Most Busy',\n",
       " 'Most Busy',\n",
       " 'Most Busy',\n",
       " 'Most Busy',\n",
       " 'Most Busy',\n",
       " 'Most Busy',\n",
       " 'Most Busy',\n",
       " 'Most Busy',\n",
       " 'Most Busy',\n",
       " 'Most Busy',\n",
       " 'Most Busy',\n",
       " 'Most Busy',\n",
       " 'Most Busy',\n",
       " 'Most Busy',\n",
       " 'Most Busy',\n",
       " 'Most Busy',\n",
       " 'Most Busy',\n",
       " 'Most Busy',\n",
       " 'Most Busy',\n",
       " 'Most Busy',\n",
       " 'Most Busy',\n",
       " 'Most Busy',\n",
       " 'Most Busy',\n",
       " 'Most Busy',\n",
       " 'Moderately Busy',\n",
       " 'Moderately Busy',\n",
       " 'Moderately Busy',\n",
       " 'Moderately Busy',\n",
       " 'Moderately Busy',\n",
       " 'Moderately Busy',\n",
       " 'Moderately Busy',\n",
       " 'Moderately Busy',\n",
       " 'Moderately Busy',\n",
       " 'Moderately Busy',\n",
       " 'Moderately Busy',\n",
       " 'Moderately Busy',\n",
       " 'Moderately Busy',\n",
       " 'Moderately Busy',\n",
       " 'Moderately Busy',\n",
       " 'Moderately Busy',\n",
       " 'Moderately Busy',\n",
       " 'Moderately Busy',\n",
       " 'Moderately Busy',\n",
       " 'Moderately Busy',\n",
       " 'Moderately Busy',\n",
       " 'Moderately Busy',\n",
       " 'Moderately Busy',\n",
       " 'Moderately Busy',\n",
       " 'Moderately Busy',\n",
       " 'Most Busy',\n",
       " 'Most Busy',\n",
       " 'Most Busy',\n",
       " 'Most Busy',\n",
       " 'Most Busy',\n",
       " 'Most Busy',\n",
       " 'Most Busy',\n",
       " 'Most Busy',\n",
       " 'Most Busy',\n",
       " 'Most Busy',\n",
       " 'Moderately Busy',\n",
       " 'Moderately Busy',\n",
       " 'Moderately Busy',\n",
       " 'Moderately Busy',\n",
       " 'Moderately Busy',\n",
       " 'Moderately Busy',\n",
       " 'Moderately Busy',\n",
       " 'Moderately Busy',\n",
       " 'Moderately Busy',\n",
       " 'Moderately Busy',\n",
       " 'Moderately Busy',\n",
       " 'Moderately Busy',\n",
       " 'Moderately Busy',\n",
       " 'Moderately Busy',\n",
       " 'Moderately Busy',\n",
       " 'Least Busy',\n",
       " 'Least Busy',\n",
       " 'Least Busy',\n",
       " 'Least Busy',\n",
       " 'Least Busy',\n",
       " 'Most Busy',\n",
       " 'Most Busy',\n",
       " 'Most Busy',\n",
       " 'Most Busy',\n",
       " 'Most Busy',\n",
       " 'Most Busy',\n",
       " 'Most Busy',\n",
       " 'Most Busy',\n",
       " 'Most Busy',\n",
       " 'Most Busy',\n",
       " 'Most Busy',\n",
       " 'Most Busy',\n",
       " 'Most Busy',\n",
       " 'Most Busy',\n",
       " 'Most Busy',\n",
       " 'Most Busy',\n",
       " 'Most Busy',\n",
       " 'Most Busy',\n",
       " 'Most Busy',\n",
       " 'Most Busy',\n",
       " 'Most Busy',\n",
       " 'Most Busy',\n",
       " 'Most Busy',\n",
       " 'Most Busy',\n",
       " 'Most Busy',\n",
       " 'Most Busy',\n",
       " 'Most Busy',\n",
       " 'Most Busy',\n",
       " 'Most Busy',\n",
       " 'Most Busy',\n",
       " 'Most Busy',\n",
       " 'Most Busy',\n",
       " 'Most Busy',\n",
       " 'Most Busy',\n",
       " 'Most Busy',\n",
       " 'Most Busy',\n",
       " 'Most Busy',\n",
       " 'Most Busy',\n",
       " 'Most Busy',\n",
       " 'Most Busy',\n",
       " 'Most Busy',\n",
       " 'Moderately Busy',\n",
       " 'Moderately Busy',\n",
       " 'Moderately Busy',\n",
       " 'Moderately Busy',\n",
       " 'Moderately Busy',\n",
       " 'Moderately Busy',\n",
       " 'Most Busy',\n",
       " 'Most Busy',\n",
       " 'Most Busy',\n",
       " 'Most Busy',\n",
       " 'Most Busy',\n",
       " 'Most Busy',\n",
       " 'Most Busy',\n",
       " 'Most Busy',\n",
       " 'Most Busy',\n",
       " 'Most Busy',\n",
       " 'Most Busy',\n",
       " 'Least Busy',\n",
       " 'Least Busy',\n",
       " 'Least Busy',\n",
       " 'Least Busy',\n",
       " 'Moderately Busy',\n",
       " 'Moderately Busy',\n",
       " 'Moderately Busy',\n",
       " 'Moderately Busy',\n",
       " 'Moderately Busy',\n",
       " 'Moderately Busy',\n",
       " 'Moderately Busy',\n",
       " 'Moderately Busy',\n",
       " 'Moderately Busy',\n",
       " 'Least Busy',\n",
       " 'Least Busy',\n",
       " 'Least Busy',\n",
       " 'Least Busy',\n",
       " 'Least Busy',\n",
       " 'Moderately Busy',\n",
       " 'Moderately Busy',\n",
       " 'Moderately Busy',\n",
       " 'Moderately Busy',\n",
       " 'Moderately Busy',\n",
       " 'Moderately Busy',\n",
       " 'Moderately Busy',\n",
       " 'Moderately Busy',\n",
       " 'Moderately Busy',\n",
       " 'Moderately Busy',\n",
       " 'Moderately Busy',\n",
       " 'Most Busy',\n",
       " 'Most Busy',\n",
       " 'Most Busy',\n",
       " 'Most Busy',\n",
       " 'Most Busy',\n",
       " 'Most Busy',\n",
       " 'Most Busy',\n",
       " 'Most Busy',\n",
       " 'Most Busy',\n",
       " 'Moderately Busy',\n",
       " 'Moderately Busy',\n",
       " 'Moderately Busy',\n",
       " 'Moderately Busy',\n",
       " 'Moderately Busy',\n",
       " 'Most Busy',\n",
       " 'Most Busy',\n",
       " 'Most Busy',\n",
       " 'Most Busy',\n",
       " 'Most Busy',\n",
       " 'Most Busy',\n",
       " 'Most Busy',\n",
       " 'Most Busy',\n",
       " 'Most Busy',\n",
       " 'Most Busy',\n",
       " 'Most Busy',\n",
       " 'Most Busy',\n",
       " 'Least Busy',\n",
       " 'Least Busy',\n",
       " 'Least Busy',\n",
       " 'Least Busy',\n",
       " 'Moderately Busy',\n",
       " 'Moderately Busy',\n",
       " 'Moderately Busy',\n",
       " 'Moderately Busy',\n",
       " 'Moderately Busy',\n",
       " 'Moderately Busy',\n",
       " 'Moderately Busy',\n",
       " 'Least Busy',\n",
       " 'Least Busy',\n",
       " 'Least Busy',\n",
       " 'Moderately Busy',\n",
       " 'Moderately Busy',\n",
       " 'Moderately Busy',\n",
       " 'Moderately Busy',\n",
       " 'Moderately Busy',\n",
       " 'Moderately Busy',\n",
       " 'Moderately Busy',\n",
       " 'Moderately Busy',\n",
       " 'Moderately Busy',\n",
       " 'Moderately Busy',\n",
       " 'Moderately Busy',\n",
       " 'Moderately Busy',\n",
       " 'Most Busy',\n",
       " 'Most Busy',\n",
       " 'Most Busy',\n",
       " 'Most Busy',\n",
       " 'Most Busy',\n",
       " 'Most Busy',\n",
       " 'Most Busy',\n",
       " 'Most Busy',\n",
       " 'Most Busy',\n",
       " 'Most Busy',\n",
       " 'Most Busy',\n",
       " 'Most Busy',\n",
       " 'Most Busy',\n",
       " 'Most Busy',\n",
       " 'Most Busy',\n",
       " 'Most Busy',\n",
       " 'Most Busy',\n",
       " 'Most Busy',\n",
       " 'Most Busy',\n",
       " 'Most Busy',\n",
       " 'Most Busy',\n",
       " 'Most Busy',\n",
       " 'Most Busy',\n",
       " 'Most Busy',\n",
       " 'Most Busy',\n",
       " 'Most Busy',\n",
       " 'Most Busy',\n",
       " 'Most Busy',\n",
       " 'Most Busy',\n",
       " 'Most Busy',\n",
       " 'Most Busy',\n",
       " 'Most Busy',\n",
       " 'Most Busy',\n",
       " 'Most Busy',\n",
       " 'Most Busy',\n",
       " 'Most Busy',\n",
       " 'Most Busy',\n",
       " 'Most Busy',\n",
       " 'Most Busy',\n",
       " 'Most Busy',\n",
       " 'Most Busy',\n",
       " 'Most Busy',\n",
       " 'Most Busy',\n",
       " 'Most Busy',\n",
       " 'Most Busy',\n",
       " 'Least Busy',\n",
       " 'Least Busy',\n",
       " 'Least Busy',\n",
       " 'Least Busy',\n",
       " 'Least Busy',\n",
       " 'Least Busy',\n",
       " 'Least Busy',\n",
       " 'Least Busy',\n",
       " 'Least Busy',\n",
       " 'Least Busy',\n",
       " 'Least Busy',\n",
       " 'Least Busy',\n",
       " 'Least Busy',\n",
       " 'Least Busy',\n",
       " 'Least Busy',\n",
       " 'Least Busy',\n",
       " 'Least Busy',\n",
       " 'Least Busy',\n",
       " 'Least Busy',\n",
       " 'Least Busy',\n",
       " 'Least Busy',\n",
       " 'Least Busy',\n",
       " 'Least Busy',\n",
       " 'Least Busy',\n",
       " 'Least Busy',\n",
       " 'Least Busy',\n",
       " 'Most Busy',\n",
       " 'Most Busy',\n",
       " 'Most Busy',\n",
       " 'Most Busy',\n",
       " 'Least Busy',\n",
       " 'Least Busy',\n",
       " 'Least Busy',\n",
       " 'Least Busy',\n",
       " 'Least Busy',\n",
       " 'Least Busy',\n",
       " 'Least Busy',\n",
       " 'Least Busy',\n",
       " 'Least Busy',\n",
       " 'Least Busy',\n",
       " 'Least Busy',\n",
       " 'Least Busy',\n",
       " 'Least Busy',\n",
       " 'Least Busy',\n",
       " 'Least Busy',\n",
       " 'Least Busy',\n",
       " 'Least Busy',\n",
       " 'Least Busy',\n",
       " 'Most Busy',\n",
       " 'Most Busy',\n",
       " 'Most Busy',\n",
       " 'Most Busy',\n",
       " 'Most Busy',\n",
       " 'Most Busy',\n",
       " 'Most Busy',\n",
       " 'Most Busy',\n",
       " 'Most Busy',\n",
       " 'Most Busy',\n",
       " 'Most Busy',\n",
       " 'Most Busy',\n",
       " 'Most Busy',\n",
       " 'Most Busy',\n",
       " 'Most Busy',\n",
       " 'Most Busy',\n",
       " 'Most Busy',\n",
       " 'Most Busy',\n",
       " 'Most Busy',\n",
       " 'Most Busy',\n",
       " 'Least Busy',\n",
       " 'Least Busy',\n",
       " 'Least Busy',\n",
       " 'Least Busy',\n",
       " 'Least Busy',\n",
       " 'Least Busy',\n",
       " 'Least Busy',\n",
       " 'Least Busy',\n",
       " 'Least Busy',\n",
       " 'Most Busy',\n",
       " 'Most Busy',\n",
       " 'Most Busy',\n",
       " 'Most Busy',\n",
       " 'Moderately Busy',\n",
       " 'Moderately Busy',\n",
       " 'Moderately Busy',\n",
       " 'Moderately Busy',\n",
       " 'Moderately Busy',\n",
       " 'Moderately Busy',\n",
       " 'Moderately Busy',\n",
       " 'Moderately Busy',\n",
       " 'Moderately Busy',\n",
       " 'Moderately Busy',\n",
       " 'Most Busy',\n",
       " 'Most Busy',\n",
       " 'Most Busy',\n",
       " 'Most Busy',\n",
       " 'Most Busy',\n",
       " 'Most Busy',\n",
       " 'Most Busy',\n",
       " 'Most Busy',\n",
       " 'Most Busy',\n",
       " 'Most Busy',\n",
       " 'Most Busy',\n",
       " 'Most Busy',\n",
       " 'Most Busy',\n",
       " 'Most Busy',\n",
       " 'Most Busy',\n",
       " 'Most Busy',\n",
       " 'Most Busy',\n",
       " 'Most Busy',\n",
       " 'Most Busy',\n",
       " 'Most Busy',\n",
       " 'Most Busy',\n",
       " 'Most Busy',\n",
       " 'Most Busy',\n",
       " 'Most Busy',\n",
       " 'Most Busy',\n",
       " 'Most Busy',\n",
       " 'Most Busy',\n",
       " 'Most Busy',\n",
       " 'Most Busy',\n",
       " 'Most Busy',\n",
       " 'Most Busy',\n",
       " 'Most Busy',\n",
       " 'Most Busy',\n",
       " 'Most Busy',\n",
       " 'Most Busy',\n",
       " 'Most Busy',\n",
       " 'Most Busy',\n",
       " 'Most Busy',\n",
       " 'Most Busy',\n",
       " 'Most Busy',\n",
       " 'Most Busy',\n",
       " 'Moderately Busy',\n",
       " 'Moderately Busy',\n",
       " 'Moderately Busy',\n",
       " 'Moderately Busy',\n",
       " 'Moderately Busy',\n",
       " 'Moderately Busy',\n",
       " 'Moderately Busy',\n",
       " 'Moderately Busy',\n",
       " 'Moderately Busy',\n",
       " 'Moderately Busy',\n",
       " 'Moderately Busy',\n",
       " 'Moderately Busy',\n",
       " 'Moderately Busy',\n",
       " 'Moderately Busy',\n",
       " 'Moderately Busy',\n",
       " 'Moderately Busy',\n",
       " 'Moderately Busy',\n",
       " 'Least Busy',\n",
       " 'Least Busy',\n",
       " 'Least Busy',\n",
       " 'Least Busy',\n",
       " 'Least Busy',\n",
       " 'Least Busy',\n",
       " 'Least Busy',\n",
       " 'Least Busy',\n",
       " 'Least Busy',\n",
       " 'Least Busy',\n",
       " 'Least Busy',\n",
       " 'Least Busy',\n",
       " 'Least Busy',\n",
       " 'Least Busy',\n",
       " 'Least Busy',\n",
       " 'Least Busy',\n",
       " 'Least Busy',\n",
       " 'Least Busy',\n",
       " 'Least Busy',\n",
       " 'Least Busy',\n",
       " 'Least Busy',\n",
       " 'Most Busy',\n",
       " 'Most Busy',\n",
       " 'Most Busy',\n",
       " 'Most Busy',\n",
       " 'Most Busy',\n",
       " 'Most Busy',\n",
       " 'Most Busy',\n",
       " 'Most Busy',\n",
       " 'Most Busy',\n",
       " 'Most Busy',\n",
       " 'Most Busy',\n",
       " 'Most Busy',\n",
       " 'Most Busy',\n",
       " 'Most Busy',\n",
       " 'Most Busy',\n",
       " 'Least Busy',\n",
       " 'Least Busy',\n",
       " 'Least Busy',\n",
       " 'Least Busy',\n",
       " 'Least Busy',\n",
       " 'Least Busy',\n",
       " 'Least Busy',\n",
       " 'Least Busy',\n",
       " 'Least Busy',\n",
       " 'Least Busy',\n",
       " 'Least Busy',\n",
       " 'Least Busy',\n",
       " 'Least Busy',\n",
       " 'Most Busy',\n",
       " 'Most Busy',\n",
       " 'Most Busy',\n",
       " 'Most Busy',\n",
       " 'Most Busy',\n",
       " 'Most Busy',\n",
       " 'Most Busy',\n",
       " 'Most Busy',\n",
       " 'Most Busy',\n",
       " 'Most Busy',\n",
       " 'Most Busy',\n",
       " 'Most Busy',\n",
       " 'Most Busy',\n",
       " 'Most Busy',\n",
       " 'Most Busy',\n",
       " 'Most Busy',\n",
       " 'Most Busy',\n",
       " 'Most Busy',\n",
       " 'Most Busy',\n",
       " 'Most Busy',\n",
       " 'Most Busy',\n",
       " 'Most Busy',\n",
       " 'Most Busy',\n",
       " 'Most Busy',\n",
       " 'Most Busy',\n",
       " 'Most Busy',\n",
       " 'Most Busy',\n",
       " 'Most Busy',\n",
       " 'Most Busy',\n",
       " 'Most Busy',\n",
       " 'Most Busy',\n",
       " 'Most Busy',\n",
       " 'Most Busy',\n",
       " 'Most Busy',\n",
       " 'Most Busy',\n",
       " 'Most Busy',\n",
       " 'Most Busy',\n",
       " 'Most Busy',\n",
       " 'Most Busy',\n",
       " 'Most Busy',\n",
       " 'Most Busy',\n",
       " 'Least Busy',\n",
       " 'Least Busy',\n",
       " 'Least Busy',\n",
       " 'Least Busy',\n",
       " 'Least Busy',\n",
       " 'Least Busy',\n",
       " 'Least Busy',\n",
       " 'Least Busy',\n",
       " 'Least Busy',\n",
       " 'Least Busy',\n",
       " 'Least Busy',\n",
       " 'Least Busy',\n",
       " 'Least Busy',\n",
       " 'Least Busy',\n",
       " 'Least Busy',\n",
       " 'Least Busy',\n",
       " 'Least Busy',\n",
       " 'Least Busy',\n",
       " 'Least Busy',\n",
       " 'Least Busy',\n",
       " 'Least Busy',\n",
       " 'Least Busy',\n",
       " 'Least Busy',\n",
       " 'Least Busy',\n",
       " 'Least Busy',\n",
       " 'Least Busy',\n",
       " 'Least Busy',\n",
       " 'Least Busy',\n",
       " 'Least Busy',\n",
       " 'Least Busy',\n",
       " 'Least Busy',\n",
       " 'Least Busy',\n",
       " 'Least Busy',\n",
       " 'Least Busy',\n",
       " 'Least Busy',\n",
       " 'Least Busy',\n",
       " 'Least Busy',\n",
       " 'Least Busy',\n",
       " 'Least Busy',\n",
       " 'Least Busy',\n",
       " 'Least Busy',\n",
       " 'Least Busy',\n",
       " 'Least Busy',\n",
       " 'Least Busy',\n",
       " 'Least Busy',\n",
       " 'Least Busy',\n",
       " 'Least Busy',\n",
       " 'Least Busy',\n",
       " 'Least Busy',\n",
       " 'Least Busy',\n",
       " 'Least Busy',\n",
       " 'Least Busy',\n",
       " 'Least Busy',\n",
       " 'Least Busy',\n",
       " 'Least Busy',\n",
       " 'Least Busy',\n",
       " 'Least Busy',\n",
       " 'Least Busy',\n",
       " 'Least Busy',\n",
       " 'Least Busy',\n",
       " 'Least Busy',\n",
       " 'Least Busy',\n",
       " 'Least Busy',\n",
       " 'Least Busy',\n",
       " 'Least Busy',\n",
       " 'Least Busy',\n",
       " 'Least Busy',\n",
       " 'Least Busy',\n",
       " 'Least Busy',\n",
       " 'Least Busy',\n",
       " 'Least Busy',\n",
       " 'Least Busy',\n",
       " 'Least Busy',\n",
       " 'Least Busy',\n",
       " 'Least Busy',\n",
       " 'Least Busy',\n",
       " 'Least Busy',\n",
       " 'Least Busy',\n",
       " 'Least Busy',\n",
       " 'Least Busy',\n",
       " 'Least Busy',\n",
       " 'Least Busy',\n",
       " 'Least Busy',\n",
       " 'Least Busy',\n",
       " 'Least Busy',\n",
       " 'Least Busy',\n",
       " 'Moderately Busy',\n",
       " 'Moderately Busy',\n",
       " 'Moderately Busy',\n",
       " 'Moderately Busy',\n",
       " 'Moderately Busy',\n",
       " 'Moderately Busy',\n",
       " 'Moderately Busy',\n",
       " 'Moderately Busy',\n",
       " 'Moderately Busy',\n",
       " 'Moderately Busy',\n",
       " 'Moderately Busy',\n",
       " 'Moderately Busy',\n",
       " 'Moderately Busy',\n",
       " 'Moderately Busy',\n",
       " 'Moderately Busy',\n",
       " 'Moderately Busy',\n",
       " 'Moderately Busy',\n",
       " 'Moderately Busy',\n",
       " 'Moderately Busy',\n",
       " 'Moderately Busy',\n",
       " 'Moderately Busy',\n",
       " 'Moderately Busy',\n",
       " 'Moderately Busy',\n",
       " 'Moderately Busy',\n",
       " 'Moderately Busy',\n",
       " 'Moderately Busy',\n",
       " 'Moderately Busy',\n",
       " 'Moderately Busy',\n",
       " 'Moderately Busy',\n",
       " 'Moderately Busy',\n",
       " 'Moderately Busy',\n",
       " 'Moderately Busy',\n",
       " 'Moderately Busy',\n",
       " 'Moderately Busy',\n",
       " 'Moderately Busy',\n",
       " 'Moderately Busy',\n",
       " 'Moderately Busy',\n",
       " 'Moderately Busy',\n",
       " 'Moderately Busy',\n",
       " 'Moderately Busy',\n",
       " 'Moderately Busy',\n",
       " 'Moderately Busy',\n",
       " 'Moderately Busy',\n",
       " 'Moderately Busy',\n",
       " 'Moderately Busy',\n",
       " 'Moderately Busy',\n",
       " 'Moderately Busy',\n",
       " 'Moderately Busy',\n",
       " 'Moderately Busy',\n",
       " 'Moderately Busy',\n",
       " 'Moderately Busy',\n",
       " 'Moderately Busy',\n",
       " 'Moderately Busy',\n",
       " 'Moderately Busy',\n",
       " 'Moderately Busy',\n",
       " 'Moderately Busy',\n",
       " 'Moderately Busy',\n",
       " 'Moderately Busy',\n",
       " 'Moderately Busy',\n",
       " 'Moderately Busy',\n",
       " 'Moderately Busy',\n",
       " 'Moderately Busy',\n",
       " 'Moderately Busy',\n",
       " 'Least Busy',\n",
       " 'Least Busy',\n",
       " 'Least Busy',\n",
       " 'Least Busy',\n",
       " 'Least Busy',\n",
       " 'Least Busy',\n",
       " 'Least Busy',\n",
       " 'Least Busy',\n",
       " 'Least Busy',\n",
       " 'Least Busy',\n",
       " 'Least Busy',\n",
       " 'Least Busy',\n",
       " 'Least Busy',\n",
       " 'Least Busy',\n",
       " 'Least Busy',\n",
       " 'Least Busy',\n",
       " 'Least Busy',\n",
       " 'Least Busy',\n",
       " 'Least Busy',\n",
       " 'Least Busy',\n",
       " 'Least Busy',\n",
       " 'Least Busy',\n",
       " 'Least Busy',\n",
       " 'Least Busy',\n",
       " 'Least Busy',\n",
       " 'Least Busy',\n",
       " 'Least Busy',\n",
       " 'Least Busy',\n",
       " 'Least Busy',\n",
       " 'Most Busy',\n",
       " 'Most Busy',\n",
       " 'Most Busy',\n",
       " 'Most Busy',\n",
       " 'Most Busy',\n",
       " 'Most Busy',\n",
       " 'Most Busy',\n",
       " 'Most Busy',\n",
       " 'Most Busy',\n",
       " 'Most Busy',\n",
       " 'Most Busy',\n",
       " 'Most Busy',\n",
       " 'Most Busy',\n",
       " 'Least Busy',\n",
       " 'Least Busy',\n",
       " 'Least Busy',\n",
       " 'Least Busy',\n",
       " 'Least Busy',\n",
       " 'Least Busy',\n",
       " 'Least Busy',\n",
       " 'Least Busy',\n",
       " 'Least Busy',\n",
       " 'Least Busy',\n",
       " 'Least Busy',\n",
       " 'Least Busy',\n",
       " 'Least Busy',\n",
       " 'Least Busy',\n",
       " 'Least Busy',\n",
       " 'Least Busy',\n",
       " 'Least Busy',\n",
       " 'Least Busy',\n",
       " 'Least Busy',\n",
       " 'Least Busy',\n",
       " 'Least Busy',\n",
       " 'Least Busy',\n",
       " 'Least Busy',\n",
       " 'Least Busy',\n",
       " 'Least Busy',\n",
       " 'Least Busy',\n",
       " 'Least Busy',\n",
       " 'Least Busy',\n",
       " 'Least Busy',\n",
       " 'Least Busy',\n",
       " 'Least Busy',\n",
       " 'Least Busy',\n",
       " 'Least Busy',\n",
       " 'Least Busy',\n",
       " 'Least Busy',\n",
       " 'Least Busy',\n",
       " 'Least Busy',\n",
       " 'Least Busy',\n",
       " 'Least Busy',\n",
       " 'Least Busy',\n",
       " 'Least Busy',\n",
       " 'Least Busy',\n",
       " 'Least Busy',\n",
       " 'Least Busy',\n",
       " 'Least Busy',\n",
       " 'Least Busy',\n",
       " 'Least Busy',\n",
       " 'Least Busy',\n",
       " 'Least Busy',\n",
       " 'Least Busy',\n",
       " 'Least Busy',\n",
       " 'Least Busy',\n",
       " 'Least Busy',\n",
       " 'Least Busy',\n",
       " 'Least Busy',\n",
       " 'Least Busy',\n",
       " 'Least Busy',\n",
       " 'Least Busy',\n",
       " 'Least Busy',\n",
       " 'Least Busy',\n",
       " 'Least Busy',\n",
       " 'Least Busy',\n",
       " 'Least Busy',\n",
       " 'Least Busy',\n",
       " 'Least Busy',\n",
       " 'Least Busy',\n",
       " 'Least Busy',\n",
       " 'Least Busy',\n",
       " 'Least Busy',\n",
       " 'Least Busy',\n",
       " 'Least Busy',\n",
       " 'Least Busy',\n",
       " 'Least Busy',\n",
       " 'Least Busy',\n",
       " 'Least Busy',\n",
       " 'Least Busy',\n",
       " 'Least Busy',\n",
       " 'Least Busy',\n",
       " 'Least Busy',\n",
       " 'Least Busy',\n",
       " 'Least Busy',\n",
       " 'Most Busy',\n",
       " 'Most Busy',\n",
       " 'Most Busy',\n",
       " 'Least Busy',\n",
       " 'Least Busy',\n",
       " 'Least Busy',\n",
       " 'Least Busy',\n",
       " 'Least Busy',\n",
       " 'Least Busy',\n",
       " 'Least Busy',\n",
       " 'Least Busy',\n",
       " 'Least Busy',\n",
       " 'Least Busy',\n",
       " 'Least Busy',\n",
       " 'Least Busy',\n",
       " 'Least Busy',\n",
       " 'Least Busy',\n",
       " 'Least Busy',\n",
       " 'Least Busy',\n",
       " 'Least Busy',\n",
       " 'Least Busy',\n",
       " ...]"
      ]
     },
     "execution_count": 10,
     "metadata": {},
     "output_type": "execute_result"
    }
   ],
   "source": [
    "#View list\n",
    "result_1"
   ]
  },
  {
   "cell_type": "code",
   "execution_count": 11,
   "id": "ffd07465-69aa-4344-9b22-7afdd0b48c6c",
   "metadata": {},
   "outputs": [],
   "source": [
    "#Create new variable and set it equal to results of loop\n",
    "df_merged_dataset['busiest_days'] = result_1"
   ]
  },
  {
   "cell_type": "code",
   "execution_count": 12,
   "id": "f87858eb-ccd3-4b5f-b848-1ab14fb185ae",
   "metadata": {},
   "outputs": [
    {
     "data": {
      "text/html": [
       "<div>\n",
       "<style scoped>\n",
       "    .dataframe tbody tr th:only-of-type {\n",
       "        vertical-align: middle;\n",
       "    }\n",
       "\n",
       "    .dataframe tbody tr th {\n",
       "        vertical-align: top;\n",
       "    }\n",
       "\n",
       "    .dataframe thead th {\n",
       "        text-align: right;\n",
       "    }\n",
       "</style>\n",
       "<table border=\"1\" class=\"dataframe\">\n",
       "  <thead>\n",
       "    <tr style=\"text-align: right;\">\n",
       "      <th></th>\n",
       "      <th>order_day_of_week</th>\n",
       "      <th>busiest_days</th>\n",
       "    </tr>\n",
       "  </thead>\n",
       "  <tbody>\n",
       "    <tr>\n",
       "      <th>0</th>\n",
       "      <td>2</td>\n",
       "      <td>Least Busy</td>\n",
       "    </tr>\n",
       "    <tr>\n",
       "      <th>1</th>\n",
       "      <td>2</td>\n",
       "      <td>Least Busy</td>\n",
       "    </tr>\n",
       "    <tr>\n",
       "      <th>2</th>\n",
       "      <td>2</td>\n",
       "      <td>Least Busy</td>\n",
       "    </tr>\n",
       "    <tr>\n",
       "      <th>3</th>\n",
       "      <td>2</td>\n",
       "      <td>Least Busy</td>\n",
       "    </tr>\n",
       "    <tr>\n",
       "      <th>4</th>\n",
       "      <td>2</td>\n",
       "      <td>Least Busy</td>\n",
       "    </tr>\n",
       "    <tr>\n",
       "      <th>...</th>\n",
       "      <td>...</td>\n",
       "      <td>...</td>\n",
       "    </tr>\n",
       "    <tr>\n",
       "      <th>95</th>\n",
       "      <td>2</td>\n",
       "      <td>Least Busy</td>\n",
       "    </tr>\n",
       "    <tr>\n",
       "      <th>96</th>\n",
       "      <td>3</td>\n",
       "      <td>Moderately Busy</td>\n",
       "    </tr>\n",
       "    <tr>\n",
       "      <th>97</th>\n",
       "      <td>3</td>\n",
       "      <td>Moderately Busy</td>\n",
       "    </tr>\n",
       "    <tr>\n",
       "      <th>98</th>\n",
       "      <td>3</td>\n",
       "      <td>Moderately Busy</td>\n",
       "    </tr>\n",
       "    <tr>\n",
       "      <th>99</th>\n",
       "      <td>3</td>\n",
       "      <td>Moderately Busy</td>\n",
       "    </tr>\n",
       "  </tbody>\n",
       "</table>\n",
       "<p>100 rows × 2 columns</p>\n",
       "</div>"
      ],
      "text/plain": [
       "    order_day_of_week     busiest_days\n",
       "0                   2       Least Busy\n",
       "1                   2       Least Busy\n",
       "2                   2       Least Busy\n",
       "3                   2       Least Busy\n",
       "4                   2       Least Busy\n",
       "..                ...              ...\n",
       "95                  2       Least Busy\n",
       "96                  3  Moderately Busy\n",
       "97                  3  Moderately Busy\n",
       "98                  3  Moderately Busy\n",
       "99                  3  Moderately Busy\n",
       "\n",
       "[100 rows x 2 columns]"
      ]
     },
     "execution_count": 12,
     "metadata": {},
     "output_type": "execute_result"
    }
   ],
   "source": [
    "#Confirm results\n",
    "df_merged_dataset[['order_day_of_week', 'busiest_days']].head(100)"
   ]
  },
  {
   "cell_type": "code",
   "execution_count": 13,
   "id": "516c4bc5-6e75-4c2f-b8da-94e2cae1bc15",
   "metadata": {},
   "outputs": [
    {
     "data": {
      "text/plain": [
       "(32403719, 23)"
      ]
     },
     "execution_count": 13,
     "metadata": {},
     "output_type": "execute_result"
    }
   ],
   "source": [
    "#Dimensions\n",
    "df_merged_dataset.shape"
   ]
  },
  {
   "cell_type": "code",
   "execution_count": 14,
   "id": "43b3ebb0-23a5-48ba-805b-8911decb8db9",
   "metadata": {},
   "outputs": [
    {
     "data": {
      "text/plain": [
       "busiest_days\n",
       "Least Busy         12915657\n",
       "Most Busy          11863938\n",
       "Moderately Busy     7624124\n",
       "Name: count, dtype: int64"
      ]
     },
     "execution_count": 14,
     "metadata": {},
     "output_type": "execute_result"
    }
   ],
   "source": [
    "#Check frequency distribution of new variable\n",
    "df_merged_dataset['busiest_days'].value_counts(dropna = False)"
   ]
  },
  {
   "cell_type": "markdown",
   "id": "7cfec190-bf8b-45fc-ba49-1592dcae1946",
   "metadata": {},
   "source": [
    "## 3.2. Busiest Hours"
   ]
  },
  {
   "cell_type": "code",
   "execution_count": 15,
   "id": "964c74a8-6ad9-406d-ab67-d866e0939ded",
   "metadata": {},
   "outputs": [
    {
     "data": {
      "text/plain": [
       "order_hour_of_day\n",
       "10    2761660\n",
       "11    2736010\n",
       "14    2689036\n",
       "15    2662044\n",
       "13    2660846\n",
       "12    2618430\n",
       "16    2535106\n",
       "9     2454127\n",
       "17    2087564\n",
       "8     1718082\n",
       "18    1636436\n",
       "19    1258275\n",
       "20     976134\n",
       "7      891026\n",
       "21     795619\n",
       "22     634207\n",
       "23     402314\n",
       "6      290491\n",
       "0      218763\n",
       "1      115698\n",
       "5       87957\n",
       "2       69373\n",
       "4       53240\n",
       "3       51281\n",
       "Name: count, dtype: int64"
      ]
     },
     "execution_count": 15,
     "metadata": {},
     "output_type": "execute_result"
    }
   ],
   "source": [
    "#Check frequency distribution of variable\n",
    "df_merged_dataset['order_hour_of_day'].value_counts()"
   ]
  },
  {
   "cell_type": "code",
   "execution_count": 16,
   "id": "77f471ed-fc9a-40e2-8456-cceabdd4b0e2",
   "metadata": {},
   "outputs": [],
   "source": [
    "#Create loop and place results in list\n",
    "result_2 = []\n",
    "\n",
    "for value in df_merged_dataset['order_hour_of_day']:\n",
    "    if value in [9, 10, 11, 12, 13, 14, 15, 16, 17]: # More than 2m orders\n",
    "        result_2.append('Most Busy')\n",
    "    elif value in [23, 0, 1, 2, 3, 4, 5, 6]: #less than 500k orders\n",
    "        result_2.append('Least Busy')\n",
    "    else:\n",
    "        result_2.append('Moderately Busy')"
   ]
  },
  {
   "cell_type": "code",
   "execution_count": 17,
   "id": "288ec7c3-9462-49f2-83e3-9c8ac805f5ba",
   "metadata": {},
   "outputs": [],
   "source": [
    "#Create new variable and set it equal to results of loop\n",
    "df_merged_dataset['busiest_hours'] = result_2"
   ]
  },
  {
   "cell_type": "code",
   "execution_count": 18,
   "id": "b735ee6b-57da-483d-bdce-b892d48de5e0",
   "metadata": {},
   "outputs": [
    {
     "data": {
      "text/plain": [
       "(32403719, 24)"
      ]
     },
     "execution_count": 18,
     "metadata": {},
     "output_type": "execute_result"
    }
   ],
   "source": [
    "#Dimensions\n",
    "df_merged_dataset.shape"
   ]
  },
  {
   "cell_type": "code",
   "execution_count": 19,
   "id": "2cd02b44-054c-4c2a-b762-d91bdea8cb42",
   "metadata": {},
   "outputs": [
    {
     "data": {
      "text/plain": [
       "busiest_hours\n",
       "Most Busy          23204823\n",
       "Moderately Busy     7909779\n",
       "Least Busy          1289117\n",
       "Name: count, dtype: int64"
      ]
     },
     "execution_count": 19,
     "metadata": {},
     "output_type": "execute_result"
    }
   ],
   "source": [
    "#Check frequency distribution of new variable\n",
    "df_merged_dataset['busiest_hours'].value_counts(dropna = False)"
   ]
  },
  {
   "cell_type": "markdown",
   "id": "d509957b-5250-462d-a8ef-e6505167ddd7",
   "metadata": {},
   "source": [
    "## 3.3. Price Label"
   ]
  },
  {
   "cell_type": "code",
   "execution_count": 20,
   "id": "58317ae4-5874-4c94-97e3-0dd27b2650b5",
   "metadata": {},
   "outputs": [
    {
     "data": {
      "text/plain": [
       "prices\n",
       "1.0     115143\n",
       "1.1     242782\n",
       "1.2     256258\n",
       "1.3     425691\n",
       "1.4     392209\n",
       "         ...  \n",
       "24.6      1962\n",
       "24.7      7283\n",
       "24.8       410\n",
       "24.9      5781\n",
       "25.0     13772\n",
       "Name: count, Length: 241, dtype: int64"
      ]
     },
     "execution_count": 20,
     "metadata": {},
     "output_type": "execute_result"
    }
   ],
   "source": [
    "#Check frequency distribution of variable\n",
    "df_merged_dataset['prices'].value_counts(dropna = False).sort_index()"
   ]
  },
  {
   "cell_type": "code",
   "execution_count": 21,
   "id": "a1378628-ce86-4185-ad4c-2b7f4047de29",
   "metadata": {},
   "outputs": [],
   "source": [
    "#Define the conditions\n",
    "conditions = [\n",
    "    df_merged_dataset['prices'] <= 5,\n",
    "    (df_merged_dataset['prices'] > 5) & (df_merged_dataset['prices'] <= 15),\n",
    "    df_merged_dataset['prices'] > 15\n",
    "]\n",
    "\n",
    "#Define corresponding labels\n",
    "choices = ['Low Range', 'Mid Range', 'High Range']\n",
    "\n",
    "#Create new variable based on the conditions\n",
    "df_merged_dataset['price_label'] = np.select(conditions, choices, default = 'Unknown')"
   ]
  },
  {
   "cell_type": "code",
   "execution_count": 22,
   "id": "cc2e2924-2dcc-49e3-b919-21e21e11ebc6",
   "metadata": {},
   "outputs": [
    {
     "data": {
      "text/html": [
       "<div>\n",
       "<style scoped>\n",
       "    .dataframe tbody tr th:only-of-type {\n",
       "        vertical-align: middle;\n",
       "    }\n",
       "\n",
       "    .dataframe tbody tr th {\n",
       "        vertical-align: top;\n",
       "    }\n",
       "\n",
       "    .dataframe thead th {\n",
       "        text-align: right;\n",
       "    }\n",
       "</style>\n",
       "<table border=\"1\" class=\"dataframe\">\n",
       "  <thead>\n",
       "    <tr style=\"text-align: right;\">\n",
       "      <th></th>\n",
       "      <th>prices</th>\n",
       "      <th>price_label</th>\n",
       "    </tr>\n",
       "  </thead>\n",
       "  <tbody>\n",
       "    <tr>\n",
       "      <th>0</th>\n",
       "      <td>9.0</td>\n",
       "      <td>Mid Range</td>\n",
       "    </tr>\n",
       "    <tr>\n",
       "      <th>1</th>\n",
       "      <td>12.5</td>\n",
       "      <td>Mid Range</td>\n",
       "    </tr>\n",
       "    <tr>\n",
       "      <th>2</th>\n",
       "      <td>4.4</td>\n",
       "      <td>Low Range</td>\n",
       "    </tr>\n",
       "    <tr>\n",
       "      <th>3</th>\n",
       "      <td>4.7</td>\n",
       "      <td>Low Range</td>\n",
       "    </tr>\n",
       "    <tr>\n",
       "      <th>4</th>\n",
       "      <td>1.0</td>\n",
       "      <td>Low Range</td>\n",
       "    </tr>\n",
       "    <tr>\n",
       "      <th>...</th>\n",
       "      <td>...</td>\n",
       "      <td>...</td>\n",
       "    </tr>\n",
       "    <tr>\n",
       "      <th>95</th>\n",
       "      <td>5.9</td>\n",
       "      <td>Mid Range</td>\n",
       "    </tr>\n",
       "    <tr>\n",
       "      <th>96</th>\n",
       "      <td>14.0</td>\n",
       "      <td>Mid Range</td>\n",
       "    </tr>\n",
       "    <tr>\n",
       "      <th>97</th>\n",
       "      <td>2.9</td>\n",
       "      <td>Low Range</td>\n",
       "    </tr>\n",
       "    <tr>\n",
       "      <th>98</th>\n",
       "      <td>1.6</td>\n",
       "      <td>Low Range</td>\n",
       "    </tr>\n",
       "    <tr>\n",
       "      <th>99</th>\n",
       "      <td>3.4</td>\n",
       "      <td>Low Range</td>\n",
       "    </tr>\n",
       "  </tbody>\n",
       "</table>\n",
       "<p>100 rows × 2 columns</p>\n",
       "</div>"
      ],
      "text/plain": [
       "    prices price_label\n",
       "0      9.0   Mid Range\n",
       "1     12.5   Mid Range\n",
       "2      4.4   Low Range\n",
       "3      4.7   Low Range\n",
       "4      1.0   Low Range\n",
       "..     ...         ...\n",
       "95     5.9   Mid Range\n",
       "96    14.0   Mid Range\n",
       "97     2.9   Low Range\n",
       "98     1.6   Low Range\n",
       "99     3.4   Low Range\n",
       "\n",
       "[100 rows x 2 columns]"
      ]
     },
     "execution_count": 22,
     "metadata": {},
     "output_type": "execute_result"
    }
   ],
   "source": [
    "#Confirm results\n",
    "df_merged_dataset[['prices', 'price_label']].head(100)"
   ]
  },
  {
   "cell_type": "code",
   "execution_count": 23,
   "id": "eae7642d-7b92-4255-9300-8fcc34e798cc",
   "metadata": {},
   "outputs": [
    {
     "data": {
      "text/plain": [
       "(32403719, 25)"
      ]
     },
     "execution_count": 23,
     "metadata": {},
     "output_type": "execute_result"
    }
   ],
   "source": [
    "#Dimensions\n",
    "df_merged_dataset.shape"
   ]
  },
  {
   "cell_type": "code",
   "execution_count": 24,
   "id": "6a49b890-ac12-4fec-b608-fa16ce318e55",
   "metadata": {},
   "outputs": [
    {
     "data": {
      "text/plain": [
       "price_label\n",
       "Mid Range     21865409\n",
       "Low Range     10125759\n",
       "High Range      412551\n",
       "Name: count, dtype: int64"
      ]
     },
     "execution_count": 24,
     "metadata": {},
     "output_type": "execute_result"
    }
   ],
   "source": [
    "#Check frequency distribution of new variable\n",
    "df_merged_dataset['price_label'].value_counts(dropna = False)"
   ]
  },
  {
   "cell_type": "markdown",
   "id": "17a390bd-aa08-4089-bf2b-3a89544950a1",
   "metadata": {},
   "source": [
    "## 3.4. Mean Price"
   ]
  },
  {
   "cell_type": "code",
   "execution_count": 33,
   "id": "877747dc-c200-404c-a7bf-ddfa2b328d29",
   "metadata": {},
   "outputs": [],
   "source": [
    "#Average spent(price) by user_id\n",
    "df_merged_dataset['avg_price'] = df_merged_dataset.groupby(['user_id'])['prices'].transform('mean')"
   ]
  },
  {
   "cell_type": "code",
   "execution_count": 34,
   "id": "55dd2cb8-7873-4b3a-bb06-6cf0ec0f81b6",
   "metadata": {
    "scrolled": true
   },
   "outputs": [
    {
     "data": {
      "text/html": [
       "<div>\n",
       "<style scoped>\n",
       "    .dataframe tbody tr th:only-of-type {\n",
       "        vertical-align: middle;\n",
       "    }\n",
       "\n",
       "    .dataframe tbody tr th {\n",
       "        vertical-align: top;\n",
       "    }\n",
       "\n",
       "    .dataframe thead th {\n",
       "        text-align: right;\n",
       "    }\n",
       "</style>\n",
       "<table border=\"1\" class=\"dataframe\">\n",
       "  <thead>\n",
       "    <tr style=\"text-align: right;\">\n",
       "      <th></th>\n",
       "      <th>user_id</th>\n",
       "      <th>avg_price</th>\n",
       "    </tr>\n",
       "  </thead>\n",
       "  <tbody>\n",
       "    <tr>\n",
       "      <th>0</th>\n",
       "      <td>1</td>\n",
       "      <td>6.367797</td>\n",
       "    </tr>\n",
       "    <tr>\n",
       "      <th>1</th>\n",
       "      <td>1</td>\n",
       "      <td>6.367797</td>\n",
       "    </tr>\n",
       "    <tr>\n",
       "      <th>2</th>\n",
       "      <td>1</td>\n",
       "      <td>6.367797</td>\n",
       "    </tr>\n",
       "    <tr>\n",
       "      <th>3</th>\n",
       "      <td>1</td>\n",
       "      <td>6.367797</td>\n",
       "    </tr>\n",
       "    <tr>\n",
       "      <th>4</th>\n",
       "      <td>1</td>\n",
       "      <td>6.367797</td>\n",
       "    </tr>\n",
       "    <tr>\n",
       "      <th>...</th>\n",
       "      <td>...</td>\n",
       "      <td>...</td>\n",
       "    </tr>\n",
       "    <tr>\n",
       "      <th>95</th>\n",
       "      <td>2</td>\n",
       "      <td>7.515897</td>\n",
       "    </tr>\n",
       "    <tr>\n",
       "      <th>96</th>\n",
       "      <td>2</td>\n",
       "      <td>7.515897</td>\n",
       "    </tr>\n",
       "    <tr>\n",
       "      <th>97</th>\n",
       "      <td>2</td>\n",
       "      <td>7.515897</td>\n",
       "    </tr>\n",
       "    <tr>\n",
       "      <th>98</th>\n",
       "      <td>2</td>\n",
       "      <td>7.515897</td>\n",
       "    </tr>\n",
       "    <tr>\n",
       "      <th>99</th>\n",
       "      <td>2</td>\n",
       "      <td>7.515897</td>\n",
       "    </tr>\n",
       "  </tbody>\n",
       "</table>\n",
       "<p>100 rows × 2 columns</p>\n",
       "</div>"
      ],
      "text/plain": [
       "    user_id  avg_price\n",
       "0         1   6.367797\n",
       "1         1   6.367797\n",
       "2         1   6.367797\n",
       "3         1   6.367797\n",
       "4         1   6.367797\n",
       "..      ...        ...\n",
       "95        2   7.515897\n",
       "96        2   7.515897\n",
       "97        2   7.515897\n",
       "98        2   7.515897\n",
       "99        2   7.515897\n",
       "\n",
       "[100 rows x 2 columns]"
      ]
     },
     "execution_count": 34,
     "metadata": {},
     "output_type": "execute_result"
    }
   ],
   "source": [
    "#Confirm results\n",
    "df_merged_dataset[['user_id', 'avg_price']].head(100)"
   ]
  },
  {
   "cell_type": "code",
   "execution_count": 35,
   "id": "64c40ce6-4a1e-4d52-815f-f49e1d9bad0d",
   "metadata": {},
   "outputs": [
    {
     "data": {
      "text/plain": [
       "(32403719, 27)"
      ]
     },
     "execution_count": 35,
     "metadata": {},
     "output_type": "execute_result"
    }
   ],
   "source": [
    "#Dimensions\n",
    "df_merged_dataset.shape"
   ]
  },
  {
   "cell_type": "markdown",
   "id": "2769bc49-3297-458f-b29f-87689474467a",
   "metadata": {},
   "source": [
    "## 3.5. Spending Flag"
   ]
  },
  {
   "cell_type": "code",
   "execution_count": 36,
   "id": "64282687-9aad-442a-8897-52e33b4f5917",
   "metadata": {},
   "outputs": [
    {
     "data": {
      "text/plain": [
       "count    3.240372e+07\n",
       "mean     7.792048e+00\n",
       "std      7.348679e-01\n",
       "min      1.000000e+00\n",
       "25%      7.379634e+00\n",
       "50%      7.813158e+00\n",
       "75%      8.230503e+00\n",
       "max      2.320000e+01\n",
       "Name: avg_price, dtype: float64"
      ]
     },
     "execution_count": 36,
     "metadata": {},
     "output_type": "execute_result"
    }
   ],
   "source": [
    "df_merged_dataset['avg_price'].describe()"
   ]
  },
  {
   "cell_type": "code",
   "execution_count": 37,
   "id": "22f5d7a6-a92c-4f49-8898-d5c7d29ee99d",
   "metadata": {},
   "outputs": [],
   "source": [
    "# Define conditions\n",
    "conditions = [\n",
    "    df_merged_dataset['avg_price'] <= 5,\n",
    "    (df_merged_dataset['avg_price'] > 5) & (df_merged_dataset['avg_price'] <= 15),\n",
    "    df_merged_dataset['avg_price'] > 15\n",
    "]\n",
    "# Define corresponding labels\n",
    "labels = ['Low Spender', 'Moderate Spender', 'High Spender']\n",
    "\n",
    "# Assign loyalty flags using np.select()\n",
    "df_merged_dataset['spending_flag'] = np.select(conditions, labels, default = 'Unknown')"
   ]
  },
  {
   "cell_type": "code",
   "execution_count": 38,
   "id": "079e71ac-4ba8-4a18-81de-7608c4b68c3d",
   "metadata": {},
   "outputs": [
    {
     "data": {
      "text/html": [
       "<div>\n",
       "<style scoped>\n",
       "    .dataframe tbody tr th:only-of-type {\n",
       "        vertical-align: middle;\n",
       "    }\n",
       "\n",
       "    .dataframe tbody tr th {\n",
       "        vertical-align: top;\n",
       "    }\n",
       "\n",
       "    .dataframe thead th {\n",
       "        text-align: right;\n",
       "    }\n",
       "</style>\n",
       "<table border=\"1\" class=\"dataframe\">\n",
       "  <thead>\n",
       "    <tr style=\"text-align: right;\">\n",
       "      <th></th>\n",
       "      <th>avg_price</th>\n",
       "      <th>spending_flag</th>\n",
       "    </tr>\n",
       "  </thead>\n",
       "  <tbody>\n",
       "    <tr>\n",
       "      <th>0</th>\n",
       "      <td>6.367797</td>\n",
       "      <td>Moderate Spender</td>\n",
       "    </tr>\n",
       "    <tr>\n",
       "      <th>1</th>\n",
       "      <td>6.367797</td>\n",
       "      <td>Moderate Spender</td>\n",
       "    </tr>\n",
       "    <tr>\n",
       "      <th>2</th>\n",
       "      <td>6.367797</td>\n",
       "      <td>Moderate Spender</td>\n",
       "    </tr>\n",
       "    <tr>\n",
       "      <th>3</th>\n",
       "      <td>6.367797</td>\n",
       "      <td>Moderate Spender</td>\n",
       "    </tr>\n",
       "    <tr>\n",
       "      <th>4</th>\n",
       "      <td>6.367797</td>\n",
       "      <td>Moderate Spender</td>\n",
       "    </tr>\n",
       "    <tr>\n",
       "      <th>...</th>\n",
       "      <td>...</td>\n",
       "      <td>...</td>\n",
       "    </tr>\n",
       "    <tr>\n",
       "      <th>95</th>\n",
       "      <td>7.515897</td>\n",
       "      <td>Moderate Spender</td>\n",
       "    </tr>\n",
       "    <tr>\n",
       "      <th>96</th>\n",
       "      <td>7.515897</td>\n",
       "      <td>Moderate Spender</td>\n",
       "    </tr>\n",
       "    <tr>\n",
       "      <th>97</th>\n",
       "      <td>7.515897</td>\n",
       "      <td>Moderate Spender</td>\n",
       "    </tr>\n",
       "    <tr>\n",
       "      <th>98</th>\n",
       "      <td>7.515897</td>\n",
       "      <td>Moderate Spender</td>\n",
       "    </tr>\n",
       "    <tr>\n",
       "      <th>99</th>\n",
       "      <td>7.515897</td>\n",
       "      <td>Moderate Spender</td>\n",
       "    </tr>\n",
       "  </tbody>\n",
       "</table>\n",
       "<p>100 rows × 2 columns</p>\n",
       "</div>"
      ],
      "text/plain": [
       "    avg_price     spending_flag\n",
       "0    6.367797  Moderate Spender\n",
       "1    6.367797  Moderate Spender\n",
       "2    6.367797  Moderate Spender\n",
       "3    6.367797  Moderate Spender\n",
       "4    6.367797  Moderate Spender\n",
       "..        ...               ...\n",
       "95   7.515897  Moderate Spender\n",
       "96   7.515897  Moderate Spender\n",
       "97   7.515897  Moderate Spender\n",
       "98   7.515897  Moderate Spender\n",
       "99   7.515897  Moderate Spender\n",
       "\n",
       "[100 rows x 2 columns]"
      ]
     },
     "execution_count": 38,
     "metadata": {},
     "output_type": "execute_result"
    }
   ],
   "source": [
    "#Confirm results\n",
    "df_merged_dataset[['avg_price', 'spending_flag']].head(100)"
   ]
  },
  {
   "cell_type": "code",
   "execution_count": 39,
   "id": "4ed8cb11-6e14-43b6-a299-081758ec27af",
   "metadata": {},
   "outputs": [
    {
     "data": {
      "text/plain": [
       "(32403719, 28)"
      ]
     },
     "execution_count": 39,
     "metadata": {},
     "output_type": "execute_result"
    }
   ],
   "source": [
    "#Dimensions\n",
    "df_merged_dataset.shape"
   ]
  },
  {
   "cell_type": "code",
   "execution_count": 40,
   "id": "e9747b70-97b8-4b4b-9079-0392925b5e33",
   "metadata": {},
   "outputs": [
    {
     "data": {
      "text/plain": [
       "spending_flag\n",
       "Moderate Spender    32315896\n",
       "Low Spender            87560\n",
       "High Spender             263\n",
       "Name: count, dtype: int64"
      ]
     },
     "execution_count": 40,
     "metadata": {},
     "output_type": "execute_result"
    }
   ],
   "source": [
    "#Check frequency distribution of new variable\n",
    "df_merged_dataset['spending_flag'].value_counts(dropna = False)"
   ]
  },
  {
   "cell_type": "code",
   "execution_count": 41,
   "id": "4b05c579-af43-4b84-81b2-ded4bfb50a08",
   "metadata": {
    "scrolled": true
   },
   "outputs": [
    {
     "data": {
      "text/plain": [
       "spending_flag\n",
       "High Spender            22\n",
       "Low Spender           2919\n",
       "Moderate Spender    203268\n",
       "Name: user_id, dtype: int64"
      ]
     },
     "execution_count": 41,
     "metadata": {},
     "output_type": "execute_result"
    }
   ],
   "source": [
    "#Check distribution of user_id's by spending_flag\n",
    "df_merged_dataset.groupby('spending_flag')['user_id'].nunique()"
   ]
  },
  {
   "cell_type": "markdown",
   "id": "4444a006-d8be-41ba-a385-fcbec5c9898e",
   "metadata": {
    "editable": true,
    "slideshow": {
     "slide_type": ""
    },
    "tags": []
   },
   "source": [
    "## 3.6. Max Order"
   ]
  },
  {
   "cell_type": "code",
   "execution_count": 42,
   "id": "6cd5b806-1ada-4cfb-a6ae-1c126273bdb4",
   "metadata": {},
   "outputs": [],
   "source": [
    "#Group by 'user_id' and return the 'max_order' number in new column\n",
    "df_merged_dataset['max_order'] = df_merged_dataset.groupby(['user_id'])['user_order_count'].transform('max')"
   ]
  },
  {
   "cell_type": "code",
   "execution_count": 43,
   "id": "b2d1c72c-f089-4f78-9adb-514f98eeb905",
   "metadata": {},
   "outputs": [
    {
     "data": {
      "text/html": [
       "<div>\n",
       "<style scoped>\n",
       "    .dataframe tbody tr th:only-of-type {\n",
       "        vertical-align: middle;\n",
       "    }\n",
       "\n",
       "    .dataframe tbody tr th {\n",
       "        vertical-align: top;\n",
       "    }\n",
       "\n",
       "    .dataframe thead th {\n",
       "        text-align: right;\n",
       "    }\n",
       "</style>\n",
       "<table border=\"1\" class=\"dataframe\">\n",
       "  <thead>\n",
       "    <tr style=\"text-align: right;\">\n",
       "      <th></th>\n",
       "      <th>user_id</th>\n",
       "      <th>max_order</th>\n",
       "    </tr>\n",
       "  </thead>\n",
       "  <tbody>\n",
       "    <tr>\n",
       "      <th>0</th>\n",
       "      <td>1</td>\n",
       "      <td>10</td>\n",
       "    </tr>\n",
       "    <tr>\n",
       "      <th>1</th>\n",
       "      <td>1</td>\n",
       "      <td>10</td>\n",
       "    </tr>\n",
       "    <tr>\n",
       "      <th>2</th>\n",
       "      <td>1</td>\n",
       "      <td>10</td>\n",
       "    </tr>\n",
       "    <tr>\n",
       "      <th>3</th>\n",
       "      <td>1</td>\n",
       "      <td>10</td>\n",
       "    </tr>\n",
       "    <tr>\n",
       "      <th>4</th>\n",
       "      <td>1</td>\n",
       "      <td>10</td>\n",
       "    </tr>\n",
       "    <tr>\n",
       "      <th>...</th>\n",
       "      <td>...</td>\n",
       "      <td>...</td>\n",
       "    </tr>\n",
       "    <tr>\n",
       "      <th>95</th>\n",
       "      <td>2</td>\n",
       "      <td>14</td>\n",
       "    </tr>\n",
       "    <tr>\n",
       "      <th>96</th>\n",
       "      <td>2</td>\n",
       "      <td>14</td>\n",
       "    </tr>\n",
       "    <tr>\n",
       "      <th>97</th>\n",
       "      <td>2</td>\n",
       "      <td>14</td>\n",
       "    </tr>\n",
       "    <tr>\n",
       "      <th>98</th>\n",
       "      <td>2</td>\n",
       "      <td>14</td>\n",
       "    </tr>\n",
       "    <tr>\n",
       "      <th>99</th>\n",
       "      <td>2</td>\n",
       "      <td>14</td>\n",
       "    </tr>\n",
       "  </tbody>\n",
       "</table>\n",
       "<p>100 rows × 2 columns</p>\n",
       "</div>"
      ],
      "text/plain": [
       "    user_id  max_order\n",
       "0         1         10\n",
       "1         1         10\n",
       "2         1         10\n",
       "3         1         10\n",
       "4         1         10\n",
       "..      ...        ...\n",
       "95        2         14\n",
       "96        2         14\n",
       "97        2         14\n",
       "98        2         14\n",
       "99        2         14\n",
       "\n",
       "[100 rows x 2 columns]"
      ]
     },
     "execution_count": 43,
     "metadata": {},
     "output_type": "execute_result"
    }
   ],
   "source": [
    "#Confirm results\n",
    "df_merged_dataset[['user_id', 'max_order']].head(100)"
   ]
  },
  {
   "cell_type": "code",
   "execution_count": 44,
   "id": "4e5107e1-e49c-463d-94ab-30e1d86177c8",
   "metadata": {},
   "outputs": [
    {
     "data": {
      "text/plain": [
       "(32403719, 29)"
      ]
     },
     "execution_count": 44,
     "metadata": {},
     "output_type": "execute_result"
    }
   ],
   "source": [
    "#Dimensions\n",
    "df_merged_dataset.shape"
   ]
  },
  {
   "cell_type": "markdown",
   "id": "4ec5d810-6d8a-4407-a05a-7d50385449cf",
   "metadata": {},
   "source": [
    "## 3.7. Engagement Flag"
   ]
  },
  {
   "cell_type": "code",
   "execution_count": 45,
   "id": "350514f2-7a65-4efa-a716-d3502a521dd9",
   "metadata": {},
   "outputs": [
    {
     "data": {
      "text/plain": [
       "count    3.240372e+07\n",
       "mean     3.305262e+01\n",
       "std      2.515541e+01\n",
       "min      1.000000e+00\n",
       "25%      1.300000e+01\n",
       "50%      2.600000e+01\n",
       "75%      4.700000e+01\n",
       "max      9.900000e+01\n",
       "Name: max_order, dtype: float64"
      ]
     },
     "execution_count": 45,
     "metadata": {},
     "output_type": "execute_result"
    }
   ],
   "source": [
    "df_merged_dataset['max_order'].describe()"
   ]
  },
  {
   "cell_type": "code",
   "execution_count": 46,
   "id": "ce769ff5-e79f-4883-a391-15e41efc904b",
   "metadata": {},
   "outputs": [],
   "source": [
    "# Define conditions\n",
    "conditions = [\n",
    "    df_merged_dataset['max_order'] <= 14, #bottom 25%\n",
    "    (df_merged_dataset['max_order'] > 14) & (df_merged_dataset['max_order'] <= 48), #middle 50%\n",
    "    df_merged_dataset['max_order'] > 48 #top 25%\n",
    "]\n",
    "\n",
    "# Define corresponding labels\n",
    "labels = ['Low Engagement', 'Moderate Engagement', 'High Engagement']\n",
    "\n",
    "# Assign loyalty flags using np.select()\n",
    "df_merged_dataset['engagement_flag'] = np.select(conditions, labels, default = 'Unknown')"
   ]
  },
  {
   "cell_type": "code",
   "execution_count": 47,
   "id": "712270c7-b0ec-46f1-8d71-40a6f7e45e60",
   "metadata": {},
   "outputs": [
    {
     "data": {
      "text/html": [
       "<div>\n",
       "<style scoped>\n",
       "    .dataframe tbody tr th:only-of-type {\n",
       "        vertical-align: middle;\n",
       "    }\n",
       "\n",
       "    .dataframe tbody tr th {\n",
       "        vertical-align: top;\n",
       "    }\n",
       "\n",
       "    .dataframe thead th {\n",
       "        text-align: right;\n",
       "    }\n",
       "</style>\n",
       "<table border=\"1\" class=\"dataframe\">\n",
       "  <thead>\n",
       "    <tr style=\"text-align: right;\">\n",
       "      <th></th>\n",
       "      <th>max_order</th>\n",
       "      <th>engagement_flag</th>\n",
       "    </tr>\n",
       "  </thead>\n",
       "  <tbody>\n",
       "    <tr>\n",
       "      <th>0</th>\n",
       "      <td>10</td>\n",
       "      <td>Low Engagement</td>\n",
       "    </tr>\n",
       "    <tr>\n",
       "      <th>1</th>\n",
       "      <td>10</td>\n",
       "      <td>Low Engagement</td>\n",
       "    </tr>\n",
       "    <tr>\n",
       "      <th>2</th>\n",
       "      <td>10</td>\n",
       "      <td>Low Engagement</td>\n",
       "    </tr>\n",
       "    <tr>\n",
       "      <th>3</th>\n",
       "      <td>10</td>\n",
       "      <td>Low Engagement</td>\n",
       "    </tr>\n",
       "    <tr>\n",
       "      <th>4</th>\n",
       "      <td>10</td>\n",
       "      <td>Low Engagement</td>\n",
       "    </tr>\n",
       "    <tr>\n",
       "      <th>...</th>\n",
       "      <td>...</td>\n",
       "      <td>...</td>\n",
       "    </tr>\n",
       "    <tr>\n",
       "      <th>95</th>\n",
       "      <td>14</td>\n",
       "      <td>Low Engagement</td>\n",
       "    </tr>\n",
       "    <tr>\n",
       "      <th>96</th>\n",
       "      <td>14</td>\n",
       "      <td>Low Engagement</td>\n",
       "    </tr>\n",
       "    <tr>\n",
       "      <th>97</th>\n",
       "      <td>14</td>\n",
       "      <td>Low Engagement</td>\n",
       "    </tr>\n",
       "    <tr>\n",
       "      <th>98</th>\n",
       "      <td>14</td>\n",
       "      <td>Low Engagement</td>\n",
       "    </tr>\n",
       "    <tr>\n",
       "      <th>99</th>\n",
       "      <td>14</td>\n",
       "      <td>Low Engagement</td>\n",
       "    </tr>\n",
       "  </tbody>\n",
       "</table>\n",
       "<p>100 rows × 2 columns</p>\n",
       "</div>"
      ],
      "text/plain": [
       "    max_order engagement_flag\n",
       "0          10  Low Engagement\n",
       "1          10  Low Engagement\n",
       "2          10  Low Engagement\n",
       "3          10  Low Engagement\n",
       "4          10  Low Engagement\n",
       "..        ...             ...\n",
       "95         14  Low Engagement\n",
       "96         14  Low Engagement\n",
       "97         14  Low Engagement\n",
       "98         14  Low Engagement\n",
       "99         14  Low Engagement\n",
       "\n",
       "[100 rows x 2 columns]"
      ]
     },
     "execution_count": 47,
     "metadata": {},
     "output_type": "execute_result"
    }
   ],
   "source": [
    "#Confirm results\n",
    "df_merged_dataset[['max_order', 'engagement_flag']].head(100)"
   ]
  },
  {
   "cell_type": "code",
   "execution_count": 48,
   "id": "b2a0eb03-7e71-4c9a-8f16-87fca3f93405",
   "metadata": {},
   "outputs": [
    {
     "data": {
      "text/plain": [
       "(32403719, 30)"
      ]
     },
     "execution_count": 48,
     "metadata": {},
     "output_type": "execute_result"
    }
   ],
   "source": [
    "#Dimensions\n",
    "df_merged_dataset.shape"
   ]
  },
  {
   "cell_type": "code",
   "execution_count": 49,
   "id": "6e365630-e460-49a6-b994-3004b0682ebe",
   "metadata": {},
   "outputs": [
    {
     "data": {
      "text/plain": [
       "engagement_flag\n",
       "Moderate Engagement    15499267\n",
       "Low Engagement          9227866\n",
       "High Engagement         7676586\n",
       "Name: count, dtype: int64"
      ]
     },
     "execution_count": 49,
     "metadata": {},
     "output_type": "execute_result"
    }
   ],
   "source": [
    "#Check frequency distribution of new variable\n",
    "df_merged_dataset['engagement_flag'].value_counts(dropna = False)"
   ]
  },
  {
   "cell_type": "code",
   "execution_count": 50,
   "id": "13c97bad-fbe4-499e-aeed-393ed970ae81",
   "metadata": {},
   "outputs": [
    {
     "data": {
      "text/plain": [
       "engagement_flag\n",
       "High Engagement         11464\n",
       "Low Engagement         136320\n",
       "Moderate Engagement     58425\n",
       "Name: user_id, dtype: int64"
      ]
     },
     "execution_count": 50,
     "metadata": {},
     "output_type": "execute_result"
    }
   ],
   "source": [
    "#Check distribution of user_id's by loyalty_flag\n",
    "df_merged_dataset.groupby('engagement_flag')['user_id'].nunique()"
   ]
  },
  {
   "cell_type": "code",
   "execution_count": 51,
   "id": "1b279d18-6858-4117-9753-7beb4e41a5ba",
   "metadata": {},
   "outputs": [
    {
     "data": {
      "text/html": [
       "<div>\n",
       "<style scoped>\n",
       "    .dataframe tbody tr th:only-of-type {\n",
       "        vertical-align: middle;\n",
       "    }\n",
       "\n",
       "    .dataframe tbody tr th {\n",
       "        vertical-align: top;\n",
       "    }\n",
       "\n",
       "    .dataframe thead tr th {\n",
       "        text-align: left;\n",
       "    }\n",
       "\n",
       "    .dataframe thead tr:last-of-type th {\n",
       "        text-align: right;\n",
       "    }\n",
       "</style>\n",
       "<table border=\"1\" class=\"dataframe\">\n",
       "  <thead>\n",
       "    <tr>\n",
       "      <th></th>\n",
       "      <th colspan=\"3\" halign=\"left\">prices</th>\n",
       "    </tr>\n",
       "    <tr>\n",
       "      <th></th>\n",
       "      <th>mean</th>\n",
       "      <th>min</th>\n",
       "      <th>max</th>\n",
       "    </tr>\n",
       "    <tr>\n",
       "      <th>engagement_flag</th>\n",
       "      <th></th>\n",
       "      <th></th>\n",
       "      <th></th>\n",
       "    </tr>\n",
       "  </thead>\n",
       "  <tbody>\n",
       "    <tr>\n",
       "      <th>High Engagement</th>\n",
       "      <td>7.766651</td>\n",
       "      <td>1.0</td>\n",
       "      <td>25.0</td>\n",
       "    </tr>\n",
       "    <tr>\n",
       "      <th>Low Engagement</th>\n",
       "      <td>7.802519</td>\n",
       "      <td>1.0</td>\n",
       "      <td>25.0</td>\n",
       "    </tr>\n",
       "    <tr>\n",
       "      <th>Moderate Engagement</th>\n",
       "      <td>7.798393</td>\n",
       "      <td>1.0</td>\n",
       "      <td>25.0</td>\n",
       "    </tr>\n",
       "  </tbody>\n",
       "</table>\n",
       "</div>"
      ],
      "text/plain": [
       "                       prices           \n",
       "                         mean  min   max\n",
       "engagement_flag                         \n",
       "High Engagement      7.766651  1.0  25.0\n",
       "Low Engagement       7.802519  1.0  25.0\n",
       "Moderate Engagement  7.798393  1.0  25.0"
      ]
     },
     "execution_count": 51,
     "metadata": {},
     "output_type": "execute_result"
    }
   ],
   "source": [
    "#Basic price statistics by loyalty_flag\n",
    "df_merged_dataset.groupby('engagement_flag').agg({'prices': ['mean', 'min', 'max']})"
   ]
  },
  {
   "cell_type": "markdown",
   "id": "6466a65c-59f5-4ad7-99e8-7ef7b9116596",
   "metadata": {},
   "source": [
    "## 3.8. Median Days"
   ]
  },
  {
   "cell_type": "code",
   "execution_count": 52,
   "id": "db047d7f-0b79-4a47-82ef-1cd966324244",
   "metadata": {},
   "outputs": [],
   "source": [
    "#Median of days_since_prior_order by user_id\n",
    "df_merged_dataset['median_days'] = df_merged_dataset.groupby(['user_id'])['days_since_last_order'].transform('median')"
   ]
  },
  {
   "cell_type": "code",
   "execution_count": 53,
   "id": "3d76cbde-0cb3-475b-b044-c1602917b416",
   "metadata": {},
   "outputs": [
    {
     "data": {
      "text/html": [
       "<div>\n",
       "<style scoped>\n",
       "    .dataframe tbody tr th:only-of-type {\n",
       "        vertical-align: middle;\n",
       "    }\n",
       "\n",
       "    .dataframe tbody tr th {\n",
       "        vertical-align: top;\n",
       "    }\n",
       "\n",
       "    .dataframe thead th {\n",
       "        text-align: right;\n",
       "    }\n",
       "</style>\n",
       "<table border=\"1\" class=\"dataframe\">\n",
       "  <thead>\n",
       "    <tr style=\"text-align: right;\">\n",
       "      <th></th>\n",
       "      <th>user_id</th>\n",
       "      <th>median_days</th>\n",
       "    </tr>\n",
       "  </thead>\n",
       "  <tbody>\n",
       "    <tr>\n",
       "      <th>0</th>\n",
       "      <td>1</td>\n",
       "      <td>20.5</td>\n",
       "    </tr>\n",
       "    <tr>\n",
       "      <th>1</th>\n",
       "      <td>1</td>\n",
       "      <td>20.5</td>\n",
       "    </tr>\n",
       "    <tr>\n",
       "      <th>2</th>\n",
       "      <td>1</td>\n",
       "      <td>20.5</td>\n",
       "    </tr>\n",
       "    <tr>\n",
       "      <th>3</th>\n",
       "      <td>1</td>\n",
       "      <td>20.5</td>\n",
       "    </tr>\n",
       "    <tr>\n",
       "      <th>4</th>\n",
       "      <td>1</td>\n",
       "      <td>20.5</td>\n",
       "    </tr>\n",
       "    <tr>\n",
       "      <th>...</th>\n",
       "      <td>...</td>\n",
       "      <td>...</td>\n",
       "    </tr>\n",
       "    <tr>\n",
       "      <th>95</th>\n",
       "      <td>2</td>\n",
       "      <td>13.0</td>\n",
       "    </tr>\n",
       "    <tr>\n",
       "      <th>96</th>\n",
       "      <td>2</td>\n",
       "      <td>13.0</td>\n",
       "    </tr>\n",
       "    <tr>\n",
       "      <th>97</th>\n",
       "      <td>2</td>\n",
       "      <td>13.0</td>\n",
       "    </tr>\n",
       "    <tr>\n",
       "      <th>98</th>\n",
       "      <td>2</td>\n",
       "      <td>13.0</td>\n",
       "    </tr>\n",
       "    <tr>\n",
       "      <th>99</th>\n",
       "      <td>2</td>\n",
       "      <td>13.0</td>\n",
       "    </tr>\n",
       "  </tbody>\n",
       "</table>\n",
       "<p>100 rows × 2 columns</p>\n",
       "</div>"
      ],
      "text/plain": [
       "    user_id  median_days\n",
       "0         1         20.5\n",
       "1         1         20.5\n",
       "2         1         20.5\n",
       "3         1         20.5\n",
       "4         1         20.5\n",
       "..      ...          ...\n",
       "95        2         13.0\n",
       "96        2         13.0\n",
       "97        2         13.0\n",
       "98        2         13.0\n",
       "99        2         13.0\n",
       "\n",
       "[100 rows x 2 columns]"
      ]
     },
     "execution_count": 53,
     "metadata": {},
     "output_type": "execute_result"
    }
   ],
   "source": [
    "#Confirm results\n",
    "df_merged_dataset[['user_id', 'median_days']].head(100)"
   ]
  },
  {
   "cell_type": "code",
   "execution_count": 54,
   "id": "181eab0f-11f5-471e-a7e4-af900d2c8e5f",
   "metadata": {},
   "outputs": [
    {
     "data": {
      "text/plain": [
       "(32403719, 31)"
      ]
     },
     "execution_count": 54,
     "metadata": {},
     "output_type": "execute_result"
    }
   ],
   "source": [
    "#Dimensions\n",
    "df_merged_dataset.shape"
   ]
  },
  {
   "cell_type": "markdown",
   "id": "f715610c-74a5-4955-a54b-9e210ae56027",
   "metadata": {},
   "source": [
    "## 3.9. Frequency Flag"
   ]
  },
  {
   "cell_type": "code",
   "execution_count": 55,
   "id": "663890ad-0202-4d25-abc8-bedfc1173c7b",
   "metadata": {},
   "outputs": [
    {
     "data": {
      "text/plain": [
       "count    3.240371e+07\n",
       "mean     1.039772e+01\n",
       "std      7.131751e+00\n",
       "min      0.000000e+00\n",
       "25%      6.000000e+00\n",
       "50%      8.000000e+00\n",
       "75%      1.300000e+01\n",
       "max      3.000000e+01\n",
       "Name: median_days, dtype: float64"
      ]
     },
     "execution_count": 55,
     "metadata": {},
     "output_type": "execute_result"
    }
   ],
   "source": [
    "df_merged_dataset['median_days'].describe()"
   ]
  },
  {
   "cell_type": "code",
   "execution_count": 56,
   "id": "ea5ffe29-81e4-4c91-937c-e5150c04d40e",
   "metadata": {},
   "outputs": [
    {
     "data": {
      "text/plain": [
       "median_days\n",
       "7.0     5682308\n",
       "6.0     2983630\n",
       "8.0     2713829\n",
       "5.0     2485736\n",
       "4.0     2314265\n",
       "         ...   \n",
       "27.5       5292\n",
       "29.5       5095\n",
       "1.5        1684\n",
       "0.5         235\n",
       "NaN           5\n",
       "Name: count, Length: 62, dtype: int64"
      ]
     },
     "execution_count": 56,
     "metadata": {},
     "output_type": "execute_result"
    }
   ],
   "source": [
    "#Check frequency distribution of new variable\n",
    "df_merged_dataset['median_days'].value_counts(dropna = False)"
   ]
  },
  {
   "cell_type": "code",
   "execution_count": 57,
   "id": "e4c3d30d-a31c-4a54-af7a-6a21cfefd072",
   "metadata": {},
   "outputs": [
    {
     "data": {
      "text/html": [
       "<div>\n",
       "<style scoped>\n",
       "    .dataframe tbody tr th:only-of-type {\n",
       "        vertical-align: middle;\n",
       "    }\n",
       "\n",
       "    .dataframe tbody tr th {\n",
       "        vertical-align: top;\n",
       "    }\n",
       "\n",
       "    .dataframe thead th {\n",
       "        text-align: right;\n",
       "    }\n",
       "</style>\n",
       "<table border=\"1\" class=\"dataframe\">\n",
       "  <thead>\n",
       "    <tr style=\"text-align: right;\">\n",
       "      <th></th>\n",
       "      <th>order_id</th>\n",
       "      <th>user_id</th>\n",
       "      <th>user_order_count</th>\n",
       "      <th>order_day_of_week</th>\n",
       "      <th>order_hour_of_day</th>\n",
       "      <th>days_since_last_order</th>\n",
       "      <th>is_first_order</th>\n",
       "      <th>product_id</th>\n",
       "      <th>add_to_cart_order</th>\n",
       "      <th>reordered</th>\n",
       "      <th>...</th>\n",
       "      <th>department</th>\n",
       "      <th>busiest_days</th>\n",
       "      <th>busiest_hours</th>\n",
       "      <th>price_label</th>\n",
       "      <th>mean_price</th>\n",
       "      <th>avg_price</th>\n",
       "      <th>spending_flag</th>\n",
       "      <th>max_order</th>\n",
       "      <th>engagement_flag</th>\n",
       "      <th>median_days</th>\n",
       "    </tr>\n",
       "  </thead>\n",
       "  <tbody>\n",
       "    <tr>\n",
       "      <th>25156010</th>\n",
       "      <td>895835</td>\n",
       "      <td>159838</td>\n",
       "      <td>1</td>\n",
       "      <td>0</td>\n",
       "      <td>17</td>\n",
       "      <td>NaN</td>\n",
       "      <td>True</td>\n",
       "      <td>22198</td>\n",
       "      <td>1</td>\n",
       "      <td>0</td>\n",
       "      <td>...</td>\n",
       "      <td>household</td>\n",
       "      <td>Most Busy</td>\n",
       "      <td>Most Busy</td>\n",
       "      <td>Low Range</td>\n",
       "      <td>5.7</td>\n",
       "      <td>7.42</td>\n",
       "      <td>Moderate Spender</td>\n",
       "      <td>1</td>\n",
       "      <td>Low Engagement</td>\n",
       "      <td>NaN</td>\n",
       "    </tr>\n",
       "    <tr>\n",
       "      <th>25156011</th>\n",
       "      <td>895835</td>\n",
       "      <td>159838</td>\n",
       "      <td>1</td>\n",
       "      <td>0</td>\n",
       "      <td>17</td>\n",
       "      <td>NaN</td>\n",
       "      <td>True</td>\n",
       "      <td>23695</td>\n",
       "      <td>2</td>\n",
       "      <td>0</td>\n",
       "      <td>...</td>\n",
       "      <td>frozen</td>\n",
       "      <td>Most Busy</td>\n",
       "      <td>Most Busy</td>\n",
       "      <td>Low Range</td>\n",
       "      <td>5.7</td>\n",
       "      <td>7.42</td>\n",
       "      <td>Moderate Spender</td>\n",
       "      <td>1</td>\n",
       "      <td>Low Engagement</td>\n",
       "      <td>NaN</td>\n",
       "    </tr>\n",
       "    <tr>\n",
       "      <th>25156012</th>\n",
       "      <td>895835</td>\n",
       "      <td>159838</td>\n",
       "      <td>1</td>\n",
       "      <td>0</td>\n",
       "      <td>17</td>\n",
       "      <td>NaN</td>\n",
       "      <td>True</td>\n",
       "      <td>10749</td>\n",
       "      <td>3</td>\n",
       "      <td>0</td>\n",
       "      <td>...</td>\n",
       "      <td>produce</td>\n",
       "      <td>Most Busy</td>\n",
       "      <td>Most Busy</td>\n",
       "      <td>Mid Range</td>\n",
       "      <td>5.7</td>\n",
       "      <td>7.42</td>\n",
       "      <td>Moderate Spender</td>\n",
       "      <td>1</td>\n",
       "      <td>Low Engagement</td>\n",
       "      <td>NaN</td>\n",
       "    </tr>\n",
       "    <tr>\n",
       "      <th>25156013</th>\n",
       "      <td>895835</td>\n",
       "      <td>159838</td>\n",
       "      <td>1</td>\n",
       "      <td>0</td>\n",
       "      <td>17</td>\n",
       "      <td>NaN</td>\n",
       "      <td>True</td>\n",
       "      <td>21334</td>\n",
       "      <td>5</td>\n",
       "      <td>0</td>\n",
       "      <td>...</td>\n",
       "      <td>produce</td>\n",
       "      <td>Most Busy</td>\n",
       "      <td>Most Busy</td>\n",
       "      <td>Mid Range</td>\n",
       "      <td>5.7</td>\n",
       "      <td>7.42</td>\n",
       "      <td>Moderate Spender</td>\n",
       "      <td>1</td>\n",
       "      <td>Low Engagement</td>\n",
       "      <td>NaN</td>\n",
       "    </tr>\n",
       "    <tr>\n",
       "      <th>25156014</th>\n",
       "      <td>895835</td>\n",
       "      <td>159838</td>\n",
       "      <td>1</td>\n",
       "      <td>0</td>\n",
       "      <td>17</td>\n",
       "      <td>NaN</td>\n",
       "      <td>True</td>\n",
       "      <td>33401</td>\n",
       "      <td>6</td>\n",
       "      <td>0</td>\n",
       "      <td>...</td>\n",
       "      <td>dairy eggs</td>\n",
       "      <td>Most Busy</td>\n",
       "      <td>Most Busy</td>\n",
       "      <td>Mid Range</td>\n",
       "      <td>5.7</td>\n",
       "      <td>7.42</td>\n",
       "      <td>Moderate Spender</td>\n",
       "      <td>1</td>\n",
       "      <td>Low Engagement</td>\n",
       "      <td>NaN</td>\n",
       "    </tr>\n",
       "  </tbody>\n",
       "</table>\n",
       "<p>5 rows × 31 columns</p>\n",
       "</div>"
      ],
      "text/plain": [
       "          order_id  user_id  user_order_count  order_day_of_week  \\\n",
       "25156010    895835   159838                 1                  0   \n",
       "25156011    895835   159838                 1                  0   \n",
       "25156012    895835   159838                 1                  0   \n",
       "25156013    895835   159838                 1                  0   \n",
       "25156014    895835   159838                 1                  0   \n",
       "\n",
       "          order_hour_of_day  days_since_last_order  is_first_order  \\\n",
       "25156010                 17                    NaN            True   \n",
       "25156011                 17                    NaN            True   \n",
       "25156012                 17                    NaN            True   \n",
       "25156013                 17                    NaN            True   \n",
       "25156014                 17                    NaN            True   \n",
       "\n",
       "          product_id  add_to_cart_order  reordered  ...  department  \\\n",
       "25156010       22198                  1          0  ...   household   \n",
       "25156011       23695                  2          0  ...      frozen   \n",
       "25156012       10749                  3          0  ...     produce   \n",
       "25156013       21334                  5          0  ...     produce   \n",
       "25156014       33401                  6          0  ...  dairy eggs   \n",
       "\n",
       "          busiest_days  busiest_hours  price_label mean_price avg_price  \\\n",
       "25156010     Most Busy      Most Busy    Low Range        5.7      7.42   \n",
       "25156011     Most Busy      Most Busy    Low Range        5.7      7.42   \n",
       "25156012     Most Busy      Most Busy    Mid Range        5.7      7.42   \n",
       "25156013     Most Busy      Most Busy    Mid Range        5.7      7.42   \n",
       "25156014     Most Busy      Most Busy    Mid Range        5.7      7.42   \n",
       "\n",
       "             spending_flag max_order  engagement_flag median_days  \n",
       "25156010  Moderate Spender         1   Low Engagement         NaN  \n",
       "25156011  Moderate Spender         1   Low Engagement         NaN  \n",
       "25156012  Moderate Spender         1   Low Engagement         NaN  \n",
       "25156013  Moderate Spender         1   Low Engagement         NaN  \n",
       "25156014  Moderate Spender         1   Low Engagement         NaN  \n",
       "\n",
       "[5 rows x 31 columns]"
      ]
     },
     "execution_count": 57,
     "metadata": {},
     "output_type": "execute_result"
    }
   ],
   "source": [
    "#Variable includes 5 NaN values where days_since_last-order is Nan - Include under Rare Shopper\n",
    "df_null_median_days = df_merged_dataset[df_merged_dataset['median_days'].isna()]\n",
    "df_null_median_days"
   ]
  },
  {
   "cell_type": "code",
   "execution_count": 58,
   "id": "403fe149-3ee2-4a4e-99ac-b97be2cda1f0",
   "metadata": {},
   "outputs": [
    {
     "data": {
      "text/html": [
       "<div>\n",
       "<style scoped>\n",
       "    .dataframe tbody tr th:only-of-type {\n",
       "        vertical-align: middle;\n",
       "    }\n",
       "\n",
       "    .dataframe tbody tr th {\n",
       "        vertical-align: top;\n",
       "    }\n",
       "\n",
       "    .dataframe thead th {\n",
       "        text-align: right;\n",
       "    }\n",
       "</style>\n",
       "<table border=\"1\" class=\"dataframe\">\n",
       "  <thead>\n",
       "    <tr style=\"text-align: right;\">\n",
       "      <th></th>\n",
       "      <th>order_id</th>\n",
       "      <th>user_id</th>\n",
       "      <th>user_order_count</th>\n",
       "      <th>order_day_of_week</th>\n",
       "      <th>order_hour_of_day</th>\n",
       "      <th>days_since_last_order</th>\n",
       "      <th>is_first_order</th>\n",
       "      <th>product_id</th>\n",
       "      <th>add_to_cart_order</th>\n",
       "      <th>reordered</th>\n",
       "      <th>...</th>\n",
       "      <th>department</th>\n",
       "      <th>busiest_days</th>\n",
       "      <th>busiest_hours</th>\n",
       "      <th>price_label</th>\n",
       "      <th>mean_price</th>\n",
       "      <th>avg_price</th>\n",
       "      <th>spending_flag</th>\n",
       "      <th>max_order</th>\n",
       "      <th>engagement_flag</th>\n",
       "      <th>median_days</th>\n",
       "    </tr>\n",
       "  </thead>\n",
       "  <tbody>\n",
       "    <tr>\n",
       "      <th>25156010</th>\n",
       "      <td>895835</td>\n",
       "      <td>159838</td>\n",
       "      <td>1</td>\n",
       "      <td>0</td>\n",
       "      <td>17</td>\n",
       "      <td>NaN</td>\n",
       "      <td>True</td>\n",
       "      <td>22198</td>\n",
       "      <td>1</td>\n",
       "      <td>0</td>\n",
       "      <td>...</td>\n",
       "      <td>household</td>\n",
       "      <td>Most Busy</td>\n",
       "      <td>Most Busy</td>\n",
       "      <td>Low Range</td>\n",
       "      <td>5.7</td>\n",
       "      <td>7.42</td>\n",
       "      <td>Moderate Spender</td>\n",
       "      <td>1</td>\n",
       "      <td>Low Engagement</td>\n",
       "      <td>NaN</td>\n",
       "    </tr>\n",
       "    <tr>\n",
       "      <th>25156011</th>\n",
       "      <td>895835</td>\n",
       "      <td>159838</td>\n",
       "      <td>1</td>\n",
       "      <td>0</td>\n",
       "      <td>17</td>\n",
       "      <td>NaN</td>\n",
       "      <td>True</td>\n",
       "      <td>23695</td>\n",
       "      <td>2</td>\n",
       "      <td>0</td>\n",
       "      <td>...</td>\n",
       "      <td>frozen</td>\n",
       "      <td>Most Busy</td>\n",
       "      <td>Most Busy</td>\n",
       "      <td>Low Range</td>\n",
       "      <td>5.7</td>\n",
       "      <td>7.42</td>\n",
       "      <td>Moderate Spender</td>\n",
       "      <td>1</td>\n",
       "      <td>Low Engagement</td>\n",
       "      <td>NaN</td>\n",
       "    </tr>\n",
       "    <tr>\n",
       "      <th>25156012</th>\n",
       "      <td>895835</td>\n",
       "      <td>159838</td>\n",
       "      <td>1</td>\n",
       "      <td>0</td>\n",
       "      <td>17</td>\n",
       "      <td>NaN</td>\n",
       "      <td>True</td>\n",
       "      <td>10749</td>\n",
       "      <td>3</td>\n",
       "      <td>0</td>\n",
       "      <td>...</td>\n",
       "      <td>produce</td>\n",
       "      <td>Most Busy</td>\n",
       "      <td>Most Busy</td>\n",
       "      <td>Mid Range</td>\n",
       "      <td>5.7</td>\n",
       "      <td>7.42</td>\n",
       "      <td>Moderate Spender</td>\n",
       "      <td>1</td>\n",
       "      <td>Low Engagement</td>\n",
       "      <td>NaN</td>\n",
       "    </tr>\n",
       "    <tr>\n",
       "      <th>25156013</th>\n",
       "      <td>895835</td>\n",
       "      <td>159838</td>\n",
       "      <td>1</td>\n",
       "      <td>0</td>\n",
       "      <td>17</td>\n",
       "      <td>NaN</td>\n",
       "      <td>True</td>\n",
       "      <td>21334</td>\n",
       "      <td>5</td>\n",
       "      <td>0</td>\n",
       "      <td>...</td>\n",
       "      <td>produce</td>\n",
       "      <td>Most Busy</td>\n",
       "      <td>Most Busy</td>\n",
       "      <td>Mid Range</td>\n",
       "      <td>5.7</td>\n",
       "      <td>7.42</td>\n",
       "      <td>Moderate Spender</td>\n",
       "      <td>1</td>\n",
       "      <td>Low Engagement</td>\n",
       "      <td>NaN</td>\n",
       "    </tr>\n",
       "    <tr>\n",
       "      <th>25156014</th>\n",
       "      <td>895835</td>\n",
       "      <td>159838</td>\n",
       "      <td>1</td>\n",
       "      <td>0</td>\n",
       "      <td>17</td>\n",
       "      <td>NaN</td>\n",
       "      <td>True</td>\n",
       "      <td>33401</td>\n",
       "      <td>6</td>\n",
       "      <td>0</td>\n",
       "      <td>...</td>\n",
       "      <td>dairy eggs</td>\n",
       "      <td>Most Busy</td>\n",
       "      <td>Most Busy</td>\n",
       "      <td>Mid Range</td>\n",
       "      <td>5.7</td>\n",
       "      <td>7.42</td>\n",
       "      <td>Moderate Spender</td>\n",
       "      <td>1</td>\n",
       "      <td>Low Engagement</td>\n",
       "      <td>NaN</td>\n",
       "    </tr>\n",
       "  </tbody>\n",
       "</table>\n",
       "<p>5 rows × 31 columns</p>\n",
       "</div>"
      ],
      "text/plain": [
       "          order_id  user_id  user_order_count  order_day_of_week  \\\n",
       "25156010    895835   159838                 1                  0   \n",
       "25156011    895835   159838                 1                  0   \n",
       "25156012    895835   159838                 1                  0   \n",
       "25156013    895835   159838                 1                  0   \n",
       "25156014    895835   159838                 1                  0   \n",
       "\n",
       "          order_hour_of_day  days_since_last_order  is_first_order  \\\n",
       "25156010                 17                    NaN            True   \n",
       "25156011                 17                    NaN            True   \n",
       "25156012                 17                    NaN            True   \n",
       "25156013                 17                    NaN            True   \n",
       "25156014                 17                    NaN            True   \n",
       "\n",
       "          product_id  add_to_cart_order  reordered  ...  department  \\\n",
       "25156010       22198                  1          0  ...   household   \n",
       "25156011       23695                  2          0  ...      frozen   \n",
       "25156012       10749                  3          0  ...     produce   \n",
       "25156013       21334                  5          0  ...     produce   \n",
       "25156014       33401                  6          0  ...  dairy eggs   \n",
       "\n",
       "          busiest_days  busiest_hours  price_label mean_price avg_price  \\\n",
       "25156010     Most Busy      Most Busy    Low Range        5.7      7.42   \n",
       "25156011     Most Busy      Most Busy    Low Range        5.7      7.42   \n",
       "25156012     Most Busy      Most Busy    Mid Range        5.7      7.42   \n",
       "25156013     Most Busy      Most Busy    Mid Range        5.7      7.42   \n",
       "25156014     Most Busy      Most Busy    Mid Range        5.7      7.42   \n",
       "\n",
       "             spending_flag max_order  engagement_flag median_days  \n",
       "25156010  Moderate Spender         1   Low Engagement         NaN  \n",
       "25156011  Moderate Spender         1   Low Engagement         NaN  \n",
       "25156012  Moderate Spender         1   Low Engagement         NaN  \n",
       "25156013  Moderate Spender         1   Low Engagement         NaN  \n",
       "25156014  Moderate Spender         1   Low Engagement         NaN  \n",
       "\n",
       "[5 rows x 31 columns]"
      ]
     },
     "execution_count": 58,
     "metadata": {},
     "output_type": "execute_result"
    }
   ],
   "source": [
    "df_null_median_days = df_merged_dataset[df_merged_dataset['median_days'].isna()]\n",
    "df_null_median_days"
   ]
  },
  {
   "cell_type": "code",
   "execution_count": 59,
   "id": "1f2012bf-9bbe-4384-b969-c3ff6fd50e54",
   "metadata": {},
   "outputs": [],
   "source": [
    "# Define conditions\n",
    "conditions = [\n",
    "    df_merged_dataset['median_days'] <= 6,\n",
    "    (df_merged_dataset['median_days'] > 6) & (df_merged_dataset['median_days'] <= 13),\n",
    "    df_merged_dataset['median_days'] > 13,\n",
    "    df_merged_dataset['median_days'].isna()\n",
    "]\n",
    "\n",
    "# Define corresponding labels\n",
    "labels = ['Frequent Shopper', 'Occasional Shopper', 'Rare Shopper', 'Rare Shopper']\n",
    "\n",
    "# Assign loyalty flags using np.select()\n",
    "df_merged_dataset['frequency_flag'] = np.select(conditions, labels, default = 'Unknown')"
   ]
  },
  {
   "cell_type": "code",
   "execution_count": 60,
   "id": "2eb137d9-52c1-4704-81df-ee549bd72f41",
   "metadata": {},
   "outputs": [
    {
     "data": {
      "text/html": [
       "<div>\n",
       "<style scoped>\n",
       "    .dataframe tbody tr th:only-of-type {\n",
       "        vertical-align: middle;\n",
       "    }\n",
       "\n",
       "    .dataframe tbody tr th {\n",
       "        vertical-align: top;\n",
       "    }\n",
       "\n",
       "    .dataframe thead th {\n",
       "        text-align: right;\n",
       "    }\n",
       "</style>\n",
       "<table border=\"1\" class=\"dataframe\">\n",
       "  <thead>\n",
       "    <tr style=\"text-align: right;\">\n",
       "      <th></th>\n",
       "      <th>median_days</th>\n",
       "      <th>frequency_flag</th>\n",
       "    </tr>\n",
       "  </thead>\n",
       "  <tbody>\n",
       "    <tr>\n",
       "      <th>0</th>\n",
       "      <td>20.5</td>\n",
       "      <td>Rare Shopper</td>\n",
       "    </tr>\n",
       "    <tr>\n",
       "      <th>1</th>\n",
       "      <td>20.5</td>\n",
       "      <td>Rare Shopper</td>\n",
       "    </tr>\n",
       "    <tr>\n",
       "      <th>2</th>\n",
       "      <td>20.5</td>\n",
       "      <td>Rare Shopper</td>\n",
       "    </tr>\n",
       "    <tr>\n",
       "      <th>3</th>\n",
       "      <td>20.5</td>\n",
       "      <td>Rare Shopper</td>\n",
       "    </tr>\n",
       "    <tr>\n",
       "      <th>4</th>\n",
       "      <td>20.5</td>\n",
       "      <td>Rare Shopper</td>\n",
       "    </tr>\n",
       "  </tbody>\n",
       "</table>\n",
       "</div>"
      ],
      "text/plain": [
       "   median_days frequency_flag\n",
       "0         20.5   Rare Shopper\n",
       "1         20.5   Rare Shopper\n",
       "2         20.5   Rare Shopper\n",
       "3         20.5   Rare Shopper\n",
       "4         20.5   Rare Shopper"
      ]
     },
     "execution_count": 60,
     "metadata": {},
     "output_type": "execute_result"
    }
   ],
   "source": [
    "#Confirm results\n",
    "df_merged_dataset[['median_days', 'frequency_flag']].head()"
   ]
  },
  {
   "cell_type": "code",
   "execution_count": 61,
   "id": "80c1a842-f807-403e-a703-03879345523e",
   "metadata": {},
   "outputs": [
    {
     "data": {
      "text/plain": [
       "(32403719, 32)"
      ]
     },
     "execution_count": 61,
     "metadata": {},
     "output_type": "execute_result"
    }
   ],
   "source": [
    "#Dimensions\n",
    "df_merged_dataset.shape"
   ]
  },
  {
   "cell_type": "code",
   "execution_count": 62,
   "id": "3b6cc863-1a98-42a4-b2eb-164d8d167c6c",
   "metadata": {},
   "outputs": [
    {
     "data": {
      "text/plain": [
       "frequency_flag\n",
       "Occasional Shopper    14622992\n",
       "Frequent Shopper      10091201\n",
       "Rare Shopper           7689526\n",
       "Name: count, dtype: int64"
      ]
     },
     "execution_count": 62,
     "metadata": {},
     "output_type": "execute_result"
    }
   ],
   "source": [
    "#Check frequency distribution of new variable\n",
    "df_merged_dataset['frequency_flag'].value_counts(dropna = False)"
   ]
  },
  {
   "cell_type": "code",
   "execution_count": 63,
   "id": "dfc0ffdb-9bbb-4f01-95a0-c6f903534c5a",
   "metadata": {},
   "outputs": [
    {
     "data": {
      "text/plain": [
       "frequency_flag\n",
       "Frequent Shopper      33888\n",
       "Occasional Shopper    75152\n",
       "Rare Shopper          97169\n",
       "Name: user_id, dtype: int64"
      ]
     },
     "execution_count": 63,
     "metadata": {},
     "output_type": "execute_result"
    }
   ],
   "source": [
    "#Check distribution of user_id's by frequency_flag\n",
    "df_merged_dataset.groupby('frequency_flag')['user_id'].nunique()"
   ]
  },
  {
   "cell_type": "code",
   "execution_count": 64,
   "id": "ba8260c3-96e9-4fcf-85a8-359fe0005e68",
   "metadata": {},
   "outputs": [
    {
     "data": {
      "text/html": [
       "<div>\n",
       "<style scoped>\n",
       "    .dataframe tbody tr th:only-of-type {\n",
       "        vertical-align: middle;\n",
       "    }\n",
       "\n",
       "    .dataframe tbody tr th {\n",
       "        vertical-align: top;\n",
       "    }\n",
       "\n",
       "    .dataframe thead tr th {\n",
       "        text-align: left;\n",
       "    }\n",
       "\n",
       "    .dataframe thead tr:last-of-type th {\n",
       "        text-align: right;\n",
       "    }\n",
       "</style>\n",
       "<table border=\"1\" class=\"dataframe\">\n",
       "  <thead>\n",
       "    <tr>\n",
       "      <th></th>\n",
       "      <th colspan=\"3\" halign=\"left\">prices</th>\n",
       "    </tr>\n",
       "    <tr>\n",
       "      <th></th>\n",
       "      <th>mean</th>\n",
       "      <th>min</th>\n",
       "      <th>max</th>\n",
       "    </tr>\n",
       "    <tr>\n",
       "      <th>frequency_flag</th>\n",
       "      <th></th>\n",
       "      <th></th>\n",
       "      <th></th>\n",
       "    </tr>\n",
       "  </thead>\n",
       "  <tbody>\n",
       "    <tr>\n",
       "      <th>Frequent Shopper</th>\n",
       "      <td>7.802115</td>\n",
       "      <td>1.0</td>\n",
       "      <td>25.0</td>\n",
       "    </tr>\n",
       "    <tr>\n",
       "      <th>Occasional Shopper</th>\n",
       "      <td>7.787947</td>\n",
       "      <td>1.0</td>\n",
       "      <td>25.0</td>\n",
       "    </tr>\n",
       "    <tr>\n",
       "      <th>Rare Shopper</th>\n",
       "      <td>7.786636</td>\n",
       "      <td>1.0</td>\n",
       "      <td>25.0</td>\n",
       "    </tr>\n",
       "  </tbody>\n",
       "</table>\n",
       "</div>"
      ],
      "text/plain": [
       "                      prices           \n",
       "                        mean  min   max\n",
       "frequency_flag                         \n",
       "Frequent Shopper    7.802115  1.0  25.0\n",
       "Occasional Shopper  7.787947  1.0  25.0\n",
       "Rare Shopper        7.786636  1.0  25.0"
      ]
     },
     "execution_count": 64,
     "metadata": {},
     "output_type": "execute_result"
    }
   ],
   "source": [
    "#Basic price statistics by loyalty_flag\n",
    "df_merged_dataset.groupby('frequency_flag').agg({'prices': ['mean', 'min', 'max']})"
   ]
  },
  {
   "cell_type": "markdown",
   "id": "4b7b9477-b075-4cb6-bc6f-2003e73037ed",
   "metadata": {},
   "source": [
    "## 3.10. Customer Tenure"
   ]
  },
  {
   "cell_type": "code",
   "execution_count": 65,
   "id": "f3168bd6-651c-44af-8b7e-a54e8e98eeb5",
   "metadata": {},
   "outputs": [
    {
     "data": {
      "text/plain": [
       "date_joined\n",
       "2018-07-28    37811\n",
       "2017-03-16    37222\n",
       "2017-03-10    36554\n",
       "2018-01-07    36467\n",
       "2017-03-06    36240\n",
       "              ...  \n",
       "2019-02-27    19210\n",
       "2019-09-24    19130\n",
       "2018-08-06    18833\n",
       "2018-12-15    18166\n",
       "2019-10-09    17974\n",
       "Name: count, Length: 1187, dtype: int64"
      ]
     },
     "execution_count": 65,
     "metadata": {},
     "output_type": "execute_result"
    }
   ],
   "source": [
    "#Check frequency distribution of new variable\n",
    "df_merged_dataset['date_joined'].value_counts(dropna = False)"
   ]
  },
  {
   "cell_type": "code",
   "execution_count": 66,
   "id": "07f729c5-7413-44c0-a841-e0abce81cf06",
   "metadata": {},
   "outputs": [
    {
     "data": {
      "text/plain": [
       "count                         32403719\n",
       "mean     2018-08-16 15:34:57.046292736\n",
       "min                2017-01-01 00:00:00\n",
       "25%                2017-10-22 00:00:00\n",
       "50%                2018-08-16 00:00:00\n",
       "75%                2019-06-09 00:00:00\n",
       "max                2020-04-01 00:00:00\n",
       "Name: date_joined, dtype: object"
      ]
     },
     "execution_count": 66,
     "metadata": {},
     "output_type": "execute_result"
    }
   ],
   "source": [
    "df_merged_dataset['date_joined'].describe()"
   ]
  },
  {
   "cell_type": "code",
   "execution_count": 67,
   "id": "c692e61e-2285-4dae-be3f-3d6a3f8e4ee4",
   "metadata": {},
   "outputs": [],
   "source": [
    "# Define the reference date for analysis\n",
    "reference_date = pd.to_datetime('2020-04-01')\n",
    "\n",
    "# Calculate customer tenure based on the fixed reference date\n",
    "df_merged_dataset['customer_tenure'] = (reference_date - df_merged_dataset['date_joined']).dt.days"
   ]
  },
  {
   "cell_type": "code",
   "execution_count": 68,
   "id": "9b78dd50-ee3d-47dc-9068-c69ad84dcd94",
   "metadata": {},
   "outputs": [
    {
     "data": {
      "text/html": [
       "<div>\n",
       "<style scoped>\n",
       "    .dataframe tbody tr th:only-of-type {\n",
       "        vertical-align: middle;\n",
       "    }\n",
       "\n",
       "    .dataframe tbody tr th {\n",
       "        vertical-align: top;\n",
       "    }\n",
       "\n",
       "    .dataframe thead th {\n",
       "        text-align: right;\n",
       "    }\n",
       "</style>\n",
       "<table border=\"1\" class=\"dataframe\">\n",
       "  <thead>\n",
       "    <tr style=\"text-align: right;\">\n",
       "      <th></th>\n",
       "      <th>date_joined</th>\n",
       "      <th>customer_tenure</th>\n",
       "    </tr>\n",
       "  </thead>\n",
       "  <tbody>\n",
       "    <tr>\n",
       "      <th>0</th>\n",
       "      <td>2019-02-17</td>\n",
       "      <td>409</td>\n",
       "    </tr>\n",
       "    <tr>\n",
       "      <th>1</th>\n",
       "      <td>2019-02-17</td>\n",
       "      <td>409</td>\n",
       "    </tr>\n",
       "    <tr>\n",
       "      <th>2</th>\n",
       "      <td>2019-02-17</td>\n",
       "      <td>409</td>\n",
       "    </tr>\n",
       "    <tr>\n",
       "      <th>3</th>\n",
       "      <td>2019-02-17</td>\n",
       "      <td>409</td>\n",
       "    </tr>\n",
       "    <tr>\n",
       "      <th>4</th>\n",
       "      <td>2019-02-17</td>\n",
       "      <td>409</td>\n",
       "    </tr>\n",
       "    <tr>\n",
       "      <th>...</th>\n",
       "      <td>...</td>\n",
       "      <td>...</td>\n",
       "    </tr>\n",
       "    <tr>\n",
       "      <th>95</th>\n",
       "      <td>2017-07-04</td>\n",
       "      <td>1002</td>\n",
       "    </tr>\n",
       "    <tr>\n",
       "      <th>96</th>\n",
       "      <td>2017-07-04</td>\n",
       "      <td>1002</td>\n",
       "    </tr>\n",
       "    <tr>\n",
       "      <th>97</th>\n",
       "      <td>2017-07-04</td>\n",
       "      <td>1002</td>\n",
       "    </tr>\n",
       "    <tr>\n",
       "      <th>98</th>\n",
       "      <td>2017-07-04</td>\n",
       "      <td>1002</td>\n",
       "    </tr>\n",
       "    <tr>\n",
       "      <th>99</th>\n",
       "      <td>2017-07-04</td>\n",
       "      <td>1002</td>\n",
       "    </tr>\n",
       "  </tbody>\n",
       "</table>\n",
       "<p>100 rows × 2 columns</p>\n",
       "</div>"
      ],
      "text/plain": [
       "   date_joined  customer_tenure\n",
       "0   2019-02-17              409\n",
       "1   2019-02-17              409\n",
       "2   2019-02-17              409\n",
       "3   2019-02-17              409\n",
       "4   2019-02-17              409\n",
       "..         ...              ...\n",
       "95  2017-07-04             1002\n",
       "96  2017-07-04             1002\n",
       "97  2017-07-04             1002\n",
       "98  2017-07-04             1002\n",
       "99  2017-07-04             1002\n",
       "\n",
       "[100 rows x 2 columns]"
      ]
     },
     "execution_count": 68,
     "metadata": {},
     "output_type": "execute_result"
    }
   ],
   "source": [
    "#Confirm results\n",
    "df_merged_dataset[['date_joined', 'customer_tenure']].head(100)"
   ]
  },
  {
   "cell_type": "code",
   "execution_count": 69,
   "id": "6467d949-6c19-4d21-9531-79f39bb63810",
   "metadata": {},
   "outputs": [
    {
     "data": {
      "text/plain": [
       "(32403719, 33)"
      ]
     },
     "execution_count": 69,
     "metadata": {},
     "output_type": "execute_result"
    }
   ],
   "source": [
    " #Dimensions\n",
    "df_merged_dataset.shape"
   ]
  },
  {
   "cell_type": "markdown",
   "id": "71f4cd91-fc79-4427-bb4a-d68d8ec73cc4",
   "metadata": {},
   "source": [
    "## 3.11. Activity Rate"
   ]
  },
  {
   "cell_type": "code",
   "execution_count": 70,
   "id": "fabc9318-30ca-4805-bd9a-5b5d7ad85e2e",
   "metadata": {},
   "outputs": [
    {
     "data": {
      "text/plain": [
       "count    3.240372e+07\n",
       "mean     5.933507e+02\n",
       "std      3.433089e+02\n",
       "min      0.000000e+00\n",
       "25%      2.970000e+02\n",
       "50%      5.940000e+02\n",
       "75%      8.920000e+02\n",
       "max      1.186000e+03\n",
       "Name: customer_tenure, dtype: float64"
      ]
     },
     "execution_count": 70,
     "metadata": {},
     "output_type": "execute_result"
    }
   ],
   "source": [
    "df_merged_dataset['customer_tenure'].describe()"
   ]
  },
  {
   "cell_type": "code",
   "execution_count": 71,
   "id": "47fe07be-34da-42ae-bf66-0c57dffbb00e",
   "metadata": {},
   "outputs": [],
   "source": [
    "df_merged_dataset['activity_rate'] = df_merged_dataset['max_order'] / (df_merged_dataset['customer_tenure'] / 30)  # Orders per month"
   ]
  },
  {
   "cell_type": "code",
   "execution_count": 72,
   "id": "bb8c00ad-d46b-4376-9e00-1e710e875c12",
   "metadata": {},
   "outputs": [
    {
     "data": {
      "text/html": [
       "<div>\n",
       "<style scoped>\n",
       "    .dataframe tbody tr th:only-of-type {\n",
       "        vertical-align: middle;\n",
       "    }\n",
       "\n",
       "    .dataframe tbody tr th {\n",
       "        vertical-align: top;\n",
       "    }\n",
       "\n",
       "    .dataframe thead th {\n",
       "        text-align: right;\n",
       "    }\n",
       "</style>\n",
       "<table border=\"1\" class=\"dataframe\">\n",
       "  <thead>\n",
       "    <tr style=\"text-align: right;\">\n",
       "      <th></th>\n",
       "      <th>max_order</th>\n",
       "      <th>customer_tenure</th>\n",
       "      <th>activity_rate</th>\n",
       "    </tr>\n",
       "  </thead>\n",
       "  <tbody>\n",
       "    <tr>\n",
       "      <th>0</th>\n",
       "      <td>10</td>\n",
       "      <td>409</td>\n",
       "      <td>0.733496</td>\n",
       "    </tr>\n",
       "    <tr>\n",
       "      <th>1</th>\n",
       "      <td>10</td>\n",
       "      <td>409</td>\n",
       "      <td>0.733496</td>\n",
       "    </tr>\n",
       "    <tr>\n",
       "      <th>2</th>\n",
       "      <td>10</td>\n",
       "      <td>409</td>\n",
       "      <td>0.733496</td>\n",
       "    </tr>\n",
       "    <tr>\n",
       "      <th>3</th>\n",
       "      <td>10</td>\n",
       "      <td>409</td>\n",
       "      <td>0.733496</td>\n",
       "    </tr>\n",
       "    <tr>\n",
       "      <th>4</th>\n",
       "      <td>10</td>\n",
       "      <td>409</td>\n",
       "      <td>0.733496</td>\n",
       "    </tr>\n",
       "    <tr>\n",
       "      <th>...</th>\n",
       "      <td>...</td>\n",
       "      <td>...</td>\n",
       "      <td>...</td>\n",
       "    </tr>\n",
       "    <tr>\n",
       "      <th>95</th>\n",
       "      <td>14</td>\n",
       "      <td>1002</td>\n",
       "      <td>0.419162</td>\n",
       "    </tr>\n",
       "    <tr>\n",
       "      <th>96</th>\n",
       "      <td>14</td>\n",
       "      <td>1002</td>\n",
       "      <td>0.419162</td>\n",
       "    </tr>\n",
       "    <tr>\n",
       "      <th>97</th>\n",
       "      <td>14</td>\n",
       "      <td>1002</td>\n",
       "      <td>0.419162</td>\n",
       "    </tr>\n",
       "    <tr>\n",
       "      <th>98</th>\n",
       "      <td>14</td>\n",
       "      <td>1002</td>\n",
       "      <td>0.419162</td>\n",
       "    </tr>\n",
       "    <tr>\n",
       "      <th>99</th>\n",
       "      <td>14</td>\n",
       "      <td>1002</td>\n",
       "      <td>0.419162</td>\n",
       "    </tr>\n",
       "  </tbody>\n",
       "</table>\n",
       "<p>100 rows × 3 columns</p>\n",
       "</div>"
      ],
      "text/plain": [
       "    max_order  customer_tenure  activity_rate\n",
       "0          10              409       0.733496\n",
       "1          10              409       0.733496\n",
       "2          10              409       0.733496\n",
       "3          10              409       0.733496\n",
       "4          10              409       0.733496\n",
       "..        ...              ...            ...\n",
       "95         14             1002       0.419162\n",
       "96         14             1002       0.419162\n",
       "97         14             1002       0.419162\n",
       "98         14             1002       0.419162\n",
       "99         14             1002       0.419162\n",
       "\n",
       "[100 rows x 3 columns]"
      ]
     },
     "execution_count": 72,
     "metadata": {},
     "output_type": "execute_result"
    }
   ],
   "source": [
    "#Confirm results\n",
    "df_merged_dataset[['max_order', 'customer_tenure', 'activity_rate']].head(100)"
   ]
  },
  {
   "cell_type": "code",
   "execution_count": 73,
   "id": "24cff16f-bfd6-4da7-86bd-2905b6dfd88d",
   "metadata": {},
   "outputs": [
    {
     "data": {
      "text/plain": [
       "(32403719, 34)"
      ]
     },
     "execution_count": 73,
     "metadata": {},
     "output_type": "execute_result"
    }
   ],
   "source": [
    "#Dimensions\n",
    "df_merged_dataset.shape"
   ]
  },
  {
   "cell_type": "markdown",
   "id": "f8054671-7dd1-43d0-813b-7d9808add798",
   "metadata": {},
   "source": [
    "## 3.12. Activity Flag"
   ]
  },
  {
   "cell_type": "code",
   "execution_count": 74,
   "id": "fb526ccc-7bea-4d0d-beae-6ed8778622c3",
   "metadata": {},
   "outputs": [
    {
     "data": {
      "text/plain": [
       "count    3.240372e+07\n",
       "mean              inf\n",
       "std               NaN\n",
       "min      5.617978e-02\n",
       "25%      6.795017e-01\n",
       "50%      1.509202e+00\n",
       "75%      3.349515e+00\n",
       "max               inf\n",
       "Name: activity_rate, dtype: float64"
      ]
     },
     "execution_count": 74,
     "metadata": {},
     "output_type": "execute_result"
    }
   ],
   "source": [
    "df_merged_dataset['activity_rate'].describe()"
   ]
  },
  {
   "cell_type": "code",
   "execution_count": 75,
   "id": "a5745ecb-ff2b-4551-a4e7-ef33fa713913",
   "metadata": {},
   "outputs": [],
   "source": [
    "# Define conditions\n",
    "conditions = [\n",
    "    df_merged_dataset['activity_rate'] <= 0.72, #bottom 25%\n",
    "    (df_merged_dataset['activity_rate'] > 0.72) & (df_merged_dataset['activity_rate'] <= 3.4), #middle 50%\n",
    "    df_merged_dataset['activity_rate'] > 3.4 #top 25%\n",
    "]\n",
    "\n",
    "# Define corresponding labels\n",
    "labels = ['Low Activity', 'Moderate Activity', 'High Activity']\n",
    "\n",
    "# Assign loyalty flags using np.select()\n",
    "df_merged_dataset['activity_flag'] = np.select(conditions, labels, default = 'Unknown')"
   ]
  },
  {
   "cell_type": "code",
   "execution_count": 76,
   "id": "d709b46c-e80b-4ff3-a3b5-4d5da2e8ff65",
   "metadata": {},
   "outputs": [
    {
     "data": {
      "text/html": [
       "<div>\n",
       "<style scoped>\n",
       "    .dataframe tbody tr th:only-of-type {\n",
       "        vertical-align: middle;\n",
       "    }\n",
       "\n",
       "    .dataframe tbody tr th {\n",
       "        vertical-align: top;\n",
       "    }\n",
       "\n",
       "    .dataframe thead th {\n",
       "        text-align: right;\n",
       "    }\n",
       "</style>\n",
       "<table border=\"1\" class=\"dataframe\">\n",
       "  <thead>\n",
       "    <tr style=\"text-align: right;\">\n",
       "      <th></th>\n",
       "      <th>activity_rate</th>\n",
       "      <th>activity_flag</th>\n",
       "    </tr>\n",
       "  </thead>\n",
       "  <tbody>\n",
       "    <tr>\n",
       "      <th>0</th>\n",
       "      <td>0.733496</td>\n",
       "      <td>Moderate Activity</td>\n",
       "    </tr>\n",
       "    <tr>\n",
       "      <th>1</th>\n",
       "      <td>0.733496</td>\n",
       "      <td>Moderate Activity</td>\n",
       "    </tr>\n",
       "    <tr>\n",
       "      <th>2</th>\n",
       "      <td>0.733496</td>\n",
       "      <td>Moderate Activity</td>\n",
       "    </tr>\n",
       "    <tr>\n",
       "      <th>3</th>\n",
       "      <td>0.733496</td>\n",
       "      <td>Moderate Activity</td>\n",
       "    </tr>\n",
       "    <tr>\n",
       "      <th>4</th>\n",
       "      <td>0.733496</td>\n",
       "      <td>Moderate Activity</td>\n",
       "    </tr>\n",
       "  </tbody>\n",
       "</table>\n",
       "</div>"
      ],
      "text/plain": [
       "   activity_rate      activity_flag\n",
       "0       0.733496  Moderate Activity\n",
       "1       0.733496  Moderate Activity\n",
       "2       0.733496  Moderate Activity\n",
       "3       0.733496  Moderate Activity\n",
       "4       0.733496  Moderate Activity"
      ]
     },
     "execution_count": 76,
     "metadata": {},
     "output_type": "execute_result"
    }
   ],
   "source": [
    "#Confirm results\n",
    "df_merged_dataset[['activity_rate', 'activity_flag']].head()"
   ]
  },
  {
   "cell_type": "code",
   "execution_count": 77,
   "id": "283d89cb-77ee-4047-91f9-c82a1e696f74",
   "metadata": {},
   "outputs": [
    {
     "data": {
      "text/plain": [
       "(32403719, 35)"
      ]
     },
     "execution_count": 77,
     "metadata": {},
     "output_type": "execute_result"
    }
   ],
   "source": [
    "#Dimensions\n",
    "df_merged_dataset.shape"
   ]
  },
  {
   "cell_type": "code",
   "execution_count": 78,
   "id": "e01335ee-3ef2-48d5-ae25-260e7dd539a6",
   "metadata": {},
   "outputs": [
    {
     "data": {
      "text/plain": [
       "activity_flag\n",
       "Moderate Activity    15809078\n",
       "Low Activity          8598721\n",
       "High Activity         7995920\n",
       "Name: count, dtype: int64"
      ]
     },
     "execution_count": 78,
     "metadata": {},
     "output_type": "execute_result"
    }
   ],
   "source": [
    "#Check frequency distribution of new variable\n",
    "df_merged_dataset['activity_flag'].value_counts(dropna = False)"
   ]
  },
  {
   "cell_type": "code",
   "execution_count": 79,
   "id": "c0747111-87aa-4f7d-aefd-cf39935fb68a",
   "metadata": {},
   "outputs": [
    {
     "data": {
      "text/plain": [
       "activity_flag\n",
       "High Activity         24068\n",
       "Low Activity         114741\n",
       "Moderate Activity     67400\n",
       "Name: user_id, dtype: int64"
      ]
     },
     "execution_count": 79,
     "metadata": {},
     "output_type": "execute_result"
    }
   ],
   "source": [
    "#Check distribution of user_id's by frequency_flag\n",
    "df_merged_dataset.groupby('activity_flag')['user_id'].nunique()"
   ]
  },
  {
   "cell_type": "markdown",
   "id": "b3d32a5f-3783-4ed2-96a0-600f98a554f6",
   "metadata": {
    "editable": true,
    "slideshow": {
     "slide_type": ""
    },
    "tags": []
   },
   "source": [
    "## 3.13. Loyalty Score"
   ]
  },
  {
   "cell_type": "code",
   "execution_count": 80,
   "id": "1daf700a-0e17-4ced-aa13-586c942ca928",
   "metadata": {},
   "outputs": [
    {
     "data": {
      "text/plain": [
       "spending_flag\n",
       "Moderate Spender    32315896\n",
       "Low Spender            87560\n",
       "High Spender             263\n",
       "Name: count, dtype: int64"
      ]
     },
     "execution_count": 80,
     "metadata": {},
     "output_type": "execute_result"
    }
   ],
   "source": [
    "#Check frequency distribution of new variable\n",
    "df_merged_dataset['spending_flag'].value_counts(dropna = False)"
   ]
  },
  {
   "cell_type": "code",
   "execution_count": 81,
   "id": "6535f680-94e5-403d-bdc9-9820ae546651",
   "metadata": {},
   "outputs": [
    {
     "data": {
      "text/plain": [
       "engagement_flag\n",
       "Moderate Engagement    15499267\n",
       "Low Engagement          9227866\n",
       "High Engagement         7676586\n",
       "Name: count, dtype: int64"
      ]
     },
     "execution_count": 81,
     "metadata": {},
     "output_type": "execute_result"
    }
   ],
   "source": [
    "df_merged_dataset['engagement_flag'].value_counts(dropna = False)"
   ]
  },
  {
   "cell_type": "code",
   "execution_count": 82,
   "id": "a3c93c36-2b92-4560-a754-84b7fbf1498e",
   "metadata": {},
   "outputs": [
    {
     "data": {
      "text/plain": [
       "frequency_flag\n",
       "Occasional Shopper    14622992\n",
       "Frequent Shopper      10091201\n",
       "Rare Shopper           7689526\n",
       "Name: count, dtype: int64"
      ]
     },
     "execution_count": 82,
     "metadata": {},
     "output_type": "execute_result"
    }
   ],
   "source": [
    "#Check frequency distribution of new variable\n",
    "df_merged_dataset['frequency_flag'].value_counts(dropna = False)"
   ]
  },
  {
   "cell_type": "code",
   "execution_count": 83,
   "id": "97a414ec-d5a6-4f04-90ff-de92fdbfde16",
   "metadata": {},
   "outputs": [
    {
     "data": {
      "text/plain": [
       "activity_flag\n",
       "Moderate Activity    15809078\n",
       "Low Activity          8598721\n",
       "High Activity         7995920\n",
       "Name: count, dtype: int64"
      ]
     },
     "execution_count": 83,
     "metadata": {},
     "output_type": "execute_result"
    }
   ],
   "source": [
    "#Check frequency distribution of new variable\n",
    "df_merged_dataset['activity_flag'].value_counts(dropna = False)"
   ]
  },
  {
   "cell_type": "code",
   "execution_count": 84,
   "id": "89333778-794c-4615-9abc-139409d26a08",
   "metadata": {},
   "outputs": [],
   "source": [
    "# Define mapping of flags to numerical scores\n",
    "spending_mapping = {'Low Spender': 1, 'Moderate Spender': 2, 'High Spender': 3}\n",
    "engagement_mapping = {'Low Engagement': 1, 'Moderate Engagement': 2, 'High Engagement': 3}\n",
    "frequency_mapping = {'Rare Shopper': 1, 'Occasional Shopper': 2, 'Frequent Shopper': 3}\n",
    "activity_mapping = {'Low Activity': 1, 'High Activity': 2, 'Moderate Activity': 3}\n",
    "\n",
    "# Map the categorical flags to numerical scores\n",
    "df_merged_dataset['spending_score'] = df_merged_dataset['spending_flag'].map(spending_mapping)\n",
    "df_merged_dataset['engagement_score'] = df_merged_dataset['engagement_flag'].map(engagement_mapping)\n",
    "df_merged_dataset['frequency_score'] = df_merged_dataset['frequency_flag'].map(frequency_mapping)\n",
    "df_merged_dataset['activity_score'] = df_merged_dataset['activity_flag'].map(activity_mapping)\n",
    "\n",
    "# Calculate the Total Loyalty Score\n",
    "df_merged_dataset['total_loyalty_score'] = (\n",
    "    df_merged_dataset['spending_score'] +\n",
    "    df_merged_dataset['engagement_score'] +\n",
    "    df_merged_dataset['frequency_score'] +\n",
    "    df_merged_dataset['activity_score']\n",
    ")"
   ]
  },
  {
   "cell_type": "code",
   "execution_count": 85,
   "id": "a362d8a9-477a-459d-a653-a07571799f6b",
   "metadata": {},
   "outputs": [
    {
     "data": {
      "text/html": [
       "<div>\n",
       "<style scoped>\n",
       "    .dataframe tbody tr th:only-of-type {\n",
       "        vertical-align: middle;\n",
       "    }\n",
       "\n",
       "    .dataframe tbody tr th {\n",
       "        vertical-align: top;\n",
       "    }\n",
       "\n",
       "    .dataframe thead th {\n",
       "        text-align: right;\n",
       "    }\n",
       "</style>\n",
       "<table border=\"1\" class=\"dataframe\">\n",
       "  <thead>\n",
       "    <tr style=\"text-align: right;\">\n",
       "      <th></th>\n",
       "      <th>spending_flag</th>\n",
       "      <th>engagement_flag</th>\n",
       "      <th>frequency_flag</th>\n",
       "      <th>activity_flag</th>\n",
       "      <th>spending_score</th>\n",
       "      <th>engagement_score</th>\n",
       "      <th>frequency_score</th>\n",
       "      <th>activity_score</th>\n",
       "      <th>total_loyalty_score</th>\n",
       "    </tr>\n",
       "  </thead>\n",
       "  <tbody>\n",
       "    <tr>\n",
       "      <th>0</th>\n",
       "      <td>Moderate Spender</td>\n",
       "      <td>Low Engagement</td>\n",
       "      <td>Rare Shopper</td>\n",
       "      <td>Moderate Activity</td>\n",
       "      <td>2</td>\n",
       "      <td>1</td>\n",
       "      <td>1</td>\n",
       "      <td>3</td>\n",
       "      <td>7</td>\n",
       "    </tr>\n",
       "    <tr>\n",
       "      <th>1</th>\n",
       "      <td>Moderate Spender</td>\n",
       "      <td>Low Engagement</td>\n",
       "      <td>Rare Shopper</td>\n",
       "      <td>Moderate Activity</td>\n",
       "      <td>2</td>\n",
       "      <td>1</td>\n",
       "      <td>1</td>\n",
       "      <td>3</td>\n",
       "      <td>7</td>\n",
       "    </tr>\n",
       "    <tr>\n",
       "      <th>2</th>\n",
       "      <td>Moderate Spender</td>\n",
       "      <td>Low Engagement</td>\n",
       "      <td>Rare Shopper</td>\n",
       "      <td>Moderate Activity</td>\n",
       "      <td>2</td>\n",
       "      <td>1</td>\n",
       "      <td>1</td>\n",
       "      <td>3</td>\n",
       "      <td>7</td>\n",
       "    </tr>\n",
       "    <tr>\n",
       "      <th>3</th>\n",
       "      <td>Moderate Spender</td>\n",
       "      <td>Low Engagement</td>\n",
       "      <td>Rare Shopper</td>\n",
       "      <td>Moderate Activity</td>\n",
       "      <td>2</td>\n",
       "      <td>1</td>\n",
       "      <td>1</td>\n",
       "      <td>3</td>\n",
       "      <td>7</td>\n",
       "    </tr>\n",
       "    <tr>\n",
       "      <th>4</th>\n",
       "      <td>Moderate Spender</td>\n",
       "      <td>Low Engagement</td>\n",
       "      <td>Rare Shopper</td>\n",
       "      <td>Moderate Activity</td>\n",
       "      <td>2</td>\n",
       "      <td>1</td>\n",
       "      <td>1</td>\n",
       "      <td>3</td>\n",
       "      <td>7</td>\n",
       "    </tr>\n",
       "    <tr>\n",
       "      <th>...</th>\n",
       "      <td>...</td>\n",
       "      <td>...</td>\n",
       "      <td>...</td>\n",
       "      <td>...</td>\n",
       "      <td>...</td>\n",
       "      <td>...</td>\n",
       "      <td>...</td>\n",
       "      <td>...</td>\n",
       "      <td>...</td>\n",
       "    </tr>\n",
       "    <tr>\n",
       "      <th>95</th>\n",
       "      <td>Moderate Spender</td>\n",
       "      <td>Low Engagement</td>\n",
       "      <td>Occasional Shopper</td>\n",
       "      <td>Low Activity</td>\n",
       "      <td>2</td>\n",
       "      <td>1</td>\n",
       "      <td>2</td>\n",
       "      <td>1</td>\n",
       "      <td>6</td>\n",
       "    </tr>\n",
       "    <tr>\n",
       "      <th>96</th>\n",
       "      <td>Moderate Spender</td>\n",
       "      <td>Low Engagement</td>\n",
       "      <td>Occasional Shopper</td>\n",
       "      <td>Low Activity</td>\n",
       "      <td>2</td>\n",
       "      <td>1</td>\n",
       "      <td>2</td>\n",
       "      <td>1</td>\n",
       "      <td>6</td>\n",
       "    </tr>\n",
       "    <tr>\n",
       "      <th>97</th>\n",
       "      <td>Moderate Spender</td>\n",
       "      <td>Low Engagement</td>\n",
       "      <td>Occasional Shopper</td>\n",
       "      <td>Low Activity</td>\n",
       "      <td>2</td>\n",
       "      <td>1</td>\n",
       "      <td>2</td>\n",
       "      <td>1</td>\n",
       "      <td>6</td>\n",
       "    </tr>\n",
       "    <tr>\n",
       "      <th>98</th>\n",
       "      <td>Moderate Spender</td>\n",
       "      <td>Low Engagement</td>\n",
       "      <td>Occasional Shopper</td>\n",
       "      <td>Low Activity</td>\n",
       "      <td>2</td>\n",
       "      <td>1</td>\n",
       "      <td>2</td>\n",
       "      <td>1</td>\n",
       "      <td>6</td>\n",
       "    </tr>\n",
       "    <tr>\n",
       "      <th>99</th>\n",
       "      <td>Moderate Spender</td>\n",
       "      <td>Low Engagement</td>\n",
       "      <td>Occasional Shopper</td>\n",
       "      <td>Low Activity</td>\n",
       "      <td>2</td>\n",
       "      <td>1</td>\n",
       "      <td>2</td>\n",
       "      <td>1</td>\n",
       "      <td>6</td>\n",
       "    </tr>\n",
       "  </tbody>\n",
       "</table>\n",
       "<p>100 rows × 9 columns</p>\n",
       "</div>"
      ],
      "text/plain": [
       "       spending_flag engagement_flag      frequency_flag      activity_flag  \\\n",
       "0   Moderate Spender  Low Engagement        Rare Shopper  Moderate Activity   \n",
       "1   Moderate Spender  Low Engagement        Rare Shopper  Moderate Activity   \n",
       "2   Moderate Spender  Low Engagement        Rare Shopper  Moderate Activity   \n",
       "3   Moderate Spender  Low Engagement        Rare Shopper  Moderate Activity   \n",
       "4   Moderate Spender  Low Engagement        Rare Shopper  Moderate Activity   \n",
       "..               ...             ...                 ...                ...   \n",
       "95  Moderate Spender  Low Engagement  Occasional Shopper       Low Activity   \n",
       "96  Moderate Spender  Low Engagement  Occasional Shopper       Low Activity   \n",
       "97  Moderate Spender  Low Engagement  Occasional Shopper       Low Activity   \n",
       "98  Moderate Spender  Low Engagement  Occasional Shopper       Low Activity   \n",
       "99  Moderate Spender  Low Engagement  Occasional Shopper       Low Activity   \n",
       "\n",
       "    spending_score  engagement_score  frequency_score  activity_score  \\\n",
       "0                2                 1                1               3   \n",
       "1                2                 1                1               3   \n",
       "2                2                 1                1               3   \n",
       "3                2                 1                1               3   \n",
       "4                2                 1                1               3   \n",
       "..             ...               ...              ...             ...   \n",
       "95               2                 1                2               1   \n",
       "96               2                 1                2               1   \n",
       "97               2                 1                2               1   \n",
       "98               2                 1                2               1   \n",
       "99               2                 1                2               1   \n",
       "\n",
       "    total_loyalty_score  \n",
       "0                     7  \n",
       "1                     7  \n",
       "2                     7  \n",
       "3                     7  \n",
       "4                     7  \n",
       "..                  ...  \n",
       "95                    6  \n",
       "96                    6  \n",
       "97                    6  \n",
       "98                    6  \n",
       "99                    6  \n",
       "\n",
       "[100 rows x 9 columns]"
      ]
     },
     "execution_count": 85,
     "metadata": {},
     "output_type": "execute_result"
    }
   ],
   "source": [
    "#Confirm results\n",
    "df_merged_dataset[['spending_flag', 'engagement_flag', 'frequency_flag', 'activity_flag', \n",
    "                   'spending_score', 'engagement_score', 'frequency_score', 'activity_score',\n",
    "                  'total_loyalty_score']].head(100)"
   ]
  },
  {
   "cell_type": "code",
   "execution_count": 86,
   "id": "397c48b9-0583-4dd4-b469-ff8f351ef12b",
   "metadata": {},
   "outputs": [
    {
     "data": {
      "text/plain": [
       "(32403719, 40)"
      ]
     },
     "execution_count": 86,
     "metadata": {},
     "output_type": "execute_result"
    }
   ],
   "source": [
    "#Dimensions\n",
    "df_merged_dataset.shape"
   ]
  },
  {
   "cell_type": "markdown",
   "id": "afb53048-70ec-4573-85ba-61477d2b8df5",
   "metadata": {},
   "source": [
    "## 3.14. Loyalty Flag"
   ]
  },
  {
   "cell_type": "code",
   "execution_count": 87,
   "id": "f2360a5e-ca14-4f84-ab4c-64af4cc18937",
   "metadata": {},
   "outputs": [
    {
     "data": {
      "text/plain": [
       "count    3.240372e+07\n",
       "mean     8.246066e+00\n",
       "std      1.830473e+00\n",
       "min      4.000000e+00\n",
       "25%      7.000000e+00\n",
       "50%      9.000000e+00\n",
       "75%      1.000000e+01\n",
       "max      1.100000e+01\n",
       "Name: total_loyalty_score, dtype: float64"
      ]
     },
     "execution_count": 87,
     "metadata": {},
     "output_type": "execute_result"
    }
   ],
   "source": [
    "df_merged_dataset['total_loyalty_score'].describe()"
   ]
  },
  {
   "cell_type": "code",
   "execution_count": 88,
   "id": "4fa64eec-7611-454f-87d3-9581123a078f",
   "metadata": {},
   "outputs": [],
   "source": [
    "# Define conditions for loyalty categories\n",
    "conditions = [\n",
    "    (df_merged_dataset['total_loyalty_score'] <= 7),\n",
    "    (df_merged_dataset['total_loyalty_score'] > 7) & (df_merged_dataset['total_loyalty_score'] <= 10),\n",
    "    (df_merged_dataset['total_loyalty_score'] > 10)\n",
    "]\n",
    "\n",
    "# Define corresponding loyalty categories\n",
    "labels = ['Low Loyalty', 'Moderate Loyalty', 'High Loyalty']\n",
    "\n",
    "# Assign loyalty categories based on conditions\n",
    "df_merged_dataset['loyalty_flag'] = np.select(conditions, labels, default = 'Unknown')"
   ]
  },
  {
   "cell_type": "code",
   "execution_count": 89,
   "id": "8b926160-fbd0-467a-8b2e-037aae300da3",
   "metadata": {},
   "outputs": [
    {
     "data": {
      "text/html": [
       "<div>\n",
       "<style scoped>\n",
       "    .dataframe tbody tr th:only-of-type {\n",
       "        vertical-align: middle;\n",
       "    }\n",
       "\n",
       "    .dataframe tbody tr th {\n",
       "        vertical-align: top;\n",
       "    }\n",
       "\n",
       "    .dataframe thead th {\n",
       "        text-align: right;\n",
       "    }\n",
       "</style>\n",
       "<table border=\"1\" class=\"dataframe\">\n",
       "  <thead>\n",
       "    <tr style=\"text-align: right;\">\n",
       "      <th></th>\n",
       "      <th>order_id</th>\n",
       "      <th>user_id</th>\n",
       "      <th>user_order_count</th>\n",
       "      <th>order_day_of_week</th>\n",
       "      <th>order_hour_of_day</th>\n",
       "      <th>days_since_last_order</th>\n",
       "      <th>is_first_order</th>\n",
       "      <th>product_id</th>\n",
       "      <th>add_to_cart_order</th>\n",
       "      <th>reordered</th>\n",
       "      <th>...</th>\n",
       "      <th>frequency_flag</th>\n",
       "      <th>customer_tenure</th>\n",
       "      <th>activity_rate</th>\n",
       "      <th>activity_flag</th>\n",
       "      <th>spending_score</th>\n",
       "      <th>engagement_score</th>\n",
       "      <th>frequency_score</th>\n",
       "      <th>activity_score</th>\n",
       "      <th>total_loyalty_score</th>\n",
       "      <th>loyalty_flag</th>\n",
       "    </tr>\n",
       "  </thead>\n",
       "  <tbody>\n",
       "    <tr>\n",
       "      <th>0</th>\n",
       "      <td>2539329</td>\n",
       "      <td>1</td>\n",
       "      <td>1</td>\n",
       "      <td>2</td>\n",
       "      <td>8</td>\n",
       "      <td>NaN</td>\n",
       "      <td>True</td>\n",
       "      <td>196</td>\n",
       "      <td>1</td>\n",
       "      <td>0</td>\n",
       "      <td>...</td>\n",
       "      <td>Rare Shopper</td>\n",
       "      <td>409</td>\n",
       "      <td>0.733496</td>\n",
       "      <td>Moderate Activity</td>\n",
       "      <td>2</td>\n",
       "      <td>1</td>\n",
       "      <td>1</td>\n",
       "      <td>3</td>\n",
       "      <td>7</td>\n",
       "      <td>Low Loyalty</td>\n",
       "    </tr>\n",
       "    <tr>\n",
       "      <th>1</th>\n",
       "      <td>2539329</td>\n",
       "      <td>1</td>\n",
       "      <td>1</td>\n",
       "      <td>2</td>\n",
       "      <td>8</td>\n",
       "      <td>NaN</td>\n",
       "      <td>True</td>\n",
       "      <td>14084</td>\n",
       "      <td>2</td>\n",
       "      <td>0</td>\n",
       "      <td>...</td>\n",
       "      <td>Rare Shopper</td>\n",
       "      <td>409</td>\n",
       "      <td>0.733496</td>\n",
       "      <td>Moderate Activity</td>\n",
       "      <td>2</td>\n",
       "      <td>1</td>\n",
       "      <td>1</td>\n",
       "      <td>3</td>\n",
       "      <td>7</td>\n",
       "      <td>Low Loyalty</td>\n",
       "    </tr>\n",
       "    <tr>\n",
       "      <th>2</th>\n",
       "      <td>2539329</td>\n",
       "      <td>1</td>\n",
       "      <td>1</td>\n",
       "      <td>2</td>\n",
       "      <td>8</td>\n",
       "      <td>NaN</td>\n",
       "      <td>True</td>\n",
       "      <td>12427</td>\n",
       "      <td>3</td>\n",
       "      <td>0</td>\n",
       "      <td>...</td>\n",
       "      <td>Rare Shopper</td>\n",
       "      <td>409</td>\n",
       "      <td>0.733496</td>\n",
       "      <td>Moderate Activity</td>\n",
       "      <td>2</td>\n",
       "      <td>1</td>\n",
       "      <td>1</td>\n",
       "      <td>3</td>\n",
       "      <td>7</td>\n",
       "      <td>Low Loyalty</td>\n",
       "    </tr>\n",
       "    <tr>\n",
       "      <th>3</th>\n",
       "      <td>2539329</td>\n",
       "      <td>1</td>\n",
       "      <td>1</td>\n",
       "      <td>2</td>\n",
       "      <td>8</td>\n",
       "      <td>NaN</td>\n",
       "      <td>True</td>\n",
       "      <td>26088</td>\n",
       "      <td>4</td>\n",
       "      <td>0</td>\n",
       "      <td>...</td>\n",
       "      <td>Rare Shopper</td>\n",
       "      <td>409</td>\n",
       "      <td>0.733496</td>\n",
       "      <td>Moderate Activity</td>\n",
       "      <td>2</td>\n",
       "      <td>1</td>\n",
       "      <td>1</td>\n",
       "      <td>3</td>\n",
       "      <td>7</td>\n",
       "      <td>Low Loyalty</td>\n",
       "    </tr>\n",
       "    <tr>\n",
       "      <th>4</th>\n",
       "      <td>2539329</td>\n",
       "      <td>1</td>\n",
       "      <td>1</td>\n",
       "      <td>2</td>\n",
       "      <td>8</td>\n",
       "      <td>NaN</td>\n",
       "      <td>True</td>\n",
       "      <td>26405</td>\n",
       "      <td>5</td>\n",
       "      <td>0</td>\n",
       "      <td>...</td>\n",
       "      <td>Rare Shopper</td>\n",
       "      <td>409</td>\n",
       "      <td>0.733496</td>\n",
       "      <td>Moderate Activity</td>\n",
       "      <td>2</td>\n",
       "      <td>1</td>\n",
       "      <td>1</td>\n",
       "      <td>3</td>\n",
       "      <td>7</td>\n",
       "      <td>Low Loyalty</td>\n",
       "    </tr>\n",
       "    <tr>\n",
       "      <th>...</th>\n",
       "      <td>...</td>\n",
       "      <td>...</td>\n",
       "      <td>...</td>\n",
       "      <td>...</td>\n",
       "      <td>...</td>\n",
       "      <td>...</td>\n",
       "      <td>...</td>\n",
       "      <td>...</td>\n",
       "      <td>...</td>\n",
       "      <td>...</td>\n",
       "      <td>...</td>\n",
       "      <td>...</td>\n",
       "      <td>...</td>\n",
       "      <td>...</td>\n",
       "      <td>...</td>\n",
       "      <td>...</td>\n",
       "      <td>...</td>\n",
       "      <td>...</td>\n",
       "      <td>...</td>\n",
       "      <td>...</td>\n",
       "      <td>...</td>\n",
       "    </tr>\n",
       "    <tr>\n",
       "      <th>95</th>\n",
       "      <td>738281</td>\n",
       "      <td>2</td>\n",
       "      <td>4</td>\n",
       "      <td>2</td>\n",
       "      <td>10</td>\n",
       "      <td>8.0</td>\n",
       "      <td>False</td>\n",
       "      <td>21150</td>\n",
       "      <td>13</td>\n",
       "      <td>0</td>\n",
       "      <td>...</td>\n",
       "      <td>Occasional Shopper</td>\n",
       "      <td>1002</td>\n",
       "      <td>0.419162</td>\n",
       "      <td>Low Activity</td>\n",
       "      <td>2</td>\n",
       "      <td>1</td>\n",
       "      <td>2</td>\n",
       "      <td>1</td>\n",
       "      <td>6</td>\n",
       "      <td>Low Loyalty</td>\n",
       "    </tr>\n",
       "    <tr>\n",
       "      <th>96</th>\n",
       "      <td>1673511</td>\n",
       "      <td>2</td>\n",
       "      <td>5</td>\n",
       "      <td>3</td>\n",
       "      <td>11</td>\n",
       "      <td>8.0</td>\n",
       "      <td>False</td>\n",
       "      <td>47144</td>\n",
       "      <td>1</td>\n",
       "      <td>0</td>\n",
       "      <td>...</td>\n",
       "      <td>Occasional Shopper</td>\n",
       "      <td>1002</td>\n",
       "      <td>0.419162</td>\n",
       "      <td>Low Activity</td>\n",
       "      <td>2</td>\n",
       "      <td>1</td>\n",
       "      <td>2</td>\n",
       "      <td>1</td>\n",
       "      <td>6</td>\n",
       "      <td>Low Loyalty</td>\n",
       "    </tr>\n",
       "    <tr>\n",
       "      <th>97</th>\n",
       "      <td>1673511</td>\n",
       "      <td>2</td>\n",
       "      <td>5</td>\n",
       "      <td>3</td>\n",
       "      <td>11</td>\n",
       "      <td>8.0</td>\n",
       "      <td>False</td>\n",
       "      <td>5322</td>\n",
       "      <td>2</td>\n",
       "      <td>0</td>\n",
       "      <td>...</td>\n",
       "      <td>Occasional Shopper</td>\n",
       "      <td>1002</td>\n",
       "      <td>0.419162</td>\n",
       "      <td>Low Activity</td>\n",
       "      <td>2</td>\n",
       "      <td>1</td>\n",
       "      <td>2</td>\n",
       "      <td>1</td>\n",
       "      <td>6</td>\n",
       "      <td>Low Loyalty</td>\n",
       "    </tr>\n",
       "    <tr>\n",
       "      <th>98</th>\n",
       "      <td>1673511</td>\n",
       "      <td>2</td>\n",
       "      <td>5</td>\n",
       "      <td>3</td>\n",
       "      <td>11</td>\n",
       "      <td>8.0</td>\n",
       "      <td>False</td>\n",
       "      <td>17224</td>\n",
       "      <td>3</td>\n",
       "      <td>0</td>\n",
       "      <td>...</td>\n",
       "      <td>Occasional Shopper</td>\n",
       "      <td>1002</td>\n",
       "      <td>0.419162</td>\n",
       "      <td>Low Activity</td>\n",
       "      <td>2</td>\n",
       "      <td>1</td>\n",
       "      <td>2</td>\n",
       "      <td>1</td>\n",
       "      <td>6</td>\n",
       "      <td>Low Loyalty</td>\n",
       "    </tr>\n",
       "    <tr>\n",
       "      <th>99</th>\n",
       "      <td>1673511</td>\n",
       "      <td>2</td>\n",
       "      <td>5</td>\n",
       "      <td>3</td>\n",
       "      <td>11</td>\n",
       "      <td>8.0</td>\n",
       "      <td>False</td>\n",
       "      <td>38656</td>\n",
       "      <td>4</td>\n",
       "      <td>0</td>\n",
       "      <td>...</td>\n",
       "      <td>Occasional Shopper</td>\n",
       "      <td>1002</td>\n",
       "      <td>0.419162</td>\n",
       "      <td>Low Activity</td>\n",
       "      <td>2</td>\n",
       "      <td>1</td>\n",
       "      <td>2</td>\n",
       "      <td>1</td>\n",
       "      <td>6</td>\n",
       "      <td>Low Loyalty</td>\n",
       "    </tr>\n",
       "  </tbody>\n",
       "</table>\n",
       "<p>100 rows × 41 columns</p>\n",
       "</div>"
      ],
      "text/plain": [
       "    order_id  user_id  user_order_count  order_day_of_week  order_hour_of_day  \\\n",
       "0    2539329        1                 1                  2                  8   \n",
       "1    2539329        1                 1                  2                  8   \n",
       "2    2539329        1                 1                  2                  8   \n",
       "3    2539329        1                 1                  2                  8   \n",
       "4    2539329        1                 1                  2                  8   \n",
       "..       ...      ...               ...                ...                ...   \n",
       "95    738281        2                 4                  2                 10   \n",
       "96   1673511        2                 5                  3                 11   \n",
       "97   1673511        2                 5                  3                 11   \n",
       "98   1673511        2                 5                  3                 11   \n",
       "99   1673511        2                 5                  3                 11   \n",
       "\n",
       "    days_since_last_order  is_first_order  product_id  add_to_cart_order  \\\n",
       "0                     NaN            True         196                  1   \n",
       "1                     NaN            True       14084                  2   \n",
       "2                     NaN            True       12427                  3   \n",
       "3                     NaN            True       26088                  4   \n",
       "4                     NaN            True       26405                  5   \n",
       "..                    ...             ...         ...                ...   \n",
       "95                    8.0           False       21150                 13   \n",
       "96                    8.0           False       47144                  1   \n",
       "97                    8.0           False        5322                  2   \n",
       "98                    8.0           False       17224                  3   \n",
       "99                    8.0           False       38656                  4   \n",
       "\n",
       "    reordered  ...      frequency_flag  customer_tenure  activity_rate  \\\n",
       "0           0  ...        Rare Shopper              409       0.733496   \n",
       "1           0  ...        Rare Shopper              409       0.733496   \n",
       "2           0  ...        Rare Shopper              409       0.733496   \n",
       "3           0  ...        Rare Shopper              409       0.733496   \n",
       "4           0  ...        Rare Shopper              409       0.733496   \n",
       "..        ...  ...                 ...              ...            ...   \n",
       "95          0  ...  Occasional Shopper             1002       0.419162   \n",
       "96          0  ...  Occasional Shopper             1002       0.419162   \n",
       "97          0  ...  Occasional Shopper             1002       0.419162   \n",
       "98          0  ...  Occasional Shopper             1002       0.419162   \n",
       "99          0  ...  Occasional Shopper             1002       0.419162   \n",
       "\n",
       "        activity_flag spending_score engagement_score  frequency_score  \\\n",
       "0   Moderate Activity              2                1                1   \n",
       "1   Moderate Activity              2                1                1   \n",
       "2   Moderate Activity              2                1                1   \n",
       "3   Moderate Activity              2                1                1   \n",
       "4   Moderate Activity              2                1                1   \n",
       "..                ...            ...              ...              ...   \n",
       "95       Low Activity              2                1                2   \n",
       "96       Low Activity              2                1                2   \n",
       "97       Low Activity              2                1                2   \n",
       "98       Low Activity              2                1                2   \n",
       "99       Low Activity              2                1                2   \n",
       "\n",
       "   activity_score  total_loyalty_score loyalty_flag  \n",
       "0               3                    7  Low Loyalty  \n",
       "1               3                    7  Low Loyalty  \n",
       "2               3                    7  Low Loyalty  \n",
       "3               3                    7  Low Loyalty  \n",
       "4               3                    7  Low Loyalty  \n",
       "..            ...                  ...          ...  \n",
       "95              1                    6  Low Loyalty  \n",
       "96              1                    6  Low Loyalty  \n",
       "97              1                    6  Low Loyalty  \n",
       "98              1                    6  Low Loyalty  \n",
       "99              1                    6  Low Loyalty  \n",
       "\n",
       "[100 rows x 41 columns]"
      ]
     },
     "execution_count": 89,
     "metadata": {},
     "output_type": "execute_result"
    }
   ],
   "source": [
    "#Confirm results\n",
    "df_merged_dataset.head(100)"
   ]
  },
  {
   "cell_type": "code",
   "execution_count": 90,
   "id": "92760514-1624-4544-9900-ac835d47be7f",
   "metadata": {},
   "outputs": [
    {
     "data": {
      "text/plain": [
       "(32403719, 41)"
      ]
     },
     "execution_count": 90,
     "metadata": {},
     "output_type": "execute_result"
    }
   ],
   "source": [
    "#Dimensions\n",
    "df_merged_dataset.shape"
   ]
  },
  {
   "cell_type": "code",
   "execution_count": 91,
   "id": "58131b28-5c84-4d97-906b-6bce89d6ca86",
   "metadata": {},
   "outputs": [
    {
     "data": {
      "text/plain": [
       "loyalty_flag\n",
       "Moderate Loyalty    19014746\n",
       "Low Loyalty         10490196\n",
       "High Loyalty         2898777\n",
       "Name: count, dtype: int64"
      ]
     },
     "execution_count": 91,
     "metadata": {},
     "output_type": "execute_result"
    }
   ],
   "source": [
    "#Check frequency distribution of new variable\n",
    "df_merged_dataset['loyalty_flag'].value_counts(dropna = False)"
   ]
  },
  {
   "cell_type": "code",
   "execution_count": 92,
   "id": "3af80166-c90d-43ed-9bc9-e7f6779740bf",
   "metadata": {},
   "outputs": [
    {
     "data": {
      "text/plain": [
       "loyalty_flag\n",
       "High Loyalty          4511\n",
       "Low Loyalty         137139\n",
       "Moderate Loyalty     64559\n",
       "Name: user_id, dtype: int64"
      ]
     },
     "execution_count": 92,
     "metadata": {},
     "output_type": "execute_result"
    }
   ],
   "source": [
    "#Check distribution of user_id's by frequency_flag\n",
    "df_merged_dataset.groupby('loyalty_flag')['user_id'].nunique()"
   ]
  },
  {
   "cell_type": "markdown",
   "id": "045a0f07-57f5-49ad-9680-61fe58c5b1d5",
   "metadata": {
    "editable": true,
    "slideshow": {
     "slide_type": ""
    },
    "tags": []
   },
   "source": [
    "## 3.15. Region"
   ]
  },
  {
   "cell_type": "code",
   "execution_count": 93,
   "id": "a3224481-82bd-499c-8d71-6a2b406d2116",
   "metadata": {
    "editable": true,
    "scrolled": true,
    "slideshow": {
     "slide_type": ""
    },
    "tags": []
   },
   "outputs": [
    {
     "data": {
      "text/plain": [
       "state\n",
       "Alabama                 637971\n",
       "Alaska                  648487\n",
       "Arizona                 653930\n",
       "Arkansas                636136\n",
       "California              659765\n",
       "Colorado                639260\n",
       "Connecticut             622998\n",
       "Delaware                637000\n",
       "District of Columbia    613685\n",
       "Florida                 629023\n",
       "Georgia                 656373\n",
       "Hawaii                  632887\n",
       "Idaho                   607091\n",
       "Illinois                632998\n",
       "Indiana                 627258\n",
       "Iowa                    625475\n",
       "Kansas                  637516\n",
       "Kentucky                632484\n",
       "Louisiana               637466\n",
       "Maine                   638559\n",
       "Maryland                626555\n",
       "Massachusetts           646352\n",
       "Michigan                630918\n",
       "Minnesota               647791\n",
       "Mississippi             632637\n",
       "Missouri                640706\n",
       "Montana                 635241\n",
       "Nebraska                625771\n",
       "Nevada                  636117\n",
       "New Hampshire           615366\n",
       "New Jersey              627644\n",
       "New Mexico              654478\n",
       "New York                635965\n",
       "North Carolina          651886\n",
       "North Dakota            638473\n",
       "Ohio                    628285\n",
       "Oklahoma                651701\n",
       "Oregon                  636403\n",
       "Pennsylvania            667062\n",
       "Rhode Island            656891\n",
       "South Carolina          636708\n",
       "South Dakota            633754\n",
       "Tennessee               617835\n",
       "Texas                   640366\n",
       "Utah                    611913\n",
       "Vermont                 611713\n",
       "Virginia                641409\n",
       "Washington              632826\n",
       "West Virginia           612278\n",
       "Wisconsin               628070\n",
       "Wyoming                 644243\n",
       "Name: count, dtype: int64"
      ]
     },
     "execution_count": 93,
     "metadata": {},
     "output_type": "execute_result"
    }
   ],
   "source": [
    "#View values in state variable\n",
    "df_merged_dataset['state'].value_counts(dropna = False).sort_index()"
   ]
  },
  {
   "cell_type": "code",
   "execution_count": 94,
   "id": "bcdeda5f-97ae-49e2-959b-bf15296c7661",
   "metadata": {
    "editable": true,
    "slideshow": {
     "slide_type": ""
    },
    "tags": []
   },
   "outputs": [
    {
     "data": {
      "text/plain": [
       "51"
      ]
     },
     "execution_count": 94,
     "metadata": {},
     "output_type": "execute_result"
    }
   ],
   "source": [
    "#Count values in state variable\n",
    "df_merged_dataset['state'].nunique(dropna = False)"
   ]
  },
  {
   "cell_type": "code",
   "execution_count": 95,
   "id": "6e3875cf-e582-4dc2-ad26-918c77c05126",
   "metadata": {
    "editable": true,
    "slideshow": {
     "slide_type": ""
    },
    "tags": []
   },
   "outputs": [],
   "source": [
    "#Allocate states to regions\n",
    "result_3 = []\n",
    "for value in df_merged_dataset['state']:\n",
    "  if value in ['Maine', 'New Hampshire', 'Vermont', 'Massachusetts', 'Rhode Island', 'Connecticut', 'New York', 'Pennsylvania', 'New Jersey']:\n",
    "    result_3.append('Northeast')\n",
    "  elif value in ['Wisconsin', 'Michigan', 'Illinois', 'Indiana', 'Ohio', 'North Dakota', 'South Dakota', 'Nebraska', 'Kansas', 'Minnesota', 'Iowa', 'Missouri']:\n",
    "    result_3.append('Midwest')\n",
    "  elif value in ['Delaware', 'Maryland', 'District of Columbia', 'Virginia', 'West Virginia', 'North Carolina', 'South Carolina', 'Georgia', 'Florida', 'Kentucky', 'Tennessee', 'Mississippi', 'Alabama', 'Oklahoma', 'Texas', 'Arkansas', 'Louisiana']:\n",
    "    result_3.append('South')\n",
    "  elif value in ['Idaho', 'Montana', 'Wyoming', 'Nevada', 'Utah', 'Colorado', 'Arizona', 'New Mexico', 'Alaska', 'Washington', 'Oregon', 'California', 'Hawaii']:\n",
    "    result_3.append('West')\n",
    "  else:\n",
    "    result_3.append('Unallocated') "
   ]
  },
  {
   "cell_type": "code",
   "execution_count": 96,
   "id": "384635f9-e683-426f-960b-b96de7787eb7",
   "metadata": {
    "editable": true,
    "slideshow": {
     "slide_type": ""
    },
    "tags": []
   },
   "outputs": [],
   "source": [
    "#Assign result to a new column\n",
    "df_merged_dataset['region'] = result_3"
   ]
  },
  {
   "cell_type": "code",
   "execution_count": 97,
   "id": "2aa7aec6-14ab-4dc7-9149-bce4cd64c931",
   "metadata": {
    "editable": true,
    "slideshow": {
     "slide_type": ""
    },
    "tags": []
   },
   "outputs": [
    {
     "data": {
      "text/plain": [
       "(32403719, 42)"
      ]
     },
     "execution_count": 97,
     "metadata": {},
     "output_type": "execute_result"
    }
   ],
   "source": [
    "#Get dimensions\n",
    "df_merged_dataset.shape"
   ]
  },
  {
   "cell_type": "code",
   "execution_count": 98,
   "id": "e910e237-26c6-489c-a494-ae8e05b26599",
   "metadata": {
    "editable": true,
    "slideshow": {
     "slide_type": ""
    },
    "tags": []
   },
   "outputs": [
    {
     "data": {
      "text/plain": [
       "Index(['order_id', 'user_id', 'user_order_count', 'order_day_of_week',\n",
       "       'order_hour_of_day', 'days_since_last_order', 'is_first_order',\n",
       "       'product_id', 'add_to_cart_order', 'reordered', 'product_name',\n",
       "       'aisle_id', 'department_id', 'prices', 'gender', 'state', 'age',\n",
       "       'date_joined', 'number_of_dependants', 'marital_status', 'income',\n",
       "       'department', 'busiest_days', 'busiest_hours', 'price_label',\n",
       "       'mean_price', 'avg_price', 'spending_flag', 'max_order',\n",
       "       'engagement_flag', 'median_days', 'frequency_flag', 'customer_tenure',\n",
       "       'activity_rate', 'activity_flag', 'spending_score', 'engagement_score',\n",
       "       'frequency_score', 'activity_score', 'total_loyalty_score',\n",
       "       'loyalty_flag', 'region'],\n",
       "      dtype='object')"
      ]
     },
     "execution_count": 98,
     "metadata": {},
     "output_type": "execute_result"
    }
   ],
   "source": [
    "#Get column names\n",
    "df_merged_dataset.columns"
   ]
  },
  {
   "cell_type": "code",
   "execution_count": 99,
   "id": "ac2db8d6-d60d-45cb-b0e4-41c63d01378e",
   "metadata": {},
   "outputs": [
    {
     "data": {
      "text/plain": [
       "region\n",
       "South        10791513\n",
       "West          8292641\n",
       "Midwest       7597015\n",
       "Northeast     5722550\n",
       "Name: count, dtype: int64"
      ]
     },
     "execution_count": 99,
     "metadata": {},
     "output_type": "execute_result"
    }
   ],
   "source": [
    "#View distribution of values in 'region' column\n",
    "df_merged_dataset['region'].value_counts(dropna = False)"
   ]
  },
  {
   "cell_type": "markdown",
   "id": "533b997c-3acd-4884-832d-40d41606936e",
   "metadata": {},
   "source": [
    "## 3.16. Age"
   ]
  },
  {
   "cell_type": "code",
   "execution_count": 100,
   "id": "2740daa7-2af3-4fd6-8fd9-8f49717631ec",
   "metadata": {},
   "outputs": [
    {
     "data": {
      "text/plain": [
       "age\n",
       "18    500446\n",
       "19    519596\n",
       "20    502830\n",
       "21    512511\n",
       "22    513815\n",
       "       ...  \n",
       "77    502108\n",
       "78    495299\n",
       "79    529724\n",
       "80    515224\n",
       "81    509282\n",
       "Name: count, Length: 64, dtype: int64"
      ]
     },
     "execution_count": 100,
     "metadata": {},
     "output_type": "execute_result"
    }
   ],
   "source": [
    "#View values in 'age' column\n",
    "df_merged_dataset['age'].value_counts(dropna = False).sort_index()"
   ]
  },
  {
   "cell_type": "code",
   "execution_count": 101,
   "id": "dc5b4eff-2481-47d6-b2ad-e5dde08a444c",
   "metadata": {},
   "outputs": [
    {
     "data": {
      "text/plain": [
       "count    3.240372e+07\n",
       "mean     4.946528e+01\n",
       "std      1.848556e+01\n",
       "min      1.800000e+01\n",
       "25%      3.300000e+01\n",
       "50%      4.900000e+01\n",
       "75%      6.500000e+01\n",
       "max      8.100000e+01\n",
       "Name: age, dtype: float64"
      ]
     },
     "execution_count": 101,
     "metadata": {},
     "output_type": "execute_result"
    }
   ],
   "source": [
    "df_merged_dataset['age'].describe()"
   ]
  },
  {
   "cell_type": "code",
   "execution_count": 102,
   "id": "1363acbe-19eb-4c6a-bd13-a6ddb9458c82",
   "metadata": {},
   "outputs": [],
   "source": [
    "#Allocate age\n",
    "result_4 = []\n",
    "for value in df_merged_dataset['age']:\n",
    "  if value <= 25:\n",
    "    result_4.append('Young Adult')\n",
    "  elif value <= 45:\n",
    "    result_4.append('Adult')\n",
    "  elif value <= 65:\n",
    "    result_4.append('Middle Aged')\n",
    "  else:\n",
    "    result_4.append('Senior')"
   ]
  },
  {
   "cell_type": "code",
   "execution_count": 103,
   "id": "649b0502-eb0a-4b5b-b624-9187b293ad5d",
   "metadata": {},
   "outputs": [],
   "source": [
    "#Assign result to a new column\n",
    "df_merged_dataset['age_profile'] = result_4"
   ]
  },
  {
   "cell_type": "code",
   "execution_count": 104,
   "id": "347c17f9-7aec-4f67-a513-b938110ef857",
   "metadata": {},
   "outputs": [
    {
     "data": {
      "text/plain": [
       "(32403719, 43)"
      ]
     },
     "execution_count": 104,
     "metadata": {},
     "output_type": "execute_result"
    }
   ],
   "source": [
    "#View dimensions\n",
    "df_merged_dataset.shape"
   ]
  },
  {
   "cell_type": "code",
   "execution_count": 105,
   "id": "a7754f94-de7c-4052-a609-4f461860ac56",
   "metadata": {},
   "outputs": [
    {
     "data": {
      "text/plain": [
       "age_profile\n",
       "Adult          10155790\n",
       "Middle Aged    10115107\n",
       "Senior          8087791\n",
       "Young Adult     4045031\n",
       "Name: count, dtype: int64"
      ]
     },
     "execution_count": 105,
     "metadata": {},
     "output_type": "execute_result"
    }
   ],
   "source": [
    "#Check frequency distribution of new variable\n",
    "df_merged_dataset['age_profile'].value_counts(dropna = False)"
   ]
  },
  {
   "cell_type": "code",
   "execution_count": 106,
   "id": "a68d50ef-392f-4b0d-8491-8dd7dee16d13",
   "metadata": {},
   "outputs": [
    {
     "data": {
      "text/plain": [
       "age_profile\n",
       "Adult          64516\n",
       "Middle Aged    64422\n",
       "Senior         51584\n",
       "Young Adult    25687\n",
       "Name: user_id, dtype: int64"
      ]
     },
     "execution_count": 106,
     "metadata": {},
     "output_type": "execute_result"
    }
   ],
   "source": [
    "#Check distribution of user_id's by frequency_flag\n",
    "df_merged_dataset.groupby('age_profile')['user_id'].nunique()"
   ]
  },
  {
   "cell_type": "markdown",
   "id": "ba0b1705-de37-48eb-a50c-870485e71d1d",
   "metadata": {},
   "source": [
    "## 3.17. Income"
   ]
  },
  {
   "cell_type": "code",
   "execution_count": 107,
   "id": "d54dfe71-1fda-4af2-b796-3b3102dca995",
   "metadata": {},
   "outputs": [
    {
     "data": {
      "text/plain": [
       "count    3.240372e+07\n",
       "mean     9.943758e+04\n",
       "std      4.305685e+04\n",
       "min      2.590300e+04\n",
       "25%      6.700300e+04\n",
       "50%      9.661700e+04\n",
       "75%      1.279120e+05\n",
       "max      5.939010e+05\n",
       "Name: income, dtype: float64"
      ]
     },
     "execution_count": 107,
     "metadata": {},
     "output_type": "execute_result"
    }
   ],
   "source": [
    "df_merged_dataset['income'].describe()"
   ]
  },
  {
   "cell_type": "code",
   "execution_count": 108,
   "id": "a2890ee2-b366-45da-a20e-78285f8bf880",
   "metadata": {},
   "outputs": [
    {
     "data": {
      "text/plain": [
       "income\n",
       "25903      20\n",
       "25911      28\n",
       "25937      39\n",
       "25941      31\n",
       "25955     392\n",
       "         ... \n",
       "584097    826\n",
       "590790     54\n",
       "591089    176\n",
       "592409    318\n",
       "593901    640\n",
       "Name: count, Length: 108012, dtype: int64"
      ]
     },
     "execution_count": 108,
     "metadata": {},
     "output_type": "execute_result"
    }
   ],
   "source": [
    "df_merged_dataset['income'].value_counts(dropna = False).sort_index()"
   ]
  },
  {
   "cell_type": "code",
   "execution_count": 109,
   "id": "f796b9b6-8820-42cb-8f73-3e1b07a3cabf",
   "metadata": {},
   "outputs": [],
   "source": [
    "#Allocate income\n",
    "result_5 = []\n",
    "for value in df_merged_dataset['income']:\n",
    "  if value <= 55000:\n",
    "    result_5.append('Low Income')\n",
    "  elif value <= 150000:\n",
    "    result_5.append('Middle Income')\n",
    "  else:\n",
    "    result_5.append('High Income')"
   ]
  },
  {
   "cell_type": "code",
   "execution_count": 110,
   "id": "7fc6f655-36f1-4794-bb5c-23a3b75f961b",
   "metadata": {},
   "outputs": [],
   "source": [
    "#Assign result to a new column\n",
    "df_merged_dataset['income_profile'] = result_5"
   ]
  },
  {
   "cell_type": "code",
   "execution_count": 111,
   "id": "4a146c11-ba05-43f2-8d3f-5004a2192493",
   "metadata": {},
   "outputs": [
    {
     "data": {
      "text/plain": [
       "(32403719, 44)"
      ]
     },
     "execution_count": 111,
     "metadata": {},
     "output_type": "execute_result"
    }
   ],
   "source": [
    "#View dimensions\n",
    "df_merged_dataset.shape"
   ]
  },
  {
   "cell_type": "code",
   "execution_count": 112,
   "id": "2b10ef3b-2b82-4c1c-a075-25a46464c55a",
   "metadata": {},
   "outputs": [
    {
     "data": {
      "text/plain": [
       "income_profile\n",
       "Middle Income    23613160\n",
       "Low Income        4739847\n",
       "High Income       4050712\n",
       "Name: count, dtype: int64"
      ]
     },
     "execution_count": 112,
     "metadata": {},
     "output_type": "execute_result"
    }
   ],
   "source": [
    "#Check frequency distribution of new variable\n",
    "df_merged_dataset['income_profile'].value_counts(dropna = False)"
   ]
  },
  {
   "cell_type": "code",
   "execution_count": 113,
   "id": "38f4561d-7819-4f75-a6dc-6736a37b5ce6",
   "metadata": {},
   "outputs": [
    {
     "data": {
      "text/plain": [
       "income_profile\n",
       "High Income       23251\n",
       "Low Income        42113\n",
       "Middle Income    140845\n",
       "Name: user_id, dtype: int64"
      ]
     },
     "execution_count": 113,
     "metadata": {},
     "output_type": "execute_result"
    }
   ],
   "source": [
    "#Check distribution of user_id's by frequency_flag\n",
    "df_merged_dataset.groupby('income_profile')['user_id'].nunique()"
   ]
  },
  {
   "cell_type": "markdown",
   "id": "20e5175d-ab32-4427-a2d3-1af0872a43d3",
   "metadata": {},
   "source": [
    "## 3.18. Parental Status"
   ]
  },
  {
   "cell_type": "code",
   "execution_count": 114,
   "id": "5bf0c385-b7d9-4851-8745-103e16f8fbee",
   "metadata": {},
   "outputs": [
    {
     "data": {
      "text/plain": [
       "number_of_dependants\n",
       "0    8097297\n",
       "1    8080806\n",
       "2    8090893\n",
       "3    8134723\n",
       "Name: count, dtype: int64"
      ]
     },
     "execution_count": 114,
     "metadata": {},
     "output_type": "execute_result"
    }
   ],
   "source": [
    "df_merged_dataset['number_of_dependants'].value_counts(dropna = False).sort_index()"
   ]
  },
  {
   "cell_type": "code",
   "execution_count": 115,
   "id": "59726c4e-4583-454d-baba-d0b48c90e204",
   "metadata": {},
   "outputs": [],
   "source": [
    "#Allocate dependents\n",
    "result_6 = []\n",
    "for value in df_merged_dataset['number_of_dependants']:\n",
    "  if value == 0:\n",
    "    result_6.append('non-parent')\n",
    "  elif value > 0:\n",
    "    result_6.append('parent')\n",
    "  else:\n",
    "    result_6.append('unallocated') #Check"
   ]
  },
  {
   "cell_type": "code",
   "execution_count": 116,
   "id": "7914ad1b-621d-4dea-b375-9a4d8149501c",
   "metadata": {},
   "outputs": [],
   "source": [
    "#Assign result to a new column\n",
    "df_merged_dataset['parental_status'] = result_6"
   ]
  },
  {
   "cell_type": "code",
   "execution_count": 117,
   "id": "189fb6fd-cd55-47c4-91b7-8f222746668e",
   "metadata": {},
   "outputs": [
    {
     "data": {
      "text/plain": [
       "(32403719, 45)"
      ]
     },
     "execution_count": 117,
     "metadata": {},
     "output_type": "execute_result"
    }
   ],
   "source": [
    "#View dimensions\n",
    "df_merged_dataset.shape"
   ]
  },
  {
   "cell_type": "code",
   "execution_count": 118,
   "id": "9a66aecb-6504-40b7-8129-0024cf5668e0",
   "metadata": {},
   "outputs": [
    {
     "data": {
      "text/plain": [
       "parental_status\n",
       "parent        24306422\n",
       "non-parent     8097297\n",
       "Name: count, dtype: int64"
      ]
     },
     "execution_count": 118,
     "metadata": {},
     "output_type": "execute_result"
    }
   ],
   "source": [
    "#Check frequency distribution of new variable\n",
    "df_merged_dataset['parental_status'].value_counts(dropna = False)"
   ]
  },
  {
   "cell_type": "code",
   "execution_count": 119,
   "id": "2cf3c12c-4e8d-46e2-8839-f550552934a8",
   "metadata": {},
   "outputs": [
    {
     "data": {
      "text/plain": [
       "parental_status\n",
       "non-parent     51602\n",
       "parent        154607\n",
       "Name: user_id, dtype: int64"
      ]
     },
     "execution_count": 119,
     "metadata": {},
     "output_type": "execute_result"
    }
   ],
   "source": [
    "#Check distribution of user_id's by frequency_flag\n",
    "df_merged_dataset.groupby('parental_status')['user_id'].nunique()"
   ]
  },
  {
   "cell_type": "markdown",
   "id": "d617526d-87e8-4e03-97de-6b402218271d",
   "metadata": {},
   "source": [
    "## 3.19. Family Status"
   ]
  },
  {
   "cell_type": "code",
   "execution_count": 120,
   "id": "35f5c581-fb61-482e-89b7-aa20a1ab9205",
   "metadata": {},
   "outputs": [
    {
     "data": {
      "text/plain": [
       "marital_status\n",
       "divorced/widowed                     2771700\n",
       "living with parents and siblings     1550545\n",
       "married                             22755877\n",
       "single                               5325597\n",
       "Name: count, dtype: int64"
      ]
     },
     "execution_count": 120,
     "metadata": {},
     "output_type": "execute_result"
    }
   ],
   "source": [
    "df_merged_dataset['marital_status'].value_counts(dropna = False).sort_index()"
   ]
  },
  {
   "cell_type": "code",
   "execution_count": 121,
   "id": "2c07c150-d32c-4580-8bd7-4945a6366d16",
   "metadata": {},
   "outputs": [
    {
     "data": {
      "text/plain": [
       "marital_status\n",
       "divorced/widowed                     17640\n",
       "living with parents and siblings      9701\n",
       "married                             144906\n",
       "single                               33962\n",
       "Name: user_id, dtype: int64"
      ]
     },
     "execution_count": 121,
     "metadata": {},
     "output_type": "execute_result"
    }
   ],
   "source": [
    "#Check distribution of user_id's by frequency_flag\n",
    "df_merged_dataset.groupby('marital_status')['user_id'].nunique()"
   ]
  },
  {
   "cell_type": "code",
   "execution_count": 122,
   "id": "05059873-ef30-445c-bad7-df7eb42bfbd4",
   "metadata": {},
   "outputs": [
    {
     "data": {
      "text/html": [
       "<div>\n",
       "<style scoped>\n",
       "    .dataframe tbody tr th:only-of-type {\n",
       "        vertical-align: middle;\n",
       "    }\n",
       "\n",
       "    .dataframe tbody tr th {\n",
       "        vertical-align: top;\n",
       "    }\n",
       "\n",
       "    .dataframe thead th {\n",
       "        text-align: right;\n",
       "    }\n",
       "</style>\n",
       "<table border=\"1\" class=\"dataframe\">\n",
       "  <thead>\n",
       "    <tr style=\"text-align: right;\">\n",
       "      <th>parental_status</th>\n",
       "      <th>non-parent</th>\n",
       "      <th>parent</th>\n",
       "    </tr>\n",
       "    <tr>\n",
       "      <th>marital_status</th>\n",
       "      <th></th>\n",
       "      <th></th>\n",
       "    </tr>\n",
       "  </thead>\n",
       "  <tbody>\n",
       "    <tr>\n",
       "      <th>divorced/widowed</th>\n",
       "      <td>2771700</td>\n",
       "      <td>0</td>\n",
       "    </tr>\n",
       "    <tr>\n",
       "      <th>living with parents and siblings</th>\n",
       "      <td>0</td>\n",
       "      <td>1550545</td>\n",
       "    </tr>\n",
       "    <tr>\n",
       "      <th>married</th>\n",
       "      <td>0</td>\n",
       "      <td>22755877</td>\n",
       "    </tr>\n",
       "    <tr>\n",
       "      <th>single</th>\n",
       "      <td>5325597</td>\n",
       "      <td>0</td>\n",
       "    </tr>\n",
       "  </tbody>\n",
       "</table>\n",
       "</div>"
      ],
      "text/plain": [
       "parental_status                   non-parent    parent\n",
       "marital_status                                        \n",
       "divorced/widowed                     2771700         0\n",
       "living with parents and siblings           0   1550545\n",
       "married                                    0  22755877\n",
       "single                               5325597         0"
      ]
     },
     "execution_count": 122,
     "metadata": {},
     "output_type": "execute_result"
    }
   ],
   "source": [
    "#Cross variables\n",
    "marital_vs_parental_status = pd.crosstab(df_merged_dataset['marital_status'], df_merged_dataset['parental_status'], dropna = False)\n",
    "marital_vs_parental_status"
   ]
  },
  {
   "cell_type": "markdown",
   "id": "f0989677-a082-4cbe-93e8-f7e46ba040d3",
   "metadata": {},
   "source": [
    "##### Allocate lables as follows:\n",
    "- None of the divorced/widowed and single users have children and can be classified as single adults.\n",
    "- All users that live with their parents or siblings are also parents and can be classified as young parents.\n",
    "- All married users are parents and can be classified as families."
   ]
  },
  {
   "cell_type": "code",
   "execution_count": 123,
   "id": "c8d8f1fa-9fce-4ff1-aa9c-cf7f5c323f04",
   "metadata": {},
   "outputs": [],
   "source": [
    "#Allocate family status\n",
    "result_7 = []\n",
    "for value in df_merged_dataset['marital_status']:\n",
    "  if value == 'divorced/widowed':\n",
    "    result_7.append('Single Adult')\n",
    "  elif value == 'living with parents and siblings':\n",
    "    result_7.append('Young Parent')\n",
    "  elif value == 'married':\n",
    "    result_7.append('Family')\n",
    "  elif value == 'single':\n",
    "    result_7.append('Single Adult')\n",
    "  else:\n",
    "    result_7.append('unallocated')"
   ]
  },
  {
   "cell_type": "code",
   "execution_count": 124,
   "id": "fd579876-5c30-4639-9edc-b850e78b0cbd",
   "metadata": {},
   "outputs": [],
   "source": [
    "#Assign result to a new column\n",
    "df_merged_dataset['family_status'] = result_7"
   ]
  },
  {
   "cell_type": "code",
   "execution_count": 125,
   "id": "60ccb272-adcd-407e-8f88-3933e9b2a522",
   "metadata": {},
   "outputs": [
    {
     "data": {
      "text/plain": [
       "(32403719, 46)"
      ]
     },
     "execution_count": 125,
     "metadata": {},
     "output_type": "execute_result"
    }
   ],
   "source": [
    "#View dimensions\n",
    "df_merged_dataset.shape"
   ]
  },
  {
   "cell_type": "code",
   "execution_count": 126,
   "id": "13b167b6-4291-4fcc-8ea4-a18a91c26c26",
   "metadata": {},
   "outputs": [
    {
     "data": {
      "text/plain": [
       "family_status\n",
       "Family          22755877\n",
       "Single Adult     8097297\n",
       "Young Parent     1550545\n",
       "Name: count, dtype: int64"
      ]
     },
     "execution_count": 126,
     "metadata": {},
     "output_type": "execute_result"
    }
   ],
   "source": [
    "#Check frequency distribution of new variable\n",
    "df_merged_dataset['family_status'].value_counts(dropna = False)"
   ]
  },
  {
   "cell_type": "code",
   "execution_count": 127,
   "id": "4b86be9a-3007-472a-b667-e8c8d5ca1480",
   "metadata": {},
   "outputs": [
    {
     "data": {
      "text/plain": [
       "family_status\n",
       "Family          144906\n",
       "Single Adult     51602\n",
       "Young Parent      9701\n",
       "Name: user_id, dtype: int64"
      ]
     },
     "execution_count": 127,
     "metadata": {},
     "output_type": "execute_result"
    }
   ],
   "source": [
    "#Check distribution of user_id's by frequency_flag\n",
    "df_merged_dataset.groupby('family_status')['user_id'].nunique()"
   ]
  },
  {
   "cell_type": "markdown",
   "id": "e1e550f4-14d3-4bdf-a482-6c9dc56b8278",
   "metadata": {},
   "source": [
    "## 3.20. Product Category"
   ]
  },
  {
   "cell_type": "code",
   "execution_count": 128,
   "id": "8229bdc5-d1bd-4d76-af5c-d76c0c894be0",
   "metadata": {},
   "outputs": [
    {
     "data": {
      "text/plain": [
       "department_id\n",
       "4     9479291\n",
       "16    5398185\n",
       "19    2887550\n",
       "7     2688115\n",
       "1     2234743\n",
       "13    1875369\n",
       "3     1172428\n",
       "15    1068058\n",
       "20    1051249\n",
       "9      866627\n",
       "17     738666\n",
       "12     708927\n",
       "14     703033\n",
       "11     447010\n",
       "18     423794\n",
       "6      269253\n",
       "5      153696\n",
       "8       97716\n",
       "21      69145\n",
       "2       36291\n",
       "10      34573\n",
       "Name: count, dtype: int64"
      ]
     },
     "execution_count": 128,
     "metadata": {},
     "output_type": "execute_result"
    }
   ],
   "source": [
    "#View distribution of values in 'department_id' column\n",
    "df_merged_dataset['department_id'].value_counts(dropna = False)"
   ]
  },
  {
   "cell_type": "code",
   "execution_count": null,
   "id": "0537755c-94c1-4503-b128-e775e77bb425",
   "metadata": {},
   "outputs": [],
   "source": []
  },
  {
   "cell_type": "code",
   "execution_count": null,
   "id": "6cc1073e-bf4a-4cb2-a589-3adf857ce1c8",
   "metadata": {},
   "outputs": [],
   "source": []
  },
  {
   "cell_type": "markdown",
   "id": "4882da8a-280b-4c71-9c86-df271cf73eed",
   "metadata": {},
   "source": [
    "##### Categories can be allocated as follows:\n",
    "- beverages as beverages [7]\n",
    "- alcoholic as alcoholic beverages [5]\n",
    "- dairy eggs, deli, meat seafood, produce & bakery as perishables [16,20,12,4,3]\n",
    "- frozen, bulk, canned goods, dry goods pasta, pantry, snacks & breakfast as non-perishables [1,10,15,9,13,19,14]\n",
    "- household as household [17]\n",
    "- personal care as personal care [11]\n",
    "- pets as pets [8]\n",
    "- babies as babies [18]\n",
    "- international, missing & other as miscellaneous [6,21,2]"
   ]
  },
  {
   "cell_type": "code",
   "execution_count": 129,
   "id": "b4092c58-6e1a-4c90-aa6e-3f143426a14b",
   "metadata": {},
   "outputs": [],
   "source": [
    "#Allocate departments\n",
    "result_8 = []\n",
    "for value in df_merged_dataset['department_id']:\n",
    "  if value in [7]:\n",
    "    result_8.append('beverages')\n",
    "  elif value in [5]:\n",
    "    result_8.append('alcoholic beverages')\n",
    "  elif value in [16,20,12,4,3]:\n",
    "    result_8.append('perishables')\n",
    "  elif value in [1,10,15,9,13,19,14]:\n",
    "    result_8.append('non-perishables')\n",
    "  elif value in [17]:\n",
    "    result_8.append('household')\n",
    "  elif value in [11]:\n",
    "    result_8.append('personal care')\n",
    "  elif value in [8]:\n",
    "    result_8.append('pets')\n",
    "  elif value in [18]:\n",
    "    result_8.append('babies')\n",
    "  elif value in [6,21,2]:\n",
    "    result_8.append('miscellaneous')\n",
    "  else:\n",
    "    result_8.append('unallocated') #Check"
   ]
  },
  {
   "cell_type": "code",
   "execution_count": 130,
   "id": "6f6b47d0-0c6a-441e-ba86-262b6be1ee40",
   "metadata": {},
   "outputs": [],
   "source": [
    "#Assign result to a new column\n",
    "df_merged_dataset['product_category'] = result_8"
   ]
  },
  {
   "cell_type": "code",
   "execution_count": 131,
   "id": "02fb7246-5491-4071-a4cb-3ad202a9f193",
   "metadata": {},
   "outputs": [
    {
     "data": {
      "text/plain": [
       "(32403719, 47)"
      ]
     },
     "execution_count": 131,
     "metadata": {},
     "output_type": "execute_result"
    }
   ],
   "source": [
    "#View dimensions\n",
    "df_merged_dataset.shape"
   ]
  },
  {
   "cell_type": "code",
   "execution_count": 132,
   "id": "6752481a-0349-4c4d-9a56-d70c57b3473f",
   "metadata": {},
   "outputs": [
    {
     "data": {
      "text/plain": [
       "product_category\n",
       "perishables            17810080\n",
       "non-perishables         9669953\n",
       "beverages               2688115\n",
       "household                738666\n",
       "personal care            447010\n",
       "babies                   423794\n",
       "miscellaneous            374689\n",
       "alcoholic beverages      153696\n",
       "pets                      97716\n",
       "Name: count, dtype: int64"
      ]
     },
     "execution_count": 132,
     "metadata": {},
     "output_type": "execute_result"
    }
   ],
   "source": [
    "#Check frequency distribution of new variable\n",
    "df_merged_dataset['product_category'].value_counts(dropna = False)"
   ]
  },
  {
   "cell_type": "markdown",
   "id": "5d1803f1-9e2a-4f37-b868-075fd1bef863",
   "metadata": {},
   "source": [
    "# 4. Exports"
   ]
  },
  {
   "cell_type": "code",
   "execution_count": 133,
   "id": "96d10f9c-2327-458c-85e4-eed59b2e65b2",
   "metadata": {},
   "outputs": [
    {
     "data": {
      "text/plain": [
       "(32403719, 47)"
      ]
     },
     "execution_count": 133,
     "metadata": {},
     "output_type": "execute_result"
    }
   ],
   "source": [
    "#Confirm dimensions\n",
    "df_merged_dataset.shape"
   ]
  },
  {
   "cell_type": "code",
   "execution_count": null,
   "id": "26a676ff-4f16-4bdc-b197-3b12065eb758",
   "metadata": {},
   "outputs": [],
   "source": [
    "#Export merged dataset\n",
    "#df_merged_dataset.to_pickle(os.path.join(path, '02 - Data', 'Prepared Data', 'final_dataset.pkl'))"
   ]
  }
 ],
 "metadata": {
  "kernelspec": {
   "display_name": "Python 3 (ipykernel)",
   "language": "python",
   "name": "python3"
  },
  "language_info": {
   "codemirror_mode": {
    "name": "ipython",
    "version": 3
   },
   "file_extension": ".py",
   "mimetype": "text/x-python",
   "name": "python",
   "nbconvert_exporter": "python",
   "pygments_lexer": "ipython3",
   "version": "3.12.2"
  }
 },
 "nbformat": 4,
 "nbformat_minor": 5
}
