{
 "cells": [
  {
   "cell_type": "markdown",
   "id": "3a4cc115-7acd-43c3-8025-f952dc011d84",
   "metadata": {},
   "source": [
    "# Contents\n",
    "1. Imports\n",
    "2. Checks\n",
    "3. Derive New Variables\n",
    "4. Exports"
   ]
  },
  {
   "cell_type": "markdown",
   "id": "238de3a9-1ba5-4863-b83e-fefef3a474c2",
   "metadata": {},
   "source": [
    "# 1. Imports"
   ]
  },
  {
   "cell_type": "code",
   "execution_count": 1,
   "id": "abfb3baf-1f05-463b-bdc7-76db10244940",
   "metadata": {},
   "outputs": [],
   "source": [
    "#Libraries\n",
    "import pandas as pd\n",
    "import numpy as np\n",
    "import os"
   ]
  },
  {
   "cell_type": "code",
   "execution_count": 2,
   "id": "ba8ecf43-79d2-4a89-a92b-43f07b072edd",
   "metadata": {},
   "outputs": [],
   "source": [
    "#Path\n",
    "path = r'/Users/davidgriesel/Documents/0 - Analytics Projects/Online Grocery Store'"
   ]
  },
  {
   "cell_type": "code",
   "execution_count": 3,
   "id": "1a1e3662-b162-4671-9629-5085fd328b95",
   "metadata": {},
   "outputs": [],
   "source": [
    "#Dataset\n",
    "df_merged_dataset = pd.read_pickle(os.path.join(path, '02 - Data', 'Prepared Data', 'profiled_dataset.pkl'))"
   ]
  },
  {
   "cell_type": "code",
   "execution_count": 4,
   "id": "49cccce7-cf64-4ace-89b7-b80a540f0abe",
   "metadata": {},
   "outputs": [],
   "source": [
    "#Dataset\n",
    "df_departments = pd.read_pickle(os.path.join(path, '02 - Data', 'Prepared Data', 'cleaned_departments.pkl'))"
   ]
  },
  {
   "cell_type": "markdown",
   "id": "09f5e18c-1e49-43d6-812f-70adf606bd53",
   "metadata": {},
   "source": [
    "# 2. Checks"
   ]
  },
  {
   "cell_type": "code",
   "execution_count": 5,
   "id": "2b309c09-a19b-4917-bd81-910e6081a638",
   "metadata": {},
   "outputs": [
    {
     "data": {
      "text/plain": [
       "(32403719, 20)"
      ]
     },
     "execution_count": 5,
     "metadata": {},
     "output_type": "execute_result"
    }
   ],
   "source": [
    "#Dimensions\n",
    "df_merged_dataset.shape"
   ]
  },
  {
   "cell_type": "code",
   "execution_count": 6,
   "id": "a16c16a0-c3ce-436a-ba10-7ace6bab67d0",
   "metadata": {
    "scrolled": true
   },
   "outputs": [
    {
     "data": {
      "text/html": [
       "<div>\n",
       "<style scoped>\n",
       "    .dataframe tbody tr th:only-of-type {\n",
       "        vertical-align: middle;\n",
       "    }\n",
       "\n",
       "    .dataframe tbody tr th {\n",
       "        vertical-align: top;\n",
       "    }\n",
       "\n",
       "    .dataframe thead th {\n",
       "        text-align: right;\n",
       "    }\n",
       "</style>\n",
       "<table border=\"1\" class=\"dataframe\">\n",
       "  <thead>\n",
       "    <tr style=\"text-align: right;\">\n",
       "      <th></th>\n",
       "      <th>order_id</th>\n",
       "      <th>user_id</th>\n",
       "      <th>user_order_count</th>\n",
       "      <th>order_day_of_week</th>\n",
       "      <th>order_hour_of_day</th>\n",
       "      <th>days_since_last_order</th>\n",
       "      <th>product_id</th>\n",
       "      <th>department_id</th>\n",
       "      <th>prices</th>\n",
       "      <th>state</th>\n",
       "      <th>age</th>\n",
       "      <th>date_joined</th>\n",
       "      <th>number_of_dependants</th>\n",
       "      <th>marital_status</th>\n",
       "      <th>income</th>\n",
       "      <th>spending_flag</th>\n",
       "      <th>engagement_flag</th>\n",
       "      <th>frequency_flag</th>\n",
       "      <th>activity_flag</th>\n",
       "      <th>loyalty_flag</th>\n",
       "    </tr>\n",
       "  </thead>\n",
       "  <tbody>\n",
       "    <tr>\n",
       "      <th>0</th>\n",
       "      <td>2539329</td>\n",
       "      <td>1</td>\n",
       "      <td>1</td>\n",
       "      <td>2</td>\n",
       "      <td>8</td>\n",
       "      <td>NaN</td>\n",
       "      <td>196</td>\n",
       "      <td>7</td>\n",
       "      <td>9.0</td>\n",
       "      <td>Alabama</td>\n",
       "      <td>31</td>\n",
       "      <td>2019-02-17</td>\n",
       "      <td>3</td>\n",
       "      <td>married</td>\n",
       "      <td>40423</td>\n",
       "      <td>Moderate Spender</td>\n",
       "      <td>Low Engagement</td>\n",
       "      <td>Rare Shopper</td>\n",
       "      <td>Moderate Activity</td>\n",
       "      <td>Low Loyalty</td>\n",
       "    </tr>\n",
       "    <tr>\n",
       "      <th>1</th>\n",
       "      <td>2539329</td>\n",
       "      <td>1</td>\n",
       "      <td>1</td>\n",
       "      <td>2</td>\n",
       "      <td>8</td>\n",
       "      <td>NaN</td>\n",
       "      <td>14084</td>\n",
       "      <td>16</td>\n",
       "      <td>12.5</td>\n",
       "      <td>Alabama</td>\n",
       "      <td>31</td>\n",
       "      <td>2019-02-17</td>\n",
       "      <td>3</td>\n",
       "      <td>married</td>\n",
       "      <td>40423</td>\n",
       "      <td>Moderate Spender</td>\n",
       "      <td>Low Engagement</td>\n",
       "      <td>Rare Shopper</td>\n",
       "      <td>Moderate Activity</td>\n",
       "      <td>Low Loyalty</td>\n",
       "    </tr>\n",
       "    <tr>\n",
       "      <th>2</th>\n",
       "      <td>2539329</td>\n",
       "      <td>1</td>\n",
       "      <td>1</td>\n",
       "      <td>2</td>\n",
       "      <td>8</td>\n",
       "      <td>NaN</td>\n",
       "      <td>12427</td>\n",
       "      <td>19</td>\n",
       "      <td>4.4</td>\n",
       "      <td>Alabama</td>\n",
       "      <td>31</td>\n",
       "      <td>2019-02-17</td>\n",
       "      <td>3</td>\n",
       "      <td>married</td>\n",
       "      <td>40423</td>\n",
       "      <td>Moderate Spender</td>\n",
       "      <td>Low Engagement</td>\n",
       "      <td>Rare Shopper</td>\n",
       "      <td>Moderate Activity</td>\n",
       "      <td>Low Loyalty</td>\n",
       "    </tr>\n",
       "    <tr>\n",
       "      <th>3</th>\n",
       "      <td>2539329</td>\n",
       "      <td>1</td>\n",
       "      <td>1</td>\n",
       "      <td>2</td>\n",
       "      <td>8</td>\n",
       "      <td>NaN</td>\n",
       "      <td>26088</td>\n",
       "      <td>19</td>\n",
       "      <td>4.7</td>\n",
       "      <td>Alabama</td>\n",
       "      <td>31</td>\n",
       "      <td>2019-02-17</td>\n",
       "      <td>3</td>\n",
       "      <td>married</td>\n",
       "      <td>40423</td>\n",
       "      <td>Moderate Spender</td>\n",
       "      <td>Low Engagement</td>\n",
       "      <td>Rare Shopper</td>\n",
       "      <td>Moderate Activity</td>\n",
       "      <td>Low Loyalty</td>\n",
       "    </tr>\n",
       "    <tr>\n",
       "      <th>4</th>\n",
       "      <td>2539329</td>\n",
       "      <td>1</td>\n",
       "      <td>1</td>\n",
       "      <td>2</td>\n",
       "      <td>8</td>\n",
       "      <td>NaN</td>\n",
       "      <td>26405</td>\n",
       "      <td>17</td>\n",
       "      <td>1.0</td>\n",
       "      <td>Alabama</td>\n",
       "      <td>31</td>\n",
       "      <td>2019-02-17</td>\n",
       "      <td>3</td>\n",
       "      <td>married</td>\n",
       "      <td>40423</td>\n",
       "      <td>Moderate Spender</td>\n",
       "      <td>Low Engagement</td>\n",
       "      <td>Rare Shopper</td>\n",
       "      <td>Moderate Activity</td>\n",
       "      <td>Low Loyalty</td>\n",
       "    </tr>\n",
       "  </tbody>\n",
       "</table>\n",
       "</div>"
      ],
      "text/plain": [
       "   order_id  user_id  user_order_count  order_day_of_week  order_hour_of_day  \\\n",
       "0   2539329        1                 1                  2                  8   \n",
       "1   2539329        1                 1                  2                  8   \n",
       "2   2539329        1                 1                  2                  8   \n",
       "3   2539329        1                 1                  2                  8   \n",
       "4   2539329        1                 1                  2                  8   \n",
       "\n",
       "   days_since_last_order  product_id  department_id  prices    state  age  \\\n",
       "0                    NaN         196              7     9.0  Alabama   31   \n",
       "1                    NaN       14084             16    12.5  Alabama   31   \n",
       "2                    NaN       12427             19     4.4  Alabama   31   \n",
       "3                    NaN       26088             19     4.7  Alabama   31   \n",
       "4                    NaN       26405             17     1.0  Alabama   31   \n",
       "\n",
       "  date_joined  number_of_dependants marital_status  income     spending_flag  \\\n",
       "0  2019-02-17                     3        married   40423  Moderate Spender   \n",
       "1  2019-02-17                     3        married   40423  Moderate Spender   \n",
       "2  2019-02-17                     3        married   40423  Moderate Spender   \n",
       "3  2019-02-17                     3        married   40423  Moderate Spender   \n",
       "4  2019-02-17                     3        married   40423  Moderate Spender   \n",
       "\n",
       "  engagement_flag frequency_flag      activity_flag loyalty_flag  \n",
       "0  Low Engagement   Rare Shopper  Moderate Activity  Low Loyalty  \n",
       "1  Low Engagement   Rare Shopper  Moderate Activity  Low Loyalty  \n",
       "2  Low Engagement   Rare Shopper  Moderate Activity  Low Loyalty  \n",
       "3  Low Engagement   Rare Shopper  Moderate Activity  Low Loyalty  \n",
       "4  Low Engagement   Rare Shopper  Moderate Activity  Low Loyalty  "
      ]
     },
     "execution_count": 6,
     "metadata": {},
     "output_type": "execute_result"
    }
   ],
   "source": [
    "#Preview\n",
    "df_merged_dataset.head()"
   ]
  },
  {
   "cell_type": "markdown",
   "id": "04fbda70-efad-41f3-a270-06bca82b3aa9",
   "metadata": {},
   "source": [
    "##### Observations:\n",
    "- Consistent with integrated dataset"
   ]
  },
  {
   "cell_type": "markdown",
   "id": "7bc5165b-0c96-41cf-b6dd-1abd1e0d7bbc",
   "metadata": {},
   "source": [
    "# 3. Derive New Variables"
   ]
  },
  {
   "cell_type": "markdown",
   "id": "101790af-b67c-493a-b4fe-211a5c5eb8b8",
   "metadata": {},
   "source": [
    "## 3.1. Busiest Days"
   ]
  },
  {
   "cell_type": "code",
   "execution_count": 7,
   "id": "b4974ef1-fb97-4f41-99d3-4f4a68db3a38",
   "metadata": {},
   "outputs": [],
   "source": [
    "#Check frequency distribution of variable\n",
    "#df_merged_dataset['order_day_of_week'].value_counts(dropna = False)"
   ]
  },
  {
   "cell_type": "code",
   "execution_count": 8,
   "id": "25ca855a-374c-477c-be87-4ee9f43b6cdb",
   "metadata": {},
   "outputs": [],
   "source": [
    "#Create loop and place results in list\n",
    "result_1 = []\n",
    "\n",
    "for value in df_merged_dataset['order_day_of_week']:\n",
    "    if value == 0 or value == 1:\n",
    "        result_1.append('Most Busy')\n",
    "    elif value == 3 or value == 4:\n",
    "        result_1.append('Moderately Busy')\n",
    "    else:\n",
    "        result_1.append('Least Busy')"
   ]
  },
  {
   "cell_type": "code",
   "execution_count": 9,
   "id": "fbb1ae71-ff45-4317-9297-1605da3be210",
   "metadata": {
    "scrolled": true
   },
   "outputs": [],
   "source": [
    "#View list\n",
    "#result_1"
   ]
  },
  {
   "cell_type": "code",
   "execution_count": 10,
   "id": "ffd07465-69aa-4344-9b22-7afdd0b48c6c",
   "metadata": {},
   "outputs": [],
   "source": [
    "#Create new variable and set it equal to results of loop\n",
    "df_merged_dataset['busiest_days'] = result_1"
   ]
  },
  {
   "cell_type": "code",
   "execution_count": 11,
   "id": "f87858eb-ccd3-4b5f-b848-1ab14fb185ae",
   "metadata": {},
   "outputs": [],
   "source": [
    "#Confirm results\n",
    "#df_merged_dataset[['order_day_of_week', 'busiest_days']].head()"
   ]
  },
  {
   "cell_type": "code",
   "execution_count": 12,
   "id": "516c4bc5-6e75-4c2f-b8da-94e2cae1bc15",
   "metadata": {},
   "outputs": [],
   "source": [
    "#Dimensions\n",
    "#df_merged_dataset.shape"
   ]
  },
  {
   "cell_type": "code",
   "execution_count": 13,
   "id": "43b3ebb0-23a5-48ba-805b-8911decb8db9",
   "metadata": {},
   "outputs": [
    {
     "data": {
      "text/plain": [
       "busiest_days\n",
       "Least Busy         12915657\n",
       "Most Busy          11863938\n",
       "Moderately Busy     7624124\n",
       "Name: count, dtype: int64"
      ]
     },
     "execution_count": 13,
     "metadata": {},
     "output_type": "execute_result"
    }
   ],
   "source": [
    "#Check frequency distribution of new variable\n",
    "df_merged_dataset['busiest_days'].value_counts(dropna = False)"
   ]
  },
  {
   "cell_type": "markdown",
   "id": "7cfec190-bf8b-45fc-ba49-1592dcae1946",
   "metadata": {},
   "source": [
    "## 3.2. Busiest Hours"
   ]
  },
  {
   "cell_type": "code",
   "execution_count": 14,
   "id": "964c74a8-6ad9-406d-ab67-d866e0939ded",
   "metadata": {},
   "outputs": [],
   "source": [
    "#Check frequency distribution of variable\n",
    "#df_merged_dataset['order_hour_of_day'].value_counts()"
   ]
  },
  {
   "cell_type": "code",
   "execution_count": 15,
   "id": "77f471ed-fc9a-40e2-8456-cceabdd4b0e2",
   "metadata": {},
   "outputs": [],
   "source": [
    "#Create loop and place results in list\n",
    "result_2 = []\n",
    "\n",
    "for value in df_merged_dataset['order_hour_of_day']:\n",
    "    if value in [9, 10, 11, 12, 13, 14, 15, 16, 17]: # More than 2m orders\n",
    "        result_2.append('Most Busy')\n",
    "    elif value in [23, 0, 1, 2, 3, 4, 5, 6]: #less than 500k orders\n",
    "        result_2.append('Least Busy')\n",
    "    else:\n",
    "        result_2.append('Moderately Busy')"
   ]
  },
  {
   "cell_type": "code",
   "execution_count": 16,
   "id": "288ec7c3-9462-49f2-83e3-9c8ac805f5ba",
   "metadata": {},
   "outputs": [],
   "source": [
    "#Create new variable and set it equal to results of loop\n",
    "df_merged_dataset['busiest_hours'] = result_2"
   ]
  },
  {
   "cell_type": "code",
   "execution_count": 17,
   "id": "bec8244f-7d13-4c09-9a7a-d57861cec303",
   "metadata": {},
   "outputs": [],
   "source": [
    "#Confirm results\n",
    "#df_merged_dataset[['order_hour_of_day', 'busiest_hours']].head()"
   ]
  },
  {
   "cell_type": "code",
   "execution_count": 18,
   "id": "b735ee6b-57da-483d-bdce-b892d48de5e0",
   "metadata": {},
   "outputs": [],
   "source": [
    "#Dimensions\n",
    "#df_merged_dataset.shape"
   ]
  },
  {
   "cell_type": "code",
   "execution_count": 19,
   "id": "2cd02b44-054c-4c2a-b762-d91bdea8cb42",
   "metadata": {},
   "outputs": [
    {
     "data": {
      "text/plain": [
       "busiest_hours\n",
       "Most Busy          23204823\n",
       "Moderately Busy     7909779\n",
       "Least Busy          1289117\n",
       "Name: count, dtype: int64"
      ]
     },
     "execution_count": 19,
     "metadata": {},
     "output_type": "execute_result"
    }
   ],
   "source": [
    "#Check frequency distribution of new variable\n",
    "df_merged_dataset['busiest_hours'].value_counts(dropna = False)"
   ]
  },
  {
   "cell_type": "markdown",
   "id": "d509957b-5250-462d-a8ef-e6505167ddd7",
   "metadata": {},
   "source": [
    "## 3.3. Price Label"
   ]
  },
  {
   "cell_type": "code",
   "execution_count": 20,
   "id": "58317ae4-5874-4c94-97e3-0dd27b2650b5",
   "metadata": {},
   "outputs": [],
   "source": [
    "#Check frequency distribution of variable\n",
    "#df_merged_dataset['prices'].value_counts(dropna = False).sort_index()"
   ]
  },
  {
   "cell_type": "code",
   "execution_count": 21,
   "id": "a1378628-ce86-4185-ad4c-2b7f4047de29",
   "metadata": {},
   "outputs": [],
   "source": [
    "#Define the conditions\n",
    "conditions = [\n",
    "    df_merged_dataset['prices'] <= 5,\n",
    "    (df_merged_dataset['prices'] > 5) & (df_merged_dataset['prices'] <= 15),\n",
    "    df_merged_dataset['prices'] > 15\n",
    "]\n",
    "\n",
    "#Define corresponding labels\n",
    "choices = ['Low Range', 'Mid Range', 'High Range']\n",
    "\n",
    "#Create new variable based on the conditions\n",
    "df_merged_dataset['price_label'] = np.select(conditions, choices, default = 'Unknown')"
   ]
  },
  {
   "cell_type": "code",
   "execution_count": 22,
   "id": "cc2e2924-2dcc-49e3-b919-21e21e11ebc6",
   "metadata": {},
   "outputs": [],
   "source": [
    "#Confirm results\n",
    "#df_merged_dataset[['prices', 'price_label']].head()"
   ]
  },
  {
   "cell_type": "code",
   "execution_count": 23,
   "id": "eae7642d-7b92-4255-9300-8fcc34e798cc",
   "metadata": {},
   "outputs": [],
   "source": [
    "#Dimensions\n",
    "#df_merged_dataset.shape"
   ]
  },
  {
   "cell_type": "code",
   "execution_count": 24,
   "id": "6a49b890-ac12-4fec-b608-fa16ce318e55",
   "metadata": {},
   "outputs": [
    {
     "data": {
      "text/plain": [
       "price_label\n",
       "Mid Range     21865409\n",
       "Low Range     10125759\n",
       "High Range      412551\n",
       "Name: count, dtype: int64"
      ]
     },
     "execution_count": 24,
     "metadata": {},
     "output_type": "execute_result"
    }
   ],
   "source": [
    "#Check frequency distribution of new variable\n",
    "df_merged_dataset['price_label'].value_counts(dropna = False)"
   ]
  },
  {
   "cell_type": "markdown",
   "id": "045a0f07-57f5-49ad-9680-61fe58c5b1d5",
   "metadata": {
    "editable": true,
    "slideshow": {
     "slide_type": ""
    },
    "tags": []
   },
   "source": [
    "## 3.4. Region"
   ]
  },
  {
   "cell_type": "code",
   "execution_count": 25,
   "id": "a3224481-82bd-499c-8d71-6a2b406d2116",
   "metadata": {
    "editable": true,
    "scrolled": true,
    "slideshow": {
     "slide_type": ""
    },
    "tags": []
   },
   "outputs": [],
   "source": [
    "#View values in state variable\n",
    "#df_merged_dataset['state'].value_counts(dropna = False).sort_index()"
   ]
  },
  {
   "cell_type": "code",
   "execution_count": 26,
   "id": "bcdeda5f-97ae-49e2-959b-bf15296c7661",
   "metadata": {
    "editable": true,
    "slideshow": {
     "slide_type": ""
    },
    "tags": []
   },
   "outputs": [],
   "source": [
    "#Count values in state variable\n",
    "#df_merged_dataset['state'].nunique(dropna = False)"
   ]
  },
  {
   "cell_type": "code",
   "execution_count": 27,
   "id": "6e3875cf-e582-4dc2-ad26-918c77c05126",
   "metadata": {
    "editable": true,
    "slideshow": {
     "slide_type": ""
    },
    "tags": []
   },
   "outputs": [],
   "source": [
    "#Allocate states to regions\n",
    "result_3 = []\n",
    "for value in df_merged_dataset['state']:\n",
    "  if value in ['Maine', 'New Hampshire', 'Vermont', 'Massachusetts', 'Rhode Island', 'Connecticut', 'New York', 'Pennsylvania', 'New Jersey']:\n",
    "    result_3.append('Northeast')\n",
    "  elif value in ['Wisconsin', 'Michigan', 'Illinois', 'Indiana', 'Ohio', 'North Dakota', 'South Dakota', 'Nebraska', 'Kansas', 'Minnesota', 'Iowa', 'Missouri']:\n",
    "    result_3.append('Midwest')\n",
    "  elif value in ['Delaware', 'Maryland', 'District of Columbia', 'Virginia', 'West Virginia', 'North Carolina', 'South Carolina', 'Georgia', 'Florida', 'Kentucky', 'Tennessee', 'Mississippi', 'Alabama', 'Oklahoma', 'Texas', 'Arkansas', 'Louisiana']:\n",
    "    result_3.append('South')\n",
    "  elif value in ['Idaho', 'Montana', 'Wyoming', 'Nevada', 'Utah', 'Colorado', 'Arizona', 'New Mexico', 'Alaska', 'Washington', 'Oregon', 'California', 'Hawaii']:\n",
    "    result_3.append('West')\n",
    "  else:\n",
    "    result_3.append('Unallocated') "
   ]
  },
  {
   "cell_type": "code",
   "execution_count": 28,
   "id": "384635f9-e683-426f-960b-b96de7787eb7",
   "metadata": {
    "editable": true,
    "slideshow": {
     "slide_type": ""
    },
    "tags": []
   },
   "outputs": [],
   "source": [
    "#Assign result to a new column\n",
    "df_merged_dataset['region'] = result_3"
   ]
  },
  {
   "cell_type": "code",
   "execution_count": 29,
   "id": "2aa7aec6-14ab-4dc7-9149-bce4cd64c931",
   "metadata": {
    "editable": true,
    "slideshow": {
     "slide_type": ""
    },
    "tags": []
   },
   "outputs": [],
   "source": [
    "#Get dimensions\n",
    "#df_merged_dataset.shape"
   ]
  },
  {
   "cell_type": "code",
   "execution_count": 30,
   "id": "ac2db8d6-d60d-45cb-b0e4-41c63d01378e",
   "metadata": {},
   "outputs": [
    {
     "data": {
      "text/plain": [
       "region\n",
       "South        10791513\n",
       "West          8292641\n",
       "Midwest       7597015\n",
       "Northeast     5722550\n",
       "Name: count, dtype: int64"
      ]
     },
     "execution_count": 30,
     "metadata": {},
     "output_type": "execute_result"
    }
   ],
   "source": [
    "#View distribution of values in 'region' column\n",
    "df_merged_dataset['region'].value_counts(dropna = False)"
   ]
  },
  {
   "cell_type": "markdown",
   "id": "533b997c-3acd-4884-832d-40d41606936e",
   "metadata": {},
   "source": [
    "## 3.5. Age"
   ]
  },
  {
   "cell_type": "code",
   "execution_count": 31,
   "id": "2740daa7-2af3-4fd6-8fd9-8f49717631ec",
   "metadata": {},
   "outputs": [],
   "source": [
    "#View values in 'age' column\n",
    "#df_merged_dataset['age'].value_counts(dropna = False).sort_index()"
   ]
  },
  {
   "cell_type": "code",
   "execution_count": 32,
   "id": "dc5b4eff-2481-47d6-b2ad-e5dde08a444c",
   "metadata": {},
   "outputs": [],
   "source": [
    "#df_merged_dataset['age'].describe()"
   ]
  },
  {
   "cell_type": "code",
   "execution_count": 33,
   "id": "1363acbe-19eb-4c6a-bd13-a6ddb9458c82",
   "metadata": {},
   "outputs": [],
   "source": [
    "#Allocate age\n",
    "result_4 = []\n",
    "for value in df_merged_dataset['age']:\n",
    "  if value <= 25:\n",
    "    result_4.append('Young Adult')\n",
    "  elif value <= 45:\n",
    "    result_4.append('Adult')\n",
    "  elif value <= 65:\n",
    "    result_4.append('Middle Aged')\n",
    "  else:\n",
    "    result_4.append('Senior')"
   ]
  },
  {
   "cell_type": "code",
   "execution_count": 34,
   "id": "649b0502-eb0a-4b5b-b624-9187b293ad5d",
   "metadata": {},
   "outputs": [],
   "source": [
    "#Assign result to a new column\n",
    "df_merged_dataset['age_profile'] = result_4"
   ]
  },
  {
   "cell_type": "code",
   "execution_count": 35,
   "id": "347c17f9-7aec-4f67-a513-b938110ef857",
   "metadata": {},
   "outputs": [],
   "source": [
    "#View dimensions\n",
    "#df_merged_dataset.shape"
   ]
  },
  {
   "cell_type": "code",
   "execution_count": 36,
   "id": "a7754f94-de7c-4052-a609-4f461860ac56",
   "metadata": {},
   "outputs": [
    {
     "data": {
      "text/plain": [
       "age_profile\n",
       "Adult          10155790\n",
       "Middle Aged    10115107\n",
       "Senior          8087791\n",
       "Young Adult     4045031\n",
       "Name: count, dtype: int64"
      ]
     },
     "execution_count": 36,
     "metadata": {},
     "output_type": "execute_result"
    }
   ],
   "source": [
    "#Check frequency distribution of new variable\n",
    "df_merged_dataset['age_profile'].value_counts(dropna = False)"
   ]
  },
  {
   "cell_type": "code",
   "execution_count": 37,
   "id": "a68d50ef-392f-4b0d-8491-8dd7dee16d13",
   "metadata": {},
   "outputs": [],
   "source": [
    "#Check distribution of user_id's by frequency_flag\n",
    "#df_merged_dataset.groupby('age_profile')['user_id'].nunique()"
   ]
  },
  {
   "cell_type": "markdown",
   "id": "ba0b1705-de37-48eb-a50c-870485e71d1d",
   "metadata": {},
   "source": [
    "## 3.6. Income"
   ]
  },
  {
   "cell_type": "code",
   "execution_count": 38,
   "id": "d54dfe71-1fda-4af2-b796-3b3102dca995",
   "metadata": {},
   "outputs": [],
   "source": [
    "#df_merged_dataset['income'].describe()"
   ]
  },
  {
   "cell_type": "code",
   "execution_count": 39,
   "id": "a2890ee2-b366-45da-a20e-78285f8bf880",
   "metadata": {},
   "outputs": [],
   "source": [
    "#df_merged_dataset['income'].value_counts(dropna = False).sort_index()"
   ]
  },
  {
   "cell_type": "code",
   "execution_count": 40,
   "id": "f796b9b6-8820-42cb-8f73-3e1b07a3cabf",
   "metadata": {},
   "outputs": [],
   "source": [
    "#Allocate income\n",
    "result_5 = []\n",
    "for value in df_merged_dataset['income']:\n",
    "  if value <= 55000:\n",
    "    result_5.append('Low Income')\n",
    "  elif value <= 150000:\n",
    "    result_5.append('Middle Income')\n",
    "  else:\n",
    "    result_5.append('High Income')"
   ]
  },
  {
   "cell_type": "code",
   "execution_count": 41,
   "id": "7fc6f655-36f1-4794-bb5c-23a3b75f961b",
   "metadata": {},
   "outputs": [],
   "source": [
    "#Assign result to a new column\n",
    "df_merged_dataset['income_profile'] = result_5"
   ]
  },
  {
   "cell_type": "code",
   "execution_count": 42,
   "id": "4a146c11-ba05-43f2-8d3f-5004a2192493",
   "metadata": {},
   "outputs": [],
   "source": [
    "#View dimensions\n",
    "#df_merged_dataset.shape"
   ]
  },
  {
   "cell_type": "code",
   "execution_count": 43,
   "id": "2b10ef3b-2b82-4c1c-a075-25a46464c55a",
   "metadata": {},
   "outputs": [
    {
     "data": {
      "text/plain": [
       "income_profile\n",
       "Middle Income    23613160\n",
       "Low Income        4739847\n",
       "High Income       4050712\n",
       "Name: count, dtype: int64"
      ]
     },
     "execution_count": 43,
     "metadata": {},
     "output_type": "execute_result"
    }
   ],
   "source": [
    "#Check frequency distribution of new variable\n",
    "df_merged_dataset['income_profile'].value_counts(dropna = False)"
   ]
  },
  {
   "cell_type": "code",
   "execution_count": 44,
   "id": "38f4561d-7819-4f75-a6dc-6736a37b5ce6",
   "metadata": {},
   "outputs": [],
   "source": [
    "#Check distribution of user_id's by frequency_flag\n",
    "#df_merged_dataset.groupby('income_profile')['user_id'].nunique()"
   ]
  },
  {
   "cell_type": "markdown",
   "id": "20e5175d-ab32-4427-a2d3-1af0872a43d3",
   "metadata": {},
   "source": [
    "## 3.7. Parental Status"
   ]
  },
  {
   "cell_type": "code",
   "execution_count": 45,
   "id": "5bf0c385-b7d9-4851-8745-103e16f8fbee",
   "metadata": {},
   "outputs": [],
   "source": [
    "#df_merged_dataset['number_of_dependants'].value_counts(dropna = False).sort_index()"
   ]
  },
  {
   "cell_type": "code",
   "execution_count": 46,
   "id": "59726c4e-4583-454d-baba-d0b48c90e204",
   "metadata": {},
   "outputs": [],
   "source": [
    "#Allocate dependents\n",
    "result_6 = []\n",
    "for value in df_merged_dataset['number_of_dependants']:\n",
    "  if value == 0:\n",
    "    result_6.append('non-parent')\n",
    "  elif value > 0:\n",
    "    result_6.append('parent')\n",
    "  else:\n",
    "    result_6.append('unallocated') #Check"
   ]
  },
  {
   "cell_type": "code",
   "execution_count": 47,
   "id": "7914ad1b-621d-4dea-b375-9a4d8149501c",
   "metadata": {},
   "outputs": [],
   "source": [
    "#Assign result to a new column\n",
    "df_merged_dataset['parental_status'] = result_6"
   ]
  },
  {
   "cell_type": "code",
   "execution_count": 48,
   "id": "189fb6fd-cd55-47c4-91b7-8f222746668e",
   "metadata": {},
   "outputs": [],
   "source": [
    "#View dimensions\n",
    "#df_merged_dataset.shape"
   ]
  },
  {
   "cell_type": "code",
   "execution_count": 49,
   "id": "9a66aecb-6504-40b7-8129-0024cf5668e0",
   "metadata": {},
   "outputs": [
    {
     "data": {
      "text/plain": [
       "parental_status\n",
       "parent        24306422\n",
       "non-parent     8097297\n",
       "Name: count, dtype: int64"
      ]
     },
     "execution_count": 49,
     "metadata": {},
     "output_type": "execute_result"
    }
   ],
   "source": [
    "#Check frequency distribution of new variable\n",
    "df_merged_dataset['parental_status'].value_counts(dropna = False)"
   ]
  },
  {
   "cell_type": "code",
   "execution_count": 50,
   "id": "2cf3c12c-4e8d-46e2-8839-f550552934a8",
   "metadata": {},
   "outputs": [],
   "source": [
    "#Check distribution of user_id's by frequency_flag\n",
    "#df_merged_dataset.groupby('parental_status')['user_id'].nunique()"
   ]
  },
  {
   "cell_type": "markdown",
   "id": "d617526d-87e8-4e03-97de-6b402218271d",
   "metadata": {},
   "source": [
    "## 3.8. Marital Status"
   ]
  },
  {
   "cell_type": "code",
   "execution_count": 51,
   "id": "35f5c581-fb61-482e-89b7-aa20a1ab9205",
   "metadata": {},
   "outputs": [
    {
     "data": {
      "text/plain": [
       "marital_status\n",
       "divorced/widowed                     2771700\n",
       "living with parents and siblings     1550545\n",
       "married                             22755877\n",
       "single                               5325597\n",
       "Name: count, dtype: int64"
      ]
     },
     "execution_count": 51,
     "metadata": {},
     "output_type": "execute_result"
    }
   ],
   "source": [
    "df_merged_dataset['marital_status'].value_counts(dropna = False).sort_index()"
   ]
  },
  {
   "cell_type": "code",
   "execution_count": 52,
   "id": "2c07c150-d32c-4580-8bd7-4945a6366d16",
   "metadata": {},
   "outputs": [],
   "source": [
    "#Check distribution of user_id's by frequency_flag\n",
    "#df_merged_dataset.groupby('marital_status')['user_id'].nunique()"
   ]
  },
  {
   "cell_type": "markdown",
   "id": "f4a1bd94-b259-4751-9e7e-edbb1ff7fa7f",
   "metadata": {},
   "source": [
    "## 3.9. Family Status"
   ]
  },
  {
   "cell_type": "code",
   "execution_count": 53,
   "id": "05059873-ef30-445c-bad7-df7eb42bfbd4",
   "metadata": {},
   "outputs": [],
   "source": [
    "#Cross variables\n",
    "#marital_vs_parental_status = pd.crosstab(df_merged_dataset['marital_status'], df_merged_dataset['parental_status'], dropna = False)\n",
    "#marital_vs_parental_status"
   ]
  },
  {
   "cell_type": "markdown",
   "id": "f0989677-a082-4cbe-93e8-f7e46ba040d3",
   "metadata": {},
   "source": [
    "##### Allocate lables as follows:\n",
    "- None of the divorced/widowed and single users have children and can be classified as single adults.\n",
    "- All users that live with their parents or siblings are also parents and can be classified as young parents.\n",
    "- All married users are parents and can be classified as families."
   ]
  },
  {
   "cell_type": "code",
   "execution_count": 54,
   "id": "c8d8f1fa-9fce-4ff1-aa9c-cf7f5c323f04",
   "metadata": {},
   "outputs": [],
   "source": [
    "#Allocate family status\n",
    "result_7 = []\n",
    "for value in df_merged_dataset['marital_status']:\n",
    "  if value == 'divorced/widowed':\n",
    "    result_7.append('Single Adult')\n",
    "  elif value == 'living with parents and siblings':\n",
    "    result_7.append('Young Parent')\n",
    "  elif value == 'married':\n",
    "    result_7.append('Family')\n",
    "  elif value == 'single':\n",
    "    result_7.append('Single Adult')\n",
    "  else:\n",
    "    result_7.append('unallocated')"
   ]
  },
  {
   "cell_type": "code",
   "execution_count": 55,
   "id": "fd579876-5c30-4639-9edc-b850e78b0cbd",
   "metadata": {},
   "outputs": [],
   "source": [
    "#Assign result to a new column\n",
    "df_merged_dataset['family_status'] = result_7"
   ]
  },
  {
   "cell_type": "code",
   "execution_count": 56,
   "id": "60ccb272-adcd-407e-8f88-3933e9b2a522",
   "metadata": {},
   "outputs": [],
   "source": [
    "#View dimensions\n",
    "#df_merged_dataset.shape"
   ]
  },
  {
   "cell_type": "code",
   "execution_count": 57,
   "id": "13b167b6-4291-4fcc-8ea4-a18a91c26c26",
   "metadata": {},
   "outputs": [
    {
     "data": {
      "text/plain": [
       "family_status\n",
       "Family          22755877\n",
       "Single Adult     8097297\n",
       "Young Parent     1550545\n",
       "Name: count, dtype: int64"
      ]
     },
     "execution_count": 57,
     "metadata": {},
     "output_type": "execute_result"
    }
   ],
   "source": [
    "#Check frequency distribution of new variable\n",
    "df_merged_dataset['family_status'].value_counts(dropna = False)"
   ]
  },
  {
   "cell_type": "code",
   "execution_count": 58,
   "id": "4b86be9a-3007-472a-b667-e8c8d5ca1480",
   "metadata": {},
   "outputs": [],
   "source": [
    "#Check distribution of user_id's by frequency_flag\n",
    "#df_merged_dataset.groupby('family_status')['user_id'].nunique()"
   ]
  },
  {
   "cell_type": "markdown",
   "id": "e1e550f4-14d3-4bdf-a482-6c9dc56b8278",
   "metadata": {},
   "source": [
    "## 3.10. Product Category"
   ]
  },
  {
   "cell_type": "code",
   "execution_count": 59,
   "id": "8229bdc5-d1bd-4d76-af5c-d76c0c894be0",
   "metadata": {},
   "outputs": [],
   "source": [
    "#View distribution of values in 'department_id' column\n",
    "#df_merged_dataset['department_id'].value_counts(dropna = False)"
   ]
  },
  {
   "cell_type": "code",
   "execution_count": 60,
   "id": "97e4ffd5-6e61-425b-b449-234ed73d1157",
   "metadata": {},
   "outputs": [],
   "source": [
    "#Turn dataframe into data dictionary\n",
    "data_dictionary = df_departments.to_dict('index')"
   ]
  },
  {
   "cell_type": "code",
   "execution_count": 61,
   "id": "21128a62-92f1-48ce-801f-80c15701d4a8",
   "metadata": {},
   "outputs": [],
   "source": [
    "#View created data dictionary\n",
    "#data_dictionary"
   ]
  },
  {
   "cell_type": "markdown",
   "id": "4882da8a-280b-4c71-9c86-df271cf73eed",
   "metadata": {},
   "source": [
    "##### Categories can be allocated as follows:\n",
    "- beverages as beverages [7]\n",
    "- alcoholic as alcoholic beverages [5]\n",
    "- dairy eggs, deli, meat seafood, produce & bakery as perishables [16,20,12,4,3]\n",
    "- frozen, bulk, canned goods, dry goods pasta, pantry, snacks & breakfast as non-perishables [1,10,15,9,13,19,14]\n",
    "- household as household [17]\n",
    "- personal care as personal care [11]\n",
    "- pets as pets [8]\n",
    "- babies as babies [18]\n",
    "- international, missing & other as miscellaneous [6,21,2]"
   ]
  },
  {
   "cell_type": "code",
   "execution_count": 62,
   "id": "b4092c58-6e1a-4c90-aa6e-3f143426a14b",
   "metadata": {},
   "outputs": [],
   "source": [
    "#Allocate departments\n",
    "result_8 = []\n",
    "for value in df_merged_dataset['department_id']:\n",
    "  if value in [7]:\n",
    "    result_8.append('beverages')\n",
    "  elif value in [5]:\n",
    "    result_8.append('alcoholic beverages')\n",
    "  elif value in [16,20,12,4,3]:\n",
    "    result_8.append('perishables')\n",
    "  elif value in [1,10,15,9,13,19,14]:\n",
    "    result_8.append('non-perishables')\n",
    "  elif value in [17]:\n",
    "    result_8.append('household')\n",
    "  elif value in [11]:\n",
    "    result_8.append('personal care')\n",
    "  elif value in [8]:\n",
    "    result_8.append('pets')\n",
    "  elif value in [18]:\n",
    "    result_8.append('babies')\n",
    "  elif value in [6,21,2]:\n",
    "    result_8.append('miscellaneous')\n",
    "  else:\n",
    "    result_8.append('unallocated') #Check"
   ]
  },
  {
   "cell_type": "code",
   "execution_count": 63,
   "id": "6f6b47d0-0c6a-441e-ba86-262b6be1ee40",
   "metadata": {},
   "outputs": [],
   "source": [
    "#Assign result to a new column\n",
    "df_merged_dataset['product_category'] = result_8"
   ]
  },
  {
   "cell_type": "code",
   "execution_count": 64,
   "id": "02fb7246-5491-4071-a4cb-3ad202a9f193",
   "metadata": {},
   "outputs": [],
   "source": [
    "#View dimensions\n",
    "#df_merged_dataset.shape"
   ]
  },
  {
   "cell_type": "code",
   "execution_count": 65,
   "id": "6752481a-0349-4c4d-9a56-d70c57b3473f",
   "metadata": {},
   "outputs": [
    {
     "data": {
      "text/plain": [
       "product_category\n",
       "perishables            17810080\n",
       "non-perishables         9669953\n",
       "beverages               2688115\n",
       "household                738666\n",
       "personal care            447010\n",
       "babies                   423794\n",
       "miscellaneous            374689\n",
       "alcoholic beverages      153696\n",
       "pets                      97716\n",
       "Name: count, dtype: int64"
      ]
     },
     "execution_count": 65,
     "metadata": {},
     "output_type": "execute_result"
    }
   ],
   "source": [
    "#Check frequency distribution of new variable\n",
    "df_merged_dataset['product_category'].value_counts(dropna = False)"
   ]
  },
  {
   "cell_type": "markdown",
   "id": "5d1803f1-9e2a-4f37-b868-075fd1bef863",
   "metadata": {},
   "source": [
    "# 4. Exports"
   ]
  },
  {
   "cell_type": "code",
   "execution_count": 66,
   "id": "96d10f9c-2327-458c-85e4-eed59b2e65b2",
   "metadata": {},
   "outputs": [
    {
     "data": {
      "text/plain": [
       "(32403719, 29)"
      ]
     },
     "execution_count": 66,
     "metadata": {},
     "output_type": "execute_result"
    }
   ],
   "source": [
    "#Confirm dimensions\n",
    "df_merged_dataset.shape"
   ]
  },
  {
   "cell_type": "code",
   "execution_count": 67,
   "id": "26a676ff-4f16-4bdc-b197-3b12065eb758",
   "metadata": {},
   "outputs": [],
   "source": [
    "#Export merged dataset\n",
    "df_merged_dataset.to_pickle(os.path.join(path, '02 - Data', 'Prepared Data', 'segmented_dataset.pkl'))"
   ]
  }
 ],
 "metadata": {
  "kernelspec": {
   "display_name": "Python 3 (ipykernel)",
   "language": "python",
   "name": "python3"
  },
  "language_info": {
   "codemirror_mode": {
    "name": "ipython",
    "version": 3
   },
   "file_extension": ".py",
   "mimetype": "text/x-python",
   "name": "python",
   "nbconvert_exporter": "python",
   "pygments_lexer": "ipython3",
   "version": "3.12.2"
  }
 },
 "nbformat": 4,
 "nbformat_minor": 5
}
