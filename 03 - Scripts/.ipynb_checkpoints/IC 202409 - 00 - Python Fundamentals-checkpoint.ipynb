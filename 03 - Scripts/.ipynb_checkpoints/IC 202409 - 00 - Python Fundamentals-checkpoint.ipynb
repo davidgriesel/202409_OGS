{
 "cells": [
  {
   "cell_type": "markdown",
   "id": "aab16ed0-b62c-409b-899a-96c180886aea",
   "metadata": {},
   "source": [
    "# Import libraries"
   ]
  },
  {
   "cell_type": "code",
   "execution_count": 2,
   "id": "cfbce807-a42a-4662-97c0-0a097fae7d31",
   "metadata": {},
   "outputs": [],
   "source": [
    "import pandas as pd\n",
    "import numpy as np\n",
    "import os"
   ]
  },
  {
   "cell_type": "markdown",
   "id": "8ade3726-8bf3-4d10-a2bd-f59c6d6fca03",
   "metadata": {},
   "source": [
    "# Import datasets"
   ]
  },
  {
   "cell_type": "code",
   "execution_count": 4,
   "id": "f3dc1e8c-11ce-4532-a325-d9ccac46628f",
   "metadata": {},
   "outputs": [],
   "source": [
    "path = r'/Users/davidgriesel/Documents/0 - CareerFoundry/02 - Data Analytics Immersion/04 - Python Fundamentals for Data Analysts/Instacart Basket Analysis - IC 202409'"
   ]
  },
  {
   "cell_type": "code",
   "execution_count": 5,
   "id": "c351777a-a888-4a21-813d-3a9003719aa3",
   "metadata": {},
   "outputs": [],
   "source": [
    "df_customers = pd.read_csv(os.path.join(path, '02 - Data', 'Original Data', 'customers.csv'), index_col = False)"
   ]
  },
  {
   "cell_type": "code",
   "execution_count": 6,
   "id": "30d5ee48-4aa2-4ce9-b1b0-69e9d08b1970",
   "metadata": {},
   "outputs": [],
   "source": [
    "df_departments = pd.read_csv(os.path.join(path, '02 - Data', 'Original Data', 'departments.csv'), index_col = False)"
   ]
  },
  {
   "cell_type": "code",
   "execution_count": 7,
   "id": "22cf5416-c883-4678-b4dd-7cb4fda6497c",
   "metadata": {},
   "outputs": [],
   "source": [
    "df_orders_products_prior = pd.read_csv(os.path.join(path, '02 - Data', 'Original Data', 'orders_products_prior.csv'), index_col = False)"
   ]
  },
  {
   "cell_type": "code",
   "execution_count": 8,
   "id": "bf0cb0ce-568d-4ad2-8f3b-88a13fcd2f46",
   "metadata": {},
   "outputs": [],
   "source": [
    "df_orders = pd.read_csv(os.path.join(path, '02 - Data', 'Original Data', 'orders.csv'), index_col = False)"
   ]
  },
  {
   "cell_type": "code",
   "execution_count": 9,
   "id": "b4569c30-ff61-4d51-9286-8bbe450218a9",
   "metadata": {},
   "outputs": [],
   "source": [
    "df_products = pd.read_csv(os.path.join(path, '02 - Data', 'Original Data', 'products.csv'), index_col = False)"
   ]
  },
  {
   "cell_type": "markdown",
   "id": "e82c086e-657f-49e7-87cc-e40b96f7167c",
   "metadata": {},
   "source": [
    "# Dimensions after import"
   ]
  },
  {
   "cell_type": "code",
   "execution_count": 11,
   "id": "91f36bf8-4561-41f9-bd6d-0c9f0d09c34b",
   "metadata": {},
   "outputs": [
    {
     "data": {
      "text/plain": [
       "(206209, 10)"
      ]
     },
     "execution_count": 11,
     "metadata": {},
     "output_type": "execute_result"
    }
   ],
   "source": [
    "df_customers.shape"
   ]
  },
  {
   "cell_type": "code",
   "execution_count": 12,
   "id": "e37de5fd-f772-46b3-84ac-f3fcee353e70",
   "metadata": {},
   "outputs": [
    {
     "data": {
      "text/plain": [
       "(1, 22)"
      ]
     },
     "execution_count": 12,
     "metadata": {},
     "output_type": "execute_result"
    }
   ],
   "source": [
    "df_departments.shape"
   ]
  },
  {
   "cell_type": "code",
   "execution_count": 13,
   "id": "270fd7bd-0a6e-4e35-88ef-eb8807b58bad",
   "metadata": {},
   "outputs": [
    {
     "data": {
      "text/plain": [
       "(32434489, 4)"
      ]
     },
     "execution_count": 13,
     "metadata": {},
     "output_type": "execute_result"
    }
   ],
   "source": [
    "df_orders_products_prior.shape"
   ]
  },
  {
   "cell_type": "code",
   "execution_count": 14,
   "id": "51b46bd4-e484-4e31-88cd-efb203dc997a",
   "metadata": {},
   "outputs": [
    {
     "data": {
      "text/plain": [
       "(3421083, 7)"
      ]
     },
     "execution_count": 14,
     "metadata": {},
     "output_type": "execute_result"
    }
   ],
   "source": [
    "df_orders.shape"
   ]
  },
  {
   "cell_type": "code",
   "execution_count": 15,
   "id": "5d1338c5-3da3-4e3e-b827-a20053a22816",
   "metadata": {},
   "outputs": [
    {
     "data": {
      "text/plain": [
       "(49693, 5)"
      ]
     },
     "execution_count": 15,
     "metadata": {},
     "output_type": "execute_result"
    }
   ],
   "source": [
    "df_products.shape"
   ]
  },
  {
   "cell_type": "markdown",
   "id": "f74a63a4-41c8-4eb4-acca-37758eb4b2ea",
   "metadata": {},
   "source": [
    "# Wrangling"
   ]
  },
  {
   "cell_type": "markdown",
   "id": "137e99e6-9f4e-4234-aa30-16169ccbf722",
   "metadata": {},
   "source": [
    "## Customers"
   ]
  },
  {
   "cell_type": "code",
   "execution_count": 18,
   "id": "bd2c2da5-5b0b-4059-bc1a-2f2dd2bbc6db",
   "metadata": {},
   "outputs": [],
   "source": [
    "df_customers_wrangled = df_customers.copy()"
   ]
  },
  {
   "cell_type": "code",
   "execution_count": 19,
   "id": "0d60fdd0-2fe3-4bb9-ae62-e45596ac2597",
   "metadata": {},
   "outputs": [
    {
     "data": {
      "text/html": [
       "<div>\n",
       "<style scoped>\n",
       "    .dataframe tbody tr th:only-of-type {\n",
       "        vertical-align: middle;\n",
       "    }\n",
       "\n",
       "    .dataframe tbody tr th {\n",
       "        vertical-align: top;\n",
       "    }\n",
       "\n",
       "    .dataframe thead th {\n",
       "        text-align: right;\n",
       "    }\n",
       "</style>\n",
       "<table border=\"1\" class=\"dataframe\">\n",
       "  <thead>\n",
       "    <tr style=\"text-align: right;\">\n",
       "      <th></th>\n",
       "      <th>user_id</th>\n",
       "      <th>First Name</th>\n",
       "      <th>Surnam</th>\n",
       "      <th>Gender</th>\n",
       "      <th>STATE</th>\n",
       "      <th>Age</th>\n",
       "      <th>date_joined</th>\n",
       "      <th>n_dependants</th>\n",
       "      <th>fam_status</th>\n",
       "      <th>income</th>\n",
       "    </tr>\n",
       "  </thead>\n",
       "  <tbody>\n",
       "    <tr>\n",
       "      <th>0</th>\n",
       "      <td>26711</td>\n",
       "      <td>Deborah</td>\n",
       "      <td>Esquivel</td>\n",
       "      <td>Female</td>\n",
       "      <td>Missouri</td>\n",
       "      <td>48</td>\n",
       "      <td>1/1/2017</td>\n",
       "      <td>3</td>\n",
       "      <td>married</td>\n",
       "      <td>165665</td>\n",
       "    </tr>\n",
       "    <tr>\n",
       "      <th>1</th>\n",
       "      <td>33890</td>\n",
       "      <td>Patricia</td>\n",
       "      <td>Hart</td>\n",
       "      <td>Female</td>\n",
       "      <td>New Mexico</td>\n",
       "      <td>36</td>\n",
       "      <td>1/1/2017</td>\n",
       "      <td>0</td>\n",
       "      <td>single</td>\n",
       "      <td>59285</td>\n",
       "    </tr>\n",
       "    <tr>\n",
       "      <th>2</th>\n",
       "      <td>65803</td>\n",
       "      <td>Kenneth</td>\n",
       "      <td>Farley</td>\n",
       "      <td>Male</td>\n",
       "      <td>Idaho</td>\n",
       "      <td>35</td>\n",
       "      <td>1/1/2017</td>\n",
       "      <td>2</td>\n",
       "      <td>married</td>\n",
       "      <td>99568</td>\n",
       "    </tr>\n",
       "    <tr>\n",
       "      <th>3</th>\n",
       "      <td>125935</td>\n",
       "      <td>Michelle</td>\n",
       "      <td>Hicks</td>\n",
       "      <td>Female</td>\n",
       "      <td>Iowa</td>\n",
       "      <td>40</td>\n",
       "      <td>1/1/2017</td>\n",
       "      <td>0</td>\n",
       "      <td>single</td>\n",
       "      <td>42049</td>\n",
       "    </tr>\n",
       "    <tr>\n",
       "      <th>4</th>\n",
       "      <td>130797</td>\n",
       "      <td>Ann</td>\n",
       "      <td>Gilmore</td>\n",
       "      <td>Female</td>\n",
       "      <td>Maryland</td>\n",
       "      <td>26</td>\n",
       "      <td>1/1/2017</td>\n",
       "      <td>1</td>\n",
       "      <td>married</td>\n",
       "      <td>40374</td>\n",
       "    </tr>\n",
       "  </tbody>\n",
       "</table>\n",
       "</div>"
      ],
      "text/plain": [
       "   user_id First Name    Surnam  Gender       STATE  Age date_joined  \\\n",
       "0    26711    Deborah  Esquivel  Female    Missouri   48    1/1/2017   \n",
       "1    33890   Patricia      Hart  Female  New Mexico   36    1/1/2017   \n",
       "2    65803    Kenneth    Farley    Male       Idaho   35    1/1/2017   \n",
       "3   125935   Michelle     Hicks  Female        Iowa   40    1/1/2017   \n",
       "4   130797        Ann   Gilmore  Female    Maryland   26    1/1/2017   \n",
       "\n",
       "   n_dependants fam_status  income  \n",
       "0             3    married  165665  \n",
       "1             0     single   59285  \n",
       "2             2    married   99568  \n",
       "3             0     single   42049  \n",
       "4             1    married   40374  "
      ]
     },
     "execution_count": 19,
     "metadata": {},
     "output_type": "execute_result"
    }
   ],
   "source": [
    "df_customers_wrangled.head()"
   ]
  },
  {
   "cell_type": "markdown",
   "id": "5a7cc864-aaec-4196-9c34-f46b8966264e",
   "metadata": {},
   "source": [
    "### Renaming columns"
   ]
  },
  {
   "cell_type": "code",
   "execution_count": 21,
   "id": "4e09330c-5f88-4d1f-ac74-7623555dc2ab",
   "metadata": {},
   "outputs": [],
   "source": [
    "df_customers_wrangled.rename(columns = {\n",
    "    'First Name': 'first_name', \n",
    "    'Surnam': 'surname',\n",
    "    'Gender': 'gender',\n",
    "    'STATE': 'state',\n",
    "    'Age': 'age',\n",
    "    'n_dependants': 'number_of_dependents',\n",
    "    'fam_status': 'family_status'\n",
    "}, inplace = True)"
   ]
  },
  {
   "cell_type": "code",
   "execution_count": 22,
   "id": "03c11a00-13fa-4cff-a69d-0647c4888228",
   "metadata": {},
   "outputs": [
    {
     "data": {
      "text/plain": [
       "Index(['user_id', 'first_name', 'surname', 'gender', 'state', 'age',\n",
       "       'date_joined', 'number_of_dependents', 'family_status', 'income'],\n",
       "      dtype='object')"
      ]
     },
     "execution_count": 22,
     "metadata": {},
     "output_type": "execute_result"
    }
   ],
   "source": [
    "df_customers_wrangled.columns"
   ]
  },
  {
   "cell_type": "markdown",
   "id": "d08fd501-78f9-4ad9-a0f3-e1a1634b2492",
   "metadata": {},
   "source": [
    "### Chaning data types"
   ]
  },
  {
   "cell_type": "code",
   "execution_count": 24,
   "id": "4ac06d7d-8a94-40a8-b6b0-2a5470a82e7e",
   "metadata": {},
   "outputs": [
    {
     "data": {
      "text/plain": [
       "user_id                  int64\n",
       "first_name              object\n",
       "surname                 object\n",
       "gender                  object\n",
       "state                   object\n",
       "age                      int64\n",
       "date_joined             object\n",
       "number_of_dependents     int64\n",
       "family_status           object\n",
       "income                   int64\n",
       "dtype: object"
      ]
     },
     "execution_count": 24,
     "metadata": {},
     "output_type": "execute_result"
    }
   ],
   "source": [
    "df_customers_wrangled.dtypes"
   ]
  },
  {
   "cell_type": "markdown",
   "id": "a63c5284-a3ea-4fc5-9fe7-ba7559d3e4ff",
   "metadata": {},
   "source": [
    "### Dropping columns"
   ]
  },
  {
   "cell_type": "code",
   "execution_count": 26,
   "id": "d18f44b2-d029-421c-b5fd-c0298ee3c0d5",
   "metadata": {},
   "outputs": [
    {
     "data": {
      "text/plain": [
       "user_id                     0\n",
       "first_name              11259\n",
       "surname                     0\n",
       "gender                      0\n",
       "state                       0\n",
       "age                         0\n",
       "date_joined                 0\n",
       "number_of_dependents        0\n",
       "family_status               0\n",
       "income                      0\n",
       "dtype: int64"
      ]
     },
     "execution_count": 26,
     "metadata": {},
     "output_type": "execute_result"
    }
   ],
   "source": [
    "df_customers_wrangled.isnull().sum()"
   ]
  },
  {
   "cell_type": "code",
   "execution_count": 27,
   "id": "fe441b1b-98bf-4b25-8a49-05238bd940d7",
   "metadata": {},
   "outputs": [
    {
     "data": {
      "text/plain": [
       "first_name\n",
       "Aaron        800\n",
       "Adam         811\n",
       "Alan         641\n",
       "Albert      1240\n",
       "Alice       1629\n",
       "           ...  \n",
       "Wanda        392\n",
       "Wayne        807\n",
       "William      605\n",
       "Willie      1031\n",
       "NaN        11259\n",
       "Name: count, Length: 208, dtype: int64"
      ]
     },
     "execution_count": 27,
     "metadata": {},
     "output_type": "execute_result"
    }
   ],
   "source": [
    "df_customers_wrangled['first_name'].value_counts(dropna = False).sort_index()"
   ]
  },
  {
   "cell_type": "code",
   "execution_count": 28,
   "id": "f3c98d8c-24a1-44ef-a2a3-08a5931ea33a",
   "metadata": {},
   "outputs": [
    {
     "data": {
      "text/plain": [
       "surname\n",
       "Abbott       189\n",
       "Acevedo      205\n",
       "Acosta       185\n",
       "Adams        204\n",
       "Adkins       225\n",
       "            ... \n",
       "Zamora       204\n",
       "Zavala       213\n",
       "Zhang        213\n",
       "Zimmerman    216\n",
       "Zuniga       219\n",
       "Name: count, Length: 1000, dtype: int64"
      ]
     },
     "execution_count": 28,
     "metadata": {},
     "output_type": "execute_result"
    }
   ],
   "source": [
    "df_customers_wrangled['surname'].value_counts(dropna = False).sort_index()"
   ]
  },
  {
   "cell_type": "code",
   "execution_count": 29,
   "id": "6505eb0b-3af9-4916-968a-0fad1cfd31b4",
   "metadata": {},
   "outputs": [
    {
     "data": {
      "text/plain": [
       "gender\n",
       "Female    102142\n",
       "Male      104067\n",
       "Name: count, dtype: int64"
      ]
     },
     "execution_count": 29,
     "metadata": {},
     "output_type": "execute_result"
    }
   ],
   "source": [
    "df_customers_wrangled['gender'].value_counts(dropna = False).sort_index()"
   ]
  },
  {
   "cell_type": "code",
   "execution_count": 30,
   "id": "0d1dc88d-2dc1-4db2-bbcb-cc789cefd62c",
   "metadata": {},
   "outputs": [
    {
     "data": {
      "text/plain": [
       "state\n",
       "Alabama                 4044\n",
       "Alaska                  4044\n",
       "Arizona                 4044\n",
       "Arkansas                4044\n",
       "California              4044\n",
       "Colorado                4044\n",
       "Connecticut             4044\n",
       "Delaware                4044\n",
       "District of Columbia    4044\n",
       "Florida                 4044\n",
       "Georgia                 4044\n",
       "Hawaii                  4044\n",
       "Idaho                   4044\n",
       "Illinois                4044\n",
       "Indiana                 4044\n",
       "Iowa                    4044\n",
       "Kansas                  4043\n",
       "Kentucky                4043\n",
       "Louisiana               4043\n",
       "Maine                   4043\n",
       "Maryland                4043\n",
       "Massachusetts           4043\n",
       "Michigan                4043\n",
       "Minnesota               4043\n",
       "Mississippi             4043\n",
       "Missouri                4043\n",
       "Montana                 4043\n",
       "Nebraska                4043\n",
       "Nevada                  4043\n",
       "New Hampshire           4043\n",
       "New Jersey              4043\n",
       "New Mexico              4043\n",
       "New York                4043\n",
       "North Carolina          4043\n",
       "North Dakota            4043\n",
       "Ohio                    4043\n",
       "Oklahoma                4043\n",
       "Oregon                  4043\n",
       "Pennsylvania            4043\n",
       "Rhode Island            4043\n",
       "South Carolina          4043\n",
       "South Dakota            4043\n",
       "Tennessee               4043\n",
       "Texas                   4043\n",
       "Utah                    4043\n",
       "Vermont                 4043\n",
       "Virginia                4043\n",
       "Washington              4043\n",
       "West Virginia           4043\n",
       "Wisconsin               4043\n",
       "Wyoming                 4043\n",
       "Name: count, dtype: int64"
      ]
     },
     "execution_count": 30,
     "metadata": {},
     "output_type": "execute_result"
    }
   ],
   "source": [
    "df_customers_wrangled['state'].value_counts(dropna = False).sort_index()"
   ]
  },
  {
   "cell_type": "code",
   "execution_count": 31,
   "id": "b51d2549-7646-427a-a2e9-8a1111799d3d",
   "metadata": {},
   "outputs": [
    {
     "data": {
      "text/plain": [
       "age\n",
       "18    3195\n",
       "19    3329\n",
       "20    3240\n",
       "21    3176\n",
       "22    3236\n",
       "      ... \n",
       "77    3261\n",
       "78    3247\n",
       "79    3234\n",
       "80    3195\n",
       "81    3263\n",
       "Name: count, Length: 64, dtype: int64"
      ]
     },
     "execution_count": 31,
     "metadata": {},
     "output_type": "execute_result"
    }
   ],
   "source": [
    "df_customers_wrangled['age'].value_counts(dropna = False).sort_index()"
   ]
  },
  {
   "cell_type": "code",
   "execution_count": 32,
   "id": "9937b8e2-b195-470b-9524-a1d24d590319",
   "metadata": {},
   "outputs": [
    {
     "data": {
      "text/plain": [
       "date_joined\n",
       "1/1/2017     159\n",
       "1/1/2018     147\n",
       "1/1/2019     153\n",
       "1/1/2020     153\n",
       "1/10/2017    192\n",
       "            ... \n",
       "9/8/2018     164\n",
       "9/8/2019     158\n",
       "9/9/2017     186\n",
       "9/9/2018     174\n",
       "9/9/2019     181\n",
       "Name: count, Length: 1187, dtype: int64"
      ]
     },
     "execution_count": 32,
     "metadata": {},
     "output_type": "execute_result"
    }
   ],
   "source": [
    "df_customers_wrangled['date_joined'].value_counts(dropna = False).sort_index()"
   ]
  },
  {
   "cell_type": "code",
   "execution_count": 33,
   "id": "d75bf293-36d3-4105-b43d-17106bb84d80",
   "metadata": {},
   "outputs": [
    {
     "data": {
      "text/plain": [
       "number_of_dependents\n",
       "0    51602\n",
       "1    51531\n",
       "2    51482\n",
       "3    51594\n",
       "Name: count, dtype: int64"
      ]
     },
     "execution_count": 33,
     "metadata": {},
     "output_type": "execute_result"
    }
   ],
   "source": [
    "df_customers_wrangled['number_of_dependents'].value_counts(dropna = False).sort_index()"
   ]
  },
  {
   "cell_type": "code",
   "execution_count": 34,
   "id": "4b88c0cf-57ff-4c40-8007-da5e92c8c0c8",
   "metadata": {},
   "outputs": [
    {
     "data": {
      "text/plain": [
       "family_status\n",
       "divorced/widowed                     17640\n",
       "living with parents and siblings      9701\n",
       "married                             144906\n",
       "single                               33962\n",
       "Name: count, dtype: int64"
      ]
     },
     "execution_count": 34,
     "metadata": {},
     "output_type": "execute_result"
    }
   ],
   "source": [
    "df_customers_wrangled['family_status'].value_counts(dropna = False).sort_index()"
   ]
  },
  {
   "cell_type": "code",
   "execution_count": 35,
   "id": "2399016d-62b2-461b-9606-a5ee35937b5f",
   "metadata": {},
   "outputs": [
    {
     "data": {
      "text/plain": [
       "income\n",
       "25903     1\n",
       "25911     1\n",
       "25937     1\n",
       "25941     1\n",
       "25955     1\n",
       "         ..\n",
       "584097    1\n",
       "590790    1\n",
       "591089    1\n",
       "592409    1\n",
       "593901    1\n",
       "Name: count, Length: 108012, dtype: int64"
      ]
     },
     "execution_count": 35,
     "metadata": {},
     "output_type": "execute_result"
    }
   ],
   "source": [
    "df_customers_wrangled['income'].value_counts(dropna = False).sort_index()"
   ]
  },
  {
   "cell_type": "markdown",
   "id": "a35ef373-f533-4bf1-8acd-7df9bdd1e1a8",
   "metadata": {},
   "source": [
    "## Departments"
   ]
  },
  {
   "cell_type": "code",
   "execution_count": 37,
   "id": "d5eb22c9-1aa8-498a-9471-ca6696bded07",
   "metadata": {},
   "outputs": [],
   "source": [
    "df_departments_wrangled = df_departments.copy()"
   ]
  },
  {
   "cell_type": "code",
   "execution_count": 38,
   "id": "f1f0ac79-3269-4518-aee9-58211ecd8d88",
   "metadata": {},
   "outputs": [
    {
     "data": {
      "text/html": [
       "<div>\n",
       "<style scoped>\n",
       "    .dataframe tbody tr th:only-of-type {\n",
       "        vertical-align: middle;\n",
       "    }\n",
       "\n",
       "    .dataframe tbody tr th {\n",
       "        vertical-align: top;\n",
       "    }\n",
       "\n",
       "    .dataframe thead th {\n",
       "        text-align: right;\n",
       "    }\n",
       "</style>\n",
       "<table border=\"1\" class=\"dataframe\">\n",
       "  <thead>\n",
       "    <tr style=\"text-align: right;\">\n",
       "      <th></th>\n",
       "      <th>department_id</th>\n",
       "      <th>1</th>\n",
       "      <th>2</th>\n",
       "      <th>3</th>\n",
       "      <th>4</th>\n",
       "      <th>5</th>\n",
       "      <th>6</th>\n",
       "      <th>7</th>\n",
       "      <th>8</th>\n",
       "      <th>9</th>\n",
       "      <th>...</th>\n",
       "      <th>12</th>\n",
       "      <th>13</th>\n",
       "      <th>14</th>\n",
       "      <th>15</th>\n",
       "      <th>16</th>\n",
       "      <th>17</th>\n",
       "      <th>18</th>\n",
       "      <th>19</th>\n",
       "      <th>20</th>\n",
       "      <th>21</th>\n",
       "    </tr>\n",
       "  </thead>\n",
       "  <tbody>\n",
       "    <tr>\n",
       "      <th>0</th>\n",
       "      <td>department</td>\n",
       "      <td>frozen</td>\n",
       "      <td>other</td>\n",
       "      <td>bakery</td>\n",
       "      <td>produce</td>\n",
       "      <td>alcohol</td>\n",
       "      <td>international</td>\n",
       "      <td>beverages</td>\n",
       "      <td>pets</td>\n",
       "      <td>dry goods pasta</td>\n",
       "      <td>...</td>\n",
       "      <td>meat seafood</td>\n",
       "      <td>pantry</td>\n",
       "      <td>breakfast</td>\n",
       "      <td>canned goods</td>\n",
       "      <td>dairy eggs</td>\n",
       "      <td>household</td>\n",
       "      <td>babies</td>\n",
       "      <td>snacks</td>\n",
       "      <td>deli</td>\n",
       "      <td>missing</td>\n",
       "    </tr>\n",
       "  </tbody>\n",
       "</table>\n",
       "<p>1 rows × 22 columns</p>\n",
       "</div>"
      ],
      "text/plain": [
       "  department_id       1      2       3        4        5              6  \\\n",
       "0    department  frozen  other  bakery  produce  alcohol  international   \n",
       "\n",
       "           7     8                9  ...            12      13         14  \\\n",
       "0  beverages  pets  dry goods pasta  ...  meat seafood  pantry  breakfast   \n",
       "\n",
       "             15          16         17      18      19    20       21  \n",
       "0  canned goods  dairy eggs  household  babies  snacks  deli  missing  \n",
       "\n",
       "[1 rows x 22 columns]"
      ]
     },
     "execution_count": 38,
     "metadata": {},
     "output_type": "execute_result"
    }
   ],
   "source": [
    "df_departments_wrangled.head()"
   ]
  },
  {
   "cell_type": "markdown",
   "id": "5f495a74-a65b-467c-b501-a511d2dfd9ef",
   "metadata": {},
   "source": [
    "### Transposing data"
   ]
  },
  {
   "cell_type": "code",
   "execution_count": 40,
   "id": "201db1be-4f89-4194-b7c2-f65de3ff287b",
   "metadata": {},
   "outputs": [],
   "source": [
    "df_departments_wrangled = df_departments_wrangled.T"
   ]
  },
  {
   "cell_type": "code",
   "execution_count": 41,
   "id": "bf1b8abf-fa35-4c03-8c76-b759945189d3",
   "metadata": {},
   "outputs": [
    {
     "data": {
      "text/html": [
       "<div>\n",
       "<style scoped>\n",
       "    .dataframe tbody tr th:only-of-type {\n",
       "        vertical-align: middle;\n",
       "    }\n",
       "\n",
       "    .dataframe tbody tr th {\n",
       "        vertical-align: top;\n",
       "    }\n",
       "\n",
       "    .dataframe thead th {\n",
       "        text-align: right;\n",
       "    }\n",
       "</style>\n",
       "<table border=\"1\" class=\"dataframe\">\n",
       "  <thead>\n",
       "    <tr style=\"text-align: right;\">\n",
       "      <th></th>\n",
       "      <th>index</th>\n",
       "      <th>0</th>\n",
       "    </tr>\n",
       "  </thead>\n",
       "  <tbody>\n",
       "    <tr>\n",
       "      <th>0</th>\n",
       "      <td>department_id</td>\n",
       "      <td>department</td>\n",
       "    </tr>\n",
       "    <tr>\n",
       "      <th>1</th>\n",
       "      <td>1</td>\n",
       "      <td>frozen</td>\n",
       "    </tr>\n",
       "    <tr>\n",
       "      <th>2</th>\n",
       "      <td>2</td>\n",
       "      <td>other</td>\n",
       "    </tr>\n",
       "    <tr>\n",
       "      <th>3</th>\n",
       "      <td>3</td>\n",
       "      <td>bakery</td>\n",
       "    </tr>\n",
       "    <tr>\n",
       "      <th>4</th>\n",
       "      <td>4</td>\n",
       "      <td>produce</td>\n",
       "    </tr>\n",
       "    <tr>\n",
       "      <th>5</th>\n",
       "      <td>5</td>\n",
       "      <td>alcohol</td>\n",
       "    </tr>\n",
       "    <tr>\n",
       "      <th>6</th>\n",
       "      <td>6</td>\n",
       "      <td>international</td>\n",
       "    </tr>\n",
       "    <tr>\n",
       "      <th>7</th>\n",
       "      <td>7</td>\n",
       "      <td>beverages</td>\n",
       "    </tr>\n",
       "    <tr>\n",
       "      <th>8</th>\n",
       "      <td>8</td>\n",
       "      <td>pets</td>\n",
       "    </tr>\n",
       "    <tr>\n",
       "      <th>9</th>\n",
       "      <td>9</td>\n",
       "      <td>dry goods pasta</td>\n",
       "    </tr>\n",
       "    <tr>\n",
       "      <th>10</th>\n",
       "      <td>10</td>\n",
       "      <td>bulk</td>\n",
       "    </tr>\n",
       "    <tr>\n",
       "      <th>11</th>\n",
       "      <td>11</td>\n",
       "      <td>personal care</td>\n",
       "    </tr>\n",
       "    <tr>\n",
       "      <th>12</th>\n",
       "      <td>12</td>\n",
       "      <td>meat seafood</td>\n",
       "    </tr>\n",
       "    <tr>\n",
       "      <th>13</th>\n",
       "      <td>13</td>\n",
       "      <td>pantry</td>\n",
       "    </tr>\n",
       "    <tr>\n",
       "      <th>14</th>\n",
       "      <td>14</td>\n",
       "      <td>breakfast</td>\n",
       "    </tr>\n",
       "    <tr>\n",
       "      <th>15</th>\n",
       "      <td>15</td>\n",
       "      <td>canned goods</td>\n",
       "    </tr>\n",
       "    <tr>\n",
       "      <th>16</th>\n",
       "      <td>16</td>\n",
       "      <td>dairy eggs</td>\n",
       "    </tr>\n",
       "    <tr>\n",
       "      <th>17</th>\n",
       "      <td>17</td>\n",
       "      <td>household</td>\n",
       "    </tr>\n",
       "    <tr>\n",
       "      <th>18</th>\n",
       "      <td>18</td>\n",
       "      <td>babies</td>\n",
       "    </tr>\n",
       "    <tr>\n",
       "      <th>19</th>\n",
       "      <td>19</td>\n",
       "      <td>snacks</td>\n",
       "    </tr>\n",
       "    <tr>\n",
       "      <th>20</th>\n",
       "      <td>20</td>\n",
       "      <td>deli</td>\n",
       "    </tr>\n",
       "    <tr>\n",
       "      <th>21</th>\n",
       "      <td>21</td>\n",
       "      <td>missing</td>\n",
       "    </tr>\n",
       "  </tbody>\n",
       "</table>\n",
       "</div>"
      ],
      "text/plain": [
       "            index                0\n",
       "0   department_id       department\n",
       "1               1           frozen\n",
       "2               2            other\n",
       "3               3           bakery\n",
       "4               4          produce\n",
       "5               5          alcohol\n",
       "6               6    international\n",
       "7               7        beverages\n",
       "8               8             pets\n",
       "9               9  dry goods pasta\n",
       "10             10             bulk\n",
       "11             11    personal care\n",
       "12             12     meat seafood\n",
       "13             13           pantry\n",
       "14             14        breakfast\n",
       "15             15     canned goods\n",
       "16             16       dairy eggs\n",
       "17             17        household\n",
       "18             18           babies\n",
       "19             19           snacks\n",
       "20             20             deli\n",
       "21             21          missing"
      ]
     },
     "execution_count": 41,
     "metadata": {},
     "output_type": "execute_result"
    }
   ],
   "source": [
    "df_departments_wrangled.reset_index()"
   ]
  },
  {
   "cell_type": "code",
   "execution_count": 42,
   "id": "0740999d-859a-4965-abe6-a8289e76ac84",
   "metadata": {},
   "outputs": [],
   "source": [
    "new_header = df_departments_wrangled.iloc[0]"
   ]
  },
  {
   "cell_type": "code",
   "execution_count": 43,
   "id": "23c0898c-794d-442d-97ee-3ebae989b9cf",
   "metadata": {},
   "outputs": [],
   "source": [
    "df_departments_wrangled = df_departments_wrangled[1:]"
   ]
  },
  {
   "cell_type": "code",
   "execution_count": 44,
   "id": "bffde5c3-8782-4a81-ac07-7b1aae7722a4",
   "metadata": {},
   "outputs": [],
   "source": [
    "df_departments_wrangled.columns = new_header"
   ]
  },
  {
   "cell_type": "code",
   "execution_count": 45,
   "id": "67a7f44f-b058-40de-b6f8-c762bc31461c",
   "metadata": {},
   "outputs": [
    {
     "data": {
      "text/html": [
       "<div>\n",
       "<style scoped>\n",
       "    .dataframe tbody tr th:only-of-type {\n",
       "        vertical-align: middle;\n",
       "    }\n",
       "\n",
       "    .dataframe tbody tr th {\n",
       "        vertical-align: top;\n",
       "    }\n",
       "\n",
       "    .dataframe thead th {\n",
       "        text-align: right;\n",
       "    }\n",
       "</style>\n",
       "<table border=\"1\" class=\"dataframe\">\n",
       "  <thead>\n",
       "    <tr style=\"text-align: right;\">\n",
       "      <th>department_id</th>\n",
       "      <th>department</th>\n",
       "    </tr>\n",
       "  </thead>\n",
       "  <tbody>\n",
       "    <tr>\n",
       "      <th>1</th>\n",
       "      <td>frozen</td>\n",
       "    </tr>\n",
       "    <tr>\n",
       "      <th>2</th>\n",
       "      <td>other</td>\n",
       "    </tr>\n",
       "    <tr>\n",
       "      <th>3</th>\n",
       "      <td>bakery</td>\n",
       "    </tr>\n",
       "    <tr>\n",
       "      <th>4</th>\n",
       "      <td>produce</td>\n",
       "    </tr>\n",
       "    <tr>\n",
       "      <th>5</th>\n",
       "      <td>alcohol</td>\n",
       "    </tr>\n",
       "    <tr>\n",
       "      <th>6</th>\n",
       "      <td>international</td>\n",
       "    </tr>\n",
       "    <tr>\n",
       "      <th>7</th>\n",
       "      <td>beverages</td>\n",
       "    </tr>\n",
       "    <tr>\n",
       "      <th>8</th>\n",
       "      <td>pets</td>\n",
       "    </tr>\n",
       "    <tr>\n",
       "      <th>9</th>\n",
       "      <td>dry goods pasta</td>\n",
       "    </tr>\n",
       "    <tr>\n",
       "      <th>10</th>\n",
       "      <td>bulk</td>\n",
       "    </tr>\n",
       "    <tr>\n",
       "      <th>11</th>\n",
       "      <td>personal care</td>\n",
       "    </tr>\n",
       "    <tr>\n",
       "      <th>12</th>\n",
       "      <td>meat seafood</td>\n",
       "    </tr>\n",
       "    <tr>\n",
       "      <th>13</th>\n",
       "      <td>pantry</td>\n",
       "    </tr>\n",
       "    <tr>\n",
       "      <th>14</th>\n",
       "      <td>breakfast</td>\n",
       "    </tr>\n",
       "    <tr>\n",
       "      <th>15</th>\n",
       "      <td>canned goods</td>\n",
       "    </tr>\n",
       "    <tr>\n",
       "      <th>16</th>\n",
       "      <td>dairy eggs</td>\n",
       "    </tr>\n",
       "    <tr>\n",
       "      <th>17</th>\n",
       "      <td>household</td>\n",
       "    </tr>\n",
       "    <tr>\n",
       "      <th>18</th>\n",
       "      <td>babies</td>\n",
       "    </tr>\n",
       "    <tr>\n",
       "      <th>19</th>\n",
       "      <td>snacks</td>\n",
       "    </tr>\n",
       "    <tr>\n",
       "      <th>20</th>\n",
       "      <td>deli</td>\n",
       "    </tr>\n",
       "    <tr>\n",
       "      <th>21</th>\n",
       "      <td>missing</td>\n",
       "    </tr>\n",
       "  </tbody>\n",
       "</table>\n",
       "</div>"
      ],
      "text/plain": [
       "department_id       department\n",
       "1                       frozen\n",
       "2                        other\n",
       "3                       bakery\n",
       "4                      produce\n",
       "5                      alcohol\n",
       "6                international\n",
       "7                    beverages\n",
       "8                         pets\n",
       "9              dry goods pasta\n",
       "10                        bulk\n",
       "11               personal care\n",
       "12                meat seafood\n",
       "13                      pantry\n",
       "14                   breakfast\n",
       "15                canned goods\n",
       "16                  dairy eggs\n",
       "17                   household\n",
       "18                      babies\n",
       "19                      snacks\n",
       "20                        deli\n",
       "21                     missing"
      ]
     },
     "execution_count": 45,
     "metadata": {},
     "output_type": "execute_result"
    }
   ],
   "source": [
    "df_departments_wrangled"
   ]
  },
  {
   "cell_type": "markdown",
   "id": "c78d75de-a787-4ca8-8881-c1f7b6a3abc2",
   "metadata": {},
   "source": [
    "### Renaming columns"
   ]
  },
  {
   "cell_type": "code",
   "execution_count": 47,
   "id": "c19a463d-e605-46a7-9a58-a502b59d3e06",
   "metadata": {},
   "outputs": [
    {
     "data": {
      "text/plain": [
       "Index(['department'], dtype='object', name='department_id')"
      ]
     },
     "execution_count": 47,
     "metadata": {},
     "output_type": "execute_result"
    }
   ],
   "source": [
    "df_departments_wrangled.columns"
   ]
  },
  {
   "cell_type": "markdown",
   "id": "bf07397a-5c5c-4636-8dfc-e8557b126e83",
   "metadata": {},
   "source": [
    "### Chaning data types"
   ]
  },
  {
   "cell_type": "code",
   "execution_count": 49,
   "id": "96eded3a-8972-4f33-a067-80044339ab1b",
   "metadata": {},
   "outputs": [
    {
     "data": {
      "text/plain": [
       "department_id\n",
       "department    object\n",
       "dtype: object"
      ]
     },
     "execution_count": 49,
     "metadata": {},
     "output_type": "execute_result"
    }
   ],
   "source": [
    "df_departments_wrangled.dtypes"
   ]
  },
  {
   "cell_type": "markdown",
   "id": "7ea5907b-91af-4d9b-a59f-7be9dada861f",
   "metadata": {},
   "source": [
    "### Data dictionary"
   ]
  },
  {
   "cell_type": "code",
   "execution_count": 51,
   "id": "25d061d3-f9a8-4e46-80eb-16b1cb677ad7",
   "metadata": {},
   "outputs": [],
   "source": [
    "data_dictionary = df_departments_wrangled.to_dict('index')"
   ]
  },
  {
   "cell_type": "code",
   "execution_count": 52,
   "id": "a00bea24-4105-46bc-9b53-5ce9d5ad629c",
   "metadata": {},
   "outputs": [
    {
     "data": {
      "text/plain": [
       "{'1': {'department': 'frozen'},\n",
       " '2': {'department': 'other'},\n",
       " '3': {'department': 'bakery'},\n",
       " '4': {'department': 'produce'},\n",
       " '5': {'department': 'alcohol'},\n",
       " '6': {'department': 'international'},\n",
       " '7': {'department': 'beverages'},\n",
       " '8': {'department': 'pets'},\n",
       " '9': {'department': 'dry goods pasta'},\n",
       " '10': {'department': 'bulk'},\n",
       " '11': {'department': 'personal care'},\n",
       " '12': {'department': 'meat seafood'},\n",
       " '13': {'department': 'pantry'},\n",
       " '14': {'department': 'breakfast'},\n",
       " '15': {'department': 'canned goods'},\n",
       " '16': {'department': 'dairy eggs'},\n",
       " '17': {'department': 'household'},\n",
       " '18': {'department': 'babies'},\n",
       " '19': {'department': 'snacks'},\n",
       " '20': {'department': 'deli'},\n",
       " '21': {'department': 'missing'}}"
      ]
     },
     "execution_count": 52,
     "metadata": {},
     "output_type": "execute_result"
    }
   ],
   "source": [
    "data_dictionary"
   ]
  },
  {
   "cell_type": "markdown",
   "id": "d3b925b4-0e68-4e80-9ad9-9b9dbfd5d67c",
   "metadata": {},
   "source": [
    "## Orders_products_prior"
   ]
  },
  {
   "cell_type": "code",
   "execution_count": 54,
   "id": "ebfc87ff-5547-4442-9a4c-60453eedaede",
   "metadata": {},
   "outputs": [],
   "source": [
    "df_orders_products_prior_wrangled = df_orders_products_prior.copy()"
   ]
  },
  {
   "cell_type": "code",
   "execution_count": 55,
   "id": "eb872b9b-ce73-484b-b893-a59107cabebb",
   "metadata": {},
   "outputs": [
    {
     "data": {
      "text/html": [
       "<div>\n",
       "<style scoped>\n",
       "    .dataframe tbody tr th:only-of-type {\n",
       "        vertical-align: middle;\n",
       "    }\n",
       "\n",
       "    .dataframe tbody tr th {\n",
       "        vertical-align: top;\n",
       "    }\n",
       "\n",
       "    .dataframe thead th {\n",
       "        text-align: right;\n",
       "    }\n",
       "</style>\n",
       "<table border=\"1\" class=\"dataframe\">\n",
       "  <thead>\n",
       "    <tr style=\"text-align: right;\">\n",
       "      <th></th>\n",
       "      <th>order_id</th>\n",
       "      <th>product_id</th>\n",
       "      <th>add_to_cart_order</th>\n",
       "      <th>reordered</th>\n",
       "    </tr>\n",
       "  </thead>\n",
       "  <tbody>\n",
       "    <tr>\n",
       "      <th>0</th>\n",
       "      <td>2</td>\n",
       "      <td>33120</td>\n",
       "      <td>1</td>\n",
       "      <td>1</td>\n",
       "    </tr>\n",
       "    <tr>\n",
       "      <th>1</th>\n",
       "      <td>2</td>\n",
       "      <td>28985</td>\n",
       "      <td>2</td>\n",
       "      <td>1</td>\n",
       "    </tr>\n",
       "    <tr>\n",
       "      <th>2</th>\n",
       "      <td>2</td>\n",
       "      <td>9327</td>\n",
       "      <td>3</td>\n",
       "      <td>0</td>\n",
       "    </tr>\n",
       "    <tr>\n",
       "      <th>3</th>\n",
       "      <td>2</td>\n",
       "      <td>45918</td>\n",
       "      <td>4</td>\n",
       "      <td>1</td>\n",
       "    </tr>\n",
       "    <tr>\n",
       "      <th>4</th>\n",
       "      <td>2</td>\n",
       "      <td>30035</td>\n",
       "      <td>5</td>\n",
       "      <td>0</td>\n",
       "    </tr>\n",
       "  </tbody>\n",
       "</table>\n",
       "</div>"
      ],
      "text/plain": [
       "   order_id  product_id  add_to_cart_order  reordered\n",
       "0         2       33120                  1          1\n",
       "1         2       28985                  2          1\n",
       "2         2        9327                  3          0\n",
       "3         2       45918                  4          1\n",
       "4         2       30035                  5          0"
      ]
     },
     "execution_count": 55,
     "metadata": {},
     "output_type": "execute_result"
    }
   ],
   "source": [
    "df_orders_products_prior_wrangled.head()"
   ]
  },
  {
   "cell_type": "markdown",
   "id": "c4049422-1e00-4f4c-a113-ac67650678d7",
   "metadata": {},
   "source": [
    "### Renaming columns"
   ]
  },
  {
   "cell_type": "code",
   "execution_count": 57,
   "id": "f3f401a9-be60-4aa9-8a0e-22c04a4d3fed",
   "metadata": {},
   "outputs": [
    {
     "data": {
      "text/plain": [
       "Index(['order_id', 'product_id', 'add_to_cart_order', 'reordered'], dtype='object')"
      ]
     },
     "execution_count": 57,
     "metadata": {},
     "output_type": "execute_result"
    }
   ],
   "source": [
    "df_orders_products_prior_wrangled.columns"
   ]
  },
  {
   "cell_type": "markdown",
   "id": "bd856a78-d2e1-48ee-a27e-20fde05f33c6",
   "metadata": {},
   "source": [
    "### Changing data types"
   ]
  },
  {
   "cell_type": "code",
   "execution_count": 59,
   "id": "0586fd7d-33b1-4df1-966a-0df009248f14",
   "metadata": {},
   "outputs": [
    {
     "data": {
      "text/plain": [
       "order_id             int64\n",
       "product_id           int64\n",
       "add_to_cart_order    int64\n",
       "reordered            int64\n",
       "dtype: object"
      ]
     },
     "execution_count": 59,
     "metadata": {},
     "output_type": "execute_result"
    }
   ],
   "source": [
    "df_orders_products_prior_wrangled.dtypes"
   ]
  },
  {
   "cell_type": "markdown",
   "id": "6725c939-5f54-4c32-8dba-ab3a09ca5353",
   "metadata": {},
   "source": [
    "### Dropping columns"
   ]
  },
  {
   "cell_type": "code",
   "execution_count": 61,
   "id": "e368605a-7145-4761-8d48-bd96571a7f25",
   "metadata": {},
   "outputs": [
    {
     "data": {
      "text/plain": [
       "order_id             0\n",
       "product_id           0\n",
       "add_to_cart_order    0\n",
       "reordered            0\n",
       "dtype: int64"
      ]
     },
     "execution_count": 61,
     "metadata": {},
     "output_type": "execute_result"
    }
   ],
   "source": [
    "df_orders_products_prior_wrangled.isnull().sum()"
   ]
  },
  {
   "cell_type": "code",
   "execution_count": 62,
   "id": "4f5fae2d-4319-4ccb-a6c6-47649215f102",
   "metadata": {},
   "outputs": [
    {
     "data": {
      "text/plain": [
       "add_to_cart_order\n",
       "1      3214874\n",
       "2      3058126\n",
       "3      2871133\n",
       "4      2664106\n",
       "5      2442025\n",
       "        ...   \n",
       "141          1\n",
       "142          1\n",
       "143          1\n",
       "144          1\n",
       "145          1\n",
       "Name: count, Length: 145, dtype: int64"
      ]
     },
     "execution_count": 62,
     "metadata": {},
     "output_type": "execute_result"
    }
   ],
   "source": [
    "df_orders_products_prior_wrangled['add_to_cart_order'].value_counts(dropna = False).sort_index()"
   ]
  },
  {
   "cell_type": "code",
   "execution_count": 63,
   "id": "f665f54e-04d1-48e3-a8f1-0169c1da8219",
   "metadata": {},
   "outputs": [
    {
     "data": {
      "text/plain": [
       "reordered\n",
       "0    13307953\n",
       "1    19126536\n",
       "Name: count, dtype: int64"
      ]
     },
     "execution_count": 63,
     "metadata": {},
     "output_type": "execute_result"
    }
   ],
   "source": [
    "df_orders_products_prior_wrangled['reordered'].value_counts(dropna = False).sort_index()"
   ]
  },
  {
   "cell_type": "markdown",
   "id": "43178a20-c1c9-4822-a95d-d83e2a296ffa",
   "metadata": {},
   "source": [
    "## Orders"
   ]
  },
  {
   "cell_type": "code",
   "execution_count": 65,
   "id": "e636a85c-e369-49ff-9316-57253440abcc",
   "metadata": {},
   "outputs": [],
   "source": [
    "df_orders_wrangled = df_orders.copy()"
   ]
  },
  {
   "cell_type": "code",
   "execution_count": 66,
   "id": "8ae0dfbe-70f3-4b7c-a121-f12cec3c037c",
   "metadata": {},
   "outputs": [
    {
     "data": {
      "text/html": [
       "<div>\n",
       "<style scoped>\n",
       "    .dataframe tbody tr th:only-of-type {\n",
       "        vertical-align: middle;\n",
       "    }\n",
       "\n",
       "    .dataframe tbody tr th {\n",
       "        vertical-align: top;\n",
       "    }\n",
       "\n",
       "    .dataframe thead th {\n",
       "        text-align: right;\n",
       "    }\n",
       "</style>\n",
       "<table border=\"1\" class=\"dataframe\">\n",
       "  <thead>\n",
       "    <tr style=\"text-align: right;\">\n",
       "      <th></th>\n",
       "      <th>order_id</th>\n",
       "      <th>user_id</th>\n",
       "      <th>eval_set</th>\n",
       "      <th>order_number</th>\n",
       "      <th>order_dow</th>\n",
       "      <th>order_hour_of_day</th>\n",
       "      <th>days_since_prior_order</th>\n",
       "    </tr>\n",
       "  </thead>\n",
       "  <tbody>\n",
       "    <tr>\n",
       "      <th>0</th>\n",
       "      <td>2539329</td>\n",
       "      <td>1</td>\n",
       "      <td>prior</td>\n",
       "      <td>1</td>\n",
       "      <td>2</td>\n",
       "      <td>8</td>\n",
       "      <td>NaN</td>\n",
       "    </tr>\n",
       "    <tr>\n",
       "      <th>1</th>\n",
       "      <td>2398795</td>\n",
       "      <td>1</td>\n",
       "      <td>prior</td>\n",
       "      <td>2</td>\n",
       "      <td>3</td>\n",
       "      <td>7</td>\n",
       "      <td>15.0</td>\n",
       "    </tr>\n",
       "    <tr>\n",
       "      <th>2</th>\n",
       "      <td>473747</td>\n",
       "      <td>1</td>\n",
       "      <td>prior</td>\n",
       "      <td>3</td>\n",
       "      <td>3</td>\n",
       "      <td>12</td>\n",
       "      <td>21.0</td>\n",
       "    </tr>\n",
       "    <tr>\n",
       "      <th>3</th>\n",
       "      <td>2254736</td>\n",
       "      <td>1</td>\n",
       "      <td>prior</td>\n",
       "      <td>4</td>\n",
       "      <td>4</td>\n",
       "      <td>7</td>\n",
       "      <td>29.0</td>\n",
       "    </tr>\n",
       "    <tr>\n",
       "      <th>4</th>\n",
       "      <td>431534</td>\n",
       "      <td>1</td>\n",
       "      <td>prior</td>\n",
       "      <td>5</td>\n",
       "      <td>4</td>\n",
       "      <td>15</td>\n",
       "      <td>28.0</td>\n",
       "    </tr>\n",
       "  </tbody>\n",
       "</table>\n",
       "</div>"
      ],
      "text/plain": [
       "   order_id  user_id eval_set  order_number  order_dow  order_hour_of_day  \\\n",
       "0   2539329        1    prior             1          2                  8   \n",
       "1   2398795        1    prior             2          3                  7   \n",
       "2    473747        1    prior             3          3                 12   \n",
       "3   2254736        1    prior             4          4                  7   \n",
       "4    431534        1    prior             5          4                 15   \n",
       "\n",
       "   days_since_prior_order  \n",
       "0                     NaN  \n",
       "1                    15.0  \n",
       "2                    21.0  \n",
       "3                    29.0  \n",
       "4                    28.0  "
      ]
     },
     "execution_count": 66,
     "metadata": {},
     "output_type": "execute_result"
    }
   ],
   "source": [
    "df_orders_wrangled.head()"
   ]
  },
  {
   "cell_type": "markdown",
   "id": "4a2baab3-995e-44f0-a3dd-46994ca40cde",
   "metadata": {},
   "source": [
    "### Renaming columns"
   ]
  },
  {
   "cell_type": "code",
   "execution_count": 68,
   "id": "09ad2060-aa5a-4fc3-91a5-b75a1efd3c1b",
   "metadata": {},
   "outputs": [
    {
     "data": {
      "text/plain": [
       "Index(['order_id', 'user_id', 'eval_set', 'order_number', 'order_dow',\n",
       "       'order_hour_of_day', 'days_since_prior_order'],\n",
       "      dtype='object')"
      ]
     },
     "execution_count": 68,
     "metadata": {},
     "output_type": "execute_result"
    }
   ],
   "source": [
    "df_orders_wrangled.columns"
   ]
  },
  {
   "cell_type": "code",
   "execution_count": 69,
   "id": "7681129a-e311-418b-bfca-7d8d7a14d9ce",
   "metadata": {},
   "outputs": [],
   "source": [
    "df_orders_wrangled.rename(columns = {'order_dow' : 'orders_day_of_week'}, inplace = True)"
   ]
  },
  {
   "cell_type": "code",
   "execution_count": 70,
   "id": "771b02e6-1679-4ade-81e7-dd7e3157a07a",
   "metadata": {},
   "outputs": [
    {
     "data": {
      "text/plain": [
       "Index(['order_id', 'user_id', 'eval_set', 'order_number', 'orders_day_of_week',\n",
       "       'order_hour_of_day', 'days_since_prior_order'],\n",
       "      dtype='object')"
      ]
     },
     "execution_count": 70,
     "metadata": {},
     "output_type": "execute_result"
    }
   ],
   "source": [
    "df_orders_wrangled.columns"
   ]
  },
  {
   "cell_type": "markdown",
   "id": "06a4e768-2501-4487-955c-d496d6b86979",
   "metadata": {},
   "source": [
    "### Changing data types"
   ]
  },
  {
   "cell_type": "code",
   "execution_count": 72,
   "id": "511d0c35-e667-4404-b30b-bfc86e227a9c",
   "metadata": {},
   "outputs": [
    {
     "data": {
      "text/plain": [
       "order_id                    int64\n",
       "user_id                     int64\n",
       "eval_set                   object\n",
       "order_number                int64\n",
       "orders_day_of_week          int64\n",
       "order_hour_of_day           int64\n",
       "days_since_prior_order    float64\n",
       "dtype: object"
      ]
     },
     "execution_count": 72,
     "metadata": {},
     "output_type": "execute_result"
    }
   ],
   "source": [
    "df_orders_wrangled.dtypes"
   ]
  },
  {
   "cell_type": "code",
   "execution_count": 73,
   "id": "a5df1f5b-e4f4-41c3-9e12-482a3e2310d7",
   "metadata": {},
   "outputs": [],
   "source": [
    "#df_orders['order_id'] = df_orders['order_id'].astype('str')"
   ]
  },
  {
   "cell_type": "code",
   "execution_count": 74,
   "id": "e4102b49-0f6f-4dce-9d19-cf3cd5c5bf7c",
   "metadata": {},
   "outputs": [],
   "source": [
    "#df_orders['user_id'] = df_orders['user_id'].astype('str')"
   ]
  },
  {
   "cell_type": "code",
   "execution_count": 75,
   "id": "ab4bf5ba-a5aa-424e-804b-4f405007dfca",
   "metadata": {},
   "outputs": [],
   "source": [
    "#df_orders['order_number'] = df_orders['order_number'].astype('str')"
   ]
  },
  {
   "cell_type": "code",
   "execution_count": 76,
   "id": "45cecdff-f64c-48a0-943d-62adfa6d1138",
   "metadata": {},
   "outputs": [
    {
     "data": {
      "text/plain": [
       "order_id                    int64\n",
       "user_id                     int64\n",
       "eval_set                   object\n",
       "order_number                int64\n",
       "orders_day_of_week          int64\n",
       "order_hour_of_day           int64\n",
       "days_since_prior_order    float64\n",
       "dtype: object"
      ]
     },
     "execution_count": 76,
     "metadata": {},
     "output_type": "execute_result"
    }
   ],
   "source": [
    "df_orders_wrangled.dtypes"
   ]
  },
  {
   "cell_type": "markdown",
   "id": "82fc91c9-e5bd-446a-a168-e7f06f9b9d16",
   "metadata": {},
   "source": [
    "### Dropping columns"
   ]
  },
  {
   "cell_type": "code",
   "execution_count": 78,
   "id": "f9573e08-4390-4296-9f0a-ab6cd25e4833",
   "metadata": {},
   "outputs": [
    {
     "data": {
      "text/plain": [
       "order_id                       0\n",
       "user_id                        0\n",
       "eval_set                       0\n",
       "order_number                   0\n",
       "orders_day_of_week             0\n",
       "order_hour_of_day              0\n",
       "days_since_prior_order    206209\n",
       "dtype: int64"
      ]
     },
     "execution_count": 78,
     "metadata": {},
     "output_type": "execute_result"
    }
   ],
   "source": [
    "df_orders_wrangled.isnull().sum()"
   ]
  },
  {
   "cell_type": "code",
   "execution_count": 79,
   "id": "7b017d53-edca-41df-8333-115e3814a85e",
   "metadata": {},
   "outputs": [
    {
     "data": {
      "text/plain": [
       "eval_set\n",
       "prior    3214874\n",
       "test       75000\n",
       "train     131209\n",
       "Name: count, dtype: int64"
      ]
     },
     "execution_count": 79,
     "metadata": {},
     "output_type": "execute_result"
    }
   ],
   "source": [
    "df_orders_wrangled['eval_set'].value_counts(dropna = False).sort_index()"
   ]
  },
  {
   "cell_type": "code",
   "execution_count": 80,
   "id": "d3e4c2d1-f34c-4dca-a6af-35c853e3d9a8",
   "metadata": {},
   "outputs": [
    {
     "data": {
      "text/plain": [
       "orders_day_of_week\n",
       "0    600905\n",
       "1    587478\n",
       "2    467260\n",
       "3    436972\n",
       "4    426339\n",
       "5    453368\n",
       "6    448761\n",
       "Name: count, dtype: int64"
      ]
     },
     "execution_count": 80,
     "metadata": {},
     "output_type": "execute_result"
    }
   ],
   "source": [
    "df_orders_wrangled['orders_day_of_week'].value_counts(dropna = False).sort_index()"
   ]
  },
  {
   "cell_type": "code",
   "execution_count": 81,
   "id": "1868c5ea-5351-4f5d-8176-e6fddc710c35",
   "metadata": {},
   "outputs": [
    {
     "data": {
      "text/plain": [
       "order_hour_of_day\n",
       "0      22758\n",
       "1      12398\n",
       "2       7539\n",
       "3       5474\n",
       "4       5527\n",
       "5       9569\n",
       "6      30529\n",
       "7      91868\n",
       "8     178201\n",
       "9     257812\n",
       "10    288418\n",
       "11    284728\n",
       "12    272841\n",
       "13    277999\n",
       "14    283042\n",
       "15    283639\n",
       "16    272553\n",
       "17    228795\n",
       "18    182912\n",
       "19    140569\n",
       "20    104292\n",
       "21     78109\n",
       "22     61468\n",
       "23     40043\n",
       "Name: count, dtype: int64"
      ]
     },
     "execution_count": 81,
     "metadata": {},
     "output_type": "execute_result"
    }
   ],
   "source": [
    "df_orders_wrangled['order_hour_of_day'].value_counts(dropna = False).sort_index()"
   ]
  },
  {
   "cell_type": "code",
   "execution_count": 82,
   "id": "b77040f8-606e-440e-9206-dda26b1c0aa3",
   "metadata": {},
   "outputs": [
    {
     "data": {
      "text/plain": [
       "days_since_prior_order\n",
       "0.0      67755\n",
       "1.0     145247\n",
       "2.0     193206\n",
       "3.0     217005\n",
       "4.0     221696\n",
       "5.0     214503\n",
       "6.0     240013\n",
       "7.0     320608\n",
       "8.0     181717\n",
       "9.0     118188\n",
       "10.0     95186\n",
       "11.0     80970\n",
       "12.0     76146\n",
       "13.0     83214\n",
       "14.0    100230\n",
       "15.0     66579\n",
       "16.0     46941\n",
       "17.0     39245\n",
       "18.0     35881\n",
       "19.0     34384\n",
       "20.0     38527\n",
       "21.0     45470\n",
       "22.0     32012\n",
       "23.0     23885\n",
       "24.0     20712\n",
       "25.0     19234\n",
       "26.0     19016\n",
       "27.0     22013\n",
       "28.0     26777\n",
       "29.0     19191\n",
       "30.0    369323\n",
       "NaN     206209\n",
       "Name: count, dtype: int64"
      ]
     },
     "execution_count": 82,
     "metadata": {},
     "output_type": "execute_result"
    }
   ],
   "source": [
    "df_orders_wrangled['days_since_prior_order'].value_counts(dropna = False).sort_index()"
   ]
  },
  {
   "cell_type": "code",
   "execution_count": 83,
   "id": "35243423-25e8-46d1-96e7-c8b5657a7f6f",
   "metadata": {},
   "outputs": [],
   "source": [
    "df_orders_wrangled = df_orders_wrangled.drop(columns = ['eval_set'])"
   ]
  },
  {
   "cell_type": "code",
   "execution_count": 84,
   "id": "ee34dddf-2480-4332-a1f4-44ea401e038e",
   "metadata": {},
   "outputs": [
    {
     "data": {
      "text/plain": [
       "order_id                       0\n",
       "user_id                        0\n",
       "order_number                   0\n",
       "orders_day_of_week             0\n",
       "order_hour_of_day              0\n",
       "days_since_prior_order    206209\n",
       "dtype: int64"
      ]
     },
     "execution_count": 84,
     "metadata": {},
     "output_type": "execute_result"
    }
   ],
   "source": [
    "df_orders_wrangled.isnull().sum()"
   ]
  },
  {
   "cell_type": "markdown",
   "id": "0460d269-4b17-4280-8159-f23edf9a5d67",
   "metadata": {},
   "source": [
    "## Products"
   ]
  },
  {
   "cell_type": "code",
   "execution_count": 86,
   "id": "8ae3c021-6ada-489b-b3ee-b54d1b715408",
   "metadata": {},
   "outputs": [],
   "source": [
    "df_products_wrangled = df_products.copy()"
   ]
  },
  {
   "cell_type": "code",
   "execution_count": 87,
   "id": "db9e8f28-af94-4fea-9de8-7dc9b19c0da4",
   "metadata": {},
   "outputs": [
    {
     "data": {
      "text/html": [
       "<div>\n",
       "<style scoped>\n",
       "    .dataframe tbody tr th:only-of-type {\n",
       "        vertical-align: middle;\n",
       "    }\n",
       "\n",
       "    .dataframe tbody tr th {\n",
       "        vertical-align: top;\n",
       "    }\n",
       "\n",
       "    .dataframe thead th {\n",
       "        text-align: right;\n",
       "    }\n",
       "</style>\n",
       "<table border=\"1\" class=\"dataframe\">\n",
       "  <thead>\n",
       "    <tr style=\"text-align: right;\">\n",
       "      <th></th>\n",
       "      <th>product_id</th>\n",
       "      <th>product_name</th>\n",
       "      <th>aisle_id</th>\n",
       "      <th>department_id</th>\n",
       "      <th>prices</th>\n",
       "    </tr>\n",
       "  </thead>\n",
       "  <tbody>\n",
       "    <tr>\n",
       "      <th>0</th>\n",
       "      <td>1</td>\n",
       "      <td>Chocolate Sandwich Cookies</td>\n",
       "      <td>61</td>\n",
       "      <td>19</td>\n",
       "      <td>5.8</td>\n",
       "    </tr>\n",
       "    <tr>\n",
       "      <th>1</th>\n",
       "      <td>2</td>\n",
       "      <td>All-Seasons Salt</td>\n",
       "      <td>104</td>\n",
       "      <td>13</td>\n",
       "      <td>9.3</td>\n",
       "    </tr>\n",
       "    <tr>\n",
       "      <th>2</th>\n",
       "      <td>3</td>\n",
       "      <td>Robust Golden Unsweetened Oolong Tea</td>\n",
       "      <td>94</td>\n",
       "      <td>7</td>\n",
       "      <td>4.5</td>\n",
       "    </tr>\n",
       "    <tr>\n",
       "      <th>3</th>\n",
       "      <td>4</td>\n",
       "      <td>Smart Ones Classic Favorites Mini Rigatoni Wit...</td>\n",
       "      <td>38</td>\n",
       "      <td>1</td>\n",
       "      <td>10.5</td>\n",
       "    </tr>\n",
       "    <tr>\n",
       "      <th>4</th>\n",
       "      <td>5</td>\n",
       "      <td>Green Chile Anytime Sauce</td>\n",
       "      <td>5</td>\n",
       "      <td>13</td>\n",
       "      <td>4.3</td>\n",
       "    </tr>\n",
       "  </tbody>\n",
       "</table>\n",
       "</div>"
      ],
      "text/plain": [
       "   product_id                                       product_name  aisle_id  \\\n",
       "0           1                         Chocolate Sandwich Cookies        61   \n",
       "1           2                                   All-Seasons Salt       104   \n",
       "2           3               Robust Golden Unsweetened Oolong Tea        94   \n",
       "3           4  Smart Ones Classic Favorites Mini Rigatoni Wit...        38   \n",
       "4           5                          Green Chile Anytime Sauce         5   \n",
       "\n",
       "   department_id  prices  \n",
       "0             19     5.8  \n",
       "1             13     9.3  \n",
       "2              7     4.5  \n",
       "3              1    10.5  \n",
       "4             13     4.3  "
      ]
     },
     "execution_count": 87,
     "metadata": {},
     "output_type": "execute_result"
    }
   ],
   "source": [
    "df_products_wrangled.head()"
   ]
  },
  {
   "cell_type": "markdown",
   "id": "36a9785b-3f47-4882-9441-95f8549453cb",
   "metadata": {},
   "source": [
    "### Renaming columns"
   ]
  },
  {
   "cell_type": "code",
   "execution_count": 89,
   "id": "3d1fdeff-e2c0-4063-afc4-a05182edbf53",
   "metadata": {},
   "outputs": [
    {
     "data": {
      "text/plain": [
       "Index(['product_id', 'product_name', 'aisle_id', 'department_id', 'prices'], dtype='object')"
      ]
     },
     "execution_count": 89,
     "metadata": {},
     "output_type": "execute_result"
    }
   ],
   "source": [
    "df_products_wrangled.columns"
   ]
  },
  {
   "cell_type": "markdown",
   "id": "67836643-1b11-4732-8b0a-ab3675ddf4ca",
   "metadata": {},
   "source": [
    "### Chaning data types"
   ]
  },
  {
   "cell_type": "code",
   "execution_count": 91,
   "id": "60b48db4-bfd8-4640-bbee-b02543d8f3d5",
   "metadata": {},
   "outputs": [
    {
     "data": {
      "text/plain": [
       "product_id         int64\n",
       "product_name      object\n",
       "aisle_id           int64\n",
       "department_id      int64\n",
       "prices           float64\n",
       "dtype: object"
      ]
     },
     "execution_count": 91,
     "metadata": {},
     "output_type": "execute_result"
    }
   ],
   "source": [
    "df_products_wrangled.dtypes"
   ]
  },
  {
   "cell_type": "markdown",
   "id": "ea01eacd-7e3b-45fd-b3c6-c22e96ae464c",
   "metadata": {},
   "source": [
    "### Dropping columns"
   ]
  },
  {
   "cell_type": "code",
   "execution_count": 93,
   "id": "88dced78-953c-4ee0-a924-ca155a3afbf4",
   "metadata": {},
   "outputs": [
    {
     "data": {
      "text/plain": [
       "product_id        0\n",
       "product_name     16\n",
       "aisle_id          0\n",
       "department_id     0\n",
       "prices            0\n",
       "dtype: int64"
      ]
     },
     "execution_count": 93,
     "metadata": {},
     "output_type": "execute_result"
    }
   ],
   "source": [
    "df_products_wrangled.isnull().sum()"
   ]
  },
  {
   "cell_type": "code",
   "execution_count": 94,
   "id": "621b4154-3813-4f2d-9e4b-1adbdc14bd32",
   "metadata": {},
   "outputs": [
    {
     "data": {
      "text/plain": [
       "product_name\n",
       "#2 Coffee Filters                                             1\n",
       "#2 Cone White Coffee Filters                                  1\n",
       "#2 Mechanical Pencils                                         1\n",
       "#4 Natural Brown Coffee Filters                               1\n",
       "#NAME?                                                        1\n",
       "                                                             ..\n",
       "with Xylitol Unwrapped Spearmint 50 Sticks Sugar Free Gum     1\n",
       "with Xylitol Watermelon Twist 18 Sticks Sugar Free Gum        1\n",
       "with a Splash of Mango Coconut Water                          1\n",
       "with a Splash of Pineapple Coconut Water                      1\n",
       "NaN                                                          16\n",
       "Name: count, Length: 49673, dtype: int64"
      ]
     },
     "execution_count": 94,
     "metadata": {},
     "output_type": "execute_result"
    }
   ],
   "source": [
    "df_products_wrangled['product_name'].value_counts(dropna = False).sort_index()"
   ]
  },
  {
   "cell_type": "code",
   "execution_count": 95,
   "id": "e6ddc77a-26fe-44a0-b9a5-bfb061d590da",
   "metadata": {},
   "outputs": [
    {
     "data": {
      "text/plain": [
       "aisle_id\n",
       "1      146\n",
       "2      271\n",
       "3      832\n",
       "4      543\n",
       "5      409\n",
       "      ... \n",
       "130    303\n",
       "131    457\n",
       "132    178\n",
       "133    172\n",
       "134     95\n",
       "Name: count, Length: 134, dtype: int64"
      ]
     },
     "execution_count": 95,
     "metadata": {},
     "output_type": "execute_result"
    }
   ],
   "source": [
    "df_products_wrangled['aisle_id'].value_counts(dropna = False).sort_index()"
   ]
  },
  {
   "cell_type": "code",
   "execution_count": 96,
   "id": "b1fc33f9-477e-455b-8803-8ac6ea9abe9b",
   "metadata": {},
   "outputs": [
    {
     "data": {
      "text/plain": [
       "department_id\n",
       "1     4007\n",
       "2      548\n",
       "3     1516\n",
       "4     1684\n",
       "5     1056\n",
       "6     1139\n",
       "7     4365\n",
       "8      972\n",
       "9     1858\n",
       "10      38\n",
       "11    6565\n",
       "12     907\n",
       "13    5371\n",
       "14    1116\n",
       "15    2092\n",
       "16    3449\n",
       "17    3085\n",
       "18    1081\n",
       "19    6264\n",
       "20    1322\n",
       "21    1258\n",
       "Name: count, dtype: int64"
      ]
     },
     "execution_count": 96,
     "metadata": {},
     "output_type": "execute_result"
    }
   ],
   "source": [
    "df_products_wrangled['department_id'].value_counts(dropna = False).sort_index()"
   ]
  },
  {
   "cell_type": "markdown",
   "id": "e05508ca-4aca-48f0-bbab-8a4eacc7e583",
   "metadata": {},
   "source": [
    "# Dimensions after wrangling"
   ]
  },
  {
   "cell_type": "code",
   "execution_count": 98,
   "id": "9d3407ec-941e-43d0-b2b9-ab29b9443901",
   "metadata": {},
   "outputs": [
    {
     "data": {
      "text/plain": [
       "(206209, 10)"
      ]
     },
     "execution_count": 98,
     "metadata": {},
     "output_type": "execute_result"
    }
   ],
   "source": [
    "df_customers.shape"
   ]
  },
  {
   "cell_type": "code",
   "execution_count": 99,
   "id": "c2d3453e-3fad-40ab-9f83-028a48985dbc",
   "metadata": {},
   "outputs": [
    {
     "data": {
      "text/plain": [
       "(206209, 10)"
      ]
     },
     "execution_count": 99,
     "metadata": {},
     "output_type": "execute_result"
    }
   ],
   "source": [
    "df_customers_wrangled.shape"
   ]
  },
  {
   "cell_type": "code",
   "execution_count": 100,
   "id": "6d2f93c3-de3b-4754-bdc5-4b455d736d37",
   "metadata": {},
   "outputs": [
    {
     "data": {
      "text/plain": [
       "(1, 22)"
      ]
     },
     "execution_count": 100,
     "metadata": {},
     "output_type": "execute_result"
    }
   ],
   "source": [
    "df_departments.shape"
   ]
  },
  {
   "cell_type": "code",
   "execution_count": 101,
   "id": "f87fb026-0572-4321-85a4-18d39d7f9c49",
   "metadata": {},
   "outputs": [
    {
     "data": {
      "text/plain": [
       "(21, 1)"
      ]
     },
     "execution_count": 101,
     "metadata": {},
     "output_type": "execute_result"
    }
   ],
   "source": [
    "df_departments_wrangled.shape"
   ]
  },
  {
   "cell_type": "code",
   "execution_count": 102,
   "id": "a519a8f8-26df-467e-a0f0-d2bb3bc39974",
   "metadata": {},
   "outputs": [
    {
     "data": {
      "text/plain": [
       "(32434489, 4)"
      ]
     },
     "execution_count": 102,
     "metadata": {},
     "output_type": "execute_result"
    }
   ],
   "source": [
    "df_orders_products_prior.shape"
   ]
  },
  {
   "cell_type": "code",
   "execution_count": 103,
   "id": "0b87659e-f93b-46e7-affc-8b72b0771dae",
   "metadata": {},
   "outputs": [
    {
     "data": {
      "text/plain": [
       "(32434489, 4)"
      ]
     },
     "execution_count": 103,
     "metadata": {},
     "output_type": "execute_result"
    }
   ],
   "source": [
    "df_orders_products_prior_wrangled.shape"
   ]
  },
  {
   "cell_type": "code",
   "execution_count": 104,
   "id": "91122bc4-dd9c-4605-982c-1fcf91e0ce9c",
   "metadata": {},
   "outputs": [
    {
     "data": {
      "text/plain": [
       "(3421083, 7)"
      ]
     },
     "execution_count": 104,
     "metadata": {},
     "output_type": "execute_result"
    }
   ],
   "source": [
    "df_orders.shape"
   ]
  },
  {
   "cell_type": "code",
   "execution_count": 105,
   "id": "f8fe9a7c-5739-4ff7-b10c-d010ed71a160",
   "metadata": {},
   "outputs": [
    {
     "data": {
      "text/plain": [
       "(3421083, 6)"
      ]
     },
     "execution_count": 105,
     "metadata": {},
     "output_type": "execute_result"
    }
   ],
   "source": [
    "df_orders_wrangled.shape"
   ]
  },
  {
   "cell_type": "code",
   "execution_count": 106,
   "id": "c261f16e-3f67-4ff9-b6bd-026d5e2a4fcd",
   "metadata": {},
   "outputs": [
    {
     "data": {
      "text/plain": [
       "(49693, 5)"
      ]
     },
     "execution_count": 106,
     "metadata": {},
     "output_type": "execute_result"
    }
   ],
   "source": [
    "df_products.shape"
   ]
  },
  {
   "cell_type": "code",
   "execution_count": 107,
   "id": "be5b1078-85d0-49f5-a7b6-0927ccf0697f",
   "metadata": {},
   "outputs": [
    {
     "data": {
      "text/plain": [
       "(49693, 5)"
      ]
     },
     "execution_count": 107,
     "metadata": {},
     "output_type": "execute_result"
    }
   ],
   "source": [
    "df_products_wrangled.shape"
   ]
  },
  {
   "cell_type": "markdown",
   "id": "4863f852-acc9-437a-b28e-c161d8e8f616",
   "metadata": {},
   "source": [
    "# Subsets"
   ]
  },
  {
   "cell_type": "markdown",
   "id": "08d73dae-ef93-4fe5-9ef0-0096bd91757e",
   "metadata": {},
   "source": [
    "## Snacks"
   ]
  },
  {
   "cell_type": "code",
   "execution_count": 110,
   "id": "a2ed93a9-7601-404f-bb96-3c7bc88a8a7f",
   "metadata": {},
   "outputs": [],
   "source": [
    "df_snacks = df_products.loc[df_products['department_id'] == 19]"
   ]
  },
  {
   "cell_type": "code",
   "execution_count": 111,
   "id": "c34f2e78-98ac-4363-93ea-d90dacf0ef03",
   "metadata": {},
   "outputs": [
    {
     "data": {
      "text/html": [
       "<div>\n",
       "<style scoped>\n",
       "    .dataframe tbody tr th:only-of-type {\n",
       "        vertical-align: middle;\n",
       "    }\n",
       "\n",
       "    .dataframe tbody tr th {\n",
       "        vertical-align: top;\n",
       "    }\n",
       "\n",
       "    .dataframe thead th {\n",
       "        text-align: right;\n",
       "    }\n",
       "</style>\n",
       "<table border=\"1\" class=\"dataframe\">\n",
       "  <thead>\n",
       "    <tr style=\"text-align: right;\">\n",
       "      <th></th>\n",
       "      <th>product_id</th>\n",
       "      <th>product_name</th>\n",
       "      <th>aisle_id</th>\n",
       "      <th>department_id</th>\n",
       "      <th>prices</th>\n",
       "    </tr>\n",
       "  </thead>\n",
       "  <tbody>\n",
       "    <tr>\n",
       "      <th>0</th>\n",
       "      <td>1</td>\n",
       "      <td>Chocolate Sandwich Cookies</td>\n",
       "      <td>61</td>\n",
       "      <td>19</td>\n",
       "      <td>5.8</td>\n",
       "    </tr>\n",
       "    <tr>\n",
       "      <th>15</th>\n",
       "      <td>16</td>\n",
       "      <td>Mint Chocolate Flavored Syrup</td>\n",
       "      <td>103</td>\n",
       "      <td>19</td>\n",
       "      <td>5.2</td>\n",
       "    </tr>\n",
       "    <tr>\n",
       "      <th>24</th>\n",
       "      <td>25</td>\n",
       "      <td>Salted Caramel Lean Protein &amp; Fiber Bar</td>\n",
       "      <td>3</td>\n",
       "      <td>19</td>\n",
       "      <td>1.9</td>\n",
       "    </tr>\n",
       "    <tr>\n",
       "      <th>31</th>\n",
       "      <td>32</td>\n",
       "      <td>Nacho Cheese White Bean Chips</td>\n",
       "      <td>107</td>\n",
       "      <td>19</td>\n",
       "      <td>4.9</td>\n",
       "    </tr>\n",
       "    <tr>\n",
       "      <th>40</th>\n",
       "      <td>41</td>\n",
       "      <td>Organic Sourdough Einkorn Crackers Rosemary</td>\n",
       "      <td>78</td>\n",
       "      <td>19</td>\n",
       "      <td>6.5</td>\n",
       "    </tr>\n",
       "  </tbody>\n",
       "</table>\n",
       "</div>"
      ],
      "text/plain": [
       "    product_id                                 product_name  aisle_id  \\\n",
       "0            1                   Chocolate Sandwich Cookies        61   \n",
       "15          16                Mint Chocolate Flavored Syrup       103   \n",
       "24          25      Salted Caramel Lean Protein & Fiber Bar         3   \n",
       "31          32                Nacho Cheese White Bean Chips       107   \n",
       "40          41  Organic Sourdough Einkorn Crackers Rosemary        78   \n",
       "\n",
       "    department_id  prices  \n",
       "0              19     5.8  \n",
       "15             19     5.2  \n",
       "24             19     1.9  \n",
       "31             19     4.9  \n",
       "40             19     6.5  "
      ]
     },
     "execution_count": 111,
     "metadata": {},
     "output_type": "execute_result"
    }
   ],
   "source": [
    "df_snacks.head()"
   ]
  },
  {
   "cell_type": "code",
   "execution_count": 112,
   "id": "c9e61176-45cc-4688-878f-c7c5e2e8e141",
   "metadata": {},
   "outputs": [
    {
     "data": {
      "text/plain": [
       "(6264, 5)"
      ]
     },
     "execution_count": 112,
     "metadata": {},
     "output_type": "execute_result"
    }
   ],
   "source": [
    "df_snacks.shape"
   ]
  },
  {
   "cell_type": "markdown",
   "id": "57ad16f1-a998-4d58-8c98-7025ef39cce2",
   "metadata": {},
   "source": [
    "## Breakfast"
   ]
  },
  {
   "cell_type": "code",
   "execution_count": 114,
   "id": "b88c3c53-0e0b-4e43-b2b0-6bbd1632332c",
   "metadata": {},
   "outputs": [],
   "source": [
    "df_breakfast = df_products[df_products['department_id'] == 14]"
   ]
  },
  {
   "cell_type": "code",
   "execution_count": 115,
   "id": "646d5dab-e81e-44d4-aa45-cee14bc2f71d",
   "metadata": {},
   "outputs": [
    {
     "data": {
      "text/plain": [
       "(1116, 5)"
      ]
     },
     "execution_count": 115,
     "metadata": {},
     "output_type": "execute_result"
    }
   ],
   "source": [
    "df_breakfast.shape"
   ]
  },
  {
   "cell_type": "code",
   "execution_count": 116,
   "id": "8392aa6a-7282-4c39-b4a3-8090d45db2d4",
   "metadata": {},
   "outputs": [
    {
     "data": {
      "text/html": [
       "<div>\n",
       "<style scoped>\n",
       "    .dataframe tbody tr th:only-of-type {\n",
       "        vertical-align: middle;\n",
       "    }\n",
       "\n",
       "    .dataframe tbody tr th {\n",
       "        vertical-align: top;\n",
       "    }\n",
       "\n",
       "    .dataframe thead th {\n",
       "        text-align: right;\n",
       "    }\n",
       "</style>\n",
       "<table border=\"1\" class=\"dataframe\">\n",
       "  <thead>\n",
       "    <tr style=\"text-align: right;\">\n",
       "      <th></th>\n",
       "      <th>product_id</th>\n",
       "      <th>product_name</th>\n",
       "      <th>aisle_id</th>\n",
       "      <th>department_id</th>\n",
       "      <th>prices</th>\n",
       "    </tr>\n",
       "  </thead>\n",
       "  <tbody>\n",
       "    <tr>\n",
       "      <th>27</th>\n",
       "      <td>28</td>\n",
       "      <td>Wheat Chex Cereal</td>\n",
       "      <td>121</td>\n",
       "      <td>14</td>\n",
       "      <td>10.1</td>\n",
       "    </tr>\n",
       "    <tr>\n",
       "      <th>33</th>\n",
       "      <td>34</td>\n",
       "      <td>NaN</td>\n",
       "      <td>121</td>\n",
       "      <td>14</td>\n",
       "      <td>12.2</td>\n",
       "    </tr>\n",
       "    <tr>\n",
       "      <th>67</th>\n",
       "      <td>68</td>\n",
       "      <td>Pancake Mix, Buttermilk</td>\n",
       "      <td>130</td>\n",
       "      <td>14</td>\n",
       "      <td>13.7</td>\n",
       "    </tr>\n",
       "    <tr>\n",
       "      <th>89</th>\n",
       "      <td>90</td>\n",
       "      <td>Smorz Cereal</td>\n",
       "      <td>121</td>\n",
       "      <td>14</td>\n",
       "      <td>3.9</td>\n",
       "    </tr>\n",
       "    <tr>\n",
       "      <th>210</th>\n",
       "      <td>211</td>\n",
       "      <td>Gluten Free Organic Cereal Coconut Maple Vanilla</td>\n",
       "      <td>130</td>\n",
       "      <td>14</td>\n",
       "      <td>3.6</td>\n",
       "    </tr>\n",
       "  </tbody>\n",
       "</table>\n",
       "</div>"
      ],
      "text/plain": [
       "     product_id                                      product_name  aisle_id  \\\n",
       "27           28                                 Wheat Chex Cereal       121   \n",
       "33           34                                               NaN       121   \n",
       "67           68                           Pancake Mix, Buttermilk       130   \n",
       "89           90                                      Smorz Cereal       121   \n",
       "210         211  Gluten Free Organic Cereal Coconut Maple Vanilla       130   \n",
       "\n",
       "     department_id  prices  \n",
       "27              14    10.1  \n",
       "33              14    12.2  \n",
       "67              14    13.7  \n",
       "89              14     3.9  \n",
       "210             14     3.6  "
      ]
     },
     "execution_count": 116,
     "metadata": {},
     "output_type": "execute_result"
    }
   ],
   "source": [
    "df_breakfast.head()"
   ]
  },
  {
   "cell_type": "markdown",
   "id": "30463072-1a7d-4036-83e4-c56168e67419",
   "metadata": {},
   "source": [
    "## Dinner"
   ]
  },
  {
   "cell_type": "code",
   "execution_count": 118,
   "id": "41956d7f-eb27-4403-950e-3bb15ddbc9d2",
   "metadata": {},
   "outputs": [],
   "source": [
    "df_dinner = df_products[df_products['department_id'].isin([5,7,12,20])]"
   ]
  },
  {
   "cell_type": "code",
   "execution_count": 119,
   "id": "9d240de7-7623-4d24-8df6-2f2c9665d819",
   "metadata": {},
   "outputs": [
    {
     "data": {
      "text/plain": [
       "(7650, 5)"
      ]
     },
     "execution_count": 119,
     "metadata": {},
     "output_type": "execute_result"
    }
   ],
   "source": [
    "df_dinner.shape"
   ]
  },
  {
   "cell_type": "code",
   "execution_count": 120,
   "id": "a33c7fb8-90fa-4f30-99da-780efe3cd6a7",
   "metadata": {},
   "outputs": [
    {
     "data": {
      "text/html": [
       "<div>\n",
       "<style scoped>\n",
       "    .dataframe tbody tr th:only-of-type {\n",
       "        vertical-align: middle;\n",
       "    }\n",
       "\n",
       "    .dataframe tbody tr th {\n",
       "        vertical-align: top;\n",
       "    }\n",
       "\n",
       "    .dataframe thead th {\n",
       "        text-align: right;\n",
       "    }\n",
       "</style>\n",
       "<table border=\"1\" class=\"dataframe\">\n",
       "  <thead>\n",
       "    <tr style=\"text-align: right;\">\n",
       "      <th></th>\n",
       "      <th>product_id</th>\n",
       "      <th>product_name</th>\n",
       "      <th>aisle_id</th>\n",
       "      <th>department_id</th>\n",
       "      <th>prices</th>\n",
       "    </tr>\n",
       "  </thead>\n",
       "  <tbody>\n",
       "    <tr>\n",
       "      <th>2</th>\n",
       "      <td>3</td>\n",
       "      <td>Robust Golden Unsweetened Oolong Tea</td>\n",
       "      <td>94</td>\n",
       "      <td>7</td>\n",
       "      <td>4.5</td>\n",
       "    </tr>\n",
       "    <tr>\n",
       "      <th>6</th>\n",
       "      <td>7</td>\n",
       "      <td>Pure Coconut Water With Orange</td>\n",
       "      <td>98</td>\n",
       "      <td>7</td>\n",
       "      <td>4.4</td>\n",
       "    </tr>\n",
       "    <tr>\n",
       "      <th>9</th>\n",
       "      <td>10</td>\n",
       "      <td>Sparkling Orange Juice &amp; Prickly Pear Beverage</td>\n",
       "      <td>115</td>\n",
       "      <td>7</td>\n",
       "      <td>8.4</td>\n",
       "    </tr>\n",
       "    <tr>\n",
       "      <th>10</th>\n",
       "      <td>11</td>\n",
       "      <td>Peach Mango Juice</td>\n",
       "      <td>31</td>\n",
       "      <td>7</td>\n",
       "      <td>2.8</td>\n",
       "    </tr>\n",
       "    <tr>\n",
       "      <th>16</th>\n",
       "      <td>17</td>\n",
       "      <td>Rendered Duck Fat</td>\n",
       "      <td>35</td>\n",
       "      <td>12</td>\n",
       "      <td>17.1</td>\n",
       "    </tr>\n",
       "  </tbody>\n",
       "</table>\n",
       "</div>"
      ],
      "text/plain": [
       "    product_id                                    product_name  aisle_id  \\\n",
       "2            3            Robust Golden Unsweetened Oolong Tea        94   \n",
       "6            7                  Pure Coconut Water With Orange        98   \n",
       "9           10  Sparkling Orange Juice & Prickly Pear Beverage       115   \n",
       "10          11                               Peach Mango Juice        31   \n",
       "16          17                               Rendered Duck Fat        35   \n",
       "\n",
       "    department_id  prices  \n",
       "2               7     4.5  \n",
       "6               7     4.4  \n",
       "9               7     8.4  \n",
       "10              7     2.8  \n",
       "16             12    17.1  "
      ]
     },
     "execution_count": 120,
     "metadata": {},
     "output_type": "execute_result"
    }
   ],
   "source": [
    "df_dinner.head()"
   ]
  },
  {
   "cell_type": "markdown",
   "id": "0021ba14-8f55-4e55-86b0-7bf1fd0e1c5b",
   "metadata": {},
   "source": [
    "## User_id = 1"
   ]
  },
  {
   "cell_type": "code",
   "execution_count": 122,
   "id": "e3676d2b-979f-4c84-917e-a8bab21ce5e3",
   "metadata": {},
   "outputs": [],
   "source": [
    "df_orders_user_1 = df_orders[df_orders['user_id'] == '1']"
   ]
  },
  {
   "cell_type": "code",
   "execution_count": 123,
   "id": "42462670-cfbb-45ee-9bd1-3c34fbe40130",
   "metadata": {},
   "outputs": [
    {
     "data": {
      "text/plain": [
       "(0, 7)"
      ]
     },
     "execution_count": 123,
     "metadata": {},
     "output_type": "execute_result"
    }
   ],
   "source": [
    "df_orders_user_1.shape"
   ]
  },
  {
   "cell_type": "code",
   "execution_count": 124,
   "id": "86f7643f-6d39-4228-8d59-dda7555c639f",
   "metadata": {},
   "outputs": [
    {
     "data": {
      "text/html": [
       "<div>\n",
       "<style scoped>\n",
       "    .dataframe tbody tr th:only-of-type {\n",
       "        vertical-align: middle;\n",
       "    }\n",
       "\n",
       "    .dataframe tbody tr th {\n",
       "        vertical-align: top;\n",
       "    }\n",
       "\n",
       "    .dataframe thead th {\n",
       "        text-align: right;\n",
       "    }\n",
       "</style>\n",
       "<table border=\"1\" class=\"dataframe\">\n",
       "  <thead>\n",
       "    <tr style=\"text-align: right;\">\n",
       "      <th></th>\n",
       "      <th>order_id</th>\n",
       "      <th>user_id</th>\n",
       "      <th>eval_set</th>\n",
       "      <th>order_number</th>\n",
       "      <th>order_dow</th>\n",
       "      <th>order_hour_of_day</th>\n",
       "      <th>days_since_prior_order</th>\n",
       "    </tr>\n",
       "  </thead>\n",
       "  <tbody>\n",
       "  </tbody>\n",
       "</table>\n",
       "</div>"
      ],
      "text/plain": [
       "Empty DataFrame\n",
       "Columns: [order_id, user_id, eval_set, order_number, order_dow, order_hour_of_day, days_since_prior_order]\n",
       "Index: []"
      ]
     },
     "execution_count": 124,
     "metadata": {},
     "output_type": "execute_result"
    }
   ],
   "source": [
    "df_orders_user_1.head()"
   ]
  },
  {
   "cell_type": "code",
   "execution_count": 125,
   "id": "4cc8fdb7-8d1c-446c-afa9-a8340e68da31",
   "metadata": {},
   "outputs": [
    {
     "data": {
      "text/html": [
       "<div>\n",
       "<style scoped>\n",
       "    .dataframe tbody tr th:only-of-type {\n",
       "        vertical-align: middle;\n",
       "    }\n",
       "\n",
       "    .dataframe tbody tr th {\n",
       "        vertical-align: top;\n",
       "    }\n",
       "\n",
       "    .dataframe thead th {\n",
       "        text-align: right;\n",
       "    }\n",
       "</style>\n",
       "<table border=\"1\" class=\"dataframe\">\n",
       "  <thead>\n",
       "    <tr style=\"text-align: right;\">\n",
       "      <th></th>\n",
       "      <th>order_id</th>\n",
       "      <th>user_id</th>\n",
       "      <th>order_number</th>\n",
       "      <th>order_dow</th>\n",
       "      <th>order_hour_of_day</th>\n",
       "      <th>days_since_prior_order</th>\n",
       "    </tr>\n",
       "  </thead>\n",
       "  <tbody>\n",
       "    <tr>\n",
       "      <th>count</th>\n",
       "      <td>0.0</td>\n",
       "      <td>0.0</td>\n",
       "      <td>0.0</td>\n",
       "      <td>0.0</td>\n",
       "      <td>0.0</td>\n",
       "      <td>0.0</td>\n",
       "    </tr>\n",
       "    <tr>\n",
       "      <th>mean</th>\n",
       "      <td>NaN</td>\n",
       "      <td>NaN</td>\n",
       "      <td>NaN</td>\n",
       "      <td>NaN</td>\n",
       "      <td>NaN</td>\n",
       "      <td>NaN</td>\n",
       "    </tr>\n",
       "    <tr>\n",
       "      <th>std</th>\n",
       "      <td>NaN</td>\n",
       "      <td>NaN</td>\n",
       "      <td>NaN</td>\n",
       "      <td>NaN</td>\n",
       "      <td>NaN</td>\n",
       "      <td>NaN</td>\n",
       "    </tr>\n",
       "    <tr>\n",
       "      <th>min</th>\n",
       "      <td>NaN</td>\n",
       "      <td>NaN</td>\n",
       "      <td>NaN</td>\n",
       "      <td>NaN</td>\n",
       "      <td>NaN</td>\n",
       "      <td>NaN</td>\n",
       "    </tr>\n",
       "    <tr>\n",
       "      <th>25%</th>\n",
       "      <td>NaN</td>\n",
       "      <td>NaN</td>\n",
       "      <td>NaN</td>\n",
       "      <td>NaN</td>\n",
       "      <td>NaN</td>\n",
       "      <td>NaN</td>\n",
       "    </tr>\n",
       "    <tr>\n",
       "      <th>50%</th>\n",
       "      <td>NaN</td>\n",
       "      <td>NaN</td>\n",
       "      <td>NaN</td>\n",
       "      <td>NaN</td>\n",
       "      <td>NaN</td>\n",
       "      <td>NaN</td>\n",
       "    </tr>\n",
       "    <tr>\n",
       "      <th>75%</th>\n",
       "      <td>NaN</td>\n",
       "      <td>NaN</td>\n",
       "      <td>NaN</td>\n",
       "      <td>NaN</td>\n",
       "      <td>NaN</td>\n",
       "      <td>NaN</td>\n",
       "    </tr>\n",
       "    <tr>\n",
       "      <th>max</th>\n",
       "      <td>NaN</td>\n",
       "      <td>NaN</td>\n",
       "      <td>NaN</td>\n",
       "      <td>NaN</td>\n",
       "      <td>NaN</td>\n",
       "      <td>NaN</td>\n",
       "    </tr>\n",
       "  </tbody>\n",
       "</table>\n",
       "</div>"
      ],
      "text/plain": [
       "       order_id  user_id  order_number  order_dow  order_hour_of_day  \\\n",
       "count       0.0      0.0           0.0        0.0                0.0   \n",
       "mean        NaN      NaN           NaN        NaN                NaN   \n",
       "std         NaN      NaN           NaN        NaN                NaN   \n",
       "min         NaN      NaN           NaN        NaN                NaN   \n",
       "25%         NaN      NaN           NaN        NaN                NaN   \n",
       "50%         NaN      NaN           NaN        NaN                NaN   \n",
       "75%         NaN      NaN           NaN        NaN                NaN   \n",
       "max         NaN      NaN           NaN        NaN                NaN   \n",
       "\n",
       "       days_since_prior_order  \n",
       "count                     0.0  \n",
       "mean                      NaN  \n",
       "std                       NaN  \n",
       "min                       NaN  \n",
       "25%                       NaN  \n",
       "50%                       NaN  \n",
       "75%                       NaN  \n",
       "max                       NaN  "
      ]
     },
     "execution_count": 125,
     "metadata": {},
     "output_type": "execute_result"
    }
   ],
   "source": [
    "df_orders_user_1.describe()"
   ]
  },
  {
   "cell_type": "markdown",
   "id": "535939fb-0df9-464a-8980-c4932f8ba87d",
   "metadata": {},
   "source": [
    "# Consistency checks"
   ]
  },
  {
   "cell_type": "markdown",
   "id": "6382219a-d80a-4ea2-ade4-e443b4a28f26",
   "metadata": {},
   "source": [
    "## Customers"
   ]
  },
  {
   "cell_type": "code",
   "execution_count": 128,
   "id": "53851d12-ad2e-4607-a398-1c33d0f6ca04",
   "metadata": {},
   "outputs": [],
   "source": [
    "df_customers_cleaned = df_customers_wrangled.copy()"
   ]
  },
  {
   "cell_type": "markdown",
   "id": "94ae3cae-b92f-4a6c-923a-77fb8fb61e8f",
   "metadata": {},
   "source": [
    "### Accuracy"
   ]
  },
  {
   "cell_type": "code",
   "execution_count": 130,
   "id": "7401721f-90cb-4bac-b7a9-6e282a796074",
   "metadata": {},
   "outputs": [
    {
     "data": {
      "text/html": [
       "<div>\n",
       "<style scoped>\n",
       "    .dataframe tbody tr th:only-of-type {\n",
       "        vertical-align: middle;\n",
       "    }\n",
       "\n",
       "    .dataframe tbody tr th {\n",
       "        vertical-align: top;\n",
       "    }\n",
       "\n",
       "    .dataframe thead th {\n",
       "        text-align: right;\n",
       "    }\n",
       "</style>\n",
       "<table border=\"1\" class=\"dataframe\">\n",
       "  <thead>\n",
       "    <tr style=\"text-align: right;\">\n",
       "      <th></th>\n",
       "      <th>user_id</th>\n",
       "      <th>age</th>\n",
       "      <th>number_of_dependents</th>\n",
       "      <th>income</th>\n",
       "    </tr>\n",
       "  </thead>\n",
       "  <tbody>\n",
       "    <tr>\n",
       "      <th>count</th>\n",
       "      <td>206209.000000</td>\n",
       "      <td>206209.000000</td>\n",
       "      <td>206209.000000</td>\n",
       "      <td>206209.000000</td>\n",
       "    </tr>\n",
       "    <tr>\n",
       "      <th>mean</th>\n",
       "      <td>103105.000000</td>\n",
       "      <td>49.501646</td>\n",
       "      <td>1.499823</td>\n",
       "      <td>94632.852548</td>\n",
       "    </tr>\n",
       "    <tr>\n",
       "      <th>std</th>\n",
       "      <td>59527.555167</td>\n",
       "      <td>18.480962</td>\n",
       "      <td>1.118433</td>\n",
       "      <td>42473.786988</td>\n",
       "    </tr>\n",
       "    <tr>\n",
       "      <th>min</th>\n",
       "      <td>1.000000</td>\n",
       "      <td>18.000000</td>\n",
       "      <td>0.000000</td>\n",
       "      <td>25903.000000</td>\n",
       "    </tr>\n",
       "    <tr>\n",
       "      <th>25%</th>\n",
       "      <td>51553.000000</td>\n",
       "      <td>33.000000</td>\n",
       "      <td>0.000000</td>\n",
       "      <td>59874.000000</td>\n",
       "    </tr>\n",
       "    <tr>\n",
       "      <th>50%</th>\n",
       "      <td>103105.000000</td>\n",
       "      <td>49.000000</td>\n",
       "      <td>1.000000</td>\n",
       "      <td>93547.000000</td>\n",
       "    </tr>\n",
       "    <tr>\n",
       "      <th>75%</th>\n",
       "      <td>154657.000000</td>\n",
       "      <td>66.000000</td>\n",
       "      <td>3.000000</td>\n",
       "      <td>124244.000000</td>\n",
       "    </tr>\n",
       "    <tr>\n",
       "      <th>max</th>\n",
       "      <td>206209.000000</td>\n",
       "      <td>81.000000</td>\n",
       "      <td>3.000000</td>\n",
       "      <td>593901.000000</td>\n",
       "    </tr>\n",
       "  </tbody>\n",
       "</table>\n",
       "</div>"
      ],
      "text/plain": [
       "             user_id            age  number_of_dependents         income\n",
       "count  206209.000000  206209.000000         206209.000000  206209.000000\n",
       "mean   103105.000000      49.501646              1.499823   94632.852548\n",
       "std     59527.555167      18.480962              1.118433   42473.786988\n",
       "min         1.000000      18.000000              0.000000   25903.000000\n",
       "25%     51553.000000      33.000000              0.000000   59874.000000\n",
       "50%    103105.000000      49.000000              1.000000   93547.000000\n",
       "75%    154657.000000      66.000000              3.000000  124244.000000\n",
       "max    206209.000000      81.000000              3.000000  593901.000000"
      ]
     },
     "execution_count": 130,
     "metadata": {},
     "output_type": "execute_result"
    }
   ],
   "source": [
    "df_customers_cleaned.describe()"
   ]
  },
  {
   "cell_type": "markdown",
   "id": "98b28d92-424e-431f-bd4b-f0dd8d21e9a9",
   "metadata": {},
   "source": [
    "###### age: Customers range between 18 and 81 years. With mean and median of 49. \n",
    "###### number_of_dependants: Range between 0 and 3 with most customers having 1 dependant. \n",
    "###### income: Customer income varies between 25903 and 593901 with average customer earning in the low 90's. Wide customer range in terms of income. \n",
    "###### Data set has 206209 total records which agree with order dataset. "
   ]
  },
  {
   "cell_type": "markdown",
   "id": "82fb1e49-58c2-4887-90ca-f2f17bac7979",
   "metadata": {},
   "source": [
    "### Mixed-type data"
   ]
  },
  {
   "cell_type": "code",
   "execution_count": 133,
   "id": "aaf785d2-cf40-42f6-991f-cdbe9ea763c5",
   "metadata": {},
   "outputs": [
    {
     "name": "stdout",
     "output_type": "stream",
     "text": [
      "first_name\n"
     ]
    }
   ],
   "source": [
    "for col in df_customers_cleaned.columns.tolist():\n",
    "    weird = (df_customers_cleaned[[col]].map(type) != df_customers_cleaned[[col]].iloc[0].apply(type)).any(axis = 1)\n",
    "    if len (df_customers_cleaned[weird]) > 0:\n",
    "        print (col)"
   ]
  },
  {
   "cell_type": "code",
   "execution_count": 134,
   "id": "bbc7a898-51db-467c-bcda-e5a074623c08",
   "metadata": {},
   "outputs": [],
   "source": [
    "#df_test['product_name'] = df_test['product_name'].astype('str')"
   ]
  },
  {
   "cell_type": "code",
   "execution_count": 135,
   "id": "39ac7184-e28e-465b-adaa-18519de8f9ff",
   "metadata": {},
   "outputs": [
    {
     "data": {
      "text/plain": [
       "user_id                  int64\n",
       "first_name              object\n",
       "surname                 object\n",
       "gender                  object\n",
       "state                   object\n",
       "age                      int64\n",
       "date_joined             object\n",
       "number_of_dependents     int64\n",
       "family_status           object\n",
       "income                   int64\n",
       "dtype: object"
      ]
     },
     "execution_count": 135,
     "metadata": {},
     "output_type": "execute_result"
    }
   ],
   "source": [
    "df_customers_cleaned.dtypes"
   ]
  },
  {
   "cell_type": "markdown",
   "id": "e9afb4ac-6a3e-45f7-b836-1d6c79d4f869",
   "metadata": {},
   "source": [
    "### Missing values"
   ]
  },
  {
   "cell_type": "code",
   "execution_count": 137,
   "id": "bdf653c1-6d5d-4faf-8fab-2a587bac5ff0",
   "metadata": {},
   "outputs": [
    {
     "data": {
      "text/plain": [
       "user_id                     0\n",
       "first_name              11259\n",
       "surname                     0\n",
       "gender                      0\n",
       "state                       0\n",
       "age                         0\n",
       "date_joined                 0\n",
       "number_of_dependents        0\n",
       "family_status               0\n",
       "income                      0\n",
       "dtype: int64"
      ]
     },
     "execution_count": 137,
     "metadata": {},
     "output_type": "execute_result"
    }
   ],
   "source": [
    "df_customers_cleaned.isnull().sum()"
   ]
  },
  {
   "cell_type": "markdown",
   "id": "3ba30439-9649-4885-b634-85dd0c76a106",
   "metadata": {},
   "source": [
    "### Duplicates"
   ]
  },
  {
   "cell_type": "code",
   "execution_count": 139,
   "id": "c95c0c8a-86f3-4c3e-9bad-908425545189",
   "metadata": {},
   "outputs": [],
   "source": [
    "df_customers_cleaned_duplicates = df_customers_cleaned[df_customers_cleaned.duplicated()]"
   ]
  },
  {
   "cell_type": "code",
   "execution_count": 140,
   "id": "09649c76-d506-44a4-878a-d98f01396bc7",
   "metadata": {},
   "outputs": [
    {
     "data": {
      "text/html": [
       "<div>\n",
       "<style scoped>\n",
       "    .dataframe tbody tr th:only-of-type {\n",
       "        vertical-align: middle;\n",
       "    }\n",
       "\n",
       "    .dataframe tbody tr th {\n",
       "        vertical-align: top;\n",
       "    }\n",
       "\n",
       "    .dataframe thead th {\n",
       "        text-align: right;\n",
       "    }\n",
       "</style>\n",
       "<table border=\"1\" class=\"dataframe\">\n",
       "  <thead>\n",
       "    <tr style=\"text-align: right;\">\n",
       "      <th></th>\n",
       "      <th>user_id</th>\n",
       "      <th>first_name</th>\n",
       "      <th>surname</th>\n",
       "      <th>gender</th>\n",
       "      <th>state</th>\n",
       "      <th>age</th>\n",
       "      <th>date_joined</th>\n",
       "      <th>number_of_dependents</th>\n",
       "      <th>family_status</th>\n",
       "      <th>income</th>\n",
       "    </tr>\n",
       "  </thead>\n",
       "  <tbody>\n",
       "  </tbody>\n",
       "</table>\n",
       "</div>"
      ],
      "text/plain": [
       "Empty DataFrame\n",
       "Columns: [user_id, first_name, surname, gender, state, age, date_joined, number_of_dependents, family_status, income]\n",
       "Index: []"
      ]
     },
     "execution_count": 140,
     "metadata": {},
     "output_type": "execute_result"
    }
   ],
   "source": [
    "df_customers_cleaned_duplicates"
   ]
  },
  {
   "cell_type": "markdown",
   "id": "880a55e9-28a8-4723-9f40-1a475cd57621",
   "metadata": {},
   "source": [
    "## Departments"
   ]
  },
  {
   "cell_type": "code",
   "execution_count": 142,
   "id": "347eab2c-f466-4503-a8d2-e2ec563db3db",
   "metadata": {},
   "outputs": [],
   "source": [
    "df_departments_cleaned = df_departments_wrangled.copy()"
   ]
  },
  {
   "cell_type": "markdown",
   "id": "ddb7808c-2511-4601-a59a-78923967c022",
   "metadata": {},
   "source": [
    "### Accuracy"
   ]
  },
  {
   "cell_type": "code",
   "execution_count": 144,
   "id": "a8db568e-f30a-40ef-b863-db99dcc78cf6",
   "metadata": {},
   "outputs": [
    {
     "data": {
      "text/html": [
       "<div>\n",
       "<style scoped>\n",
       "    .dataframe tbody tr th:only-of-type {\n",
       "        vertical-align: middle;\n",
       "    }\n",
       "\n",
       "    .dataframe tbody tr th {\n",
       "        vertical-align: top;\n",
       "    }\n",
       "\n",
       "    .dataframe thead th {\n",
       "        text-align: right;\n",
       "    }\n",
       "</style>\n",
       "<table border=\"1\" class=\"dataframe\">\n",
       "  <thead>\n",
       "    <tr style=\"text-align: right;\">\n",
       "      <th>department_id</th>\n",
       "      <th>department</th>\n",
       "    </tr>\n",
       "  </thead>\n",
       "  <tbody>\n",
       "    <tr>\n",
       "      <th>count</th>\n",
       "      <td>21</td>\n",
       "    </tr>\n",
       "    <tr>\n",
       "      <th>unique</th>\n",
       "      <td>21</td>\n",
       "    </tr>\n",
       "    <tr>\n",
       "      <th>top</th>\n",
       "      <td>frozen</td>\n",
       "    </tr>\n",
       "    <tr>\n",
       "      <th>freq</th>\n",
       "      <td>1</td>\n",
       "    </tr>\n",
       "  </tbody>\n",
       "</table>\n",
       "</div>"
      ],
      "text/plain": [
       "department_id department\n",
       "count                 21\n",
       "unique                21\n",
       "top               frozen\n",
       "freq                   1"
      ]
     },
     "execution_count": 144,
     "metadata": {},
     "output_type": "execute_result"
    }
   ],
   "source": [
    "df_departments_cleaned.describe()"
   ]
  },
  {
   "cell_type": "markdown",
   "id": "7924e44a-ab1c-4d28-be3c-16758a93260a",
   "metadata": {},
   "source": [
    "### Mixed-type data"
   ]
  },
  {
   "cell_type": "code",
   "execution_count": 146,
   "id": "adcf93b5-fbe5-44d0-9aa3-db99c11d1c0c",
   "metadata": {},
   "outputs": [],
   "source": [
    "for col in df_departments_cleaned.columns.tolist():\n",
    "    weird = (df_departments_cleaned[[col]].map(type) != df_departments_cleaned[[col]].iloc[0].apply(type)).any(axis = 1)\n",
    "    if len (df_departments_cleaned[weird]) > 0:\n",
    "        print (col)"
   ]
  },
  {
   "cell_type": "code",
   "execution_count": 147,
   "id": "bee130ef-e7bb-478e-9d37-af9085f56a83",
   "metadata": {},
   "outputs": [
    {
     "data": {
      "text/plain": [
       "department_id\n",
       "department    object\n",
       "dtype: object"
      ]
     },
     "execution_count": 147,
     "metadata": {},
     "output_type": "execute_result"
    }
   ],
   "source": [
    "df_departments_cleaned.dtypes"
   ]
  },
  {
   "cell_type": "markdown",
   "id": "ef804aa8-1cfd-4346-8d6c-9eb13dab9c04",
   "metadata": {},
   "source": [
    "### Missing values"
   ]
  },
  {
   "cell_type": "code",
   "execution_count": 149,
   "id": "2a9d06df-61d3-4391-b862-78ee1516b824",
   "metadata": {},
   "outputs": [
    {
     "data": {
      "text/plain": [
       "department_id\n",
       "department    0\n",
       "dtype: int64"
      ]
     },
     "execution_count": 149,
     "metadata": {},
     "output_type": "execute_result"
    }
   ],
   "source": [
    "df_departments_cleaned.isnull().sum()"
   ]
  },
  {
   "cell_type": "markdown",
   "id": "a762c413-2050-42f4-9835-7cb7154bd2cd",
   "metadata": {},
   "source": [
    "### Duplicates"
   ]
  },
  {
   "cell_type": "code",
   "execution_count": 151,
   "id": "3383ad40-efe2-49c2-a930-7898c67456cb",
   "metadata": {},
   "outputs": [],
   "source": [
    "df_departments_cleaned_duplicates = df_departments_cleaned[df_departments_cleaned.duplicated()]"
   ]
  },
  {
   "cell_type": "code",
   "execution_count": 152,
   "id": "0c359a1a-6d67-4080-b5f3-253897f6a9f3",
   "metadata": {},
   "outputs": [
    {
     "data": {
      "text/html": [
       "<div>\n",
       "<style scoped>\n",
       "    .dataframe tbody tr th:only-of-type {\n",
       "        vertical-align: middle;\n",
       "    }\n",
       "\n",
       "    .dataframe tbody tr th {\n",
       "        vertical-align: top;\n",
       "    }\n",
       "\n",
       "    .dataframe thead th {\n",
       "        text-align: right;\n",
       "    }\n",
       "</style>\n",
       "<table border=\"1\" class=\"dataframe\">\n",
       "  <thead>\n",
       "    <tr style=\"text-align: right;\">\n",
       "      <th>department_id</th>\n",
       "      <th>department</th>\n",
       "    </tr>\n",
       "  </thead>\n",
       "  <tbody>\n",
       "  </tbody>\n",
       "</table>\n",
       "</div>"
      ],
      "text/plain": [
       "Empty DataFrame\n",
       "Columns: [department]\n",
       "Index: []"
      ]
     },
     "execution_count": 152,
     "metadata": {},
     "output_type": "execute_result"
    }
   ],
   "source": [
    "df_departments_cleaned_duplicates"
   ]
  },
  {
   "cell_type": "markdown",
   "id": "dbefdd52-ec97-481f-90f8-68f82d090ff5",
   "metadata": {},
   "source": [
    "## Orders_products_prior"
   ]
  },
  {
   "cell_type": "code",
   "execution_count": 154,
   "id": "bc406ab9-1dae-4903-a450-2f915ff97142",
   "metadata": {},
   "outputs": [],
   "source": [
    "df_orders_products_prior_cleaned = df_orders_products_prior_wrangled.copy()"
   ]
  },
  {
   "cell_type": "markdown",
   "id": "7ff4e1e2-f263-4c86-aa3e-726a89de440a",
   "metadata": {},
   "source": [
    "### Accuracy"
   ]
  },
  {
   "cell_type": "code",
   "execution_count": 156,
   "id": "d71693ba-e48b-4241-bd99-dcc34a60c6ec",
   "metadata": {},
   "outputs": [
    {
     "data": {
      "text/html": [
       "<div>\n",
       "<style scoped>\n",
       "    .dataframe tbody tr th:only-of-type {\n",
       "        vertical-align: middle;\n",
       "    }\n",
       "\n",
       "    .dataframe tbody tr th {\n",
       "        vertical-align: top;\n",
       "    }\n",
       "\n",
       "    .dataframe thead th {\n",
       "        text-align: right;\n",
       "    }\n",
       "</style>\n",
       "<table border=\"1\" class=\"dataframe\">\n",
       "  <thead>\n",
       "    <tr style=\"text-align: right;\">\n",
       "      <th></th>\n",
       "      <th>order_id</th>\n",
       "      <th>product_id</th>\n",
       "      <th>add_to_cart_order</th>\n",
       "      <th>reordered</th>\n",
       "    </tr>\n",
       "  </thead>\n",
       "  <tbody>\n",
       "    <tr>\n",
       "      <th>count</th>\n",
       "      <td>3.243449e+07</td>\n",
       "      <td>3.243449e+07</td>\n",
       "      <td>3.243449e+07</td>\n",
       "      <td>3.243449e+07</td>\n",
       "    </tr>\n",
       "    <tr>\n",
       "      <th>mean</th>\n",
       "      <td>1.710749e+06</td>\n",
       "      <td>2.557634e+04</td>\n",
       "      <td>8.351076e+00</td>\n",
       "      <td>5.896975e-01</td>\n",
       "    </tr>\n",
       "    <tr>\n",
       "      <th>std</th>\n",
       "      <td>9.873007e+05</td>\n",
       "      <td>1.409669e+04</td>\n",
       "      <td>7.126671e+00</td>\n",
       "      <td>4.918886e-01</td>\n",
       "    </tr>\n",
       "    <tr>\n",
       "      <th>min</th>\n",
       "      <td>2.000000e+00</td>\n",
       "      <td>1.000000e+00</td>\n",
       "      <td>1.000000e+00</td>\n",
       "      <td>0.000000e+00</td>\n",
       "    </tr>\n",
       "    <tr>\n",
       "      <th>25%</th>\n",
       "      <td>8.559430e+05</td>\n",
       "      <td>1.353000e+04</td>\n",
       "      <td>3.000000e+00</td>\n",
       "      <td>0.000000e+00</td>\n",
       "    </tr>\n",
       "    <tr>\n",
       "      <th>50%</th>\n",
       "      <td>1.711048e+06</td>\n",
       "      <td>2.525600e+04</td>\n",
       "      <td>6.000000e+00</td>\n",
       "      <td>1.000000e+00</td>\n",
       "    </tr>\n",
       "    <tr>\n",
       "      <th>75%</th>\n",
       "      <td>2.565514e+06</td>\n",
       "      <td>3.793500e+04</td>\n",
       "      <td>1.100000e+01</td>\n",
       "      <td>1.000000e+00</td>\n",
       "    </tr>\n",
       "    <tr>\n",
       "      <th>max</th>\n",
       "      <td>3.421083e+06</td>\n",
       "      <td>4.968800e+04</td>\n",
       "      <td>1.450000e+02</td>\n",
       "      <td>1.000000e+00</td>\n",
       "    </tr>\n",
       "  </tbody>\n",
       "</table>\n",
       "</div>"
      ],
      "text/plain": [
       "           order_id    product_id  add_to_cart_order     reordered\n",
       "count  3.243449e+07  3.243449e+07       3.243449e+07  3.243449e+07\n",
       "mean   1.710749e+06  2.557634e+04       8.351076e+00  5.896975e-01\n",
       "std    9.873007e+05  1.409669e+04       7.126671e+00  4.918886e-01\n",
       "min    2.000000e+00  1.000000e+00       1.000000e+00  0.000000e+00\n",
       "25%    8.559430e+05  1.353000e+04       3.000000e+00  0.000000e+00\n",
       "50%    1.711048e+06  2.525600e+04       6.000000e+00  1.000000e+00\n",
       "75%    2.565514e+06  3.793500e+04       1.100000e+01  1.000000e+00\n",
       "max    3.421083e+06  4.968800e+04       1.450000e+02  1.000000e+00"
      ]
     },
     "execution_count": 156,
     "metadata": {},
     "output_type": "execute_result"
    }
   ],
   "source": [
    "df_orders_products_prior_cleaned.describe()"
   ]
  },
  {
   "cell_type": "markdown",
   "id": "7a64b742-5332-46c0-952f-9aaba3f53a1e",
   "metadata": {},
   "source": [
    "### Mixed-type data"
   ]
  },
  {
   "cell_type": "code",
   "execution_count": 158,
   "id": "a6007588-6a78-4b81-8d38-75854f2233db",
   "metadata": {},
   "outputs": [],
   "source": [
    "for col in df_orders_products_prior_cleaned.columns.tolist():\n",
    "    weird = (df_orders_products_prior_cleaned[[col]].map(type) != df_orders_products_prior_cleaned[[col]].iloc[0].apply(type)).any(axis = 1)\n",
    "    if len (df_orders_products_prior_cleaned[weird]) > 0:\n",
    "        print (col)"
   ]
  },
  {
   "cell_type": "code",
   "execution_count": 159,
   "id": "ba3a2525-3794-41d7-8070-d249e80fa94a",
   "metadata": {},
   "outputs": [
    {
     "data": {
      "text/plain": [
       "order_id             int64\n",
       "product_id           int64\n",
       "add_to_cart_order    int64\n",
       "reordered            int64\n",
       "dtype: object"
      ]
     },
     "execution_count": 159,
     "metadata": {},
     "output_type": "execute_result"
    }
   ],
   "source": [
    "df_orders_products_prior_cleaned.dtypes"
   ]
  },
  {
   "cell_type": "markdown",
   "id": "c10b97f8-c945-4412-a4b8-c938ed7a1bfb",
   "metadata": {},
   "source": [
    "### Missing values"
   ]
  },
  {
   "cell_type": "code",
   "execution_count": 161,
   "id": "b00af859-d80c-4c65-8d22-7627477550c1",
   "metadata": {},
   "outputs": [
    {
     "data": {
      "text/plain": [
       "order_id             0\n",
       "product_id           0\n",
       "add_to_cart_order    0\n",
       "reordered            0\n",
       "dtype: int64"
      ]
     },
     "execution_count": 161,
     "metadata": {},
     "output_type": "execute_result"
    }
   ],
   "source": [
    "df_orders_products_prior_cleaned.isnull().sum()"
   ]
  },
  {
   "cell_type": "markdown",
   "id": "b4ea20cf-9618-4600-ae46-30663cb75b3f",
   "metadata": {},
   "source": [
    "### Duplicates"
   ]
  },
  {
   "cell_type": "code",
   "execution_count": 163,
   "id": "0a97d7f7-2563-4ea1-a874-cf94033b6709",
   "metadata": {},
   "outputs": [],
   "source": [
    "df_orders_products_prior_cleaned_duplicates = df_orders_products_prior_cleaned[df_orders_products_prior_cleaned.duplicated()]"
   ]
  },
  {
   "cell_type": "code",
   "execution_count": 164,
   "id": "4b4df848-1555-46f2-941c-27996c95747f",
   "metadata": {},
   "outputs": [
    {
     "data": {
      "text/html": [
       "<div>\n",
       "<style scoped>\n",
       "    .dataframe tbody tr th:only-of-type {\n",
       "        vertical-align: middle;\n",
       "    }\n",
       "\n",
       "    .dataframe tbody tr th {\n",
       "        vertical-align: top;\n",
       "    }\n",
       "\n",
       "    .dataframe thead th {\n",
       "        text-align: right;\n",
       "    }\n",
       "</style>\n",
       "<table border=\"1\" class=\"dataframe\">\n",
       "  <thead>\n",
       "    <tr style=\"text-align: right;\">\n",
       "      <th></th>\n",
       "      <th>order_id</th>\n",
       "      <th>product_id</th>\n",
       "      <th>add_to_cart_order</th>\n",
       "      <th>reordered</th>\n",
       "    </tr>\n",
       "  </thead>\n",
       "  <tbody>\n",
       "  </tbody>\n",
       "</table>\n",
       "</div>"
      ],
      "text/plain": [
       "Empty DataFrame\n",
       "Columns: [order_id, product_id, add_to_cart_order, reordered]\n",
       "Index: []"
      ]
     },
     "execution_count": 164,
     "metadata": {},
     "output_type": "execute_result"
    }
   ],
   "source": [
    "df_orders_products_prior_cleaned_duplicates"
   ]
  },
  {
   "cell_type": "markdown",
   "id": "15b5e5dd-897e-4b55-b855-bccfbbc5ca6e",
   "metadata": {},
   "source": [
    "## Orders"
   ]
  },
  {
   "cell_type": "code",
   "execution_count": 166,
   "id": "df7c6176-4741-4456-90e6-d24272f9ae44",
   "metadata": {},
   "outputs": [],
   "source": [
    "df_orders_cleaned = df_orders_wrangled.copy()"
   ]
  },
  {
   "cell_type": "markdown",
   "id": "3dea34b6-b55d-4ab4-9dd3-d5d90b3faf87",
   "metadata": {},
   "source": [
    "### Accuracy"
   ]
  },
  {
   "cell_type": "code",
   "execution_count": 168,
   "id": "c8854f87-eb2c-40ae-8c57-8748876c792a",
   "metadata": {},
   "outputs": [
    {
     "data": {
      "text/html": [
       "<div>\n",
       "<style scoped>\n",
       "    .dataframe tbody tr th:only-of-type {\n",
       "        vertical-align: middle;\n",
       "    }\n",
       "\n",
       "    .dataframe tbody tr th {\n",
       "        vertical-align: top;\n",
       "    }\n",
       "\n",
       "    .dataframe thead th {\n",
       "        text-align: right;\n",
       "    }\n",
       "</style>\n",
       "<table border=\"1\" class=\"dataframe\">\n",
       "  <thead>\n",
       "    <tr style=\"text-align: right;\">\n",
       "      <th></th>\n",
       "      <th>order_id</th>\n",
       "      <th>user_id</th>\n",
       "      <th>order_number</th>\n",
       "      <th>orders_day_of_week</th>\n",
       "      <th>order_hour_of_day</th>\n",
       "      <th>days_since_prior_order</th>\n",
       "    </tr>\n",
       "  </thead>\n",
       "  <tbody>\n",
       "    <tr>\n",
       "      <th>count</th>\n",
       "      <td>3.421083e+06</td>\n",
       "      <td>3.421083e+06</td>\n",
       "      <td>3.421083e+06</td>\n",
       "      <td>3.421083e+06</td>\n",
       "      <td>3.421083e+06</td>\n",
       "      <td>3.214874e+06</td>\n",
       "    </tr>\n",
       "    <tr>\n",
       "      <th>mean</th>\n",
       "      <td>1.710542e+06</td>\n",
       "      <td>1.029782e+05</td>\n",
       "      <td>1.715486e+01</td>\n",
       "      <td>2.776219e+00</td>\n",
       "      <td>1.345202e+01</td>\n",
       "      <td>1.111484e+01</td>\n",
       "    </tr>\n",
       "    <tr>\n",
       "      <th>std</th>\n",
       "      <td>9.875817e+05</td>\n",
       "      <td>5.953372e+04</td>\n",
       "      <td>1.773316e+01</td>\n",
       "      <td>2.046829e+00</td>\n",
       "      <td>4.226088e+00</td>\n",
       "      <td>9.206737e+00</td>\n",
       "    </tr>\n",
       "    <tr>\n",
       "      <th>min</th>\n",
       "      <td>1.000000e+00</td>\n",
       "      <td>1.000000e+00</td>\n",
       "      <td>1.000000e+00</td>\n",
       "      <td>0.000000e+00</td>\n",
       "      <td>0.000000e+00</td>\n",
       "      <td>0.000000e+00</td>\n",
       "    </tr>\n",
       "    <tr>\n",
       "      <th>25%</th>\n",
       "      <td>8.552715e+05</td>\n",
       "      <td>5.139400e+04</td>\n",
       "      <td>5.000000e+00</td>\n",
       "      <td>1.000000e+00</td>\n",
       "      <td>1.000000e+01</td>\n",
       "      <td>4.000000e+00</td>\n",
       "    </tr>\n",
       "    <tr>\n",
       "      <th>50%</th>\n",
       "      <td>1.710542e+06</td>\n",
       "      <td>1.026890e+05</td>\n",
       "      <td>1.100000e+01</td>\n",
       "      <td>3.000000e+00</td>\n",
       "      <td>1.300000e+01</td>\n",
       "      <td>7.000000e+00</td>\n",
       "    </tr>\n",
       "    <tr>\n",
       "      <th>75%</th>\n",
       "      <td>2.565812e+06</td>\n",
       "      <td>1.543850e+05</td>\n",
       "      <td>2.300000e+01</td>\n",
       "      <td>5.000000e+00</td>\n",
       "      <td>1.600000e+01</td>\n",
       "      <td>1.500000e+01</td>\n",
       "    </tr>\n",
       "    <tr>\n",
       "      <th>max</th>\n",
       "      <td>3.421083e+06</td>\n",
       "      <td>2.062090e+05</td>\n",
       "      <td>1.000000e+02</td>\n",
       "      <td>6.000000e+00</td>\n",
       "      <td>2.300000e+01</td>\n",
       "      <td>3.000000e+01</td>\n",
       "    </tr>\n",
       "  </tbody>\n",
       "</table>\n",
       "</div>"
      ],
      "text/plain": [
       "           order_id       user_id  order_number  orders_day_of_week  \\\n",
       "count  3.421083e+06  3.421083e+06  3.421083e+06        3.421083e+06   \n",
       "mean   1.710542e+06  1.029782e+05  1.715486e+01        2.776219e+00   \n",
       "std    9.875817e+05  5.953372e+04  1.773316e+01        2.046829e+00   \n",
       "min    1.000000e+00  1.000000e+00  1.000000e+00        0.000000e+00   \n",
       "25%    8.552715e+05  5.139400e+04  5.000000e+00        1.000000e+00   \n",
       "50%    1.710542e+06  1.026890e+05  1.100000e+01        3.000000e+00   \n",
       "75%    2.565812e+06  1.543850e+05  2.300000e+01        5.000000e+00   \n",
       "max    3.421083e+06  2.062090e+05  1.000000e+02        6.000000e+00   \n",
       "\n",
       "       order_hour_of_day  days_since_prior_order  \n",
       "count       3.421083e+06            3.214874e+06  \n",
       "mean        1.345202e+01            1.111484e+01  \n",
       "std         4.226088e+00            9.206737e+00  \n",
       "min         0.000000e+00            0.000000e+00  \n",
       "25%         1.000000e+01            4.000000e+00  \n",
       "50%         1.300000e+01            7.000000e+00  \n",
       "75%         1.600000e+01            1.500000e+01  \n",
       "max         2.300000e+01            3.000000e+01  "
      ]
     },
     "execution_count": 168,
     "metadata": {},
     "output_type": "execute_result"
    }
   ],
   "source": [
    "df_orders_cleaned.describe()"
   ]
  },
  {
   "cell_type": "markdown",
   "id": "21b26547-5802-41d8-b14d-1a29787e64cd",
   "metadata": {},
   "source": [
    "###### order_id: Order id's range from 1 to 3421083 with a unique order id assigned sequentially to each record.\n",
    "###### user_id: Customer id's range from 1 to 206209.\n",
    "###### order_number: Users placed between 1 and 100 orders with an average of 11 orders per user.\n",
    "###### orders_day_of_week: Orders are placed throughout the week, but more come in between Sunday and Thursday, with the slightly more being placed earlier in the week.\n",
    "###### order_hour_of_day: Orders are placed throughout the day, but more come in between 10am and 4pm with most being placed in the early afternoon.\n",
    "###### days_since_last_order: Users take between 0 and 30 days to place subsequent orders, with most taking about a week or slightly more to palce an order. Count for this column is 206209 less than the others. This is equal to the max for user_id."
   ]
  },
  {
   "cell_type": "markdown",
   "id": "7f52df97-4d26-441f-bc30-691b5d59a9f7",
   "metadata": {},
   "source": [
    "### Mixed-type data"
   ]
  },
  {
   "cell_type": "code",
   "execution_count": 171,
   "id": "3de927e0-5dc8-489f-ad0d-52ab8421cbce",
   "metadata": {},
   "outputs": [],
   "source": [
    "for col in df_orders_cleaned.columns.tolist():\n",
    "    weird = (df_orders_cleaned[[col]].map(type) != df_orders_cleaned[[col]].iloc[0].apply(type)).any(axis = 1)\n",
    "    if len (df_orders_cleaned[weird]) > 0:\n",
    "        print (col)"
   ]
  },
  {
   "cell_type": "code",
   "execution_count": 172,
   "id": "1eb991c1-874d-43da-a67e-4fdc618bb58a",
   "metadata": {},
   "outputs": [
    {
     "data": {
      "text/plain": [
       "order_id                    int64\n",
       "user_id                     int64\n",
       "order_number                int64\n",
       "orders_day_of_week          int64\n",
       "order_hour_of_day           int64\n",
       "days_since_prior_order    float64\n",
       "dtype: object"
      ]
     },
     "execution_count": 172,
     "metadata": {},
     "output_type": "execute_result"
    }
   ],
   "source": [
    "df_orders_cleaned.dtypes"
   ]
  },
  {
   "cell_type": "markdown",
   "id": "5c7e2123-1f9c-4fe2-ba1e-2dd953f8f6a1",
   "metadata": {},
   "source": [
    "### Missing values"
   ]
  },
  {
   "cell_type": "code",
   "execution_count": 174,
   "id": "5c384da3-6bd7-4e15-b8e2-2f5b9a4ef530",
   "metadata": {},
   "outputs": [
    {
     "data": {
      "text/plain": [
       "order_id                       0\n",
       "user_id                        0\n",
       "order_number                   0\n",
       "orders_day_of_week             0\n",
       "order_hour_of_day              0\n",
       "days_since_prior_order    206209\n",
       "dtype: int64"
      ]
     },
     "execution_count": 174,
     "metadata": {},
     "output_type": "execute_result"
    }
   ],
   "source": [
    "df_orders_cleaned.isnull().sum()"
   ]
  },
  {
   "cell_type": "code",
   "execution_count": 175,
   "id": "e4b80ec3-bd86-49c1-9815-8ba70ddad904",
   "metadata": {},
   "outputs": [
    {
     "data": {
      "text/html": [
       "<div>\n",
       "<style scoped>\n",
       "    .dataframe tbody tr th:only-of-type {\n",
       "        vertical-align: middle;\n",
       "    }\n",
       "\n",
       "    .dataframe tbody tr th {\n",
       "        vertical-align: top;\n",
       "    }\n",
       "\n",
       "    .dataframe thead th {\n",
       "        text-align: right;\n",
       "    }\n",
       "</style>\n",
       "<table border=\"1\" class=\"dataframe\">\n",
       "  <thead>\n",
       "    <tr style=\"text-align: right;\">\n",
       "      <th></th>\n",
       "      <th>order_id</th>\n",
       "      <th>user_id</th>\n",
       "      <th>order_number</th>\n",
       "      <th>orders_day_of_week</th>\n",
       "      <th>order_hour_of_day</th>\n",
       "      <th>days_since_prior_order</th>\n",
       "    </tr>\n",
       "  </thead>\n",
       "  <tbody>\n",
       "    <tr>\n",
       "      <th>0</th>\n",
       "      <td>2539329</td>\n",
       "      <td>1</td>\n",
       "      <td>1</td>\n",
       "      <td>2</td>\n",
       "      <td>8</td>\n",
       "      <td>NaN</td>\n",
       "    </tr>\n",
       "    <tr>\n",
       "      <th>11</th>\n",
       "      <td>2168274</td>\n",
       "      <td>2</td>\n",
       "      <td>1</td>\n",
       "      <td>2</td>\n",
       "      <td>11</td>\n",
       "      <td>NaN</td>\n",
       "    </tr>\n",
       "    <tr>\n",
       "      <th>26</th>\n",
       "      <td>1374495</td>\n",
       "      <td>3</td>\n",
       "      <td>1</td>\n",
       "      <td>1</td>\n",
       "      <td>14</td>\n",
       "      <td>NaN</td>\n",
       "    </tr>\n",
       "    <tr>\n",
       "      <th>39</th>\n",
       "      <td>3343014</td>\n",
       "      <td>4</td>\n",
       "      <td>1</td>\n",
       "      <td>6</td>\n",
       "      <td>11</td>\n",
       "      <td>NaN</td>\n",
       "    </tr>\n",
       "    <tr>\n",
       "      <th>45</th>\n",
       "      <td>2717275</td>\n",
       "      <td>5</td>\n",
       "      <td>1</td>\n",
       "      <td>3</td>\n",
       "      <td>12</td>\n",
       "      <td>NaN</td>\n",
       "    </tr>\n",
       "    <tr>\n",
       "      <th>...</th>\n",
       "      <td>...</td>\n",
       "      <td>...</td>\n",
       "      <td>...</td>\n",
       "      <td>...</td>\n",
       "      <td>...</td>\n",
       "      <td>...</td>\n",
       "    </tr>\n",
       "    <tr>\n",
       "      <th>3420930</th>\n",
       "      <td>969311</td>\n",
       "      <td>206205</td>\n",
       "      <td>1</td>\n",
       "      <td>4</td>\n",
       "      <td>12</td>\n",
       "      <td>NaN</td>\n",
       "    </tr>\n",
       "    <tr>\n",
       "      <th>3420934</th>\n",
       "      <td>3189322</td>\n",
       "      <td>206206</td>\n",
       "      <td>1</td>\n",
       "      <td>3</td>\n",
       "      <td>18</td>\n",
       "      <td>NaN</td>\n",
       "    </tr>\n",
       "    <tr>\n",
       "      <th>3421002</th>\n",
       "      <td>2166133</td>\n",
       "      <td>206207</td>\n",
       "      <td>1</td>\n",
       "      <td>6</td>\n",
       "      <td>19</td>\n",
       "      <td>NaN</td>\n",
       "    </tr>\n",
       "    <tr>\n",
       "      <th>3421019</th>\n",
       "      <td>2227043</td>\n",
       "      <td>206208</td>\n",
       "      <td>1</td>\n",
       "      <td>1</td>\n",
       "      <td>15</td>\n",
       "      <td>NaN</td>\n",
       "    </tr>\n",
       "    <tr>\n",
       "      <th>3421069</th>\n",
       "      <td>3154581</td>\n",
       "      <td>206209</td>\n",
       "      <td>1</td>\n",
       "      <td>3</td>\n",
       "      <td>11</td>\n",
       "      <td>NaN</td>\n",
       "    </tr>\n",
       "  </tbody>\n",
       "</table>\n",
       "<p>206209 rows × 6 columns</p>\n",
       "</div>"
      ],
      "text/plain": [
       "         order_id  user_id  order_number  orders_day_of_week  \\\n",
       "0         2539329        1             1                   2   \n",
       "11        2168274        2             1                   2   \n",
       "26        1374495        3             1                   1   \n",
       "39        3343014        4             1                   6   \n",
       "45        2717275        5             1                   3   \n",
       "...           ...      ...           ...                 ...   \n",
       "3420930    969311   206205             1                   4   \n",
       "3420934   3189322   206206             1                   3   \n",
       "3421002   2166133   206207             1                   6   \n",
       "3421019   2227043   206208             1                   1   \n",
       "3421069   3154581   206209             1                   3   \n",
       "\n",
       "         order_hour_of_day  days_since_prior_order  \n",
       "0                        8                     NaN  \n",
       "11                      11                     NaN  \n",
       "26                      14                     NaN  \n",
       "39                      11                     NaN  \n",
       "45                      12                     NaN  \n",
       "...                    ...                     ...  \n",
       "3420930                 12                     NaN  \n",
       "3420934                 18                     NaN  \n",
       "3421002                 19                     NaN  \n",
       "3421019                 15                     NaN  \n",
       "3421069                 11                     NaN  \n",
       "\n",
       "[206209 rows x 6 columns]"
      ]
     },
     "execution_count": 175,
     "metadata": {},
     "output_type": "execute_result"
    }
   ],
   "source": [
    "df_orders_cleaned[(df_orders_cleaned['order_number'] == 1) & (df_orders_cleaned['days_since_prior_order'].isnull() == True)]"
   ]
  },
  {
   "cell_type": "code",
   "execution_count": 176,
   "id": "3f16351a-cb78-475e-941d-3b3ec8dde87f",
   "metadata": {},
   "outputs": [],
   "source": [
    "df_orders_cleaned['first_order'] = df_orders_cleaned['days_since_prior_order'].isna()"
   ]
  },
  {
   "cell_type": "code",
   "execution_count": 177,
   "id": "66f8af92-bc48-49bc-9438-064777b61c72",
   "metadata": {},
   "outputs": [
    {
     "data": {
      "text/html": [
       "<div>\n",
       "<style scoped>\n",
       "    .dataframe tbody tr th:only-of-type {\n",
       "        vertical-align: middle;\n",
       "    }\n",
       "\n",
       "    .dataframe tbody tr th {\n",
       "        vertical-align: top;\n",
       "    }\n",
       "\n",
       "    .dataframe thead th {\n",
       "        text-align: right;\n",
       "    }\n",
       "</style>\n",
       "<table border=\"1\" class=\"dataframe\">\n",
       "  <thead>\n",
       "    <tr style=\"text-align: right;\">\n",
       "      <th></th>\n",
       "      <th>order_id</th>\n",
       "      <th>user_id</th>\n",
       "      <th>order_number</th>\n",
       "      <th>orders_day_of_week</th>\n",
       "      <th>order_hour_of_day</th>\n",
       "      <th>days_since_prior_order</th>\n",
       "      <th>first_order</th>\n",
       "    </tr>\n",
       "  </thead>\n",
       "  <tbody>\n",
       "    <tr>\n",
       "      <th>0</th>\n",
       "      <td>2539329</td>\n",
       "      <td>1</td>\n",
       "      <td>1</td>\n",
       "      <td>2</td>\n",
       "      <td>8</td>\n",
       "      <td>NaN</td>\n",
       "      <td>True</td>\n",
       "    </tr>\n",
       "    <tr>\n",
       "      <th>11</th>\n",
       "      <td>2168274</td>\n",
       "      <td>2</td>\n",
       "      <td>1</td>\n",
       "      <td>2</td>\n",
       "      <td>11</td>\n",
       "      <td>NaN</td>\n",
       "      <td>True</td>\n",
       "    </tr>\n",
       "    <tr>\n",
       "      <th>26</th>\n",
       "      <td>1374495</td>\n",
       "      <td>3</td>\n",
       "      <td>1</td>\n",
       "      <td>1</td>\n",
       "      <td>14</td>\n",
       "      <td>NaN</td>\n",
       "      <td>True</td>\n",
       "    </tr>\n",
       "    <tr>\n",
       "      <th>39</th>\n",
       "      <td>3343014</td>\n",
       "      <td>4</td>\n",
       "      <td>1</td>\n",
       "      <td>6</td>\n",
       "      <td>11</td>\n",
       "      <td>NaN</td>\n",
       "      <td>True</td>\n",
       "    </tr>\n",
       "    <tr>\n",
       "      <th>45</th>\n",
       "      <td>2717275</td>\n",
       "      <td>5</td>\n",
       "      <td>1</td>\n",
       "      <td>3</td>\n",
       "      <td>12</td>\n",
       "      <td>NaN</td>\n",
       "      <td>True</td>\n",
       "    </tr>\n",
       "    <tr>\n",
       "      <th>...</th>\n",
       "      <td>...</td>\n",
       "      <td>...</td>\n",
       "      <td>...</td>\n",
       "      <td>...</td>\n",
       "      <td>...</td>\n",
       "      <td>...</td>\n",
       "      <td>...</td>\n",
       "    </tr>\n",
       "    <tr>\n",
       "      <th>3420930</th>\n",
       "      <td>969311</td>\n",
       "      <td>206205</td>\n",
       "      <td>1</td>\n",
       "      <td>4</td>\n",
       "      <td>12</td>\n",
       "      <td>NaN</td>\n",
       "      <td>True</td>\n",
       "    </tr>\n",
       "    <tr>\n",
       "      <th>3420934</th>\n",
       "      <td>3189322</td>\n",
       "      <td>206206</td>\n",
       "      <td>1</td>\n",
       "      <td>3</td>\n",
       "      <td>18</td>\n",
       "      <td>NaN</td>\n",
       "      <td>True</td>\n",
       "    </tr>\n",
       "    <tr>\n",
       "      <th>3421002</th>\n",
       "      <td>2166133</td>\n",
       "      <td>206207</td>\n",
       "      <td>1</td>\n",
       "      <td>6</td>\n",
       "      <td>19</td>\n",
       "      <td>NaN</td>\n",
       "      <td>True</td>\n",
       "    </tr>\n",
       "    <tr>\n",
       "      <th>3421019</th>\n",
       "      <td>2227043</td>\n",
       "      <td>206208</td>\n",
       "      <td>1</td>\n",
       "      <td>1</td>\n",
       "      <td>15</td>\n",
       "      <td>NaN</td>\n",
       "      <td>True</td>\n",
       "    </tr>\n",
       "    <tr>\n",
       "      <th>3421069</th>\n",
       "      <td>3154581</td>\n",
       "      <td>206209</td>\n",
       "      <td>1</td>\n",
       "      <td>3</td>\n",
       "      <td>11</td>\n",
       "      <td>NaN</td>\n",
       "      <td>True</td>\n",
       "    </tr>\n",
       "  </tbody>\n",
       "</table>\n",
       "<p>206209 rows × 7 columns</p>\n",
       "</div>"
      ],
      "text/plain": [
       "         order_id  user_id  order_number  orders_day_of_week  \\\n",
       "0         2539329        1             1                   2   \n",
       "11        2168274        2             1                   2   \n",
       "26        1374495        3             1                   1   \n",
       "39        3343014        4             1                   6   \n",
       "45        2717275        5             1                   3   \n",
       "...           ...      ...           ...                 ...   \n",
       "3420930    969311   206205             1                   4   \n",
       "3420934   3189322   206206             1                   3   \n",
       "3421002   2166133   206207             1                   6   \n",
       "3421019   2227043   206208             1                   1   \n",
       "3421069   3154581   206209             1                   3   \n",
       "\n",
       "         order_hour_of_day  days_since_prior_order  first_order  \n",
       "0                        8                     NaN         True  \n",
       "11                      11                     NaN         True  \n",
       "26                      14                     NaN         True  \n",
       "39                      11                     NaN         True  \n",
       "45                      12                     NaN         True  \n",
       "...                    ...                     ...          ...  \n",
       "3420930                 12                     NaN         True  \n",
       "3420934                 18                     NaN         True  \n",
       "3421002                 19                     NaN         True  \n",
       "3421019                 15                     NaN         True  \n",
       "3421069                 11                     NaN         True  \n",
       "\n",
       "[206209 rows x 7 columns]"
      ]
     },
     "execution_count": 177,
     "metadata": {},
     "output_type": "execute_result"
    }
   ],
   "source": [
    "df_orders_cleaned[(df_orders_cleaned['order_number'] == 1) & (df_orders_cleaned['days_since_prior_order'].isnull() == True) & (df_orders_cleaned['first_order'] == True)] "
   ]
  },
  {
   "cell_type": "code",
   "execution_count": 178,
   "id": "1401cf33-dbd8-4b07-a205-8037463ad7fe",
   "metadata": {},
   "outputs": [
    {
     "data": {
      "text/plain": [
       "first_order\n",
       "False    3214874\n",
       "True      206209\n",
       "Name: count, dtype: int64"
      ]
     },
     "execution_count": 178,
     "metadata": {},
     "output_type": "execute_result"
    }
   ],
   "source": [
    "df_orders_cleaned['first_order'].value_counts()"
   ]
  },
  {
   "cell_type": "markdown",
   "id": "180bbca8-e8d5-46ae-b48c-4c80bff1b863",
   "metadata": {},
   "source": [
    "### Duplicates"
   ]
  },
  {
   "cell_type": "code",
   "execution_count": 180,
   "id": "248b26b6-25a3-4a61-89f4-b52f84da6261",
   "metadata": {},
   "outputs": [],
   "source": [
    "df_orders_cleaned_duplicates = df_orders_cleaned[df_orders_cleaned.duplicated()]"
   ]
  },
  {
   "cell_type": "code",
   "execution_count": 181,
   "id": "bcab7357-7090-4f2a-910b-e59e133d75b9",
   "metadata": {},
   "outputs": [
    {
     "data": {
      "text/html": [
       "<div>\n",
       "<style scoped>\n",
       "    .dataframe tbody tr th:only-of-type {\n",
       "        vertical-align: middle;\n",
       "    }\n",
       "\n",
       "    .dataframe tbody tr th {\n",
       "        vertical-align: top;\n",
       "    }\n",
       "\n",
       "    .dataframe thead th {\n",
       "        text-align: right;\n",
       "    }\n",
       "</style>\n",
       "<table border=\"1\" class=\"dataframe\">\n",
       "  <thead>\n",
       "    <tr style=\"text-align: right;\">\n",
       "      <th></th>\n",
       "      <th>order_id</th>\n",
       "      <th>user_id</th>\n",
       "      <th>order_number</th>\n",
       "      <th>orders_day_of_week</th>\n",
       "      <th>order_hour_of_day</th>\n",
       "      <th>days_since_prior_order</th>\n",
       "      <th>first_order</th>\n",
       "    </tr>\n",
       "  </thead>\n",
       "  <tbody>\n",
       "  </tbody>\n",
       "</table>\n",
       "</div>"
      ],
      "text/plain": [
       "Empty DataFrame\n",
       "Columns: [order_id, user_id, order_number, orders_day_of_week, order_hour_of_day, days_since_prior_order, first_order]\n",
       "Index: []"
      ]
     },
     "execution_count": 181,
     "metadata": {},
     "output_type": "execute_result"
    }
   ],
   "source": [
    "df_orders_cleaned_duplicates"
   ]
  },
  {
   "cell_type": "markdown",
   "id": "acc20e88-d5f0-4cc1-aaa1-4c7bfeeacec7",
   "metadata": {},
   "source": [
    "## Products"
   ]
  },
  {
   "cell_type": "code",
   "execution_count": 183,
   "id": "78442adc-67f6-4464-9b55-53fc59ea6008",
   "metadata": {},
   "outputs": [],
   "source": [
    "df_products_cleaned = df_products_wrangled.copy()"
   ]
  },
  {
   "cell_type": "markdown",
   "id": "846a77f2-ba0e-4a2c-9137-eec370c2cd41",
   "metadata": {},
   "source": [
    "### Accuracy"
   ]
  },
  {
   "cell_type": "code",
   "execution_count": 185,
   "id": "6e3194d2-de06-4758-8c3c-ebfb088d34da",
   "metadata": {},
   "outputs": [
    {
     "data": {
      "text/html": [
       "<div>\n",
       "<style scoped>\n",
       "    .dataframe tbody tr th:only-of-type {\n",
       "        vertical-align: middle;\n",
       "    }\n",
       "\n",
       "    .dataframe tbody tr th {\n",
       "        vertical-align: top;\n",
       "    }\n",
       "\n",
       "    .dataframe thead th {\n",
       "        text-align: right;\n",
       "    }\n",
       "</style>\n",
       "<table border=\"1\" class=\"dataframe\">\n",
       "  <thead>\n",
       "    <tr style=\"text-align: right;\">\n",
       "      <th></th>\n",
       "      <th>product_id</th>\n",
       "      <th>aisle_id</th>\n",
       "      <th>department_id</th>\n",
       "      <th>prices</th>\n",
       "    </tr>\n",
       "  </thead>\n",
       "  <tbody>\n",
       "    <tr>\n",
       "      <th>count</th>\n",
       "      <td>49693.000000</td>\n",
       "      <td>49693.000000</td>\n",
       "      <td>49693.000000</td>\n",
       "      <td>49693.000000</td>\n",
       "    </tr>\n",
       "    <tr>\n",
       "      <th>mean</th>\n",
       "      <td>24844.345139</td>\n",
       "      <td>67.770249</td>\n",
       "      <td>11.728433</td>\n",
       "      <td>9.994136</td>\n",
       "    </tr>\n",
       "    <tr>\n",
       "      <th>std</th>\n",
       "      <td>14343.717401</td>\n",
       "      <td>38.316774</td>\n",
       "      <td>5.850282</td>\n",
       "      <td>453.519686</td>\n",
       "    </tr>\n",
       "    <tr>\n",
       "      <th>min</th>\n",
       "      <td>1.000000</td>\n",
       "      <td>1.000000</td>\n",
       "      <td>1.000000</td>\n",
       "      <td>1.000000</td>\n",
       "    </tr>\n",
       "    <tr>\n",
       "      <th>25%</th>\n",
       "      <td>12423.000000</td>\n",
       "      <td>35.000000</td>\n",
       "      <td>7.000000</td>\n",
       "      <td>4.100000</td>\n",
       "    </tr>\n",
       "    <tr>\n",
       "      <th>50%</th>\n",
       "      <td>24845.000000</td>\n",
       "      <td>69.000000</td>\n",
       "      <td>13.000000</td>\n",
       "      <td>7.100000</td>\n",
       "    </tr>\n",
       "    <tr>\n",
       "      <th>75%</th>\n",
       "      <td>37265.000000</td>\n",
       "      <td>100.000000</td>\n",
       "      <td>17.000000</td>\n",
       "      <td>11.200000</td>\n",
       "    </tr>\n",
       "    <tr>\n",
       "      <th>max</th>\n",
       "      <td>49688.000000</td>\n",
       "      <td>134.000000</td>\n",
       "      <td>21.000000</td>\n",
       "      <td>99999.000000</td>\n",
       "    </tr>\n",
       "  </tbody>\n",
       "</table>\n",
       "</div>"
      ],
      "text/plain": [
       "         product_id      aisle_id  department_id        prices\n",
       "count  49693.000000  49693.000000   49693.000000  49693.000000\n",
       "mean   24844.345139     67.770249      11.728433      9.994136\n",
       "std    14343.717401     38.316774       5.850282    453.519686\n",
       "min        1.000000      1.000000       1.000000      1.000000\n",
       "25%    12423.000000     35.000000       7.000000      4.100000\n",
       "50%    24845.000000     69.000000      13.000000      7.100000\n",
       "75%    37265.000000    100.000000      17.000000     11.200000\n",
       "max    49688.000000    134.000000      21.000000  99999.000000"
      ]
     },
     "execution_count": 185,
     "metadata": {},
     "output_type": "execute_result"
    }
   ],
   "source": [
    "df_products_cleaned.describe()"
   ]
  },
  {
   "cell_type": "markdown",
   "id": "888a5a01-5976-444b-b792-9d13e56f3bd5",
   "metadata": {},
   "source": [
    "### Mixed-type data"
   ]
  },
  {
   "cell_type": "code",
   "execution_count": 187,
   "id": "a5050a29-6e12-42de-a67a-16efbbf4a7be",
   "metadata": {},
   "outputs": [
    {
     "name": "stdout",
     "output_type": "stream",
     "text": [
      "product_name\n"
     ]
    }
   ],
   "source": [
    "for col in df_products_cleaned.columns.tolist():\n",
    "    weird = (df_products_cleaned[[col]].map(type) != df_products_cleaned[[col]].iloc[0].apply(type)).any(axis = 1)\n",
    "    if len (df_products_cleaned[weird]) > 0:\n",
    "        print (col)"
   ]
  },
  {
   "cell_type": "code",
   "execution_count": 188,
   "id": "2cf35656-6d2b-4b48-95d6-c6b389d3b006",
   "metadata": {},
   "outputs": [],
   "source": [
    "#df_test['product_name'] = df_test['product_name'].astype('str')"
   ]
  },
  {
   "cell_type": "code",
   "execution_count": 189,
   "id": "b023822f-c67c-44ca-a974-2ee460caac82",
   "metadata": {},
   "outputs": [
    {
     "data": {
      "text/plain": [
       "product_id         int64\n",
       "product_name      object\n",
       "aisle_id           int64\n",
       "department_id      int64\n",
       "prices           float64\n",
       "dtype: object"
      ]
     },
     "execution_count": 189,
     "metadata": {},
     "output_type": "execute_result"
    }
   ],
   "source": [
    "df_products_cleaned.dtypes"
   ]
  },
  {
   "cell_type": "markdown",
   "id": "534f540a-d44e-430b-b3b6-69b19484d3f2",
   "metadata": {},
   "source": [
    "### Missing values"
   ]
  },
  {
   "cell_type": "code",
   "execution_count": 191,
   "id": "b019a06c-6233-455a-87ce-26f8a6fae61e",
   "metadata": {},
   "outputs": [
    {
     "data": {
      "text/plain": [
       "product_id        0\n",
       "product_name     16\n",
       "aisle_id          0\n",
       "department_id     0\n",
       "prices            0\n",
       "dtype: int64"
      ]
     },
     "execution_count": 191,
     "metadata": {},
     "output_type": "execute_result"
    }
   ],
   "source": [
    "df_products_cleaned.isnull().sum()"
   ]
  },
  {
   "cell_type": "code",
   "execution_count": 192,
   "id": "2ece73d0-0079-47fb-b266-d4eec4a5c92b",
   "metadata": {},
   "outputs": [],
   "source": [
    "df_products_cleaned_null = df_products_cleaned[df_products_cleaned['product_name']. isnull() == True]"
   ]
  },
  {
   "cell_type": "code",
   "execution_count": 193,
   "id": "2c8377d8-4f53-4487-85d5-cb6eff2e145a",
   "metadata": {},
   "outputs": [
    {
     "data": {
      "text/html": [
       "<div>\n",
       "<style scoped>\n",
       "    .dataframe tbody tr th:only-of-type {\n",
       "        vertical-align: middle;\n",
       "    }\n",
       "\n",
       "    .dataframe tbody tr th {\n",
       "        vertical-align: top;\n",
       "    }\n",
       "\n",
       "    .dataframe thead th {\n",
       "        text-align: right;\n",
       "    }\n",
       "</style>\n",
       "<table border=\"1\" class=\"dataframe\">\n",
       "  <thead>\n",
       "    <tr style=\"text-align: right;\">\n",
       "      <th></th>\n",
       "      <th>product_id</th>\n",
       "      <th>product_name</th>\n",
       "      <th>aisle_id</th>\n",
       "      <th>department_id</th>\n",
       "      <th>prices</th>\n",
       "    </tr>\n",
       "  </thead>\n",
       "  <tbody>\n",
       "    <tr>\n",
       "      <th>33</th>\n",
       "      <td>34</td>\n",
       "      <td>NaN</td>\n",
       "      <td>121</td>\n",
       "      <td>14</td>\n",
       "      <td>12.2</td>\n",
       "    </tr>\n",
       "    <tr>\n",
       "      <th>68</th>\n",
       "      <td>69</td>\n",
       "      <td>NaN</td>\n",
       "      <td>26</td>\n",
       "      <td>7</td>\n",
       "      <td>11.8</td>\n",
       "    </tr>\n",
       "    <tr>\n",
       "      <th>115</th>\n",
       "      <td>116</td>\n",
       "      <td>NaN</td>\n",
       "      <td>93</td>\n",
       "      <td>3</td>\n",
       "      <td>10.8</td>\n",
       "    </tr>\n",
       "    <tr>\n",
       "      <th>261</th>\n",
       "      <td>262</td>\n",
       "      <td>NaN</td>\n",
       "      <td>110</td>\n",
       "      <td>13</td>\n",
       "      <td>12.1</td>\n",
       "    </tr>\n",
       "    <tr>\n",
       "      <th>525</th>\n",
       "      <td>525</td>\n",
       "      <td>NaN</td>\n",
       "      <td>109</td>\n",
       "      <td>11</td>\n",
       "      <td>1.2</td>\n",
       "    </tr>\n",
       "    <tr>\n",
       "      <th>1511</th>\n",
       "      <td>1511</td>\n",
       "      <td>NaN</td>\n",
       "      <td>84</td>\n",
       "      <td>16</td>\n",
       "      <td>14.3</td>\n",
       "    </tr>\n",
       "    <tr>\n",
       "      <th>1780</th>\n",
       "      <td>1780</td>\n",
       "      <td>NaN</td>\n",
       "      <td>126</td>\n",
       "      <td>11</td>\n",
       "      <td>12.3</td>\n",
       "    </tr>\n",
       "    <tr>\n",
       "      <th>2240</th>\n",
       "      <td>2240</td>\n",
       "      <td>NaN</td>\n",
       "      <td>52</td>\n",
       "      <td>1</td>\n",
       "      <td>14.2</td>\n",
       "    </tr>\n",
       "    <tr>\n",
       "      <th>2586</th>\n",
       "      <td>2586</td>\n",
       "      <td>NaN</td>\n",
       "      <td>104</td>\n",
       "      <td>13</td>\n",
       "      <td>12.4</td>\n",
       "    </tr>\n",
       "    <tr>\n",
       "      <th>3159</th>\n",
       "      <td>3159</td>\n",
       "      <td>NaN</td>\n",
       "      <td>126</td>\n",
       "      <td>11</td>\n",
       "      <td>13.1</td>\n",
       "    </tr>\n",
       "    <tr>\n",
       "      <th>3230</th>\n",
       "      <td>3230</td>\n",
       "      <td>NaN</td>\n",
       "      <td>120</td>\n",
       "      <td>16</td>\n",
       "      <td>14.4</td>\n",
       "    </tr>\n",
       "    <tr>\n",
       "      <th>3736</th>\n",
       "      <td>3736</td>\n",
       "      <td>NaN</td>\n",
       "      <td>41</td>\n",
       "      <td>8</td>\n",
       "      <td>14.8</td>\n",
       "    </tr>\n",
       "    <tr>\n",
       "      <th>4283</th>\n",
       "      <td>4283</td>\n",
       "      <td>NaN</td>\n",
       "      <td>77</td>\n",
       "      <td>7</td>\n",
       "      <td>14.4</td>\n",
       "    </tr>\n",
       "    <tr>\n",
       "      <th>4790</th>\n",
       "      <td>4790</td>\n",
       "      <td>NaN</td>\n",
       "      <td>91</td>\n",
       "      <td>16</td>\n",
       "      <td>14.5</td>\n",
       "    </tr>\n",
       "    <tr>\n",
       "      <th>38187</th>\n",
       "      <td>38183</td>\n",
       "      <td>NaN</td>\n",
       "      <td>39</td>\n",
       "      <td>12</td>\n",
       "      <td>20.9</td>\n",
       "    </tr>\n",
       "    <tr>\n",
       "      <th>40444</th>\n",
       "      <td>40440</td>\n",
       "      <td>NaN</td>\n",
       "      <td>120</td>\n",
       "      <td>16</td>\n",
       "      <td>14.8</td>\n",
       "    </tr>\n",
       "  </tbody>\n",
       "</table>\n",
       "</div>"
      ],
      "text/plain": [
       "       product_id product_name  aisle_id  department_id  prices\n",
       "33             34          NaN       121             14    12.2\n",
       "68             69          NaN        26              7    11.8\n",
       "115           116          NaN        93              3    10.8\n",
       "261           262          NaN       110             13    12.1\n",
       "525           525          NaN       109             11     1.2\n",
       "1511         1511          NaN        84             16    14.3\n",
       "1780         1780          NaN       126             11    12.3\n",
       "2240         2240          NaN        52              1    14.2\n",
       "2586         2586          NaN       104             13    12.4\n",
       "3159         3159          NaN       126             11    13.1\n",
       "3230         3230          NaN       120             16    14.4\n",
       "3736         3736          NaN        41              8    14.8\n",
       "4283         4283          NaN        77              7    14.4\n",
       "4790         4790          NaN        91             16    14.5\n",
       "38187       38183          NaN        39             12    20.9\n",
       "40444       40440          NaN       120             16    14.8"
      ]
     },
     "execution_count": 193,
     "metadata": {},
     "output_type": "execute_result"
    }
   ],
   "source": [
    "df_products_cleaned_null"
   ]
  },
  {
   "cell_type": "code",
   "execution_count": 194,
   "id": "9c31ba2b-878e-48d8-b1f2-1a4358517d92",
   "metadata": {},
   "outputs": [],
   "source": [
    "df_products_cleaned = df_products_cleaned[df_products_cleaned['product_name']. isnull() == False]"
   ]
  },
  {
   "cell_type": "markdown",
   "id": "3aef0692-71b1-460e-8efb-14e629fbbcf3",
   "metadata": {},
   "source": [
    "### Duplicates"
   ]
  },
  {
   "cell_type": "code",
   "execution_count": 196,
   "id": "1209144f-1437-4d95-bc92-f9f54ca3ed21",
   "metadata": {},
   "outputs": [],
   "source": [
    "df_products_cleaned_duplicates = df_products_cleaned[df_products_cleaned.duplicated()]"
   ]
  },
  {
   "cell_type": "code",
   "execution_count": 197,
   "id": "a1aefd86-7301-4213-b951-baa8edd686c0",
   "metadata": {},
   "outputs": [
    {
     "data": {
      "text/html": [
       "<div>\n",
       "<style scoped>\n",
       "    .dataframe tbody tr th:only-of-type {\n",
       "        vertical-align: middle;\n",
       "    }\n",
       "\n",
       "    .dataframe tbody tr th {\n",
       "        vertical-align: top;\n",
       "    }\n",
       "\n",
       "    .dataframe thead th {\n",
       "        text-align: right;\n",
       "    }\n",
       "</style>\n",
       "<table border=\"1\" class=\"dataframe\">\n",
       "  <thead>\n",
       "    <tr style=\"text-align: right;\">\n",
       "      <th></th>\n",
       "      <th>product_id</th>\n",
       "      <th>product_name</th>\n",
       "      <th>aisle_id</th>\n",
       "      <th>department_id</th>\n",
       "      <th>prices</th>\n",
       "    </tr>\n",
       "  </thead>\n",
       "  <tbody>\n",
       "    <tr>\n",
       "      <th>462</th>\n",
       "      <td>462</td>\n",
       "      <td>Fiber 4g Gummy Dietary Supplement</td>\n",
       "      <td>70</td>\n",
       "      <td>11</td>\n",
       "      <td>4.8</td>\n",
       "    </tr>\n",
       "    <tr>\n",
       "      <th>18459</th>\n",
       "      <td>18458</td>\n",
       "      <td>Ranger IPA</td>\n",
       "      <td>27</td>\n",
       "      <td>5</td>\n",
       "      <td>9.2</td>\n",
       "    </tr>\n",
       "    <tr>\n",
       "      <th>26810</th>\n",
       "      <td>26808</td>\n",
       "      <td>Black House Coffee Roasty Stout Beer</td>\n",
       "      <td>27</td>\n",
       "      <td>5</td>\n",
       "      <td>13.4</td>\n",
       "    </tr>\n",
       "    <tr>\n",
       "      <th>35309</th>\n",
       "      <td>35306</td>\n",
       "      <td>Gluten Free Organic Peanut Butter &amp; Chocolate ...</td>\n",
       "      <td>121</td>\n",
       "      <td>14</td>\n",
       "      <td>6.8</td>\n",
       "    </tr>\n",
       "    <tr>\n",
       "      <th>35495</th>\n",
       "      <td>35491</td>\n",
       "      <td>Adore Forever Body Wash</td>\n",
       "      <td>127</td>\n",
       "      <td>11</td>\n",
       "      <td>9.9</td>\n",
       "    </tr>\n",
       "  </tbody>\n",
       "</table>\n",
       "</div>"
      ],
      "text/plain": [
       "       product_id                                       product_name  \\\n",
       "462           462                  Fiber 4g Gummy Dietary Supplement   \n",
       "18459       18458                                         Ranger IPA   \n",
       "26810       26808               Black House Coffee Roasty Stout Beer   \n",
       "35309       35306  Gluten Free Organic Peanut Butter & Chocolate ...   \n",
       "35495       35491                            Adore Forever Body Wash   \n",
       "\n",
       "       aisle_id  department_id  prices  \n",
       "462          70             11     4.8  \n",
       "18459        27              5     9.2  \n",
       "26810        27              5    13.4  \n",
       "35309       121             14     6.8  \n",
       "35495       127             11     9.9  "
      ]
     },
     "execution_count": 197,
     "metadata": {},
     "output_type": "execute_result"
    }
   ],
   "source": [
    "df_products_cleaned_duplicates"
   ]
  },
  {
   "cell_type": "code",
   "execution_count": 198,
   "id": "646bc2dc-5939-4165-a91e-f81c25c3d5d5",
   "metadata": {},
   "outputs": [],
   "source": [
    "df_products_cleaned = df_products_cleaned.drop_duplicates()"
   ]
  },
  {
   "cell_type": "markdown",
   "id": "f6569f5e-5266-438d-b967-8c695d1ce814",
   "metadata": {},
   "source": [
    "# Dimensions after consistency checks"
   ]
  },
  {
   "cell_type": "code",
   "execution_count": 200,
   "id": "3a43aad6-fb74-44c0-b76d-5c9f620199a3",
   "metadata": {},
   "outputs": [
    {
     "data": {
      "text/plain": [
       "(206209, 10)"
      ]
     },
     "execution_count": 200,
     "metadata": {},
     "output_type": "execute_result"
    }
   ],
   "source": [
    "df_customers_wrangled.shape"
   ]
  },
  {
   "cell_type": "code",
   "execution_count": 201,
   "id": "e5f8cefb-61b3-4f77-b04f-96cda86fc2fe",
   "metadata": {},
   "outputs": [
    {
     "data": {
      "text/plain": [
       "(206209, 10)"
      ]
     },
     "execution_count": 201,
     "metadata": {},
     "output_type": "execute_result"
    }
   ],
   "source": [
    "df_customers_cleaned.shape"
   ]
  },
  {
   "cell_type": "code",
   "execution_count": 202,
   "id": "9a9347bd-90ab-4bd7-b585-37ee6d270a41",
   "metadata": {},
   "outputs": [
    {
     "data": {
      "text/plain": [
       "(21, 1)"
      ]
     },
     "execution_count": 202,
     "metadata": {},
     "output_type": "execute_result"
    }
   ],
   "source": [
    "df_departments_wrangled.shape"
   ]
  },
  {
   "cell_type": "code",
   "execution_count": 203,
   "id": "01dd4726-9974-446c-a748-3d0119353021",
   "metadata": {},
   "outputs": [
    {
     "data": {
      "text/plain": [
       "(21, 1)"
      ]
     },
     "execution_count": 203,
     "metadata": {},
     "output_type": "execute_result"
    }
   ],
   "source": [
    "df_departments_cleaned.shape"
   ]
  },
  {
   "cell_type": "code",
   "execution_count": 204,
   "id": "f28c299d-c5df-4681-b2b9-ec9bdc8d4dd9",
   "metadata": {},
   "outputs": [
    {
     "data": {
      "text/plain": [
       "(32434489, 4)"
      ]
     },
     "execution_count": 204,
     "metadata": {},
     "output_type": "execute_result"
    }
   ],
   "source": [
    "df_orders_products_prior_wrangled.shape"
   ]
  },
  {
   "cell_type": "code",
   "execution_count": 205,
   "id": "14e741eb-0052-49c4-a1e7-9c75c4b6c396",
   "metadata": {},
   "outputs": [
    {
     "data": {
      "text/plain": [
       "(32434489, 4)"
      ]
     },
     "execution_count": 205,
     "metadata": {},
     "output_type": "execute_result"
    }
   ],
   "source": [
    "df_orders_products_prior_cleaned.shape"
   ]
  },
  {
   "cell_type": "code",
   "execution_count": 206,
   "id": "16d7a599-c555-4339-99b9-e4a85d53ab3d",
   "metadata": {},
   "outputs": [
    {
     "data": {
      "text/plain": [
       "(3421083, 6)"
      ]
     },
     "execution_count": 206,
     "metadata": {},
     "output_type": "execute_result"
    }
   ],
   "source": [
    "df_orders_wrangled.shape"
   ]
  },
  {
   "cell_type": "code",
   "execution_count": 207,
   "id": "9c45b76c-69d7-4a9a-864b-483083cb346c",
   "metadata": {},
   "outputs": [
    {
     "data": {
      "text/plain": [
       "(3421083, 7)"
      ]
     },
     "execution_count": 207,
     "metadata": {},
     "output_type": "execute_result"
    }
   ],
   "source": [
    "df_orders_cleaned.shape"
   ]
  },
  {
   "cell_type": "code",
   "execution_count": 208,
   "id": "e57fd327-8560-4c4a-b910-67ec6dbb51af",
   "metadata": {},
   "outputs": [
    {
     "data": {
      "text/plain": [
       "(49693, 5)"
      ]
     },
     "execution_count": 208,
     "metadata": {},
     "output_type": "execute_result"
    }
   ],
   "source": [
    "df_products_wrangled.shape"
   ]
  },
  {
   "cell_type": "code",
   "execution_count": 209,
   "id": "6de0dc0e-be3a-48a2-86e1-3a6ef9a9246e",
   "metadata": {},
   "outputs": [
    {
     "data": {
      "text/plain": [
       "(49672, 5)"
      ]
     },
     "execution_count": 209,
     "metadata": {},
     "output_type": "execute_result"
    }
   ],
   "source": [
    "df_products_cleaned.shape"
   ]
  },
  {
   "cell_type": "markdown",
   "id": "6cc10f5c-94fe-4e5c-b602-fb3f2d340a91",
   "metadata": {},
   "source": [
    "# Combining"
   ]
  },
  {
   "cell_type": "code",
   "execution_count": 211,
   "id": "3f35f72b-ae8e-4b43-8d71-2c68b3f701ea",
   "metadata": {},
   "outputs": [],
   "source": [
    "df_orders_products_combined = df_orders_cleaned.merge(df_orders_products_prior_cleaned, on = 'order_id', indicator = True)"
   ]
  },
  {
   "cell_type": "code",
   "execution_count": 212,
   "id": "7873166f-88b8-421a-abbb-a278141e014d",
   "metadata": {},
   "outputs": [
    {
     "data": {
      "text/plain": [
       "_merge\n",
       "both          32434489\n",
       "left_only            0\n",
       "right_only           0\n",
       "Name: count, dtype: int64"
      ]
     },
     "execution_count": 212,
     "metadata": {},
     "output_type": "execute_result"
    }
   ],
   "source": [
    "df_orders_products_combined['_merge'].value_counts()"
   ]
  },
  {
   "cell_type": "code",
   "execution_count": 213,
   "id": "2438c3ca-b4fc-4a79-8b41-5419312678f5",
   "metadata": {},
   "outputs": [],
   "source": [
    "df_orders_products_combined = df_orders_products_combined.drop(columns = ['_merge'])"
   ]
  },
  {
   "cell_type": "code",
   "execution_count": 214,
   "id": "8fe0bc2c-422f-4c6d-9875-b01b0965f27e",
   "metadata": {},
   "outputs": [],
   "source": [
    "df_orders_products_merged = df_orders_products_combined.merge(df_products_cleaned, on = 'product_id', indicator = True)"
   ]
  },
  {
   "cell_type": "code",
   "execution_count": 215,
   "id": "b9e43398-a69d-4500-b4a6-159a16e2c558",
   "metadata": {},
   "outputs": [
    {
     "data": {
      "text/plain": [
       "_merge\n",
       "both          32404859\n",
       "left_only            0\n",
       "right_only           0\n",
       "Name: count, dtype: int64"
      ]
     },
     "execution_count": 215,
     "metadata": {},
     "output_type": "execute_result"
    }
   ],
   "source": [
    "df_orders_products_merged['_merge'].value_counts()"
   ]
  },
  {
   "cell_type": "code",
   "execution_count": 216,
   "id": "50e977f9-823c-4342-a0ee-cb9f21806917",
   "metadata": {},
   "outputs": [],
   "source": [
    "df_orders_products_merged = df_orders_products_merged.drop(columns = ['_merge'])"
   ]
  },
  {
   "cell_type": "code",
   "execution_count": 217,
   "id": "5a5352c3-f97a-4272-8f63-eac03dd8998d",
   "metadata": {},
   "outputs": [],
   "source": [
    "df_orders_products_all = df_orders_products_merged.merge(df_customers_cleaned, on = 'user_id', indicator = True)"
   ]
  },
  {
   "cell_type": "code",
   "execution_count": 218,
   "id": "ea989e14-a214-43e8-a653-9d3ccde51cd1",
   "metadata": {},
   "outputs": [
    {
     "data": {
      "text/plain": [
       "_merge\n",
       "both          32404859\n",
       "left_only            0\n",
       "right_only           0\n",
       "Name: count, dtype: int64"
      ]
     },
     "execution_count": 218,
     "metadata": {},
     "output_type": "execute_result"
    }
   ],
   "source": [
    "df_orders_products_all['_merge'].value_counts()"
   ]
  },
  {
   "cell_type": "code",
   "execution_count": 219,
   "id": "11f04266-a183-48a3-b16c-9ec373bd2e86",
   "metadata": {},
   "outputs": [],
   "source": [
    "df_orders_products_all = df_orders_products_all.drop(columns = ['_merge'])"
   ]
  },
  {
   "cell_type": "markdown",
   "id": "66375cc8-a4a0-4524-9780-50614e404065",
   "metadata": {},
   "source": [
    "# Dimensions after combining"
   ]
  },
  {
   "cell_type": "markdown",
   "id": "dd0f1271-583f-40b1-ac13-301038757c53",
   "metadata": {},
   "source": [
    "df_customers.shape"
   ]
  },
  {
   "cell_type": "code",
   "execution_count": 222,
   "id": "45e22e30-ca71-49f6-964f-c65098c83a65",
   "metadata": {},
   "outputs": [
    {
     "data": {
      "text/plain": [
       "(32434489, 10)"
      ]
     },
     "execution_count": 222,
     "metadata": {},
     "output_type": "execute_result"
    }
   ],
   "source": [
    "df_orders_products_combined.shape"
   ]
  },
  {
   "cell_type": "code",
   "execution_count": 223,
   "id": "7a01dbad-71b5-4003-9d1e-e8f1e08196de",
   "metadata": {},
   "outputs": [
    {
     "data": {
      "text/plain": [
       "(32404859, 14)"
      ]
     },
     "execution_count": 223,
     "metadata": {},
     "output_type": "execute_result"
    }
   ],
   "source": [
    "df_orders_products_merged.shape"
   ]
  },
  {
   "cell_type": "code",
   "execution_count": 224,
   "id": "de10fbba-5758-44da-a05a-c1fbab5836c5",
   "metadata": {},
   "outputs": [
    {
     "data": {
      "text/plain": [
       "(32404859, 23)"
      ]
     },
     "execution_count": 224,
     "metadata": {},
     "output_type": "execute_result"
    }
   ],
   "source": [
    "df_orders_products_all.shape"
   ]
  },
  {
   "cell_type": "markdown",
   "id": "cb55e0c4-9ffc-4b27-bcb4-81d820a25e1b",
   "metadata": {},
   "source": [
    "# Check for shifts"
   ]
  },
  {
   "cell_type": "code",
   "execution_count": 226,
   "id": "4be57b08-0f5e-4407-a6ce-56ed16134cf1",
   "metadata": {},
   "outputs": [],
   "source": [
    "df_slice = df_orders_products_merged[:1000000]"
   ]
  },
  {
   "cell_type": "code",
   "execution_count": 227,
   "id": "a8cfc6e4-2c71-4d35-a551-4502dd9064e2",
   "metadata": {},
   "outputs": [],
   "source": [
    "def price_label(row):\n",
    "\n",
    "  if row['prices'] <= 5:\n",
    "    return 'Low-range product'\n",
    "  elif (row['prices'] > 5) and (row['prices'] <= 15):\n",
    "    return 'Mid-range product'\n",
    "  elif row['prices'] > 15:\n",
    "    return 'High range'\n",
    "  else: return 'Not enough data'"
   ]
  },
  {
   "cell_type": "code",
   "execution_count": 228,
   "id": "17a435ce-b173-40c4-944c-ba1470860ffc",
   "metadata": {},
   "outputs": [
    {
     "name": "stderr",
     "output_type": "stream",
     "text": [
      "/var/folders/b9/73lb7cd16f97fg8sm_jd293r0000gn/T/ipykernel_33295/199930909.py:1: SettingWithCopyWarning: \n",
      "A value is trying to be set on a copy of a slice from a DataFrame.\n",
      "Try using .loc[row_indexer,col_indexer] = value instead\n",
      "\n",
      "See the caveats in the documentation: https://pandas.pydata.org/pandas-docs/stable/user_guide/indexing.html#returning-a-view-versus-a-copy\n",
      "  df_slice['price_range'] = df_slice.apply(price_label, axis=1)\n"
     ]
    }
   ],
   "source": [
    "df_slice['price_range'] = df_slice.apply(price_label, axis=1)"
   ]
  },
  {
   "cell_type": "code",
   "execution_count": 229,
   "id": "57d9b5b1-8453-4eb7-ab1a-547ac86c4f9b",
   "metadata": {},
   "outputs": [
    {
     "data": {
      "text/plain": [
       "price_range\n",
       "Mid-range product    673183\n",
       "Low-range product    314392\n",
       "High range            12425\n",
       "Name: count, dtype: int64"
      ]
     },
     "execution_count": 229,
     "metadata": {},
     "output_type": "execute_result"
    }
   ],
   "source": [
    "df_slice['price_range'].value_counts(dropna = False)"
   ]
  },
  {
   "cell_type": "markdown",
   "id": "490dd19a-48aa-4a25-8cd3-8ffce5b41bdd",
   "metadata": {},
   "source": [
    "# Deriving variables"
   ]
  },
  {
   "cell_type": "code",
   "execution_count": 231,
   "id": "2ad822ed-c6f2-4a10-8ef9-31a0d6eb4090",
   "metadata": {},
   "outputs": [],
   "source": [
    "df_orders_products_variables = df_orders_products_all.copy()"
   ]
  },
  {
   "cell_type": "markdown",
   "id": "5ca97369-c5ef-4e42-96e2-5d223f1a79e2",
   "metadata": {},
   "source": [
    "## Price Range"
   ]
  },
  {
   "cell_type": "code",
   "execution_count": 233,
   "id": "70473777-4d06-40e5-b812-3a7494d581fe",
   "metadata": {},
   "outputs": [],
   "source": [
    "df_orders_products_variables.loc[df_orders_products_variables['prices'] > 15, 'price_label'] = 'High-range product'"
   ]
  },
  {
   "cell_type": "code",
   "execution_count": 234,
   "id": "0b4c9952-b91a-40af-be80-43e5d448fc73",
   "metadata": {},
   "outputs": [],
   "source": [
    "df_orders_products_variables.loc[(df_orders_products_variables['prices'] <= 15) & (df_orders_products_variables['prices'] > 5), 'price_label'] = 'Mid-range product'"
   ]
  },
  {
   "cell_type": "code",
   "execution_count": 235,
   "id": "b7cb6041-206f-4d44-b166-4e4fc003d313",
   "metadata": {},
   "outputs": [],
   "source": [
    "df_orders_products_variables.loc[df_orders_products_variables['prices'] <= 5, 'price_label'] = 'Low-range product'"
   ]
  },
  {
   "cell_type": "code",
   "execution_count": 236,
   "id": "740fb1ab-6b5b-4ae4-a287-f52d2f7b0473",
   "metadata": {},
   "outputs": [
    {
     "data": {
      "text/plain": [
       "price_label\n",
       "Mid-range product     21860860\n",
       "Low-range product     10126321\n",
       "High-range product      417678\n",
       "Name: count, dtype: int64"
      ]
     },
     "execution_count": 236,
     "metadata": {},
     "output_type": "execute_result"
    }
   ],
   "source": [
    "df_orders_products_variables['price_label'].value_counts(dropna = False)"
   ]
  },
  {
   "cell_type": "markdown",
   "id": "75ef8512-4bc7-4f33-90db-d10b4f01d255",
   "metadata": {},
   "source": [
    "## Busiest day"
   ]
  },
  {
   "cell_type": "code",
   "execution_count": 238,
   "id": "2716fdd4-68ff-4f59-82c0-3fe33b4a4a6f",
   "metadata": {},
   "outputs": [
    {
     "data": {
      "text/plain": [
       "orders_day_of_week\n",
       "0    6204182\n",
       "1    5660230\n",
       "6    4496490\n",
       "2    4213830\n",
       "5    4205791\n",
       "3    3840534\n",
       "4    3783802\n",
       "Name: count, dtype: int64"
      ]
     },
     "execution_count": 238,
     "metadata": {},
     "output_type": "execute_result"
    }
   ],
   "source": [
    "df_orders_products_variables['orders_day_of_week'].value_counts(dropna = False)"
   ]
  },
  {
   "cell_type": "code",
   "execution_count": 239,
   "id": "b7392ea9-8499-4610-a57a-f0c3eaba09b4",
   "metadata": {},
   "outputs": [],
   "source": [
    "result = []\n",
    "\n",
    "for value in df_orders_products_variables['orders_day_of_week']:\n",
    "  if value == 0:\n",
    "    result.append('Busiest day')\n",
    "  elif value == 4:\n",
    "    result.append('Least busy')\n",
    "  else:\n",
    "    result.append('Regularly busy')"
   ]
  },
  {
   "cell_type": "code",
   "execution_count": 240,
   "id": "2585f849-9cb5-46c5-bf05-935ec17e53a1",
   "metadata": {},
   "outputs": [],
   "source": [
    "df_orders_products_variables['busiest_day'] = result"
   ]
  },
  {
   "cell_type": "code",
   "execution_count": 241,
   "id": "c0d92490-abca-4b0c-862f-813ffbfaa144",
   "metadata": {},
   "outputs": [
    {
     "data": {
      "text/plain": [
       "busiest_day\n",
       "Regularly busy    22416875\n",
       "Busiest day        6204182\n",
       "Least busy         3783802\n",
       "Name: count, dtype: int64"
      ]
     },
     "execution_count": 241,
     "metadata": {},
     "output_type": "execute_result"
    }
   ],
   "source": [
    "df_orders_products_variables['busiest_day'].value_counts(dropna = False)"
   ]
  },
  {
   "cell_type": "markdown",
   "id": "039218be-0d06-49f8-97b9-084ceb2de0e6",
   "metadata": {},
   "source": [
    "## Busiest days"
   ]
  },
  {
   "cell_type": "code",
   "execution_count": 243,
   "id": "d6c4e367-4a79-4678-a5f3-95b2b21b9737",
   "metadata": {},
   "outputs": [
    {
     "data": {
      "text/plain": [
       "orders_day_of_week\n",
       "0    6204182\n",
       "1    5660230\n",
       "6    4496490\n",
       "2    4213830\n",
       "5    4205791\n",
       "3    3840534\n",
       "4    3783802\n",
       "Name: count, dtype: int64"
      ]
     },
     "execution_count": 243,
     "metadata": {},
     "output_type": "execute_result"
    }
   ],
   "source": [
    "df_orders_products_variables['orders_day_of_week'].value_counts(dropna = False)"
   ]
  },
  {
   "cell_type": "code",
   "execution_count": 244,
   "id": "65b53e83-6bd4-4128-b08c-828af332b83e",
   "metadata": {},
   "outputs": [],
   "source": [
    "result_2 = []\n",
    "\n",
    "for value in df_orders_products_variables['orders_day_of_week']:\n",
    "  if value == 0 or value == 1:\n",
    "    result_2.append('Busiest day')\n",
    "  elif value == 3 or value == 4:\n",
    "    result_2.append('Least busy')\n",
    "  else:\n",
    "    result_2.append('Regularly busy')"
   ]
  },
  {
   "cell_type": "code",
   "execution_count": 245,
   "id": "f10db083-e723-452d-b705-866a37ac1c6f",
   "metadata": {},
   "outputs": [],
   "source": [
    "df_orders_products_variables['busiest_days'] = result_2"
   ]
  },
  {
   "cell_type": "code",
   "execution_count": 246,
   "id": "9171e95e-2ae2-49fe-a250-94aaaf5400b7",
   "metadata": {},
   "outputs": [
    {
     "data": {
      "text/plain": [
       "busiest_days\n",
       "Regularly busy    12916111\n",
       "Busiest day       11864412\n",
       "Least busy         7624336\n",
       "Name: count, dtype: int64"
      ]
     },
     "execution_count": 246,
     "metadata": {},
     "output_type": "execute_result"
    }
   ],
   "source": [
    "df_orders_products_variables['busiest_days'].value_counts(dropna = False)"
   ]
  },
  {
   "cell_type": "markdown",
   "id": "9d71cba4-3f7f-43c9-bedd-76cc1759182a",
   "metadata": {},
   "source": [
    "## Busiest period of day"
   ]
  },
  {
   "cell_type": "code",
   "execution_count": 248,
   "id": "b93f3880-b13f-4626-ae95-f30108e622c1",
   "metadata": {},
   "outputs": [
    {
     "data": {
      "text/plain": [
       "order_hour_of_day\n",
       "0      218769\n",
       "1      115700\n",
       "2       69375\n",
       "3       51281\n",
       "4       53242\n",
       "5       87961\n",
       "6      290493\n",
       "7      891054\n",
       "8     1718118\n",
       "9     2454203\n",
       "10    2761760\n",
       "11    2736140\n",
       "12    2618532\n",
       "13    2660954\n",
       "14    2689136\n",
       "15    2662144\n",
       "16    2535202\n",
       "17    2087654\n",
       "18    1636502\n",
       "19    1258305\n",
       "20     976156\n",
       "21     795637\n",
       "22     634225\n",
       "23     402316\n",
       "Name: count, dtype: int64"
      ]
     },
     "execution_count": 248,
     "metadata": {},
     "output_type": "execute_result"
    }
   ],
   "source": [
    "df_orders_products_variables['order_hour_of_day'].value_counts().sort_index()"
   ]
  },
  {
   "cell_type": "code",
   "execution_count": 249,
   "id": "bbd6dd3d-71ad-4e01-a504-b954e584aebe",
   "metadata": {},
   "outputs": [],
   "source": [
    "result_3 = []\n",
    "\n",
    "for value in df_orders_products_variables['order_hour_of_day']:\n",
    "  if value in [9, 10, 11, 12, 13, 14, 15, 16]:\n",
    "    result_3.append('Most orders')\n",
    "  elif value in [23, 0, 1, 2, 3, 4, 5, 6]:\n",
    "    result_3.append('Fewest orders')\n",
    "  else:\n",
    "    result_3.append('Average orders')"
   ]
  },
  {
   "cell_type": "code",
   "execution_count": 250,
   "id": "f7b0dfea-c676-4638-a991-8f49a2d420f6",
   "metadata": {},
   "outputs": [],
   "source": [
    "df_orders_products_variables['busiest_period_of_day'] = result_3"
   ]
  },
  {
   "cell_type": "code",
   "execution_count": 251,
   "id": "21b4db3d-43fe-4209-8b96-1f6349912d58",
   "metadata": {},
   "outputs": [
    {
     "data": {
      "text/plain": [
       "busiest_period_of_day\n",
       "Most orders       21118071\n",
       "Average orders     9997651\n",
       "Fewest orders      1289137\n",
       "Name: count, dtype: int64"
      ]
     },
     "execution_count": 251,
     "metadata": {},
     "output_type": "execute_result"
    }
   ],
   "source": [
    "df_orders_products_variables['busiest_period_of_day'].value_counts(dropna = False)"
   ]
  },
  {
   "cell_type": "markdown",
   "id": "c8dbeef0-a890-4beb-9130-7fbad25b0f4f",
   "metadata": {},
   "source": [
    "# Dimensions after deriving variables"
   ]
  },
  {
   "cell_type": "code",
   "execution_count": 253,
   "id": "0a50f74a-3d76-445b-8f33-9dd12387e17b",
   "metadata": {},
   "outputs": [
    {
     "data": {
      "text/plain": [
       "(32404859, 23)"
      ]
     },
     "execution_count": 253,
     "metadata": {},
     "output_type": "execute_result"
    }
   ],
   "source": [
    "df_orders_products_all.shape"
   ]
  },
  {
   "cell_type": "code",
   "execution_count": 254,
   "id": "47961696-02db-48dc-9e78-e40c6d620444",
   "metadata": {},
   "outputs": [
    {
     "data": {
      "text/plain": [
       "(32404859, 27)"
      ]
     },
     "execution_count": 254,
     "metadata": {},
     "output_type": "execute_result"
    }
   ],
   "source": [
    "df_orders_products_variables.shape"
   ]
  },
  {
   "cell_type": "markdown",
   "id": "9348e5cf-73d2-4433-894f-0a42c52f4ffa",
   "metadata": {
    "jp-MarkdownHeadingCollapsed": true
   },
   "source": [
    "# Check for shifts"
   ]
  },
  {
   "cell_type": "code",
   "execution_count": 256,
   "id": "91576949-1673-47d8-a0f9-5aa53367504a",
   "metadata": {},
   "outputs": [],
   "source": [
    "df_slice_2 = df_orders_products_merged[:1000000]"
   ]
  },
  {
   "cell_type": "code",
   "execution_count": 257,
   "id": "be11665f-6ab7-4505-8a97-3f591bf19f5e",
   "metadata": {},
   "outputs": [
    {
     "data": {
      "text/plain": [
       "<pandas.core.groupby.generic.DataFrameGroupBy object at 0x1277adee0>"
      ]
     },
     "execution_count": 257,
     "metadata": {},
     "output_type": "execute_result"
    }
   ],
   "source": [
    "df_slice_2.groupby('product_name')"
   ]
  },
  {
   "cell_type": "code",
   "execution_count": 258,
   "id": "6f894d86-627a-4370-baa6-678c1656d1aa",
   "metadata": {},
   "outputs": [
    {
     "data": {
      "text/html": [
       "<div>\n",
       "<style scoped>\n",
       "    .dataframe tbody tr th:only-of-type {\n",
       "        vertical-align: middle;\n",
       "    }\n",
       "\n",
       "    .dataframe tbody tr th {\n",
       "        vertical-align: top;\n",
       "    }\n",
       "\n",
       "    .dataframe thead tr th {\n",
       "        text-align: left;\n",
       "    }\n",
       "\n",
       "    .dataframe thead tr:last-of-type th {\n",
       "        text-align: right;\n",
       "    }\n",
       "</style>\n",
       "<table border=\"1\" class=\"dataframe\">\n",
       "  <thead>\n",
       "    <tr>\n",
       "      <th></th>\n",
       "      <th>order_number</th>\n",
       "    </tr>\n",
       "    <tr>\n",
       "      <th></th>\n",
       "      <th>mean</th>\n",
       "    </tr>\n",
       "    <tr>\n",
       "      <th>department_id</th>\n",
       "      <th></th>\n",
       "    </tr>\n",
       "  </thead>\n",
       "  <tbody>\n",
       "    <tr>\n",
       "      <th>1</th>\n",
       "      <td>14.800024</td>\n",
       "    </tr>\n",
       "    <tr>\n",
       "      <th>2</th>\n",
       "      <td>17.091743</td>\n",
       "    </tr>\n",
       "    <tr>\n",
       "      <th>3</th>\n",
       "      <td>17.913544</td>\n",
       "    </tr>\n",
       "    <tr>\n",
       "      <th>4</th>\n",
       "      <td>17.893092</td>\n",
       "    </tr>\n",
       "    <tr>\n",
       "      <th>5</th>\n",
       "      <td>15.214270</td>\n",
       "    </tr>\n",
       "    <tr>\n",
       "      <th>6</th>\n",
       "      <td>15.382135</td>\n",
       "    </tr>\n",
       "    <tr>\n",
       "      <th>7</th>\n",
       "      <td>17.694027</td>\n",
       "    </tr>\n",
       "    <tr>\n",
       "      <th>8</th>\n",
       "      <td>16.458105</td>\n",
       "    </tr>\n",
       "    <tr>\n",
       "      <th>9</th>\n",
       "      <td>15.957363</td>\n",
       "    </tr>\n",
       "    <tr>\n",
       "      <th>10</th>\n",
       "      <td>20.091818</td>\n",
       "    </tr>\n",
       "    <tr>\n",
       "      <th>11</th>\n",
       "      <td>16.482026</td>\n",
       "    </tr>\n",
       "    <tr>\n",
       "      <th>12</th>\n",
       "      <td>15.615061</td>\n",
       "    </tr>\n",
       "    <tr>\n",
       "      <th>13</th>\n",
       "      <td>16.484023</td>\n",
       "    </tr>\n",
       "    <tr>\n",
       "      <th>14</th>\n",
       "      <td>17.524632</td>\n",
       "    </tr>\n",
       "    <tr>\n",
       "      <th>15</th>\n",
       "      <td>15.691875</td>\n",
       "    </tr>\n",
       "    <tr>\n",
       "      <th>16</th>\n",
       "      <td>18.014071</td>\n",
       "    </tr>\n",
       "    <tr>\n",
       "      <th>17</th>\n",
       "      <td>16.150593</td>\n",
       "    </tr>\n",
       "    <tr>\n",
       "      <th>18</th>\n",
       "      <td>19.602850</td>\n",
       "    </tr>\n",
       "    <tr>\n",
       "      <th>19</th>\n",
       "      <td>17.631340</td>\n",
       "    </tr>\n",
       "    <tr>\n",
       "      <th>20</th>\n",
       "      <td>17.138607</td>\n",
       "    </tr>\n",
       "    <tr>\n",
       "      <th>21</th>\n",
       "      <td>21.956893</td>\n",
       "    </tr>\n",
       "  </tbody>\n",
       "</table>\n",
       "</div>"
      ],
      "text/plain": [
       "              order_number\n",
       "                      mean\n",
       "department_id             \n",
       "1                14.800024\n",
       "2                17.091743\n",
       "3                17.913544\n",
       "4                17.893092\n",
       "5                15.214270\n",
       "6                15.382135\n",
       "7                17.694027\n",
       "8                16.458105\n",
       "9                15.957363\n",
       "10               20.091818\n",
       "11               16.482026\n",
       "12               15.615061\n",
       "13               16.484023\n",
       "14               17.524632\n",
       "15               15.691875\n",
       "16               18.014071\n",
       "17               16.150593\n",
       "18               19.602850\n",
       "19               17.631340\n",
       "20               17.138607\n",
       "21               21.956893"
      ]
     },
     "execution_count": 258,
     "metadata": {},
     "output_type": "execute_result"
    }
   ],
   "source": [
    "df_slice_2.groupby('department_id').agg({'order_number': ['mean']})"
   ]
  },
  {
   "cell_type": "code",
   "execution_count": 259,
   "id": "922a8844-c0d1-46eb-b15d-7150175c7e99",
   "metadata": {},
   "outputs": [
    {
     "data": {
      "text/plain": [
       "department_id\n",
       "1     14.800024\n",
       "2     17.091743\n",
       "3     17.913544\n",
       "4     17.893092\n",
       "5     15.214270\n",
       "6     15.382135\n",
       "7     17.694027\n",
       "8     16.458105\n",
       "9     15.957363\n",
       "10    20.091818\n",
       "11    16.482026\n",
       "12    15.615061\n",
       "13    16.484023\n",
       "14    17.524632\n",
       "15    15.691875\n",
       "16    18.014071\n",
       "17    16.150593\n",
       "18    19.602850\n",
       "19    17.631340\n",
       "20    17.138607\n",
       "21    21.956893\n",
       "Name: order_number, dtype: float64"
      ]
     },
     "execution_count": 259,
     "metadata": {},
     "output_type": "execute_result"
    }
   ],
   "source": [
    "df_slice_2.groupby('department_id').order_number.mean()"
   ]
  },
  {
   "cell_type": "markdown",
   "id": "b7607652-0228-4d17-a51f-f2bba0b41fc0",
   "metadata": {},
   "source": [
    "# Group"
   ]
  },
  {
   "cell_type": "code",
   "execution_count": 261,
   "id": "6f45f6e8-5020-45f6-b84f-370df742d722",
   "metadata": {},
   "outputs": [],
   "source": [
    "df_orders_products_grouped = df_orders_products_variables.copy()"
   ]
  },
  {
   "cell_type": "code",
   "execution_count": 262,
   "id": "26418415-bde6-44e8-b68a-121a8bf2d879",
   "metadata": {},
   "outputs": [
    {
     "data": {
      "text/html": [
       "<div>\n",
       "<style scoped>\n",
       "    .dataframe tbody tr th:only-of-type {\n",
       "        vertical-align: middle;\n",
       "    }\n",
       "\n",
       "    .dataframe tbody tr th {\n",
       "        vertical-align: top;\n",
       "    }\n",
       "\n",
       "    .dataframe thead tr th {\n",
       "        text-align: left;\n",
       "    }\n",
       "\n",
       "    .dataframe thead tr:last-of-type th {\n",
       "        text-align: right;\n",
       "    }\n",
       "</style>\n",
       "<table border=\"1\" class=\"dataframe\">\n",
       "  <thead>\n",
       "    <tr>\n",
       "      <th></th>\n",
       "      <th>order_number</th>\n",
       "    </tr>\n",
       "    <tr>\n",
       "      <th></th>\n",
       "      <th>mean</th>\n",
       "    </tr>\n",
       "    <tr>\n",
       "      <th>department_id</th>\n",
       "      <th></th>\n",
       "    </tr>\n",
       "  </thead>\n",
       "  <tbody>\n",
       "    <tr>\n",
       "      <th>1</th>\n",
       "      <td>15.457838</td>\n",
       "    </tr>\n",
       "    <tr>\n",
       "      <th>2</th>\n",
       "      <td>17.277920</td>\n",
       "    </tr>\n",
       "    <tr>\n",
       "      <th>3</th>\n",
       "      <td>17.170395</td>\n",
       "    </tr>\n",
       "    <tr>\n",
       "      <th>4</th>\n",
       "      <td>17.811403</td>\n",
       "    </tr>\n",
       "    <tr>\n",
       "      <th>5</th>\n",
       "      <td>15.215751</td>\n",
       "    </tr>\n",
       "    <tr>\n",
       "      <th>6</th>\n",
       "      <td>16.439806</td>\n",
       "    </tr>\n",
       "    <tr>\n",
       "      <th>7</th>\n",
       "      <td>17.225802</td>\n",
       "    </tr>\n",
       "    <tr>\n",
       "      <th>8</th>\n",
       "      <td>15.340650</td>\n",
       "    </tr>\n",
       "    <tr>\n",
       "      <th>9</th>\n",
       "      <td>15.895474</td>\n",
       "    </tr>\n",
       "    <tr>\n",
       "      <th>10</th>\n",
       "      <td>20.197148</td>\n",
       "    </tr>\n",
       "    <tr>\n",
       "      <th>11</th>\n",
       "      <td>16.170638</td>\n",
       "    </tr>\n",
       "    <tr>\n",
       "      <th>12</th>\n",
       "      <td>15.887671</td>\n",
       "    </tr>\n",
       "    <tr>\n",
       "      <th>13</th>\n",
       "      <td>16.583536</td>\n",
       "    </tr>\n",
       "    <tr>\n",
       "      <th>14</th>\n",
       "      <td>16.773669</td>\n",
       "    </tr>\n",
       "    <tr>\n",
       "      <th>15</th>\n",
       "      <td>16.165037</td>\n",
       "    </tr>\n",
       "    <tr>\n",
       "      <th>16</th>\n",
       "      <td>17.665606</td>\n",
       "    </tr>\n",
       "    <tr>\n",
       "      <th>17</th>\n",
       "      <td>15.694469</td>\n",
       "    </tr>\n",
       "    <tr>\n",
       "      <th>18</th>\n",
       "      <td>19.310397</td>\n",
       "    </tr>\n",
       "    <tr>\n",
       "      <th>19</th>\n",
       "      <td>17.177343</td>\n",
       "    </tr>\n",
       "    <tr>\n",
       "      <th>20</th>\n",
       "      <td>16.473447</td>\n",
       "    </tr>\n",
       "    <tr>\n",
       "      <th>21</th>\n",
       "      <td>22.902379</td>\n",
       "    </tr>\n",
       "  </tbody>\n",
       "</table>\n",
       "</div>"
      ],
      "text/plain": [
       "              order_number\n",
       "                      mean\n",
       "department_id             \n",
       "1                15.457838\n",
       "2                17.277920\n",
       "3                17.170395\n",
       "4                17.811403\n",
       "5                15.215751\n",
       "6                16.439806\n",
       "7                17.225802\n",
       "8                15.340650\n",
       "9                15.895474\n",
       "10               20.197148\n",
       "11               16.170638\n",
       "12               15.887671\n",
       "13               16.583536\n",
       "14               16.773669\n",
       "15               16.165037\n",
       "16               17.665606\n",
       "17               15.694469\n",
       "18               19.310397\n",
       "19               17.177343\n",
       "20               16.473447\n",
       "21               22.902379"
      ]
     },
     "execution_count": 262,
     "metadata": {},
     "output_type": "execute_result"
    }
   ],
   "source": [
    "df_orders_products_grouped.groupby('department_id').agg({'order_number': ['mean']})"
   ]
  },
  {
   "cell_type": "markdown",
   "id": "8986a73f-e2e3-4116-a27d-4681de9b9797",
   "metadata": {},
   "source": [
    "## Loyalty flag"
   ]
  },
  {
   "cell_type": "code",
   "execution_count": 264,
   "id": "fa4b2a41-a650-408b-8d48-0982e742bd1a",
   "metadata": {},
   "outputs": [
    {
     "name": "stderr",
     "output_type": "stream",
     "text": [
      "/var/folders/b9/73lb7cd16f97fg8sm_jd293r0000gn/T/ipykernel_33295/2132117034.py:1: FutureWarning: The provided callable <function max at 0x103c0bc40> is currently using SeriesGroupBy.max. In a future version of pandas, the provided callable will be used directly. To keep current behavior pass the string \"max\" instead.\n",
      "  df_orders_products_grouped['max_order'] = df_orders_products_grouped.groupby(['user_id'])['order_number'].transform(np.max)\n"
     ]
    }
   ],
   "source": [
    "df_orders_products_grouped['max_order'] = df_orders_products_grouped.groupby(['user_id'])['order_number'].transform(np.max)"
   ]
  },
  {
   "cell_type": "code",
   "execution_count": 265,
   "id": "15e3a62d-076b-4101-ad17-9d7e58de2586",
   "metadata": {},
   "outputs": [],
   "source": [
    "df_orders_products_grouped.loc[df_orders_products_grouped['max_order'] > 40, 'loyalty_flag'] = 'Loyal customer'"
   ]
  },
  {
   "cell_type": "code",
   "execution_count": 266,
   "id": "2d59e3ef-ce0e-4f39-81ec-49382bbd987b",
   "metadata": {},
   "outputs": [],
   "source": [
    "df_orders_products_grouped.loc[(df_orders_products_grouped['max_order'] <= 40) & (df_orders_products_grouped['max_order'] > 10), 'loyalty_flag'] = 'Regular customer'"
   ]
  },
  {
   "cell_type": "code",
   "execution_count": 267,
   "id": "b5ddcef9-0e12-476b-a022-af14a0daee5b",
   "metadata": {},
   "outputs": [],
   "source": [
    "df_orders_products_grouped.loc[df_orders_products_grouped['max_order'] <= 10, 'loyalty_flag'] = 'New customer'"
   ]
  },
  {
   "cell_type": "code",
   "execution_count": 268,
   "id": "ce45f6df-4c81-49f4-b26c-4275dc9e7bd2",
   "metadata": {},
   "outputs": [
    {
     "data": {
      "text/plain": [
       "loyalty_flag\n",
       "Regular customer    15876776\n",
       "Loyal customer      10284093\n",
       "New customer         6243990\n",
       "Name: count, dtype: int64"
      ]
     },
     "execution_count": 268,
     "metadata": {},
     "output_type": "execute_result"
    }
   ],
   "source": [
    "df_orders_products_grouped['loyalty_flag'].value_counts(dropna = False)"
   ]
  },
  {
   "cell_type": "code",
   "execution_count": 269,
   "id": "243d83ca-c83c-407a-9735-b451feda5f82",
   "metadata": {},
   "outputs": [
    {
     "data": {
      "text/html": [
       "<div>\n",
       "<style scoped>\n",
       "    .dataframe tbody tr th:only-of-type {\n",
       "        vertical-align: middle;\n",
       "    }\n",
       "\n",
       "    .dataframe tbody tr th {\n",
       "        vertical-align: top;\n",
       "    }\n",
       "\n",
       "    .dataframe thead tr th {\n",
       "        text-align: left;\n",
       "    }\n",
       "\n",
       "    .dataframe thead tr:last-of-type th {\n",
       "        text-align: right;\n",
       "    }\n",
       "</style>\n",
       "<table border=\"1\" class=\"dataframe\">\n",
       "  <thead>\n",
       "    <tr>\n",
       "      <th></th>\n",
       "      <th colspan=\"3\" halign=\"left\">prices</th>\n",
       "    </tr>\n",
       "    <tr>\n",
       "      <th></th>\n",
       "      <th>mean</th>\n",
       "      <th>min</th>\n",
       "      <th>max</th>\n",
       "    </tr>\n",
       "    <tr>\n",
       "      <th>loyalty_flag</th>\n",
       "      <th></th>\n",
       "      <th></th>\n",
       "      <th></th>\n",
       "    </tr>\n",
       "  </thead>\n",
       "  <tbody>\n",
       "    <tr>\n",
       "      <th>Loyal customer</th>\n",
       "      <td>10.386336</td>\n",
       "      <td>1.0</td>\n",
       "      <td>99999.0</td>\n",
       "    </tr>\n",
       "    <tr>\n",
       "      <th>New customer</th>\n",
       "      <td>13.294670</td>\n",
       "      <td>1.0</td>\n",
       "      <td>99999.0</td>\n",
       "    </tr>\n",
       "    <tr>\n",
       "      <th>Regular customer</th>\n",
       "      <td>12.495717</td>\n",
       "      <td>1.0</td>\n",
       "      <td>99999.0</td>\n",
       "    </tr>\n",
       "  </tbody>\n",
       "</table>\n",
       "</div>"
      ],
      "text/plain": [
       "                     prices              \n",
       "                       mean  min      max\n",
       "loyalty_flag                             \n",
       "Loyal customer    10.386336  1.0  99999.0\n",
       "New customer      13.294670  1.0  99999.0\n",
       "Regular customer  12.495717  1.0  99999.0"
      ]
     },
     "execution_count": 269,
     "metadata": {},
     "output_type": "execute_result"
    }
   ],
   "source": [
    "df_orders_products_grouped.groupby('loyalty_flag').agg({'prices': ['mean', 'min', 'max']})"
   ]
  },
  {
   "cell_type": "markdown",
   "id": "a12a30d1-b24c-4530-9cb6-3b4419bc4a25",
   "metadata": {},
   "source": [
    "## Spending flag"
   ]
  },
  {
   "cell_type": "code",
   "execution_count": 271,
   "id": "77f281ad-5d40-4278-9933-594a3e90a3c6",
   "metadata": {},
   "outputs": [],
   "source": [
    "df_orders_products_grouped['avg_price'] = df_orders_products_grouped.groupby(['user_id'])['prices'].transform('mean')"
   ]
  },
  {
   "cell_type": "code",
   "execution_count": 272,
   "id": "1125a0c8-cf68-4b10-accb-7ea2222ef047",
   "metadata": {},
   "outputs": [],
   "source": [
    "df_orders_products_grouped.loc[df_orders_products_grouped['avg_price'] < 10, 'spending_flag'] = 'Low spender'"
   ]
  },
  {
   "cell_type": "code",
   "execution_count": 273,
   "id": "a2e794da-b229-40ff-b0a9-a8e1f631defe",
   "metadata": {},
   "outputs": [],
   "source": [
    "df_orders_products_grouped.loc[df_orders_products_grouped['avg_price'] >= 10, 'spending_flag'] = 'High spender'"
   ]
  },
  {
   "cell_type": "code",
   "execution_count": 274,
   "id": "fb2c79d1-65bd-4726-824b-78b94deaee35",
   "metadata": {},
   "outputs": [
    {
     "data": {
      "text/plain": [
       "spending_flag\n",
       "Low spender     31770614\n",
       "High spender      634245\n",
       "Name: count, dtype: int64"
      ]
     },
     "execution_count": 274,
     "metadata": {},
     "output_type": "execute_result"
    }
   ],
   "source": [
    "df_orders_products_grouped['spending_flag'].value_counts(dropna = False)"
   ]
  },
  {
   "cell_type": "markdown",
   "id": "2f053960-acdd-422c-accb-ec0400f99510",
   "metadata": {},
   "source": [
    "## Order frequency flag"
   ]
  },
  {
   "cell_type": "code",
   "execution_count": 276,
   "id": "a09ef61f-6049-4b62-bd65-3e24885162c3",
   "metadata": {},
   "outputs": [],
   "source": [
    "df_orders_products_grouped['median_days'] = df_orders_products_grouped.groupby(['user_id'])['days_since_prior_order'].transform('median')"
   ]
  },
  {
   "cell_type": "code",
   "execution_count": 277,
   "id": "7a962c30-5337-4f99-8ea4-57387bfe001b",
   "metadata": {},
   "outputs": [],
   "source": [
    "df_orders_products_grouped.loc[df_orders_products_grouped['median_days'] > 20, 'frequency_flag'] = 'Non-frequent customer'"
   ]
  },
  {
   "cell_type": "code",
   "execution_count": 278,
   "id": "6c6522b8-1809-4bac-80f0-905f22ab4dea",
   "metadata": {},
   "outputs": [],
   "source": [
    "df_orders_products_grouped.loc[(df_orders_products_grouped['median_days'] > 10) & (df_orders_products_grouped['median_days'] <= 20), 'frequency_flag'] = 'Regular customer'"
   ]
  },
  {
   "cell_type": "code",
   "execution_count": 279,
   "id": "0f7c4634-9d50-458a-ac6c-725ef1052774",
   "metadata": {},
   "outputs": [],
   "source": [
    "df_orders_products_grouped.loc[df_orders_products_grouped['median_days'] <= 10, 'frequency_flag'] = 'Frequent customer'"
   ]
  },
  {
   "cell_type": "code",
   "execution_count": 280,
   "id": "67cb0899-302c-4276-bc19-9089a7d7670d",
   "metadata": {},
   "outputs": [
    {
     "data": {
      "text/plain": [
       "frequency_flag\n",
       "Frequent customer        21559853\n",
       "Regular customer          7208564\n",
       "Non-frequent customer     3636437\n",
       "NaN                             5\n",
       "Name: count, dtype: int64"
      ]
     },
     "execution_count": 280,
     "metadata": {},
     "output_type": "execute_result"
    }
   ],
   "source": [
    "df_orders_products_grouped['frequency_flag'].value_counts(dropna = False)"
   ]
  },
  {
   "cell_type": "markdown",
   "id": "5034cb4e-1e31-4b4b-8653-1f2bb4fbb684",
   "metadata": {},
   "source": [
    "# Dimensions after grouping"
   ]
  },
  {
   "cell_type": "code",
   "execution_count": 282,
   "id": "9c8104cb-1022-4722-ba48-ef1209d863b3",
   "metadata": {},
   "outputs": [
    {
     "data": {
      "text/plain": [
       "(32404859, 27)"
      ]
     },
     "execution_count": 282,
     "metadata": {},
     "output_type": "execute_result"
    }
   ],
   "source": [
    "df_orders_products_variables.shape"
   ]
  },
  {
   "cell_type": "code",
   "execution_count": 283,
   "id": "5cadc1a4-80a5-4786-af05-652ee98db6eb",
   "metadata": {},
   "outputs": [
    {
     "data": {
      "text/plain": [
       "(32404859, 33)"
      ]
     },
     "execution_count": 283,
     "metadata": {},
     "output_type": "execute_result"
    }
   ],
   "source": [
    "df_orders_products_grouped.shape"
   ]
  },
  {
   "cell_type": "code",
   "execution_count": 284,
   "id": "701853e3-ce93-4d65-baf9-fb723ecc4dbb",
   "metadata": {},
   "outputs": [],
   "source": [
    "crosstab = pd.crosstab(df_orders_products_grouped['days_since_prior_order'], df_orders_products_grouped['order_number'], dropna = False)"
   ]
  },
  {
   "cell_type": "code",
   "execution_count": 285,
   "id": "d955db7b-8a51-4cbe-923c-0c763232b9ae",
   "metadata": {},
   "outputs": [],
   "source": [
    "crosstab.to_clipboard()"
   ]
  },
  {
   "cell_type": "code",
   "execution_count": null,
   "id": "89baadc9-3708-4da4-91b2-99acd522f547",
   "metadata": {},
   "outputs": [],
   "source": []
  }
 ],
 "metadata": {
  "kernelspec": {
   "display_name": "Python 3 (ipykernel)",
   "language": "python",
   "name": "python3"
  },
  "language_info": {
   "codemirror_mode": {
    "name": "ipython",
    "version": 3
   },
   "file_extension": ".py",
   "mimetype": "text/x-python",
   "name": "python",
   "nbconvert_exporter": "python",
   "pygments_lexer": "ipython3",
   "version": "3.12.4"
  }
 },
 "nbformat": 4,
 "nbformat_minor": 5
}
