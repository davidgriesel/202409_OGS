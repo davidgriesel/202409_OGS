{
 "cells": [
  {
   "cell_type": "markdown",
   "id": "3a4cc115-7acd-43c3-8025-f952dc011d84",
   "metadata": {},
   "source": [
    "# Contents\n",
    "1. Imports\n",
    "2. Checks\n",
    "3. Derive New Variables\n",
    "4. Exports"
   ]
  },
  {
   "cell_type": "markdown",
   "id": "238de3a9-1ba5-4863-b83e-fefef3a474c2",
   "metadata": {},
   "source": [
    "# 1. Imports"
   ]
  },
  {
   "cell_type": "code",
   "execution_count": 1,
   "id": "abfb3baf-1f05-463b-bdc7-76db10244940",
   "metadata": {},
   "outputs": [],
   "source": [
    "#Libraries\n",
    "import pandas as pd\n",
    "import numpy as np\n",
    "import os"
   ]
  },
  {
   "cell_type": "code",
   "execution_count": 2,
   "id": "ba8ecf43-79d2-4a89-a92b-43f07b072edd",
   "metadata": {},
   "outputs": [],
   "source": [
    "#Path\n",
    "path = r'/Users/davidgriesel/Documents/0 - Analytics Projects/Online Grocery Store'"
   ]
  },
  {
   "cell_type": "code",
   "execution_count": 3,
   "id": "1a1e3662-b162-4671-9629-5085fd328b95",
   "metadata": {},
   "outputs": [],
   "source": [
    "#Dataset\n",
    "df_merged_dataset = pd.read_pickle(os.path.join(path, '02 - Data', 'Prepared Data', 'merged_dataset.pkl'))"
   ]
  },
  {
   "cell_type": "markdown",
   "id": "09f5e18c-1e49-43d6-812f-70adf606bd53",
   "metadata": {},
   "source": [
    "# 2. Checks"
   ]
  },
  {
   "cell_type": "code",
   "execution_count": 4,
   "id": "2b309c09-a19b-4917-bd81-910e6081a638",
   "metadata": {},
   "outputs": [
    {
     "data": {
      "text/plain": [
       "(32403719, 21)"
      ]
     },
     "execution_count": 4,
     "metadata": {},
     "output_type": "execute_result"
    }
   ],
   "source": [
    "#Dimensions\n",
    "df_merged_dataset.shape"
   ]
  },
  {
   "cell_type": "code",
   "execution_count": 5,
   "id": "a16c16a0-c3ce-436a-ba10-7ace6bab67d0",
   "metadata": {
    "scrolled": true
   },
   "outputs": [
    {
     "data": {
      "text/html": [
       "<div>\n",
       "<style scoped>\n",
       "    .dataframe tbody tr th:only-of-type {\n",
       "        vertical-align: middle;\n",
       "    }\n",
       "\n",
       "    .dataframe tbody tr th {\n",
       "        vertical-align: top;\n",
       "    }\n",
       "\n",
       "    .dataframe thead th {\n",
       "        text-align: right;\n",
       "    }\n",
       "</style>\n",
       "<table border=\"1\" class=\"dataframe\">\n",
       "  <thead>\n",
       "    <tr style=\"text-align: right;\">\n",
       "      <th></th>\n",
       "      <th>order_id</th>\n",
       "      <th>user_id</th>\n",
       "      <th>user_order_count</th>\n",
       "      <th>order_day_of_week</th>\n",
       "      <th>order_hour_of_day</th>\n",
       "      <th>days_since_last_order</th>\n",
       "      <th>is_first_order</th>\n",
       "      <th>product_id</th>\n",
       "      <th>add_to_cart_order</th>\n",
       "      <th>reordered</th>\n",
       "      <th>...</th>\n",
       "      <th>aisle_id</th>\n",
       "      <th>department_id</th>\n",
       "      <th>prices</th>\n",
       "      <th>gender</th>\n",
       "      <th>state</th>\n",
       "      <th>age</th>\n",
       "      <th>date_joined</th>\n",
       "      <th>number_of_dependants</th>\n",
       "      <th>marital_status</th>\n",
       "      <th>income</th>\n",
       "    </tr>\n",
       "  </thead>\n",
       "  <tbody>\n",
       "    <tr>\n",
       "      <th>0</th>\n",
       "      <td>2539329</td>\n",
       "      <td>1</td>\n",
       "      <td>1</td>\n",
       "      <td>2</td>\n",
       "      <td>8</td>\n",
       "      <td>NaN</td>\n",
       "      <td>True</td>\n",
       "      <td>196</td>\n",
       "      <td>1</td>\n",
       "      <td>0</td>\n",
       "      <td>...</td>\n",
       "      <td>77</td>\n",
       "      <td>7</td>\n",
       "      <td>9.0</td>\n",
       "      <td>Female</td>\n",
       "      <td>Alabama</td>\n",
       "      <td>31</td>\n",
       "      <td>2019-02-17</td>\n",
       "      <td>3</td>\n",
       "      <td>married</td>\n",
       "      <td>40423</td>\n",
       "    </tr>\n",
       "    <tr>\n",
       "      <th>1</th>\n",
       "      <td>2539329</td>\n",
       "      <td>1</td>\n",
       "      <td>1</td>\n",
       "      <td>2</td>\n",
       "      <td>8</td>\n",
       "      <td>NaN</td>\n",
       "      <td>True</td>\n",
       "      <td>14084</td>\n",
       "      <td>2</td>\n",
       "      <td>0</td>\n",
       "      <td>...</td>\n",
       "      <td>91</td>\n",
       "      <td>16</td>\n",
       "      <td>12.5</td>\n",
       "      <td>Female</td>\n",
       "      <td>Alabama</td>\n",
       "      <td>31</td>\n",
       "      <td>2019-02-17</td>\n",
       "      <td>3</td>\n",
       "      <td>married</td>\n",
       "      <td>40423</td>\n",
       "    </tr>\n",
       "    <tr>\n",
       "      <th>2</th>\n",
       "      <td>2539329</td>\n",
       "      <td>1</td>\n",
       "      <td>1</td>\n",
       "      <td>2</td>\n",
       "      <td>8</td>\n",
       "      <td>NaN</td>\n",
       "      <td>True</td>\n",
       "      <td>12427</td>\n",
       "      <td>3</td>\n",
       "      <td>0</td>\n",
       "      <td>...</td>\n",
       "      <td>23</td>\n",
       "      <td>19</td>\n",
       "      <td>4.4</td>\n",
       "      <td>Female</td>\n",
       "      <td>Alabama</td>\n",
       "      <td>31</td>\n",
       "      <td>2019-02-17</td>\n",
       "      <td>3</td>\n",
       "      <td>married</td>\n",
       "      <td>40423</td>\n",
       "    </tr>\n",
       "    <tr>\n",
       "      <th>3</th>\n",
       "      <td>2539329</td>\n",
       "      <td>1</td>\n",
       "      <td>1</td>\n",
       "      <td>2</td>\n",
       "      <td>8</td>\n",
       "      <td>NaN</td>\n",
       "      <td>True</td>\n",
       "      <td>26088</td>\n",
       "      <td>4</td>\n",
       "      <td>0</td>\n",
       "      <td>...</td>\n",
       "      <td>23</td>\n",
       "      <td>19</td>\n",
       "      <td>4.7</td>\n",
       "      <td>Female</td>\n",
       "      <td>Alabama</td>\n",
       "      <td>31</td>\n",
       "      <td>2019-02-17</td>\n",
       "      <td>3</td>\n",
       "      <td>married</td>\n",
       "      <td>40423</td>\n",
       "    </tr>\n",
       "    <tr>\n",
       "      <th>4</th>\n",
       "      <td>2539329</td>\n",
       "      <td>1</td>\n",
       "      <td>1</td>\n",
       "      <td>2</td>\n",
       "      <td>8</td>\n",
       "      <td>NaN</td>\n",
       "      <td>True</td>\n",
       "      <td>26405</td>\n",
       "      <td>5</td>\n",
       "      <td>0</td>\n",
       "      <td>...</td>\n",
       "      <td>54</td>\n",
       "      <td>17</td>\n",
       "      <td>1.0</td>\n",
       "      <td>Female</td>\n",
       "      <td>Alabama</td>\n",
       "      <td>31</td>\n",
       "      <td>2019-02-17</td>\n",
       "      <td>3</td>\n",
       "      <td>married</td>\n",
       "      <td>40423</td>\n",
       "    </tr>\n",
       "  </tbody>\n",
       "</table>\n",
       "<p>5 rows × 21 columns</p>\n",
       "</div>"
      ],
      "text/plain": [
       "   order_id  user_id  user_order_count  order_day_of_week  order_hour_of_day  \\\n",
       "0   2539329        1                 1                  2                  8   \n",
       "1   2539329        1                 1                  2                  8   \n",
       "2   2539329        1                 1                  2                  8   \n",
       "3   2539329        1                 1                  2                  8   \n",
       "4   2539329        1                 1                  2                  8   \n",
       "\n",
       "   days_since_last_order  is_first_order  product_id  add_to_cart_order  \\\n",
       "0                    NaN            True         196                  1   \n",
       "1                    NaN            True       14084                  2   \n",
       "2                    NaN            True       12427                  3   \n",
       "3                    NaN            True       26088                  4   \n",
       "4                    NaN            True       26405                  5   \n",
       "\n",
       "   reordered  ... aisle_id  department_id  prices  gender    state age  \\\n",
       "0          0  ...       77              7     9.0  Female  Alabama  31   \n",
       "1          0  ...       91             16    12.5  Female  Alabama  31   \n",
       "2          0  ...       23             19     4.4  Female  Alabama  31   \n",
       "3          0  ...       23             19     4.7  Female  Alabama  31   \n",
       "4          0  ...       54             17     1.0  Female  Alabama  31   \n",
       "\n",
       "   date_joined number_of_dependants  marital_status income  \n",
       "0   2019-02-17                    3         married  40423  \n",
       "1   2019-02-17                    3         married  40423  \n",
       "2   2019-02-17                    3         married  40423  \n",
       "3   2019-02-17                    3         married  40423  \n",
       "4   2019-02-17                    3         married  40423  \n",
       "\n",
       "[5 rows x 21 columns]"
      ]
     },
     "execution_count": 5,
     "metadata": {},
     "output_type": "execute_result"
    }
   ],
   "source": [
    "#Preview\n",
    "df_merged_dataset.head()"
   ]
  },
  {
   "cell_type": "markdown",
   "id": "04fbda70-efad-41f3-a270-06bca82b3aa9",
   "metadata": {},
   "source": [
    "##### Observations:\n",
    "- Consistent with integrated dataset"
   ]
  },
  {
   "cell_type": "markdown",
   "id": "7bc5165b-0c96-41cf-b6dd-1abd1e0d7bbc",
   "metadata": {},
   "source": [
    "# 3. Derive New Variables"
   ]
  },
  {
   "cell_type": "markdown",
   "id": "17a390bd-aa08-4089-bf2b-3a89544950a1",
   "metadata": {},
   "source": [
    "## 3.1. Average Price"
   ]
  },
  {
   "cell_type": "code",
   "execution_count": 6,
   "id": "877747dc-c200-404c-a7bf-ddfa2b328d29",
   "metadata": {},
   "outputs": [],
   "source": [
    "#Average spent(price) by user_id\n",
    "df_merged_dataset['avg_price'] = df_merged_dataset.groupby(['user_id'])['prices'].transform('mean')"
   ]
  },
  {
   "cell_type": "code",
   "execution_count": 7,
   "id": "55dd2cb8-7873-4b3a-bb06-6cf0ec0f81b6",
   "metadata": {
    "scrolled": true
   },
   "outputs": [],
   "source": [
    "#Confirm results\n",
    "#df_merged_dataset[['user_id', 'avg_price']].head()"
   ]
  },
  {
   "cell_type": "code",
   "execution_count": 8,
   "id": "64c40ce6-4a1e-4d52-815f-f49e1d9bad0d",
   "metadata": {},
   "outputs": [],
   "source": [
    "#Dimensions\n",
    "#df_merged_dataset.shape"
   ]
  },
  {
   "cell_type": "markdown",
   "id": "2769bc49-3297-458f-b29f-87689474467a",
   "metadata": {},
   "source": [
    "## 3.2. Spending Flag"
   ]
  },
  {
   "cell_type": "code",
   "execution_count": 9,
   "id": "64282687-9aad-442a-8897-52e33b4f5917",
   "metadata": {},
   "outputs": [],
   "source": [
    "#df_merged_dataset['avg_price'].describe()"
   ]
  },
  {
   "cell_type": "code",
   "execution_count": 10,
   "id": "22f5d7a6-a92c-4f49-8898-d5c7d29ee99d",
   "metadata": {},
   "outputs": [],
   "source": [
    "# Define conditions\n",
    "conditions = [\n",
    "    df_merged_dataset['avg_price'] <= 5,\n",
    "    (df_merged_dataset['avg_price'] > 5) & (df_merged_dataset['avg_price'] <= 15),\n",
    "    df_merged_dataset['avg_price'] > 15\n",
    "]\n",
    "# Define corresponding labels\n",
    "labels = ['Low Spender', 'Moderate Spender', 'High Spender']\n",
    "\n",
    "# Assign loyalty flags using np.select()\n",
    "df_merged_dataset['spending_flag'] = np.select(conditions, labels, default = 'Unknown')"
   ]
  },
  {
   "cell_type": "code",
   "execution_count": 11,
   "id": "079e71ac-4ba8-4a18-81de-7608c4b68c3d",
   "metadata": {},
   "outputs": [],
   "source": [
    "#Confirm results\n",
    "#df_merged_dataset[['avg_price', 'spending_flag']].head()"
   ]
  },
  {
   "cell_type": "code",
   "execution_count": 12,
   "id": "4ed8cb11-6e14-43b6-a299-081758ec27af",
   "metadata": {},
   "outputs": [],
   "source": [
    "#Dimensions\n",
    "#df_merged_dataset.shape"
   ]
  },
  {
   "cell_type": "code",
   "execution_count": 13,
   "id": "e9747b70-97b8-4b4b-9079-0392925b5e33",
   "metadata": {},
   "outputs": [
    {
     "data": {
      "text/plain": [
       "spending_flag\n",
       "Moderate Spender    32315896\n",
       "Low Spender            87560\n",
       "High Spender             263\n",
       "Name: count, dtype: int64"
      ]
     },
     "execution_count": 13,
     "metadata": {},
     "output_type": "execute_result"
    }
   ],
   "source": [
    "#Check frequency distribution of new variable\n",
    "df_merged_dataset['spending_flag'].value_counts(dropna = False)"
   ]
  },
  {
   "cell_type": "code",
   "execution_count": 16,
   "id": "4b05c579-af43-4b84-81b2-ded4bfb50a08",
   "metadata": {
    "scrolled": true
   },
   "outputs": [],
   "source": [
    "#Check distribution of user_id's by spending_flag\n",
    "#df_merged_dataset.groupby('spending_flag')['user_id'].nunique()"
   ]
  },
  {
   "cell_type": "markdown",
   "id": "4444a006-d8be-41ba-a385-fcbec5c9898e",
   "metadata": {
    "editable": true,
    "slideshow": {
     "slide_type": ""
    },
    "tags": []
   },
   "source": [
    "## 3.3. Max Order"
   ]
  },
  {
   "cell_type": "code",
   "execution_count": 17,
   "id": "6cd5b806-1ada-4cfb-a6ae-1c126273bdb4",
   "metadata": {},
   "outputs": [],
   "source": [
    "#Group by 'user_id' and return the 'max_order' number in new column\n",
    "df_merged_dataset['max_order'] = df_merged_dataset.groupby(['user_id'])['user_order_count'].transform('max')"
   ]
  },
  {
   "cell_type": "code",
   "execution_count": 18,
   "id": "b2d1c72c-f089-4f78-9adb-514f98eeb905",
   "metadata": {},
   "outputs": [],
   "source": [
    "#Confirm results\n",
    "#df_merged_dataset[['user_id', 'max_order']].head()"
   ]
  },
  {
   "cell_type": "code",
   "execution_count": 19,
   "id": "4e5107e1-e49c-463d-94ab-30e1d86177c8",
   "metadata": {},
   "outputs": [],
   "source": [
    "#Dimensions\n",
    "#df_merged_dataset.shape"
   ]
  },
  {
   "cell_type": "markdown",
   "id": "4ec5d810-6d8a-4407-a05a-7d50385449cf",
   "metadata": {},
   "source": [
    "## 3.4. Engagement Flag"
   ]
  },
  {
   "cell_type": "code",
   "execution_count": 18,
   "id": "350514f2-7a65-4efa-a716-d3502a521dd9",
   "metadata": {},
   "outputs": [],
   "source": [
    "#df_merged_dataset['max_order'].describe()"
   ]
  },
  {
   "cell_type": "code",
   "execution_count": 20,
   "id": "ce769ff5-e79f-4883-a391-15e41efc904b",
   "metadata": {},
   "outputs": [],
   "source": [
    "# Define conditions\n",
    "conditions = [\n",
    "    df_merged_dataset['max_order'] <= 14, #bottom 25%\n",
    "    (df_merged_dataset['max_order'] > 14) & (df_merged_dataset['max_order'] <= 48), #middle 50%\n",
    "    df_merged_dataset['max_order'] > 48 #top 25%\n",
    "]\n",
    "\n",
    "# Define corresponding labels\n",
    "labels = ['Low Engagement', 'Moderate Engagement', 'High Engagement']\n",
    "\n",
    "# Assign loyalty flags using np.select()\n",
    "df_merged_dataset['engagement_flag'] = np.select(conditions, labels, default = 'Unknown')"
   ]
  },
  {
   "cell_type": "code",
   "execution_count": 20,
   "id": "712270c7-b0ec-46f1-8d71-40a6f7e45e60",
   "metadata": {},
   "outputs": [],
   "source": [
    "#Confirm results\n",
    "#df_merged_dataset[['max_order', 'engagement_flag']].head()"
   ]
  },
  {
   "cell_type": "code",
   "execution_count": 21,
   "id": "b2a0eb03-7e71-4c9a-8f16-87fca3f93405",
   "metadata": {},
   "outputs": [],
   "source": [
    "#Dimensions\n",
    "#df_merged_dataset.shape"
   ]
  },
  {
   "cell_type": "code",
   "execution_count": 21,
   "id": "6e365630-e460-49a6-b994-3004b0682ebe",
   "metadata": {},
   "outputs": [
    {
     "data": {
      "text/plain": [
       "engagement_flag\n",
       "Moderate Engagement    15499267\n",
       "Low Engagement          9227866\n",
       "High Engagement         7676586\n",
       "Name: count, dtype: int64"
      ]
     },
     "execution_count": 21,
     "metadata": {},
     "output_type": "execute_result"
    }
   ],
   "source": [
    "#Check frequency distribution of new variable\n",
    "df_merged_dataset['engagement_flag'].value_counts(dropna = False)"
   ]
  },
  {
   "cell_type": "code",
   "execution_count": 23,
   "id": "13c97bad-fbe4-499e-aeed-393ed970ae81",
   "metadata": {},
   "outputs": [],
   "source": [
    "#Check distribution of user_id's by loyalty_flag\n",
    "#df_merged_dataset.groupby('engagement_flag')['user_id'].nunique()"
   ]
  },
  {
   "cell_type": "code",
   "execution_count": 24,
   "id": "1b279d18-6858-4117-9753-7beb4e41a5ba",
   "metadata": {},
   "outputs": [],
   "source": [
    "#Basic price statistics by loyalty_flag\n",
    "#df_merged_dataset.groupby('engagement_flag').agg({'prices': ['mean', 'min', 'max']})"
   ]
  },
  {
   "cell_type": "markdown",
   "id": "6466a65c-59f5-4ad7-99e8-7ef7b9116596",
   "metadata": {},
   "source": [
    "## 3.5. Median Days"
   ]
  },
  {
   "cell_type": "code",
   "execution_count": 22,
   "id": "db047d7f-0b79-4a47-82ef-1cd966324244",
   "metadata": {},
   "outputs": [],
   "source": [
    "#Median of days_since_prior_order by user_id\n",
    "df_merged_dataset['median_days'] = df_merged_dataset.groupby(['user_id'])['days_since_last_order'].transform('median')"
   ]
  },
  {
   "cell_type": "code",
   "execution_count": 26,
   "id": "3d76cbde-0cb3-475b-b044-c1602917b416",
   "metadata": {},
   "outputs": [],
   "source": [
    "#Confirm results\n",
    "#df_merged_dataset[['user_id', 'median_days']].head()"
   ]
  },
  {
   "cell_type": "code",
   "execution_count": 27,
   "id": "181eab0f-11f5-471e-a7e4-af900d2c8e5f",
   "metadata": {},
   "outputs": [],
   "source": [
    "#Dimensions\n",
    "#df_merged_dataset.shape"
   ]
  },
  {
   "cell_type": "markdown",
   "id": "f715610c-74a5-4955-a54b-9e210ae56027",
   "metadata": {},
   "source": [
    "## 3.6. Frequency Flag"
   ]
  },
  {
   "cell_type": "code",
   "execution_count": 28,
   "id": "663890ad-0202-4d25-abc8-bedfc1173c7b",
   "metadata": {},
   "outputs": [],
   "source": [
    "#df_merged_dataset['median_days'].describe()"
   ]
  },
  {
   "cell_type": "code",
   "execution_count": 29,
   "id": "ea5ffe29-81e4-4c91-937c-e5150c04d40e",
   "metadata": {},
   "outputs": [],
   "source": [
    "#Check frequency distribution of new variable\n",
    "#df_merged_dataset['median_days'].value_counts(dropna = False)"
   ]
  },
  {
   "cell_type": "code",
   "execution_count": 30,
   "id": "e4c3d30d-a31c-4a54-af7a-6a21cfefd072",
   "metadata": {},
   "outputs": [],
   "source": [
    "#Variable includes 5 NaN values where days_since_last-order is Nan - Include under Rare Shopper\n",
    "#df_null_median_days = df_merged_dataset[df_merged_dataset['median_days'].isna()]\n",
    "#df_null_median_days"
   ]
  },
  {
   "cell_type": "code",
   "execution_count": 23,
   "id": "1f2012bf-9bbe-4384-b969-c3ff6fd50e54",
   "metadata": {},
   "outputs": [],
   "source": [
    "# Define conditions\n",
    "conditions = [\n",
    "    df_merged_dataset['median_days'] <= 6,\n",
    "    (df_merged_dataset['median_days'] > 6) & (df_merged_dataset['median_days'] <= 13),\n",
    "    df_merged_dataset['median_days'] > 13,\n",
    "    df_merged_dataset['median_days'].isna()\n",
    "]\n",
    "\n",
    "# Define corresponding labels\n",
    "labels = ['Frequent Shopper', 'Occasional Shopper', 'Rare Shopper', 'Rare Shopper']\n",
    "\n",
    "# Assign loyalty flags using np.select()\n",
    "df_merged_dataset['frequency_flag'] = np.select(conditions, labels, default = 'Unknown')"
   ]
  },
  {
   "cell_type": "code",
   "execution_count": 32,
   "id": "2eb137d9-52c1-4704-81df-ee549bd72f41",
   "metadata": {},
   "outputs": [],
   "source": [
    "#Confirm results\n",
    "#df_merged_dataset[['median_days', 'frequency_flag']].head()"
   ]
  },
  {
   "cell_type": "code",
   "execution_count": 33,
   "id": "80c1a842-f807-403e-a703-03879345523e",
   "metadata": {},
   "outputs": [],
   "source": [
    "#Dimensions\n",
    "#df_merged_dataset.shape"
   ]
  },
  {
   "cell_type": "code",
   "execution_count": 24,
   "id": "3b6cc863-1a98-42a4-b2eb-164d8d167c6c",
   "metadata": {},
   "outputs": [
    {
     "data": {
      "text/plain": [
       "frequency_flag\n",
       "Occasional Shopper    14622992\n",
       "Frequent Shopper      10091201\n",
       "Rare Shopper           7689526\n",
       "Name: count, dtype: int64"
      ]
     },
     "execution_count": 24,
     "metadata": {},
     "output_type": "execute_result"
    }
   ],
   "source": [
    "#Check frequency distribution of new variable\n",
    "df_merged_dataset['frequency_flag'].value_counts(dropna = False)"
   ]
  },
  {
   "cell_type": "code",
   "execution_count": 35,
   "id": "dfc0ffdb-9bbb-4f01-95a0-c6f903534c5a",
   "metadata": {},
   "outputs": [],
   "source": [
    "#Check distribution of user_id's by frequency_flag\n",
    "#df_merged_dataset.groupby('frequency_flag')['user_id'].nunique()"
   ]
  },
  {
   "cell_type": "code",
   "execution_count": 36,
   "id": "ba8260c3-96e9-4fcf-85a8-359fe0005e68",
   "metadata": {},
   "outputs": [],
   "source": [
    "#Basic price statistics by loyalty_flag\n",
    "#df_merged_dataset.groupby('frequency_flag').agg({'prices': ['mean', 'min', 'max']})"
   ]
  },
  {
   "cell_type": "markdown",
   "id": "4b7b9477-b075-4cb6-bc6f-2003e73037ed",
   "metadata": {},
   "source": [
    "## 3.7. Customer Tenure"
   ]
  },
  {
   "cell_type": "code",
   "execution_count": 37,
   "id": "f3168bd6-651c-44af-8b7e-a54e8e98eeb5",
   "metadata": {},
   "outputs": [],
   "source": [
    "#Check frequency distribution of new variable\n",
    "#df_merged_dataset['date_joined'].value_counts(dropna = False)"
   ]
  },
  {
   "cell_type": "code",
   "execution_count": 38,
   "id": "07f729c5-7413-44c0-a841-e0abce81cf06",
   "metadata": {},
   "outputs": [],
   "source": [
    "#df_merged_dataset['date_joined'].describe()"
   ]
  },
  {
   "cell_type": "code",
   "execution_count": 25,
   "id": "c692e61e-2285-4dae-be3f-3d6a3f8e4ee4",
   "metadata": {},
   "outputs": [],
   "source": [
    "# Define the reference date for analysis\n",
    "reference_date = pd.to_datetime('2020-04-01')\n",
    "\n",
    "# Calculate customer tenure based on the fixed reference date\n",
    "df_merged_dataset['customer_tenure'] = (reference_date - df_merged_dataset['date_joined']).dt.days"
   ]
  },
  {
   "cell_type": "code",
   "execution_count": 40,
   "id": "9b78dd50-ee3d-47dc-9068-c69ad84dcd94",
   "metadata": {},
   "outputs": [],
   "source": [
    "#Confirm results\n",
    "#df_merged_dataset[['date_joined', 'customer_tenure']].head()"
   ]
  },
  {
   "cell_type": "code",
   "execution_count": 41,
   "id": "6467d949-6c19-4d21-9531-79f39bb63810",
   "metadata": {},
   "outputs": [],
   "source": [
    " #Dimensions\n",
    "#df_merged_dataset.shape"
   ]
  },
  {
   "cell_type": "markdown",
   "id": "71f4cd91-fc79-4427-bb4a-d68d8ec73cc4",
   "metadata": {},
   "source": [
    "## 3.8. Activity Rate"
   ]
  },
  {
   "cell_type": "code",
   "execution_count": 42,
   "id": "fabc9318-30ca-4805-bd9a-5b5d7ad85e2e",
   "metadata": {},
   "outputs": [],
   "source": [
    "#df_merged_dataset['customer_tenure'].describe()"
   ]
  },
  {
   "cell_type": "code",
   "execution_count": 26,
   "id": "47fe07be-34da-42ae-bf66-0c57dffbb00e",
   "metadata": {},
   "outputs": [],
   "source": [
    "df_merged_dataset['activity_rate'] = df_merged_dataset['max_order'] / (df_merged_dataset['customer_tenure'] / 30)  # Orders per month"
   ]
  },
  {
   "cell_type": "code",
   "execution_count": 44,
   "id": "bb8c00ad-d46b-4376-9e00-1e710e875c12",
   "metadata": {},
   "outputs": [],
   "source": [
    "#Confirm results\n",
    "#df_merged_dataset[['max_order', 'customer_tenure', 'activity_rate']].head()"
   ]
  },
  {
   "cell_type": "code",
   "execution_count": 45,
   "id": "24cff16f-bfd6-4da7-86bd-2905b6dfd88d",
   "metadata": {},
   "outputs": [],
   "source": [
    "#Dimensions\n",
    "#df_merged_dataset.shape"
   ]
  },
  {
   "cell_type": "markdown",
   "id": "f8054671-7dd1-43d0-813b-7d9808add798",
   "metadata": {},
   "source": [
    "## 3.9. Activity Flag"
   ]
  },
  {
   "cell_type": "code",
   "execution_count": 46,
   "id": "fb526ccc-7bea-4d0d-beae-6ed8778622c3",
   "metadata": {},
   "outputs": [],
   "source": [
    "#df_merged_dataset['activity_rate'].describe()"
   ]
  },
  {
   "cell_type": "code",
   "execution_count": 27,
   "id": "a5745ecb-ff2b-4551-a4e7-ef33fa713913",
   "metadata": {},
   "outputs": [],
   "source": [
    "# Define conditions\n",
    "conditions = [\n",
    "    df_merged_dataset['activity_rate'] <= 0.72, #bottom 25%\n",
    "    (df_merged_dataset['activity_rate'] > 0.72) & (df_merged_dataset['activity_rate'] <= 3.4), #middle 50%\n",
    "    df_merged_dataset['activity_rate'] > 3.4 #top 25%\n",
    "]\n",
    "\n",
    "# Define corresponding labels\n",
    "labels = ['Low Activity', 'Moderate Activity', 'High Activity']\n",
    "\n",
    "# Assign loyalty flags using np.select()\n",
    "df_merged_dataset['activity_flag'] = np.select(conditions, labels, default = 'Unknown')"
   ]
  },
  {
   "cell_type": "code",
   "execution_count": 48,
   "id": "d709b46c-e80b-4ff3-a3b5-4d5da2e8ff65",
   "metadata": {},
   "outputs": [],
   "source": [
    "#Confirm results\n",
    "#df_merged_dataset[['activity_rate', 'activity_flag']].head()"
   ]
  },
  {
   "cell_type": "code",
   "execution_count": 49,
   "id": "283d89cb-77ee-4047-91f9-c82a1e696f74",
   "metadata": {},
   "outputs": [],
   "source": [
    "#Dimensions\n",
    "#df_merged_dataset.shape"
   ]
  },
  {
   "cell_type": "code",
   "execution_count": 28,
   "id": "e01335ee-3ef2-48d5-ae25-260e7dd539a6",
   "metadata": {},
   "outputs": [
    {
     "data": {
      "text/plain": [
       "activity_flag\n",
       "Moderate Activity    15809078\n",
       "Low Activity          8598721\n",
       "High Activity         7995920\n",
       "Name: count, dtype: int64"
      ]
     },
     "execution_count": 28,
     "metadata": {},
     "output_type": "execute_result"
    }
   ],
   "source": [
    "#Check frequency distribution of new variable\n",
    "df_merged_dataset['activity_flag'].value_counts(dropna = False)"
   ]
  },
  {
   "cell_type": "code",
   "execution_count": 51,
   "id": "c0747111-87aa-4f7d-aefd-cf39935fb68a",
   "metadata": {},
   "outputs": [],
   "source": [
    "#Check distribution of user_id's by frequency_flag\n",
    "#df_merged_dataset.groupby('activity_flag')['user_id'].nunique()"
   ]
  },
  {
   "cell_type": "markdown",
   "id": "b3d32a5f-3783-4ed2-96a0-600f98a554f6",
   "metadata": {
    "editable": true,
    "slideshow": {
     "slide_type": ""
    },
    "tags": []
   },
   "source": [
    "## 3.10. Loyalty Score"
   ]
  },
  {
   "cell_type": "code",
   "execution_count": 52,
   "id": "1daf700a-0e17-4ced-aa13-586c942ca928",
   "metadata": {},
   "outputs": [],
   "source": [
    "#Check frequency distribution of new variable\n",
    "#df_merged_dataset['spending_flag'].value_counts(dropna = False)"
   ]
  },
  {
   "cell_type": "code",
   "execution_count": 53,
   "id": "6535f680-94e5-403d-bdc9-9820ae546651",
   "metadata": {},
   "outputs": [],
   "source": [
    "#df_merged_dataset['engagement_flag'].value_counts(dropna = False)"
   ]
  },
  {
   "cell_type": "code",
   "execution_count": 54,
   "id": "a3c93c36-2b92-4560-a754-84b7fbf1498e",
   "metadata": {},
   "outputs": [],
   "source": [
    "#Check frequency distribution of new variable\n",
    "#df_merged_dataset['frequency_flag'].value_counts(dropna = False)"
   ]
  },
  {
   "cell_type": "code",
   "execution_count": 55,
   "id": "97a414ec-d5a6-4f04-90ff-de92fdbfde16",
   "metadata": {},
   "outputs": [],
   "source": [
    "#Check frequency distribution of new variable\n",
    "#df_merged_dataset['activity_flag'].value_counts(dropna = False)"
   ]
  },
  {
   "cell_type": "code",
   "execution_count": 29,
   "id": "89333778-794c-4615-9abc-139409d26a08",
   "metadata": {},
   "outputs": [],
   "source": [
    "# Define mapping of flags to numerical scores\n",
    "spending_mapping = {'Low Spender': 1, 'Moderate Spender': 2, 'High Spender': 3}\n",
    "engagement_mapping = {'Low Engagement': 1, 'Moderate Engagement': 2, 'High Engagement': 3}\n",
    "frequency_mapping = {'Rare Shopper': 1, 'Occasional Shopper': 2, 'Frequent Shopper': 3}\n",
    "activity_mapping = {'Low Activity': 1, 'High Activity': 2, 'Moderate Activity': 3}\n",
    "\n",
    "# Map the categorical flags to numerical scores\n",
    "df_merged_dataset['spending_score'] = df_merged_dataset['spending_flag'].map(spending_mapping)\n",
    "df_merged_dataset['engagement_score'] = df_merged_dataset['engagement_flag'].map(engagement_mapping)\n",
    "df_merged_dataset['frequency_score'] = df_merged_dataset['frequency_flag'].map(frequency_mapping)\n",
    "df_merged_dataset['activity_score'] = df_merged_dataset['activity_flag'].map(activity_mapping)\n",
    "\n",
    "# Calculate the Total Loyalty Score\n",
    "df_merged_dataset['total_loyalty_score'] = (\n",
    "    df_merged_dataset['spending_score'] +\n",
    "    df_merged_dataset['engagement_score'] +\n",
    "    df_merged_dataset['frequency_score'] +\n",
    "    df_merged_dataset['activity_score']\n",
    ")"
   ]
  },
  {
   "cell_type": "code",
   "execution_count": 57,
   "id": "a362d8a9-477a-459d-a653-a07571799f6b",
   "metadata": {},
   "outputs": [],
   "source": [
    "#Confirm results\n",
    "#df_merged_dataset[['spending_flag', 'engagement_flag', 'frequency_flag', 'activity_flag', 'spending_score', 'engagement_score', 'frequency_score', 'activity_score', 'total_loyalty_score']].head(100)"
   ]
  },
  {
   "cell_type": "code",
   "execution_count": 58,
   "id": "397c48b9-0583-4dd4-b469-ff8f351ef12b",
   "metadata": {},
   "outputs": [],
   "source": [
    "#Dimensions\n",
    "#df_merged_dataset.shape"
   ]
  },
  {
   "cell_type": "markdown",
   "id": "afb53048-70ec-4573-85ba-61477d2b8df5",
   "metadata": {},
   "source": [
    "## 3.11. Loyalty Flag"
   ]
  },
  {
   "cell_type": "code",
   "execution_count": 59,
   "id": "f2360a5e-ca14-4f84-ab4c-64af4cc18937",
   "metadata": {},
   "outputs": [],
   "source": [
    "#df_merged_dataset['total_loyalty_score'].describe()"
   ]
  },
  {
   "cell_type": "code",
   "execution_count": 30,
   "id": "4fa64eec-7611-454f-87d3-9581123a078f",
   "metadata": {},
   "outputs": [],
   "source": [
    "# Define conditions for loyalty categories\n",
    "conditions = [\n",
    "    (df_merged_dataset['total_loyalty_score'] <= 7),\n",
    "    (df_merged_dataset['total_loyalty_score'] > 7) & (df_merged_dataset['total_loyalty_score'] <= 10),\n",
    "    (df_merged_dataset['total_loyalty_score'] > 10)\n",
    "]\n",
    "\n",
    "# Define corresponding loyalty categories\n",
    "labels = ['Low Loyalty', 'Moderate Loyalty', 'High Loyalty']\n",
    "\n",
    "# Assign loyalty categories based on conditions\n",
    "df_merged_dataset['loyalty_flag'] = np.select(conditions, labels, default = 'Unknown')"
   ]
  },
  {
   "cell_type": "code",
   "execution_count": 61,
   "id": "8b926160-fbd0-467a-8b2e-037aae300da3",
   "metadata": {},
   "outputs": [],
   "source": [
    "#Confirm results\n",
    "#df_merged_dataset.head()"
   ]
  },
  {
   "cell_type": "code",
   "execution_count": 62,
   "id": "92760514-1624-4544-9900-ac835d47be7f",
   "metadata": {},
   "outputs": [],
   "source": [
    "#Dimensions\n",
    "#df_merged_dataset.shape"
   ]
  },
  {
   "cell_type": "code",
   "execution_count": 31,
   "id": "58131b28-5c84-4d97-906b-6bce89d6ca86",
   "metadata": {},
   "outputs": [
    {
     "data": {
      "text/plain": [
       "loyalty_flag\n",
       "Moderate Loyalty    19014746\n",
       "Low Loyalty         10490196\n",
       "High Loyalty         2898777\n",
       "Name: count, dtype: int64"
      ]
     },
     "execution_count": 31,
     "metadata": {},
     "output_type": "execute_result"
    }
   ],
   "source": [
    "#Check frequency distribution of new variable\n",
    "df_merged_dataset['loyalty_flag'].value_counts(dropna = False)"
   ]
  },
  {
   "cell_type": "code",
   "execution_count": 64,
   "id": "3af80166-c90d-43ed-9bc9-e7f6779740bf",
   "metadata": {},
   "outputs": [],
   "source": [
    "#Check distribution of user_id's by frequency_flag\n",
    "#df_merged_dataset.groupby('loyalty_flag')['user_id'].nunique()"
   ]
  },
  {
   "cell_type": "markdown",
   "id": "5d1803f1-9e2a-4f37-b868-075fd1bef863",
   "metadata": {},
   "source": [
    "# 4. Exports"
   ]
  },
  {
   "cell_type": "code",
   "execution_count": 32,
   "id": "2fd92357-377e-4e24-bbfd-0112158ee2a5",
   "metadata": {},
   "outputs": [
    {
     "data": {
      "text/plain": [
       "Index(['order_id', 'user_id', 'user_order_count', 'order_day_of_week',\n",
       "       'order_hour_of_day', 'days_since_last_order', 'is_first_order',\n",
       "       'product_id', 'add_to_cart_order', 'reordered', 'product_name',\n",
       "       'aisle_id', 'department_id', 'prices', 'gender', 'state', 'age',\n",
       "       'date_joined', 'number_of_dependants', 'marital_status', 'income',\n",
       "       'avg_price', 'spending_flag', 'max_order', 'engagement_flag',\n",
       "       'median_days', 'frequency_flag', 'customer_tenure', 'activity_rate',\n",
       "       'activity_flag', 'spending_score', 'engagement_score',\n",
       "       'frequency_score', 'activity_score', 'total_loyalty_score',\n",
       "       'loyalty_flag'],\n",
       "      dtype='object')"
      ]
     },
     "execution_count": 32,
     "metadata": {},
     "output_type": "execute_result"
    }
   ],
   "source": [
    "df_merged_dataset.columns"
   ]
  },
  {
   "cell_type": "code",
   "execution_count": 33,
   "id": "f97f2073-ba85-4596-a533-80e8f8edc692",
   "metadata": {},
   "outputs": [
    {
     "name": "stdout",
     "output_type": "stream",
     "text": [
      "<class 'pandas.core.frame.DataFrame'>\n",
      "RangeIndex: 32403719 entries, 0 to 32403718\n",
      "Data columns (total 36 columns):\n",
      " #   Column                 Dtype         \n",
      "---  ------                 -----         \n",
      " 0   order_id               int64         \n",
      " 1   user_id                int64         \n",
      " 2   user_order_count       int64         \n",
      " 3   order_day_of_week      int64         \n",
      " 4   order_hour_of_day      int64         \n",
      " 5   days_since_last_order  float64       \n",
      " 6   is_first_order         bool          \n",
      " 7   product_id             int64         \n",
      " 8   add_to_cart_order      int64         \n",
      " 9   reordered              int64         \n",
      " 10  product_name           object        \n",
      " 11  aisle_id               int64         \n",
      " 12  department_id          int64         \n",
      " 13  prices                 float64       \n",
      " 14  gender                 object        \n",
      " 15  state                  object        \n",
      " 16  age                    int64         \n",
      " 17  date_joined            datetime64[ns]\n",
      " 18  number_of_dependants   int64         \n",
      " 19  marital_status         object        \n",
      " 20  income                 int64         \n",
      " 21  avg_price              float64       \n",
      " 22  spending_flag          object        \n",
      " 23  max_order              int64         \n",
      " 24  engagement_flag        object        \n",
      " 25  median_days            float64       \n",
      " 26  frequency_flag         object        \n",
      " 27  customer_tenure        int64         \n",
      " 28  activity_rate          float64       \n",
      " 29  activity_flag          object        \n",
      " 30  spending_score         int64         \n",
      " 31  engagement_score       int64         \n",
      " 32  frequency_score        int64         \n",
      " 33  activity_score         int64         \n",
      " 34  total_loyalty_score    int64         \n",
      " 35  loyalty_flag           object        \n",
      "dtypes: bool(1), datetime64[ns](1), float64(5), int64(20), object(9)\n",
      "memory usage: 8.5+ GB\n"
     ]
    }
   ],
   "source": [
    "df_merged_dataset.info()"
   ]
  },
  {
   "cell_type": "code",
   "execution_count": 34,
   "id": "2a06430f-c6e7-4fdb-bf99-3183846a8c79",
   "metadata": {},
   "outputs": [],
   "source": [
    "#Drop derived variables\n",
    "df_merged_dataset = df_merged_dataset.drop(columns = ['is_first_order', \n",
    "                                                      'add_to_cart_order', \n",
    "                                                      'reordered', \n",
    "                                                      'product_name', \n",
    "                                                      'aisle_id', \n",
    "                                                      'gender', \n",
    "                                                      'avg_price',\n",
    "                                                      'max_order',\n",
    "                                                      'median_days',\n",
    "                                                      'customer_tenure',\n",
    "                                                      'activity_rate',\n",
    "                                                      'spending_score', \n",
    "                                                      'engagement_score',\n",
    "                                                      'frequency_score', \n",
    "                                                      'activity_score',\n",
    "                                                      'total_loyalty_score',\n",
    "                                                     ])"
   ]
  },
  {
   "cell_type": "code",
   "execution_count": 35,
   "id": "1da8efc6-419d-4abe-95bb-6313f7892a6c",
   "metadata": {},
   "outputs": [
    {
     "name": "stdout",
     "output_type": "stream",
     "text": [
      "<class 'pandas.core.frame.DataFrame'>\n",
      "RangeIndex: 32403719 entries, 0 to 32403718\n",
      "Data columns (total 20 columns):\n",
      " #   Column                 Dtype         \n",
      "---  ------                 -----         \n",
      " 0   order_id               int64         \n",
      " 1   user_id                int64         \n",
      " 2   user_order_count       int64         \n",
      " 3   order_day_of_week      int64         \n",
      " 4   order_hour_of_day      int64         \n",
      " 5   days_since_last_order  float64       \n",
      " 6   product_id             int64         \n",
      " 7   department_id          int64         \n",
      " 8   prices                 float64       \n",
      " 9   state                  object        \n",
      " 10  age                    int64         \n",
      " 11  date_joined            datetime64[ns]\n",
      " 12  number_of_dependants   int64         \n",
      " 13  marital_status         object        \n",
      " 14  income                 int64         \n",
      " 15  spending_flag          object        \n",
      " 16  engagement_flag        object        \n",
      " 17  frequency_flag         object        \n",
      " 18  activity_flag          object        \n",
      " 19  loyalty_flag           object        \n",
      "dtypes: datetime64[ns](1), float64(2), int64(10), object(7)\n",
      "memory usage: 4.8+ GB\n"
     ]
    }
   ],
   "source": [
    "df_merged_dataset.info()"
   ]
  },
  {
   "cell_type": "code",
   "execution_count": 36,
   "id": "96d10f9c-2327-458c-85e4-eed59b2e65b2",
   "metadata": {},
   "outputs": [
    {
     "data": {
      "text/plain": [
       "(32403719, 20)"
      ]
     },
     "execution_count": 36,
     "metadata": {},
     "output_type": "execute_result"
    }
   ],
   "source": [
    "#Confirm dimensions\n",
    "df_merged_dataset.shape"
   ]
  },
  {
   "cell_type": "code",
   "execution_count": 37,
   "id": "26a676ff-4f16-4bdc-b197-3b12065eb758",
   "metadata": {},
   "outputs": [],
   "source": [
    "#Export merged dataset\n",
    "df_merged_dataset.to_pickle(os.path.join(path, '02 - Data', 'Prepared Data', 'profiled_dataset.pkl'))"
   ]
  }
 ],
 "metadata": {
  "kernelspec": {
   "display_name": "Python 3 (ipykernel)",
   "language": "python",
   "name": "python3"
  },
  "language_info": {
   "codemirror_mode": {
    "name": "ipython",
    "version": 3
   },
   "file_extension": ".py",
   "mimetype": "text/x-python",
   "name": "python",
   "nbconvert_exporter": "python",
   "pygments_lexer": "ipython3",
   "version": "3.12.2"
  }
 },
 "nbformat": 4,
 "nbformat_minor": 5
}
