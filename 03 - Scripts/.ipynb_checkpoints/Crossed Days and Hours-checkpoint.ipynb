{
 "cells": [
  {
   "cell_type": "code",
   "execution_count": null,
   "id": "f8c4dca3-b238-4738-ab80-a809a56f386e",
   "metadata": {},
   "outputs": [],
   "source": [
    "\n",
    "\n",
    "\n"
   ]
  },
  {
   "cell_type": "code",
   "execution_count": null,
   "id": "359e28b3-cdca-4880-8faf-122f1e6dbbda",
   "metadata": {},
   "outputs": [],
   "source": [
    "import pandas as pd\n",
    "import seaborn as sns\n",
    "import matplotlib.pyplot as plt\n",
    "import numpy as np\n",
    "\n",
    "# Sample DataFrame creation (replace this with your actual DataFrame)\n",
    "# df_dataset = pd.DataFrame({\n",
    "#     'order_day_of_week': np.random.randint(0, 7, 1000),\n",
    "#     'order_hour_of_day': np.random.randint(0, 24, 1000)\n",
    "# })\n",
    "\n",
    "# Define the mapping of numeric days to weekday names\n",
    "day_mapping = {0: \"Monday\", 1: \"Tuesday\", 2: \"Wednesday\", 3: \"Thursday\", \n",
    "               4: \"Friday\", 5: \"Saturday\", 6: \"Sunday\"}\n",
    "\n",
    "# Aggregate the dataset to count orders for each day-hour combination\n",
    "order_counts = df_dataset.groupby(['order_day_of_week', 'order_hour_of_day']).size().reset_index(name='count')\n",
    "\n",
    "# Pivot the data to have days as rows and hours as columns\n",
    "order_pivot = order_counts.pivot('order_day_of_week', 'order_hour_of_day', 'count')\n",
    "\n",
    "# Reindex the pivot table to ensure all days and hours are represented\n",
    "order_pivot = order_pivot.reindex(index=range(7), columns=range(24), fill_value=0)\n",
    "\n",
    "# Map the numeric day index to weekday names\n",
    "order_pivot.index = order_pivot.index.map(day_mapping)\n",
    "\n",
    "# Create the heatmap\n",
    "plt.figure(figsize=(12, 8))\n",
    "sns.heatmap(order_pivot, cmap='YlGnBu', linewidths=.5, annot=True, fmt='d', cbar_kws={'label': 'Number of Orders'})\n",
    "\n",
    "# Set the title and labels\n",
    "plt.title('Order Distribution by Day of the Week and Hour of the Day')\n",
    "plt.xlabel('Hour of the Day')\n",
    "plt.ylabel('Day of the Week')\n",
    "\n",
    "# Improve x-axis labels to reflect 24-hour format (00:00, 01:00, ..., 23:00)\n",
    "plt.xticks(ticks=np.arange(24) + 0.5, labels=[f\"{hour:02d}:00\" for hour in range(24)], rotation=45, ha='right')\n",
    "\n",
    "# Adjust layout for better spacing\n",
    "plt.tight_layout()\n",
    "\n",
    "# Save the figure before displaying\n",
    "plt.savefig('order_distribution_heatmap.png', dpi=300, bbox_inches='tight')\n",
    "\n",
    "# Show the plot\n",
    "plt.show()\n",
    "\n",
    "# Print confirmation message\n",
    "print(\"Chart successfully saved as 'order_distribution_heatmap.png'\")"
   ]
  }
 ],
 "metadata": {
  "kernelspec": {
   "display_name": "Python 3 (ipykernel)",
   "language": "python",
   "name": "python3"
  },
  "language_info": {
   "codemirror_mode": {
    "name": "ipython",
    "version": 3
   },
   "file_extension": ".py",
   "mimetype": "text/x-python",
   "name": "python",
   "nbconvert_exporter": "python",
   "pygments_lexer": "ipython3",
   "version": "3.12.2"
  }
 },
 "nbformat": 4,
 "nbformat_minor": 5
}
