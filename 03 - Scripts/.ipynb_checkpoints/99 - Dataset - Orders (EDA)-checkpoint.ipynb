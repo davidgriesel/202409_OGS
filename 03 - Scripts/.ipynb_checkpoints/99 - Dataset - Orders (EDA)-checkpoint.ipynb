{
 "cells": [
  {
   "cell_type": "markdown",
   "id": "1a8a2033-660a-4329-8f5f-45ad1ee73dce",
   "metadata": {
    "editable": true,
    "slideshow": {
     "slide_type": ""
    },
    "tags": []
   },
   "source": [
    "# Contents\n",
    "1. Imports\n",
    "2. Checks\n",
    "3. Wrangling\n",
    "4. Cleaning\n",
    "5. Exports"
   ]
  },
  {
   "cell_type": "markdown",
   "id": "ba1c68dc-b3a6-46c6-a5c3-5d94c5947c3e",
   "metadata": {
    "editable": true,
    "slideshow": {
     "slide_type": ""
    },
    "tags": []
   },
   "source": [
    "# 1. Imports"
   ]
  },
  {
   "cell_type": "code",
   "execution_count": 6,
   "id": "b218f80e-b815-47cf-9003-a8bc02d518ef",
   "metadata": {},
   "outputs": [],
   "source": [
    "#Libraries\n",
    "import pandas as pd\n",
    "import numpy as np\n",
    "import os\n",
    "import matplotlib.pyplot as plt\n",
    "import seaborn as sns\n",
    "import warnings as wr"
   ]
  },
  {
   "cell_type": "code",
   "execution_count": 7,
   "id": "8f3d6ea0-b95e-4469-9150-9d66120b94a1",
   "metadata": {},
   "outputs": [],
   "source": [
    "#Path\n",
    "path = r'/Users/davidgriesel/Documents/0 - Analytics Projects/Online Grocery Store'"
   ]
  },
  {
   "cell_type": "markdown",
   "id": "f26f6908-b518-44e2-82c0-c9790f4be8b6",
   "metadata": {},
   "source": [
    "[Link to data dictionary](https://gist.github.com/jeremystan/c3b39d947d9b88b3ccff3147dbcf6c6b)\n",
    "- eval_set variable not relevant to analysis"
   ]
  },
  {
   "cell_type": "code",
   "execution_count": 8,
   "id": "5fff2f3e-8782-4d45-8d01-c9b3179d9c52",
   "metadata": {},
   "outputs": [],
   "source": [
    "#Set list with variables to import\n",
    "list_vars = ['order_id', 'user_id', 'order_number', 'order_dow', 'order_hour_of_day', 'days_since_prior_order']"
   ]
  },
  {
   "cell_type": "code",
   "execution_count": 9,
   "id": "c00b9a26-9920-4cc6-be0a-a2a6746cb2b8",
   "metadata": {},
   "outputs": [
    {
     "data": {
      "text/plain": [
       "['order_id',\n",
       " 'user_id',\n",
       " 'order_number',\n",
       " 'order_dow',\n",
       " 'order_hour_of_day',\n",
       " 'days_since_prior_order']"
      ]
     },
     "execution_count": 9,
     "metadata": {},
     "output_type": "execute_result"
    }
   ],
   "source": [
    "#Display list\n",
    "list_vars"
   ]
  },
  {
   "cell_type": "code",
   "execution_count": 22,
   "id": "7feeb736-0a7b-4b9e-8ecb-6b54ae8b5b56",
   "metadata": {},
   "outputs": [],
   "source": [
    "#Dataset - import variables from list only\n",
    "df_orders = pd.read_csv(os.path.join(path, '02 - Data', 'Original Data', 'orders.csv'), usecols = list_vars)"
   ]
  },
  {
   "cell_type": "markdown",
   "id": "7c75d2a8-d3b9-431a-bd0d-0f92c559caf8",
   "metadata": {
    "editable": true,
    "slideshow": {
     "slide_type": ""
    },
    "tags": []
   },
   "source": [
    "# 2. EDA"
   ]
  },
  {
   "cell_type": "markdown",
   "id": "ab4cd781-664f-4871-93af-bf1afe1679e1",
   "metadata": {},
   "source": [
    "## 2.1. Read"
   ]
  },
  {
   "cell_type": "code",
   "execution_count": 27,
   "id": "daf2c8b7-89d4-49f2-8bb3-e3f115105ebb",
   "metadata": {},
   "outputs": [
    {
     "name": "stdout",
     "output_type": "stream",
     "text": [
      "   order_id  user_id  user_order_count  order_day_of_week  order_hour_of_day  \\\n",
      "0   2539329        1                 1                  2                  8   \n",
      "1   2398795        1                 2                  3                  7   \n",
      "2    473747        1                 3                  3                 12   \n",
      "3   2254736        1                 4                  4                  7   \n",
      "4    431534        1                 5                  4                 15   \n",
      "\n",
      "   days_since_last_order  \n",
      "0                    NaN  \n",
      "1                   15.0  \n",
      "2                   21.0  \n",
      "3                   29.0  \n",
      "4                   28.0  \n"
     ]
    }
   ],
   "source": [
    "#Preview\n",
    "print(df_orders.head())"
   ]
  },
  {
   "cell_type": "markdown",
   "id": "f93eb3d8-96fd-4c14-9b0e-f5c080b2d0a5",
   "metadata": {},
   "source": [
    "## 2.2. Analyse"
   ]
  },
  {
   "cell_type": "code",
   "execution_count": 28,
   "id": "ac0e1ab9-9424-434a-8c9d-d61c045b75ba",
   "metadata": {},
   "outputs": [
    {
     "data": {
      "text/plain": [
       "['order_id',\n",
       " 'user_id',\n",
       " 'user_order_count',\n",
       " 'order_day_of_week',\n",
       " 'order_hour_of_day',\n",
       " 'days_since_last_order']"
      ]
     },
     "execution_count": 28,
     "metadata": {},
     "output_type": "execute_result"
    }
   ],
   "source": [
    "df_orders.columns.tolist()"
   ]
  },
  {
   "cell_type": "markdown",
   "id": "6a177a07-0ce7-42a1-8765-92c44340f168",
   "metadata": {},
   "source": [
    "## >>> Columns Renamed"
   ]
  },
  {
   "cell_type": "markdown",
   "id": "b3213936-5ad2-4d31-bc5c-052fbed02c2d",
   "metadata": {},
   "source": [
    "###### order_number >>> user_or\n",
    "###### order_dow >>> order_day_of_week\n",
    "###### days_since_prior_order >>> days_since_prior_order"
   ]
  },
  {
   "cell_type": "raw",
   "id": "436d497b-a30a-40eb-b7e4-23fa65220e33",
   "metadata": {},
   "source": [
    "#Rename vague column descriptions\n",
    "df_orders.rename(columns = {'order_number' : 'user_order_count',\n",
    "                           'order_dow' : 'order_day_of_week',\n",
    "                           'days_since_prior_order' : 'days_since_last_order'}, inplace = True)"
   ]
  },
  {
   "cell_type": "code",
   "execution_count": 29,
   "id": "4157f7ae-75d9-4771-98bb-a171894aac5d",
   "metadata": {},
   "outputs": [
    {
     "data": {
      "text/plain": [
       "(3421083, 6)"
      ]
     },
     "execution_count": 29,
     "metadata": {},
     "output_type": "execute_result"
    }
   ],
   "source": [
    "df_orders.shape"
   ]
  },
  {
   "cell_type": "code",
   "execution_count": 30,
   "id": "bac50794-f26a-452f-ac09-4c6f2e9221b1",
   "metadata": {},
   "outputs": [
    {
     "name": "stdout",
     "output_type": "stream",
     "text": [
      "<class 'pandas.core.frame.DataFrame'>\n",
      "RangeIndex: 3421083 entries, 0 to 3421082\n",
      "Data columns (total 6 columns):\n",
      " #   Column                 Dtype  \n",
      "---  ------                 -----  \n",
      " 0   order_id               int64  \n",
      " 1   user_id                int64  \n",
      " 2   user_order_count       int64  \n",
      " 3   order_day_of_week      int64  \n",
      " 4   order_hour_of_day      int64  \n",
      " 5   days_since_last_order  float64\n",
      "dtypes: float64(1), int64(5)\n",
      "memory usage: 156.6 MB\n"
     ]
    }
   ],
   "source": [
    "df_orders.info()"
   ]
  },
  {
   "cell_type": "code",
   "execution_count": 31,
   "id": "1878da45-a8f4-4f1b-8489-13eac658624e",
   "metadata": {},
   "outputs": [
    {
     "name": "stdout",
     "output_type": "stream",
     "text": [
      "          order_id      user_id  user_order_count  order_day_of_week  order_hour_of_day  days_since_last_order\n",
      "count 3,421,083.00 3,421,083.00      3,421,083.00       3,421,083.00       3,421,083.00           3,214,874.00\n",
      "mean  1,710,542.00   102,978.21             17.15               2.78              13.45                  11.11\n",
      "std     987,581.74    59,533.72             17.73               2.05               4.23                   9.21\n",
      "min           1.00         1.00              1.00               0.00               0.00                   0.00\n",
      "25%     855,271.50    51,394.00              5.00               1.00              10.00                   4.00\n",
      "50%   1,710,542.00   102,689.00             11.00               3.00              13.00                   7.00\n",
      "75%   2,565,812.50   154,385.00             23.00               5.00              16.00                  15.00\n",
      "max   3,421,083.00   206,209.00            100.00               6.00              23.00                  30.00\n"
     ]
    }
   ],
   "source": [
    "print(df_orders.describe().to_string(float_format='{:,.2f}'.format))"
   ]
  },
  {
   "cell_type": "markdown",
   "id": "eb055d2d-86fc-4802-bd16-4e73aeb0d28e",
   "metadata": {},
   "source": [
    "## 2.3. Check frequency distribution per variable"
   ]
  },
  {
   "cell_type": "code",
   "execution_count": null,
   "id": "72dc8a4f-dc36-404f-80ae-0fdc109df805",
   "metadata": {},
   "outputs": [],
   "source": [
    "df_orders['order_id'].value_counts(dropna = False)"
   ]
  },
  {
   "cell_type": "code",
   "execution_count": null,
   "id": "acabff02-5844-4c05-94ed-891496cb2830",
   "metadata": {},
   "outputs": [],
   "source": [
    "##### Observations:\n",
    "- 3,421,083 values ranging between 1 to 3,421,083\n",
    "- With 3,421,1083 records these values are likely to be unique and/or sequential meaning dataset is complete\n",
    "- Retain column"
   ]
  },
  {
   "cell_type": "code",
   "execution_count": null,
   "id": "dfd6cfb7-642f-4cd8-bc1a-a8e53ab9a0da",
   "metadata": {},
   "outputs": [],
   "source": [
    "df_orders['user_id'].value_counts(dropna = False)"
   ]
  },
  {
   "cell_type": "code",
   "execution_count": null,
   "id": "a2451b11-8464-44c9-9172-1b4d1319834e",
   "metadata": {},
   "outputs": [],
   "source": [
    "##### Observations:\n",
    "- 206,209 values ranging between 1 to 206,209\n",
    "- All customers have likely placed at least one order\n",
    "- Retain column"
   ]
  },
  {
   "cell_type": "code",
   "execution_count": null,
   "id": "d7e845ef-d37b-4285-bdbc-437adedbb618",
   "metadata": {},
   "outputs": [],
   "source": [
    "df_orders['user_order_count'].value_counts(dropna = False)"
   ]
  },
  {
   "cell_type": "code",
   "execution_count": null,
   "id": "6442e17c-2c1a-4399-b0b5-e5774bba9dfc",
   "metadata": {},
   "outputs": [],
   "source": [
    "##### Observations:\n",
    "- 100 values ranging between 1 and 100\n",
    "- Customers placed between 1 and 100 orders per customer\n",
    "- Retain column"
   ]
  },
  {
   "cell_type": "code",
   "execution_count": null,
   "id": "f1607c4a-1a3f-416a-9e0e-1a9df99c835a",
   "metadata": {},
   "outputs": [],
   "source": [
    "df_orders['order_day_of_week'].value_counts(dropna = False)"
   ]
  },
  {
   "cell_type": "code",
   "execution_count": null,
   "id": "29a79339-cdc7-4770-976a-2754d4ab6e41",
   "metadata": {},
   "outputs": [],
   "source": [
    "##### Observations:\n",
    "- 7 values ranging between 0 to 6 with 0 = Saturday, 1 = Sunday, 2 = Monday, ...\n",
    "- Orders have been placed on all weekdays\n",
    "- Retain column"
   ]
  },
  {
   "cell_type": "code",
   "execution_count": null,
   "id": "2b68fab0-7f19-47ad-8d57-2374a5ee35c7",
   "metadata": {},
   "outputs": [],
   "source": [
    "df_orders['order_hour_of_day'].value_counts(dropna = False)"
   ]
  },
  {
   "cell_type": "code",
   "execution_count": null,
   "id": "93d2f867-370f-49b2-a8f5-7601b9a7f173",
   "metadata": {},
   "outputs": [],
   "source": [
    "##### Observations:\n",
    "- 24 values ranging between 0 to 23\n",
    "- Orders have been placed at all times\n",
    "- Retain column"
   ]
  },
  {
   "cell_type": "code",
   "execution_count": null,
   "id": "2f9fb377-6a34-4324-8be4-6ab3cf6d14ae",
   "metadata": {},
   "outputs": [],
   "source": [
    "df_orders['days_since_last_order'].value_counts(dropna = False)"
   ]
  },
  {
   "cell_type": "code",
   "execution_count": null,
   "id": "97196ac5-0cbd-4fae-a452-a603e0bfe20a",
   "metadata": {},
   "outputs": [],
   "source": [
    "##### Observations: \n",
    "- 32 values ranging between 0 - 30, plus NaN\n",
    "- Customers take between 0 and 30 days to place orders\n",
    "- 206,209 NaN records, equal to number of values in user_id\n",
    "- Retain column"
   ]
  },
  {
   "cell_type": "markdown",
   "id": "69a057e1-058e-4475-bb90-30eff6ccb0dc",
   "metadata": {},
   "source": [
    "## Missing"
   ]
  },
  {
   "cell_type": "code",
   "execution_count": 11,
   "id": "e1478c4d-4411-4662-859a-fbfabca6f37a",
   "metadata": {},
   "outputs": [
    {
     "data": {
      "text/plain": [
       "order_id                       0\n",
       "user_id                        0\n",
       "order_number                   0\n",
       "order_dow                      0\n",
       "order_hour_of_day              0\n",
       "days_since_prior_order    206209\n",
       "dtype: int64"
      ]
     },
     "execution_count": 11,
     "metadata": {},
     "output_type": "execute_result"
    }
   ],
   "source": [
    "df_orders.isnull().sum()"
   ]
  },
  {
   "cell_type": "markdown",
   "id": "1d2a6414-ad20-45b4-affe-d8e757be10e9",
   "metadata": {},
   "source": [
    "## Duplicates"
   ]
  },
  {
   "cell_type": "code",
   "execution_count": 12,
   "id": "6ff60672-b6ab-4491-963d-79e4b7c2eb2e",
   "metadata": {},
   "outputs": [
    {
     "data": {
      "text/plain": [
       "order_id                  3421083\n",
       "user_id                    206209\n",
       "order_number                  100\n",
       "order_dow                       7\n",
       "order_hour_of_day              24\n",
       "days_since_prior_order         31\n",
       "dtype: int64"
      ]
     },
     "execution_count": 12,
     "metadata": {},
     "output_type": "execute_result"
    }
   ],
   "source": [
    "df_orders.nunique()"
   ]
  },
  {
   "cell_type": "markdown",
   "id": "2a4f12bd-5c0e-4823-a4eb-0eae773c4853",
   "metadata": {},
   "source": [
    "# 3. Analyse"
   ]
  },
  {
   "cell_type": "code",
   "execution_count": 18,
   "id": "1002c27b-e549-4951-be6d-1c597577c28f",
   "metadata": {},
   "outputs": [
    {
     "data": {
      "image/png": "[encoded data removed]",
      "text/plain": [
       "<Figure size 1400x1800 with 6 Axes>"
      ]
     },
     "metadata": {},
     "output_type": "display_data"
    }
   ],
   "source": [
    "#sns.set_style(\"darkgrid\")\n",
    "\n",
    "numerical_columns = df_orders.select_dtypes(include=[\"int64\", \"float64\"]).columns\n",
    "\n",
    "plt.figure(figsize=(14, len(numerical_columns) * 3))\n",
    "for idx, feature in enumerate(numerical_columns, 1):\n",
    "    plt.subplot(len(numerical_columns), 2, idx)\n",
    "    sns.histplot(df_orders[feature], kde=True)\n",
    "    plt.title(f\"{feature} | Skewness: {round(df_orders[feature].skew(), 2)}\")\n",
    "\n",
    "plt.tight_layout()\n",
    "plt.show()"
   ]
  },
  {
   "cell_type": "code",
   "execution_count": null,
   "id": "d218aa25-1e5d-40dd-8d89-5539eac7b11d",
   "metadata": {},
   "outputs": [],
   "source": [
    "\n"
   ]
  },
  {
   "cell_type": "code",
   "execution_count": null,
   "id": "0c6cb72e-b998-4571-be9e-b67c2c4bbc85",
   "metadata": {},
   "outputs": [],
   "source": []
  },
  {
   "cell_type": "markdown",
   "id": "e1eb07ec-322a-4684-9f15-361994ee09de",
   "metadata": {},
   "source": [
    "# 3. Wrangling"
   ]
  },
  {
   "cell_type": "markdown",
   "id": "197d6a24-43a6-4ed3-9467-15b17f49be15",
   "metadata": {},
   "source": []
  },
  {
   "cell_type": "markdown",
   "id": "d327be0e-ecc7-41ff-ac7f-7d670a562e21",
   "metadata": {},
   "source": []
  },
  {
   "cell_type": "markdown",
   "id": "5304d6f4-da7f-44fe-adc8-504281f92519",
   "metadata": {},
   "source": []
  },
  {
   "cell_type": "markdown",
   "id": "61cb7801-bbaf-4d2e-9781-f5456c81adc5",
   "metadata": {},
   "source": []
  },
  {
   "cell_type": "markdown",
   "id": "72a07764-dc5e-4787-8757-051f8d5fbfb4",
   "metadata": {},
   "source": []
  },
  {
   "cell_type": "markdown",
   "id": "2d2d340e-f288-43d6-aea5-3bdd7912d13a",
   "metadata": {},
   "source": []
  },
  {
   "cell_type": "markdown",
   "id": "d472a817-21e2-45fd-aa7b-526056b71454",
   "metadata": {
    "editable": true,
    "slideshow": {
     "slide_type": ""
    },
    "tags": []
   },
   "source": [
    "##### Observations:\n",
    "- No redundant columns identified"
   ]
  },
  {
   "cell_type": "markdown",
   "id": "87aad2fa-7380-4405-b555-a8087a66ac8f",
   "metadata": {},
   "source": [
    "## 3.2. Rename Columns"
   ]
  },
  {
   "cell_type": "code",
   "execution_count": 13,
   "id": "069cd81e-070f-4271-ae9b-587a66d7b7bf",
   "metadata": {},
   "outputs": [],
   "source": [
    "#Rename vague column descriptions\n",
    "df_orders.rename(columns = {'order_number' : 'user_order_count',\n",
    "                           'order_dow' : 'order_day_of_week',\n",
    "                           'days_since_prior_order' : 'days_since_last_order'}, inplace = True)"
   ]
  },
  {
   "cell_type": "code",
   "execution_count": 14,
   "id": "ed975baf-5a69-4829-943c-19422b3bdd39",
   "metadata": {},
   "outputs": [
    {
     "data": {
      "text/plain": [
       "['order_id',\n",
       " 'user_id',\n",
       " 'user_order_count',\n",
       " 'order_day_of_week',\n",
       " 'order_hour_of_day',\n",
       " 'days_since_last_order']"
      ]
     },
     "execution_count": 14,
     "metadata": {},
     "output_type": "execute_result"
    }
   ],
   "source": [
    "#Confirm results\n",
    "df_orders.columns.tolist()"
   ]
  },
  {
   "cell_type": "markdown",
   "id": "0da383eb-d860-46d4-b039-5be4ec790037",
   "metadata": {},
   "source": [
    "##### Observations:\n",
    "- Variables successfully renamed"
   ]
  },
  {
   "cell_type": "markdown",
   "id": "aa4c038e-8747-4a26-9f26-9388efce3956",
   "metadata": {},
   "source": [
    "## 3.3. Data Types"
   ]
  },
  {
   "cell_type": "markdown",
   "id": "d2756461-ba6a-4c0e-a9e0-7b4adaa8243e",
   "metadata": {
    "editable": true,
    "slideshow": {
     "slide_type": ""
    },
    "tags": []
   },
   "source": [
    "### 3.3.1. Identify Inconsistent Data Types"
   ]
  },
  {
   "cell_type": "markdown",
   "id": "c47f82a8-0081-4bdb-b71e-8d1612c18ac4",
   "metadata": {},
   "source": [
    "##### Observations:\n",
    "- Data types are consistent with contents of variables"
   ]
  },
  {
   "cell_type": "markdown",
   "id": "a9fb9d15-6366-4d30-9893-bd9dcc93ed97",
   "metadata": {
    "editable": true,
    "slideshow": {
     "slide_type": ""
    },
    "tags": []
   },
   "source": [
    "### 3.3.2. Address Inconsistent Data Types"
   ]
  },
  {
   "cell_type": "markdown",
   "id": "2bf5d6ff-1e6d-4eeb-a79e-111bce5bcbb9",
   "metadata": {
    "editable": true,
    "slideshow": {
     "slide_type": ""
    },
    "tags": []
   },
   "source": [
    "##### Observations:\n",
    "- No inconsistencies noted"
   ]
  },
  {
   "cell_type": "markdown",
   "id": "33c48a20-4694-49cc-8b13-37de910cbae7",
   "metadata": {},
   "source": [
    "# 4. Cleaning"
   ]
  },
  {
   "cell_type": "markdown",
   "id": "0c81adef-b049-4f08-99d4-57c876f43964",
   "metadata": {},
   "source": [
    "## 4.1. Accuracy"
   ]
  },
  {
   "cell_type": "markdown",
   "id": "0db9f481-8f1b-4aa2-b706-54590f7a52c0",
   "metadata": {
    "editable": true,
    "slideshow": {
     "slide_type": ""
    },
    "tags": []
   },
   "source": [
    "### 4.1.1. Identify Inaccurate Values"
   ]
  },
  {
   "cell_type": "code",
   "execution_count": 56,
   "id": "ccafca21-1ac0-44f3-955f-409d520dbf45",
   "metadata": {
    "editable": true,
    "slideshow": {
     "slide_type": ""
    },
    "tags": []
   },
   "outputs": [
    {
     "data": {
      "text/html": [
       "<div>\n",
       "<style scoped>\n",
       "    .dataframe tbody tr th:only-of-type {\n",
       "        vertical-align: middle;\n",
       "    }\n",
       "\n",
       "    .dataframe tbody tr th {\n",
       "        vertical-align: top;\n",
       "    }\n",
       "\n",
       "    .dataframe thead th {\n",
       "        text-align: right;\n",
       "    }\n",
       "</style>\n",
       "<table border=\"1\" class=\"dataframe\">\n",
       "  <thead>\n",
       "    <tr style=\"text-align: right;\">\n",
       "      <th></th>\n",
       "      <th>order_id</th>\n",
       "      <th>user_id</th>\n",
       "      <th>user_order_count</th>\n",
       "      <th>order_day_of_week</th>\n",
       "      <th>order_hour_of_day</th>\n",
       "      <th>days_since_last_order</th>\n",
       "    </tr>\n",
       "  </thead>\n",
       "  <tbody>\n",
       "    <tr>\n",
       "      <th>count</th>\n",
       "      <td>3.421083e+06</td>\n",
       "      <td>3.421083e+06</td>\n",
       "      <td>3.421083e+06</td>\n",
       "      <td>3.421083e+06</td>\n",
       "      <td>3.421083e+06</td>\n",
       "      <td>3.214874e+06</td>\n",
       "    </tr>\n",
       "    <tr>\n",
       "      <th>mean</th>\n",
       "      <td>1.710542e+06</td>\n",
       "      <td>1.029782e+05</td>\n",
       "      <td>1.715486e+01</td>\n",
       "      <td>2.776219e+00</td>\n",
       "      <td>1.345202e+01</td>\n",
       "      <td>1.111484e+01</td>\n",
       "    </tr>\n",
       "    <tr>\n",
       "      <th>std</th>\n",
       "      <td>9.875817e+05</td>\n",
       "      <td>5.953372e+04</td>\n",
       "      <td>1.773316e+01</td>\n",
       "      <td>2.046829e+00</td>\n",
       "      <td>4.226088e+00</td>\n",
       "      <td>9.206737e+00</td>\n",
       "    </tr>\n",
       "    <tr>\n",
       "      <th>min</th>\n",
       "      <td>1.000000e+00</td>\n",
       "      <td>1.000000e+00</td>\n",
       "      <td>1.000000e+00</td>\n",
       "      <td>0.000000e+00</td>\n",
       "      <td>0.000000e+00</td>\n",
       "      <td>0.000000e+00</td>\n",
       "    </tr>\n",
       "    <tr>\n",
       "      <th>25%</th>\n",
       "      <td>8.552715e+05</td>\n",
       "      <td>5.139400e+04</td>\n",
       "      <td>5.000000e+00</td>\n",
       "      <td>1.000000e+00</td>\n",
       "      <td>1.000000e+01</td>\n",
       "      <td>4.000000e+00</td>\n",
       "    </tr>\n",
       "    <tr>\n",
       "      <th>50%</th>\n",
       "      <td>1.710542e+06</td>\n",
       "      <td>1.026890e+05</td>\n",
       "      <td>1.100000e+01</td>\n",
       "      <td>3.000000e+00</td>\n",
       "      <td>1.300000e+01</td>\n",
       "      <td>7.000000e+00</td>\n",
       "    </tr>\n",
       "    <tr>\n",
       "      <th>75%</th>\n",
       "      <td>2.565812e+06</td>\n",
       "      <td>1.543850e+05</td>\n",
       "      <td>2.300000e+01</td>\n",
       "      <td>5.000000e+00</td>\n",
       "      <td>1.600000e+01</td>\n",
       "      <td>1.500000e+01</td>\n",
       "    </tr>\n",
       "    <tr>\n",
       "      <th>max</th>\n",
       "      <td>3.421083e+06</td>\n",
       "      <td>2.062090e+05</td>\n",
       "      <td>1.000000e+02</td>\n",
       "      <td>6.000000e+00</td>\n",
       "      <td>2.300000e+01</td>\n",
       "      <td>3.000000e+01</td>\n",
       "    </tr>\n",
       "  </tbody>\n",
       "</table>\n",
       "</div>"
      ],
      "text/plain": [
       "           order_id       user_id  user_order_count  order_day_of_week  \\\n",
       "count  3.421083e+06  3.421083e+06      3.421083e+06       3.421083e+06   \n",
       "mean   1.710542e+06  1.029782e+05      1.715486e+01       2.776219e+00   \n",
       "std    9.875817e+05  5.953372e+04      1.773316e+01       2.046829e+00   \n",
       "min    1.000000e+00  1.000000e+00      1.000000e+00       0.000000e+00   \n",
       "25%    8.552715e+05  5.139400e+04      5.000000e+00       1.000000e+00   \n",
       "50%    1.710542e+06  1.026890e+05      1.100000e+01       3.000000e+00   \n",
       "75%    2.565812e+06  1.543850e+05      2.300000e+01       5.000000e+00   \n",
       "max    3.421083e+06  2.062090e+05      1.000000e+02       6.000000e+00   \n",
       "\n",
       "       order_hour_of_day  days_since_last_order  \n",
       "count       3.421083e+06           3.214874e+06  \n",
       "mean        1.345202e+01           1.111484e+01  \n",
       "std         4.226088e+00           9.206737e+00  \n",
       "min         0.000000e+00           0.000000e+00  \n",
       "25%         1.000000e+01           4.000000e+00  \n",
       "50%         1.300000e+01           7.000000e+00  \n",
       "75%         1.600000e+01           1.500000e+01  \n",
       "max         2.300000e+01           3.000000e+01  "
      ]
     },
     "execution_count": 56,
     "metadata": {},
     "output_type": "execute_result"
    }
   ],
   "source": [
    "#Review descriptive statistics\n",
    "df_orders.describe()"
   ]
  },
  {
   "cell_type": "code",
   "execution_count": 57,
   "id": "be654c62-db92-41c7-bc3e-b27aae0e37ee",
   "metadata": {},
   "outputs": [
    {
     "data": {
      "text/plain": [
       "order_id                 3421083\n",
       "user_id                   206209\n",
       "user_order_count             100\n",
       "order_day_of_week              7\n",
       "order_hour_of_day             24\n",
       "days_since_last_order         31\n",
       "dtype: int64"
      ]
     },
     "execution_count": 57,
     "metadata": {},
     "output_type": "execute_result"
    }
   ],
   "source": [
    "#Number of unique values per variable\n",
    "df_orders.nunique()"
   ]
  },
  {
   "cell_type": "markdown",
   "id": "004769b9-9ef5-481e-a395-d7523fdd18d9",
   "metadata": {
    "editable": true,
    "slideshow": {
     "slide_type": ""
    },
    "tags": []
   },
   "source": [
    "##### Observations:\n",
    "- The dataset contains 3,421,083 unique order_id's\n",
    "- There are 206,209 unique user_id's in the dataset and all customers placed at least one order\n",
    "- Customers placed between 1 and 100 orders each, most placing between 5 and 23 orders, with 17 orders on average\n",
    "- Orders occur on all weekdays, with a slight tendency toward earlier weekdays\n",
    "- Orders occur at all times of the day, but concentrate between 10:00 and 16:00, with slight tendency toward early afternoon\n",
    "- Customers take between 0 and 30 days between orders, most waiting between 4 and 15 days, with 11 days on average between orders\n",
    "- 206,209 missing values in days_since_last_order"
   ]
  },
  {
   "cell_type": "markdown",
   "id": "a2d24138-9e4d-4636-898e-7c2548fe0986",
   "metadata": {
    "editable": true,
    "slideshow": {
     "slide_type": ""
    },
    "tags": []
   },
   "source": [
    "### 4.1.2. Address Inaccurate Values"
   ]
  },
  {
   "cell_type": "markdown",
   "id": "ec08d360-72da-426d-b867-8f538aef8e47",
   "metadata": {
    "editable": true,
    "slideshow": {
     "slide_type": ""
    },
    "tags": []
   },
   "source": [
    "##### Observations\n",
    "- No inaccuracies noted"
   ]
  },
  {
   "cell_type": "markdown",
   "id": "6f5f3d9e-bee6-44cd-b329-8388d80d6309",
   "metadata": {},
   "source": [
    "## 4.2. Missing Values"
   ]
  },
  {
   "cell_type": "markdown",
   "id": "f1e710d8-6500-4cdb-97b5-02bfcba8aa5b",
   "metadata": {
    "editable": true,
    "slideshow": {
     "slide_type": ""
    },
    "tags": []
   },
   "source": [
    "### 4.2.1. Identify missing values"
   ]
  },
  {
   "cell_type": "code",
   "execution_count": 58,
   "id": "eb6768f1-998a-4d88-a4a7-81786bf8a9d8",
   "metadata": {
    "editable": true,
    "slideshow": {
     "slide_type": ""
    },
    "tags": []
   },
   "outputs": [
    {
     "data": {
      "text/plain": [
       "order_id                      0\n",
       "user_id                       0\n",
       "user_order_count              0\n",
       "order_day_of_week             0\n",
       "order_hour_of_day             0\n",
       "days_since_last_order    206209\n",
       "dtype: int64"
      ]
     },
     "execution_count": 58,
     "metadata": {},
     "output_type": "execute_result"
    }
   ],
   "source": [
    "#Number of missing values per variable\n",
    "df_orders.isnull().sum()"
   ]
  },
  {
   "cell_type": "markdown",
   "id": "b0d22ae8-050e-4227-81ee-9f33fa5504b7",
   "metadata": {},
   "source": [
    "##### Observations:\n",
    "- Confirmed 'days_since_last_order' has 206,209 'NaN' values"
   ]
  },
  {
   "cell_type": "code",
   "execution_count": 59,
   "id": "ae457a16-1990-4f97-8fa3-535efda174bf",
   "metadata": {
    "editable": true,
    "slideshow": {
     "slide_type": ""
    },
    "tags": []
   },
   "outputs": [
    {
     "data": {
      "text/html": [
       "<div>\n",
       "<style scoped>\n",
       "    .dataframe tbody tr th:only-of-type {\n",
       "        vertical-align: middle;\n",
       "    }\n",
       "\n",
       "    .dataframe tbody tr th {\n",
       "        vertical-align: top;\n",
       "    }\n",
       "\n",
       "    .dataframe thead th {\n",
       "        text-align: right;\n",
       "    }\n",
       "</style>\n",
       "<table border=\"1\" class=\"dataframe\">\n",
       "  <thead>\n",
       "    <tr style=\"text-align: right;\">\n",
       "      <th></th>\n",
       "      <th>order_id</th>\n",
       "      <th>user_id</th>\n",
       "      <th>user_order_count</th>\n",
       "      <th>order_day_of_week</th>\n",
       "      <th>order_hour_of_day</th>\n",
       "      <th>days_since_last_order</th>\n",
       "    </tr>\n",
       "  </thead>\n",
       "  <tbody>\n",
       "    <tr>\n",
       "      <th>0</th>\n",
       "      <td>2539329</td>\n",
       "      <td>1</td>\n",
       "      <td>1</td>\n",
       "      <td>2</td>\n",
       "      <td>8</td>\n",
       "      <td>NaN</td>\n",
       "    </tr>\n",
       "    <tr>\n",
       "      <th>11</th>\n",
       "      <td>2168274</td>\n",
       "      <td>2</td>\n",
       "      <td>1</td>\n",
       "      <td>2</td>\n",
       "      <td>11</td>\n",
       "      <td>NaN</td>\n",
       "    </tr>\n",
       "    <tr>\n",
       "      <th>26</th>\n",
       "      <td>1374495</td>\n",
       "      <td>3</td>\n",
       "      <td>1</td>\n",
       "      <td>1</td>\n",
       "      <td>14</td>\n",
       "      <td>NaN</td>\n",
       "    </tr>\n",
       "    <tr>\n",
       "      <th>39</th>\n",
       "      <td>3343014</td>\n",
       "      <td>4</td>\n",
       "      <td>1</td>\n",
       "      <td>6</td>\n",
       "      <td>11</td>\n",
       "      <td>NaN</td>\n",
       "    </tr>\n",
       "    <tr>\n",
       "      <th>45</th>\n",
       "      <td>2717275</td>\n",
       "      <td>5</td>\n",
       "      <td>1</td>\n",
       "      <td>3</td>\n",
       "      <td>12</td>\n",
       "      <td>NaN</td>\n",
       "    </tr>\n",
       "    <tr>\n",
       "      <th>...</th>\n",
       "      <td>...</td>\n",
       "      <td>...</td>\n",
       "      <td>...</td>\n",
       "      <td>...</td>\n",
       "      <td>...</td>\n",
       "      <td>...</td>\n",
       "    </tr>\n",
       "    <tr>\n",
       "      <th>3420930</th>\n",
       "      <td>969311</td>\n",
       "      <td>206205</td>\n",
       "      <td>1</td>\n",
       "      <td>4</td>\n",
       "      <td>12</td>\n",
       "      <td>NaN</td>\n",
       "    </tr>\n",
       "    <tr>\n",
       "      <th>3420934</th>\n",
       "      <td>3189322</td>\n",
       "      <td>206206</td>\n",
       "      <td>1</td>\n",
       "      <td>3</td>\n",
       "      <td>18</td>\n",
       "      <td>NaN</td>\n",
       "    </tr>\n",
       "    <tr>\n",
       "      <th>3421002</th>\n",
       "      <td>2166133</td>\n",
       "      <td>206207</td>\n",
       "      <td>1</td>\n",
       "      <td>6</td>\n",
       "      <td>19</td>\n",
       "      <td>NaN</td>\n",
       "    </tr>\n",
       "    <tr>\n",
       "      <th>3421019</th>\n",
       "      <td>2227043</td>\n",
       "      <td>206208</td>\n",
       "      <td>1</td>\n",
       "      <td>1</td>\n",
       "      <td>15</td>\n",
       "      <td>NaN</td>\n",
       "    </tr>\n",
       "    <tr>\n",
       "      <th>3421069</th>\n",
       "      <td>3154581</td>\n",
       "      <td>206209</td>\n",
       "      <td>1</td>\n",
       "      <td>3</td>\n",
       "      <td>11</td>\n",
       "      <td>NaN</td>\n",
       "    </tr>\n",
       "  </tbody>\n",
       "</table>\n",
       "<p>206209 rows × 6 columns</p>\n",
       "</div>"
      ],
      "text/plain": [
       "         order_id  user_id  user_order_count  order_day_of_week  \\\n",
       "0         2539329        1                 1                  2   \n",
       "11        2168274        2                 1                  2   \n",
       "26        1374495        3                 1                  1   \n",
       "39        3343014        4                 1                  6   \n",
       "45        2717275        5                 1                  3   \n",
       "...           ...      ...               ...                ...   \n",
       "3420930    969311   206205                 1                  4   \n",
       "3420934   3189322   206206                 1                  3   \n",
       "3421002   2166133   206207                 1                  6   \n",
       "3421019   2227043   206208                 1                  1   \n",
       "3421069   3154581   206209                 1                  3   \n",
       "\n",
       "         order_hour_of_day  days_since_last_order  \n",
       "0                        8                    NaN  \n",
       "11                      11                    NaN  \n",
       "26                      14                    NaN  \n",
       "39                      11                    NaN  \n",
       "45                      12                    NaN  \n",
       "...                    ...                    ...  \n",
       "3420930                 12                    NaN  \n",
       "3420934                 18                    NaN  \n",
       "3421002                 19                    NaN  \n",
       "3421019                 15                    NaN  \n",
       "3421069                 11                    NaN  \n",
       "\n",
       "[206209 rows x 6 columns]"
      ]
     },
     "execution_count": 59,
     "metadata": {},
     "output_type": "execute_result"
    }
   ],
   "source": [
    "#Filters records where days_since_last_order is missing\n",
    "df_orders[df_orders['days_since_last_order'].isnull() == True]"
   ]
  },
  {
   "cell_type": "markdown",
   "id": "0477b0c6-aaa5-4944-96d0-86c746f44b83",
   "metadata": {},
   "source": [
    "##### Observations:\n",
    "- Missing values seem to correspond with 'user_order_number' of 1"
   ]
  },
  {
   "cell_type": "code",
   "execution_count": 60,
   "id": "406578ed-14cc-4e5b-891a-652f0a5561b9",
   "metadata": {},
   "outputs": [
    {
     "data": {
      "text/html": [
       "<div>\n",
       "<style scoped>\n",
       "    .dataframe tbody tr th:only-of-type {\n",
       "        vertical-align: middle;\n",
       "    }\n",
       "\n",
       "    .dataframe tbody tr th {\n",
       "        vertical-align: top;\n",
       "    }\n",
       "\n",
       "    .dataframe thead th {\n",
       "        text-align: right;\n",
       "    }\n",
       "</style>\n",
       "<table border=\"1\" class=\"dataframe\">\n",
       "  <thead>\n",
       "    <tr style=\"text-align: right;\">\n",
       "      <th></th>\n",
       "      <th>order_id</th>\n",
       "      <th>user_id</th>\n",
       "      <th>user_order_count</th>\n",
       "      <th>order_day_of_week</th>\n",
       "      <th>order_hour_of_day</th>\n",
       "      <th>days_since_last_order</th>\n",
       "    </tr>\n",
       "  </thead>\n",
       "  <tbody>\n",
       "    <tr>\n",
       "      <th>0</th>\n",
       "      <td>2539329</td>\n",
       "      <td>1</td>\n",
       "      <td>1</td>\n",
       "      <td>2</td>\n",
       "      <td>8</td>\n",
       "      <td>NaN</td>\n",
       "    </tr>\n",
       "    <tr>\n",
       "      <th>11</th>\n",
       "      <td>2168274</td>\n",
       "      <td>2</td>\n",
       "      <td>1</td>\n",
       "      <td>2</td>\n",
       "      <td>11</td>\n",
       "      <td>NaN</td>\n",
       "    </tr>\n",
       "    <tr>\n",
       "      <th>26</th>\n",
       "      <td>1374495</td>\n",
       "      <td>3</td>\n",
       "      <td>1</td>\n",
       "      <td>1</td>\n",
       "      <td>14</td>\n",
       "      <td>NaN</td>\n",
       "    </tr>\n",
       "    <tr>\n",
       "      <th>39</th>\n",
       "      <td>3343014</td>\n",
       "      <td>4</td>\n",
       "      <td>1</td>\n",
       "      <td>6</td>\n",
       "      <td>11</td>\n",
       "      <td>NaN</td>\n",
       "    </tr>\n",
       "    <tr>\n",
       "      <th>45</th>\n",
       "      <td>2717275</td>\n",
       "      <td>5</td>\n",
       "      <td>1</td>\n",
       "      <td>3</td>\n",
       "      <td>12</td>\n",
       "      <td>NaN</td>\n",
       "    </tr>\n",
       "    <tr>\n",
       "      <th>...</th>\n",
       "      <td>...</td>\n",
       "      <td>...</td>\n",
       "      <td>...</td>\n",
       "      <td>...</td>\n",
       "      <td>...</td>\n",
       "      <td>...</td>\n",
       "    </tr>\n",
       "    <tr>\n",
       "      <th>3420930</th>\n",
       "      <td>969311</td>\n",
       "      <td>206205</td>\n",
       "      <td>1</td>\n",
       "      <td>4</td>\n",
       "      <td>12</td>\n",
       "      <td>NaN</td>\n",
       "    </tr>\n",
       "    <tr>\n",
       "      <th>3420934</th>\n",
       "      <td>3189322</td>\n",
       "      <td>206206</td>\n",
       "      <td>1</td>\n",
       "      <td>3</td>\n",
       "      <td>18</td>\n",
       "      <td>NaN</td>\n",
       "    </tr>\n",
       "    <tr>\n",
       "      <th>3421002</th>\n",
       "      <td>2166133</td>\n",
       "      <td>206207</td>\n",
       "      <td>1</td>\n",
       "      <td>6</td>\n",
       "      <td>19</td>\n",
       "      <td>NaN</td>\n",
       "    </tr>\n",
       "    <tr>\n",
       "      <th>3421019</th>\n",
       "      <td>2227043</td>\n",
       "      <td>206208</td>\n",
       "      <td>1</td>\n",
       "      <td>1</td>\n",
       "      <td>15</td>\n",
       "      <td>NaN</td>\n",
       "    </tr>\n",
       "    <tr>\n",
       "      <th>3421069</th>\n",
       "      <td>3154581</td>\n",
       "      <td>206209</td>\n",
       "      <td>1</td>\n",
       "      <td>3</td>\n",
       "      <td>11</td>\n",
       "      <td>NaN</td>\n",
       "    </tr>\n",
       "  </tbody>\n",
       "</table>\n",
       "<p>206209 rows × 6 columns</p>\n",
       "</div>"
      ],
      "text/plain": [
       "         order_id  user_id  user_order_count  order_day_of_week  \\\n",
       "0         2539329        1                 1                  2   \n",
       "11        2168274        2                 1                  2   \n",
       "26        1374495        3                 1                  1   \n",
       "39        3343014        4                 1                  6   \n",
       "45        2717275        5                 1                  3   \n",
       "...           ...      ...               ...                ...   \n",
       "3420930    969311   206205                 1                  4   \n",
       "3420934   3189322   206206                 1                  3   \n",
       "3421002   2166133   206207                 1                  6   \n",
       "3421019   2227043   206208                 1                  1   \n",
       "3421069   3154581   206209                 1                  3   \n",
       "\n",
       "         order_hour_of_day  days_since_last_order  \n",
       "0                        8                    NaN  \n",
       "11                      11                    NaN  \n",
       "26                      14                    NaN  \n",
       "39                      11                    NaN  \n",
       "45                      12                    NaN  \n",
       "...                    ...                    ...  \n",
       "3420930                 12                    NaN  \n",
       "3420934                 18                    NaN  \n",
       "3421002                 19                    NaN  \n",
       "3421019                 15                    NaN  \n",
       "3421069                 11                    NaN  \n",
       "\n",
       "[206209 rows x 6 columns]"
      ]
     },
     "execution_count": 60,
     "metadata": {},
     "output_type": "execute_result"
    }
   ],
   "source": [
    "#Filters records where user_order_number is 1 AND days_since_last_order is missing\n",
    "df_orders[(df_orders['user_order_count'] == 1) & (df_orders['days_since_last_order'].isnull() == True)]"
   ]
  },
  {
   "cell_type": "markdown",
   "id": "dd9cb708-4fde-4f4c-b67c-5fd0514e29fc",
   "metadata": {},
   "source": [
    "##### Observations:\n",
    "- Confirmed that all records where 'days_since_last_order' = NaN have a corresponding 'user_order_count' = 1\n",
    "- The number of missing records agree to total number of customers and appear to be first-time orders"
   ]
  },
  {
   "cell_type": "markdown",
   "id": "a7fa762f-74d3-4a73-9176-f9a501891630",
   "metadata": {
    "editable": true,
    "slideshow": {
     "slide_type": ""
    },
    "tags": []
   },
   "source": [
    "### 4.2.2. Address Missing Values"
   ]
  },
  {
   "cell_type": "markdown",
   "id": "51886d69-e3a0-4573-9709-0fd656671127",
   "metadata": {},
   "source": [
    "##### Observations:\n",
    "- Replacing NaN with 0 would suggest a previous order occurring on the same day as first-time order\n",
    "- Best option is to add a flag variable explaining the missing values"
   ]
  },
  {
   "cell_type": "code",
   "execution_count": 61,
   "id": "7829cc55-4ef7-4fa1-991c-cc6ffe30f1e0",
   "metadata": {},
   "outputs": [],
   "source": [
    "#Add boolean variable which returns True if days_since_last_order is NaN\n",
    "df_orders['is_first_order'] = df_orders['days_since_last_order'].isna()"
   ]
  },
  {
   "cell_type": "code",
   "execution_count": 62,
   "id": "6cc423a9-c404-4658-a87e-42193d77a0c3",
   "metadata": {
    "editable": true,
    "slideshow": {
     "slide_type": ""
    },
    "tags": []
   },
   "outputs": [
    {
     "data": {
      "text/html": [
       "<div>\n",
       "<style scoped>\n",
       "    .dataframe tbody tr th:only-of-type {\n",
       "        vertical-align: middle;\n",
       "    }\n",
       "\n",
       "    .dataframe tbody tr th {\n",
       "        vertical-align: top;\n",
       "    }\n",
       "\n",
       "    .dataframe thead th {\n",
       "        text-align: right;\n",
       "    }\n",
       "</style>\n",
       "<table border=\"1\" class=\"dataframe\">\n",
       "  <thead>\n",
       "    <tr style=\"text-align: right;\">\n",
       "      <th></th>\n",
       "      <th>order_id</th>\n",
       "      <th>user_id</th>\n",
       "      <th>user_order_count</th>\n",
       "      <th>order_day_of_week</th>\n",
       "      <th>order_hour_of_day</th>\n",
       "      <th>days_since_last_order</th>\n",
       "      <th>is_first_order</th>\n",
       "    </tr>\n",
       "  </thead>\n",
       "  <tbody>\n",
       "    <tr>\n",
       "      <th>0</th>\n",
       "      <td>2539329</td>\n",
       "      <td>1</td>\n",
       "      <td>1</td>\n",
       "      <td>2</td>\n",
       "      <td>8</td>\n",
       "      <td>NaN</td>\n",
       "      <td>True</td>\n",
       "    </tr>\n",
       "    <tr>\n",
       "      <th>11</th>\n",
       "      <td>2168274</td>\n",
       "      <td>2</td>\n",
       "      <td>1</td>\n",
       "      <td>2</td>\n",
       "      <td>11</td>\n",
       "      <td>NaN</td>\n",
       "      <td>True</td>\n",
       "    </tr>\n",
       "    <tr>\n",
       "      <th>26</th>\n",
       "      <td>1374495</td>\n",
       "      <td>3</td>\n",
       "      <td>1</td>\n",
       "      <td>1</td>\n",
       "      <td>14</td>\n",
       "      <td>NaN</td>\n",
       "      <td>True</td>\n",
       "    </tr>\n",
       "    <tr>\n",
       "      <th>39</th>\n",
       "      <td>3343014</td>\n",
       "      <td>4</td>\n",
       "      <td>1</td>\n",
       "      <td>6</td>\n",
       "      <td>11</td>\n",
       "      <td>NaN</td>\n",
       "      <td>True</td>\n",
       "    </tr>\n",
       "    <tr>\n",
       "      <th>45</th>\n",
       "      <td>2717275</td>\n",
       "      <td>5</td>\n",
       "      <td>1</td>\n",
       "      <td>3</td>\n",
       "      <td>12</td>\n",
       "      <td>NaN</td>\n",
       "      <td>True</td>\n",
       "    </tr>\n",
       "    <tr>\n",
       "      <th>...</th>\n",
       "      <td>...</td>\n",
       "      <td>...</td>\n",
       "      <td>...</td>\n",
       "      <td>...</td>\n",
       "      <td>...</td>\n",
       "      <td>...</td>\n",
       "      <td>...</td>\n",
       "    </tr>\n",
       "    <tr>\n",
       "      <th>3420930</th>\n",
       "      <td>969311</td>\n",
       "      <td>206205</td>\n",
       "      <td>1</td>\n",
       "      <td>4</td>\n",
       "      <td>12</td>\n",
       "      <td>NaN</td>\n",
       "      <td>True</td>\n",
       "    </tr>\n",
       "    <tr>\n",
       "      <th>3420934</th>\n",
       "      <td>3189322</td>\n",
       "      <td>206206</td>\n",
       "      <td>1</td>\n",
       "      <td>3</td>\n",
       "      <td>18</td>\n",
       "      <td>NaN</td>\n",
       "      <td>True</td>\n",
       "    </tr>\n",
       "    <tr>\n",
       "      <th>3421002</th>\n",
       "      <td>2166133</td>\n",
       "      <td>206207</td>\n",
       "      <td>1</td>\n",
       "      <td>6</td>\n",
       "      <td>19</td>\n",
       "      <td>NaN</td>\n",
       "      <td>True</td>\n",
       "    </tr>\n",
       "    <tr>\n",
       "      <th>3421019</th>\n",
       "      <td>2227043</td>\n",
       "      <td>206208</td>\n",
       "      <td>1</td>\n",
       "      <td>1</td>\n",
       "      <td>15</td>\n",
       "      <td>NaN</td>\n",
       "      <td>True</td>\n",
       "    </tr>\n",
       "    <tr>\n",
       "      <th>3421069</th>\n",
       "      <td>3154581</td>\n",
       "      <td>206209</td>\n",
       "      <td>1</td>\n",
       "      <td>3</td>\n",
       "      <td>11</td>\n",
       "      <td>NaN</td>\n",
       "      <td>True</td>\n",
       "    </tr>\n",
       "  </tbody>\n",
       "</table>\n",
       "<p>206209 rows × 7 columns</p>\n",
       "</div>"
      ],
      "text/plain": [
       "         order_id  user_id  user_order_count  order_day_of_week  \\\n",
       "0         2539329        1                 1                  2   \n",
       "11        2168274        2                 1                  2   \n",
       "26        1374495        3                 1                  1   \n",
       "39        3343014        4                 1                  6   \n",
       "45        2717275        5                 1                  3   \n",
       "...           ...      ...               ...                ...   \n",
       "3420930    969311   206205                 1                  4   \n",
       "3420934   3189322   206206                 1                  3   \n",
       "3421002   2166133   206207                 1                  6   \n",
       "3421019   2227043   206208                 1                  1   \n",
       "3421069   3154581   206209                 1                  3   \n",
       "\n",
       "         order_hour_of_day  days_since_last_order  is_first_order  \n",
       "0                        8                    NaN            True  \n",
       "11                      11                    NaN            True  \n",
       "26                      14                    NaN            True  \n",
       "39                      11                    NaN            True  \n",
       "45                      12                    NaN            True  \n",
       "...                    ...                    ...             ...  \n",
       "3420930                 12                    NaN            True  \n",
       "3420934                 18                    NaN            True  \n",
       "3421002                 19                    NaN            True  \n",
       "3421019                 15                    NaN            True  \n",
       "3421069                 11                    NaN            True  \n",
       "\n",
       "[206209 rows x 7 columns]"
      ]
     },
     "execution_count": 62,
     "metadata": {},
     "output_type": "execute_result"
    }
   ],
   "source": [
    "#Confirm results\n",
    "df_orders[(df_orders['user_order_count'] == 1) & (df_orders['days_since_last_order'].isnull() == True)]"
   ]
  },
  {
   "cell_type": "code",
   "execution_count": 63,
   "id": "a7653718-331b-43b7-8aa4-fcba29801ddd",
   "metadata": {},
   "outputs": [
    {
     "data": {
      "text/plain": [
       "is_first_order\n",
       "False    3214874\n",
       "True      206209\n",
       "Name: count, dtype: int64"
      ]
     },
     "execution_count": 63,
     "metadata": {},
     "output_type": "execute_result"
    }
   ],
   "source": [
    "#Check frequency of new variable\n",
    "df_orders['is_first_order'].value_counts()"
   ]
  },
  {
   "cell_type": "markdown",
   "id": "5bdc8e35-e9e9-44e9-8ab2-4766867f927d",
   "metadata": {},
   "source": [
    "##### Observations:\n",
    "- Flag sucessfully added"
   ]
  },
  {
   "cell_type": "markdown",
   "id": "62c68443-1fa6-458e-9b91-37f5c3fa5dcb",
   "metadata": {},
   "source": [
    "## 4.3. Mixed Type Variables"
   ]
  },
  {
   "cell_type": "markdown",
   "id": "f0756e4e-2e92-47fb-80b3-bf02d650a9e4",
   "metadata": {
    "editable": true,
    "slideshow": {
     "slide_type": ""
    },
    "tags": []
   },
   "source": [
    "### 4.3.1. Find Mixed Type Variables"
   ]
  },
  {
   "cell_type": "code",
   "execution_count": 64,
   "id": "450b10a0-2756-43f5-a2a5-137e5f80a3f8",
   "metadata": {},
   "outputs": [],
   "source": [
    "#Finding mixed type data\n",
    "for col in df_orders.columns.tolist():\n",
    "    weird = (df_orders[[col]].map(type) != df_orders[[col]].iloc[0].apply(type)).any(axis=1)\n",
    "    if len(df_orders[weird]) > 0:\n",
    "        print (col)"
   ]
  },
  {
   "cell_type": "markdown",
   "id": "590e7212-34df-4a91-aca4-5eb3fe52d2cf",
   "metadata": {
    "editable": true,
    "slideshow": {
     "slide_type": ""
    },
    "tags": []
   },
   "source": [
    "##### Observations:\n",
    "- No variables returned"
   ]
  },
  {
   "cell_type": "markdown",
   "id": "95936469-c6ee-40ee-a0f1-66224be26ac0",
   "metadata": {
    "editable": true,
    "slideshow": {
     "slide_type": ""
    },
    "tags": []
   },
   "source": [
    "### 4.3.2. Address Mixed Type Variables"
   ]
  },
  {
   "cell_type": "markdown",
   "id": "b94c6c26-577a-4b63-8ccf-86546ae32f42",
   "metadata": {
    "editable": true,
    "slideshow": {
     "slide_type": ""
    },
    "tags": []
   },
   "source": [
    "##### Observations:\n",
    "- No variables identified with with mixed type data"
   ]
  },
  {
   "cell_type": "markdown",
   "id": "0d112ae4-3360-4425-8ccf-eb67ab2adfba",
   "metadata": {},
   "source": [
    "## 4.4. Duplicates"
   ]
  },
  {
   "cell_type": "markdown",
   "id": "da18e140-b60d-4b0f-b5ad-8f93b4b49aa4",
   "metadata": {
    "editable": true,
    "slideshow": {
     "slide_type": ""
    },
    "tags": []
   },
   "source": [
    "### 4.4.1. Find Duplicates"
   ]
  },
  {
   "cell_type": "code",
   "execution_count": 65,
   "id": "7252c8a9-e068-4d2a-84f9-61819f48c49b",
   "metadata": {
    "editable": true,
    "slideshow": {
     "slide_type": ""
    },
    "tags": []
   },
   "outputs": [
    {
     "data": {
      "text/html": [
       "<div>\n",
       "<style scoped>\n",
       "    .dataframe tbody tr th:only-of-type {\n",
       "        vertical-align: middle;\n",
       "    }\n",
       "\n",
       "    .dataframe tbody tr th {\n",
       "        vertical-align: top;\n",
       "    }\n",
       "\n",
       "    .dataframe thead th {\n",
       "        text-align: right;\n",
       "    }\n",
       "</style>\n",
       "<table border=\"1\" class=\"dataframe\">\n",
       "  <thead>\n",
       "    <tr style=\"text-align: right;\">\n",
       "      <th></th>\n",
       "      <th>order_id</th>\n",
       "      <th>user_id</th>\n",
       "      <th>user_order_count</th>\n",
       "      <th>order_day_of_week</th>\n",
       "      <th>order_hour_of_day</th>\n",
       "      <th>days_since_last_order</th>\n",
       "      <th>is_first_order</th>\n",
       "    </tr>\n",
       "  </thead>\n",
       "  <tbody>\n",
       "  </tbody>\n",
       "</table>\n",
       "</div>"
      ],
      "text/plain": [
       "Empty DataFrame\n",
       "Columns: [order_id, user_id, user_order_count, order_day_of_week, order_hour_of_day, days_since_last_order, is_first_order]\n",
       "Index: []"
      ]
     },
     "execution_count": 65,
     "metadata": {},
     "output_type": "execute_result"
    }
   ],
   "source": [
    "#Identify duplicates, create subset, and view results\n",
    "df_orders_duplicates = df_orders[df_orders.duplicated()]\n",
    "df_orders_duplicates"
   ]
  },
  {
   "cell_type": "code",
   "execution_count": 66,
   "id": "1ba68391-4219-4c4e-8fd8-02a7e067793f",
   "metadata": {
    "editable": true,
    "slideshow": {
     "slide_type": ""
    },
    "tags": []
   },
   "outputs": [
    {
     "data": {
      "text/plain": [
       "(0, 7)"
      ]
     },
     "execution_count": 66,
     "metadata": {},
     "output_type": "execute_result"
    }
   ],
   "source": [
    "#Confirm dimensions\n",
    "df_orders_duplicates.shape"
   ]
  },
  {
   "cell_type": "markdown",
   "id": "0a65bbff-19f8-46dc-a739-eb42b9725402",
   "metadata": {
    "editable": true,
    "slideshow": {
     "slide_type": ""
    },
    "tags": []
   },
   "source": [
    "##### Observations:\n",
    "- No records returned"
   ]
  },
  {
   "cell_type": "markdown",
   "id": "037478d2-2411-43e0-96cc-0e120015e44b",
   "metadata": {
    "editable": true,
    "slideshow": {
     "slide_type": ""
    },
    "tags": []
   },
   "source": [
    "### 4.4.2. Address Duplicates"
   ]
  },
  {
   "cell_type": "markdown",
   "id": "bb1bca51-0d32-4ab3-97ad-c7ffb4ef136c",
   "metadata": {
    "editable": true,
    "slideshow": {
     "slide_type": ""
    },
    "tags": []
   },
   "source": [
    "##### Observations\n",
    "- No duplicate records identified"
   ]
  },
  {
   "cell_type": "markdown",
   "id": "b27936df-39fd-4c95-85d2-fe774bb0aca8",
   "metadata": {},
   "source": [
    "# 5. Exports"
   ]
  },
  {
   "cell_type": "code",
   "execution_count": 67,
   "id": "a47255ff-3b72-42e5-a40f-951f1673649e",
   "metadata": {
    "editable": true,
    "slideshow": {
     "slide_type": ""
    },
    "tags": []
   },
   "outputs": [
    {
     "data": {
      "text/plain": [
       "(3421083, 7)"
      ]
     },
     "execution_count": 67,
     "metadata": {},
     "output_type": "execute_result"
    }
   ],
   "source": [
    "#Confirm dimensions\n",
    "df_orders.shape"
   ]
  },
  {
   "cell_type": "code",
   "execution_count": 68,
   "id": "26a8cafc-c168-4568-a521-8a93c509b975",
   "metadata": {
    "editable": true,
    "slideshow": {
     "slide_type": ""
    },
    "tags": []
   },
   "outputs": [],
   "source": [
    "#Export cleaned dataset\n",
    "df_orders.to_pickle(os.path.join(path, '02 - Data', 'Prepared Data', 'cleaned_orders.pkl'))"
   ]
  }
 ],
 "metadata": {
  "kernelspec": {
   "display_name": "Python 3 (ipykernel)",
   "language": "python",
   "name": "python3"
  },
  "language_info": {
   "codemirror_mode": {
    "name": "ipython",
    "version": 3
   },
   "file_extension": ".py",
   "mimetype": "text/x-python",
   "name": "python",
   "nbconvert_exporter": "python",
   "pygments_lexer": "ipython3",
   "version": "3.12.2"
  }
 },
 "nbformat": 4,
 "nbformat_minor": 5
}
