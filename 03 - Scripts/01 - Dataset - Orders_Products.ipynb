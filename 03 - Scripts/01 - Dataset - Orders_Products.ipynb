{
 "cells": [
  {
   "cell_type": "markdown",
   "id": "02341f98-efe5-4a62-b59b-ec9ca632553e",
   "metadata": {
    "editable": true,
    "slideshow": {
     "slide_type": ""
    },
    "tags": []
   },
   "source": [
    "# Contents\n",
    "1. Imports\n",
    "2. Checks\n",
    "3. Wrangling\n",
    "4. Cleaning\n",
    "5. Exports"
   ]
  },
  {
   "cell_type": "markdown",
   "id": "4fc39d0d-5501-4542-9182-561e227f3377",
   "metadata": {
    "editable": true,
    "slideshow": {
     "slide_type": ""
    },
    "tags": []
   },
   "source": [
    "# 1. Imports"
   ]
  },
  {
   "cell_type": "code",
   "execution_count": 2,
   "id": "d04bffbd-5502-4e1e-9066-e31a509b2ced",
   "metadata": {},
   "outputs": [],
   "source": [
    "#Libraries\n",
    "import pandas as pd\n",
    "import numpy as np\n",
    "import os"
   ]
  },
  {
   "cell_type": "code",
   "execution_count": 4,
   "id": "0988f9ab-0279-4c78-93ca-3176779d87f5",
   "metadata": {},
   "outputs": [],
   "source": [
    "#Path\n",
    "path = r'/Users/davidgriesel/Documents/Analytics/Projects/Online Grocery Store'"
   ]
  },
  {
   "cell_type": "code",
   "execution_count": 6,
   "id": "b496ae4c-ddac-4ce1-9e58-634012e2767a",
   "metadata": {},
   "outputs": [],
   "source": [
    "#Dataset\n",
    "df_orders_products = pd.read_csv(os.path.join(path, '02 - Data', 'Original Data', 'orders_products.csv'))"
   ]
  },
  {
   "cell_type": "markdown",
   "id": "b3884db7-90b7-4c8b-b00f-f7162c73471f",
   "metadata": {},
   "source": [
    "# 2. Checks"
   ]
  },
  {
   "cell_type": "code",
   "execution_count": 8,
   "id": "1ff591d1-49b2-49e5-9c83-ea10f82229f3",
   "metadata": {},
   "outputs": [
    {
     "data": {
      "text/plain": [
       "(32434489, 4)"
      ]
     },
     "execution_count": 8,
     "metadata": {},
     "output_type": "execute_result"
    }
   ],
   "source": [
    "#Dimensions\n",
    "df_orders_products.shape"
   ]
  },
  {
   "cell_type": "code",
   "execution_count": 9,
   "id": "b5ee871a-6bbb-4c8e-958b-d35bb22ca336",
   "metadata": {
    "editable": true,
    "slideshow": {
     "slide_type": ""
    },
    "tags": []
   },
   "outputs": [
    {
     "data": {
      "text/html": [
       "<div>\n",
       "<style scoped>\n",
       "    .dataframe tbody tr th:only-of-type {\n",
       "        vertical-align: middle;\n",
       "    }\n",
       "\n",
       "    .dataframe tbody tr th {\n",
       "        vertical-align: top;\n",
       "    }\n",
       "\n",
       "    .dataframe thead th {\n",
       "        text-align: right;\n",
       "    }\n",
       "</style>\n",
       "<table border=\"1\" class=\"dataframe\">\n",
       "  <thead>\n",
       "    <tr style=\"text-align: right;\">\n",
       "      <th></th>\n",
       "      <th>order_id</th>\n",
       "      <th>product_id</th>\n",
       "      <th>add_to_cart_order</th>\n",
       "      <th>reordered</th>\n",
       "    </tr>\n",
       "  </thead>\n",
       "  <tbody>\n",
       "    <tr>\n",
       "      <th>0</th>\n",
       "      <td>2</td>\n",
       "      <td>33120</td>\n",
       "      <td>1</td>\n",
       "      <td>1</td>\n",
       "    </tr>\n",
       "    <tr>\n",
       "      <th>1</th>\n",
       "      <td>2</td>\n",
       "      <td>28985</td>\n",
       "      <td>2</td>\n",
       "      <td>1</td>\n",
       "    </tr>\n",
       "    <tr>\n",
       "      <th>2</th>\n",
       "      <td>2</td>\n",
       "      <td>9327</td>\n",
       "      <td>3</td>\n",
       "      <td>0</td>\n",
       "    </tr>\n",
       "    <tr>\n",
       "      <th>3</th>\n",
       "      <td>2</td>\n",
       "      <td>45918</td>\n",
       "      <td>4</td>\n",
       "      <td>1</td>\n",
       "    </tr>\n",
       "    <tr>\n",
       "      <th>4</th>\n",
       "      <td>2</td>\n",
       "      <td>30035</td>\n",
       "      <td>5</td>\n",
       "      <td>0</td>\n",
       "    </tr>\n",
       "  </tbody>\n",
       "</table>\n",
       "</div>"
      ],
      "text/plain": [
       "   order_id  product_id  add_to_cart_order  reordered\n",
       "0         2       33120                  1          1\n",
       "1         2       28985                  2          1\n",
       "2         2        9327                  3          0\n",
       "3         2       45918                  4          1\n",
       "4         2       30035                  5          0"
      ]
     },
     "execution_count": 9,
     "metadata": {},
     "output_type": "execute_result"
    }
   ],
   "source": [
    "#Preview\n",
    "df_orders_products.head()"
   ]
  },
  {
   "cell_type": "code",
   "execution_count": 10,
   "id": "52b4a22f-3c1e-4b03-b23e-afd678764212",
   "metadata": {},
   "outputs": [
    {
     "data": {
      "text/html": [
       "<div>\n",
       "<style scoped>\n",
       "    .dataframe tbody tr th:only-of-type {\n",
       "        vertical-align: middle;\n",
       "    }\n",
       "\n",
       "    .dataframe tbody tr th {\n",
       "        vertical-align: top;\n",
       "    }\n",
       "\n",
       "    .dataframe thead th {\n",
       "        text-align: right;\n",
       "    }\n",
       "</style>\n",
       "<table border=\"1\" class=\"dataframe\">\n",
       "  <thead>\n",
       "    <tr style=\"text-align: right;\">\n",
       "      <th></th>\n",
       "      <th>order_id</th>\n",
       "      <th>product_id</th>\n",
       "      <th>add_to_cart_order</th>\n",
       "      <th>reordered</th>\n",
       "    </tr>\n",
       "  </thead>\n",
       "  <tbody>\n",
       "    <tr>\n",
       "      <th>count</th>\n",
       "      <td>3.243449e+07</td>\n",
       "      <td>3.243449e+07</td>\n",
       "      <td>3.243449e+07</td>\n",
       "      <td>3.243449e+07</td>\n",
       "    </tr>\n",
       "    <tr>\n",
       "      <th>mean</th>\n",
       "      <td>1.710749e+06</td>\n",
       "      <td>2.557634e+04</td>\n",
       "      <td>8.351076e+00</td>\n",
       "      <td>5.896975e-01</td>\n",
       "    </tr>\n",
       "    <tr>\n",
       "      <th>std</th>\n",
       "      <td>9.873007e+05</td>\n",
       "      <td>1.409669e+04</td>\n",
       "      <td>7.126671e+00</td>\n",
       "      <td>4.918886e-01</td>\n",
       "    </tr>\n",
       "    <tr>\n",
       "      <th>min</th>\n",
       "      <td>2.000000e+00</td>\n",
       "      <td>1.000000e+00</td>\n",
       "      <td>1.000000e+00</td>\n",
       "      <td>0.000000e+00</td>\n",
       "    </tr>\n",
       "    <tr>\n",
       "      <th>25%</th>\n",
       "      <td>8.559430e+05</td>\n",
       "      <td>1.353000e+04</td>\n",
       "      <td>3.000000e+00</td>\n",
       "      <td>0.000000e+00</td>\n",
       "    </tr>\n",
       "    <tr>\n",
       "      <th>50%</th>\n",
       "      <td>1.711048e+06</td>\n",
       "      <td>2.525600e+04</td>\n",
       "      <td>6.000000e+00</td>\n",
       "      <td>1.000000e+00</td>\n",
       "    </tr>\n",
       "    <tr>\n",
       "      <th>75%</th>\n",
       "      <td>2.565514e+06</td>\n",
       "      <td>3.793500e+04</td>\n",
       "      <td>1.100000e+01</td>\n",
       "      <td>1.000000e+00</td>\n",
       "    </tr>\n",
       "    <tr>\n",
       "      <th>max</th>\n",
       "      <td>3.421083e+06</td>\n",
       "      <td>4.968800e+04</td>\n",
       "      <td>1.450000e+02</td>\n",
       "      <td>1.000000e+00</td>\n",
       "    </tr>\n",
       "  </tbody>\n",
       "</table>\n",
       "</div>"
      ],
      "text/plain": [
       "           order_id    product_id  add_to_cart_order     reordered\n",
       "count  3.243449e+07  3.243449e+07       3.243449e+07  3.243449e+07\n",
       "mean   1.710749e+06  2.557634e+04       8.351076e+00  5.896975e-01\n",
       "std    9.873007e+05  1.409669e+04       7.126671e+00  4.918886e-01\n",
       "min    2.000000e+00  1.000000e+00       1.000000e+00  0.000000e+00\n",
       "25%    8.559430e+05  1.353000e+04       3.000000e+00  0.000000e+00\n",
       "50%    1.711048e+06  2.525600e+04       6.000000e+00  1.000000e+00\n",
       "75%    2.565514e+06  3.793500e+04       1.100000e+01  1.000000e+00\n",
       "max    3.421083e+06  4.968800e+04       1.450000e+02  1.000000e+00"
      ]
     },
     "execution_count": 10,
     "metadata": {},
     "output_type": "execute_result"
    }
   ],
   "source": [
    "#Summary stats\n",
    "df_orders_products.describe()"
   ]
  },
  {
   "cell_type": "markdown",
   "id": "c023934d-02cc-4555-b268-62ec01047896",
   "metadata": {},
   "source": [
    "##### Observations:\n",
    "- Dataset contains 32,434,489 records\n",
    "- Possible missing records in order_id with min = 2"
   ]
  },
  {
   "cell_type": "markdown",
   "id": "aeffc7e8-23b2-461c-9198-b40d34de2e56",
   "metadata": {},
   "source": [
    "# 3. Wrangling"
   ]
  },
  {
   "cell_type": "markdown",
   "id": "3eab29af-60f4-432b-9a17-b7878c56a925",
   "metadata": {},
   "source": [
    "## 3.1. Drop Columns"
   ]
  },
  {
   "cell_type": "markdown",
   "id": "94bc2e0b-dbc8-4ba0-a83c-16915538a1a0",
   "metadata": {
    "editable": true,
    "slideshow": {
     "slide_type": ""
    },
    "tags": []
   },
   "source": [
    "### 3.1.1. Identify Redundant Columns"
   ]
  },
  {
   "cell_type": "code",
   "execution_count": null,
   "id": "66e2ccee-cbd5-4b14-9bcc-cd2a8344a98e",
   "metadata": {
    "scrolled": true
   },
   "outputs": [],
   "source": [
    "#Check frequency distribution of variable\n",
    "df_orders_products['order_id'].value_counts(dropna = False)"
   ]
  },
  {
   "cell_type": "markdown",
   "id": "b6a00c6f-7775-45eb-b2e4-cc6e40522917",
   "metadata": {
    "editable": true,
    "slideshow": {
     "slide_type": ""
    },
    "tags": []
   },
   "source": [
    "##### Observations:\n",
    "- 3,214,874 unique values ranging between 2 to 3,421,083\n",
    "- With 32,434,489 records the dataset likely has missing records\n",
    "- Retain column"
   ]
  },
  {
   "cell_type": "code",
   "execution_count": null,
   "id": "4dc3355b-6bf6-4a3c-ac3b-a43be1771990",
   "metadata": {
    "scrolled": true
   },
   "outputs": [],
   "source": [
    "#Check frequency distribution of variable\n",
    "df_orders_products['product_id'].value_counts(dropna = False)"
   ]
  },
  {
   "cell_type": "markdown",
   "id": "da3ba2a4-b667-4d5c-9915-e276e0f85d67",
   "metadata": {},
   "source": [
    "##### Observations:\n",
    "- 49,677 values ranging between 1 and 49,688\n",
    "- Indicates missing records and/or that certain products have never been ordered\n",
    "- Retain column"
   ]
  },
  {
   "cell_type": "code",
   "execution_count": null,
   "id": "c169d0f0-229e-4e43-a13e-3324b045c909",
   "metadata": {},
   "outputs": [],
   "source": [
    "#Check frequency distribution of variable\n",
    "df_orders_products['add_to_cart_order'].value_counts(dropna = False)"
   ]
  },
  {
   "cell_type": "markdown",
   "id": "d270b92b-4c61-44ce-96f9-1fc25e6e05f0",
   "metadata": {},
   "source": [
    "##### Observations:\n",
    "- 145 values ranging between 1 and 145\n",
    "- Customers ordered up to 145 items at a time\n",
    "- Retain column"
   ]
  },
  {
   "cell_type": "code",
   "execution_count": null,
   "id": "7fc9b81f-89ea-4f40-8317-432564ae3304",
   "metadata": {
    "scrolled": true
   },
   "outputs": [],
   "source": [
    "#Check frequency distribution of variable\n",
    "df_orders_products['reordered'].value_counts(dropna = False)"
   ]
  },
  {
   "cell_type": "markdown",
   "id": "45717571-00d2-4735-bec0-85aa9b6cfb56",
   "metadata": {},
   "source": [
    "##### Observations:\n",
    "- 2 values with 1 indicating customer have ordered product before, and 0 indicating first time order \n",
    "- Retain column"
   ]
  },
  {
   "cell_type": "markdown",
   "id": "8c16863f-cb5a-4f75-b619-e66720cf84f6",
   "metadata": {
    "editable": true,
    "slideshow": {
     "slide_type": ""
    },
    "tags": []
   },
   "source": [
    "### 3.1.2. Address Redundant Columns"
   ]
  },
  {
   "cell_type": "markdown",
   "id": "85d25a3d-6131-4791-a3dc-e2a88b55fd6e",
   "metadata": {
    "editable": true,
    "slideshow": {
     "slide_type": ""
    },
    "tags": []
   },
   "source": [
    "##### Observations:\n",
    "- No redundant columns identified"
   ]
  },
  {
   "cell_type": "markdown",
   "id": "838070a5-338b-413a-af96-1b14b51f7ff5",
   "metadata": {},
   "source": [
    "## 3.2. Rename Columns"
   ]
  },
  {
   "cell_type": "markdown",
   "id": "7991c5b8-4b34-4975-95eb-7bf4a8bcf18a",
   "metadata": {
    "editable": true,
    "slideshow": {
     "slide_type": ""
    },
    "tags": []
   },
   "source": [
    "### 3.2.1. Identify Unclear Descriptions"
   ]
  },
  {
   "cell_type": "code",
   "execution_count": null,
   "id": "949f692a-8c24-4ac7-b74a-47be8f60be3d",
   "metadata": {
    "editable": true,
    "slideshow": {
     "slide_type": ""
    },
    "tags": []
   },
   "outputs": [],
   "source": [
    "#Check Column Descriptions\n",
    "df_orders_products.columns"
   ]
  },
  {
   "cell_type": "markdown",
   "id": "e79c7aaf-2a29-4888-b34b-60a2ef354c87",
   "metadata": {
    "editable": true,
    "slideshow": {
     "slide_type": ""
    },
    "tags": []
   },
   "source": [
    "##### Observations:\n",
    "- Variables are described clearly"
   ]
  },
  {
   "cell_type": "markdown",
   "id": "2ae563ff-a41b-4d90-909d-eda6082799fd",
   "metadata": {
    "editable": true,
    "slideshow": {
     "slide_type": ""
    },
    "tags": []
   },
   "source": [
    "### 3.2.2. Address Unclear Descriptions"
   ]
  },
  {
   "cell_type": "markdown",
   "id": "fca971b3-6d40-4f0d-b314-fab5d962bec1",
   "metadata": {
    "editable": true,
    "slideshow": {
     "slide_type": ""
    },
    "tags": []
   },
   "source": [
    "##### Observations:\n",
    "- No unclear descriptions noted"
   ]
  },
  {
   "cell_type": "markdown",
   "id": "be0506bd-02ae-491b-b3a7-79397a87f8d9",
   "metadata": {},
   "source": [
    "## 3.3. Data Types"
   ]
  },
  {
   "cell_type": "markdown",
   "id": "0dfd6d87-a4bc-4e78-9713-f16ce054b6ef",
   "metadata": {
    "editable": true,
    "slideshow": {
     "slide_type": ""
    },
    "tags": []
   },
   "source": [
    "### 3.3.1. Identify Inconsistent Data Types"
   ]
  },
  {
   "cell_type": "code",
   "execution_count": null,
   "id": "57a59157-690b-43f5-9c9d-7975407a5e17",
   "metadata": {},
   "outputs": [],
   "source": [
    "#Check data types\n",
    "df_orders_products.dtypes"
   ]
  },
  {
   "cell_type": "markdown",
   "id": "6b7a8ea4-6d16-4445-9217-fe88ec147062",
   "metadata": {
    "editable": true,
    "slideshow": {
     "slide_type": ""
    },
    "tags": []
   },
   "source": [
    "##### Observations:\n",
    "- Data types are consistent with variable contents"
   ]
  },
  {
   "cell_type": "markdown",
   "id": "fddf3d3a-6a50-4f9e-95cb-67c141b5acd3",
   "metadata": {
    "editable": true,
    "slideshow": {
     "slide_type": ""
    },
    "tags": []
   },
   "source": [
    "### 3.3.2. Address Inconsistent Data Types"
   ]
  },
  {
   "cell_type": "markdown",
   "id": "ae2dd5b8-8d52-4ef1-9ca6-b9a578be3bc6",
   "metadata": {},
   "source": [
    "##### Observations:\n",
    "- No inconsistencies noted"
   ]
  },
  {
   "cell_type": "markdown",
   "id": "d1ef4ac6-6145-4828-bc13-e4f4f4ee82fd",
   "metadata": {},
   "source": [
    "# 4. Cleaning"
   ]
  },
  {
   "cell_type": "markdown",
   "id": "a1a94714-f190-4c27-9cc7-ba9990f75baf",
   "metadata": {},
   "source": [
    "## 4.1. Accuracy"
   ]
  },
  {
   "cell_type": "markdown",
   "id": "f093c112-3f0c-432f-b8fd-970978a66ac0",
   "metadata": {
    "editable": true,
    "slideshow": {
     "slide_type": ""
    },
    "tags": []
   },
   "source": [
    "### 4.1.1. Identify Inaccurate Values"
   ]
  },
  {
   "cell_type": "code",
   "execution_count": null,
   "id": "e2230d85-4985-4091-a1ca-99a2303de172",
   "metadata": {},
   "outputs": [],
   "source": [
    "#Review descriptive statistics\n",
    "df_orders_products.describe()"
   ]
  },
  {
   "cell_type": "code",
   "execution_count": null,
   "id": "9257618f-31d4-4fe0-ad21-41b1f29a59c3",
   "metadata": {},
   "outputs": [],
   "source": [
    "#Number of unique values per variable\n",
    "df_orders_products.nunique()"
   ]
  },
  {
   "cell_type": "markdown",
   "id": "38e192c4-18ea-4a41-9106-17cebdccea65",
   "metadata": {
    "editable": true,
    "slideshow": {
     "slide_type": ""
    },
    "tags": []
   },
   "source": [
    "##### Observations:\n",
    "- The dataset cotains 32,434,489 records\n",
    "- With 3,214,874 unique user_id's ranging between 2 to 3,421,083 the dataset likely contains duplicate and/or missing records\n",
    "- With 49,677 unique product_id ranging between 1 and 49,688 it either confirms missing records, or that certain products have never been ordered\n",
    "- Customers ordered between 1 and 145 products at a time\n",
    "- Dataset indicates of products have been ordered before (1) or not (0)."
   ]
  },
  {
   "cell_type": "markdown",
   "id": "26a6d117-c7ee-4f7d-87b0-9ae1b46c8a31",
   "metadata": {
    "editable": true,
    "slideshow": {
     "slide_type": ""
    },
    "tags": []
   },
   "source": [
    "### 4.1.2. Address Inaccurate Values"
   ]
  },
  {
   "cell_type": "markdown",
   "id": "a610a09e-f120-444a-a9be-9ff3024d19a8",
   "metadata": {},
   "source": [
    "##### Observations\n",
    "- No inaccuracies noted"
   ]
  },
  {
   "cell_type": "markdown",
   "id": "4cff847c-c2a4-436a-b8d4-20092ecc1481",
   "metadata": {},
   "source": [
    "## 4.2. Missing Values"
   ]
  },
  {
   "cell_type": "markdown",
   "id": "71027c33-e60f-4264-bda2-b5ca87e55191",
   "metadata": {
    "editable": true,
    "slideshow": {
     "slide_type": ""
    },
    "tags": []
   },
   "source": [
    "### 4.2.1. Identify missing values"
   ]
  },
  {
   "cell_type": "code",
   "execution_count": null,
   "id": "e745c434-718d-4b8a-bbba-efe9b6107e81",
   "metadata": {},
   "outputs": [],
   "source": [
    "#Number of missing values per variable\n",
    "df_orders_products.isnull().sum()"
   ]
  },
  {
   "cell_type": "markdown",
   "id": "5e9d8407-775b-43db-a0b0-7c9942af11d4",
   "metadata": {
    "editable": true,
    "slideshow": {
     "slide_type": ""
    },
    "tags": []
   },
   "source": [
    "##### Observations:\n",
    "- None of the variables had NaN values"
   ]
  },
  {
   "cell_type": "markdown",
   "id": "c4542d58-284a-4ec5-be39-88e96b52a6a8",
   "metadata": {
    "editable": true,
    "slideshow": {
     "slide_type": ""
    },
    "tags": []
   },
   "source": [
    "### 4.2.2. Address Missing Values"
   ]
  },
  {
   "cell_type": "markdown",
   "id": "71680976-32db-4978-8704-daa3583a7318",
   "metadata": {
    "editable": true,
    "slideshow": {
     "slide_type": ""
    },
    "tags": []
   },
   "source": [
    "##### Observations:\n",
    "- No missing values were identified"
   ]
  },
  {
   "cell_type": "markdown",
   "id": "0ec10087-8552-45ee-b6c3-206d98fe730b",
   "metadata": {},
   "source": [
    "## 4.3. Mixed Type Variables"
   ]
  },
  {
   "cell_type": "markdown",
   "id": "8e66179b-8671-4e84-b92d-b3dd3fdb201d",
   "metadata": {
    "editable": true,
    "slideshow": {
     "slide_type": ""
    },
    "tags": []
   },
   "source": [
    "### 4.3.1. Find Mixed Type Variables"
   ]
  },
  {
   "cell_type": "code",
   "execution_count": null,
   "id": "30ca56cf-6926-4b0e-aa88-07765e03e7cc",
   "metadata": {},
   "outputs": [],
   "source": [
    "#Finding mixed type data\n",
    "for col in df_orders_products.columns.tolist():\n",
    "    weird = (df_orders_products[[col]].map(type) != df_orders_products[[col]].iloc[0].apply(type)).any(axis=1)\n",
    "    if len(df_orders_products[weird]) > 0:\n",
    "        print (col)"
   ]
  },
  {
   "cell_type": "markdown",
   "id": "927e24b1-32d6-4ec5-b1a3-3815d2c83021",
   "metadata": {
    "editable": true,
    "slideshow": {
     "slide_type": ""
    },
    "tags": []
   },
   "source": [
    "##### Observations:\n",
    "- No variables returned"
   ]
  },
  {
   "cell_type": "markdown",
   "id": "7674f6ce-e7a3-4a82-85d6-38eab05e3401",
   "metadata": {
    "editable": true,
    "slideshow": {
     "slide_type": ""
    },
    "tags": []
   },
   "source": [
    "### 4.3.2. Address Mixed Type Variables"
   ]
  },
  {
   "cell_type": "markdown",
   "id": "fecdbb1f-4326-4f47-8522-a3a954d992f5",
   "metadata": {},
   "source": [
    "##### Observations:\n",
    "- No variables identified with with mixed type data"
   ]
  },
  {
   "cell_type": "markdown",
   "id": "48768062-7879-4ec9-816b-0ff1d777e226",
   "metadata": {},
   "source": [
    "## 4.4. Duplicates"
   ]
  },
  {
   "cell_type": "markdown",
   "id": "1ca3730e-d150-45fb-b9e8-d736c3be1487",
   "metadata": {
    "editable": true,
    "slideshow": {
     "slide_type": ""
    },
    "tags": []
   },
   "source": [
    "### 4.4.1. Find Duplicates"
   ]
  },
  {
   "cell_type": "code",
   "execution_count": null,
   "id": "25ee21e8-75ef-4322-a82f-fc5fb18c8e21",
   "metadata": {},
   "outputs": [],
   "source": [
    "#Identify duplicates, create and view subset with results\n",
    "df_orders_products_duplicates = df_orders_products[df_orders_products.duplicated()]\n",
    "df_orders_products_duplicates"
   ]
  },
  {
   "cell_type": "code",
   "execution_count": null,
   "id": "6b4cfe5c-211f-4392-8fae-d6a9e15feb09",
   "metadata": {},
   "outputs": [],
   "source": [
    "#Confirm dimensions\n",
    "df_orders_products_duplicates.shape"
   ]
  },
  {
   "cell_type": "markdown",
   "id": "8490a7fb-6a41-440c-9905-2cb5e0133c21",
   "metadata": {
    "editable": true,
    "slideshow": {
     "slide_type": ""
    },
    "tags": []
   },
   "source": [
    "##### Observations:\n",
    "- No records returned"
   ]
  },
  {
   "cell_type": "markdown",
   "id": "52c030d1-ec43-4bf8-aeff-cb8f9c46032a",
   "metadata": {
    "editable": true,
    "slideshow": {
     "slide_type": ""
    },
    "tags": []
   },
   "source": [
    "### 4.4.2. Address Duplicates"
   ]
  },
  {
   "cell_type": "markdown",
   "id": "b5ed9d1d-2dda-48a8-8ef1-060bbc245cf6",
   "metadata": {},
   "source": [
    "##### Observations\n",
    "- No duplicate records identified"
   ]
  },
  {
   "cell_type": "markdown",
   "id": "dbb84506-5684-4300-92e5-19aac09b5899",
   "metadata": {},
   "source": [
    "# 5. Exports"
   ]
  },
  {
   "cell_type": "code",
   "execution_count": null,
   "id": "13df8d02-de29-4532-83f9-6460cb9cc270",
   "metadata": {},
   "outputs": [],
   "source": [
    "#Confirm dimensions\n",
    "df_orders_products.shape"
   ]
  },
  {
   "cell_type": "code",
   "execution_count": null,
   "id": "c2874dc1-91ea-4598-b16b-72e7d83c5595",
   "metadata": {
    "editable": true,
    "slideshow": {
     "slide_type": ""
    },
    "tags": []
   },
   "outputs": [],
   "source": [
    "#Export cleaned dataset\n",
    "df_orders_products.to_pickle(os.path.join(path, '02 - Data', 'Prepared Data', 'cleaned_orders_products.pkl'))"
   ]
  }
 ],
 "metadata": {
  "kernelspec": {
   "display_name": "Python [conda env:base] *",
   "language": "python",
   "name": "conda-base-py"
  },
  "language_info": {
   "codemirror_mode": {
    "name": "ipython",
    "version": 3
   },
   "file_extension": ".py",
   "mimetype": "text/x-python",
   "name": "python",
   "nbconvert_exporter": "python",
   "pygments_lexer": "ipython3",
   "version": "3.12.2"
  }
 },
 "nbformat": 4,
 "nbformat_minor": 5
}
