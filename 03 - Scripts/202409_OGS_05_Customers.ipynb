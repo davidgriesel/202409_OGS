{
 "cells": [
  {
   "cell_type": "markdown",
   "id": "1a8a2033-660a-4329-8f5f-45ad1ee73dce",
   "metadata": {
    "editable": true,
    "slideshow": {
     "slide_type": ""
    },
    "tags": []
   },
   "source": [
    "# Contents\n",
    "1. Imports\n",
    "2. Checks\n",
    "3. Wrangling\n",
    "4. Cleaning\n",
    "5. Exports"
   ]
  },
  {
   "cell_type": "markdown",
   "id": "ba1c68dc-b3a6-46c6-a5c3-5d94c5947c3e",
   "metadata": {},
   "source": [
    "# 1. Imports"
   ]
  },
  {
   "cell_type": "code",
   "execution_count": 2,
   "id": "b218f80e-b815-47cf-9003-a8bc02d518ef",
   "metadata": {},
   "outputs": [],
   "source": [
    "#Libraries\n",
    "import pandas as pd\n",
    "import numpy as np\n",
    "import os"
   ]
  },
  {
   "cell_type": "code",
   "execution_count": 3,
   "id": "8f3d6ea0-b95e-4469-9150-9d66120b94a1",
   "metadata": {},
   "outputs": [],
   "source": [
    "#Path\n",
    "path = r'/Users/davidgriesel/Documents/GitHub/202409_OGS'"
   ]
  },
  {
   "cell_type": "code",
   "execution_count": 4,
   "id": "7feeb736-0a7b-4b9e-8ecb-6b54ae8b5b56",
   "metadata": {},
   "outputs": [],
   "source": [
    "#Dataset\n",
    "df_customers = pd.read_csv(os.path.join(path, '02 - Data', 'Original Data', 'customers.csv'))"
   ]
  },
  {
   "cell_type": "markdown",
   "id": "7c75d2a8-d3b9-431a-bd0d-0f92c559caf8",
   "metadata": {},
   "source": [
    "# 2. Checks"
   ]
  },
  {
   "cell_type": "code",
   "execution_count": 5,
   "id": "148f9438-049b-4f1e-84d6-7db39eb6d806",
   "metadata": {},
   "outputs": [
    {
     "data": {
      "text/plain": [
       "(206209, 10)"
      ]
     },
     "execution_count": 5,
     "metadata": {},
     "output_type": "execute_result"
    }
   ],
   "source": [
    "#Dimensions\n",
    "df_customers.shape"
   ]
  },
  {
   "cell_type": "code",
   "execution_count": 6,
   "id": "daf2c8b7-89d4-49f2-8bb3-e3f115105ebb",
   "metadata": {},
   "outputs": [
    {
     "data": {
      "text/html": [
       "<div>\n",
       "<style scoped>\n",
       "    .dataframe tbody tr th:only-of-type {\n",
       "        vertical-align: middle;\n",
       "    }\n",
       "\n",
       "    .dataframe tbody tr th {\n",
       "        vertical-align: top;\n",
       "    }\n",
       "\n",
       "    .dataframe thead th {\n",
       "        text-align: right;\n",
       "    }\n",
       "</style>\n",
       "<table border=\"1\" class=\"dataframe\">\n",
       "  <thead>\n",
       "    <tr style=\"text-align: right;\">\n",
       "      <th></th>\n",
       "      <th>user_id</th>\n",
       "      <th>First Name</th>\n",
       "      <th>Surnam</th>\n",
       "      <th>Gender</th>\n",
       "      <th>STATE</th>\n",
       "      <th>Age</th>\n",
       "      <th>date_joined</th>\n",
       "      <th>n_dependants</th>\n",
       "      <th>fam_status</th>\n",
       "      <th>income</th>\n",
       "    </tr>\n",
       "  </thead>\n",
       "  <tbody>\n",
       "    <tr>\n",
       "      <th>0</th>\n",
       "      <td>26711</td>\n",
       "      <td>Deborah</td>\n",
       "      <td>Esquivel</td>\n",
       "      <td>Female</td>\n",
       "      <td>Missouri</td>\n",
       "      <td>48</td>\n",
       "      <td>1/1/2017</td>\n",
       "      <td>3</td>\n",
       "      <td>married</td>\n",
       "      <td>165665</td>\n",
       "    </tr>\n",
       "    <tr>\n",
       "      <th>1</th>\n",
       "      <td>33890</td>\n",
       "      <td>Patricia</td>\n",
       "      <td>Hart</td>\n",
       "      <td>Female</td>\n",
       "      <td>New Mexico</td>\n",
       "      <td>36</td>\n",
       "      <td>1/1/2017</td>\n",
       "      <td>0</td>\n",
       "      <td>single</td>\n",
       "      <td>59285</td>\n",
       "    </tr>\n",
       "    <tr>\n",
       "      <th>2</th>\n",
       "      <td>65803</td>\n",
       "      <td>Kenneth</td>\n",
       "      <td>Farley</td>\n",
       "      <td>Male</td>\n",
       "      <td>Idaho</td>\n",
       "      <td>35</td>\n",
       "      <td>1/1/2017</td>\n",
       "      <td>2</td>\n",
       "      <td>married</td>\n",
       "      <td>99568</td>\n",
       "    </tr>\n",
       "    <tr>\n",
       "      <th>3</th>\n",
       "      <td>125935</td>\n",
       "      <td>Michelle</td>\n",
       "      <td>Hicks</td>\n",
       "      <td>Female</td>\n",
       "      <td>Iowa</td>\n",
       "      <td>40</td>\n",
       "      <td>1/1/2017</td>\n",
       "      <td>0</td>\n",
       "      <td>single</td>\n",
       "      <td>42049</td>\n",
       "    </tr>\n",
       "    <tr>\n",
       "      <th>4</th>\n",
       "      <td>130797</td>\n",
       "      <td>Ann</td>\n",
       "      <td>Gilmore</td>\n",
       "      <td>Female</td>\n",
       "      <td>Maryland</td>\n",
       "      <td>26</td>\n",
       "      <td>1/1/2017</td>\n",
       "      <td>1</td>\n",
       "      <td>married</td>\n",
       "      <td>40374</td>\n",
       "    </tr>\n",
       "  </tbody>\n",
       "</table>\n",
       "</div>"
      ],
      "text/plain": [
       "   user_id First Name    Surnam  Gender       STATE  Age date_joined  \\\n",
       "0    26711    Deborah  Esquivel  Female    Missouri   48    1/1/2017   \n",
       "1    33890   Patricia      Hart  Female  New Mexico   36    1/1/2017   \n",
       "2    65803    Kenneth    Farley    Male       Idaho   35    1/1/2017   \n",
       "3   125935   Michelle     Hicks  Female        Iowa   40    1/1/2017   \n",
       "4   130797        Ann   Gilmore  Female    Maryland   26    1/1/2017   \n",
       "\n",
       "   n_dependants fam_status  income  \n",
       "0             3    married  165665  \n",
       "1             0     single   59285  \n",
       "2             2    married   99568  \n",
       "3             0     single   42049  \n",
       "4             1    married   40374  "
      ]
     },
     "execution_count": 6,
     "metadata": {},
     "output_type": "execute_result"
    }
   ],
   "source": [
    "#Preview\n",
    "df_customers.head()"
   ]
  },
  {
   "cell_type": "code",
   "execution_count": 7,
   "id": "b65c4a4d-bcfd-47c0-a0b4-98aa4111198e",
   "metadata": {
    "jp-MarkdownHeadingCollapsed": true
   },
   "outputs": [
    {
     "data": {
      "text/html": [
       "<div>\n",
       "<style scoped>\n",
       "    .dataframe tbody tr th:only-of-type {\n",
       "        vertical-align: middle;\n",
       "    }\n",
       "\n",
       "    .dataframe tbody tr th {\n",
       "        vertical-align: top;\n",
       "    }\n",
       "\n",
       "    .dataframe thead th {\n",
       "        text-align: right;\n",
       "    }\n",
       "</style>\n",
       "<table border=\"1\" class=\"dataframe\">\n",
       "  <thead>\n",
       "    <tr style=\"text-align: right;\">\n",
       "      <th></th>\n",
       "      <th>user_id</th>\n",
       "      <th>Age</th>\n",
       "      <th>n_dependants</th>\n",
       "      <th>income</th>\n",
       "    </tr>\n",
       "  </thead>\n",
       "  <tbody>\n",
       "    <tr>\n",
       "      <th>count</th>\n",
       "      <td>206209.000000</td>\n",
       "      <td>206209.000000</td>\n",
       "      <td>206209.000000</td>\n",
       "      <td>206209.000000</td>\n",
       "    </tr>\n",
       "    <tr>\n",
       "      <th>mean</th>\n",
       "      <td>103105.000000</td>\n",
       "      <td>49.501646</td>\n",
       "      <td>1.499823</td>\n",
       "      <td>94632.852548</td>\n",
       "    </tr>\n",
       "    <tr>\n",
       "      <th>std</th>\n",
       "      <td>59527.555167</td>\n",
       "      <td>18.480962</td>\n",
       "      <td>1.118433</td>\n",
       "      <td>42473.786988</td>\n",
       "    </tr>\n",
       "    <tr>\n",
       "      <th>min</th>\n",
       "      <td>1.000000</td>\n",
       "      <td>18.000000</td>\n",
       "      <td>0.000000</td>\n",
       "      <td>25903.000000</td>\n",
       "    </tr>\n",
       "    <tr>\n",
       "      <th>25%</th>\n",
       "      <td>51553.000000</td>\n",
       "      <td>33.000000</td>\n",
       "      <td>0.000000</td>\n",
       "      <td>59874.000000</td>\n",
       "    </tr>\n",
       "    <tr>\n",
       "      <th>50%</th>\n",
       "      <td>103105.000000</td>\n",
       "      <td>49.000000</td>\n",
       "      <td>1.000000</td>\n",
       "      <td>93547.000000</td>\n",
       "    </tr>\n",
       "    <tr>\n",
       "      <th>75%</th>\n",
       "      <td>154657.000000</td>\n",
       "      <td>66.000000</td>\n",
       "      <td>3.000000</td>\n",
       "      <td>124244.000000</td>\n",
       "    </tr>\n",
       "    <tr>\n",
       "      <th>max</th>\n",
       "      <td>206209.000000</td>\n",
       "      <td>81.000000</td>\n",
       "      <td>3.000000</td>\n",
       "      <td>593901.000000</td>\n",
       "    </tr>\n",
       "  </tbody>\n",
       "</table>\n",
       "</div>"
      ],
      "text/plain": [
       "             user_id            Age   n_dependants         income\n",
       "count  206209.000000  206209.000000  206209.000000  206209.000000\n",
       "mean   103105.000000      49.501646       1.499823   94632.852548\n",
       "std     59527.555167      18.480962       1.118433   42473.786988\n",
       "min         1.000000      18.000000       0.000000   25903.000000\n",
       "25%     51553.000000      33.000000       0.000000   59874.000000\n",
       "50%    103105.000000      49.000000       1.000000   93547.000000\n",
       "75%    154657.000000      66.000000       3.000000  124244.000000\n",
       "max    206209.000000      81.000000       3.000000  593901.000000"
      ]
     },
     "execution_count": 7,
     "metadata": {},
     "output_type": "execute_result"
    }
   ],
   "source": [
    "##### Summary stats\n",
    "df_customers.describe()"
   ]
  },
  {
   "cell_type": "markdown",
   "id": "c042dabf-fea0-407f-9597-0462fbfa7a4e",
   "metadata": {},
   "source": [
    "##### Observations:\n",
    "- Dataset contains 206,209 records"
   ]
  },
  {
   "cell_type": "markdown",
   "id": "e1eb07ec-322a-4684-9f15-361994ee09de",
   "metadata": {},
   "source": [
    "# 3. Wrangling"
   ]
  },
  {
   "cell_type": "markdown",
   "id": "d1006a9d-c2f0-4a5f-a5ec-194f18808b02",
   "metadata": {},
   "source": [
    "## 3.1. Drop Columns"
   ]
  },
  {
   "cell_type": "markdown",
   "id": "8485804d-b33b-46cf-b967-65f6eaa09ac6",
   "metadata": {
    "editable": true,
    "slideshow": {
     "slide_type": ""
    },
    "tags": []
   },
   "source": [
    "### 3.1.1. Identify Redundant Columns"
   ]
  },
  {
   "cell_type": "code",
   "execution_count": 8,
   "id": "85b7949b-703b-48b7-a56f-69743e35e92c",
   "metadata": {},
   "outputs": [
    {
     "data": {
      "text/plain": [
       "user_id\n",
       "26711     1\n",
       "67322     1\n",
       "173044    1\n",
       "61044     1\n",
       "98344     1\n",
       "         ..\n",
       "146847    1\n",
       "154991    1\n",
       "172193    1\n",
       "184326    1\n",
       "80148     1\n",
       "Name: count, Length: 206209, dtype: int64"
      ]
     },
     "execution_count": 8,
     "metadata": {},
     "output_type": "execute_result"
    }
   ],
   "source": [
    "#Check frequency distribution of variable\n",
    "df_customers['user_id'].value_counts(dropna = False)"
   ]
  },
  {
   "cell_type": "markdown",
   "id": "197d6a24-43a6-4ed3-9467-15b17f49be15",
   "metadata": {},
   "source": [
    "##### Observations:\n",
    "- 206,209 values ranging between 1 to 206,209\n",
    "- With 206,209 records these are values likely to be unique and/or sequential meaning dataset is complete\n",
    "- Retain column"
   ]
  },
  {
   "cell_type": "code",
   "execution_count": 9,
   "id": "b60c76ee-4b88-48d3-9d32-3dae47662100",
   "metadata": {},
   "outputs": [
    {
     "data": {
      "text/plain": [
       "First Name\n",
       "NaN        11259\n",
       "Marilyn     2213\n",
       "Barbara     2154\n",
       "Todd        2113\n",
       "Jeremy      2104\n",
       "           ...  \n",
       "Merry        197\n",
       "Eugene       197\n",
       "Garry        191\n",
       "Ned          186\n",
       "David        186\n",
       "Name: count, Length: 208, dtype: int64"
      ]
     },
     "execution_count": 9,
     "metadata": {},
     "output_type": "execute_result"
    }
   ],
   "source": [
    "#Check frequency distribution of variable\n",
    "df_customers['First Name'].value_counts(dropna = False)"
   ]
  },
  {
   "cell_type": "markdown",
   "id": "d327be0e-ecc7-41ff-ac7f-7d670a562e21",
   "metadata": {
    "editable": true,
    "slideshow": {
     "slide_type": ""
    },
    "tags": []
   },
   "source": [
    "##### Observations:\n",
    "- 208 unique values including 11,259 NaN values\n",
    "- Variable contains personal Identifiable Information\n",
    "- Remove column"
   ]
  },
  {
   "cell_type": "code",
   "execution_count": 10,
   "id": "a40d8690-a595-4cde-9a68-629c453ffe8f",
   "metadata": {},
   "outputs": [
    {
     "data": {
      "text/plain": [
       "Surnam\n",
       "Hamilton      252\n",
       "Randall       248\n",
       "Lamb          243\n",
       "Pennington    243\n",
       "Barnett       242\n",
       "             ... \n",
       "Poole         172\n",
       "Bauer         166\n",
       "Pearson       164\n",
       "Payne         163\n",
       "Jordan        162\n",
       "Name: count, Length: 1000, dtype: int64"
      ]
     },
     "execution_count": 10,
     "metadata": {},
     "output_type": "execute_result"
    }
   ],
   "source": [
    "#Check frequency distribution of variable\n",
    "df_customers['Surnam'].value_counts(dropna = False)"
   ]
  },
  {
   "cell_type": "markdown",
   "id": "39fb1b5d-2602-46ea-87f0-1f534f7e3671",
   "metadata": {},
   "source": [
    "##### Observations:\n",
    "- 1000 Surnames\n",
    "- Variable contains personal Identifiable Information\n",
    "- Remove column"
   ]
  },
  {
   "cell_type": "code",
   "execution_count": 11,
   "id": "032a9ddf-946f-46f1-94fc-5a9ea4d7c6b7",
   "metadata": {},
   "outputs": [
    {
     "data": {
      "text/plain": [
       "Gender\n",
       "Male      104067\n",
       "Female    102142\n",
       "Name: count, dtype: int64"
      ]
     },
     "execution_count": 11,
     "metadata": {},
     "output_type": "execute_result"
    }
   ],
   "source": [
    "#Check frequency distribution of variable\n",
    "df_customers['Gender'].value_counts(dropna = False)"
   ]
  },
  {
   "cell_type": "markdown",
   "id": "5304d6f4-da7f-44fe-adc8-504281f92519",
   "metadata": {
    "editable": true,
    "slideshow": {
     "slide_type": ""
    },
    "tags": []
   },
   "source": [
    "##### Observations:\n",
    "- 2 values for Male and Female\n",
    "- Contains information that could aid identification but does not require removal\n",
    "- Retain column"
   ]
  },
  {
   "cell_type": "code",
   "execution_count": 12,
   "id": "41429420-2551-4c08-9f85-c72bf6ced1ad",
   "metadata": {
    "editable": true,
    "scrolled": true,
    "slideshow": {
     "slide_type": ""
    },
    "tags": []
   },
   "outputs": [
    {
     "data": {
      "text/plain": [
       "STATE\n",
       "Florida                 4044\n",
       "Colorado                4044\n",
       "Illinois                4044\n",
       "Alabama                 4044\n",
       "District of Columbia    4044\n",
       "Hawaii                  4044\n",
       "Arizona                 4044\n",
       "Connecticut             4044\n",
       "California              4044\n",
       "Indiana                 4044\n",
       "Arkansas                4044\n",
       "Alaska                  4044\n",
       "Delaware                4044\n",
       "Iowa                    4044\n",
       "Idaho                   4044\n",
       "Georgia                 4044\n",
       "Wyoming                 4043\n",
       "Mississippi             4043\n",
       "Oklahoma                4043\n",
       "Utah                    4043\n",
       "New Hampshire           4043\n",
       "Kentucky                4043\n",
       "Maryland                4043\n",
       "Rhode Island            4043\n",
       "Massachusetts           4043\n",
       "Michigan                4043\n",
       "New Jersey              4043\n",
       "Kansas                  4043\n",
       "South Dakota            4043\n",
       "Minnesota               4043\n",
       "Tennessee               4043\n",
       "New York                4043\n",
       "Washington              4043\n",
       "Louisiana               4043\n",
       "Montana                 4043\n",
       "North Dakota            4043\n",
       "Wisconsin               4043\n",
       "Nebraska                4043\n",
       "Vermont                 4043\n",
       "Nevada                  4043\n",
       "Maine                   4043\n",
       "North Carolina          4043\n",
       "West Virginia           4043\n",
       "Virginia                4043\n",
       "Oregon                  4043\n",
       "New Mexico              4043\n",
       "Texas                   4043\n",
       "Pennsylvania            4043\n",
       "Ohio                    4043\n",
       "South Carolina          4043\n",
       "Missouri                4043\n",
       "Name: count, dtype: int64"
      ]
     },
     "execution_count": 12,
     "metadata": {},
     "output_type": "execute_result"
    }
   ],
   "source": [
    "#Check frequency distribution of variable\n",
    "df_customers['STATE'].value_counts(dropna = False)"
   ]
  },
  {
   "cell_type": "code",
   "execution_count": 13,
   "id": "7125d7b5-69d4-4883-a131-7835d843f7e3",
   "metadata": {},
   "outputs": [
    {
     "data": {
      "text/plain": [
       "51"
      ]
     },
     "execution_count": 13,
     "metadata": {},
     "output_type": "execute_result"
    }
   ],
   "source": [
    "df_customers['STATE'].value_counts(dropna=False).count()"
   ]
  },
  {
   "cell_type": "markdown",
   "id": "61cb7801-bbaf-4d2e-9781-f5456c81adc5",
   "metadata": {
    "editable": true,
    "slideshow": {
     "slide_type": ""
    },
    "tags": []
   },
   "source": [
    "##### Observations:\n",
    "- 51 values, one for each state plus the District of Columbia\n",
    "- Retain column"
   ]
  },
  {
   "cell_type": "code",
   "execution_count": 14,
   "id": "77b1e8c1-db65-4ee9-8ab8-8077811785b0",
   "metadata": {},
   "outputs": [
    {
     "data": {
      "text/plain": [
       "Age\n",
       "19    3329\n",
       "55    3317\n",
       "51    3317\n",
       "56    3306\n",
       "32    3305\n",
       "      ... \n",
       "65    3145\n",
       "25    3127\n",
       "66    3114\n",
       "50    3102\n",
       "36    3101\n",
       "Name: count, Length: 64, dtype: int64"
      ]
     },
     "execution_count": 14,
     "metadata": {},
     "output_type": "execute_result"
    }
   ],
   "source": [
    "#Check frequency distribution of variable\n",
    "df_customers['Age'].value_counts(dropna = False)"
   ]
  },
  {
   "cell_type": "markdown",
   "id": "72a07764-dc5e-4787-8757-051f8d5fbfb4",
   "metadata": {},
   "source": [
    "##### Observations:\n",
    "- 64 values ranging between 18 and 81\n",
    "- Retain column"
   ]
  },
  {
   "cell_type": "code",
   "execution_count": 15,
   "id": "bc9dbd63-93d1-4444-bb75-be5bbe7f4849",
   "metadata": {},
   "outputs": [
    {
     "data": {
      "text/plain": [
       "date_joined\n",
       "9/17/2018     213\n",
       "2/10/2018     212\n",
       "4/1/2019      211\n",
       "9/21/2019     211\n",
       "12/19/2017    210\n",
       "             ... \n",
       "9/1/2018      141\n",
       "1/22/2018     140\n",
       "11/24/2017    139\n",
       "7/18/2019     138\n",
       "8/6/2018      128\n",
       "Name: count, Length: 1187, dtype: int64"
      ]
     },
     "execution_count": 15,
     "metadata": {},
     "output_type": "execute_result"
    }
   ],
   "source": [
    "#Check frequency distribution of variable\n",
    "df_customers['date_joined'].value_counts(dropna = False)"
   ]
  },
  {
   "cell_type": "markdown",
   "id": "40edc687-8012-4019-8ce5-23b55a2f67a4",
   "metadata": {},
   "source": [
    "##### Observations: \n",
    "- 1,187 dates\n",
    "- Incorrect format likely to be due to inappropriate data type\n",
    "- Retain column"
   ]
  },
  {
   "cell_type": "code",
   "execution_count": 16,
   "id": "b91705c2-0f61-45b9-afee-15b3cac82a52",
   "metadata": {},
   "outputs": [
    {
     "data": {
      "text/plain": [
       "n_dependants\n",
       "0    51602\n",
       "3    51594\n",
       "1    51531\n",
       "2    51482\n",
       "Name: count, dtype: int64"
      ]
     },
     "execution_count": 16,
     "metadata": {},
     "output_type": "execute_result"
    }
   ],
   "source": [
    "#Check frequency distribution of variable\n",
    "df_customers['n_dependants'].value_counts(dropna = False)"
   ]
  },
  {
   "cell_type": "markdown",
   "id": "b87d3e8a-a9fb-4a25-a645-0e4dd5707fe7",
   "metadata": {},
   "source": [
    "##### Observations: \n",
    "- 4 values indicating customers have between 0 and 3 dependants\n",
    "- Retain column"
   ]
  },
  {
   "cell_type": "code",
   "execution_count": 17,
   "id": "d737b16e-29eb-4d30-a78b-51738e7201e0",
   "metadata": {},
   "outputs": [
    {
     "data": {
      "text/plain": [
       "fam_status\n",
       "married                             144906\n",
       "single                               33962\n",
       "divorced/widowed                     17640\n",
       "living with parents and siblings      9701\n",
       "Name: count, dtype: int64"
      ]
     },
     "execution_count": 17,
     "metadata": {},
     "output_type": "execute_result"
    }
   ],
   "source": [
    "#Check frequency distribution of variable\n",
    "df_customers['fam_status'].value_counts(dropna = False)"
   ]
  },
  {
   "cell_type": "markdown",
   "id": "2d2d340e-f288-43d6-aea5-3bdd7912d13a",
   "metadata": {},
   "source": [
    "##### Observations: \n",
    "- 4 values indicating different family statuses\n",
    "- Retain column"
   ]
  },
  {
   "cell_type": "code",
   "execution_count": 18,
   "id": "8b3421c5-f302-4125-92ad-f8219ef359ad",
   "metadata": {},
   "outputs": [
    {
     "data": {
      "text/plain": [
       "income\n",
       "57192     10\n",
       "95891     10\n",
       "95710     10\n",
       "97532      9\n",
       "98675      9\n",
       "          ..\n",
       "73141      1\n",
       "71524      1\n",
       "74408      1\n",
       "44780      1\n",
       "148828     1\n",
       "Name: count, Length: 108012, dtype: int64"
      ]
     },
     "execution_count": 18,
     "metadata": {},
     "output_type": "execute_result"
    }
   ],
   "source": [
    "#Check frequency distribution of variable\n",
    "df_customers['income'].value_counts(dropna = False)"
   ]
  },
  {
   "cell_type": "markdown",
   "id": "51ee262e-29c2-48c0-87a5-2dd38bc7e0fe",
   "metadata": {},
   "source": [
    "##### Observations: \n",
    "- 108,102 values ranging between 25,903 and 593,901\n",
    "- Retain column"
   ]
  },
  {
   "cell_type": "markdown",
   "id": "1b51c7b9-8fd7-4708-a357-58aa916b5da9",
   "metadata": {
    "editable": true,
    "slideshow": {
     "slide_type": ""
    },
    "tags": []
   },
   "source": [
    "### 3.1.2. Address Redundant Columns"
   ]
  },
  {
   "cell_type": "code",
   "execution_count": 19,
   "id": "d3b6acfb-a27f-40cb-807d-9f9ac4ab155a",
   "metadata": {
    "editable": true,
    "slideshow": {
     "slide_type": ""
    },
    "tags": []
   },
   "outputs": [],
   "source": [
    "#Drop eval_set variable and update dataframe\n",
    "df_customers = df_customers.drop(columns = ['First Name', 'Surnam'])"
   ]
  },
  {
   "cell_type": "code",
   "execution_count": 20,
   "id": "a56418a8-4d0f-4b32-8607-368eec253286",
   "metadata": {
    "editable": true,
    "slideshow": {
     "slide_type": ""
    },
    "tags": []
   },
   "outputs": [
    {
     "data": {
      "text/plain": [
       "(206209, 8)"
      ]
     },
     "execution_count": 20,
     "metadata": {},
     "output_type": "execute_result"
    }
   ],
   "source": [
    "#Confirm results\n",
    "df_customers.shape"
   ]
  },
  {
   "cell_type": "code",
   "execution_count": 21,
   "id": "553f25a3-f6df-47c9-aab2-588c175065c6",
   "metadata": {
    "editable": true,
    "slideshow": {
     "slide_type": ""
    },
    "tags": []
   },
   "outputs": [
    {
     "data": {
      "text/html": [
       "<div>\n",
       "<style scoped>\n",
       "    .dataframe tbody tr th:only-of-type {\n",
       "        vertical-align: middle;\n",
       "    }\n",
       "\n",
       "    .dataframe tbody tr th {\n",
       "        vertical-align: top;\n",
       "    }\n",
       "\n",
       "    .dataframe thead th {\n",
       "        text-align: right;\n",
       "    }\n",
       "</style>\n",
       "<table border=\"1\" class=\"dataframe\">\n",
       "  <thead>\n",
       "    <tr style=\"text-align: right;\">\n",
       "      <th></th>\n",
       "      <th>user_id</th>\n",
       "      <th>Gender</th>\n",
       "      <th>STATE</th>\n",
       "      <th>Age</th>\n",
       "      <th>date_joined</th>\n",
       "      <th>n_dependants</th>\n",
       "      <th>fam_status</th>\n",
       "      <th>income</th>\n",
       "    </tr>\n",
       "  </thead>\n",
       "  <tbody>\n",
       "    <tr>\n",
       "      <th>0</th>\n",
       "      <td>26711</td>\n",
       "      <td>Female</td>\n",
       "      <td>Missouri</td>\n",
       "      <td>48</td>\n",
       "      <td>1/1/2017</td>\n",
       "      <td>3</td>\n",
       "      <td>married</td>\n",
       "      <td>165665</td>\n",
       "    </tr>\n",
       "    <tr>\n",
       "      <th>1</th>\n",
       "      <td>33890</td>\n",
       "      <td>Female</td>\n",
       "      <td>New Mexico</td>\n",
       "      <td>36</td>\n",
       "      <td>1/1/2017</td>\n",
       "      <td>0</td>\n",
       "      <td>single</td>\n",
       "      <td>59285</td>\n",
       "    </tr>\n",
       "    <tr>\n",
       "      <th>2</th>\n",
       "      <td>65803</td>\n",
       "      <td>Male</td>\n",
       "      <td>Idaho</td>\n",
       "      <td>35</td>\n",
       "      <td>1/1/2017</td>\n",
       "      <td>2</td>\n",
       "      <td>married</td>\n",
       "      <td>99568</td>\n",
       "    </tr>\n",
       "    <tr>\n",
       "      <th>3</th>\n",
       "      <td>125935</td>\n",
       "      <td>Female</td>\n",
       "      <td>Iowa</td>\n",
       "      <td>40</td>\n",
       "      <td>1/1/2017</td>\n",
       "      <td>0</td>\n",
       "      <td>single</td>\n",
       "      <td>42049</td>\n",
       "    </tr>\n",
       "    <tr>\n",
       "      <th>4</th>\n",
       "      <td>130797</td>\n",
       "      <td>Female</td>\n",
       "      <td>Maryland</td>\n",
       "      <td>26</td>\n",
       "      <td>1/1/2017</td>\n",
       "      <td>1</td>\n",
       "      <td>married</td>\n",
       "      <td>40374</td>\n",
       "    </tr>\n",
       "  </tbody>\n",
       "</table>\n",
       "</div>"
      ],
      "text/plain": [
       "   user_id  Gender       STATE  Age date_joined  n_dependants fam_status  \\\n",
       "0    26711  Female    Missouri   48    1/1/2017             3    married   \n",
       "1    33890  Female  New Mexico   36    1/1/2017             0     single   \n",
       "2    65803    Male       Idaho   35    1/1/2017             2    married   \n",
       "3   125935  Female        Iowa   40    1/1/2017             0     single   \n",
       "4   130797  Female    Maryland   26    1/1/2017             1    married   \n",
       "\n",
       "   income  \n",
       "0  165665  \n",
       "1   59285  \n",
       "2   99568  \n",
       "3   42049  \n",
       "4   40374  "
      ]
     },
     "execution_count": 21,
     "metadata": {},
     "output_type": "execute_result"
    }
   ],
   "source": [
    "#Preview table\n",
    "df_customers.head()"
   ]
  },
  {
   "cell_type": "markdown",
   "id": "e1bcb6eb-58f6-45e1-b79c-72828e261857",
   "metadata": {
    "editable": true,
    "slideshow": {
     "slide_type": ""
    },
    "tags": []
   },
   "source": [
    "##### Observations:\n",
    "- Columns dropped successfully"
   ]
  },
  {
   "cell_type": "markdown",
   "id": "87aad2fa-7380-4405-b555-a8087a66ac8f",
   "metadata": {
    "editable": true,
    "slideshow": {
     "slide_type": ""
    },
    "tags": []
   },
   "source": [
    "## 3.2. Rename Columns"
   ]
  },
  {
   "cell_type": "markdown",
   "id": "f5fb47a3-618f-4cdc-ab9d-ac394ab92132",
   "metadata": {
    "editable": true,
    "slideshow": {
     "slide_type": ""
    },
    "tags": []
   },
   "source": [
    "### 3.2.1. Identify Unclear Descriptions"
   ]
  },
  {
   "cell_type": "code",
   "execution_count": 22,
   "id": "7a71402a-566d-455a-80a0-c4569b96f166",
   "metadata": {},
   "outputs": [
    {
     "data": {
      "text/plain": [
       "Index(['user_id', 'Gender', 'STATE', 'Age', 'date_joined', 'n_dependants',\n",
       "       'fam_status', 'income'],\n",
       "      dtype='object')"
      ]
     },
     "execution_count": 22,
     "metadata": {},
     "output_type": "execute_result"
    }
   ],
   "source": [
    "#Check Column Descriptions\n",
    "df_customers.columns"
   ]
  },
  {
   "cell_type": "markdown",
   "id": "c56c4f9e-4808-459b-8475-bc2ae9e41519",
   "metadata": {},
   "source": [
    "##### Observations:\n",
    "- Inconsistencies in column headers"
   ]
  },
  {
   "cell_type": "markdown",
   "id": "001cd507-3c68-429c-8947-9e122441251b",
   "metadata": {
    "editable": true,
    "slideshow": {
     "slide_type": ""
    },
    "tags": []
   },
   "source": [
    "### 3.2.2. Address Unclear Descriptions"
   ]
  },
  {
   "cell_type": "code",
   "execution_count": 23,
   "id": "069cd81e-070f-4271-ae9b-587a66d7b7bf",
   "metadata": {
    "editable": true,
    "slideshow": {
     "slide_type": ""
    },
    "tags": []
   },
   "outputs": [],
   "source": [
    "#Rename vague column descriptions\n",
    "df_customers.rename(columns = {'Gender' : 'gender',\n",
    "                        'STATE' : 'state',\n",
    "                        'Age' : 'age',\n",
    "                        'n_dependants' : 'number_of_dependants',\n",
    "                        'fam_status' : 'marital_status'}, inplace = True)"
   ]
  },
  {
   "cell_type": "code",
   "execution_count": 24,
   "id": "ed975baf-5a69-4829-943c-19422b3bdd39",
   "metadata": {},
   "outputs": [
    {
     "data": {
      "text/plain": [
       "Index(['user_id', 'gender', 'state', 'age', 'date_joined',\n",
       "       'number_of_dependants', 'marital_status', 'income'],\n",
       "      dtype='object')"
      ]
     },
     "execution_count": 24,
     "metadata": {},
     "output_type": "execute_result"
    }
   ],
   "source": [
    "#Confirm results\n",
    "df_customers.columns"
   ]
  },
  {
   "cell_type": "markdown",
   "id": "0da383eb-d860-46d4-b039-5be4ec790037",
   "metadata": {},
   "source": [
    "##### Observattions:\n",
    "- Variables successfully renamed"
   ]
  },
  {
   "cell_type": "markdown",
   "id": "aa4c038e-8747-4a26-9f26-9388efce3956",
   "metadata": {},
   "source": [
    "## 3.3. Data Types"
   ]
  },
  {
   "cell_type": "markdown",
   "id": "d2756461-ba6a-4c0e-a9e0-7b4adaa8243e",
   "metadata": {
    "editable": true,
    "slideshow": {
     "slide_type": ""
    },
    "tags": []
   },
   "source": [
    "### 3.3.1. Identify Inconsistent Data Types"
   ]
  },
  {
   "cell_type": "code",
   "execution_count": 25,
   "id": "bb2b83c5-677c-4160-b392-f57114c2ae47",
   "metadata": {},
   "outputs": [
    {
     "data": {
      "text/plain": [
       "user_id                  int64\n",
       "gender                  object\n",
       "state                   object\n",
       "age                      int64\n",
       "date_joined             object\n",
       "number_of_dependants     int64\n",
       "marital_status          object\n",
       "income                   int64\n",
       "dtype: object"
      ]
     },
     "execution_count": 25,
     "metadata": {},
     "output_type": "execute_result"
    }
   ],
   "source": [
    "#Check data types\n",
    "df_customers.dtypes"
   ]
  },
  {
   "cell_type": "markdown",
   "id": "c47f82a8-0081-4bdb-b71e-8d1612c18ac4",
   "metadata": {
    "editable": true,
    "slideshow": {
     "slide_type": ""
    },
    "tags": []
   },
   "source": [
    "##### Observations:\n",
    "- Data type of date_joined is inconsistent contents"
   ]
  },
  {
   "cell_type": "markdown",
   "id": "b823b2ef-3808-48d7-a7e1-5256bb9e6f8b",
   "metadata": {},
   "source": [
    "### 3.3.2. Address Inconsistent Data Types"
   ]
  },
  {
   "cell_type": "code",
   "execution_count": 26,
   "id": "a10ac881-518d-455d-9a73-879c1a3b0c09",
   "metadata": {},
   "outputs": [],
   "source": [
    "#Change type to datetime from format m/d/y\n",
    "df_customers['date_joined'] = pd.to_datetime(df_customers['date_joined'], format='%m/%d/%Y')"
   ]
  },
  {
   "cell_type": "code",
   "execution_count": 27,
   "id": "e17d7973-a1a6-4a69-8d5b-302acce36214",
   "metadata": {},
   "outputs": [
    {
     "data": {
      "text/plain": [
       "user_id                          int64\n",
       "gender                          object\n",
       "state                           object\n",
       "age                              int64\n",
       "date_joined             datetime64[ns]\n",
       "number_of_dependants             int64\n",
       "marital_status                  object\n",
       "income                           int64\n",
       "dtype: object"
      ]
     },
     "execution_count": 27,
     "metadata": {},
     "output_type": "execute_result"
    }
   ],
   "source": [
    "#Confirm results\n",
    "df_customers.dtypes"
   ]
  },
  {
   "cell_type": "code",
   "execution_count": 28,
   "id": "50f925d8-9415-4249-836c-8a8bfc831f39",
   "metadata": {},
   "outputs": [
    {
     "data": {
      "text/plain": [
       "date_joined\n",
       "2018-09-17    213\n",
       "2018-02-10    212\n",
       "2019-04-01    211\n",
       "2019-09-21    211\n",
       "2017-12-19    210\n",
       "             ... \n",
       "2018-09-01    141\n",
       "2018-01-22    140\n",
       "2017-11-24    139\n",
       "2019-07-18    138\n",
       "2018-08-06    128\n",
       "Name: count, Length: 1187, dtype: int64"
      ]
     },
     "execution_count": 28,
     "metadata": {},
     "output_type": "execute_result"
    }
   ],
   "source": [
    "#Check frequency distribution of variable\n",
    "df_customers['date_joined'].value_counts(dropna = False)"
   ]
  },
  {
   "cell_type": "markdown",
   "id": "2518b609-377f-4f43-92bb-3ec40da261bd",
   "metadata": {
    "editable": true,
    "slideshow": {
     "slide_type": ""
    },
    "tags": []
   },
   "source": [
    "##### Observations:\n",
    "- Data type successfully changed"
   ]
  },
  {
   "cell_type": "markdown",
   "id": "33c48a20-4694-49cc-8b13-37de910cbae7",
   "metadata": {
    "editable": true,
    "slideshow": {
     "slide_type": ""
    },
    "tags": []
   },
   "source": [
    "# 4. Cleaning"
   ]
  },
  {
   "cell_type": "markdown",
   "id": "0c81adef-b049-4f08-99d4-57c876f43964",
   "metadata": {},
   "source": [
    "## 4.1. Accuracy"
   ]
  },
  {
   "cell_type": "markdown",
   "id": "0db9f481-8f1b-4aa2-b706-54590f7a52c0",
   "metadata": {
    "editable": true,
    "slideshow": {
     "slide_type": ""
    },
    "tags": []
   },
   "source": [
    "### 4.1.1. Identify Inaccurate Values"
   ]
  },
  {
   "cell_type": "code",
   "execution_count": 29,
   "id": "ccafca21-1ac0-44f3-955f-409d520dbf45",
   "metadata": {},
   "outputs": [
    {
     "data": {
      "text/html": [
       "<div>\n",
       "<style scoped>\n",
       "    .dataframe tbody tr th:only-of-type {\n",
       "        vertical-align: middle;\n",
       "    }\n",
       "\n",
       "    .dataframe tbody tr th {\n",
       "        vertical-align: top;\n",
       "    }\n",
       "\n",
       "    .dataframe thead th {\n",
       "        text-align: right;\n",
       "    }\n",
       "</style>\n",
       "<table border=\"1\" class=\"dataframe\">\n",
       "  <thead>\n",
       "    <tr style=\"text-align: right;\">\n",
       "      <th></th>\n",
       "      <th>user_id</th>\n",
       "      <th>age</th>\n",
       "      <th>date_joined</th>\n",
       "      <th>number_of_dependants</th>\n",
       "      <th>income</th>\n",
       "    </tr>\n",
       "  </thead>\n",
       "  <tbody>\n",
       "    <tr>\n",
       "      <th>count</th>\n",
       "      <td>206209.000000</td>\n",
       "      <td>206209.000000</td>\n",
       "      <td>206209</td>\n",
       "      <td>206209.000000</td>\n",
       "      <td>206209.000000</td>\n",
       "    </tr>\n",
       "    <tr>\n",
       "      <th>mean</th>\n",
       "      <td>103105.000000</td>\n",
       "      <td>49.501646</td>\n",
       "      <td>2018-08-17 03:06:30.029532928</td>\n",
       "      <td>1.499823</td>\n",
       "      <td>94632.852548</td>\n",
       "    </tr>\n",
       "    <tr>\n",
       "      <th>min</th>\n",
       "      <td>1.000000</td>\n",
       "      <td>18.000000</td>\n",
       "      <td>2017-01-01 00:00:00</td>\n",
       "      <td>0.000000</td>\n",
       "      <td>25903.000000</td>\n",
       "    </tr>\n",
       "    <tr>\n",
       "      <th>25%</th>\n",
       "      <td>51553.000000</td>\n",
       "      <td>33.000000</td>\n",
       "      <td>2017-10-23 00:00:00</td>\n",
       "      <td>0.000000</td>\n",
       "      <td>59874.000000</td>\n",
       "    </tr>\n",
       "    <tr>\n",
       "      <th>50%</th>\n",
       "      <td>103105.000000</td>\n",
       "      <td>49.000000</td>\n",
       "      <td>2018-08-16 00:00:00</td>\n",
       "      <td>1.000000</td>\n",
       "      <td>93547.000000</td>\n",
       "    </tr>\n",
       "    <tr>\n",
       "      <th>75%</th>\n",
       "      <td>154657.000000</td>\n",
       "      <td>66.000000</td>\n",
       "      <td>2019-06-10 00:00:00</td>\n",
       "      <td>3.000000</td>\n",
       "      <td>124244.000000</td>\n",
       "    </tr>\n",
       "    <tr>\n",
       "      <th>max</th>\n",
       "      <td>206209.000000</td>\n",
       "      <td>81.000000</td>\n",
       "      <td>2020-04-01 00:00:00</td>\n",
       "      <td>3.000000</td>\n",
       "      <td>593901.000000</td>\n",
       "    </tr>\n",
       "    <tr>\n",
       "      <th>std</th>\n",
       "      <td>59527.555167</td>\n",
       "      <td>18.480962</td>\n",
       "      <td>NaN</td>\n",
       "      <td>1.118433</td>\n",
       "      <td>42473.786988</td>\n",
       "    </tr>\n",
       "  </tbody>\n",
       "</table>\n",
       "</div>"
      ],
      "text/plain": [
       "             user_id            age                    date_joined  \\\n",
       "count  206209.000000  206209.000000                         206209   \n",
       "mean   103105.000000      49.501646  2018-08-17 03:06:30.029532928   \n",
       "min         1.000000      18.000000            2017-01-01 00:00:00   \n",
       "25%     51553.000000      33.000000            2017-10-23 00:00:00   \n",
       "50%    103105.000000      49.000000            2018-08-16 00:00:00   \n",
       "75%    154657.000000      66.000000            2019-06-10 00:00:00   \n",
       "max    206209.000000      81.000000            2020-04-01 00:00:00   \n",
       "std     59527.555167      18.480962                            NaN   \n",
       "\n",
       "       number_of_dependants         income  \n",
       "count         206209.000000  206209.000000  \n",
       "mean               1.499823   94632.852548  \n",
       "min                0.000000   25903.000000  \n",
       "25%                0.000000   59874.000000  \n",
       "50%                1.000000   93547.000000  \n",
       "75%                3.000000  124244.000000  \n",
       "max                3.000000  593901.000000  \n",
       "std                1.118433   42473.786988  "
      ]
     },
     "execution_count": 29,
     "metadata": {},
     "output_type": "execute_result"
    }
   ],
   "source": [
    "#Review descriptive statistics\n",
    "df_customers.describe()"
   ]
  },
  {
   "cell_type": "code",
   "execution_count": 30,
   "id": "be654c62-db92-41c7-bc3e-b27aae0e37ee",
   "metadata": {},
   "outputs": [
    {
     "data": {
      "text/plain": [
       "user_id                 206209\n",
       "gender                       2\n",
       "state                       51\n",
       "age                         64\n",
       "date_joined               1187\n",
       "number_of_dependants         4\n",
       "marital_status               4\n",
       "income                  108012\n",
       "dtype: int64"
      ]
     },
     "execution_count": 30,
     "metadata": {},
     "output_type": "execute_result"
    }
   ],
   "source": [
    "#Number of unique values per variable\n",
    "df_customers.nunique()"
   ]
  },
  {
   "cell_type": "markdown",
   "id": "004769b9-9ef5-481e-a395-d7523fdd18d9",
   "metadata": {
    "editable": true,
    "slideshow": {
     "slide_type": ""
    },
    "tags": []
   },
   "source": [
    "- ##### Observations:\n",
    "- The dataset contains 206,209 unique user_id's\n",
    "- There are 2 genders\n",
    "- There are 51 states including District of Columbia\n",
    "- Customers are between 18 and 81 years old, most being between 33 and 66 years old, and 49 years old on average\n",
    "- Customers joined between 2017-01-01 and 2020-04-01\n",
    "- The number_of_dependants per customer range between 0 and 3 and are spread evenly across the population\n",
    "- There are 4 variables for family-status\n",
    "- income ranges between 25,903 and 593,901 with most customers earning between 59,874 and 122,244 and 94,632 on average"
   ]
  },
  {
   "cell_type": "markdown",
   "id": "47d2ad12-d612-4f91-bfba-6fce5e5f9e6c",
   "metadata": {
    "editable": true,
    "slideshow": {
     "slide_type": ""
    },
    "tags": []
   },
   "source": [
    "### 4.1.2. Address Inaccurate Values"
   ]
  },
  {
   "cell_type": "markdown",
   "id": "ec258425-53ef-4858-9aca-5d7a8562c069",
   "metadata": {},
   "source": [
    "##### Observations\n",
    "- No inaccuracies noted"
   ]
  },
  {
   "cell_type": "markdown",
   "id": "6f5f3d9e-bee6-44cd-b329-8388d80d6309",
   "metadata": {},
   "source": [
    "## 4.2. Missing Values"
   ]
  },
  {
   "cell_type": "markdown",
   "id": "f1e710d8-6500-4cdb-97b5-02bfcba8aa5b",
   "metadata": {
    "editable": true,
    "slideshow": {
     "slide_type": ""
    },
    "tags": []
   },
   "source": [
    "### 4.2.1. Identify missing values"
   ]
  },
  {
   "cell_type": "code",
   "execution_count": 31,
   "id": "eb6768f1-998a-4d88-a4a7-81786bf8a9d8",
   "metadata": {},
   "outputs": [
    {
     "data": {
      "text/plain": [
       "user_id                 0\n",
       "gender                  0\n",
       "state                   0\n",
       "age                     0\n",
       "date_joined             0\n",
       "number_of_dependants    0\n",
       "marital_status          0\n",
       "income                  0\n",
       "dtype: int64"
      ]
     },
     "execution_count": 31,
     "metadata": {},
     "output_type": "execute_result"
    }
   ],
   "source": [
    "df_customers.isnull().sum()"
   ]
  },
  {
   "cell_type": "markdown",
   "id": "b0d22ae8-050e-4227-81ee-9f33fa5504b7",
   "metadata": {
    "editable": true,
    "slideshow": {
     "slide_type": ""
    },
    "tags": []
   },
   "source": [
    "##### Observations:\n",
    "- None of the variables had NaN values"
   ]
  },
  {
   "cell_type": "markdown",
   "id": "a7fa762f-74d3-4a73-9176-f9a501891630",
   "metadata": {
    "editable": true,
    "slideshow": {
     "slide_type": ""
    },
    "tags": []
   },
   "source": [
    "### 4.2.2. Address Missing Values"
   ]
  },
  {
   "cell_type": "markdown",
   "id": "0477b0c6-aaa5-4944-96d0-86c746f44b83",
   "metadata": {
    "editable": true,
    "slideshow": {
     "slide_type": ""
    },
    "tags": []
   },
   "source": [
    "##### Observations:\n",
    "- No missing values were identified"
   ]
  },
  {
   "cell_type": "markdown",
   "id": "62c68443-1fa6-458e-9b91-37f5c3fa5dcb",
   "metadata": {},
   "source": [
    "## 4.3. Mixed Type Variables"
   ]
  },
  {
   "cell_type": "markdown",
   "id": "f0756e4e-2e92-47fb-80b3-bf02d650a9e4",
   "metadata": {
    "editable": true,
    "slideshow": {
     "slide_type": ""
    },
    "tags": []
   },
   "source": [
    "### 4.3.1. Find Mixed Type Variables"
   ]
  },
  {
   "cell_type": "code",
   "execution_count": 32,
   "id": "450b10a0-2756-43f5-a2a5-137e5f80a3f8",
   "metadata": {},
   "outputs": [],
   "source": [
    "#Finding mixed type data\n",
    "for col in df_customers.columns.tolist():\n",
    "    weird = (df_customers[[col]].map(type) != df_customers[[col]].iloc[0].apply(type)).any(axis=1)\n",
    "    if len(df_customers[weird]) > 0:\n",
    "        print (col)"
   ]
  },
  {
   "cell_type": "markdown",
   "id": "590e7212-34df-4a91-aca4-5eb3fe52d2cf",
   "metadata": {},
   "source": [
    "##### Observations:\n",
    "- No variables returned"
   ]
  },
  {
   "cell_type": "markdown",
   "id": "d6b3d432-df8b-4b5f-a845-372dc88aca94",
   "metadata": {},
   "source": [
    "### 4.3.2. Address Mixed Type Variables"
   ]
  },
  {
   "cell_type": "markdown",
   "id": "3e0b0559-8185-433c-92c8-b6d2a888b0a9",
   "metadata": {
    "editable": true,
    "slideshow": {
     "slide_type": ""
    },
    "tags": []
   },
   "source": [
    "##### Observations:\n",
    "- No variables identified with with mixed type data"
   ]
  },
  {
   "cell_type": "markdown",
   "id": "0d112ae4-3360-4425-8ccf-eb67ab2adfba",
   "metadata": {
    "editable": true,
    "slideshow": {
     "slide_type": ""
    },
    "tags": []
   },
   "source": [
    "## 4.4. Duplicates"
   ]
  },
  {
   "cell_type": "markdown",
   "id": "da18e140-b60d-4b0f-b5ad-8f93b4b49aa4",
   "metadata": {},
   "source": [
    "### 4.4.1. Find Duplicates"
   ]
  },
  {
   "cell_type": "code",
   "execution_count": 33,
   "id": "7252c8a9-e068-4d2a-84f9-61819f48c49b",
   "metadata": {},
   "outputs": [
    {
     "data": {
      "text/html": [
       "<div>\n",
       "<style scoped>\n",
       "    .dataframe tbody tr th:only-of-type {\n",
       "        vertical-align: middle;\n",
       "    }\n",
       "\n",
       "    .dataframe tbody tr th {\n",
       "        vertical-align: top;\n",
       "    }\n",
       "\n",
       "    .dataframe thead th {\n",
       "        text-align: right;\n",
       "    }\n",
       "</style>\n",
       "<table border=\"1\" class=\"dataframe\">\n",
       "  <thead>\n",
       "    <tr style=\"text-align: right;\">\n",
       "      <th></th>\n",
       "      <th>user_id</th>\n",
       "      <th>gender</th>\n",
       "      <th>state</th>\n",
       "      <th>age</th>\n",
       "      <th>date_joined</th>\n",
       "      <th>number_of_dependants</th>\n",
       "      <th>marital_status</th>\n",
       "      <th>income</th>\n",
       "    </tr>\n",
       "  </thead>\n",
       "  <tbody>\n",
       "  </tbody>\n",
       "</table>\n",
       "</div>"
      ],
      "text/plain": [
       "Empty DataFrame\n",
       "Columns: [user_id, gender, state, age, date_joined, number_of_dependants, marital_status, income]\n",
       "Index: []"
      ]
     },
     "execution_count": 33,
     "metadata": {},
     "output_type": "execute_result"
    }
   ],
   "source": [
    "#Identify duplicates, create and view subset with results\n",
    "df_customers_duplicates = df_customers[df_customers.duplicated()]\n",
    "df_customers_duplicates"
   ]
  },
  {
   "cell_type": "code",
   "execution_count": 34,
   "id": "bd98a910-4cb4-4683-ba99-94a50eea76ed",
   "metadata": {
    "editable": true,
    "slideshow": {
     "slide_type": ""
    },
    "tags": []
   },
   "outputs": [
    {
     "data": {
      "text/plain": [
       "(0, 8)"
      ]
     },
     "execution_count": 34,
     "metadata": {},
     "output_type": "execute_result"
    }
   ],
   "source": [
    "#Confirm dimensions\n",
    "df_customers_duplicates.shape"
   ]
  },
  {
   "cell_type": "markdown",
   "id": "0a65bbff-19f8-46dc-a739-eb42b9725402",
   "metadata": {
    "editable": true,
    "slideshow": {
     "slide_type": ""
    },
    "tags": []
   },
   "source": [
    "##### Observations:\n",
    "- No records returned"
   ]
  },
  {
   "cell_type": "markdown",
   "id": "8f1aa0c9-25dd-4c11-8313-badf5c7ee99a",
   "metadata": {},
   "source": [
    "### 4.4.2. Address Duplicates"
   ]
  },
  {
   "cell_type": "markdown",
   "id": "d1e64523-54d9-471b-9f5f-3f491aa7ba15",
   "metadata": {
    "editable": true,
    "slideshow": {
     "slide_type": ""
    },
    "tags": []
   },
   "source": [
    "##### Observations\n",
    "- No duplicate records identified"
   ]
  },
  {
   "cell_type": "markdown",
   "id": "b27936df-39fd-4c95-85d2-fe774bb0aca8",
   "metadata": {
    "editable": true,
    "slideshow": {
     "slide_type": ""
    },
    "tags": []
   },
   "source": [
    "# 5. Exports"
   ]
  },
  {
   "cell_type": "code",
   "execution_count": 35,
   "id": "a47255ff-3b72-42e5-a40f-951f1673649e",
   "metadata": {},
   "outputs": [
    {
     "data": {
      "text/plain": [
       "(206209, 8)"
      ]
     },
     "execution_count": 35,
     "metadata": {},
     "output_type": "execute_result"
    }
   ],
   "source": [
    "#Confirm dimensions\n",
    "df_customers.shape"
   ]
  },
  {
   "cell_type": "code",
   "execution_count": 36,
   "id": "26a8cafc-c168-4568-a521-8a93c509b975",
   "metadata": {
    "editable": true,
    "slideshow": {
     "slide_type": ""
    },
    "tags": []
   },
   "outputs": [],
   "source": [
    "#Export cleaned dataset\n",
    "df_customers.to_pickle(os.path.join(path, '02 - Data', 'Prepared Data', '05_cleaned_customers.pkl'))"
   ]
  }
 ],
 "metadata": {
  "kernelspec": {
   "display_name": "base",
   "language": "python",
   "name": "python3"
  },
  "language_info": {
   "codemirror_mode": {
    "name": "ipython",
    "version": 3
   },
   "file_extension": ".py",
   "mimetype": "text/x-python",
   "name": "python",
   "nbconvert_exporter": "python",
   "pygments_lexer": "ipython3",
   "version": "3.12.2"
  }
 },
 "nbformat": 4,
 "nbformat_minor": 5
}
