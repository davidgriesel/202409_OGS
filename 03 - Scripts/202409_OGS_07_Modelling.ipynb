{
 "cells": [
  {
   "cell_type": "markdown",
   "id": "61f05902-f137-4fd5-ad99-23460fb3ee96",
   "metadata": {},
   "source": [
    "# Contents\n",
    "1. Imports\n",
    "2. Checks\n",
    "3. Transformation\n",
    "4. Exports"
   ]
  },
  {
   "cell_type": "markdown",
   "id": "b436dff6-a299-400f-8fe8-dcc82bd27113",
   "metadata": {},
   "source": [
    "# 1. Imports"
   ]
  },
  {
   "cell_type": "code",
   "execution_count": 7,
   "id": "4ed687ba-65d1-4503-ba47-aaaa1c48ec1b",
   "metadata": {},
   "outputs": [],
   "source": [
    "#Libraries\n",
    "import pandas as pd\n",
    "import numpy as np\n",
    "import os\n",
    "import matplotlib.pyplot as plt\n",
    "import seaborn as sns"
   ]
  },
  {
   "cell_type": "code",
   "execution_count": 8,
   "id": "db612a7f-6311-4b8b-8e37-d29c4a7af2ed",
   "metadata": {},
   "outputs": [],
   "source": [
    "#Path\n",
    "path = r'/Users/davidgriesel/Documents/GitHub/202409_OGS'"
   ]
  },
  {
   "cell_type": "code",
   "execution_count": 9,
   "id": "e51fb352-ce00-4ac0-9eca-df9f3dda3db6",
   "metadata": {},
   "outputs": [],
   "source": [
    "#Dataset\n",
    "df = pd.read_pickle(os.path.join(path, '02 - Data', 'Prepared Data', '06_merged_dataset.pkl'))"
   ]
  },
  {
   "cell_type": "markdown",
   "id": "453d4619-3d08-47cf-a894-bd1fcebfcf3d",
   "metadata": {},
   "source": [
    "# 2. Checks"
   ]
  },
  {
   "cell_type": "code",
   "execution_count": 10,
   "id": "396cef34-10e7-41c9-b36f-df86eda4e603",
   "metadata": {},
   "outputs": [
    {
     "data": {
      "text/plain": [
       "(32403719, 22)"
      ]
     },
     "execution_count": 10,
     "metadata": {},
     "output_type": "execute_result"
    }
   ],
   "source": [
    "df.shape"
   ]
  },
  {
   "cell_type": "code",
   "execution_count": 11,
   "id": "269d973a-7319-436e-8613-046651f897ed",
   "metadata": {},
   "outputs": [
    {
     "data": {
      "text/html": [
       "<div>\n",
       "<style scoped>\n",
       "    .dataframe tbody tr th:only-of-type {\n",
       "        vertical-align: middle;\n",
       "    }\n",
       "\n",
       "    .dataframe tbody tr th {\n",
       "        vertical-align: top;\n",
       "    }\n",
       "\n",
       "    .dataframe thead th {\n",
       "        text-align: right;\n",
       "    }\n",
       "</style>\n",
       "<table border=\"1\" class=\"dataframe\">\n",
       "  <thead>\n",
       "    <tr style=\"text-align: right;\">\n",
       "      <th></th>\n",
       "      <th>order_id</th>\n",
       "      <th>user_id</th>\n",
       "      <th>user_order_count</th>\n",
       "      <th>order_day_of_week</th>\n",
       "      <th>order_hour_of_day</th>\n",
       "      <th>days_since_last_order</th>\n",
       "      <th>is_first_order</th>\n",
       "      <th>product_id</th>\n",
       "      <th>add_to_cart_order</th>\n",
       "      <th>reordered</th>\n",
       "      <th>...</th>\n",
       "      <th>department_id</th>\n",
       "      <th>prices</th>\n",
       "      <th>gender</th>\n",
       "      <th>state</th>\n",
       "      <th>age</th>\n",
       "      <th>date_joined</th>\n",
       "      <th>number_of_dependants</th>\n",
       "      <th>marital_status</th>\n",
       "      <th>income</th>\n",
       "      <th>department</th>\n",
       "    </tr>\n",
       "  </thead>\n",
       "  <tbody>\n",
       "    <tr>\n",
       "      <th>0</th>\n",
       "      <td>2539329</td>\n",
       "      <td>1</td>\n",
       "      <td>1</td>\n",
       "      <td>2</td>\n",
       "      <td>8</td>\n",
       "      <td>NaN</td>\n",
       "      <td>True</td>\n",
       "      <td>196</td>\n",
       "      <td>1</td>\n",
       "      <td>0</td>\n",
       "      <td>...</td>\n",
       "      <td>7</td>\n",
       "      <td>9.0</td>\n",
       "      <td>Female</td>\n",
       "      <td>Alabama</td>\n",
       "      <td>31</td>\n",
       "      <td>2019-02-17</td>\n",
       "      <td>3</td>\n",
       "      <td>married</td>\n",
       "      <td>40423</td>\n",
       "      <td>beverages</td>\n",
       "    </tr>\n",
       "    <tr>\n",
       "      <th>1</th>\n",
       "      <td>2539329</td>\n",
       "      <td>1</td>\n",
       "      <td>1</td>\n",
       "      <td>2</td>\n",
       "      <td>8</td>\n",
       "      <td>NaN</td>\n",
       "      <td>True</td>\n",
       "      <td>14084</td>\n",
       "      <td>2</td>\n",
       "      <td>0</td>\n",
       "      <td>...</td>\n",
       "      <td>16</td>\n",
       "      <td>12.5</td>\n",
       "      <td>Female</td>\n",
       "      <td>Alabama</td>\n",
       "      <td>31</td>\n",
       "      <td>2019-02-17</td>\n",
       "      <td>3</td>\n",
       "      <td>married</td>\n",
       "      <td>40423</td>\n",
       "      <td>dairy eggs</td>\n",
       "    </tr>\n",
       "    <tr>\n",
       "      <th>2</th>\n",
       "      <td>2539329</td>\n",
       "      <td>1</td>\n",
       "      <td>1</td>\n",
       "      <td>2</td>\n",
       "      <td>8</td>\n",
       "      <td>NaN</td>\n",
       "      <td>True</td>\n",
       "      <td>12427</td>\n",
       "      <td>3</td>\n",
       "      <td>0</td>\n",
       "      <td>...</td>\n",
       "      <td>19</td>\n",
       "      <td>4.4</td>\n",
       "      <td>Female</td>\n",
       "      <td>Alabama</td>\n",
       "      <td>31</td>\n",
       "      <td>2019-02-17</td>\n",
       "      <td>3</td>\n",
       "      <td>married</td>\n",
       "      <td>40423</td>\n",
       "      <td>snacks</td>\n",
       "    </tr>\n",
       "    <tr>\n",
       "      <th>3</th>\n",
       "      <td>2539329</td>\n",
       "      <td>1</td>\n",
       "      <td>1</td>\n",
       "      <td>2</td>\n",
       "      <td>8</td>\n",
       "      <td>NaN</td>\n",
       "      <td>True</td>\n",
       "      <td>26088</td>\n",
       "      <td>4</td>\n",
       "      <td>0</td>\n",
       "      <td>...</td>\n",
       "      <td>19</td>\n",
       "      <td>4.7</td>\n",
       "      <td>Female</td>\n",
       "      <td>Alabama</td>\n",
       "      <td>31</td>\n",
       "      <td>2019-02-17</td>\n",
       "      <td>3</td>\n",
       "      <td>married</td>\n",
       "      <td>40423</td>\n",
       "      <td>snacks</td>\n",
       "    </tr>\n",
       "    <tr>\n",
       "      <th>4</th>\n",
       "      <td>2539329</td>\n",
       "      <td>1</td>\n",
       "      <td>1</td>\n",
       "      <td>2</td>\n",
       "      <td>8</td>\n",
       "      <td>NaN</td>\n",
       "      <td>True</td>\n",
       "      <td>26405</td>\n",
       "      <td>5</td>\n",
       "      <td>0</td>\n",
       "      <td>...</td>\n",
       "      <td>17</td>\n",
       "      <td>1.0</td>\n",
       "      <td>Female</td>\n",
       "      <td>Alabama</td>\n",
       "      <td>31</td>\n",
       "      <td>2019-02-17</td>\n",
       "      <td>3</td>\n",
       "      <td>married</td>\n",
       "      <td>40423</td>\n",
       "      <td>household</td>\n",
       "    </tr>\n",
       "  </tbody>\n",
       "</table>\n",
       "<p>5 rows × 22 columns</p>\n",
       "</div>"
      ],
      "text/plain": [
       "   order_id  user_id  user_order_count  order_day_of_week  order_hour_of_day  \\\n",
       "0   2539329        1                 1                  2                  8   \n",
       "1   2539329        1                 1                  2                  8   \n",
       "2   2539329        1                 1                  2                  8   \n",
       "3   2539329        1                 1                  2                  8   \n",
       "4   2539329        1                 1                  2                  8   \n",
       "\n",
       "   days_since_last_order  is_first_order  product_id  add_to_cart_order  \\\n",
       "0                    NaN            True         196                  1   \n",
       "1                    NaN            True       14084                  2   \n",
       "2                    NaN            True       12427                  3   \n",
       "3                    NaN            True       26088                  4   \n",
       "4                    NaN            True       26405                  5   \n",
       "\n",
       "   reordered  ... department_id  prices  gender    state age date_joined  \\\n",
       "0          0  ...             7     9.0  Female  Alabama  31  2019-02-17   \n",
       "1          0  ...            16    12.5  Female  Alabama  31  2019-02-17   \n",
       "2          0  ...            19     4.4  Female  Alabama  31  2019-02-17   \n",
       "3          0  ...            19     4.7  Female  Alabama  31  2019-02-17   \n",
       "4          0  ...            17     1.0  Female  Alabama  31  2019-02-17   \n",
       "\n",
       "   number_of_dependants marital_status  income  department  \n",
       "0                     3        married   40423   beverages  \n",
       "1                     3        married   40423  dairy eggs  \n",
       "2                     3        married   40423      snacks  \n",
       "3                     3        married   40423      snacks  \n",
       "4                     3        married   40423   household  \n",
       "\n",
       "[5 rows x 22 columns]"
      ]
     },
     "execution_count": 11,
     "metadata": {},
     "output_type": "execute_result"
    }
   ],
   "source": [
    "#Preview\n",
    "df.head()"
   ]
  },
  {
   "cell_type": "markdown",
   "id": "c96d2f2e-bf3d-443c-8743-c3bce05e6abe",
   "metadata": {},
   "source": [
    "# 3. Transformation"
   ]
  },
  {
   "cell_type": "markdown",
   "id": "77d60f84-29c9-4860-9a09-b2c25a6848a1",
   "metadata": {},
   "source": [
    "## 2.1. Orders"
   ]
  },
  {
   "cell_type": "markdown",
   "id": "68d44de6-e032-4778-9600-2b01371ee425",
   "metadata": {},
   "source": [
    "### 2.1.1. order_day_of_week"
   ]
  },
  {
   "cell_type": "code",
   "execution_count": 12,
   "id": "75bc7044-0e8e-4dd5-ac7a-30df45606433",
   "metadata": {},
   "outputs": [
    {
     "data": {
      "text/plain": [
       "order_day_of_week\n",
       "0    6203898\n",
       "1    5660040\n",
       "2    4213690\n",
       "3    3840418\n",
       "4    3783706\n",
       "5    4205651\n",
       "6    4496316\n",
       "Name: count, dtype: int64"
      ]
     },
     "execution_count": 12,
     "metadata": {},
     "output_type": "execute_result"
    }
   ],
   "source": [
    "# Frequency distribution of the variable \n",
    "df['order_day_of_week'].value_counts().sort_index()"
   ]
  },
  {
   "cell_type": "code",
   "execution_count": 13,
   "id": "22913ecc-0e33-494e-b83b-7a8ca4146985",
   "metadata": {},
   "outputs": [],
   "source": [
    "# Mapping numeric values to day names\n",
    "day_mapping = {\n",
    "    0: 'Saturday',\n",
    "    1: 'Sunday',\n",
    "    2: 'Monday',\n",
    "    3: 'Tuesday',\n",
    "    4: 'Wednesday',\n",
    "    5: 'Thursday',\n",
    "    6: 'Friday'\n",
    "}\n",
    "\n",
    "# Apply the mapping to create a new column with day names\n",
    "df['order_day_of_week'] = df['order_day_of_week'].map(day_mapping)\n",
    "\n",
    "# Define the desired categorical order\n",
    "day_order = ['Monday', 'Tuesday', 'Wednesday', 'Thursday', 'Friday', 'Saturday', 'Sunday']\n",
    "\n",
    "# Convert to an ordered categorical variable\n",
    "df['order_day_of_week'] = pd.Categorical(df['order_day_of_week'], categories=day_order, ordered=True)"
   ]
  },
  {
   "cell_type": "code",
   "execution_count": 14,
   "id": "92fc168c-3aec-4867-9dd7-3ef6168b0b70",
   "metadata": {},
   "outputs": [
    {
     "name": "stdout",
     "output_type": "stream",
     "text": [
      "category\n"
     ]
    }
   ],
   "source": [
    "# Confirm dtype\n",
    "print(df['order_day_of_week'].dtype)"
   ]
  },
  {
   "cell_type": "code",
   "execution_count": 15,
   "id": "bf34b11d-0c63-469e-8e61-c5aa9fdd3be9",
   "metadata": {},
   "outputs": [
    {
     "data": {
      "text/plain": [
       "order_day_of_week\n",
       "Monday       4213690\n",
       "Tuesday      3840418\n",
       "Wednesday    3783706\n",
       "Thursday     4205651\n",
       "Friday       4496316\n",
       "Saturday     6203898\n",
       "Sunday       5660040\n",
       "Name: count, dtype: int64"
      ]
     },
     "execution_count": 15,
     "metadata": {},
     "output_type": "execute_result"
    }
   ],
   "source": [
    "# Count the number of orders per day\n",
    "df['order_day_of_week'].value_counts().sort_index()"
   ]
  },
  {
   "cell_type": "code",
   "execution_count": 16,
   "id": "d03d2610-d182-4621-9292-9dd5b052d3ce",
   "metadata": {},
   "outputs": [
    {
     "data": {
      "text/plain": [
       "<Axes: xlabel='order_day_of_week'>"
      ]
     },
     "execution_count": 16,
     "metadata": {},
     "output_type": "execute_result"
    },
    {
     "data": {
      "image/png": "[encoded data removed]",
      "text/plain": [
       "<Figure size 640x480 with 1 Axes>"
      ]
     },
     "metadata": {},
     "output_type": "display_data"
    }
   ],
   "source": [
    "# Create a bar chart\n",
    "df['order_day_of_week'].value_counts().sort_index().plot.bar()"
   ]
  },
  {
   "cell_type": "markdown",
   "id": "89517cc3-3100-43f4-adaf-0e75d3ec5a26",
   "metadata": {},
   "source": [
    "### 2.1.2. busiest_days"
   ]
  },
  {
   "cell_type": "code",
   "execution_count": 17,
   "id": "c99fa8ed-64d5-4c15-81b7-3a79ca15711a",
   "metadata": {},
   "outputs": [],
   "source": [
    "#Create loop and place results in list\n",
    "busiest_days = []\n",
    "\n",
    "for value in df['order_day_of_week']:\n",
    "    if value == 'Saturday' or value == 'Sunday':\n",
    "        busiest_days.append('Most Busy Days')\n",
    "    elif value == 'Tuesday' or value == 'Wednesday':\n",
    "        busiest_days.append('Least Busy Days')\n",
    "    else:\n",
    "        busiest_days.append('Moderately Busy Days')\n",
    "\n",
    "#Create new variable and set it equal to results of loop\n",
    "df['busiest_days'] = busiest_days\n",
    "\n",
    "# Define the desired categorical order\n",
    "busiest_days_order = ['Least Busy Days', 'Moderately Busy Days', 'Most Busy Days']\n",
    "\n",
    "# Convert to an ordered categorical variable\n",
    "df['busiest_days'] = pd.Categorical(df['busiest_days'], categories=busiest_days_order, ordered=True)"
   ]
  },
  {
   "cell_type": "code",
   "execution_count": 18,
   "id": "6e2f0611-ff6d-4c29-9ade-87446a7a0d68",
   "metadata": {},
   "outputs": [
    {
     "data": {
      "text/plain": [
       "(32403719, 23)"
      ]
     },
     "execution_count": 18,
     "metadata": {},
     "output_type": "execute_result"
    }
   ],
   "source": [
    "# Dimensions\n",
    "df.shape"
   ]
  },
  {
   "cell_type": "code",
   "execution_count": 19,
   "id": "1790fdc6-250d-4d8a-96f1-87f537271095",
   "metadata": {},
   "outputs": [
    {
     "name": "stdout",
     "output_type": "stream",
     "text": [
      "category\n"
     ]
    }
   ],
   "source": [
    "# Confirm dtype\n",
    "print(df['busiest_days'].dtype)"
   ]
  },
  {
   "cell_type": "code",
   "execution_count": 20,
   "id": "cc8a717d-e867-4c9d-b980-78826031b358",
   "metadata": {},
   "outputs": [
    {
     "data": {
      "text/plain": [
       "busiest_days\n",
       "Least Busy Days          7624124\n",
       "Moderately Busy Days    12915657\n",
       "Most Busy Days          11863938\n",
       "Name: count, dtype: int64"
      ]
     },
     "execution_count": 20,
     "metadata": {},
     "output_type": "execute_result"
    }
   ],
   "source": [
    "# Frequency distribution of new variable\n",
    "df['busiest_days'].value_counts(dropna=False).sort_index()"
   ]
  },
  {
   "cell_type": "code",
   "execution_count": 21,
   "id": "7ece7609-e4e7-4545-8d7a-b6429fe08fe8",
   "metadata": {},
   "outputs": [
    {
     "data": {
      "text/plain": [
       "<Axes: xlabel='busiest_days'>"
      ]
     },
     "execution_count": 21,
     "metadata": {},
     "output_type": "execute_result"
    },
    {
     "data": {
      "image/png": "[encoded data removed]",
      "text/plain": [
       "<Figure size 640x480 with 1 Axes>"
      ]
     },
     "metadata": {},
     "output_type": "display_data"
    }
   ],
   "source": [
    "# Create a bar chart\n",
    "df['busiest_days'].value_counts().sort_index().plot.bar()"
   ]
  },
  {
   "cell_type": "markdown",
   "id": "9e35c1c4-4458-4584-be20-93e38b04508a",
   "metadata": {},
   "source": [
    "### 2.1.3. order_hour_of_day"
   ]
  },
  {
   "cell_type": "code",
   "execution_count": 22,
   "id": "f6ff64cd-a16f-4578-8834-35c3c4273851",
   "metadata": {},
   "outputs": [
    {
     "data": {
      "text/plain": [
       "order_hour_of_day\n",
       "0      218763\n",
       "1      115698\n",
       "2       69373\n",
       "3       51281\n",
       "4       53240\n",
       "5       87957\n",
       "6      290491\n",
       "7      891026\n",
       "8     1718082\n",
       "9     2454127\n",
       "10    2761660\n",
       "11    2736010\n",
       "12    2618430\n",
       "13    2660846\n",
       "14    2689036\n",
       "15    2662044\n",
       "16    2535106\n",
       "17    2087564\n",
       "18    1636436\n",
       "19    1258275\n",
       "20     976134\n",
       "21     795619\n",
       "22     634207\n",
       "23     402314\n",
       "Name: count, dtype: int64"
      ]
     },
     "execution_count": 22,
     "metadata": {},
     "output_type": "execute_result"
    }
   ],
   "source": [
    "# Frequency distribution of the variable\n",
    "df['order_hour_of_day'].value_counts().sort_index()"
   ]
  },
  {
   "cell_type": "code",
   "execution_count": 23,
   "id": "6c8c501f-1e96-4e6d-8bed-246c2e55d616",
   "metadata": {},
   "outputs": [],
   "source": [
    "# Define the desired categorical order (starting with Monday)\n",
    "hour_order = [0, 1, 2, 3, 4, 5, 6, 7, 8, 9, 10, 11, 12, 13, 14, 15, 16, 17, 18, 19, 20, 21, 22, 23]\n",
    "\n",
    "# Convert to an ordered categorical variable\n",
    "df['order_hour_of_day'] = pd.Categorical(df['order_hour_of_day'], categories=hour_order, ordered=True)"
   ]
  },
  {
   "cell_type": "code",
   "execution_count": 24,
   "id": "f660aa1c-09a5-4aa8-bfaa-517e9833a26e",
   "metadata": {},
   "outputs": [
    {
     "name": "stdout",
     "output_type": "stream",
     "text": [
      "category\n"
     ]
    }
   ],
   "source": [
    "# Confirm dtype\n",
    "print(df['order_hour_of_day'].dtype)"
   ]
  },
  {
   "cell_type": "code",
   "execution_count": 25,
   "id": "e4ad891e-95d7-46eb-87a4-3da41d10edf9",
   "metadata": {},
   "outputs": [
    {
     "data": {
      "text/plain": [
       "order_hour_of_day\n",
       "0      218763\n",
       "1      115698\n",
       "2       69373\n",
       "3       51281\n",
       "4       53240\n",
       "5       87957\n",
       "6      290491\n",
       "7      891026\n",
       "8     1718082\n",
       "9     2454127\n",
       "10    2761660\n",
       "11    2736010\n",
       "12    2618430\n",
       "13    2660846\n",
       "14    2689036\n",
       "15    2662044\n",
       "16    2535106\n",
       "17    2087564\n",
       "18    1636436\n",
       "19    1258275\n",
       "20     976134\n",
       "21     795619\n",
       "22     634207\n",
       "23     402314\n",
       "Name: count, dtype: int64"
      ]
     },
     "execution_count": 25,
     "metadata": {},
     "output_type": "execute_result"
    }
   ],
   "source": [
    "# Count the number of orders per day\n",
    "df['order_hour_of_day'].value_counts().sort_index()"
   ]
  },
  {
   "cell_type": "code",
   "execution_count": 26,
   "id": "ed310f7f-1791-4e95-810f-a0c235b9525f",
   "metadata": {},
   "outputs": [
    {
     "data": {
      "text/plain": [
       "<Axes: xlabel='order_hour_of_day'>"
      ]
     },
     "execution_count": 26,
     "metadata": {},
     "output_type": "execute_result"
    },
    {
     "data": {
      "image/png": "[encoded data removed]",
      "text/plain": [
       "<Figure size 640x480 with 1 Axes>"
      ]
     },
     "metadata": {},
     "output_type": "display_data"
    }
   ],
   "source": [
    "# Create a bar chart\n",
    "df['order_hour_of_day'].value_counts().sort_index().plot.bar()"
   ]
  },
  {
   "cell_type": "markdown",
   "id": "a75819c6-1294-49ac-a681-a6d205f900f9",
   "metadata": {},
   "source": [
    "### 2.1.4. busiest_hours"
   ]
  },
  {
   "cell_type": "code",
   "execution_count": 27,
   "id": "3e854304-944f-4e46-9459-2686a70f0937",
   "metadata": {},
   "outputs": [],
   "source": [
    "#Create loop and place results in list\n",
    "busiest_hours = []\n",
    "\n",
    "for value in df['order_hour_of_day']:\n",
    "    if value in [10, 11, 12, 13, 14, 15, 16]: # More than 2m orders\n",
    "        busiest_hours.append('Most Busy Hours')\n",
    "    elif value in [0, 1, 2, 3, 4, 5, 6]: #less than 500k orders\n",
    "        busiest_hours.append('Least Busy Hours')\n",
    "    else:\n",
    "        busiest_hours.append('Moderately Busy Hours')\n",
    "\n",
    "#Create new variable and set it equal to results of loop\n",
    "df['busiest_hours'] = busiest_hours\n",
    "\n",
    "# Define the desired categorical order\n",
    "busiest_hours_order = ['Least Busy Hours', 'Moderately Busy Hours', 'Most Busy Hours']\n",
    "\n",
    "# Convert to an ordered categorical variable\n",
    "df['busiest_hours'] = pd.Categorical(df['busiest_hours'], categories=busiest_hours_order, ordered=True)"
   ]
  },
  {
   "cell_type": "code",
   "execution_count": 28,
   "id": "35995d86-26e9-4372-9188-b0eae0f32cbf",
   "metadata": {},
   "outputs": [
    {
     "data": {
      "text/plain": [
       "(32403719, 24)"
      ]
     },
     "execution_count": 28,
     "metadata": {},
     "output_type": "execute_result"
    }
   ],
   "source": [
    "# Dimensions\n",
    "df.shape"
   ]
  },
  {
   "cell_type": "code",
   "execution_count": 29,
   "id": "6df78000-f583-4458-9661-f0a613b534b9",
   "metadata": {},
   "outputs": [
    {
     "name": "stdout",
     "output_type": "stream",
     "text": [
      "category\n"
     ]
    }
   ],
   "source": [
    "# Confirm dtype\n",
    "print(df['busiest_hours'].dtype)"
   ]
  },
  {
   "cell_type": "code",
   "execution_count": 30,
   "id": "b65e38e4-7b10-40e7-ae07-0c6cb029ade7",
   "metadata": {},
   "outputs": [
    {
     "data": {
      "text/plain": [
       "busiest_hours\n",
       "Least Busy Hours           886803\n",
       "Moderately Busy Hours    12853784\n",
       "Most Busy Hours          18663132\n",
       "Name: count, dtype: int64"
      ]
     },
     "execution_count": 30,
     "metadata": {},
     "output_type": "execute_result"
    }
   ],
   "source": [
    "# Frequency distribution of new variable\n",
    "df['busiest_hours'].value_counts(dropna=False).sort_index()"
   ]
  },
  {
   "cell_type": "code",
   "execution_count": 31,
   "id": "8be8b033-50b2-46da-9e95-f50969d34f0d",
   "metadata": {},
   "outputs": [
    {
     "data": {
      "text/plain": [
       "<Axes: xlabel='busiest_hours'>"
      ]
     },
     "execution_count": 31,
     "metadata": {},
     "output_type": "execute_result"
    },
    {
     "data": {
      "image/png": "[encoded data removed]",
      "text/plain": [
       "<Figure size 640x480 with 1 Axes>"
      ]
     },
     "metadata": {},
     "output_type": "display_data"
    }
   ],
   "source": [
    "# Create a bar chart\n",
    "df['busiest_hours'].value_counts().sort_index().plot.bar()"
   ]
  },
  {
   "cell_type": "markdown",
   "id": "59bf4c78-38d4-4113-8d72-d25358f58c5a",
   "metadata": {},
   "source": [
    "### 2.1.5. order_hour_of_day_week"
   ]
  },
  {
   "cell_type": "code",
   "execution_count": 32,
   "id": "455eb8e1-a293-4d3d-b71f-94003ff2cc7f",
   "metadata": {},
   "outputs": [],
   "source": [
    "# Ensure 'order_day_of_week' and 'order_hour_of_day' are already categorical\n",
    "day_order = [\"Monday\", \"Tuesday\", \"Wednesday\", \"Thursday\", \"Friday\", \"Saturday\", \"Sunday\"]\n",
    "hour_order = list(range(24))  # Hours from 0 to 23\n",
    "\n",
    "# Generate ordered category combinations (Day - Hour)\n",
    "ordered_combinations = [f\"{day} - {hour}\" for day in day_order for hour in hour_order]\n",
    "\n",
    "# Ensure 'order_time_of_day_week' is a string before assigning categories\n",
    "df['order_hour_of_day_week'] = df['order_day_of_week'].astype(str) + \" - \" + df['order_hour_of_day'].astype(str)\n",
    "\n",
    "# Convert to an ordered categorical variable\n",
    "df['order_hour_of_day_week'] = pd.Categorical(df['order_hour_of_day_week'],\n",
    "                                                             categories=ordered_combinations,\n",
    "                                                             ordered=True)"
   ]
  },
  {
   "cell_type": "code",
   "execution_count": 33,
   "id": "0980d8a7-8a4b-4314-b91e-474de2dd5820",
   "metadata": {},
   "outputs": [
    {
     "data": {
      "text/plain": [
       "(32403719, 25)"
      ]
     },
     "execution_count": 33,
     "metadata": {},
     "output_type": "execute_result"
    }
   ],
   "source": [
    "# Dimensions\n",
    "df.shape"
   ]
  },
  {
   "cell_type": "code",
   "execution_count": 34,
   "id": "b1e27acd-7b2d-4a30-88ab-5a1d77600683",
   "metadata": {},
   "outputs": [
    {
     "name": "stdout",
     "output_type": "stream",
     "text": [
      "category\n"
     ]
    }
   ],
   "source": [
    "# Confirm dtype\n",
    "print(df['order_hour_of_day_week'].dtype)"
   ]
  },
  {
   "cell_type": "code",
   "execution_count": 35,
   "id": "e6147b58-f049-455a-8cb5-613bba56ce02",
   "metadata": {},
   "outputs": [
    {
     "data": {
      "text/plain": [
       "order_hour_of_day_week\n",
       "Monday - 0      29892\n",
       "Monday - 1      14703\n",
       "Monday - 2       8335\n",
       "Monday - 3       7020\n",
       "Monday - 4       6797\n",
       "                ...  \n",
       "Sunday - 19    198934\n",
       "Sunday - 20    151995\n",
       "Sunday - 21    119846\n",
       "Sunday - 22     91761\n",
       "Sunday - 23     57227\n",
       "Name: count, Length: 168, dtype: int64"
      ]
     },
     "execution_count": 35,
     "metadata": {},
     "output_type": "execute_result"
    }
   ],
   "source": [
    "# Count the number of orders per hour of day of week\n",
    "order_combined_counts = df['order_hour_of_day_week'].value_counts().sort_index()\n",
    "order_combined_counts"
   ]
  },
  {
   "cell_type": "code",
   "execution_count": 36,
   "id": "a2b5e795-d19b-4345-88fb-b075c7ba0ced",
   "metadata": {},
   "outputs": [
    {
     "data": {
      "image/png": "[encoded data removed]",
      "text/plain": [
       "<Figure size 640x480 with 1 Axes>"
      ]
     },
     "metadata": {},
     "output_type": "display_data"
    }
   ],
   "source": [
    "# Create a bar chart\n",
    "ax = df['order_hour_of_day_week'].value_counts().sort_index().plot(kind='bar')\n",
    "\n",
    "# Set x-axis labels to show only days, centered at hour 12\n",
    "plt.xticks(\n",
    "    ticks=[(i * 24) + 12 for i in range(len(day_order))],  # Midpoint of each day\n",
    "    labels=day_order,  # [\"Monday\", \"Tuesday\", ...]\n",
    "    rotation=0\n",
    ")\n",
    "\n",
    "# Show the plot\n",
    "plt.show()"
   ]
  },
  {
   "cell_type": "markdown",
   "id": "57fee955-b9e6-4d6d-92be-9ecaabffae4b",
   "metadata": {},
   "source": [
    "## 2.2. Prices"
   ]
  },
  {
   "cell_type": "markdown",
   "id": "bdd2e43c-5a88-4dd9-9d7d-df56d6715235",
   "metadata": {},
   "source": [
    "### 2.2.1. prices (product level)"
   ]
  },
  {
   "cell_type": "code",
   "execution_count": 37,
   "id": "47a08780-adf7-4b81-be6a-21c2c51f9161",
   "metadata": {},
   "outputs": [
    {
     "data": {
      "text/plain": [
       "prices\n",
       "1.0     116\n",
       "1.1     296\n",
       "1.2     296\n",
       "1.3     286\n",
       "1.4     321\n",
       "       ... \n",
       "24.6      4\n",
       "24.7      5\n",
       "24.8      5\n",
       "24.9      6\n",
       "25.0      5\n",
       "Name: count, Length: 241, dtype: int64"
      ]
     },
     "execution_count": 37,
     "metadata": {},
     "output_type": "execute_result"
    }
   ],
   "source": [
    "# Get the maximum price per product \n",
    "max_prices = df.groupby('product_id')['prices'].max().reset_index()\n",
    "\n",
    "# Count the number of products for each unique price\n",
    "price_counts = max_prices['prices'].value_counts().sort_index()\n",
    "price_counts"
   ]
  },
  {
   "cell_type": "code",
   "execution_count": 38,
   "id": "77566482-ab7e-4815-aacb-a54d6aa16eef",
   "metadata": {},
   "outputs": [
    {
     "data": {
      "text/plain": [
       "count    49657.000000\n",
       "mean         7.680421\n",
       "std          4.199349\n",
       "min          1.000000\n",
       "25%          4.100000\n",
       "50%          7.100000\n",
       "75%         11.100000\n",
       "max         25.000000\n",
       "Name: prices, dtype: float64"
      ]
     },
     "execution_count": 38,
     "metadata": {},
     "output_type": "execute_result"
    }
   ],
   "source": [
    "max_prices['prices'].describe()"
   ]
  },
  {
   "cell_type": "code",
   "execution_count": 39,
   "id": "78c8648e-b909-4395-a732-0bc390f06f7e",
   "metadata": {},
   "outputs": [
    {
     "data": {
      "text/plain": [
       "<Axes: ylabel='Frequency'>"
      ]
     },
     "execution_count": 39,
     "metadata": {},
     "output_type": "execute_result"
    },
    {
     "data": {
      "image/png": "[encoded data removed]",
      "text/plain": [
       "<Figure size 640x480 with 1 Axes>"
      ]
     },
     "metadata": {},
     "output_type": "display_data"
    }
   ],
   "source": [
    "# Plot histogram\n",
    "max_prices['prices'].plot.hist(bins = 25)"
   ]
  },
  {
   "cell_type": "code",
   "execution_count": 40,
   "id": "73f5a5ac-7ca3-4f62-be69-13d7743966cb",
   "metadata": {},
   "outputs": [
    {
     "data": {
      "text/plain": [
       "<Axes: xlabel='prices'>"
      ]
     },
     "execution_count": 40,
     "metadata": {},
     "output_type": "execute_result"
    },
    {
     "data": {
      "image/png": "[encoded data removed]",
      "text/plain": [
       "<Figure size 640x480 with 1 Axes>"
      ]
     },
     "metadata": {},
     "output_type": "display_data"
    }
   ],
   "source": [
    "# Plot boxplot\n",
    "sns.boxplot(x=max_prices['prices'])"
   ]
  },
  {
   "cell_type": "markdown",
   "id": "0c100e6f-6362-444d-ae6a-5a608676bfbc",
   "metadata": {},
   "source": [
    "### 2.2.2. prices (order level)"
   ]
  },
  {
   "cell_type": "code",
   "execution_count": 41,
   "id": "944246d9-3750-4c88-8ca0-d80346a7dc48",
   "metadata": {},
   "outputs": [
    {
     "data": {
      "text/plain": [
       "prices\n",
       "1.0     115143\n",
       "1.1     242782\n",
       "1.2     256258\n",
       "1.3     425691\n",
       "1.4     392209\n",
       "         ...  \n",
       "24.6      1962\n",
       "24.7      7283\n",
       "24.8       410\n",
       "24.9      5781\n",
       "25.0     13772\n",
       "Name: count, Length: 241, dtype: int64"
      ]
     },
     "execution_count": 41,
     "metadata": {},
     "output_type": "execute_result"
    }
   ],
   "source": [
    "# Count the number of products ordered for each unique price\n",
    "df['prices'].value_counts().sort_index()"
   ]
  },
  {
   "cell_type": "code",
   "execution_count": 42,
   "id": "64d6cb82-6b94-40fd-80cb-93dad0a3bf80",
   "metadata": {},
   "outputs": [
    {
     "data": {
      "text/plain": [
       "count    3.240372e+07\n",
       "mean     7.792048e+00\n",
       "std      4.242308e+00\n",
       "min      1.000000e+00\n",
       "25%      4.200000e+00\n",
       "50%      7.400000e+00\n",
       "75%      1.130000e+01\n",
       "max      2.500000e+01\n",
       "Name: prices, dtype: float64"
      ]
     },
     "execution_count": 42,
     "metadata": {},
     "output_type": "execute_result"
    }
   ],
   "source": [
    "df['prices'].describe()"
   ]
  },
  {
   "cell_type": "code",
   "execution_count": 43,
   "id": "3d045382-e1ab-4f53-9aec-66a9e752b4a5",
   "metadata": {},
   "outputs": [
    {
     "data": {
      "text/plain": [
       "<Axes: ylabel='Frequency'>"
      ]
     },
     "execution_count": 43,
     "metadata": {},
     "output_type": "execute_result"
    },
    {
     "data": {
      "image/png": "[encoded data removed]",
      "text/plain": [
       "<Figure size 640x480 with 1 Axes>"
      ]
     },
     "metadata": {},
     "output_type": "display_data"
    }
   ],
   "source": [
    "# Plot histogram\n",
    "df['prices'].plot.hist(bins = 25)"
   ]
  },
  {
   "cell_type": "code",
   "execution_count": 44,
   "id": "ecf11d67-bcc9-493c-9cdf-52408db679d6",
   "metadata": {},
   "outputs": [
    {
     "data": {
      "text/plain": [
       "<Axes: xlabel='prices'>"
      ]
     },
     "execution_count": 44,
     "metadata": {},
     "output_type": "execute_result"
    },
    {
     "data": {
      "image/png": "[encoded data removed]",
      "text/plain": [
       "<Figure size 640x480 with 1 Axes>"
      ]
     },
     "metadata": {},
     "output_type": "display_data"
    }
   ],
   "source": [
    "# Plot boxplot\n",
    "sns.boxplot(x=df['prices'])"
   ]
  },
  {
   "cell_type": "markdown",
   "id": "c82377b1-d8d4-4e49-ac3f-4c366eee228b",
   "metadata": {},
   "source": [
    "### 2.2.3. price_label"
   ]
  },
  {
   "cell_type": "code",
   "execution_count": 45,
   "id": "682815ae-80cc-4ee7-a6b6-92d3db45f794",
   "metadata": {},
   "outputs": [],
   "source": [
    "#Define the conditions\n",
    "conditions = [\n",
    "    df['prices'] <= 4.2,\n",
    "    (df['prices'] > 4.2) & (df['prices'] <= 11.3),\n",
    "    (df['prices'] > 11.3) & (df['prices'] <= 15),\n",
    "    df['prices'] > 15\n",
    "]\n",
    "\n",
    "#Define corresponding labels\n",
    "choices = ['Low Price', 'Mid Price', 'High Price', 'Premium Price']\n",
    "\n",
    "#Create new variable based on the conditions\n",
    "df['price_label'] = np.select(conditions, choices, default = 'Unknown')\n",
    "\n",
    "# Define the desired categorical order\n",
    "order = ['Low Price', 'Mid Price', 'High Price', 'Premium Price']\n",
    "\n",
    "# Convert to an ordered categorical variable\n",
    "df['price_label'] = pd.Categorical(df['price_label'], categories=order, ordered=True)"
   ]
  },
  {
   "cell_type": "code",
   "execution_count": 46,
   "id": "1d2e9e85-5ff0-444f-aa2c-33cafca9a7cf",
   "metadata": {},
   "outputs": [
    {
     "data": {
      "text/plain": [
       "(32403719, 26)"
      ]
     },
     "execution_count": 46,
     "metadata": {},
     "output_type": "execute_result"
    }
   ],
   "source": [
    "# Dimensions\n",
    "df.shape"
   ]
  },
  {
   "cell_type": "code",
   "execution_count": 47,
   "id": "893bf39f-da55-4035-ab9c-cffd425eeb4c",
   "metadata": {},
   "outputs": [
    {
     "name": "stdout",
     "output_type": "stream",
     "text": [
      "category\n"
     ]
    }
   ],
   "source": [
    "# Confirm dtype\n",
    "print(df['price_label'].dtype)"
   ]
  },
  {
   "cell_type": "code",
   "execution_count": 48,
   "id": "e712ad98-62de-446d-ad5c-680147700fd9",
   "metadata": {},
   "outputs": [
    {
     "data": {
      "text/plain": [
       "price_label\n",
       "Low Price         8136049\n",
       "Mid Price        16369065\n",
       "High Price        7486054\n",
       "Premium Price      412551\n",
       "Name: count, dtype: int64"
      ]
     },
     "execution_count": 48,
     "metadata": {},
     "output_type": "execute_result"
    }
   ],
   "source": [
    "# Frequency distribution of new variable\n",
    "df['price_label'].value_counts(dropna=False).sort_index()"
   ]
  },
  {
   "cell_type": "code",
   "execution_count": 49,
   "id": "4ec6cbcf-f76a-4318-88ef-bc0e8fbd2997",
   "metadata": {},
   "outputs": [
    {
     "data": {
      "text/plain": [
       "<Axes: xlabel='price_label'>"
      ]
     },
     "execution_count": 49,
     "metadata": {},
     "output_type": "execute_result"
    },
    {
     "data": {
      "image/png": "[encoded data removed]",
      "text/plain": [
       "<Figure size 640x480 with 1 Axes>"
      ]
     },
     "metadata": {},
     "output_type": "display_data"
    }
   ],
   "source": [
    "# Create a bar chart\n",
    "df['price_label'].value_counts().sort_index().plot.bar()"
   ]
  },
  {
   "cell_type": "markdown",
   "id": "866e348d-51ed-47c2-ac15-a6e96d691d0a",
   "metadata": {},
   "source": [
    "### 2.2.4. high_price_days"
   ]
  },
  {
   "cell_type": "code",
   "execution_count": 50,
   "id": "aa76a7fd-5be8-4d3a-8f14-5344edd0c0e0",
   "metadata": {},
   "outputs": [],
   "source": [
    "# Define mapping for grouping days\n",
    "day_group_mapping = {\n",
    "    \"Friday\": \"Fri & Sat\",\n",
    "    \"Saturday\": \"Fri & Sat\",\n",
    "    \"Monday\": \"Other Days\",\n",
    "    \"Tuesday\": \"Other Days\",\n",
    "    \"Wednesday\": \"Other Days\",\n",
    "   \"Thursday\": \"Other Days\",\n",
    "    \"Sunday\": \"Other Days\"\n",
    "}\n",
    "\n",
    "# Convert 'order_day_of_week' to a new categorical variable with grouped categories\n",
    "df['high_price_days'] = df['order_day_of_week'].map(day_group_mapping)\n",
    "\n",
    "# Ensure 'day_group' is categorical with correct order\n",
    "df['high_price_days'] = pd.Categorical(df['high_price_days'], categories=[\"Other Days\", \"Fri & Sat\"], ordered=True)"
   ]
  },
  {
   "cell_type": "code",
   "execution_count": 51,
   "id": "e62b435b-1cb8-4d5f-b0cc-31a4c2761a35",
   "metadata": {},
   "outputs": [
    {
     "data": {
      "text/plain": [
       "(32403719, 27)"
      ]
     },
     "execution_count": 51,
     "metadata": {},
     "output_type": "execute_result"
    }
   ],
   "source": [
    "# Dimensions\n",
    "df.shape"
   ]
  },
  {
   "cell_type": "code",
   "execution_count": 52,
   "id": "982f3f08-9505-48a6-840b-98812c1729dc",
   "metadata": {},
   "outputs": [
    {
     "name": "stdout",
     "output_type": "stream",
     "text": [
      "category\n"
     ]
    }
   ],
   "source": [
    "# Confirm dtype\n",
    "print(df['high_price_days'].dtype)"
   ]
  },
  {
   "cell_type": "code",
   "execution_count": 53,
   "id": "0e5f0d03-fa2a-4ee2-9723-e67d46576245",
   "metadata": {},
   "outputs": [
    {
     "data": {
      "text/plain": [
       "high_price_days\n",
       "Other Days    21703505\n",
       "Fri & Sat     10700214\n",
       "Name: count, dtype: int64"
      ]
     },
     "execution_count": 53,
     "metadata": {},
     "output_type": "execute_result"
    }
   ],
   "source": [
    "# Frequency distribution of new variable\n",
    "df['high_price_days'].value_counts(dropna=False).sort_index()"
   ]
  },
  {
   "cell_type": "code",
   "execution_count": 54,
   "id": "6dd14a78-c8eb-4bc5-b660-db046c729317",
   "metadata": {},
   "outputs": [
    {
     "data": {
      "text/plain": [
       "<Axes: xlabel='high_price_days'>"
      ]
     },
     "execution_count": 54,
     "metadata": {},
     "output_type": "execute_result"
    },
    {
     "data": {
      "image/png": "[encoded data removed]",
      "text/plain": [
       "<Figure size 640x480 with 1 Axes>"
      ]
     },
     "metadata": {},
     "output_type": "display_data"
    }
   ],
   "source": [
    "# Create a bar chart\n",
    "df['high_price_days'].value_counts().sort_index().plot.bar()"
   ]
  },
  {
   "cell_type": "markdown",
   "id": "b32bdcf0-d683-4ef6-b464-6cb6dce95af3",
   "metadata": {},
   "source": [
    "## 2.3. Products"
   ]
  },
  {
   "cell_type": "markdown",
   "id": "983f6c5f-5f7d-48e9-940b-7b54dbad771e",
   "metadata": {},
   "source": [
    "### 2.3.1. department_id"
   ]
  },
  {
   "cell_type": "code",
   "execution_count": 55,
   "id": "efeb904b-e7a4-4a2f-85f5-bdaa2f2adbfe",
   "metadata": {},
   "outputs": [
    {
     "data": {
      "text/plain": [
       "department     \n",
       "alcohol             153696\n",
       "babies              423794\n",
       "bakery             1172428\n",
       "beverages          2688115\n",
       "breakfast           703033\n",
       "bulk                 34573\n",
       "canned goods       1068058\n",
       "dairy eggs         5398185\n",
       "deli               1051249\n",
       "dry goods pasta     866627\n",
       "frozen             2234743\n",
       "household           738666\n",
       "international       269253\n",
       "meat seafood        708927\n",
       "missing              69145\n",
       "other                36291\n",
       "pantry             1875369\n",
       "personal care       447010\n",
       "pets                 97716\n",
       "produce            9479291\n",
       "snacks             2887550\n",
       "Name: count, dtype: int64"
      ]
     },
     "execution_count": 55,
     "metadata": {},
     "output_type": "execute_result"
    }
   ],
   "source": [
    "# Count the number of products ordered per department\n",
    "df[['department']].value_counts().sort_index()"
   ]
  },
  {
   "cell_type": "code",
   "execution_count": 56,
   "id": "239feb7b-637d-413b-adf9-35c84677b12c",
   "metadata": {},
   "outputs": [],
   "source": [
    "# Convert to a categorical variable\n",
    "df['department'] = pd.Categorical(df['department'])"
   ]
  },
  {
   "cell_type": "code",
   "execution_count": 57,
   "id": "26828cf5-c41f-4895-b218-b1fcd9d7bb7c",
   "metadata": {},
   "outputs": [
    {
     "name": "stdout",
     "output_type": "stream",
     "text": [
      "category\n"
     ]
    }
   ],
   "source": [
    "# Confirm dtype\n",
    "print(df['department'].dtype)"
   ]
  },
  {
   "cell_type": "code",
   "execution_count": 58,
   "id": "eabe401a-7dc0-4dda-b5cf-be37f939ac3d",
   "metadata": {},
   "outputs": [
    {
     "data": {
      "text/plain": [
       "department\n",
       "alcohol             153696\n",
       "babies              423794\n",
       "bakery             1172428\n",
       "beverages          2688115\n",
       "breakfast           703033\n",
       "bulk                 34573\n",
       "canned goods       1068058\n",
       "dairy eggs         5398185\n",
       "deli               1051249\n",
       "dry goods pasta     866627\n",
       "frozen             2234743\n",
       "household           738666\n",
       "international       269253\n",
       "meat seafood        708927\n",
       "missing              69145\n",
       "other                36291\n",
       "pantry             1875369\n",
       "personal care       447010\n",
       "pets                 97716\n",
       "produce            9479291\n",
       "snacks             2887550\n",
       "Name: count, dtype: int64"
      ]
     },
     "execution_count": 58,
     "metadata": {},
     "output_type": "execute_result"
    }
   ],
   "source": [
    "# Count the number of orders per department\n",
    "df['department'].value_counts().sort_index()"
   ]
  },
  {
   "cell_type": "code",
   "execution_count": 59,
   "id": "261add32-ec11-44af-bc16-4df9e7fb006c",
   "metadata": {},
   "outputs": [
    {
     "data": {
      "text/plain": [
       "<Axes: xlabel='department'>"
      ]
     },
     "execution_count": 59,
     "metadata": {},
     "output_type": "execute_result"
    },
    {
     "data": {
      "image/png": "[encoded data removed]",
      "text/plain": [
       "<Figure size 640x480 with 1 Axes>"
      ]
     },
     "metadata": {},
     "output_type": "display_data"
    }
   ],
   "source": [
    "# Create a bar chart\n",
    "df['department'].value_counts().sort_index().plot.bar()"
   ]
  },
  {
   "cell_type": "markdown",
   "id": "6aa7924f-3edc-4372-b320-b17f54147ffc",
   "metadata": {},
   "source": [
    "### 2.3.2. product_category"
   ]
  },
  {
   "cell_type": "markdown",
   "id": "8bdf5836-3a44-4b55-aa48-3c97a6589d5c",
   "metadata": {},
   "source": [
    "##### Categories can be allocated as follows:\n",
    "- beverages as beverages [7]\n",
    "- alcoholic as alcoholic beverages [5]\n",
    "- dairy eggs, deli, meat seafood, produce & bakery as perishables [16,20,12,4,3]\n",
    "- frozen, bulk, canned goods, dry goods pasta, pantry, snacks & breakfast as non-perishables [1,10,15,9,13,19,14]\n",
    "- household as household [17]\n",
    "- personal care as personal care [11]\n",
    "- pets as pets [8]\n",
    "- babies as babies [18]\n",
    "- international, missing & other as miscellaneous [6,21,2]"
   ]
  },
  {
   "cell_type": "code",
   "execution_count": 60,
   "id": "d8279fef-8fb8-45a2-b2de-44d752b180ad",
   "metadata": {},
   "outputs": [],
   "source": [
    "#Allocate departments\n",
    "categories = []\n",
    "for value in df['department_id']:\n",
    "  if value in [7]:\n",
    "    categories.append('beverages')\n",
    "  elif value in [5]:\n",
    "    categories.append('alcoholic beverages')\n",
    "  elif value in [16,20,12,4,3]:\n",
    "    categories.append('perishables')\n",
    "  elif value in [1,10,15,9,13,19,14]:\n",
    "    categories.append('non-perishables')\n",
    "  elif value in [17]:\n",
    "    categories.append('household')\n",
    "  elif value in [11]:\n",
    "    categories.append('personal care')\n",
    "  elif value in [8]:\n",
    "    categories.append('pets')\n",
    "  elif value in [18]:\n",
    "    categories.append('babies')\n",
    "  elif value in [6,21,2]:\n",
    "    categories.append('miscellaneous')\n",
    "  else:\n",
    "    categories.append('unallocated')\n",
    "\n",
    "#Create new variable and set it equal to results of loop\n",
    "df['product_category'] = categories\n",
    "\n",
    "# Convert to a categorical variable\n",
    "df['product_category'] = pd.Categorical(df['product_category'])"
   ]
  },
  {
   "cell_type": "code",
   "execution_count": 61,
   "id": "263b8c7f-81bb-44f3-9c00-90129cec8a1f",
   "metadata": {},
   "outputs": [
    {
     "data": {
      "text/plain": [
       "(32403719, 28)"
      ]
     },
     "execution_count": 61,
     "metadata": {},
     "output_type": "execute_result"
    }
   ],
   "source": [
    "# Dimensions\n",
    "df.shape"
   ]
  },
  {
   "cell_type": "code",
   "execution_count": 62,
   "id": "5d5a9875-3bdc-4ed5-ab91-69b45df722a6",
   "metadata": {},
   "outputs": [
    {
     "name": "stdout",
     "output_type": "stream",
     "text": [
      "category\n"
     ]
    }
   ],
   "source": [
    "# Confirm dtype\n",
    "print(df['product_category'].dtype)"
   ]
  },
  {
   "cell_type": "code",
   "execution_count": 63,
   "id": "fb415ce1-7747-452d-a1b8-4a27f681655f",
   "metadata": {},
   "outputs": [
    {
     "data": {
      "text/plain": [
       "product_category\n",
       "alcoholic beverages      153696\n",
       "babies                   423794\n",
       "beverages               2688115\n",
       "household                738666\n",
       "miscellaneous            374689\n",
       "non-perishables         9669953\n",
       "perishables            17810080\n",
       "personal care            447010\n",
       "pets                      97716\n",
       "Name: count, dtype: int64"
      ]
     },
     "execution_count": 63,
     "metadata": {},
     "output_type": "execute_result"
    }
   ],
   "source": [
    "# Frequency distribution of new variable\n",
    "df['product_category'].value_counts(dropna=False).sort_index()"
   ]
  },
  {
   "cell_type": "code",
   "execution_count": 64,
   "id": "9f416005-8cd1-4f1e-997b-ee9431e81db2",
   "metadata": {},
   "outputs": [
    {
     "data": {
      "text/plain": [
       "<Axes: xlabel='product_category'>"
      ]
     },
     "execution_count": 64,
     "metadata": {},
     "output_type": "execute_result"
    },
    {
     "data": {
      "image/png": "[encoded data removed]",
      "text/plain": [
       "<Figure size 640x480 with 1 Axes>"
      ]
     },
     "metadata": {},
     "output_type": "display_data"
    }
   ],
   "source": [
    "# Create a bar chart\n",
    "df['product_category'].value_counts().sort_index().plot.bar()"
   ]
  },
  {
   "cell_type": "markdown",
   "id": "38976746-6451-4a27-bf3d-6f9d8a82df5d",
   "metadata": {},
   "source": [
    "## 2.4. Customer Profiling"
   ]
  },
  {
   "cell_type": "markdown",
   "id": "ec4fd74e-2ab8-4f97-9d98-b325099812bf",
   "metadata": {},
   "source": [
    "### 2.4.1. max_order_per_user"
   ]
  },
  {
   "cell_type": "code",
   "execution_count": 65,
   "id": "37544593-3952-4b7d-a2d3-bb39c6c96f70",
   "metadata": {},
   "outputs": [],
   "source": [
    "# Group by 'user_id' and return the 'max_order' number in new column\n",
    "df['max_order_per_user'] = df.groupby(['user_id'])['user_order_count'].transform('max')"
   ]
  },
  {
   "cell_type": "code",
   "execution_count": 66,
   "id": "66f9b73c-b49b-48a9-9c3b-8d8379f383a6",
   "metadata": {},
   "outputs": [
    {
     "data": {
      "text/plain": [
       "(32403719, 29)"
      ]
     },
     "execution_count": 66,
     "metadata": {},
     "output_type": "execute_result"
    }
   ],
   "source": [
    "# Dimensions\n",
    "df.shape"
   ]
  },
  {
   "cell_type": "code",
   "execution_count": 67,
   "id": "d4340bd2-9260-4554-b463-102f23b19e9b",
   "metadata": {},
   "outputs": [
    {
     "name": "stdout",
     "output_type": "stream",
     "text": [
      "int64\n"
     ]
    }
   ],
   "source": [
    "# Confirm dtype\n",
    "print(df['max_order_per_user'].dtype)"
   ]
  },
  {
   "cell_type": "code",
   "execution_count": 68,
   "id": "4b497f37-f064-4dc0-b1df-97e06043ab0b",
   "metadata": {},
   "outputs": [
    {
     "data": {
      "text/plain": [
       "max_order_per_user\n",
       "1           5\n",
       "2           6\n",
       "3      686702\n",
       "4      753488\n",
       "5      793082\n",
       "       ...   \n",
       "95      59877\n",
       "96      40453\n",
       "97      44949\n",
       "98      44587\n",
       "99    1171331\n",
       "Name: count, Length: 99, dtype: int64"
      ]
     },
     "execution_count": 68,
     "metadata": {},
     "output_type": "execute_result"
    }
   ],
   "source": [
    "# Frequency distribution of new variable\n",
    "df['max_order_per_user'].value_counts(dropna=False).sort_index()"
   ]
  },
  {
   "cell_type": "code",
   "execution_count": 69,
   "id": "1931ef1f-045f-4e27-a5df-5d2e95318c62",
   "metadata": {},
   "outputs": [
    {
     "data": {
      "text/plain": [
       "count    3.240372e+07\n",
       "mean     3.305262e+01\n",
       "std      2.515541e+01\n",
       "min      1.000000e+00\n",
       "25%      1.300000e+01\n",
       "50%      2.600000e+01\n",
       "75%      4.700000e+01\n",
       "max      9.900000e+01\n",
       "Name: max_order_per_user, dtype: float64"
      ]
     },
     "execution_count": 69,
     "metadata": {},
     "output_type": "execute_result"
    }
   ],
   "source": [
    "df['max_order_per_user'].describe()"
   ]
  },
  {
   "cell_type": "code",
   "execution_count": 70,
   "id": "376b082f-6935-4431-98ab-ef7d237dc7a8",
   "metadata": {},
   "outputs": [
    {
     "data": {
      "text/plain": [
       "<Axes: ylabel='Frequency'>"
      ]
     },
     "execution_count": 70,
     "metadata": {},
     "output_type": "execute_result"
    },
    {
     "data": {
      "image/png": "[encoded data removed]",
      "text/plain": [
       "<Figure size 640x480 with 1 Axes>"
      ]
     },
     "metadata": {},
     "output_type": "display_data"
    }
   ],
   "source": [
    "# Plot histogram\n",
    "df['max_order_per_user'].plot.hist(bins = 99)\n",
    "\n",
    "\n"
   ]
  },
  {
   "cell_type": "markdown",
   "id": "962d3822-063e-4538-b0e2-103476e53add",
   "metadata": {},
   "source": [
    "##### Observation\n",
    "- Data appears to be truncated at 99 orders"
   ]
  },
  {
   "cell_type": "code",
   "execution_count": 71,
   "id": "e014fc55-53be-4e26-957a-fe361a4f7977",
   "metadata": {},
   "outputs": [
    {
     "data": {
      "text/plain": [
       "<Axes: xlabel='max_order_per_user'>"
      ]
     },
     "execution_count": 71,
     "metadata": {},
     "output_type": "execute_result"
    },
    {
     "data": {
      "image/png": "[encoded data removed]",
      "text/plain": [
       "<Figure size 640x480 with 1 Axes>"
      ]
     },
     "metadata": {},
     "output_type": "display_data"
    }
   ],
   "source": [
    "# Plot boxplot\n",
    "sns.boxplot(x=df['max_order_per_user'])"
   ]
  },
  {
   "cell_type": "markdown",
   "id": "c9721c0e-53a3-4df0-bd0a-4d424ff2d7e6",
   "metadata": {},
   "source": [
    "### 2.4.2. activity_flag"
   ]
  },
  {
   "cell_type": "code",
   "execution_count": 72,
   "id": "a9cb8fdb-5b24-4282-99e7-87ebede8f87a",
   "metadata": {},
   "outputs": [],
   "source": [
    "# Define conditions\n",
    "conditions = [\n",
    "    df['max_order_per_user'] <= 13,\n",
    "    (df['max_order_per_user'] > 13) & (df['max_order_per_user'] <= 47), \n",
    "    df['max_order_per_user'] > 47 \n",
    "]\n",
    "\n",
    "# Define corresponding labels\n",
    "labels = ['Low Activity', 'Moderate Activity', 'High Activity']\n",
    "\n",
    "# Assign flags using np.select()\n",
    "df['activity_flag'] = np.select(conditions, labels, default = 'Unknown')\n",
    "\n",
    "# Define the desired categorical order\n",
    "activity_order = ['Low Activity', 'Moderate Activity', 'High Activity']\n",
    "\n",
    "# Convert to an ordered categorical variable\n",
    "df['activity_flag'] = pd.Categorical(df['activity_flag'], categories=activity_order, ordered=True)"
   ]
  },
  {
   "cell_type": "code",
   "execution_count": 73,
   "id": "307b2782-48d1-4f35-a243-0899d1395ec1",
   "metadata": {},
   "outputs": [
    {
     "data": {
      "text/plain": [
       "(32403719, 30)"
      ]
     },
     "execution_count": 73,
     "metadata": {},
     "output_type": "execute_result"
    }
   ],
   "source": [
    "# Dimensions\n",
    "df.shape"
   ]
  },
  {
   "cell_type": "code",
   "execution_count": 74,
   "id": "634653a9-d200-48a3-a5c7-68ebf16cc836",
   "metadata": {},
   "outputs": [
    {
     "name": "stdout",
     "output_type": "stream",
     "text": [
      "category\n"
     ]
    }
   ],
   "source": [
    "# Confirm dtype\n",
    "print(df['activity_flag'].dtype)"
   ]
  },
  {
   "cell_type": "code",
   "execution_count": 75,
   "id": "ce0301f5-73b6-4045-9dbe-3157e44bed5f",
   "metadata": {},
   "outputs": [
    {
     "data": {
      "text/plain": [
       "activity_flag\n",
       "Low Activity          8493912\n",
       "Moderate Activity    15940760\n",
       "High Activity         7969047\n",
       "Name: count, dtype: int64"
      ]
     },
     "execution_count": 75,
     "metadata": {},
     "output_type": "execute_result"
    }
   ],
   "source": [
    "# Frequency distribution of new variable\n",
    "df['activity_flag'].value_counts(dropna=False).sort_index()"
   ]
  },
  {
   "cell_type": "code",
   "execution_count": 76,
   "id": "1186ac98-9083-47cc-a5b2-750ddffd0e30",
   "metadata": {},
   "outputs": [
    {
     "data": {
      "text/plain": [
       "activity_flag\n",
       "Low Activity         131129\n",
       "Moderate Activity     63037\n",
       "High Activity         12043\n",
       "Name: user_id, dtype: int64"
      ]
     },
     "execution_count": 76,
     "metadata": {},
     "output_type": "execute_result"
    }
   ],
   "source": [
    "#Group by loyalty_flag and count the unique user_ids per flag\n",
    "df.groupby('activity_flag', observed=False)['user_id'].nunique()"
   ]
  },
  {
   "cell_type": "code",
   "execution_count": 77,
   "id": "636a3224-cfa6-4db2-96b6-c2aec8d94b50",
   "metadata": {},
   "outputs": [
    {
     "data": {
      "text/plain": [
       "<Axes: xlabel='activity_flag'>"
      ]
     },
     "execution_count": 77,
     "metadata": {},
     "output_type": "execute_result"
    },
    {
     "data": {
      "image/png": "[encoded data removed]",
      "text/plain": [
       "<Figure size 640x480 with 1 Axes>"
      ]
     },
     "metadata": {},
     "output_type": "display_data"
    }
   ],
   "source": [
    "# Create a bar chart\n",
    "df['activity_flag'].value_counts().sort_index().plot.bar()"
   ]
  },
  {
   "cell_type": "markdown",
   "id": "0e6042c4-b4b4-4ca2-8962-f6129ed4a8ad",
   "metadata": {},
   "source": [
    "### 2.4.3. avg_price_ordered_per_user"
   ]
  },
  {
   "cell_type": "code",
   "execution_count": 78,
   "id": "7f66cb78-9d1a-4468-880a-60e20e047fac",
   "metadata": {},
   "outputs": [],
   "source": [
    "# Group by 'user_id' and return the average price in a new column\n",
    "df['avg_price_ordered_per_user'] = df.groupby(['user_id'])['prices'].transform('mean')"
   ]
  },
  {
   "cell_type": "code",
   "execution_count": 79,
   "id": "0d1005c3-44c0-4116-bb17-71e9b4bda9e2",
   "metadata": {},
   "outputs": [
    {
     "data": {
      "text/plain": [
       "(32403719, 31)"
      ]
     },
     "execution_count": 79,
     "metadata": {},
     "output_type": "execute_result"
    }
   ],
   "source": [
    "# Dimensions\n",
    "df.shape"
   ]
  },
  {
   "cell_type": "code",
   "execution_count": 80,
   "id": "265117de-9b7e-44dd-b85a-ef1efdfc8fee",
   "metadata": {},
   "outputs": [
    {
     "name": "stdout",
     "output_type": "stream",
     "text": [
      "float64\n"
     ]
    }
   ],
   "source": [
    "# Confirm dtype\n",
    "print(df['avg_price_ordered_per_user'].dtype)"
   ]
  },
  {
   "cell_type": "code",
   "execution_count": 81,
   "id": "2b5a247d-a516-46bb-a11a-eb0773680c1d",
   "metadata": {},
   "outputs": [
    {
     "data": {
      "text/plain": [
       "avg_price_ordered_per_user\n",
       "1.000000     18\n",
       "1.100000     27\n",
       "1.200000      8\n",
       "1.262500      8\n",
       "1.300000     30\n",
       "             ..\n",
       "18.233333     9\n",
       "19.400000     9\n",
       "20.000000     3\n",
       "20.114286     7\n",
       "23.200000     3\n",
       "Name: count, Length: 128178, dtype: int64"
      ]
     },
     "execution_count": 81,
     "metadata": {},
     "output_type": "execute_result"
    }
   ],
   "source": [
    "# Frequency distribution of new variable\n",
    "df['avg_price_ordered_per_user'].value_counts(dropna=False).sort_index()"
   ]
  },
  {
   "cell_type": "code",
   "execution_count": 82,
   "id": "7b7ca968-437f-487c-a1e5-9aca6555cb71",
   "metadata": {},
   "outputs": [
    {
     "data": {
      "text/plain": [
       "count    3.240372e+07\n",
       "mean     7.792048e+00\n",
       "std      7.348679e-01\n",
       "min      1.000000e+00\n",
       "25%      7.379634e+00\n",
       "50%      7.813158e+00\n",
       "75%      8.230503e+00\n",
       "max      2.320000e+01\n",
       "Name: avg_price_ordered_per_user, dtype: float64"
      ]
     },
     "execution_count": 82,
     "metadata": {},
     "output_type": "execute_result"
    }
   ],
   "source": [
    "df['avg_price_ordered_per_user'].describe()"
   ]
  },
  {
   "cell_type": "code",
   "execution_count": 83,
   "id": "4c427b3d-99d0-4d2d-b2c9-f5e223b7815d",
   "metadata": {},
   "outputs": [
    {
     "data": {
      "text/plain": [
       "<Axes: ylabel='Frequency'>"
      ]
     },
     "execution_count": 83,
     "metadata": {},
     "output_type": "execute_result"
    },
    {
     "data": {
      "image/png": "[encoded data removed]",
      "text/plain": [
       "<Figure size 640x480 with 1 Axes>"
      ]
     },
     "metadata": {},
     "output_type": "display_data"
    }
   ],
   "source": [
    "# Plot histogram\n",
    "df['avg_price_ordered_per_user'].plot.hist(bins = 241)"
   ]
  },
  {
   "cell_type": "code",
   "execution_count": 84,
   "id": "9811f812-1ceb-4fb3-8d86-29ddd163bede",
   "metadata": {},
   "outputs": [
    {
     "data": {
      "text/plain": [
       "<Axes: xlabel='avg_price_ordered_per_user'>"
      ]
     },
     "execution_count": 84,
     "metadata": {},
     "output_type": "execute_result"
    },
    {
     "data": {
      "image/png": "[encoded data removed]",
      "text/plain": [
       "<Figure size 640x480 with 1 Axes>"
      ]
     },
     "metadata": {},
     "output_type": "display_data"
    }
   ],
   "source": [
    "# Plot boxplot\n",
    "sns.boxplot(x=df['avg_price_ordered_per_user'])"
   ]
  },
  {
   "cell_type": "code",
   "execution_count": 85,
   "id": "5a83bd94-d26e-4279-9c4c-9a9be3cb6dec",
   "metadata": {},
   "outputs": [
    {
     "data": {
      "text/html": [
       "<div>\n",
       "<style scoped>\n",
       "    .dataframe tbody tr th:only-of-type {\n",
       "        vertical-align: middle;\n",
       "    }\n",
       "\n",
       "    .dataframe tbody tr th {\n",
       "        vertical-align: top;\n",
       "    }\n",
       "\n",
       "    .dataframe thead th {\n",
       "        text-align: right;\n",
       "    }\n",
       "</style>\n",
       "<table border=\"1\" class=\"dataframe\">\n",
       "  <thead>\n",
       "    <tr style=\"text-align: right;\">\n",
       "      <th></th>\n",
       "      <th>prices</th>\n",
       "      <th>avg_price_ordered_per_user</th>\n",
       "    </tr>\n",
       "  </thead>\n",
       "  <tbody>\n",
       "    <tr>\n",
       "      <th>0</th>\n",
       "      <td>9.0</td>\n",
       "      <td>6.367797</td>\n",
       "    </tr>\n",
       "    <tr>\n",
       "      <th>1</th>\n",
       "      <td>12.5</td>\n",
       "      <td>6.367797</td>\n",
       "    </tr>\n",
       "    <tr>\n",
       "      <th>2</th>\n",
       "      <td>4.4</td>\n",
       "      <td>6.367797</td>\n",
       "    </tr>\n",
       "    <tr>\n",
       "      <th>3</th>\n",
       "      <td>4.7</td>\n",
       "      <td>6.367797</td>\n",
       "    </tr>\n",
       "    <tr>\n",
       "      <th>4</th>\n",
       "      <td>1.0</td>\n",
       "      <td>6.367797</td>\n",
       "    </tr>\n",
       "  </tbody>\n",
       "</table>\n",
       "</div>"
      ],
      "text/plain": [
       "   prices  avg_price_ordered_per_user\n",
       "0     9.0                    6.367797\n",
       "1    12.5                    6.367797\n",
       "2     4.4                    6.367797\n",
       "3     4.7                    6.367797\n",
       "4     1.0                    6.367797"
      ]
     },
     "execution_count": 85,
     "metadata": {},
     "output_type": "execute_result"
    }
   ],
   "source": [
    "# Filter out products priced $15 and above\n",
    "df_filtered = df[df['prices'] < 15][['prices', 'avg_price_ordered_per_user']].copy()\n",
    "\n",
    "# Display first few rows to verify\n",
    "df_filtered.head()"
   ]
  },
  {
   "cell_type": "code",
   "execution_count": 86,
   "id": "e5cd1559-28be-4837-9a93-2f532bbc6fb4",
   "metadata": {},
   "outputs": [
    {
     "name": "stdout",
     "output_type": "stream",
     "text": [
      "Q1: 7.375367647058823\n",
      "Q3: 8.225\n",
      "IQR: 0.8496323529411764\n",
      "Upper Whisker: 9.499448529411765\n"
     ]
    }
   ],
   "source": [
    "# Calculate Q1, Q3, and IQR\n",
    "Q1 = df_filtered['avg_price_ordered_per_user'].quantile(0.25)\n",
    "Q3 = df_filtered['avg_price_ordered_per_user'].quantile(0.75)\n",
    "IQR = Q3 - Q1\n",
    "\n",
    "# Calculate the Upper Whisker\n",
    "upper_whisker = Q3 + (1.5 * IQR)\n",
    "\n",
    "# Print results\n",
    "print(f\"Q1: {Q1}\")\n",
    "print(f\"Q3: {Q3}\")\n",
    "print(f\"IQR: {IQR}\")\n",
    "print(f\"Upper Whisker: {upper_whisker}\")"
   ]
  },
  {
   "cell_type": "code",
   "execution_count": 87,
   "id": "f5313c20-6810-4888-a202-5a91a711c380",
   "metadata": {},
   "outputs": [
    {
     "name": "stdout",
     "output_type": "stream",
     "text": [
      "Q1: 7.379634464751958\n",
      "Q3: 8.230503144654088\n",
      "IQR: 0.8508686799021303\n",
      "Upper Whisker: 9.506806164507283\n"
     ]
    }
   ],
   "source": [
    "# Calculate Q1, Q3, and IQR\n",
    "Q1 = df['avg_price_ordered_per_user'].quantile(0.25)\n",
    "Q3 = df['avg_price_ordered_per_user'].quantile(0.75)\n",
    "IQR = Q3 - Q1\n",
    "\n",
    "# Calculate the Upper Whisker\n",
    "upper_whisker = Q3 + (1.5 * IQR)\n",
    "\n",
    "# Print results\n",
    "print(f\"Q1: {Q1}\")\n",
    "print(f\"Q3: {Q3}\")\n",
    "print(f\"IQR: {IQR}\")\n",
    "print(f\"Upper Whisker: {upper_whisker}\")"
   ]
  },
  {
   "cell_type": "markdown",
   "id": "205bdce9-40a9-4c5b-944c-a2a75de76fde",
   "metadata": {},
   "source": [
    "### 2.4.4. spending_flag"
   ]
  },
  {
   "cell_type": "code",
   "execution_count": 88,
   "id": "271d557a-b4f5-4eea-b84b-60120f379b71",
   "metadata": {},
   "outputs": [],
   "source": [
    "# Define conditions (using price_label categories)\n",
    "conditions = [\n",
    "    df['avg_price_ordered_per_user'] <= 7.38,\n",
    "    (df['avg_price_ordered_per_user'] > 7.38) & (df['avg_price_ordered_per_user'] <= 8.23),\n",
    "    (df['avg_price_ordered_per_user'] > 8.23) & (df['avg_price_ordered_per_user'] <= 9.49),\n",
    "    df['avg_price_ordered_per_user'] > 9.49\n",
    "]\n",
    "# Define corresponding labels\n",
    "labels = ['Low Spender', \n",
    "          'Moderate Spender', \n",
    "          'High Spender',\n",
    "          'Premium Spender']\n",
    "\n",
    "# Assign flags using np.select()\n",
    "df['spending_flag'] = np.select(conditions, labels, default = 'Unknown')\n",
    "\n",
    "# Define the desired categorical order\n",
    "spending_order = ['Low Spender', \n",
    "          'Moderate Spender', \n",
    "          'High Spender',\n",
    "          'Premium Spender']\n",
    "\n",
    "# Convert to an ordered categorical variable\n",
    "df['spending_flag'] = pd.Categorical(df['spending_flag'], categories=spending_order, ordered=True)"
   ]
  },
  {
   "cell_type": "code",
   "execution_count": 89,
   "id": "681e6e90-5da1-404c-9dbe-db2e9d709295",
   "metadata": {},
   "outputs": [
    {
     "data": {
      "text/plain": [
       "(32403719, 32)"
      ]
     },
     "execution_count": 89,
     "metadata": {},
     "output_type": "execute_result"
    }
   ],
   "source": [
    "# Dimensions\n",
    "df.shape"
   ]
  },
  {
   "cell_type": "code",
   "execution_count": 90,
   "id": "50d90bde-12c4-4751-bc63-a709cb54b50a",
   "metadata": {},
   "outputs": [
    {
     "name": "stdout",
     "output_type": "stream",
     "text": [
      "category\n"
     ]
    }
   ],
   "source": [
    "# Confirm dtype\n",
    "print(df['spending_flag'].dtype)"
   ]
  },
  {
   "cell_type": "code",
   "execution_count": 91,
   "id": "017690e0-7057-48d2-930d-22ba6fd5cc7e",
   "metadata": {},
   "outputs": [
    {
     "data": {
      "text/plain": [
       "spending_flag\n",
       "Low Spender          8104957\n",
       "Moderate Spender    16189803\n",
       "High Spender         7723577\n",
       "Premium Spender       385382\n",
       "Name: count, dtype: int64"
      ]
     },
     "execution_count": 91,
     "metadata": {},
     "output_type": "execute_result"
    }
   ],
   "source": [
    "# Frequency distribution of new variable\n",
    "df['spending_flag'].value_counts(dropna=False).sort_index()"
   ]
  },
  {
   "cell_type": "code",
   "execution_count": 92,
   "id": "3669bdb4-a71a-4d59-8223-12bea6ad3187",
   "metadata": {},
   "outputs": [
    {
     "data": {
      "text/plain": [
       "spending_flag\n",
       "Low Spender         63734\n",
       "Moderate Spender    82508\n",
       "High Spender        52549\n",
       "Premium Spender      7418\n",
       "Name: user_id, dtype: int64"
      ]
     },
     "execution_count": 92,
     "metadata": {},
     "output_type": "execute_result"
    }
   ],
   "source": [
    "#Group by loyalty_flag and count the unique user_ids per flag\n",
    "df.groupby('spending_flag', observed=False)['user_id'].nunique()"
   ]
  },
  {
   "cell_type": "code",
   "execution_count": 93,
   "id": "3f91a452-e79a-4d00-bac4-5a4074ed516d",
   "metadata": {},
   "outputs": [
    {
     "data": {
      "text/plain": [
       "<Axes: xlabel='spending_flag'>"
      ]
     },
     "execution_count": 93,
     "metadata": {},
     "output_type": "execute_result"
    },
    {
     "data": {
      "image/png": "[encoded data removed]",
      "text/plain": [
       "<Figure size 640x480 with 1 Axes>"
      ]
     },
     "metadata": {},
     "output_type": "display_data"
    }
   ],
   "source": [
    "# Create a bar chart\n",
    "df['spending_flag'].value_counts().sort_index().plot.bar()"
   ]
  },
  {
   "cell_type": "markdown",
   "id": "fea21dcf-9cfa-457d-8c18-628d006a0968",
   "metadata": {},
   "source": [
    "### 2.4.5. median_days_since_last_order"
   ]
  },
  {
   "cell_type": "code",
   "execution_count": 94,
   "id": "2da08886-a555-4397-b835-6aa7d163c4c6",
   "metadata": {},
   "outputs": [],
   "source": [
    "# Group by 'user_id' and return the mean of days since last order\n",
    "df['median_days_since_last_order'] = df.groupby(['user_id'])['days_since_last_order'].transform('median')"
   ]
  },
  {
   "cell_type": "code",
   "execution_count": 95,
   "id": "6e349f77-f7ef-45e4-8e38-756b9019c863",
   "metadata": {},
   "outputs": [
    {
     "data": {
      "text/plain": [
       "(32403719, 33)"
      ]
     },
     "execution_count": 95,
     "metadata": {},
     "output_type": "execute_result"
    }
   ],
   "source": [
    "# Dimensions\n",
    "df.shape"
   ]
  },
  {
   "cell_type": "code",
   "execution_count": 96,
   "id": "b95932a0-1615-411d-91cd-ea1513e77cbd",
   "metadata": {},
   "outputs": [
    {
     "name": "stdout",
     "output_type": "stream",
     "text": [
      "float64\n"
     ]
    }
   ],
   "source": [
    "# Confirm dtype\n",
    "print(df['median_days_since_last_order'].dtype)"
   ]
  },
  {
   "cell_type": "code",
   "execution_count": 97,
   "id": "acde11c6-ee8d-4f3a-9108-1f0f65e49da0",
   "metadata": {},
   "outputs": [
    {
     "data": {
      "text/plain": [
       "median_days_since_last_order\n",
       "0.0       34240\n",
       "0.5         235\n",
       "1.0      152114\n",
       "1.5        1684\n",
       "2.0      561162\n",
       "         ...   \n",
       "28.5       6491\n",
       "29.0     136905\n",
       "29.5       5095\n",
       "30.0    1683797\n",
       "NaN           5\n",
       "Name: count, Length: 62, dtype: int64"
      ]
     },
     "execution_count": 97,
     "metadata": {},
     "output_type": "execute_result"
    }
   ],
   "source": [
    "# Frequency distribution of new variable\n",
    "df['median_days_since_last_order'].value_counts(dropna=False).sort_index()"
   ]
  },
  {
   "cell_type": "code",
   "execution_count": 98,
   "id": "2a9b234d-531d-465a-8a7f-c18fab7f0bc7",
   "metadata": {},
   "outputs": [
    {
     "data": {
      "text/html": [
       "<div>\n",
       "<style scoped>\n",
       "    .dataframe tbody tr th:only-of-type {\n",
       "        vertical-align: middle;\n",
       "    }\n",
       "\n",
       "    .dataframe tbody tr th {\n",
       "        vertical-align: top;\n",
       "    }\n",
       "\n",
       "    .dataframe thead th {\n",
       "        text-align: right;\n",
       "    }\n",
       "</style>\n",
       "<table border=\"1\" class=\"dataframe\">\n",
       "  <thead>\n",
       "    <tr style=\"text-align: right;\">\n",
       "      <th></th>\n",
       "      <th>order_id</th>\n",
       "      <th>user_id</th>\n",
       "      <th>user_order_count</th>\n",
       "      <th>order_day_of_week</th>\n",
       "      <th>order_hour_of_day</th>\n",
       "      <th>days_since_last_order</th>\n",
       "      <th>is_first_order</th>\n",
       "      <th>product_id</th>\n",
       "      <th>add_to_cart_order</th>\n",
       "      <th>reordered</th>\n",
       "      <th>...</th>\n",
       "      <th>busiest_hours</th>\n",
       "      <th>order_hour_of_day_week</th>\n",
       "      <th>price_label</th>\n",
       "      <th>high_price_days</th>\n",
       "      <th>product_category</th>\n",
       "      <th>max_order_per_user</th>\n",
       "      <th>activity_flag</th>\n",
       "      <th>avg_price_ordered_per_user</th>\n",
       "      <th>spending_flag</th>\n",
       "      <th>median_days_since_last_order</th>\n",
       "    </tr>\n",
       "  </thead>\n",
       "  <tbody>\n",
       "    <tr>\n",
       "      <th>25156010</th>\n",
       "      <td>895835</td>\n",
       "      <td>159838</td>\n",
       "      <td>1</td>\n",
       "      <td>Saturday</td>\n",
       "      <td>17</td>\n",
       "      <td>NaN</td>\n",
       "      <td>True</td>\n",
       "      <td>22198</td>\n",
       "      <td>1</td>\n",
       "      <td>0</td>\n",
       "      <td>...</td>\n",
       "      <td>Moderately Busy Hours</td>\n",
       "      <td>Saturday - 17</td>\n",
       "      <td>Low Price</td>\n",
       "      <td>Fri &amp; Sat</td>\n",
       "      <td>household</td>\n",
       "      <td>1</td>\n",
       "      <td>Low Activity</td>\n",
       "      <td>7.42</td>\n",
       "      <td>Moderate Spender</td>\n",
       "      <td>NaN</td>\n",
       "    </tr>\n",
       "    <tr>\n",
       "      <th>25156011</th>\n",
       "      <td>895835</td>\n",
       "      <td>159838</td>\n",
       "      <td>1</td>\n",
       "      <td>Saturday</td>\n",
       "      <td>17</td>\n",
       "      <td>NaN</td>\n",
       "      <td>True</td>\n",
       "      <td>23695</td>\n",
       "      <td>2</td>\n",
       "      <td>0</td>\n",
       "      <td>...</td>\n",
       "      <td>Moderately Busy Hours</td>\n",
       "      <td>Saturday - 17</td>\n",
       "      <td>Mid Price</td>\n",
       "      <td>Fri &amp; Sat</td>\n",
       "      <td>non-perishables</td>\n",
       "      <td>1</td>\n",
       "      <td>Low Activity</td>\n",
       "      <td>7.42</td>\n",
       "      <td>Moderate Spender</td>\n",
       "      <td>NaN</td>\n",
       "    </tr>\n",
       "    <tr>\n",
       "      <th>25156012</th>\n",
       "      <td>895835</td>\n",
       "      <td>159838</td>\n",
       "      <td>1</td>\n",
       "      <td>Saturday</td>\n",
       "      <td>17</td>\n",
       "      <td>NaN</td>\n",
       "      <td>True</td>\n",
       "      <td>10749</td>\n",
       "      <td>3</td>\n",
       "      <td>0</td>\n",
       "      <td>...</td>\n",
       "      <td>Moderately Busy Hours</td>\n",
       "      <td>Saturday - 17</td>\n",
       "      <td>Mid Price</td>\n",
       "      <td>Fri &amp; Sat</td>\n",
       "      <td>perishables</td>\n",
       "      <td>1</td>\n",
       "      <td>Low Activity</td>\n",
       "      <td>7.42</td>\n",
       "      <td>Moderate Spender</td>\n",
       "      <td>NaN</td>\n",
       "    </tr>\n",
       "    <tr>\n",
       "      <th>25156013</th>\n",
       "      <td>895835</td>\n",
       "      <td>159838</td>\n",
       "      <td>1</td>\n",
       "      <td>Saturday</td>\n",
       "      <td>17</td>\n",
       "      <td>NaN</td>\n",
       "      <td>True</td>\n",
       "      <td>21334</td>\n",
       "      <td>5</td>\n",
       "      <td>0</td>\n",
       "      <td>...</td>\n",
       "      <td>Moderately Busy Hours</td>\n",
       "      <td>Saturday - 17</td>\n",
       "      <td>Mid Price</td>\n",
       "      <td>Fri &amp; Sat</td>\n",
       "      <td>perishables</td>\n",
       "      <td>1</td>\n",
       "      <td>Low Activity</td>\n",
       "      <td>7.42</td>\n",
       "      <td>Moderate Spender</td>\n",
       "      <td>NaN</td>\n",
       "    </tr>\n",
       "    <tr>\n",
       "      <th>25156014</th>\n",
       "      <td>895835</td>\n",
       "      <td>159838</td>\n",
       "      <td>1</td>\n",
       "      <td>Saturday</td>\n",
       "      <td>17</td>\n",
       "      <td>NaN</td>\n",
       "      <td>True</td>\n",
       "      <td>33401</td>\n",
       "      <td>6</td>\n",
       "      <td>0</td>\n",
       "      <td>...</td>\n",
       "      <td>Moderately Busy Hours</td>\n",
       "      <td>Saturday - 17</td>\n",
       "      <td>High Price</td>\n",
       "      <td>Fri &amp; Sat</td>\n",
       "      <td>perishables</td>\n",
       "      <td>1</td>\n",
       "      <td>Low Activity</td>\n",
       "      <td>7.42</td>\n",
       "      <td>Moderate Spender</td>\n",
       "      <td>NaN</td>\n",
       "    </tr>\n",
       "  </tbody>\n",
       "</table>\n",
       "<p>5 rows × 33 columns</p>\n",
       "</div>"
      ],
      "text/plain": [
       "          order_id  user_id  user_order_count order_day_of_week  \\\n",
       "25156010    895835   159838                 1          Saturday   \n",
       "25156011    895835   159838                 1          Saturday   \n",
       "25156012    895835   159838                 1          Saturday   \n",
       "25156013    895835   159838                 1          Saturday   \n",
       "25156014    895835   159838                 1          Saturday   \n",
       "\n",
       "         order_hour_of_day  days_since_last_order  is_first_order  product_id  \\\n",
       "25156010                17                    NaN            True       22198   \n",
       "25156011                17                    NaN            True       23695   \n",
       "25156012                17                    NaN            True       10749   \n",
       "25156013                17                    NaN            True       21334   \n",
       "25156014                17                    NaN            True       33401   \n",
       "\n",
       "          add_to_cart_order  reordered  ...          busiest_hours  \\\n",
       "25156010                  1          0  ...  Moderately Busy Hours   \n",
       "25156011                  2          0  ...  Moderately Busy Hours   \n",
       "25156012                  3          0  ...  Moderately Busy Hours   \n",
       "25156013                  5          0  ...  Moderately Busy Hours   \n",
       "25156014                  6          0  ...  Moderately Busy Hours   \n",
       "\n",
       "          order_hour_of_day_week  price_label  high_price_days  \\\n",
       "25156010           Saturday - 17    Low Price        Fri & Sat   \n",
       "25156011           Saturday - 17    Mid Price        Fri & Sat   \n",
       "25156012           Saturday - 17    Mid Price        Fri & Sat   \n",
       "25156013           Saturday - 17    Mid Price        Fri & Sat   \n",
       "25156014           Saturday - 17   High Price        Fri & Sat   \n",
       "\n",
       "         product_category max_order_per_user  activity_flag  \\\n",
       "25156010        household                  1   Low Activity   \n",
       "25156011  non-perishables                  1   Low Activity   \n",
       "25156012      perishables                  1   Low Activity   \n",
       "25156013      perishables                  1   Low Activity   \n",
       "25156014      perishables                  1   Low Activity   \n",
       "\n",
       "         avg_price_ordered_per_user     spending_flag  \\\n",
       "25156010                       7.42  Moderate Spender   \n",
       "25156011                       7.42  Moderate Spender   \n",
       "25156012                       7.42  Moderate Spender   \n",
       "25156013                       7.42  Moderate Spender   \n",
       "25156014                       7.42  Moderate Spender   \n",
       "\n",
       "         median_days_since_last_order  \n",
       "25156010                          NaN  \n",
       "25156011                          NaN  \n",
       "25156012                          NaN  \n",
       "25156013                          NaN  \n",
       "25156014                          NaN  \n",
       "\n",
       "[5 rows x 33 columns]"
      ]
     },
     "execution_count": 98,
     "metadata": {},
     "output_type": "execute_result"
    }
   ],
   "source": [
    "#Variable includes 5 NaN values where days_since_last-order is Nan - Include under Rare Shopper\n",
    "df_nan = df[df['median_days_since_last_order'].isna()]\n",
    "df_nan"
   ]
  },
  {
   "cell_type": "code",
   "execution_count": 99,
   "id": "8bab5513-d66c-47a4-a575-5950cfe8b002",
   "metadata": {},
   "outputs": [
    {
     "data": {
      "text/plain": [
       "count    3.240371e+07\n",
       "mean     1.039772e+01\n",
       "std      7.131751e+00\n",
       "min      0.000000e+00\n",
       "25%      6.000000e+00\n",
       "50%      8.000000e+00\n",
       "75%      1.300000e+01\n",
       "max      3.000000e+01\n",
       "Name: median_days_since_last_order, dtype: float64"
      ]
     },
     "execution_count": 99,
     "metadata": {},
     "output_type": "execute_result"
    }
   ],
   "source": [
    "df['median_days_since_last_order'].describe()"
   ]
  },
  {
   "cell_type": "code",
   "execution_count": 100,
   "id": "03b1cef1-83a4-472e-895f-56ac309521d5",
   "metadata": {},
   "outputs": [
    {
     "data": {
      "text/plain": [
       "<Axes: ylabel='Frequency'>"
      ]
     },
     "execution_count": 100,
     "metadata": {},
     "output_type": "execute_result"
    },
    {
     "data": {
      "image/png": "[encoded data removed]",
      "text/plain": [
       "<Figure size 640x480 with 1 Axes>"
      ]
     },
     "metadata": {},
     "output_type": "display_data"
    }
   ],
   "source": [
    "# Plot histogram\n",
    "df['median_days_since_last_order'].plot.hist(bins = 30)"
   ]
  },
  {
   "cell_type": "code",
   "execution_count": 101,
   "id": "30a71398-3158-416f-bfee-cc746d84c155",
   "metadata": {},
   "outputs": [
    {
     "data": {
      "text/plain": [
       "<Axes: xlabel='median_days_since_last_order'>"
      ]
     },
     "execution_count": 101,
     "metadata": {},
     "output_type": "execute_result"
    },
    {
     "data": {
      "image/png": "[encoded data removed]",
      "text/plain": [
       "<Figure size 640x480 with 1 Axes>"
      ]
     },
     "metadata": {},
     "output_type": "display_data"
    }
   ],
   "source": [
    "# Plot boxplot\n",
    "sns.boxplot(x=df['median_days_since_last_order'])"
   ]
  },
  {
   "cell_type": "code",
   "execution_count": 102,
   "id": "48ba4972-4874-494d-84c1-225882dd9a1e",
   "metadata": {},
   "outputs": [
    {
     "name": "stdout",
     "output_type": "stream",
     "text": [
      "99\n"
     ]
    }
   ],
   "source": [
    "print(df['max_order_per_user'].nunique())  # Should be > 1"
   ]
  },
  {
   "cell_type": "markdown",
   "id": "bdbe99fa-288e-402b-aa29-b8717ff935b2",
   "metadata": {},
   "source": [
    "### 2.4.6. frequency_flag"
   ]
  },
  {
   "cell_type": "code",
   "execution_count": 103,
   "id": "6f821b40-84d6-4f8e-8cd4-48072d0e9980",
   "metadata": {},
   "outputs": [],
   "source": [
    "# Define conditions\n",
    "conditions = [\n",
    "    df['median_days_since_last_order'] <= 6,\n",
    "    (df['median_days_since_last_order'] > 6) & (df['median_days_since_last_order'] <= 13),\n",
    "    df['median_days_since_last_order'] > 13,\n",
    "    df['median_days_since_last_order'].isna()\n",
    "]\n",
    "\n",
    "# Define corresponding labels\n",
    "labels = ['Frequent Shopper', 'Occasional Shopper', 'Rare Shopper',  'Rare Shopper']\n",
    "\n",
    "# Assign loyalty flags using np.select()\n",
    "df['frequency_flag'] = np.select(conditions, labels, default = 'Unknown')\n",
    "\n",
    "# Define the desired categorical order\n",
    "frequency_order = ['Rare Shopper', 'Occasional Shopper', 'Frequent Shopper']\n",
    "\n",
    "# Convert to an ordered categorical variable\n",
    "df['frequency_flag'] = pd.Categorical(df['frequency_flag'], categories=frequency_order, ordered=True)"
   ]
  },
  {
   "cell_type": "code",
   "execution_count": 104,
   "id": "a6dd0a13-018c-48b9-830e-4b24b53b9eb4",
   "metadata": {},
   "outputs": [
    {
     "data": {
      "text/plain": [
       "(32403719, 34)"
      ]
     },
     "execution_count": 104,
     "metadata": {},
     "output_type": "execute_result"
    }
   ],
   "source": [
    "# Dimensions\n",
    "df.shape"
   ]
  },
  {
   "cell_type": "code",
   "execution_count": 105,
   "id": "56bb971e-1833-42d8-8e9f-4a754bd3494e",
   "metadata": {},
   "outputs": [
    {
     "name": "stdout",
     "output_type": "stream",
     "text": [
      "category\n"
     ]
    }
   ],
   "source": [
    "# Confirm dtype\n",
    "print(df['frequency_flag'].dtype)"
   ]
  },
  {
   "cell_type": "code",
   "execution_count": 106,
   "id": "2c1f7c18-dafa-48aa-beac-61e6997f0a10",
   "metadata": {},
   "outputs": [
    {
     "data": {
      "text/plain": [
       "frequency_flag\n",
       "Rare Shopper           7689526\n",
       "Occasional Shopper    14622992\n",
       "Frequent Shopper      10091201\n",
       "Name: count, dtype: int64"
      ]
     },
     "execution_count": 106,
     "metadata": {},
     "output_type": "execute_result"
    }
   ],
   "source": [
    "# Frequency distribution of new variable\n",
    "df['frequency_flag'].value_counts(dropna=False).sort_index()"
   ]
  },
  {
   "cell_type": "code",
   "execution_count": 107,
   "id": "647906c4-cb96-4397-90a8-0c7c1fb2672e",
   "metadata": {},
   "outputs": [
    {
     "data": {
      "text/plain": [
       "frequency_flag\n",
       "Rare Shopper          97169\n",
       "Occasional Shopper    75152\n",
       "Frequent Shopper      33888\n",
       "Name: user_id, dtype: int64"
      ]
     },
     "execution_count": 107,
     "metadata": {},
     "output_type": "execute_result"
    }
   ],
   "source": [
    "#Group by loyalty_flag and count the unique user_ids per flag\n",
    "df.groupby('frequency_flag', observed=False)['user_id'].nunique()"
   ]
  },
  {
   "cell_type": "code",
   "execution_count": 108,
   "id": "07aae41f-a20e-4347-a209-693f633bded2",
   "metadata": {},
   "outputs": [
    {
     "data": {
      "text/plain": [
       "<Axes: xlabel='frequency_flag'>"
      ]
     },
     "execution_count": 108,
     "metadata": {},
     "output_type": "execute_result"
    },
    {
     "data": {
      "image/png": "[encoded data removed]",
      "text/plain": [
       "<Figure size 640x480 with 1 Axes>"
      ]
     },
     "metadata": {},
     "output_type": "display_data"
    }
   ],
   "source": [
    "# Create a bar chart\n",
    "df['frequency_flag'].value_counts().sort_index().plot.bar()"
   ]
  },
  {
   "cell_type": "markdown",
   "id": "f454d819-cd6b-4d62-b7f2-52625adc6add",
   "metadata": {},
   "source": [
    "### 2.4.7. loyalty_score"
   ]
  },
  {
   "cell_type": "code",
   "execution_count": 109,
   "id": "c3d3f7e9-ff59-47e4-a66b-b5db3897992e",
   "metadata": {},
   "outputs": [],
   "source": [
    "# Define mapping of flags to numerical scores\n",
    "spending_mapping = {'Low Spender': 1, 'Moderate Spender': 2, 'High Spender': 3, 'Premium Spender': 4}\n",
    "activity_mapping = {'Low Activity': 1, 'Moderate Activity': 2, 'High Activity': 3}\n",
    "frequency_mapping = {'Rare Shopper': 1, 'Occasional Shopper': 2, 'Frequent Shopper': 3}\n",
    "\n",
    "# Map the categorical flags to numerical scores\n",
    "df['spending_score'] = df['spending_flag'].map(spending_mapping)\n",
    "df['activity_score'] = df['activity_flag'].map(activity_mapping)\n",
    "df['frequency_score'] = df['frequency_flag'].map(frequency_mapping)\n",
    "\n",
    "# Calculate the Total Loyalty Score\n",
    "df['loyalty_score'] = (\n",
    "    df['spending_score'].astype(float) +\n",
    "    df['activity_score'].astype(float) +\n",
    "    df['frequency_score'].astype(float)\n",
    ")"
   ]
  },
  {
   "cell_type": "code",
   "execution_count": 110,
   "id": "cfe4fdcb-7ed5-4420-bee1-e1e280735f5b",
   "metadata": {},
   "outputs": [
    {
     "data": {
      "text/plain": [
       "(32403719, 38)"
      ]
     },
     "execution_count": 110,
     "metadata": {},
     "output_type": "execute_result"
    }
   ],
   "source": [
    "# Dimensions\n",
    "df.shape"
   ]
  },
  {
   "cell_type": "code",
   "execution_count": 111,
   "id": "7a497ca6-41b7-424d-acb3-17feddf17f20",
   "metadata": {},
   "outputs": [
    {
     "data": {
      "text/plain": [
       "spending_score\n",
       "1     8104957\n",
       "2    16189803\n",
       "3     7723577\n",
       "4      385382\n",
       "Name: count, dtype: int64"
      ]
     },
     "execution_count": 111,
     "metadata": {},
     "output_type": "execute_result"
    }
   ],
   "source": [
    "# Frequency distribution of new variable\n",
    "df['spending_score'].value_counts(dropna=False).sort_index()"
   ]
  },
  {
   "cell_type": "code",
   "execution_count": 112,
   "id": "ba640746-2809-467b-9bd3-381569e610a3",
   "metadata": {},
   "outputs": [
    {
     "data": {
      "text/plain": [
       "activity_score\n",
       "1     8493912\n",
       "2    15940760\n",
       "3     7969047\n",
       "Name: count, dtype: int64"
      ]
     },
     "execution_count": 112,
     "metadata": {},
     "output_type": "execute_result"
    }
   ],
   "source": [
    "# Frequency distribution of new variable\n",
    "df['activity_score'].value_counts(dropna=False).sort_index()"
   ]
  },
  {
   "cell_type": "code",
   "execution_count": 113,
   "id": "39ea4bb5-53ec-4b65-97b2-09a7a0f4f9c1",
   "metadata": {},
   "outputs": [
    {
     "data": {
      "text/plain": [
       "frequency_score\n",
       "1     7689526\n",
       "2    14622992\n",
       "3    10091201\n",
       "Name: count, dtype: int64"
      ]
     },
     "execution_count": 113,
     "metadata": {},
     "output_type": "execute_result"
    }
   ],
   "source": [
    "# Frequency distribution of new variable\n",
    "df['frequency_score'].value_counts(dropna=False).sort_index()"
   ]
  },
  {
   "cell_type": "code",
   "execution_count": 114,
   "id": "da0ffb3a-0e39-416a-b3bd-2099dcf3da45",
   "metadata": {},
   "outputs": [
    {
     "data": {
      "text/plain": [
       "loyalty_score\n",
       "3.0     1463533\n",
       "4.0     3605795\n",
       "5.0     6446647\n",
       "6.0     8316431\n",
       "7.0     6391494\n",
       "8.0     4648535\n",
       "9.0     1498670\n",
       "10.0      32614\n",
       "Name: count, dtype: int64"
      ]
     },
     "execution_count": 114,
     "metadata": {},
     "output_type": "execute_result"
    }
   ],
   "source": [
    "# Frequency distribution of new variable\n",
    "df['loyalty_score'].value_counts(dropna=False).sort_index()"
   ]
  },
  {
   "cell_type": "code",
   "execution_count": 115,
   "id": "1000f19e-1ed3-478e-8cfc-abd5fbd96ad5",
   "metadata": {},
   "outputs": [
    {
     "data": {
      "text/plain": [
       "count    3.240372e+07\n",
       "mean     6.069936e+00\n",
       "std      1.499694e+00\n",
       "min      3.000000e+00\n",
       "25%      5.000000e+00\n",
       "50%      6.000000e+00\n",
       "75%      7.000000e+00\n",
       "max      1.000000e+01\n",
       "Name: loyalty_score, dtype: float64"
      ]
     },
     "execution_count": 115,
     "metadata": {},
     "output_type": "execute_result"
    }
   ],
   "source": [
    "df['loyalty_score'].describe()"
   ]
  },
  {
   "cell_type": "code",
   "execution_count": 116,
   "id": "de971efc-2bb3-4e81-9f14-62412e525f09",
   "metadata": {},
   "outputs": [
    {
     "data": {
      "text/plain": [
       "<Axes: ylabel='Frequency'>"
      ]
     },
     "execution_count": 116,
     "metadata": {},
     "output_type": "execute_result"
    },
    {
     "data": {
      "image/png": "[encoded data removed]",
      "text/plain": [
       "<Figure size 640x480 with 1 Axes>"
      ]
     },
     "metadata": {},
     "output_type": "display_data"
    }
   ],
   "source": [
    "# Plot histogram\n",
    "df['loyalty_score'].plot.hist(bins = 241)"
   ]
  },
  {
   "cell_type": "code",
   "execution_count": 117,
   "id": "4b90cc0f-182a-489c-84ea-2fb948ee5e37",
   "metadata": {},
   "outputs": [
    {
     "data": {
      "text/plain": [
       "<Axes: xlabel='loyalty_score'>"
      ]
     },
     "execution_count": 117,
     "metadata": {},
     "output_type": "execute_result"
    },
    {
     "data": {
      "image/png": "[encoded data removed]",
      "text/plain": [
       "<Figure size 640x480 with 1 Axes>"
      ]
     },
     "metadata": {},
     "output_type": "display_data"
    }
   ],
   "source": [
    "# Plot boxplot\n",
    "sns.boxplot(x=df['loyalty_score'])"
   ]
  },
  {
   "cell_type": "markdown",
   "id": "0e0c6887-9230-4413-a4ee-ee38681bc581",
   "metadata": {},
   "source": [
    "### 2.4.8. loyalty_flag"
   ]
  },
  {
   "cell_type": "code",
   "execution_count": 118,
   "id": "338a3b16-6552-434f-b4e3-857daeb61d9c",
   "metadata": {},
   "outputs": [],
   "source": [
    "# Define conditions for loyalty categories\n",
    "conditions = [\n",
    "    (df['loyalty_score'] <= 5),\n",
    "    (df['loyalty_score'] > 5) & (df['loyalty_score'] <= 7),\n",
    "    (df['loyalty_score'] > 7)\n",
    "]\n",
    "\n",
    "# Define corresponding loyalty categories\n",
    "labels = ['Low Loyalty', 'Moderate Loyalty', 'High Loyalty']\n",
    "\n",
    "# Assign loyalty categories based on conditions\n",
    "df['loyalty_flag'] = np.select(conditions, labels, default = 'Unknown')\n",
    "\n",
    "# Define the desired categorical order\n",
    "loyalty_order = ['Low Loyalty', 'Moderate Loyalty', 'High Loyalty']\n",
    "\n",
    "# Convert to an ordered categorical variable\n",
    "df['loyalty_flag'] = pd.Categorical(df['loyalty_flag'], categories=loyalty_order, ordered=True)"
   ]
  },
  {
   "cell_type": "code",
   "execution_count": 119,
   "id": "c91bf357-806d-45c9-b43b-4a3791433191",
   "metadata": {},
   "outputs": [
    {
     "data": {
      "text/plain": [
       "(32403719, 39)"
      ]
     },
     "execution_count": 119,
     "metadata": {},
     "output_type": "execute_result"
    }
   ],
   "source": [
    "# Dimensions\n",
    "df.shape"
   ]
  },
  {
   "cell_type": "code",
   "execution_count": 120,
   "id": "a3e7d256-296a-46ee-a831-c1ebf44692b7",
   "metadata": {},
   "outputs": [
    {
     "name": "stdout",
     "output_type": "stream",
     "text": [
      "category\n"
     ]
    }
   ],
   "source": [
    "# Confirm dtype\n",
    "print(df['loyalty_flag'].dtype)"
   ]
  },
  {
   "cell_type": "code",
   "execution_count": 121,
   "id": "376cc980-cd7f-4638-9cbb-b40351b2a636",
   "metadata": {},
   "outputs": [
    {
     "data": {
      "text/plain": [
       "loyalty_flag\n",
       "Low Loyalty         11515975\n",
       "Moderate Loyalty    14707925\n",
       "High Loyalty         6179819\n",
       "Name: count, dtype: int64"
      ]
     },
     "execution_count": 121,
     "metadata": {},
     "output_type": "execute_result"
    }
   ],
   "source": [
    "# Frequency distribution of new variable\n",
    "df['loyalty_flag'].value_counts(dropna=False).sort_index()"
   ]
  },
  {
   "cell_type": "code",
   "execution_count": 122,
   "id": "17618b9e-c8ae-4863-a2d4-b2903e953a94",
   "metadata": {},
   "outputs": [
    {
     "data": {
      "text/plain": [
       "loyalty_flag\n",
       "Low Loyalty         128224\n",
       "Moderate Loyalty     65781\n",
       "High Loyalty         12204\n",
       "Name: user_id, dtype: int64"
      ]
     },
     "execution_count": 122,
     "metadata": {},
     "output_type": "execute_result"
    }
   ],
   "source": [
    "#Group by loyalty_flag and count the unique user_ids per flag\n",
    "df.groupby('loyalty_flag', observed=False)['user_id'].nunique()"
   ]
  },
  {
   "cell_type": "code",
   "execution_count": 123,
   "id": "1c58ca05-9649-4dbd-99ac-76f659d9818c",
   "metadata": {},
   "outputs": [
    {
     "data": {
      "text/plain": [
       "<Axes: xlabel='loyalty_flag'>"
      ]
     },
     "execution_count": 123,
     "metadata": {},
     "output_type": "execute_result"
    },
    {
     "data": {
      "image/png": "[encoded data removed]",
      "text/plain": [
       "<Figure size 640x480 with 1 Axes>"
      ]
     },
     "metadata": {},
     "output_type": "display_data"
    }
   ],
   "source": [
    "# Create a bar chart\n",
    "df['loyalty_flag'].value_counts().sort_index().plot.bar()"
   ]
  },
  {
   "cell_type": "markdown",
   "id": "1383cf53-898e-4301-a955-76c8ad2c6e2d",
   "metadata": {},
   "source": [
    "## 2.5. Segmentation"
   ]
  },
  {
   "cell_type": "markdown",
   "id": "e330d874-4ef2-48eb-b866-fffe5208c887",
   "metadata": {},
   "source": [
    "### 2.5.1. region"
   ]
  },
  {
   "cell_type": "code",
   "execution_count": 124,
   "id": "ed3a4dab-0236-4bc5-9d31-9577a0d0c4dc",
   "metadata": {},
   "outputs": [
    {
     "data": {
      "text/plain": [
       "state\n",
       "Alabama                 637971\n",
       "Alaska                  648487\n",
       "Arizona                 653930\n",
       "Arkansas                636136\n",
       "California              659765\n",
       "Colorado                639260\n",
       "Connecticut             622998\n",
       "Delaware                637000\n",
       "District of Columbia    613685\n",
       "Florida                 629023\n",
       "Georgia                 656373\n",
       "Hawaii                  632887\n",
       "Idaho                   607091\n",
       "Illinois                632998\n",
       "Indiana                 627258\n",
       "Iowa                    625475\n",
       "Kansas                  637516\n",
       "Kentucky                632484\n",
       "Louisiana               637466\n",
       "Maine                   638559\n",
       "Maryland                626555\n",
       "Massachusetts           646352\n",
       "Michigan                630918\n",
       "Minnesota               647791\n",
       "Mississippi             632637\n",
       "Missouri                640706\n",
       "Montana                 635241\n",
       "Nebraska                625771\n",
       "Nevada                  636117\n",
       "New Hampshire           615366\n",
       "New Jersey              627644\n",
       "New Mexico              654478\n",
       "New York                635965\n",
       "North Carolina          651886\n",
       "North Dakota            638473\n",
       "Ohio                    628285\n",
       "Oklahoma                651701\n",
       "Oregon                  636403\n",
       "Pennsylvania            667062\n",
       "Rhode Island            656891\n",
       "South Carolina          636708\n",
       "South Dakota            633754\n",
       "Tennessee               617835\n",
       "Texas                   640366\n",
       "Utah                    611913\n",
       "Vermont                 611713\n",
       "Virginia                641409\n",
       "Washington              632826\n",
       "West Virginia           612278\n",
       "Wisconsin               628070\n",
       "Wyoming                 644243\n",
       "Name: count, dtype: int64"
      ]
     },
     "execution_count": 124,
     "metadata": {},
     "output_type": "execute_result"
    }
   ],
   "source": [
    "# Frequency distribution of the variable \n",
    "df['state'].value_counts().sort_index()"
   ]
  },
  {
   "cell_type": "code",
   "execution_count": 125,
   "id": "fad51df8-81d0-405a-94ee-64fd9abc8941",
   "metadata": {},
   "outputs": [
    {
     "data": {
      "text/plain": [
       "51"
      ]
     },
     "execution_count": 125,
     "metadata": {},
     "output_type": "execute_result"
    }
   ],
   "source": [
    "#Count values in state variable\n",
    "df['state'].nunique(dropna = False)"
   ]
  },
  {
   "cell_type": "code",
   "execution_count": 126,
   "id": "afd09faa-2a6f-4925-ba7a-47972cab6699",
   "metadata": {},
   "outputs": [],
   "source": [
    "#Allocate states to regions\n",
    "region = []\n",
    "for value in df['state']:\n",
    "  if value in ['Maine', 'New Hampshire', 'Vermont', 'Massachusetts', 'Rhode Island', 'Connecticut', 'New York', 'Pennsylvania', 'New Jersey']:\n",
    "    region.append('Northeast')\n",
    "  elif value in ['Wisconsin', 'Michigan', 'Illinois', 'Indiana', 'Ohio', 'North Dakota', 'South Dakota', 'Nebraska', 'Kansas', 'Minnesota', 'Iowa', 'Missouri']:\n",
    "    region.append('Midwest')\n",
    "  elif value in ['Delaware', 'Maryland', 'District of Columbia', 'Virginia', 'West Virginia', 'North Carolina', 'South Carolina', 'Georgia', 'Florida', 'Kentucky', 'Tennessee', 'Mississippi', 'Alabama', 'Oklahoma', 'Texas', 'Arkansas', 'Louisiana']:\n",
    "    region.append('South')\n",
    "  elif value in ['Idaho', 'Montana', 'Wyoming', 'Nevada', 'Utah', 'Colorado', 'Arizona', 'New Mexico', 'Alaska', 'Washington', 'Oregon', 'California', 'Hawaii']:\n",
    "    region.append('West')\n",
    "  else:\n",
    "    region.append('Unallocated') \n",
    "\n",
    "#Assign result to a new column\n",
    "df['region'] = region\n",
    "\n",
    "# Define the desired categorical order\n",
    "region_order = ['West', 'Midwest', 'South', 'Northeast']\n",
    "\n",
    "# Convert to an ordered categorical variable\n",
    "df['region'] = pd.Categorical(df['region'], categories=region_order, ordered=True)"
   ]
  },
  {
   "cell_type": "code",
   "execution_count": 127,
   "id": "567b789e-d3c1-4c76-860f-2600ebb26c57",
   "metadata": {},
   "outputs": [
    {
     "data": {
      "text/plain": [
       "(32403719, 40)"
      ]
     },
     "execution_count": 127,
     "metadata": {},
     "output_type": "execute_result"
    }
   ],
   "source": [
    "# Dimensions\n",
    "df.shape"
   ]
  },
  {
   "cell_type": "code",
   "execution_count": 128,
   "id": "7a0361e7-8c3f-482a-82c0-ff513dc6cb2d",
   "metadata": {},
   "outputs": [
    {
     "name": "stdout",
     "output_type": "stream",
     "text": [
      "category\n"
     ]
    }
   ],
   "source": [
    "# Confirm dtype\n",
    "print(df['region'].dtype)"
   ]
  },
  {
   "cell_type": "code",
   "execution_count": 129,
   "id": "6dfe66c8-3507-4ba6-96d1-5914f8a9dd76",
   "metadata": {},
   "outputs": [
    {
     "data": {
      "text/plain": [
       "region\n",
       "West          8292641\n",
       "Midwest       7597015\n",
       "South        10791513\n",
       "Northeast     5722550\n",
       "Name: count, dtype: int64"
      ]
     },
     "execution_count": 129,
     "metadata": {},
     "output_type": "execute_result"
    }
   ],
   "source": [
    "# Frequency distribution of new variable\n",
    "df['region'].value_counts(dropna=False).sort_index()"
   ]
  },
  {
   "cell_type": "code",
   "execution_count": 130,
   "id": "20500323-d2da-44d3-8d8e-13f11ec01e22",
   "metadata": {},
   "outputs": [
    {
     "data": {
      "text/plain": [
       "region\n",
       "West         52565\n",
       "Midwest      48519\n",
       "South        68737\n",
       "Northeast    36388\n",
       "Name: user_id, dtype: int64"
      ]
     },
     "execution_count": 130,
     "metadata": {},
     "output_type": "execute_result"
    }
   ],
   "source": [
    "#Group by loyalty_flag and count the unique user_ids per flag\n",
    "df.groupby('region', observed=False)['user_id'].nunique()"
   ]
  },
  {
   "cell_type": "code",
   "execution_count": 131,
   "id": "4d4ea479-9f30-4b57-a477-69fd31fd26c8",
   "metadata": {},
   "outputs": [
    {
     "data": {
      "text/plain": [
       "<Axes: xlabel='region'>"
      ]
     },
     "execution_count": 131,
     "metadata": {},
     "output_type": "execute_result"
    },
    {
     "data": {
      "image/png": "[encoded data removed]",
      "text/plain": [
       "<Figure size 640x480 with 1 Axes>"
      ]
     },
     "metadata": {},
     "output_type": "display_data"
    }
   ],
   "source": [
    "# Create a bar chart\n",
    "df['region'].value_counts().sort_index().plot.bar()"
   ]
  },
  {
   "cell_type": "markdown",
   "id": "b724558b-ca95-4e91-8f01-b3ad5de66dea",
   "metadata": {},
   "source": [
    "### 2.5.2. age"
   ]
  },
  {
   "cell_type": "code",
   "execution_count": 132,
   "id": "0e2e2c7f-14db-4e5a-bf58-add4c9a920e8",
   "metadata": {},
   "outputs": [
    {
     "data": {
      "text/plain": [
       "age\n",
       "18    500446\n",
       "19    519596\n",
       "20    502830\n",
       "21    512511\n",
       "22    513815\n",
       "       ...  \n",
       "77    502108\n",
       "78    495299\n",
       "79    529724\n",
       "80    515224\n",
       "81    509282\n",
       "Name: count, Length: 64, dtype: int64"
      ]
     },
     "execution_count": 132,
     "metadata": {},
     "output_type": "execute_result"
    }
   ],
   "source": [
    "# Frequency distribution of new variable\n",
    "df['age'].value_counts().sort_index()"
   ]
  },
  {
   "cell_type": "code",
   "execution_count": 133,
   "id": "36899ace-8ca3-4f7a-b372-1ba87d798e61",
   "metadata": {},
   "outputs": [
    {
     "data": {
      "text/plain": [
       "count    3.240372e+07\n",
       "mean     4.946528e+01\n",
       "std      1.848556e+01\n",
       "min      1.800000e+01\n",
       "25%      3.300000e+01\n",
       "50%      4.900000e+01\n",
       "75%      6.500000e+01\n",
       "max      8.100000e+01\n",
       "Name: age, dtype: float64"
      ]
     },
     "execution_count": 133,
     "metadata": {},
     "output_type": "execute_result"
    }
   ],
   "source": [
    "df['age'].describe()"
   ]
  },
  {
   "cell_type": "code",
   "execution_count": 134,
   "id": "1daef2e1-200c-4e08-a158-a92bc317562c",
   "metadata": {},
   "outputs": [],
   "source": [
    "#Allocate age\n",
    "age = []\n",
    "for value in df['age']:\n",
    "  if value <= 25:\n",
    "    age.append('Young Adult')\n",
    "  elif value <= 45:\n",
    "    age.append('Adult')\n",
    "  elif value <= 65:\n",
    "    age.append('Middle Aged')\n",
    "  else:\n",
    "    age.append('Senior')\n",
    "\n",
    "#Assign result to a new column\n",
    "df['age_profile'] = age\n",
    "\n",
    "# Define the desired categorical order\n",
    "age_order = ['Young Adult', 'Adult', 'Middle Aged', 'Senior']\n",
    "\n",
    "# Convert to an ordered categorical variable\n",
    "df['age_profile'] = pd.Categorical(df['age_profile'], categories=age_order, ordered=True)"
   ]
  },
  {
   "cell_type": "code",
   "execution_count": 135,
   "id": "f7925c00-595b-4ec1-88bd-d93af51101ee",
   "metadata": {},
   "outputs": [
    {
     "data": {
      "text/plain": [
       "(32403719, 41)"
      ]
     },
     "execution_count": 135,
     "metadata": {},
     "output_type": "execute_result"
    }
   ],
   "source": [
    "# Dimensions\n",
    "df.shape"
   ]
  },
  {
   "cell_type": "code",
   "execution_count": 136,
   "id": "368266ab-c4f2-49be-856c-2d006a8bf48e",
   "metadata": {},
   "outputs": [
    {
     "name": "stdout",
     "output_type": "stream",
     "text": [
      "category\n"
     ]
    }
   ],
   "source": [
    "# Confirm dtype\n",
    "print(df['age_profile'].dtype)"
   ]
  },
  {
   "cell_type": "code",
   "execution_count": 137,
   "id": "586bf0d8-4b4c-41d8-b608-09f78964fa43",
   "metadata": {},
   "outputs": [
    {
     "data": {
      "text/plain": [
       "age_profile\n",
       "Young Adult     4045031\n",
       "Adult          10155790\n",
       "Middle Aged    10115107\n",
       "Senior          8087791\n",
       "Name: count, dtype: int64"
      ]
     },
     "execution_count": 137,
     "metadata": {},
     "output_type": "execute_result"
    }
   ],
   "source": [
    "# Frequency distribution of new variable\n",
    "df['age_profile'].value_counts(dropna=False).sort_index()"
   ]
  },
  {
   "cell_type": "code",
   "execution_count": 138,
   "id": "1811ba1a-1f4e-44a6-a4d8-687f5c4093e4",
   "metadata": {},
   "outputs": [
    {
     "data": {
      "text/plain": [
       "age_profile\n",
       "Young Adult    25687\n",
       "Adult          64516\n",
       "Middle Aged    64422\n",
       "Senior         51584\n",
       "Name: user_id, dtype: int64"
      ]
     },
     "execution_count": 138,
     "metadata": {},
     "output_type": "execute_result"
    }
   ],
   "source": [
    "#Group by loyalty_flag and count the unique user_ids per flag\n",
    "df.groupby('age_profile', observed=False)['user_id'].nunique()"
   ]
  },
  {
   "cell_type": "code",
   "execution_count": 139,
   "id": "3e1ae4c1-5858-4363-92cd-e8a9bf60f88b",
   "metadata": {},
   "outputs": [
    {
     "data": {
      "text/plain": [
       "<Axes: xlabel='age_profile'>"
      ]
     },
     "execution_count": 139,
     "metadata": {},
     "output_type": "execute_result"
    },
    {
     "data": {
      "image/png": "[encoded data removed]",
      "text/plain": [
       "<Figure size 640x480 with 1 Axes>"
      ]
     },
     "metadata": {},
     "output_type": "display_data"
    }
   ],
   "source": [
    "# Create a bar chart\n",
    "df['age_profile'].value_counts().sort_index().plot.bar()"
   ]
  },
  {
   "cell_type": "markdown",
   "id": "0319acd9-cb72-47b7-bac9-9136d9018bea",
   "metadata": {},
   "source": [
    "### 2.5.3. income"
   ]
  },
  {
   "cell_type": "code",
   "execution_count": 140,
   "id": "6fcd176a-4f89-4d0a-9763-8a71f5c0d831",
   "metadata": {},
   "outputs": [
    {
     "data": {
      "text/plain": [
       "income\n",
       "25903      20\n",
       "25911      28\n",
       "25937      39\n",
       "25941      31\n",
       "25955     392\n",
       "         ... \n",
       "584097    826\n",
       "590790     54\n",
       "591089    176\n",
       "592409    318\n",
       "593901    640\n",
       "Name: count, Length: 108012, dtype: int64"
      ]
     },
     "execution_count": 140,
     "metadata": {},
     "output_type": "execute_result"
    }
   ],
   "source": [
    "# Frequency distribution of new variable\n",
    "df['income'].value_counts().sort_index()"
   ]
  },
  {
   "cell_type": "code",
   "execution_count": 141,
   "id": "5da4bdcc-59ca-40aa-ab24-b5942a2bbf4c",
   "metadata": {},
   "outputs": [
    {
     "data": {
      "text/plain": [
       "count    3.240372e+07\n",
       "mean     9.943758e+04\n",
       "std      4.305685e+04\n",
       "min      2.590300e+04\n",
       "25%      6.700300e+04\n",
       "50%      9.661700e+04\n",
       "75%      1.279120e+05\n",
       "max      5.939010e+05\n",
       "Name: income, dtype: float64"
      ]
     },
     "execution_count": 141,
     "metadata": {},
     "output_type": "execute_result"
    }
   ],
   "source": [
    "df['income'].describe()"
   ]
  },
  {
   "cell_type": "code",
   "execution_count": 142,
   "id": "b55797b9-2d61-4515-b7b0-123e1f809da2",
   "metadata": {},
   "outputs": [],
   "source": [
    "#Allocate income\n",
    "income = []\n",
    "for value in df['income']:\n",
    "  if value <= 65000:\n",
    "    income.append('Low Income')\n",
    "  elif value <= 125000:\n",
    "    income.append('Middle Income')\n",
    "  else:\n",
    "    income.append('High Income')\n",
    "\n",
    "#Assign result to a new column\n",
    "df['income_profile'] = income\n",
    "\n",
    "# Define the desired categorical order\n",
    "income_order = ['Low Income', 'Middle Income', 'High Income']\n",
    "\n",
    "# Convert to an ordered categorical variable\n",
    "df['income_profile'] = pd.Categorical(df['income_profile'], categories=income_order, ordered=True)"
   ]
  },
  {
   "cell_type": "code",
   "execution_count": 143,
   "id": "7922c80b-544b-4dcf-b855-5795fa9b388f",
   "metadata": {},
   "outputs": [
    {
     "data": {
      "text/plain": [
       "(32403719, 42)"
      ]
     },
     "execution_count": 143,
     "metadata": {},
     "output_type": "execute_result"
    }
   ],
   "source": [
    "# Dimensions\n",
    "df.shape"
   ]
  },
  {
   "cell_type": "code",
   "execution_count": 144,
   "id": "f1f21606-654d-4e2c-97ff-9b03313c86bb",
   "metadata": {},
   "outputs": [
    {
     "name": "stdout",
     "output_type": "stream",
     "text": [
      "category\n"
     ]
    }
   ],
   "source": [
    "# Confirm dtype\n",
    "print(df['income_profile'].dtype)"
   ]
  },
  {
   "cell_type": "code",
   "execution_count": 145,
   "id": "ad79ed04-5d4b-421d-ad54-65a160574949",
   "metadata": {},
   "outputs": [
    {
     "data": {
      "text/plain": [
       "income_profile\n",
       "Low Income        7520933\n",
       "Middle Income    16252145\n",
       "High Income       8630641\n",
       "Name: count, dtype: int64"
      ]
     },
     "execution_count": 145,
     "metadata": {},
     "output_type": "execute_result"
    }
   ],
   "source": [
    "# Frequency distribution of new variable\n",
    "df['income_profile'].value_counts(dropna=False).sort_index()"
   ]
  },
  {
   "cell_type": "code",
   "execution_count": 146,
   "id": "9b585caf-e020-464b-80f0-99da6cdc9288",
   "metadata": {},
   "outputs": [
    {
     "data": {
      "text/plain": [
       "income_profile\n",
       "Low Income       59716\n",
       "Middle Income    95749\n",
       "High Income      50744\n",
       "Name: user_id, dtype: int64"
      ]
     },
     "execution_count": 146,
     "metadata": {},
     "output_type": "execute_result"
    }
   ],
   "source": [
    "#Group by loyalty_flag and count the unique user_ids per flag\n",
    "df.groupby('income_profile', observed=False)['user_id'].nunique()"
   ]
  },
  {
   "cell_type": "code",
   "execution_count": 147,
   "id": "0443ac1b-62de-41dc-9a57-739ced7b38cb",
   "metadata": {},
   "outputs": [
    {
     "data": {
      "text/plain": [
       "<Axes: xlabel='income_profile'>"
      ]
     },
     "execution_count": 147,
     "metadata": {},
     "output_type": "execute_result"
    },
    {
     "data": {
      "image/png": "[encoded data removed]",
      "text/plain": [
       "<Figure size 640x480 with 1 Axes>"
      ]
     },
     "metadata": {},
     "output_type": "display_data"
    }
   ],
   "source": [
    "# Create a bar chart\n",
    "df['income_profile'].value_counts().sort_index().plot.bar()"
   ]
  },
  {
   "cell_type": "markdown",
   "id": "53b50d5e-0b0c-4ae5-9803-fb877db49375",
   "metadata": {},
   "source": [
    "### 2.5.4. parental_status"
   ]
  },
  {
   "cell_type": "code",
   "execution_count": 148,
   "id": "eb759d4b-f9c3-4358-a37b-3e78d61b7da4",
   "metadata": {},
   "outputs": [
    {
     "data": {
      "text/plain": [
       "number_of_dependants\n",
       "0    8097297\n",
       "1    8080806\n",
       "2    8090893\n",
       "3    8134723\n",
       "Name: count, dtype: int64"
      ]
     },
     "execution_count": 148,
     "metadata": {},
     "output_type": "execute_result"
    }
   ],
   "source": [
    "# Frequency distribution of new variable\n",
    "df['number_of_dependants'].value_counts().sort_index()"
   ]
  },
  {
   "cell_type": "code",
   "execution_count": 149,
   "id": "fedbc773-cf5d-4ad0-ab4c-23c7471658c4",
   "metadata": {},
   "outputs": [],
   "source": [
    "#Allocate dependents\n",
    "parent = []\n",
    "for value in df['number_of_dependants']:\n",
    "  if value == 0:\n",
    "    parent.append('non-parent')\n",
    "  elif value > 0:\n",
    "    parent.append('parent')\n",
    "  else:\n",
    "    parent.append('unallocated')\n",
    "\n",
    "#Assign result to a new column\n",
    "df['parental_status'] = parent\n",
    "\n",
    "# Define the desired categorical order\n",
    "parental_order = ['non-parent', 'parent']\n",
    "\n",
    "# Convert to an ordered categorical variable\n",
    "df['parental_status'] = pd.Categorical(df['parental_status'], categories=parental_order, ordered=True)"
   ]
  },
  {
   "cell_type": "code",
   "execution_count": 150,
   "id": "840df420-4c03-420f-8010-7cce5ddd3b22",
   "metadata": {},
   "outputs": [
    {
     "data": {
      "text/plain": [
       "(32403719, 43)"
      ]
     },
     "execution_count": 150,
     "metadata": {},
     "output_type": "execute_result"
    }
   ],
   "source": [
    "# Dimensions\n",
    "df.shape"
   ]
  },
  {
   "cell_type": "code",
   "execution_count": 151,
   "id": "7fdd6773-ff82-498b-bb41-3247e5128fb1",
   "metadata": {},
   "outputs": [
    {
     "name": "stdout",
     "output_type": "stream",
     "text": [
      "category\n"
     ]
    }
   ],
   "source": [
    "# Confirm dtype\n",
    "print(df['parental_status'].dtype)"
   ]
  },
  {
   "cell_type": "code",
   "execution_count": 152,
   "id": "54369922-3c1f-4c70-8148-874296368c3e",
   "metadata": {},
   "outputs": [
    {
     "data": {
      "text/plain": [
       "parental_status\n",
       "non-parent     8097297\n",
       "parent        24306422\n",
       "Name: count, dtype: int64"
      ]
     },
     "execution_count": 152,
     "metadata": {},
     "output_type": "execute_result"
    }
   ],
   "source": [
    "# Frequency distribution of new variable\n",
    "df['parental_status'].value_counts(dropna=False).sort_index()"
   ]
  },
  {
   "cell_type": "code",
   "execution_count": 153,
   "id": "90a5103e-943e-496a-85ae-34c44baa10a2",
   "metadata": {},
   "outputs": [
    {
     "data": {
      "text/plain": [
       "parental_status\n",
       "non-parent     51602\n",
       "parent        154607\n",
       "Name: user_id, dtype: int64"
      ]
     },
     "execution_count": 153,
     "metadata": {},
     "output_type": "execute_result"
    }
   ],
   "source": [
    "#Group by loyalty_flag and count the unique user_ids per flag\n",
    "df.groupby('parental_status', observed=False)['user_id'].nunique()"
   ]
  },
  {
   "cell_type": "markdown",
   "id": "5ce7ee4b-7220-4aa2-8431-b8dfbee4df9b",
   "metadata": {},
   "source": [
    "### 3.5.5. marital_status"
   ]
  },
  {
   "cell_type": "code",
   "execution_count": 154,
   "id": "53712057-0470-4301-904e-1b1746bb9c1b",
   "metadata": {},
   "outputs": [
    {
     "data": {
      "text/plain": [
       "marital_status\n",
       "divorced/widowed                     2771700\n",
       "living with parents and siblings     1550545\n",
       "married                             22755877\n",
       "single                               5325597\n",
       "Name: count, dtype: int64"
      ]
     },
     "execution_count": 154,
     "metadata": {},
     "output_type": "execute_result"
    }
   ],
   "source": [
    "# Frequency distribution of the variable \n",
    "df['marital_status'].value_counts().sort_index()"
   ]
  },
  {
   "cell_type": "markdown",
   "id": "ec5399d4-da53-4ea8-8d65-78723fc00abf",
   "metadata": {},
   "source": [
    "### 3.5.6. family_status"
   ]
  },
  {
   "cell_type": "code",
   "execution_count": 155,
   "id": "111165d5-33fd-4b60-99b9-9678d26cc292",
   "metadata": {},
   "outputs": [
    {
     "data": {
      "text/html": [
       "<div>\n",
       "<style scoped>\n",
       "    .dataframe tbody tr th:only-of-type {\n",
       "        vertical-align: middle;\n",
       "    }\n",
       "\n",
       "    .dataframe tbody tr th {\n",
       "        vertical-align: top;\n",
       "    }\n",
       "\n",
       "    .dataframe thead th {\n",
       "        text-align: right;\n",
       "    }\n",
       "</style>\n",
       "<table border=\"1\" class=\"dataframe\">\n",
       "  <thead>\n",
       "    <tr style=\"text-align: right;\">\n",
       "      <th>parental_status</th>\n",
       "      <th>non-parent</th>\n",
       "      <th>parent</th>\n",
       "    </tr>\n",
       "    <tr>\n",
       "      <th>marital_status</th>\n",
       "      <th></th>\n",
       "      <th></th>\n",
       "    </tr>\n",
       "  </thead>\n",
       "  <tbody>\n",
       "    <tr>\n",
       "      <th>divorced/widowed</th>\n",
       "      <td>2771700</td>\n",
       "      <td>0</td>\n",
       "    </tr>\n",
       "    <tr>\n",
       "      <th>living with parents and siblings</th>\n",
       "      <td>0</td>\n",
       "      <td>1550545</td>\n",
       "    </tr>\n",
       "    <tr>\n",
       "      <th>married</th>\n",
       "      <td>0</td>\n",
       "      <td>22755877</td>\n",
       "    </tr>\n",
       "    <tr>\n",
       "      <th>single</th>\n",
       "      <td>5325597</td>\n",
       "      <td>0</td>\n",
       "    </tr>\n",
       "  </tbody>\n",
       "</table>\n",
       "</div>"
      ],
      "text/plain": [
       "parental_status                   non-parent    parent\n",
       "marital_status                                        \n",
       "divorced/widowed                     2771700         0\n",
       "living with parents and siblings           0   1550545\n",
       "married                                    0  22755877\n",
       "single                               5325597         0"
      ]
     },
     "execution_count": 155,
     "metadata": {},
     "output_type": "execute_result"
    }
   ],
   "source": [
    "#Cross variables\n",
    "marital_vs_parental_status = pd.crosstab(df['marital_status'], df['parental_status'], dropna = False)\n",
    "marital_vs_parental_status"
   ]
  },
  {
   "cell_type": "code",
   "execution_count": 156,
   "id": "af3d17d5-9ff1-43b6-85ea-fd5f07d70972",
   "metadata": {},
   "outputs": [],
   "source": [
    "#Allocate family status\n",
    "family = []\n",
    "for value in df['marital_status']:\n",
    "  if value == 'divorced/widowed':\n",
    "    family.append('Single Adult')\n",
    "  elif value == 'single':\n",
    "    family.append('Single Adult')\n",
    "  elif value == 'living with parents and siblings':\n",
    "    family.append('Young Parent')\n",
    "  elif value == 'married':\n",
    "    family.append('Family')\n",
    "  else:\n",
    "    family.append('unallocated')\n",
    "\n",
    "#Assign result to a new column\n",
    "df['family_status'] = family\n",
    "\n",
    "# Define the desired categorical order\n",
    "family_order = ['Single Adult', 'Young Parent', 'Family']\n",
    "\n",
    "# Convert to an ordered categorical variable\n",
    "df['family_status'] = pd.Categorical(df['family_status'], categories=family_order, ordered=True)"
   ]
  },
  {
   "cell_type": "code",
   "execution_count": 157,
   "id": "31b3dfa3-437d-464b-9c14-e7f2553eb7a7",
   "metadata": {},
   "outputs": [
    {
     "data": {
      "text/plain": [
       "(32403719, 44)"
      ]
     },
     "execution_count": 157,
     "metadata": {},
     "output_type": "execute_result"
    }
   ],
   "source": [
    "# Dimensions\n",
    "df.shape"
   ]
  },
  {
   "cell_type": "code",
   "execution_count": 158,
   "id": "94cc686b-e619-4331-8953-48cd6387ce9a",
   "metadata": {},
   "outputs": [
    {
     "name": "stdout",
     "output_type": "stream",
     "text": [
      "category\n"
     ]
    }
   ],
   "source": [
    "# Confirm dtype\n",
    "print(df['family_status'].dtype)"
   ]
  },
  {
   "cell_type": "code",
   "execution_count": 159,
   "id": "7991b48d-b57a-4b70-a31c-ac7c71f869c7",
   "metadata": {},
   "outputs": [
    {
     "data": {
      "text/plain": [
       "family_status\n",
       "Single Adult     8097297\n",
       "Young Parent     1550545\n",
       "Family          22755877\n",
       "Name: count, dtype: int64"
      ]
     },
     "execution_count": 159,
     "metadata": {},
     "output_type": "execute_result"
    }
   ],
   "source": [
    "# Frequency distribution of new variable\n",
    "df['family_status'].value_counts(dropna=False).sort_index()"
   ]
  },
  {
   "cell_type": "code",
   "execution_count": 160,
   "id": "3e0e39be-2a47-4e59-9b0a-9d5c877000ab",
   "metadata": {},
   "outputs": [
    {
     "data": {
      "text/plain": [
       "family_status\n",
       "Single Adult     51602\n",
       "Young Parent      9701\n",
       "Family          144906\n",
       "Name: user_id, dtype: int64"
      ]
     },
     "execution_count": 160,
     "metadata": {},
     "output_type": "execute_result"
    }
   ],
   "source": [
    "#Group by loyalty_flag and count the unique user_ids per flag\n",
    "df.groupby('family_status', observed=False)['user_id'].nunique()"
   ]
  },
  {
   "cell_type": "code",
   "execution_count": 161,
   "id": "6a24cd94-c686-4a10-8bea-340000c22b7d",
   "metadata": {},
   "outputs": [
    {
     "data": {
      "text/plain": [
       "<Axes: xlabel='family_status'>"
      ]
     },
     "execution_count": 161,
     "metadata": {},
     "output_type": "execute_result"
    },
    {
     "data": {
      "image/png": "[encoded data removed]",
      "text/plain": [
       "<Figure size 640x480 with 1 Axes>"
      ]
     },
     "metadata": {},
     "output_type": "display_data"
    }
   ],
   "source": [
    "# Create a bar chart\n",
    "df['family_status'].value_counts().sort_index().plot.bar()"
   ]
  },
  {
   "cell_type": "markdown",
   "id": "953b6c61-5e1d-495f-b8da-853a02d17e76",
   "metadata": {},
   "source": [
    "# 3. Exports"
   ]
  },
  {
   "cell_type": "code",
   "execution_count": 162,
   "id": "be65de34-e859-48a4-917a-bf9f8bef6856",
   "metadata": {},
   "outputs": [
    {
     "data": {
      "text/plain": [
       "(32403719, 44)"
      ]
     },
     "execution_count": 162,
     "metadata": {},
     "output_type": "execute_result"
    }
   ],
   "source": [
    "# Dimensions\n",
    "df.shape"
   ]
  },
  {
   "cell_type": "code",
   "execution_count": 163,
   "id": "2e1447d8-f56b-4b8e-902a-e1ad5b8cdcac",
   "metadata": {},
   "outputs": [],
   "source": [
    "#Export merged dataset\n",
    "df.to_pickle(os.path.join(path, '02 - Data', 'Prepared Data', '07_modelled_dataset.pkl'))"
   ]
  }
 ],
 "metadata": {
  "kernelspec": {
   "display_name": "base",
   "language": "python",
   "name": "python3"
  },
  "language_info": {
   "codemirror_mode": {
    "name": "ipython",
    "version": 3
   },
   "file_extension": ".py",
   "mimetype": "text/x-python",
   "name": "python",
   "nbconvert_exporter": "python",
   "pygments_lexer": "ipython3",
   "version": "3.12.2"
  }
 },
 "nbformat": 4,
 "nbformat_minor": 5
}
